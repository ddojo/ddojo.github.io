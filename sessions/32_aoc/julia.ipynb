{
 "cells": [
  {
   "cell_type": "code",
   "execution_count": 2,
   "id": "4b108e",
   "metadata": {
    "collapsed": false
   },
   "outputs": [
    {
     "data": {
      "text/plain": [
       "\"Andi → Chris → Caro → Kerstin → Jana\""
      ]
     },
     "execution_count": 2,
     "metadata": {
     },
     "output_type": "execute_result"
    }
   ],
   "source": [
    "\n",
    "using Random\n",
    "Random.seed!(42)\n",
    "\"Andi Kerstin Chris Caro Jana\" |> split |> shuffle |> x -> join(x,\" → \")\n"
   ]
  },
  {
   "cell_type": "code",
   "execution_count": 3,
   "id": "d4a787",
   "metadata": {
    "collapsed": false
   },
   "outputs": [
    {
     "name": "stderr",
     "output_type": "stream",
     "text": [
      "\u001b[36m\u001b[1m[ \u001b[22m\u001b[39m\u001b[36m\u001b[1mInfo: \u001b[22m\u001b[39mPrecompiling DelimitedFiles [8bb1440f-4735-579b-a4ab-409b98df4dab]\n"
     ]
    }
   ],
   "source": [
    "using DelimitedFiles"
   ]
  },
  {
   "cell_type": "code",
   "execution_count": 40,
   "id": "ec02ca",
   "metadata": {
    "collapsed": false
   },
   "outputs": [
    {
     "data": {
      "text/plain": [
       "1176×2 Matrix{Any}:\n",
       " 57  24\n",
       " 64  37\n",
       " 64  45\n",
       " 19  47\n",
       " 19  45\n",
       " 19  95\n",
       " 98  57\n",
       " 98  37\n",
       " 98  34\n",
       " 98  87\n",
       " 96  87\n",
       " 96  74\n",
       " 96  37\n",
       "  ⋮  \n",
       " 22  62\n",
       " 22  97\n",
       " 93  55\n",
       " 93  75\n",
       " 93  47\n",
       " 93  48\n",
       " 44  78\n",
       " 44  27\n",
       " 44  99\n",
       " 81  54\n",
       " 81  19\n",
       " 87  64"
      ]
     },
     "execution_count": 40,
     "metadata": {
     },
     "output_type": "execute_result"
    }
   ],
   "source": [
    "rules=readdlm(\"input\", '|')[1:1176,:]"
   ]
  },
  {
   "cell_type": "code",
   "execution_count": 39,
   "id": "d8d9d2",
   "metadata": {
    "collapsed": false
   },
   "outputs": [
    {
     "data": {
      "text/plain": [
       "223×23 Matrix{Any}:\n",
       " 13  19  52  14  65  96  62  98    …    \"\"    \"\"    \"\"    \"\"    \"\"    \"\"\n",
       " 26  11  93  84  95  45  63  89         \"\"    \"\"    \"\"    \"\"    \"\"    \"\"\n",
       " 97  57  95  26  73  34  81  91         \"\"    \"\"    \"\"    \"\"    \"\"    \"\"\n",
       " 74  91  42  62  87  27  53  98       26    34      \"\"    \"\"    \"\"    \"\"\n",
       " 87  55  94  65  91  98  44  14         \"\"    \"\"    \"\"    \"\"    \"\"    \"\"\n",
       " 26  95  84  93  68  48  35  76    …  69    65    14    52    13    22\n",
       " 67  91  62  92  64  37  19  26         \"\"    \"\"    \"\"    \"\"    \"\"    \"\"\n",
       " 95  38  94  89  69  13  44    \"\"       \"\"    \"\"    \"\"    \"\"    \"\"    \"\"\n",
       " 76  47  38  11  94  24  89  55       98    73    81    87      \"\"    \"\"\n",
       " 19  97  92  64  57  74  37  63       38    11      \"\"    \"\"    \"\"    \"\"\n",
       " 74  62  37  67  92  38  34  57    …    \"\"    \"\"    \"\"    \"\"    \"\"    \"\"\n",
       " 65  42  58  73  97  92  53  54         \"\"    \"\"    \"\"    \"\"    \"\"    \"\"\n",
       " 87  91  58  53  99  62  19  97         \"\"    \"\"    \"\"    \"\"    \"\"    \"\"\n",
       "  ⋮                   ⋮            ⋱                     ⋮          \n",
       " 73  89  13  44  14  47  76  75       94    81    96    98      \"\"    \"\"\n",
       " 84  93  48  76  45  47  38  11       22    44      \"\"    \"\"    \"\"    \"\"\n",
       " 97  54  87  19  91  75  69  99         \"\"    \"\"    \"\"    \"\"    \"\"    \"\"\n",
       " 24  69  87  78  55  13  58  22         \"\"    \"\"    \"\"    \"\"    \"\"    \"\"\n",
       " 62  19  74  27  95  84  38    \"\"  …    \"\"    \"\"    \"\"    \"\"    \"\"    \"\"\n",
       " 58  99  62  54  97  92  64  57       48    76      \"\"    \"\"    \"\"    \"\"\n",
       " 14  13  22  87  42  58  53  62         \"\"    \"\"    \"\"    \"\"    \"\"    \"\"\n",
       " 48  97  26  38  84  34  27  63       45    68      \"\"    \"\"    \"\"    \"\"\n",
       " 27  69  75  76  12  95  47  68       14    34    24    48      \"\"    \"\"\n",
       " 87  52  55  14  13  47  94  24    …  98    73    75    22    12    44\n",
       " 52  13  73  87  91  54  19  97         \"\"    \"\"    \"\"    \"\"    \"\"    \"\"\n",
       " 34  67  27  95  84  93  48  45         \"\"    \"\"    \"\"    \"\"    \"\"    \"\""
      ]
     },
     "execution_count": 39,
     "metadata": {
     },
     "output_type": "execute_result"
    }
   ],
   "source": [
    "data=readdlm(\"input\", ',')[1177:end,:]"
   ]
  },
  {
   "cell_type": "code",
   "execution_count": 46,
   "id": "628954",
   "metadata": {
    "collapsed": false
   },
   "outputs": [
    {
     "data": {
      "text/plain": [
       "223-element Vector{Vector{Int64}}:\n",
       " [13, 19, 52, 14, 65, 96, 62, 98, 58, 73, 97, 92, 91, 87, 44, 54, 42]\n",
       " [26, 11, 93, 84, 95, 45, 63, 89, 27, 65, 55]\n",
       " [97, 57, 95, 26, 73, 34, 81, 91, 54, 64, 74]\n",
       " [74, 91, 42, 62, 87, 27, 53, 98, 81, 92, 97, 99, 54, 63, 57, 67, 96, 26, 34]\n",
       " [87, 55, 94, 65, 91, 98, 44, 14, 69, 78, 75, 47, 45, 89, 81]\n",
       " [26, 95, 84, 93, 68, 48, 35, 76, 47, 38  …  89, 55, 12, 75, 69, 65, 14, 52, 13, 22]\n",
       " [67, 91, 62, 92, 64, 37, 19, 26, 58, 81, 54, 96, 98]\n",
       " [95, 38, 94, 89, 69, 13, 44]\n",
       " [76, 47, 38, 11, 94, 24, 89, 55, 12, 75  …  65, 14, 13, 22, 78, 96, 98, 73, 81, 87]\n",
       " [19, 97, 92, 64, 57, 74, 37, 63, 67, 27, 26, 95, 84, 93, 68, 48, 45, 38, 11]\n",
       " [74, 62, 37, 67, 92, 38, 34, 57, 93]\n",
       " [65, 42, 58, 73, 97, 92, 53, 54, 87, 57, 22, 98, 78, 81, 52, 96, 14]\n",
       " [87, 91, 58, 53, 99, 62, 19, 97, 64, 74, 37, 63, 34, 67, 95, 93, 68]\n",
       " ⋮\n",
       " [73, 89, 13, 44, 14, 47, 76, 75, 65, 45  …  52, 24, 69, 78, 35, 11, 94, 81, 96, 98]\n",
       " [84, 93, 48, 76, 45, 47, 38, 11, 94, 24, 89, 55, 12, 69, 65, 14, 13, 22, 44]\n",
       " [97, 54, 87, 19, 91, 75, 69, 99, 52, 96, 12, 13, 73, 62, 65]\n",
       " [24, 69, 87, 78, 55, 13, 58, 22, 11, 96, 12, 65, 52, 89, 38]\n",
       " [62, 19, 74, 27, 95, 84, 38]\n",
       " [58, 99, 62, 54, 97, 92, 64, 57, 74, 63, 34, 67, 27, 95, 84, 93, 68, 48, 76]\n",
       " [14, 13, 22, 87, 42, 58, 53, 62, 54, 97, 92, 57, 74]\n",
       " [48, 97, 26, 38, 84, 34, 27, 63, 94, 95, 57, 93, 76, 35, 64, 37, 19, 45, 68]\n",
       " [27, 69, 75, 76, 12, 95, 47, 68, 67, 45  …  55, 38, 35, 93, 94, 84, 14, 34, 24, 48]\n",
       " [87, 52, 55, 14, 13, 47, 94, 24, 69, 65  …  45, 38, 89, 81, 98, 73, 75, 22, 12, 44]\n",
       " [52, 13, 73, 87, 91, 54, 19, 97, 37]\n",
       " [34, 67, 27, 95, 84, 93, 48, 45, 38, 11, 94, 12, 75, 65, 14]"
      ]
     },
     "execution_count": 46,
     "metadata": {
     },
     "output_type": "execute_result"
    }
   ],
   "source": [
    "data2 = Vector{Vector{Int64}}(undef, 223)\n",
    "for i in 1:223\n",
    "    data2[i] = data[i, typeof.(data[i, :]) .== Int64]\n",
    "end\n",
    "data = data2"
   ]
  },
  {
   "cell_type": "code",
   "execution_count": 60,
   "id": "5889c8",
   "metadata": {
    "collapsed": false
   },
   "outputs": [
   ],
   "source": [
    "filtered = Vector{Vector{Int64}}()\n",
    "for list in data\n",
    "    passed = true\n",
    "    for row in 1:size(rules)[1]\n",
    "        if !(rules[row,1] in list && rules[row,2] in list)\n",
    "            continue\n",
    "        end\n",
    "        pos1 = findfirst(list .== rules[row, 1])\n",
    "        pos2 = findfirst(list .== rules[row, 2])\n",
    "        if pos1 > pos2\n",
    "            passed = false\n",
    "            break\n",
    "        end\n",
    "    end\n",
    "    if passed\n",
    "        push!(filtered, list)\n",
    "    end\n",
    "end"
   ]
  },
  {
   "cell_type": "code",
   "execution_count": 74,
   "id": "0e7bcd",
   "metadata": {
    "collapsed": false
   },
   "outputs": [
    {
     "data": {
      "text/plain": [
       "6505"
      ]
     },
     "execution_count": 74,
     "metadata": {
     },
     "output_type": "execute_result"
    }
   ],
   "source": [
    "count = 0\n",
    "for list in filtered\n",
    "    count += list[Int(length(list)/2 +0.5)]\n",
    "end\n",
    "count"
   ]
  },
  {
   "cell_type": "code",
   "execution_count": 0,
   "id": "a9a6f8",
   "metadata": {
    "collapsed": false
   },
   "outputs": [
   ],
   "source": [
   ]
  }
 ],
 "metadata": {
  "kernelspec": {
   "argv": [
    "/ext/julia/julia-1.10/bin/julia",
    "-i",
    "--startup-file=yes",
    "--color=yes",
    "/ext/julia/depot/packages/IJulia/Vo51o/src/kernel.jl",
    "{connection_file}"
   ],
   "display_name": "Julia 1.10",
   "env": {
    "JULIA_DEPOT_PATH": "/home/user/.julia/:/ext/julia/depot/",
    "JULIA_PROJECT": "/home/user/.julia/environment/v1.10"
   },
   "language": "julia",
   "metadata": {
    "cocalc": {
     "description": "The Julia Programming Language",
     "priority": 5,
     "url": "https://julialang.org/"
    }
   },
   "name": "julia-1.10",
   "resource_dir": "/ext/jupyter/kernels/julia-1.10"
  },
  "language_info": {
   "file_extension": ".jl",
   "mimetype": "application/julia",
   "name": "julia",
   "version": "1.10.4"
  }
 },
 "nbformat": 4,
 "nbformat_minor": 4
}