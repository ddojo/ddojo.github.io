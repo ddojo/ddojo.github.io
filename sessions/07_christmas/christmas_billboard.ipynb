{
 "cells": [
  {
   "cell_type": "markdown",
   "metadata": {
    "collapsed": false
   },
   "source": [
    "# Christmas Carols\n",
    "\n",
    "Source: https://www.kaggle.com/sharkbait1223/billboard-top-100-christmas-carol-dataset"
   ]
  },
  {
   "cell_type": "markdown",
   "metadata": {
    "collapsed": false
   },
   "source": [
    "## Question Pool\n",
    "\n",
    "- How many christmas songs have been in the top 100 (top 10) each year (plot)\n",
    "- Which song has been in the top 100 most often\n",
    "- Which song reached the highest rank each year\n",
    "- Have there been christmas songs in the top 100 in June (far away from christmas)?\n",
    "- How long was the longest a christmas song stayed in the top 100 (consecutively)?"
   ]
  },
  {
   "cell_type": "markdown",
   "metadata": {
    "collapsed": false
   },
   "source": [
    "## Data Loading"
   ]
  },
  {
   "cell_type": "code",
   "execution_count": 1,
   "metadata": {
    "collapsed": false
   },
   "outputs": [
   ],
   "source": [
    "using CSV, DataFrames"
   ]
  },
  {
   "cell_type": "code",
   "execution_count": 2,
   "metadata": {
    "collapsed": false
   },
   "outputs": [
    {
     "data": {
      "text/plain": [
       "1000"
      ]
     },
     "execution_count": 2,
     "metadata": {
     },
     "output_type": "execute_result"
    }
   ],
   "source": [
    "# increase width of output\n",
    "ENV[\"COLUMNS\"] = 1000"
   ]
  },
  {
   "cell_type": "code",
   "execution_count": 3,
   "metadata": {
    "collapsed": false
   },
   "outputs": [
    {
     "data": {
      "text/html": [
       "<table class=\"data-frame\"><thead><tr><th></th><th>url</th><th>weekid</th><th>week_position</th><th>song</th><th>performer</th><th>songid</th><th>instance</th><th>previous_week_position</th><th>peak_position</th><th>weeks_on_chart</th><th>year</th><th>month</th><th>day</th></tr><tr><th></th><th>String</th><th>String</th><th>Int64</th><th>String</th><th>String</th><th>String</th><th>Int64</th><th>Int64?</th><th>Int64</th><th>Int64</th><th>Int64</th><th>Int64</th><th>Int64</th></tr></thead><tbody><p>387 rows × 13 columns</p><tr><th>1</th><td>http://www.billboard.com/charts/hot-100/1958-12-13</td><td>12/13/1958</td><td>83</td><td>RUN RUDOLPH RUN</td><td>Chuck Berry</td><td>Run Rudolph RunChuck Berry</td><td>1</td><td><em>missing</em></td><td>69</td><td>3</td><td>1958</td><td>12</td><td>13</td></tr><tr><th>2</th><td>http://www.billboard.com/charts/hot-100/1958-12-20</td><td>12/20/1958</td><td>57</td><td>JINGLE BELL ROCK</td><td>Bobby Helms</td><td>Jingle Bell RockBobby Helms</td><td>1</td><td><em>missing</em></td><td>29</td><td>19</td><td>1958</td><td>12</td><td>20</td></tr><tr><th>3</th><td>http://www.billboard.com/charts/hot-100/1958-12-20</td><td>12/20/1958</td><td>73</td><td>RUN RUDOLPH RUN</td><td>Chuck Berry</td><td>Run Rudolph RunChuck Berry</td><td>1</td><td>83</td><td>69</td><td>3</td><td>1958</td><td>12</td><td>20</td></tr><tr><th>4</th><td>http://www.billboard.com/charts/hot-100/1958-12-20</td><td>12/20/1958</td><td>86</td><td>WHITE CHRISTMAS</td><td>Bing Crosby</td><td>White ChristmasBing Crosby</td><td>1</td><td><em>missing</em></td><td>12</td><td>13</td><td>1958</td><td>12</td><td>20</td></tr><tr><th>5</th><td>http://www.billboard.com/charts/hot-100/1958-12-27</td><td>12/27/1958</td><td>44</td><td>GREEN CHRI$TMA$</td><td>Stan Freberg</td><td>Green Chri$tma$Stan Freberg</td><td>1</td><td><em>missing</em></td><td>44</td><td>2</td><td>1958</td><td>12</td><td>27</td></tr><tr><th>6</th><td>http://www.billboard.com/charts/hot-100/1958-12-27</td><td>12/27/1958</td><td>66</td><td>WHITE CHRISTMAS</td><td>Bing Crosby</td><td>White ChristmasBing Crosby</td><td>1</td><td>86</td><td>12</td><td>13</td><td>1958</td><td>12</td><td>27</td></tr><tr><th>7</th><td>http://www.billboard.com/charts/hot-100/1958-12-27</td><td>12/27/1958</td><td>69</td><td>RUN RUDOLPH RUN</td><td>Chuck Berry</td><td>Run Rudolph RunChuck Berry</td><td>1</td><td>73</td><td>69</td><td>3</td><td>1958</td><td>12</td><td>27</td></tr><tr><th>8</th><td>http://www.billboard.com/charts/hot-100/1958-12-27</td><td>12/27/1958</td><td>35</td><td>JINGLE BELL ROCK</td><td>Bobby Helms</td><td>Jingle Bell RockBobby Helms</td><td>1</td><td>57</td><td>29</td><td>19</td><td>1958</td><td>12</td><td>27</td></tr><tr><th>9</th><td>http://www.billboard.com/charts/hot-100/1959-01-03</td><td>1/3/1959</td><td>45</td><td>JINGLE BELL ROCK</td><td>Bobby Helms</td><td>Jingle Bell RockBobby Helms</td><td>1</td><td>35</td><td>29</td><td>19</td><td>1959</td><td>1</td><td>3</td></tr><tr><th>10</th><td>http://www.billboard.com/charts/hot-100/1959-01-03</td><td>1/3/1959</td><td>53</td><td>GREEN CHRI$TMA$</td><td>Stan Freberg</td><td>Green Chri$tma$Stan Freberg</td><td>1</td><td>44</td><td>44</td><td>2</td><td>1959</td><td>1</td><td>3</td></tr><tr><th>11</th><td>http://www.billboard.com/charts/hot-100/1959-01-10</td><td>1/10/1959</td><td>70</td><td>JINGLE BELL ROCK</td><td>Bobby Helms</td><td>Jingle Bell RockBobby Helms</td><td>1</td><td>45</td><td>29</td><td>19</td><td>1959</td><td>1</td><td>10</td></tr><tr><th>12</th><td>http://www.billboard.com/charts/hot-100/1959-12-05</td><td>12/5/1959</td><td>83</td><td>THE HAPPY REINDEER</td><td>Dancer, Prancer And Nervous</td><td>The Happy ReindeerDancer, Prancer And Nervous</td><td>1</td><td><em>missing</em></td><td>34</td><td>6</td><td>1959</td><td>12</td><td>5</td></tr><tr><th>13</th><td>http://www.billboard.com/charts/hot-100/1959-12-12</td><td>12/12/1959</td><td>89</td><td>THE CHIPMUNK SONG (CHRISTMAS DON'T BE LATE)</td><td>David Seville And The Chipmunks</td><td>The Chipmunk Song (Christmas Don't Be Late)David Seville And The Chipmunks</td><td>1</td><td><em>missing</em></td><td>39</td><td>15</td><td>1959</td><td>12</td><td>12</td></tr><tr><th>14</th><td>http://www.billboard.com/charts/hot-100/1959-12-12</td><td>12/12/1959</td><td>80</td><td>THE HAPPY REINDEER</td><td>Dancer, Prancer And Nervous</td><td>The Happy ReindeerDancer, Prancer And Nervous</td><td>1</td><td>83</td><td>34</td><td>6</td><td>1959</td><td>12</td><td>12</td></tr><tr><th>15</th><td>http://www.billboard.com/charts/hot-100/1959-12-19</td><td>12/19/1959</td><td>76</td><td>THE HAPPY REINDEER</td><td>Dancer, Prancer And Nervous</td><td>The Happy ReindeerDancer, Prancer And Nervous</td><td>1</td><td>80</td><td>34</td><td>6</td><td>1959</td><td>12</td><td>19</td></tr><tr><th>16</th><td>http://www.billboard.com/charts/hot-100/1959-12-19</td><td>12/19/1959</td><td>96</td><td>THIS TIME OF THE YEAR</td><td>Brook Benton</td><td>This Time Of The YearBrook Benton</td><td>1</td><td><em>missing</em></td><td>66</td><td>5</td><td>1959</td><td>12</td><td>19</td></tr><tr><th>17</th><td>http://www.billboard.com/charts/hot-100/1959-12-19</td><td>12/19/1959</td><td>68</td><td>THE CHIPMUNK SONG (CHRISTMAS DON'T BE LATE)</td><td>David Seville And The Chipmunks</td><td>The Chipmunk Song (Christmas Don't Be Late)David Seville And The Chipmunks</td><td>1</td><td>89</td><td>39</td><td>15</td><td>1959</td><td>12</td><td>19</td></tr><tr><th>18</th><td>http://www.billboard.com/charts/hot-100/1959-12-26</td><td>12/26/1959</td><td>59</td><td>WHITE CHRISTMAS</td><td>Bing Crosby</td><td>White ChristmasBing Crosby</td><td>2</td><td><em>missing</em></td><td>12</td><td>13</td><td>1959</td><td>12</td><td>26</td></tr><tr><th>19</th><td>http://www.billboard.com/charts/hot-100/1959-12-26</td><td>12/26/1959</td><td>77</td><td>THIS TIME OF THE YEAR</td><td>Brook Benton</td><td>This Time Of The YearBrook Benton</td><td>1</td><td>96</td><td>66</td><td>5</td><td>1959</td><td>12</td><td>26</td></tr><tr><th>20</th><td>http://www.billboard.com/charts/hot-100/1959-12-26</td><td>12/26/1959</td><td>34</td><td>THE HAPPY REINDEER</td><td>Dancer, Prancer And Nervous</td><td>The Happy ReindeerDancer, Prancer And Nervous</td><td>1</td><td>76</td><td>34</td><td>6</td><td>1959</td><td>12</td><td>26</td></tr><tr><th>21</th><td>http://www.billboard.com/charts/hot-100/1959-12-26</td><td>12/26/1959</td><td>41</td><td>THE CHIPMUNK SONG (CHRISTMAS DON'T BE LATE)</td><td>David Seville And The Chipmunks</td><td>The Chipmunk Song (Christmas Don't Be Late)David Seville And The Chipmunks</td><td>1</td><td>68</td><td>39</td><td>15</td><td>1959</td><td>12</td><td>26</td></tr><tr><th>22</th><td>http://www.billboard.com/charts/hot-100/1960-01-02</td><td>1/2/1960</td><td>45</td><td>THE HAPPY REINDEER</td><td>Dancer, Prancer And Nervous</td><td>The Happy ReindeerDancer, Prancer And Nervous</td><td>1</td><td>34</td><td>34</td><td>6</td><td>1960</td><td>1</td><td>2</td></tr><tr><th>23</th><td>http://www.billboard.com/charts/hot-100/1960-01-02</td><td>1/2/1960</td><td>61</td><td>THE CHIPMUNK SONG (CHRISTMAS DON'T BE LATE)</td><td>David Seville And The Chipmunks</td><td>The Chipmunk Song (Christmas Don't Be Late)David Seville And The Chipmunks</td><td>1</td><td>41</td><td>39</td><td>15</td><td>1960</td><td>1</td><td>2</td></tr><tr><th>24</th><td>http://www.billboard.com/charts/hot-100/1960-01-02</td><td>1/2/1960</td><td>75</td><td>THIS TIME OF THE YEAR</td><td>Brook Benton</td><td>This Time Of The YearBrook Benton</td><td>1</td><td>77</td><td>66</td><td>5</td><td>1960</td><td>1</td><td>2</td></tr><tr><th>25</th><td>http://www.billboard.com/charts/hot-100/1960-01-09</td><td>1/9/1960</td><td>70</td><td>THIS TIME OF THE YEAR</td><td>Brook Benton</td><td>This Time Of The YearBrook Benton</td><td>1</td><td>75</td><td>66</td><td>5</td><td>1960</td><td>1</td><td>9</td></tr><tr><th>26</th><td>http://www.billboard.com/charts/hot-100/1960-01-09</td><td>1/9/1960</td><td>62</td><td>THE CHIPMUNK SONG (CHRISTMAS DON'T BE LATE)</td><td>David Seville And The Chipmunks</td><td>The Chipmunk Song (Christmas Don't Be Late)David Seville And The Chipmunks</td><td>1</td><td>61</td><td>39</td><td>15</td><td>1960</td><td>1</td><td>9</td></tr><tr><th>27</th><td>http://www.billboard.com/charts/hot-100/1960-01-09</td><td>1/9/1960</td><td>93</td><td>THE HAPPY REINDEER</td><td>Dancer, Prancer And Nervous</td><td>The Happy ReindeerDancer, Prancer And Nervous</td><td>1</td><td>45</td><td>34</td><td>6</td><td>1960</td><td>1</td><td>9</td></tr><tr><th>28</th><td>http://www.billboard.com/charts/hot-100/1960-01-16</td><td>1/16/1960</td><td>66</td><td>THIS TIME OF THE YEAR</td><td>Brook Benton</td><td>This Time Of The YearBrook Benton</td><td>1</td><td>70</td><td>66</td><td>5</td><td>1960</td><td>1</td><td>16</td></tr><tr><th>29</th><td>http://www.billboard.com/charts/hot-100/1960-12-10</td><td>12/10/1960</td><td>66</td><td>THE CHIPMUNK SONG (CHRISTMAS DON'T BE LATE)</td><td>David Seville And The Chipmunks</td><td>The Chipmunk Song (Christmas Don't Be Late)David Seville And The Chipmunks</td><td>2</td><td><em>missing</em></td><td>39</td><td>15</td><td>1960</td><td>12</td><td>10</td></tr><tr><th>30</th><td>http://www.billboard.com/charts/hot-100/1960-12-10</td><td>12/10/1960</td><td>100</td><td>THE CHRISTMAS SONG (MERRY CHRISTMAS TO YOU)</td><td>Nat King Cole</td><td>The Christmas Song (Merry Christmas To You)Nat King Cole</td><td>1</td><td><em>missing</em></td><td>38</td><td>8</td><td>1960</td><td>12</td><td>10</td></tr><tr><th>&vellip;</th><td>&vellip;</td><td>&vellip;</td><td>&vellip;</td><td>&vellip;</td><td>&vellip;</td><td>&vellip;</td><td>&vellip;</td><td>&vellip;</td><td>&vellip;</td><td>&vellip;</td><td>&vellip;</td><td>&vellip;</td><td>&vellip;</td></tr></tbody></table>"
      ],
      "text/latex": [
       "\\begin{tabular}{r|ccccccccccccc}\n",
       "\t& url & weekid & week\\_position & song & performer & songid & instance & previous\\_week\\_position & peak\\_position & weeks\\_on\\_chart & year & month & day\\\\\n",
       "\t\\hline\n",
       "\t& String & String & Int64 & String & String & String & Int64 & Int64? & Int64 & Int64 & Int64 & Int64 & Int64\\\\\n",
       "\t\\hline\n",
       "\t1 & http://www.billboard.com/charts/hot-100/1958-12-13 & 12/13/1958 & 83 & RUN RUDOLPH RUN & Chuck Berry & Run Rudolph RunChuck Berry & 1 & \\emph{missing} & 69 & 3 & 1958 & 12 & 13 \\\\\n",
       "\t2 & http://www.billboard.com/charts/hot-100/1958-12-20 & 12/20/1958 & 57 & JINGLE BELL ROCK & Bobby Helms & Jingle Bell RockBobby Helms & 1 & \\emph{missing} & 29 & 19 & 1958 & 12 & 20 \\\\\n",
       "\t3 & http://www.billboard.com/charts/hot-100/1958-12-20 & 12/20/1958 & 73 & RUN RUDOLPH RUN & Chuck Berry & Run Rudolph RunChuck Berry & 1 & 83 & 69 & 3 & 1958 & 12 & 20 \\\\\n",
       "\t4 & http://www.billboard.com/charts/hot-100/1958-12-20 & 12/20/1958 & 86 & WHITE CHRISTMAS & Bing Crosby & White ChristmasBing Crosby & 1 & \\emph{missing} & 12 & 13 & 1958 & 12 & 20 \\\\\n",
       "\t5 & http://www.billboard.com/charts/hot-100/1958-12-27 & 12/27/1958 & 44 & GREEN CHRI\\$TMA\\$ & Stan Freberg & Green Chri\\$tma\\$Stan Freberg & 1 & \\emph{missing} & 44 & 2 & 1958 & 12 & 27 \\\\\n",
       "\t6 & http://www.billboard.com/charts/hot-100/1958-12-27 & 12/27/1958 & 66 & WHITE CHRISTMAS & Bing Crosby & White ChristmasBing Crosby & 1 & 86 & 12 & 13 & 1958 & 12 & 27 \\\\\n",
       "\t7 & http://www.billboard.com/charts/hot-100/1958-12-27 & 12/27/1958 & 69 & RUN RUDOLPH RUN & Chuck Berry & Run Rudolph RunChuck Berry & 1 & 73 & 69 & 3 & 1958 & 12 & 27 \\\\\n",
       "\t8 & http://www.billboard.com/charts/hot-100/1958-12-27 & 12/27/1958 & 35 & JINGLE BELL ROCK & Bobby Helms & Jingle Bell RockBobby Helms & 1 & 57 & 29 & 19 & 1958 & 12 & 27 \\\\\n",
       "\t9 & http://www.billboard.com/charts/hot-100/1959-01-03 & 1/3/1959 & 45 & JINGLE BELL ROCK & Bobby Helms & Jingle Bell RockBobby Helms & 1 & 35 & 29 & 19 & 1959 & 1 & 3 \\\\\n",
       "\t10 & http://www.billboard.com/charts/hot-100/1959-01-03 & 1/3/1959 & 53 & GREEN CHRI\\$TMA\\$ & Stan Freberg & Green Chri\\$tma\\$Stan Freberg & 1 & 44 & 44 & 2 & 1959 & 1 & 3 \\\\\n",
       "\t11 & http://www.billboard.com/charts/hot-100/1959-01-10 & 1/10/1959 & 70 & JINGLE BELL ROCK & Bobby Helms & Jingle Bell RockBobby Helms & 1 & 45 & 29 & 19 & 1959 & 1 & 10 \\\\\n",
       "\t12 & http://www.billboard.com/charts/hot-100/1959-12-05 & 12/5/1959 & 83 & THE HAPPY REINDEER & Dancer, Prancer And Nervous & The Happy ReindeerDancer, Prancer And Nervous & 1 & \\emph{missing} & 34 & 6 & 1959 & 12 & 5 \\\\\n",
       "\t13 & http://www.billboard.com/charts/hot-100/1959-12-12 & 12/12/1959 & 89 & THE CHIPMUNK SONG (CHRISTMAS DON'T BE LATE) & David Seville And The Chipmunks & The Chipmunk Song (Christmas Don't Be Late)David Seville And The Chipmunks & 1 & \\emph{missing} & 39 & 15 & 1959 & 12 & 12 \\\\\n",
       "\t14 & http://www.billboard.com/charts/hot-100/1959-12-12 & 12/12/1959 & 80 & THE HAPPY REINDEER & Dancer, Prancer And Nervous & The Happy ReindeerDancer, Prancer And Nervous & 1 & 83 & 34 & 6 & 1959 & 12 & 12 \\\\\n",
       "\t15 & http://www.billboard.com/charts/hot-100/1959-12-19 & 12/19/1959 & 76 & THE HAPPY REINDEER & Dancer, Prancer And Nervous & The Happy ReindeerDancer, Prancer And Nervous & 1 & 80 & 34 & 6 & 1959 & 12 & 19 \\\\\n",
       "\t16 & http://www.billboard.com/charts/hot-100/1959-12-19 & 12/19/1959 & 96 & THIS TIME OF THE YEAR & Brook Benton & This Time Of The YearBrook Benton & 1 & \\emph{missing} & 66 & 5 & 1959 & 12 & 19 \\\\\n",
       "\t17 & http://www.billboard.com/charts/hot-100/1959-12-19 & 12/19/1959 & 68 & THE CHIPMUNK SONG (CHRISTMAS DON'T BE LATE) & David Seville And The Chipmunks & The Chipmunk Song (Christmas Don't Be Late)David Seville And The Chipmunks & 1 & 89 & 39 & 15 & 1959 & 12 & 19 \\\\\n",
       "\t18 & http://www.billboard.com/charts/hot-100/1959-12-26 & 12/26/1959 & 59 & WHITE CHRISTMAS & Bing Crosby & White ChristmasBing Crosby & 2 & \\emph{missing} & 12 & 13 & 1959 & 12 & 26 \\\\\n",
       "\t19 & http://www.billboard.com/charts/hot-100/1959-12-26 & 12/26/1959 & 77 & THIS TIME OF THE YEAR & Brook Benton & This Time Of The YearBrook Benton & 1 & 96 & 66 & 5 & 1959 & 12 & 26 \\\\\n",
       "\t20 & http://www.billboard.com/charts/hot-100/1959-12-26 & 12/26/1959 & 34 & THE HAPPY REINDEER & Dancer, Prancer And Nervous & The Happy ReindeerDancer, Prancer And Nervous & 1 & 76 & 34 & 6 & 1959 & 12 & 26 \\\\\n",
       "\t21 & http://www.billboard.com/charts/hot-100/1959-12-26 & 12/26/1959 & 41 & THE CHIPMUNK SONG (CHRISTMAS DON'T BE LATE) & David Seville And The Chipmunks & The Chipmunk Song (Christmas Don't Be Late)David Seville And The Chipmunks & 1 & 68 & 39 & 15 & 1959 & 12 & 26 \\\\\n",
       "\t22 & http://www.billboard.com/charts/hot-100/1960-01-02 & 1/2/1960 & 45 & THE HAPPY REINDEER & Dancer, Prancer And Nervous & The Happy ReindeerDancer, Prancer And Nervous & 1 & 34 & 34 & 6 & 1960 & 1 & 2 \\\\\n",
       "\t23 & http://www.billboard.com/charts/hot-100/1960-01-02 & 1/2/1960 & 61 & THE CHIPMUNK SONG (CHRISTMAS DON'T BE LATE) & David Seville And The Chipmunks & The Chipmunk Song (Christmas Don't Be Late)David Seville And The Chipmunks & 1 & 41 & 39 & 15 & 1960 & 1 & 2 \\\\\n",
       "\t24 & http://www.billboard.com/charts/hot-100/1960-01-02 & 1/2/1960 & 75 & THIS TIME OF THE YEAR & Brook Benton & This Time Of The YearBrook Benton & 1 & 77 & 66 & 5 & 1960 & 1 & 2 \\\\\n",
       "\t25 & http://www.billboard.com/charts/hot-100/1960-01-09 & 1/9/1960 & 70 & THIS TIME OF THE YEAR & Brook Benton & This Time Of The YearBrook Benton & 1 & 75 & 66 & 5 & 1960 & 1 & 9 \\\\\n",
       "\t26 & http://www.billboard.com/charts/hot-100/1960-01-09 & 1/9/1960 & 62 & THE CHIPMUNK SONG (CHRISTMAS DON'T BE LATE) & David Seville And The Chipmunks & The Chipmunk Song (Christmas Don't Be Late)David Seville And The Chipmunks & 1 & 61 & 39 & 15 & 1960 & 1 & 9 \\\\\n",
       "\t27 & http://www.billboard.com/charts/hot-100/1960-01-09 & 1/9/1960 & 93 & THE HAPPY REINDEER & Dancer, Prancer And Nervous & The Happy ReindeerDancer, Prancer And Nervous & 1 & 45 & 34 & 6 & 1960 & 1 & 9 \\\\\n",
       "\t28 & http://www.billboard.com/charts/hot-100/1960-01-16 & 1/16/1960 & 66 & THIS TIME OF THE YEAR & Brook Benton & This Time Of The YearBrook Benton & 1 & 70 & 66 & 5 & 1960 & 1 & 16 \\\\\n",
       "\t29 & http://www.billboard.com/charts/hot-100/1960-12-10 & 12/10/1960 & 66 & THE CHIPMUNK SONG (CHRISTMAS DON'T BE LATE) & David Seville And The Chipmunks & The Chipmunk Song (Christmas Don't Be Late)David Seville And The Chipmunks & 2 & \\emph{missing} & 39 & 15 & 1960 & 12 & 10 \\\\\n",
       "\t30 & http://www.billboard.com/charts/hot-100/1960-12-10 & 12/10/1960 & 100 & THE CHRISTMAS SONG (MERRY CHRISTMAS TO YOU) & Nat King Cole & The Christmas Song (Merry Christmas To You)Nat King Cole & 1 & \\emph{missing} & 38 & 8 & 1960 & 12 & 10 \\\\\n",
       "\t$\\dots$ & $\\dots$ & $\\dots$ & $\\dots$ & $\\dots$ & $\\dots$ & $\\dots$ & $\\dots$ & $\\dots$ & $\\dots$ & $\\dots$ & $\\dots$ & $\\dots$ & $\\dots$ \\\\\n",
       "\\end{tabular}\n"
      ],
      "text/plain": [
       "387×13 DataFrame\n",
       "│ Row │ url                                                │ weekid     │ week_position │ song                                        │ performer      │ songid                                                   │ instance │ previous_week_position │ peak_position │ weeks_on_chart │ year  │ month │ day   │\n",
       "│     │ \u001b[90mString\u001b[39m                                             │ \u001b[90mString\u001b[39m     │ \u001b[90mInt64\u001b[39m         │ \u001b[90mString\u001b[39m                                      │ \u001b[90mString\u001b[39m         │ \u001b[90mString\u001b[39m                                                   │ \u001b[90mInt64\u001b[39m    │ \u001b[90mUnion{Missing, Int64}\u001b[39m  │ \u001b[90mInt64\u001b[39m         │ \u001b[90mInt64\u001b[39m          │ \u001b[90mInt64\u001b[39m │ \u001b[90mInt64\u001b[39m │ \u001b[90mInt64\u001b[39m │\n",
       "├─────┼────────────────────────────────────────────────────┼────────────┼───────────────┼─────────────────────────────────────────────┼────────────────┼──────────────────────────────────────────────────────────┼──────────┼────────────────────────┼───────────────┼────────────────┼───────┼───────┼───────┤\n",
       "│ 1   │ http://www.billboard.com/charts/hot-100/1958-12-13 │ 12/13/1958 │ 83            │ RUN RUDOLPH RUN                             │ Chuck Berry    │ Run Rudolph RunChuck Berry                               │ 1        │ \u001b[90mmissing\u001b[39m                │ 69            │ 3              │ 1958  │ 12    │ 13    │\n",
       "│ 2   │ http://www.billboard.com/charts/hot-100/1958-12-20 │ 12/20/1958 │ 57            │ JINGLE BELL ROCK                            │ Bobby Helms    │ Jingle Bell RockBobby Helms                              │ 1        │ \u001b[90mmissing\u001b[39m                │ 29            │ 19             │ 1958  │ 12    │ 20    │\n",
       "│ 3   │ http://www.billboard.com/charts/hot-100/1958-12-20 │ 12/20/1958 │ 73            │ RUN RUDOLPH RUN                             │ Chuck Berry    │ Run Rudolph RunChuck Berry                               │ 1        │ 83                     │ 69            │ 3              │ 1958  │ 12    │ 20    │\n",
       "│ 4   │ http://www.billboard.com/charts/hot-100/1958-12-20 │ 12/20/1958 │ 86            │ WHITE CHRISTMAS                             │ Bing Crosby    │ White ChristmasBing Crosby                               │ 1        │ \u001b[90mmissing\u001b[39m                │ 12            │ 13             │ 1958  │ 12    │ 20    │\n",
       "│ 5   │ http://www.billboard.com/charts/hot-100/1958-12-27 │ 12/27/1958 │ 44            │ GREEN CHRI$TMA$                             │ Stan Freberg   │ Green Chri$tma$Stan Freberg                              │ 1        │ \u001b[90mmissing\u001b[39m                │ 44            │ 2              │ 1958  │ 12    │ 27    │\n",
       "│ 6   │ http://www.billboard.com/charts/hot-100/1958-12-27 │ 12/27/1958 │ 66            │ WHITE CHRISTMAS                             │ Bing Crosby    │ White ChristmasBing Crosby                               │ 1        │ 86                     │ 12            │ 13             │ 1958  │ 12    │ 27    │\n",
       "│ 7   │ http://www.billboard.com/charts/hot-100/1958-12-27 │ 12/27/1958 │ 69            │ RUN RUDOLPH RUN                             │ Chuck Berry    │ Run Rudolph RunChuck Berry                               │ 1        │ 73                     │ 69            │ 3              │ 1958  │ 12    │ 27    │\n",
       "│ 8   │ http://www.billboard.com/charts/hot-100/1958-12-27 │ 12/27/1958 │ 35            │ JINGLE BELL ROCK                            │ Bobby Helms    │ Jingle Bell RockBobby Helms                              │ 1        │ 57                     │ 29            │ 19             │ 1958  │ 12    │ 27    │\n",
       "│ 9   │ http://www.billboard.com/charts/hot-100/1959-01-03 │ 1/3/1959   │ 45            │ JINGLE BELL ROCK                            │ Bobby Helms    │ Jingle Bell RockBobby Helms                              │ 1        │ 35                     │ 29            │ 19             │ 1959  │ 1     │ 3     │\n",
       "│ 10  │ http://www.billboard.com/charts/hot-100/1959-01-03 │ 1/3/1959   │ 53            │ GREEN CHRI$TMA$                             │ Stan Freberg   │ Green Chri$tma$Stan Freberg                              │ 1        │ 44                     │ 44            │ 2              │ 1959  │ 1     │ 3     │\n",
       "⋮\n",
       "│ 377 │ http://www.billboard.com/charts/hot-100/2016-12-31 │ 12/31/2016 │ 48            │ ROCKIN' AROUND THE CHRISTMAS TREE           │ Brenda Lee     │ Rockin' Around The Christmas TreeBrenda Lee              │ 6        │ 37                     │ 14            │ 18             │ 2016  │ 12    │ 31    │\n",
       "│ 378 │ http://www.billboard.com/charts/hot-100/2017-01-07 │ 1/7/2017   │ 47            │ THE CHRISTMAS SONG (MERRY CHRISTMAS TO YOU) │ Nat King Cole  │ The Christmas Song (Merry Christmas To You)Nat King Cole │ 5        │ \u001b[90mmissing\u001b[39m                │ 38            │ 8              │ 2017  │ 1     │ 7     │\n",
       "│ 379 │ http://www.billboard.com/charts/hot-100/2017-01-07 │ 1/7/2017   │ 50            │ LAST CHRISTMAS                              │ Wham!          │ Last ChristmasWham!                                      │ 1        │ \u001b[90mmissing\u001b[39m                │ 41            │ 2              │ 2017  │ 1     │ 7     │\n",
       "│ 380 │ http://www.billboard.com/charts/hot-100/2017-01-07 │ 1/7/2017   │ 46            │ A HOLLY JOLLY CHRISTMAS                     │ Burl Ives      │ A Holly Jolly ChristmasBurl Ives                         │ 1        │ \u001b[90mmissing\u001b[39m                │ 46            │ 1              │ 2017  │ 1     │ 7     │\n",
       "│ 381 │ http://www.billboard.com/charts/hot-100/2017-01-07 │ 1/7/2017   │ 29            │ JINGLE BELL ROCK                            │ Bobby Helms    │ Jingle Bell RockBobby Helms                              │ 6        │ 46                     │ 29            │ 19             │ 2017  │ 1     │ 7     │\n",
       "│ 382 │ http://www.billboard.com/charts/hot-100/2017-01-07 │ 1/7/2017   │ 44            │ FELIZ NAVIDAD                               │ Jose Feliciano │ Feliz NavidadJose Feliciano                              │ 1        │ \u001b[90mmissing\u001b[39m                │ 44            │ 1              │ 2017  │ 1     │ 7     │\n",
       "│ 383 │ http://www.billboard.com/charts/hot-100/2017-01-07 │ 1/7/2017   │ 16            │ ALL I WANT FOR CHRISTMAS IS YOU             │ Mariah Carey   │ All I Want For Christmas Is YouMariah Carey              │ 6        │ 20                     │ 11            │ 19             │ 2017  │ 1     │ 7     │\n",
       "│ 384 │ http://www.billboard.com/charts/hot-100/2017-01-07 │ 1/7/2017   │ 27            │ ROCKIN' AROUND THE CHRISTMAS TREE           │ Brenda Lee     │ Rockin' Around The Christmas TreeBrenda Lee              │ 6        │ 48                     │ 14            │ 18             │ 2017  │ 1     │ 7     │\n",
       "│ 385 │ http://www.billboard.com/charts/hot-100/2017-01-07 │ 1/7/2017   │ 48            │ IT'S THE MOST WONDERFUL TIME OF THE YEAR    │ Andy Williams  │ It's The Most Wonderful Time Of The YearAndy Williams    │ 1        │ \u001b[90mmissing\u001b[39m                │ 48            │ 1              │ 2017  │ 1     │ 7     │\n",
       "│ 386 │ http://www.billboard.com/charts/hot-100/2017-01-14 │ 1/14/2017  │ 35            │ ALL I WANT FOR CHRISTMAS IS YOU             │ Mariah Carey   │ All I Want For Christmas Is YouMariah Carey              │ 6        │ 16                     │ 11            │ 19             │ 2017  │ 1     │ 14    │\n",
       "│ 387 │ http://www.billboard.com/charts/hot-100/2017-01-14 │ 1/14/2017  │ 41            │ LAST CHRISTMAS                              │ Wham!          │ Last ChristmasWham!                                      │ 1        │ 50                     │ 41            │ 2              │ 2017  │ 1     │ 14    │"
      ]
     },
     "execution_count": 3,
     "metadata": {
     },
     "output_type": "execute_result"
    }
   ],
   "source": [
    "data = CSV.read(\"christmas_billboard_data.csv\", DataFrame)"
   ]
  },
  {
   "cell_type": "code",
   "execution_count": 4,
   "metadata": {
    "collapsed": false
   },
   "outputs": [
    {
     "data": {
      "text/html": [
       "<table class=\"data-frame\"><thead><tr><th></th><th>variable</th><th>mean</th><th>min</th><th>median</th><th>max</th><th>nunique</th><th>nmissing</th><th>eltype</th></tr><tr><th></th><th>Symbol</th><th>Union…</th><th>Any</th><th>Union…</th><th>Any</th><th>Union…</th><th>Union…</th><th>Type</th></tr></thead><tbody><p>13 rows × 8 columns</p><tr><th>1</th><td>url</td><td></td><td>http://www.billboard.com/charts/hot-100/1958-12-13</td><td></td><td>http://www.billboard.com/charts/hot-100/2017-01-14</td><td>206</td><td></td><td>String</td></tr><tr><th>2</th><td>weekid</td><td></td><td>1/1/1994</td><td></td><td>12/9/2006</td><td>206</td><td></td><td>String</td></tr><tr><th>3</th><td>week_position</td><td>57.2041</td><td>7</td><td>58.0</td><td>100</td><td></td><td></td><td>Int64</td></tr><tr><th>4</th><td>song</td><td></td><td>A GREAT BIG SLED</td><td></td><td>WINTER WORLD OF LOVE</td><td>70</td><td></td><td>String</td></tr><tr><th>5</th><td>performer</td><td></td><td>98 Degrees</td><td></td><td>Willis \"The Guard\" &amp; Vigorish</td><td>69</td><td></td><td>String</td></tr><tr><th>6</th><td>songid</td><td></td><td>A Great Big SledThe Killers Featuring Toni Halliday</td><td></td><td>Winter World Of LoveEngelbert Humperdinck</td><td>78</td><td></td><td>String</td></tr><tr><th>7</th><td>instance</td><td>1.58656</td><td>1</td><td>1.0</td><td>6</td><td></td><td></td><td>Int64</td></tr><tr><th>8</th><td>previous_week_position</td><td>55.5197</td><td>7</td><td>57.0</td><td>100</td><td></td><td>108</td><td>Union{Missing, Int64}</td></tr><tr><th>9</th><td>peak_position</td><td>37.5349</td><td>7</td><td>34.0</td><td>100</td><td></td><td></td><td>Int64</td></tr><tr><th>10</th><td>weeks_on_chart</td><td>9.64599</td><td>1</td><td>8.0</td><td>20</td><td></td><td></td><td>Int64</td></tr><tr><th>11</th><td>year</td><td>1982.06</td><td>1958</td><td>1975.0</td><td>2017</td><td></td><td></td><td>Int64</td></tr><tr><th>12</th><td>month</td><td>7.75452</td><td>1</td><td>12.0</td><td>12</td><td></td><td></td><td>Int64</td></tr><tr><th>13</th><td>day</td><td>16.6718</td><td>1</td><td>17.0</td><td>31</td><td></td><td></td><td>Int64</td></tr></tbody></table>"
      ],
      "text/latex": [
       "\\begin{tabular}{r|cccccccc}\n",
       "\t& variable & mean & min & median & max & nunique & nmissing & eltype\\\\\n",
       "\t\\hline\n",
       "\t& Symbol & Union… & Any & Union… & Any & Union… & Union… & Type\\\\\n",
       "\t\\hline\n",
       "\t1 & url &  & http://www.billboard.com/charts/hot-100/1958-12-13 &  & http://www.billboard.com/charts/hot-100/2017-01-14 & 206 &  & String \\\\\n",
       "\t2 & weekid &  & 1/1/1994 &  & 12/9/2006 & 206 &  & String \\\\\n",
       "\t3 & week\\_position & 57.2041 & 7 & 58.0 & 100 &  &  & Int64 \\\\\n",
       "\t4 & song &  & A GREAT BIG SLED &  & WINTER WORLD OF LOVE & 70 &  & String \\\\\n",
       "\t5 & performer &  & 98 Degrees &  & Willis \"The Guard\" \\& Vigorish & 69 &  & String \\\\\n",
       "\t6 & songid &  & A Great Big SledThe Killers Featuring Toni Halliday &  & Winter World Of LoveEngelbert Humperdinck & 78 &  & String \\\\\n",
       "\t7 & instance & 1.58656 & 1 & 1.0 & 6 &  &  & Int64 \\\\\n",
       "\t8 & previous\\_week\\_position & 55.5197 & 7 & 57.0 & 100 &  & 108 & Union\\{Missing, Int64\\} \\\\\n",
       "\t9 & peak\\_position & 37.5349 & 7 & 34.0 & 100 &  &  & Int64 \\\\\n",
       "\t10 & weeks\\_on\\_chart & 9.64599 & 1 & 8.0 & 20 &  &  & Int64 \\\\\n",
       "\t11 & year & 1982.06 & 1958 & 1975.0 & 2017 &  &  & Int64 \\\\\n",
       "\t12 & month & 7.75452 & 1 & 12.0 & 12 &  &  & Int64 \\\\\n",
       "\t13 & day & 16.6718 & 1 & 17.0 & 31 &  &  & Int64 \\\\\n",
       "\\end{tabular}\n"
      ],
      "text/plain": [
       "13×8 DataFrame\n",
       "│ Row │ variable               │ mean    │ min                                                 │ median │ max                                                │ nunique │ nmissing │ eltype                │\n",
       "│     │ \u001b[90mSymbol\u001b[39m                 │ \u001b[90mUnion…\u001b[39m  │ \u001b[90mAny\u001b[39m                                                 │ \u001b[90mUnion…\u001b[39m │ \u001b[90mAny\u001b[39m                                                │ \u001b[90mUnion…\u001b[39m  │ \u001b[90mUnion…\u001b[39m   │ \u001b[90mType\u001b[39m                  │\n",
       "├─────┼────────────────────────┼─────────┼─────────────────────────────────────────────────────┼────────┼────────────────────────────────────────────────────┼─────────┼──────────┼───────────────────────┤\n",
       "│ 1   │ url                    │         │ http://www.billboard.com/charts/hot-100/1958-12-13  │        │ http://www.billboard.com/charts/hot-100/2017-01-14 │ 206     │          │ String                │\n",
       "│ 2   │ weekid                 │         │ 1/1/1994                                            │        │ 12/9/2006                                          │ 206     │          │ String                │\n",
       "│ 3   │ week_position          │ 57.2041 │ 7                                                   │ 58.0   │ 100                                                │         │          │ Int64                 │\n",
       "│ 4   │ song                   │         │ A GREAT BIG SLED                                    │        │ WINTER WORLD OF LOVE                               │ 70      │          │ String                │\n",
       "│ 5   │ performer              │         │ 98 Degrees                                          │        │ Willis \"The Guard\" & Vigorish                      │ 69      │          │ String                │\n",
       "│ 6   │ songid                 │         │ A Great Big SledThe Killers Featuring Toni Halliday │        │ Winter World Of LoveEngelbert Humperdinck          │ 78      │          │ String                │\n",
       "│ 7   │ instance               │ 1.58656 │ 1                                                   │ 1.0    │ 6                                                  │         │          │ Int64                 │\n",
       "│ 8   │ previous_week_position │ 55.5197 │ 7                                                   │ 57.0   │ 100                                                │         │ 108      │ Union{Missing, Int64} │\n",
       "│ 9   │ peak_position          │ 37.5349 │ 7                                                   │ 34.0   │ 100                                                │         │          │ Int64                 │\n",
       "│ 10  │ weeks_on_chart         │ 9.64599 │ 1                                                   │ 8.0    │ 20                                                 │         │          │ Int64                 │\n",
       "│ 11  │ year                   │ 1982.06 │ 1958                                                │ 1975.0 │ 2017                                               │         │          │ Int64                 │\n",
       "│ 12  │ month                  │ 7.75452 │ 1                                                   │ 12.0   │ 12                                                 │         │          │ Int64                 │\n",
       "│ 13  │ day                    │ 16.6718 │ 1                                                   │ 17.0   │ 31                                                 │         │          │ Int64                 │"
      ]
     },
     "execution_count": 4,
     "metadata": {
     },
     "output_type": "execute_result"
    }
   ],
   "source": [
    "describe(data)"
   ]
  },
  {
   "cell_type": "code",
   "execution_count": 5,
   "metadata": {
    "collapsed": false
   },
   "outputs": [
    {
     "data": {
      "text/plain": [
       "387-element Vector{String}:\n",
       " \"RUN RUDOLPH RUN\"\n",
       " \"JINGLE BELL ROCK\"\n",
       " \"RUN RUDOLPH RUN\"\n",
       " \"WHITE CHRISTMAS\"\n",
       " \"GREEN CHRI\\$TMA\\$\"\n",
       " \"WHITE CHRISTMAS\"\n",
       " \"RUN RUDOLPH RUN\"\n",
       " \"JINGLE BELL ROCK\"\n",
       " \"JINGLE BELL ROCK\"\n",
       " \"GREEN CHRI\\$TMA\\$\"\n",
       " \"JINGLE BELL ROCK\"\n",
       " \"THE HAPPY REINDEER\"\n",
       " \"THE CHIPMUNK SONG (CHRISTMAS DON'T BE LATE)\"\n",
       " ⋮\n",
       " \"ALL I WANT FOR CHRISTMAS IS YOU\"\n",
       " \"ROCKIN' AROUND THE CHRISTMAS TREE\"\n",
       " \"THE CHRISTMAS SONG (MERRY CHRISTMAS TO YOU)\"\n",
       " \"LAST CHRISTMAS\"\n",
       " \"A HOLLY JOLLY CHRISTMAS\"\n",
       " \"JINGLE BELL ROCK\"\n",
       " \"FELIZ NAVIDAD\"\n",
       " \"ALL I WANT FOR CHRISTMAS IS YOU\"\n",
       " \"ROCKIN' AROUND THE CHRISTMAS TREE\"\n",
       " \"IT'S THE MOST WONDERFUL TIME OF THE YEAR\"\n",
       " \"ALL I WANT FOR CHRISTMAS IS YOU\"\n",
       " \"LAST CHRISTMAS\""
      ]
     },
     "execution_count": 5,
     "metadata": {
     },
     "output_type": "execute_result"
    }
   ],
   "source": [
    "data.song"
   ]
  },
  {
   "cell_type": "code",
   "execution_count": 6,
   "metadata": {
    "collapsed": false
   },
   "outputs": [
    {
     "data": {
      "text/plain": [
       "true"
      ]
     },
     "execution_count": 6,
     "metadata": {
     },
     "output_type": "execute_result"
    }
   ],
   "source": [
    "\"WHITE CHRISTMAS\" in data.song"
   ]
  },
  {
   "cell_type": "code",
   "execution_count": 7,
   "metadata": {
    "collapsed": false
   },
   "outputs": [
    {
     "data": {
      "text/html": [
       "<table class=\"data-frame\"><thead><tr><th></th><th>weekid</th><th>week_position</th><th>song</th><th>performer</th><th>songid</th><th>instance</th><th>previous_week_position</th><th>peak_position</th><th>weeks_on_chart</th><th>year</th><th>month</th><th>day</th></tr><tr><th></th><th>String</th><th>Int64</th><th>String</th><th>String</th><th>String</th><th>Int64</th><th>Int64?</th><th>Int64</th><th>Int64</th><th>Int64</th><th>Int64</th><th>Int64</th></tr></thead><tbody><p>16 rows × 12 columns</p><tr><th>1</th><td>12/20/1958</td><td>86</td><td>WHITE CHRISTMAS</td><td>Bing Crosby</td><td>White ChristmasBing Crosby</td><td>1</td><td><em>missing</em></td><td>12</td><td>13</td><td>1958</td><td>12</td><td>20</td></tr><tr><th>2</th><td>12/27/1958</td><td>66</td><td>WHITE CHRISTMAS</td><td>Bing Crosby</td><td>White ChristmasBing Crosby</td><td>1</td><td>86</td><td>12</td><td>13</td><td>1958</td><td>12</td><td>27</td></tr><tr><th>3</th><td>12/26/1959</td><td>59</td><td>WHITE CHRISTMAS</td><td>Bing Crosby</td><td>White ChristmasBing Crosby</td><td>2</td><td><em>missing</em></td><td>12</td><td>13</td><td>1959</td><td>12</td><td>26</td></tr><tr><th>4</th><td>12/10/1960</td><td>55</td><td>WHITE CHRISTMAS</td><td>Bing Crosby</td><td>White ChristmasBing Crosby</td><td>3</td><td><em>missing</em></td><td>12</td><td>13</td><td>1960</td><td>12</td><td>10</td></tr><tr><th>5</th><td>12/17/1960</td><td>32</td><td>WHITE CHRISTMAS</td><td>Bing Crosby</td><td>White ChristmasBing Crosby</td><td>3</td><td>55</td><td>12</td><td>13</td><td>1960</td><td>12</td><td>17</td></tr><tr><th>6</th><td>12/17/1960</td><td>96</td><td>WHITE CHRISTMAS</td><td>The Drifters Featuring Clyde McPhatter And Bill Pinkney</td><td>White ChristmasThe Drifters Featuring Clyde McPhatter And Bill Pinkney</td><td>1</td><td><em>missing</em></td><td>88</td><td>2</td><td>1960</td><td>12</td><td>17</td></tr><tr><th>7</th><td>12/24/1960</td><td>26</td><td>WHITE CHRISTMAS</td><td>Bing Crosby</td><td>White ChristmasBing Crosby</td><td>3</td><td>32</td><td>12</td><td>13</td><td>1960</td><td>12</td><td>24</td></tr><tr><th>8</th><td>12/9/1961</td><td>66</td><td>WHITE CHRISTMAS</td><td>Bing Crosby</td><td>White ChristmasBing Crosby</td><td>4</td><td><em>missing</em></td><td>12</td><td>13</td><td>1961</td><td>12</td><td>9</td></tr><tr><th>9</th><td>12/16/1961</td><td>33</td><td>WHITE CHRISTMAS</td><td>Bing Crosby</td><td>White ChristmasBing Crosby</td><td>4</td><td>66</td><td>12</td><td>13</td><td>1961</td><td>12</td><td>16</td></tr><tr><th>10</th><td>12/23/1961</td><td>20</td><td>WHITE CHRISTMAS</td><td>Bing Crosby</td><td>White ChristmasBing Crosby</td><td>4</td><td>33</td><td>12</td><td>13</td><td>1961</td><td>12</td><td>23</td></tr><tr><th>11</th><td>12/30/1961</td><td>12</td><td>WHITE CHRISTMAS</td><td>Bing Crosby</td><td>White ChristmasBing Crosby</td><td>4</td><td>20</td><td>12</td><td>13</td><td>1961</td><td>12</td><td>30</td></tr><tr><th>12</th><td>1/6/1962</td><td>12</td><td>WHITE CHRISTMAS</td><td>Bing Crosby</td><td>White ChristmasBing Crosby</td><td>4</td><td>20</td><td>12</td><td>13</td><td>1962</td><td>1</td><td>6</td></tr><tr><th>13</th><td>12/15/1962</td><td>70</td><td>WHITE CHRISTMAS</td><td>Bing Crosby</td><td>White ChristmasBing Crosby</td><td>5</td><td><em>missing</em></td><td>12</td><td>13</td><td>1962</td><td>12</td><td>15</td></tr><tr><th>14</th><td>12/22/1962</td><td>88</td><td>WHITE CHRISTMAS</td><td>The Drifters Featuring Clyde McPhatter And Bill Pinkney</td><td>White ChristmasThe Drifters Featuring Clyde McPhatter And Bill Pinkney</td><td>2</td><td><em>missing</em></td><td>88</td><td>2</td><td>1962</td><td>12</td><td>22</td></tr><tr><th>15</th><td>12/22/1962</td><td>46</td><td>WHITE CHRISTMAS</td><td>Bing Crosby</td><td>White ChristmasBing Crosby</td><td>5</td><td>70</td><td>12</td><td>13</td><td>1962</td><td>12</td><td>22</td></tr><tr><th>16</th><td>12/29/1962</td><td>38</td><td>WHITE CHRISTMAS</td><td>Bing Crosby</td><td>White ChristmasBing Crosby</td><td>5</td><td>46</td><td>12</td><td>13</td><td>1962</td><td>12</td><td>29</td></tr></tbody></table>"
      ],
      "text/latex": [
       "\\begin{tabular}{r|cccccccccccc}\n",
       "\t& weekid & week\\_position & song & performer & songid & instance & previous\\_week\\_position & peak\\_position & weeks\\_on\\_chart & year & month & day\\\\\n",
       "\t\\hline\n",
       "\t& String & Int64 & String & String & String & Int64 & Int64? & Int64 & Int64 & Int64 & Int64 & Int64\\\\\n",
       "\t\\hline\n",
       "\t1 & 12/20/1958 & 86 & WHITE CHRISTMAS & Bing Crosby & White ChristmasBing Crosby & 1 & \\emph{missing} & 12 & 13 & 1958 & 12 & 20 \\\\\n",
       "\t2 & 12/27/1958 & 66 & WHITE CHRISTMAS & Bing Crosby & White ChristmasBing Crosby & 1 & 86 & 12 & 13 & 1958 & 12 & 27 \\\\\n",
       "\t3 & 12/26/1959 & 59 & WHITE CHRISTMAS & Bing Crosby & White ChristmasBing Crosby & 2 & \\emph{missing} & 12 & 13 & 1959 & 12 & 26 \\\\\n",
       "\t4 & 12/10/1960 & 55 & WHITE CHRISTMAS & Bing Crosby & White ChristmasBing Crosby & 3 & \\emph{missing} & 12 & 13 & 1960 & 12 & 10 \\\\\n",
       "\t5 & 12/17/1960 & 32 & WHITE CHRISTMAS & Bing Crosby & White ChristmasBing Crosby & 3 & 55 & 12 & 13 & 1960 & 12 & 17 \\\\\n",
       "\t6 & 12/17/1960 & 96 & WHITE CHRISTMAS & The Drifters Featuring Clyde McPhatter And Bill Pinkney & White ChristmasThe Drifters Featuring Clyde McPhatter And Bill Pinkney & 1 & \\emph{missing} & 88 & 2 & 1960 & 12 & 17 \\\\\n",
       "\t7 & 12/24/1960 & 26 & WHITE CHRISTMAS & Bing Crosby & White ChristmasBing Crosby & 3 & 32 & 12 & 13 & 1960 & 12 & 24 \\\\\n",
       "\t8 & 12/9/1961 & 66 & WHITE CHRISTMAS & Bing Crosby & White ChristmasBing Crosby & 4 & \\emph{missing} & 12 & 13 & 1961 & 12 & 9 \\\\\n",
       "\t9 & 12/16/1961 & 33 & WHITE CHRISTMAS & Bing Crosby & White ChristmasBing Crosby & 4 & 66 & 12 & 13 & 1961 & 12 & 16 \\\\\n",
       "\t10 & 12/23/1961 & 20 & WHITE CHRISTMAS & Bing Crosby & White ChristmasBing Crosby & 4 & 33 & 12 & 13 & 1961 & 12 & 23 \\\\\n",
       "\t11 & 12/30/1961 & 12 & WHITE CHRISTMAS & Bing Crosby & White ChristmasBing Crosby & 4 & 20 & 12 & 13 & 1961 & 12 & 30 \\\\\n",
       "\t12 & 1/6/1962 & 12 & WHITE CHRISTMAS & Bing Crosby & White ChristmasBing Crosby & 4 & 20 & 12 & 13 & 1962 & 1 & 6 \\\\\n",
       "\t13 & 12/15/1962 & 70 & WHITE CHRISTMAS & Bing Crosby & White ChristmasBing Crosby & 5 & \\emph{missing} & 12 & 13 & 1962 & 12 & 15 \\\\\n",
       "\t14 & 12/22/1962 & 88 & WHITE CHRISTMAS & The Drifters Featuring Clyde McPhatter And Bill Pinkney & White ChristmasThe Drifters Featuring Clyde McPhatter And Bill Pinkney & 2 & \\emph{missing} & 88 & 2 & 1962 & 12 & 22 \\\\\n",
       "\t15 & 12/22/1962 & 46 & WHITE CHRISTMAS & Bing Crosby & White ChristmasBing Crosby & 5 & 70 & 12 & 13 & 1962 & 12 & 22 \\\\\n",
       "\t16 & 12/29/1962 & 38 & WHITE CHRISTMAS & Bing Crosby & White ChristmasBing Crosby & 5 & 46 & 12 & 13 & 1962 & 12 & 29 \\\\\n",
       "\\end{tabular}\n"
      ],
      "text/plain": [
       "16×12 DataFrame\n",
       "│ Row │ weekid     │ week_position │ song            │ performer                                               │ songid                                                                 │ instance │ previous_week_position │ peak_position │ weeks_on_chart │ year  │ month │ day   │\n",
       "│     │ \u001b[90mString\u001b[39m     │ \u001b[90mInt64\u001b[39m         │ \u001b[90mString\u001b[39m          │ \u001b[90mString\u001b[39m                                                  │ \u001b[90mString\u001b[39m                                                                 │ \u001b[90mInt64\u001b[39m    │ \u001b[90mUnion{Missing, Int64}\u001b[39m  │ \u001b[90mInt64\u001b[39m         │ \u001b[90mInt64\u001b[39m          │ \u001b[90mInt64\u001b[39m │ \u001b[90mInt64\u001b[39m │ \u001b[90mInt64\u001b[39m │\n",
       "├─────┼────────────┼───────────────┼─────────────────┼─────────────────────────────────────────────────────────┼────────────────────────────────────────────────────────────────────────┼──────────┼────────────────────────┼───────────────┼────────────────┼───────┼───────┼───────┤\n",
       "│ 1   │ 12/20/1958 │ 86            │ WHITE CHRISTMAS │ Bing Crosby                                             │ White ChristmasBing Crosby                                             │ 1        │ \u001b[90mmissing\u001b[39m                │ 12            │ 13             │ 1958  │ 12    │ 20    │\n",
       "│ 2   │ 12/27/1958 │ 66            │ WHITE CHRISTMAS │ Bing Crosby                                             │ White ChristmasBing Crosby                                             │ 1        │ 86                     │ 12            │ 13             │ 1958  │ 12    │ 27    │\n",
       "│ 3   │ 12/26/1959 │ 59            │ WHITE CHRISTMAS │ Bing Crosby                                             │ White ChristmasBing Crosby                                             │ 2        │ \u001b[90mmissing\u001b[39m                │ 12            │ 13             │ 1959  │ 12    │ 26    │\n",
       "│ 4   │ 12/10/1960 │ 55            │ WHITE CHRISTMAS │ Bing Crosby                                             │ White ChristmasBing Crosby                                             │ 3        │ \u001b[90mmissing\u001b[39m                │ 12            │ 13             │ 1960  │ 12    │ 10    │\n",
       "│ 5   │ 12/17/1960 │ 32            │ WHITE CHRISTMAS │ Bing Crosby                                             │ White ChristmasBing Crosby                                             │ 3        │ 55                     │ 12            │ 13             │ 1960  │ 12    │ 17    │\n",
       "│ 6   │ 12/17/1960 │ 96            │ WHITE CHRISTMAS │ The Drifters Featuring Clyde McPhatter And Bill Pinkney │ White ChristmasThe Drifters Featuring Clyde McPhatter And Bill Pinkney │ 1        │ \u001b[90mmissing\u001b[39m                │ 88            │ 2              │ 1960  │ 12    │ 17    │\n",
       "│ 7   │ 12/24/1960 │ 26            │ WHITE CHRISTMAS │ Bing Crosby                                             │ White ChristmasBing Crosby                                             │ 3        │ 32                     │ 12            │ 13             │ 1960  │ 12    │ 24    │\n",
       "│ 8   │ 12/9/1961  │ 66            │ WHITE CHRISTMAS │ Bing Crosby                                             │ White ChristmasBing Crosby                                             │ 4        │ \u001b[90mmissing\u001b[39m                │ 12            │ 13             │ 1961  │ 12    │ 9     │\n",
       "│ 9   │ 12/16/1961 │ 33            │ WHITE CHRISTMAS │ Bing Crosby                                             │ White ChristmasBing Crosby                                             │ 4        │ 66                     │ 12            │ 13             │ 1961  │ 12    │ 16    │\n",
       "│ 10  │ 12/23/1961 │ 20            │ WHITE CHRISTMAS │ Bing Crosby                                             │ White ChristmasBing Crosby                                             │ 4        │ 33                     │ 12            │ 13             │ 1961  │ 12    │ 23    │\n",
       "│ 11  │ 12/30/1961 │ 12            │ WHITE CHRISTMAS │ Bing Crosby                                             │ White ChristmasBing Crosby                                             │ 4        │ 20                     │ 12            │ 13             │ 1961  │ 12    │ 30    │\n",
       "│ 12  │ 1/6/1962   │ 12            │ WHITE CHRISTMAS │ Bing Crosby                                             │ White ChristmasBing Crosby                                             │ 4        │ 20                     │ 12            │ 13             │ 1962  │ 1     │ 6     │\n",
       "│ 13  │ 12/15/1962 │ 70            │ WHITE CHRISTMAS │ Bing Crosby                                             │ White ChristmasBing Crosby                                             │ 5        │ \u001b[90mmissing\u001b[39m                │ 12            │ 13             │ 1962  │ 12    │ 15    │\n",
       "│ 14  │ 12/22/1962 │ 88            │ WHITE CHRISTMAS │ The Drifters Featuring Clyde McPhatter And Bill Pinkney │ White ChristmasThe Drifters Featuring Clyde McPhatter And Bill Pinkney │ 2        │ \u001b[90mmissing\u001b[39m                │ 88            │ 2              │ 1962  │ 12    │ 22    │\n",
       "│ 15  │ 12/22/1962 │ 46            │ WHITE CHRISTMAS │ Bing Crosby                                             │ White ChristmasBing Crosby                                             │ 5        │ 70                     │ 12            │ 13             │ 1962  │ 12    │ 22    │\n",
       "│ 16  │ 12/29/1962 │ 38            │ WHITE CHRISTMAS │ Bing Crosby                                             │ White ChristmasBing Crosby                                             │ 5        │ 46                     │ 12            │ 13             │ 1962  │ 12    │ 29    │"
      ]
     },
     "execution_count": 7,
     "metadata": {
     },
     "output_type": "execute_result"
    }
   ],
   "source": [
    "hans = data[data.song .== \"WHITE CHRISTMAS\", 2:end ]"
   ]
  },
  {
   "cell_type": "code",
   "execution_count": 8,
   "metadata": {
    "collapsed": false
   },
   "outputs": [
    {
     "data": {
      "text/html": [
       "<table class=\"data-frame\"><thead><tr><th></th><th>weekid</th><th>week_position</th><th>song</th><th>performer</th><th>songid</th><th>instance</th><th>previous_week_position</th><th>peak_position</th><th>weeks_on_chart</th><th>year</th><th>month</th><th>day</th></tr><tr><th></th><th>String</th><th>Int64</th><th>String</th><th>String</th><th>String</th><th>Int64</th><th>Int64?</th><th>Int64</th><th>Int64</th><th>Int64</th><th>Int64</th><th>Int64</th></tr></thead><tbody><p>5 rows × 12 columns</p><tr><th>1</th><td>1/6/1962</td><td>12</td><td>WHITE CHRISTMAS</td><td>Bing Crosby</td><td>White ChristmasBing Crosby</td><td>4</td><td>20</td><td>12</td><td>13</td><td>1962</td><td>1</td><td>6</td></tr><tr><th>2</th><td>12/15/1962</td><td>70</td><td>WHITE CHRISTMAS</td><td>Bing Crosby</td><td>White ChristmasBing Crosby</td><td>5</td><td><em>missing</em></td><td>12</td><td>13</td><td>1962</td><td>12</td><td>15</td></tr><tr><th>3</th><td>12/22/1962</td><td>88</td><td>WHITE CHRISTMAS</td><td>The Drifters Featuring Clyde McPhatter And Bill Pinkney</td><td>White ChristmasThe Drifters Featuring Clyde McPhatter And Bill Pinkney</td><td>2</td><td><em>missing</em></td><td>88</td><td>2</td><td>1962</td><td>12</td><td>22</td></tr><tr><th>4</th><td>12/22/1962</td><td>46</td><td>WHITE CHRISTMAS</td><td>Bing Crosby</td><td>White ChristmasBing Crosby</td><td>5</td><td>70</td><td>12</td><td>13</td><td>1962</td><td>12</td><td>22</td></tr><tr><th>5</th><td>12/29/1962</td><td>38</td><td>WHITE CHRISTMAS</td><td>Bing Crosby</td><td>White ChristmasBing Crosby</td><td>5</td><td>46</td><td>12</td><td>13</td><td>1962</td><td>12</td><td>29</td></tr></tbody></table>"
      ],
      "text/latex": [
       "\\begin{tabular}{r|cccccccccccc}\n",
       "\t& weekid & week\\_position & song & performer & songid & instance & previous\\_week\\_position & peak\\_position & weeks\\_on\\_chart & year & month & day\\\\\n",
       "\t\\hline\n",
       "\t& String & Int64 & String & String & String & Int64 & Int64? & Int64 & Int64 & Int64 & Int64 & Int64\\\\\n",
       "\t\\hline\n",
       "\t1 & 1/6/1962 & 12 & WHITE CHRISTMAS & Bing Crosby & White ChristmasBing Crosby & 4 & 20 & 12 & 13 & 1962 & 1 & 6 \\\\\n",
       "\t2 & 12/15/1962 & 70 & WHITE CHRISTMAS & Bing Crosby & White ChristmasBing Crosby & 5 & \\emph{missing} & 12 & 13 & 1962 & 12 & 15 \\\\\n",
       "\t3 & 12/22/1962 & 88 & WHITE CHRISTMAS & The Drifters Featuring Clyde McPhatter And Bill Pinkney & White ChristmasThe Drifters Featuring Clyde McPhatter And Bill Pinkney & 2 & \\emph{missing} & 88 & 2 & 1962 & 12 & 22 \\\\\n",
       "\t4 & 12/22/1962 & 46 & WHITE CHRISTMAS & Bing Crosby & White ChristmasBing Crosby & 5 & 70 & 12 & 13 & 1962 & 12 & 22 \\\\\n",
       "\t5 & 12/29/1962 & 38 & WHITE CHRISTMAS & Bing Crosby & White ChristmasBing Crosby & 5 & 46 & 12 & 13 & 1962 & 12 & 29 \\\\\n",
       "\\end{tabular}\n"
      ],
      "text/plain": [
       "5×12 DataFrame\n",
       "│ Row │ weekid     │ week_position │ song            │ performer                                               │ songid                                                                 │ instance │ previous_week_position │ peak_position │ weeks_on_chart │ year  │ month │ day   │\n",
       "│     │ \u001b[90mString\u001b[39m     │ \u001b[90mInt64\u001b[39m         │ \u001b[90mString\u001b[39m          │ \u001b[90mString\u001b[39m                                                  │ \u001b[90mString\u001b[39m                                                                 │ \u001b[90mInt64\u001b[39m    │ \u001b[90mUnion{Missing, Int64}\u001b[39m  │ \u001b[90mInt64\u001b[39m         │ \u001b[90mInt64\u001b[39m          │ \u001b[90mInt64\u001b[39m │ \u001b[90mInt64\u001b[39m │ \u001b[90mInt64\u001b[39m │\n",
       "├─────┼────────────┼───────────────┼─────────────────┼─────────────────────────────────────────────────────────┼────────────────────────────────────────────────────────────────────────┼──────────┼────────────────────────┼───────────────┼────────────────┼───────┼───────┼───────┤\n",
       "│ 1   │ 1/6/1962   │ 12            │ WHITE CHRISTMAS │ Bing Crosby                                             │ White ChristmasBing Crosby                                             │ 4        │ 20                     │ 12            │ 13             │ 1962  │ 1     │ 6     │\n",
       "│ 2   │ 12/15/1962 │ 70            │ WHITE CHRISTMAS │ Bing Crosby                                             │ White ChristmasBing Crosby                                             │ 5        │ \u001b[90mmissing\u001b[39m                │ 12            │ 13             │ 1962  │ 12    │ 15    │\n",
       "│ 3   │ 12/22/1962 │ 88            │ WHITE CHRISTMAS │ The Drifters Featuring Clyde McPhatter And Bill Pinkney │ White ChristmasThe Drifters Featuring Clyde McPhatter And Bill Pinkney │ 2        │ \u001b[90mmissing\u001b[39m                │ 88            │ 2              │ 1962  │ 12    │ 22    │\n",
       "│ 4   │ 12/22/1962 │ 46            │ WHITE CHRISTMAS │ Bing Crosby                                             │ White ChristmasBing Crosby                                             │ 5        │ 70                     │ 12            │ 13             │ 1962  │ 12    │ 22    │\n",
       "│ 5   │ 12/29/1962 │ 38            │ WHITE CHRISTMAS │ Bing Crosby                                             │ White ChristmasBing Crosby                                             │ 5        │ 46                     │ 12            │ 13             │ 1962  │ 12    │ 29    │"
      ]
     },
     "execution_count": 8,
     "metadata": {
     },
     "output_type": "execute_result"
    }
   ],
   "source": [
    "hans[hans.year .== 1962, :]"
   ]
  },
  {
   "cell_type": "markdown",
   "metadata": {
    "collapsed": false
   },
   "source": [
    "### How many distinct songs are there?"
   ]
  },
  {
   "cell_type": "code",
   "execution_count": 9,
   "metadata": {
    "collapsed": false
   },
   "outputs": [
    {
     "data": {
      "text/plain": [
       "387-element Vector{String}:\n",
       " \"RUN RUDOLPH RUN\"\n",
       " \"JINGLE BELL ROCK\"\n",
       " \"RUN RUDOLPH RUN\"\n",
       " \"WHITE CHRISTMAS\"\n",
       " \"GREEN CHRI\\$TMA\\$\"\n",
       " \"WHITE CHRISTMAS\"\n",
       " \"RUN RUDOLPH RUN\"\n",
       " \"JINGLE BELL ROCK\"\n",
       " \"JINGLE BELL ROCK\"\n",
       " \"GREEN CHRI\\$TMA\\$\"\n",
       " \"JINGLE BELL ROCK\"\n",
       " \"THE HAPPY REINDEER\"\n",
       " \"THE CHIPMUNK SONG (CHRISTMAS DON'T BE LATE)\"\n",
       " ⋮\n",
       " \"ALL I WANT FOR CHRISTMAS IS YOU\"\n",
       " \"ROCKIN' AROUND THE CHRISTMAS TREE\"\n",
       " \"THE CHRISTMAS SONG (MERRY CHRISTMAS TO YOU)\"\n",
       " \"LAST CHRISTMAS\"\n",
       " \"A HOLLY JOLLY CHRISTMAS\"\n",
       " \"JINGLE BELL ROCK\"\n",
       " \"FELIZ NAVIDAD\"\n",
       " \"ALL I WANT FOR CHRISTMAS IS YOU\"\n",
       " \"ROCKIN' AROUND THE CHRISTMAS TREE\"\n",
       " \"IT'S THE MOST WONDERFUL TIME OF THE YEAR\"\n",
       " \"ALL I WANT FOR CHRISTMAS IS YOU\"\n",
       " \"LAST CHRISTMAS\""
      ]
     },
     "execution_count": 9,
     "metadata": {
     },
     "output_type": "execute_result"
    }
   ],
   "source": [
    "songs = data.song"
   ]
  },
  {
   "cell_type": "code",
   "execution_count": 10,
   "metadata": {
    "collapsed": false
   },
   "outputs": [
    {
     "data": {
      "text/plain": [
       "70-element Vector{String}:\n",
       " \"RUN RUDOLPH RUN\"\n",
       " \"JINGLE BELL ROCK\"\n",
       " \"WHITE CHRISTMAS\"\n",
       " \"GREEN CHRI\\$TMA\\$\"\n",
       " \"THE HAPPY REINDEER\"\n",
       " \"THE CHIPMUNK SONG (CHRISTMAS DON'T BE LATE)\"\n",
       " \"THIS TIME OF THE YEAR\"\n",
       " \"THE CHRISTMAS SONG (MERRY CHRISTMAS TO YOU)\"\n",
       " \"ROCKIN' AROUND THE CHRISTMAS TREE\"\n",
       " \"SILENT NIGHT\"\n",
       " \"TWISTIN' BELLS\"\n",
       " \"CHRISTMAS AULD LANG SYNE\"\n",
       " \"BLUE CHRISTMAS\"\n",
       " ⋮\n",
       " \"WELCOME CHRISTMAS\"\n",
       " \"BABY, IT'S COLD OUTSIDE\"\n",
       " \"OH SANTA!\"\n",
       " \"SHAKE UP CHRISTMAS\"\n",
       " \"IT'S BEGINNING TO LOOK A LOT LIKE CHRISTMAS\"\n",
       " \"I'LL BE HOME FOR CHRISTMAS\"\n",
       " \"UNDERNEATH THE TREE\"\n",
       " \"SANTA TELL ME\"\n",
       " \"HAVE YOURSELF A MERRY LITTLE CHRISTMAS\"\n",
       " \"A HOLLY JOLLY CHRISTMAS\"\n",
       " \"FELIZ NAVIDAD\"\n",
       " \"IT'S THE MOST WONDERFUL TIME OF THE YEAR\""
      ]
     },
     "execution_count": 10,
     "metadata": {
     },
     "output_type": "execute_result"
    }
   ],
   "source": [
    "unique(songs)"
   ]
  },
  {
   "cell_type": "code",
   "execution_count": 11,
   "metadata": {
    "collapsed": false
   },
   "outputs": [
    {
     "data": {
      "text/plain": [
       "70-element Vector{String}:\n",
       " \"RUN RUDOLPH RUN\"\n",
       " \"JINGLE BELL ROCK\"\n",
       " \"WHITE CHRISTMAS\"\n",
       " \"GREEN CHRI\\$TMA\\$\"\n",
       " \"THE HAPPY REINDEER\"\n",
       " \"THE CHIPMUNK SONG (CHRISTMAS DON'T BE LATE)\"\n",
       " \"THIS TIME OF THE YEAR\"\n",
       " \"THE CHRISTMAS SONG (MERRY CHRISTMAS TO YOU)\"\n",
       " \"ROCKIN' AROUND THE CHRISTMAS TREE\"\n",
       " \"SILENT NIGHT\"\n",
       " \"TWISTIN' BELLS\"\n",
       " \"CHRISTMAS AULD LANG SYNE\"\n",
       " \"BLUE CHRISTMAS\"\n",
       " ⋮\n",
       " \"WELCOME CHRISTMAS\"\n",
       " \"BABY, IT'S COLD OUTSIDE\"\n",
       " \"OH SANTA!\"\n",
       " \"SHAKE UP CHRISTMAS\"\n",
       " \"IT'S BEGINNING TO LOOK A LOT LIKE CHRISTMAS\"\n",
       " \"I'LL BE HOME FOR CHRISTMAS\"\n",
       " \"UNDERNEATH THE TREE\"\n",
       " \"SANTA TELL ME\"\n",
       " \"HAVE YOURSELF A MERRY LITTLE CHRISTMAS\"\n",
       " \"A HOLLY JOLLY CHRISTMAS\"\n",
       " \"FELIZ NAVIDAD\"\n",
       " \"IT'S THE MOST WONDERFUL TIME OF THE YEAR\""
      ]
     },
     "execution_count": 11,
     "metadata": {
     },
     "output_type": "execute_result"
    }
   ],
   "source": [
    "data.song |> unique"
   ]
  },
  {
   "cell_type": "code",
   "execution_count": 12,
   "metadata": {
    "collapsed": false
   },
   "outputs": [
    {
     "data": {
      "text/plain": [
       "69-element Vector{Int64}:\n",
       " 2010\n",
       " 2010\n",
       " 2010\n",
       " 2010\n",
       " 2011\n",
       " 2011\n",
       " 2011\n",
       " 2011\n",
       " 2011\n",
       " 2011\n",
       " 2011\n",
       " 2011\n",
       " 2011\n",
       "    ⋮\n",
       " 2016\n",
       " 2016\n",
       " 2017\n",
       " 2017\n",
       " 2017\n",
       " 2017\n",
       " 2017\n",
       " 2017\n",
       " 2017\n",
       " 2017\n",
       " 2017\n",
       " 2017"
      ]
     },
     "execution_count": 12,
     "metadata": {
     },
     "output_type": "execute_result"
    }
   ],
   "source": [
    "filter(y -> y >= 2010,data[:,\"year\"])"
   ]
  },
  {
   "cell_type": "code",
   "execution_count": 13,
   "metadata": {
    "collapsed": false
   },
   "outputs": [
    {
     "data": {
      "text/html": [
       "<table class=\"data-frame\"><thead><tr><th></th><th>weekid</th><th>week_position</th><th>song</th><th>performer</th><th>songid</th><th>instance</th><th>previous_week_position</th><th>peak_position</th><th>weeks_on_chart</th><th>year</th><th>month</th><th>day</th></tr><tr><th></th><th>String</th><th>Int64</th><th>String</th><th>String</th><th>String</th><th>Int64</th><th>Int64?</th><th>Int64</th><th>Int64</th><th>Int64</th><th>Int64</th><th>Int64</th></tr></thead><tbody><p>4 rows × 12 columns</p><tr><th>1</th><td>12/18/2010</td><td>25</td><td>CHRISTMAS LIGHTS</td><td>Coldplay</td><td>Christmas LightsColdplay</td><td>1</td><td><em>missing</em></td><td>25</td><td>3</td><td>2010</td><td>12</td><td>18</td></tr><tr><th>2</th><td>12/25/2010</td><td>59</td><td>WELCOME CHRISTMAS</td><td>Glee Cast</td><td>Welcome ChristmasGlee Cast</td><td>1</td><td><em>missing</em></td><td>59</td><td>1</td><td>2010</td><td>12</td><td>25</td></tr><tr><th>3</th><td>12/25/2010</td><td>57</td><td>BABY, IT'S COLD OUTSIDE</td><td>Glee Cast</td><td>Baby, It's Cold OutsideGlee Cast</td><td>1</td><td><em>missing</em></td><td>57</td><td>2</td><td>2010</td><td>12</td><td>25</td></tr><tr><th>4</th><td>12/25/2010</td><td>35</td><td>CHRISTMAS LIGHTS</td><td>Coldplay</td><td>Christmas LightsColdplay</td><td>1</td><td>25</td><td>25</td><td>3</td><td>2010</td><td>12</td><td>25</td></tr></tbody></table>"
      ],
      "text/latex": [
       "\\begin{tabular}{r|cccccccccccc}\n",
       "\t& weekid & week\\_position & song & performer & songid & instance & previous\\_week\\_position & peak\\_position & weeks\\_on\\_chart & year & month & day\\\\\n",
       "\t\\hline\n",
       "\t& String & Int64 & String & String & String & Int64 & Int64? & Int64 & Int64 & Int64 & Int64 & Int64\\\\\n",
       "\t\\hline\n",
       "\t1 & 12/18/2010 & 25 & CHRISTMAS LIGHTS & Coldplay & Christmas LightsColdplay & 1 & \\emph{missing} & 25 & 3 & 2010 & 12 & 18 \\\\\n",
       "\t2 & 12/25/2010 & 59 & WELCOME CHRISTMAS & Glee Cast & Welcome ChristmasGlee Cast & 1 & \\emph{missing} & 59 & 1 & 2010 & 12 & 25 \\\\\n",
       "\t3 & 12/25/2010 & 57 & BABY, IT'S COLD OUTSIDE & Glee Cast & Baby, It's Cold OutsideGlee Cast & 1 & \\emph{missing} & 57 & 2 & 2010 & 12 & 25 \\\\\n",
       "\t4 & 12/25/2010 & 35 & CHRISTMAS LIGHTS & Coldplay & Christmas LightsColdplay & 1 & 25 & 25 & 3 & 2010 & 12 & 25 \\\\\n",
       "\\end{tabular}\n"
      ],
      "text/plain": [
       "4×12 DataFrame\n",
       "│ Row │ weekid     │ week_position │ song                    │ performer │ songid                           │ instance │ previous_week_position │ peak_position │ weeks_on_chart │ year  │ month │ day   │\n",
       "│     │ \u001b[90mString\u001b[39m     │ \u001b[90mInt64\u001b[39m         │ \u001b[90mString\u001b[39m                  │ \u001b[90mString\u001b[39m    │ \u001b[90mString\u001b[39m                           │ \u001b[90mInt64\u001b[39m    │ \u001b[90mUnion{Missing, Int64}\u001b[39m  │ \u001b[90mInt64\u001b[39m         │ \u001b[90mInt64\u001b[39m          │ \u001b[90mInt64\u001b[39m │ \u001b[90mInt64\u001b[39m │ \u001b[90mInt64\u001b[39m │\n",
       "├─────┼────────────┼───────────────┼─────────────────────────┼───────────┼──────────────────────────────────┼──────────┼────────────────────────┼───────────────┼────────────────┼───────┼───────┼───────┤\n",
       "│ 1   │ 12/18/2010 │ 25            │ CHRISTMAS LIGHTS        │ Coldplay  │ Christmas LightsColdplay         │ 1        │ \u001b[90mmissing\u001b[39m                │ 25            │ 3              │ 2010  │ 12    │ 18    │\n",
       "│ 2   │ 12/25/2010 │ 59            │ WELCOME CHRISTMAS       │ Glee Cast │ Welcome ChristmasGlee Cast       │ 1        │ \u001b[90mmissing\u001b[39m                │ 59            │ 1              │ 2010  │ 12    │ 25    │\n",
       "│ 3   │ 12/25/2010 │ 57            │ BABY, IT'S COLD OUTSIDE │ Glee Cast │ Baby, It's Cold OutsideGlee Cast │ 1        │ \u001b[90mmissing\u001b[39m                │ 57            │ 2              │ 2010  │ 12    │ 25    │\n",
       "│ 4   │ 12/25/2010 │ 35            │ CHRISTMAS LIGHTS        │ Coldplay  │ Christmas LightsColdplay         │ 1        │ 25                     │ 25            │ 3              │ 2010  │ 12    │ 25    │"
      ]
     },
     "execution_count": 13,
     "metadata": {
     },
     "output_type": "execute_result"
    }
   ],
   "source": [
    "data[data.year .== 2010, 2:end]"
   ]
  },
  {
   "cell_type": "markdown",
   "metadata": {
    "collapsed": false
   },
   "source": [
    "### Which song was in the charts most often?\n",
    "\n",
    "More precisely, for the largest number of weeks."
   ]
  },
  {
   "cell_type": "code",
   "execution_count": 14,
   "metadata": {
    "collapsed": false
   },
   "outputs": [
   ],
   "source": [
    "using StatsBase"
   ]
  },
  {
   "cell_type": "code",
   "execution_count": 15,
   "metadata": {
    "collapsed": false
   },
   "outputs": [
    {
     "data": {
      "text/plain": [
       "Dict{String, Int64} with 70 entries:\n",
       "  \"DECK THE HALLS\"                              => 3\n",
       "  \"THE MARVELOUS TOY\"                           => 9\n",
       "  \"RUN RUDOLPH RUN\"                             => 3\n",
       "  \"I'LL BE HOME\"                                => 2\n",
       "  \"THE CHRISTMAS SONG (MERRY CHRISTMAS TO YOU)\" => 8\n",
       "  \"LITTLE ALTAR BOY\"                            => 9\n",
       "  \"CHRISTMAS AULD LANG SYNE\"                    => 3\n",
       "  \"MACARENA CHRISTMAS\"                          => 4\n",
       "  \"THE SANTA CLAUS BOOGIE\"                      => 1\n",
       "  \"BETTER DAYS\"                                 => 13\n",
       "  \"ALL I WANT FOR CHRISTMAS IS YOU\"             => 20\n",
       "  \"SAME OLD LANG SYNE\"                          => 8\n",
       "  \"BELIEVE\"                                     => 5\n",
       "  \"JINGLE BELL ROCK\"                            => 28\n",
       "  \"THE HAPPY REINDEER\"                          => 6\n",
       "  \"SHAKE UP CHRISTMAS\"                          => 1\n",
       "  \"SANTA TELL ME\"                               => 5\n",
       "  \"CHRISTMAS LIGHTS\"                            => 3\n",
       "  \"HAVE YOURSELF A MERRY LITTLE CHRISTMAS\"      => 1\n",
       "  \"CHRISTMAS DREAM\"                             => 2\n",
       "  \"SANTA'S A FAT BITCH\"                         => 5\n",
       "  \"PLEASE COME HOME FOR CHRISTMAS\"              => 11\n",
       "  \"I'LL BE HOME FOR CHRISTMAS\"                  => 1\n",
       "  \"OH SANTA!\"                                   => 1\n",
       "  \"HAPPY XMAS (WAR IS OVER)\"                    => 2\n",
       "  ⋮                                             => ⋮"
      ]
     },
     "execution_count": 15,
     "metadata": {
     },
     "output_type": "execute_result"
    }
   ],
   "source": [
    "songs_occ = countmap(songs)"
   ]
  },
  {
   "cell_type": "code",
   "execution_count": 16,
   "metadata": {
    "collapsed": false
   },
   "outputs": [
    {
     "data": {
      "text/plain": [
       "70-element Vector{Pair{String, Int64}}:\n",
       "                                                        \"A GREAT BIG SLED\" => 2\n",
       "                                                 \"A HOLLY JOLLY CHRISTMAS\" => 1\n",
       "                                         \"ALL I WANT FOR CHRISTMAS IS YOU\" => 20\n",
       "                                                                    \"AMEN\" => 11\n",
       "                                                          \"AULD LANG SYNE\" => 5\n",
       "                                                  \"BABY'S FIRST CHRISTMAS\" => 6\n",
       "                                                 \"BABY, IT'S COLD OUTSIDE\" => 2\n",
       "                                                                 \"BELIEVE\" => 5\n",
       "                                                             \"BETTER DAYS\" => 13\n",
       "                                                          \"BLUE CHRISTMAS\" => 1\n",
       "                                                            \"CHILD OF GOD\" => 1\n",
       "                                                \"CHRISTMAS AULD LANG SYNE\" => 3\n",
       "                                                         \"CHRISTMAS DREAM\" => 2\n",
       "                                                                           ⋮\n",
       "                                                          \"THIS CHRISTMAS\" => 5\n",
       "                                                               \"THIS GIFT\" => 3\n",
       "                                             \"THIS ONE'S FOR THE CHILDREN\" => 12\n",
       "                                                   \"THIS TIME OF THE YEAR\" => 5\n",
       "                                                          \"TWISTIN' BELLS\" => 3\n",
       "                                                     \"UNDERNEATH THE TREE\" => 3\n",
       "                                                       \"WELCOME CHRISTMAS\" => 1\n",
       " \"WHAT CAN YOU GET A WOOKIEE FOR CHRISTMAS (WHEN HE ALREADY OWNS A COMB?)\" => 6\n",
       "                                                    \"WHEN A CHILD IS BORN\" => 7\n",
       "                                                \"WHERE ARE YOU CHRISTMAS?\" => 1\n",
       "                                                         \"WHITE CHRISTMAS\" => 16\n",
       "                                                    \"WINTER WORLD OF LOVE\" => 9"
      ]
     },
     "execution_count": 16,
     "metadata": {
     },
     "output_type": "execute_result"
    }
   ],
   "source": [
    "sort(collect(songs_occ))"
   ]
  },
  {
   "cell_type": "code",
   "execution_count": 17,
   "metadata": {
    "collapsed": false
   },
   "outputs": [
    {
     "data": {
      "text/plain": [
       "OrderedCollections.OrderedDict{String, Int64} with 70 entries:\n",
       "  \"JINGLE BELL ROCK\"                                                        => 28\n",
       "  \"ALL I WANT FOR CHRISTMAS IS YOU\"                                         => 20\n",
       "  \"ROCKIN' AROUND THE CHRISTMAS TREE\"                                       => 19\n",
       "  \"THE CHIPMUNK SONG (CHRISTMAS DON'T BE LATE)\"                             => 16\n",
       "  \"WHITE CHRISTMAS\"                                                         => 16\n",
       "  \"MISTLETOE\"                                                               => 14\n",
       "  \"BETTER DAYS\"                                                             => 13\n",
       "  \"THIS ONE'S FOR THE CHILDREN\"                                             => 12\n",
       "  \"PLEASE COME HOME FOR CHRISTMAS\"                                          => 11\n",
       "  \"AMEN\"                                                                    => 11\n",
       "  \"IF WE MAKE IT THROUGH DECEMBER\"                                          => 10\n",
       "  \"THE MARVELOUS TOY\"                                                       => 9\n",
       "  \"LITTLE ALTAR BOY\"                                                        => 9\n",
       "  \"WINTER WORLD OF LOVE\"                                                    => 9\n",
       "  \"THE CHRISTMAS SONG (MERRY CHRISTMAS TO YOU)\"                             => 8\n",
       "  \"SAME OLD LANG SYNE\"                                                      => 8\n",
       "  \"DO THEY KNOW IT'S CHRISTMAS?\"                                            => 7\n",
       "  \"PRETTY PAPER\"                                                            => 7\n",
       "  \"LET IT SNOW\"                                                             => 7\n",
       "  \"WHEN A CHILD IS BORN\"                                                    => 7\n",
       "  \"THE HAPPY REINDEER\"                                                      => 6\n",
       "  \"WHAT CAN YOU GET A WOOKIEE FOR CHRISTMAS (WHEN HE ALREADY OWNS A COMB?)\" => 6\n",
       "  \"MY FAVORITE THINGS\"                                                      => 6\n",
       "  \"MONSTERS' HOLIDAY\"                                                       => 6\n",
       "  \"BABY'S FIRST CHRISTMAS\"                                                  => 6\n",
       "  ⋮                                                                         => ⋮"
      ]
     },
     "execution_count": 17,
     "metadata": {
     },
     "output_type": "execute_result"
    }
   ],
   "source": [
    "sort(songs_occ; byvalue=true, rev=true)"
   ]
  },
  {
   "cell_type": "markdown",
   "metadata": {
    "collapsed": false
   },
   "source": [
    "### What about \"Last Christmas\"?"
   ]
  },
  {
   "cell_type": "code",
   "execution_count": 18,
   "metadata": {
    "collapsed": false
   },
   "outputs": [
    {
     "data": {
      "text/html": [
       "<table class=\"data-frame\"><thead><tr><th></th><th>weekid</th><th>week_position</th><th>song</th><th>performer</th><th>songid</th><th>instance</th><th>previous_week_position</th><th>peak_position</th><th>weeks_on_chart</th><th>year</th><th>month</th><th>day</th></tr><tr><th></th><th>String</th><th>Int64</th><th>String</th><th>String</th><th>String</th><th>Int64</th><th>Int64?</th><th>Int64</th><th>Int64</th><th>Int64</th><th>Int64</th><th>Int64</th></tr></thead><tbody><p>5 rows × 12 columns</p><tr><th>1</th><td>12/19/2009</td><td>63</td><td>LAST CHRISTMAS</td><td>Glee Cast</td><td>Last ChristmasGlee Cast</td><td>1</td><td><em>missing</em></td><td>63</td><td>2</td><td>2009</td><td>12</td><td>19</td></tr><tr><th>2</th><td>12/26/2009</td><td>89</td><td>LAST CHRISTMAS</td><td>Glee Cast</td><td>Last ChristmasGlee Cast</td><td>1</td><td>63</td><td>63</td><td>2</td><td>2009</td><td>12</td><td>26</td></tr><tr><th>3</th><td>12/7/2013</td><td>96</td><td>LAST CHRISTMAS</td><td>Ariana Grande</td><td>Last ChristmasAriana Grande</td><td>1</td><td><em>missing</em></td><td>96</td><td>1</td><td>2013</td><td>12</td><td>7</td></tr><tr><th>4</th><td>1/7/2017</td><td>50</td><td>LAST CHRISTMAS</td><td>Wham!</td><td>Last ChristmasWham!</td><td>1</td><td><em>missing</em></td><td>41</td><td>2</td><td>2017</td><td>1</td><td>7</td></tr><tr><th>5</th><td>1/14/2017</td><td>41</td><td>LAST CHRISTMAS</td><td>Wham!</td><td>Last ChristmasWham!</td><td>1</td><td>50</td><td>41</td><td>2</td><td>2017</td><td>1</td><td>14</td></tr></tbody></table>"
      ],
      "text/latex": [
       "\\begin{tabular}{r|cccccccccccc}\n",
       "\t& weekid & week\\_position & song & performer & songid & instance & previous\\_week\\_position & peak\\_position & weeks\\_on\\_chart & year & month & day\\\\\n",
       "\t\\hline\n",
       "\t& String & Int64 & String & String & String & Int64 & Int64? & Int64 & Int64 & Int64 & Int64 & Int64\\\\\n",
       "\t\\hline\n",
       "\t1 & 12/19/2009 & 63 & LAST CHRISTMAS & Glee Cast & Last ChristmasGlee Cast & 1 & \\emph{missing} & 63 & 2 & 2009 & 12 & 19 \\\\\n",
       "\t2 & 12/26/2009 & 89 & LAST CHRISTMAS & Glee Cast & Last ChristmasGlee Cast & 1 & 63 & 63 & 2 & 2009 & 12 & 26 \\\\\n",
       "\t3 & 12/7/2013 & 96 & LAST CHRISTMAS & Ariana Grande & Last ChristmasAriana Grande & 1 & \\emph{missing} & 96 & 1 & 2013 & 12 & 7 \\\\\n",
       "\t4 & 1/7/2017 & 50 & LAST CHRISTMAS & Wham! & Last ChristmasWham! & 1 & \\emph{missing} & 41 & 2 & 2017 & 1 & 7 \\\\\n",
       "\t5 & 1/14/2017 & 41 & LAST CHRISTMAS & Wham! & Last ChristmasWham! & 1 & 50 & 41 & 2 & 2017 & 1 & 14 \\\\\n",
       "\\end{tabular}\n"
      ],
      "text/plain": [
       "5×12 DataFrame\n",
       "│ Row │ weekid     │ week_position │ song           │ performer     │ songid                      │ instance │ previous_week_position │ peak_position │ weeks_on_chart │ year  │ month │ day   │\n",
       "│     │ \u001b[90mString\u001b[39m     │ \u001b[90mInt64\u001b[39m         │ \u001b[90mString\u001b[39m         │ \u001b[90mString\u001b[39m        │ \u001b[90mString\u001b[39m                      │ \u001b[90mInt64\u001b[39m    │ \u001b[90mUnion{Missing, Int64}\u001b[39m  │ \u001b[90mInt64\u001b[39m         │ \u001b[90mInt64\u001b[39m          │ \u001b[90mInt64\u001b[39m │ \u001b[90mInt64\u001b[39m │ \u001b[90mInt64\u001b[39m │\n",
       "├─────┼────────────┼───────────────┼────────────────┼───────────────┼─────────────────────────────┼──────────┼────────────────────────┼───────────────┼────────────────┼───────┼───────┼───────┤\n",
       "│ 1   │ 12/19/2009 │ 63            │ LAST CHRISTMAS │ Glee Cast     │ Last ChristmasGlee Cast     │ 1        │ \u001b[90mmissing\u001b[39m                │ 63            │ 2              │ 2009  │ 12    │ 19    │\n",
       "│ 2   │ 12/26/2009 │ 89            │ LAST CHRISTMAS │ Glee Cast     │ Last ChristmasGlee Cast     │ 1        │ 63                     │ 63            │ 2              │ 2009  │ 12    │ 26    │\n",
       "│ 3   │ 12/7/2013  │ 96            │ LAST CHRISTMAS │ Ariana Grande │ Last ChristmasAriana Grande │ 1        │ \u001b[90mmissing\u001b[39m                │ 96            │ 1              │ 2013  │ 12    │ 7     │\n",
       "│ 4   │ 1/7/2017   │ 50            │ LAST CHRISTMAS │ Wham!         │ Last ChristmasWham!         │ 1        │ \u001b[90mmissing\u001b[39m                │ 41            │ 2              │ 2017  │ 1     │ 7     │\n",
       "│ 5   │ 1/14/2017  │ 41            │ LAST CHRISTMAS │ Wham!         │ Last ChristmasWham!         │ 1        │ 50                     │ 41            │ 2              │ 2017  │ 1     │ 14    │"
      ]
     },
     "execution_count": 18,
     "metadata": {
     },
     "output_type": "execute_result"
    }
   ],
   "source": [
    "wham = data[data.song .== \"LAST CHRISTMAS\", 2:end ]"
   ]
  },
  {
   "cell_type": "markdown",
   "metadata": {
    "collapsed": false
   },
   "source": [
    "The *Wham!* version of *Last Christmas* was only in the charts in 2017. That seems suspicious. The reason for that can be found on [Wikipedia](https://en.wikipedia.org/wiki/Last_Christmas#Other_territories):\n",
    "\n",
    "> \"Last Christmas\" was not released commercially as a single in the United States until November 2014, when it was made available on 12\" vinyl as a Record Store Day exclusive.[51] Since then, the song has re-entered the Billboard Holiday Songs Chart on a regular basis, peaking at No. 3 on 7 December 2019.[52][53]\n",
    "\n",
    "> As of 25 November 2016, total US sales of the digital track stand at 751,000 downloads according to Nielsen SoundScan, placing it 10th on the list of all-time best-selling Christmas/holiday digital singles in US SoundScan history.[54] The song debuted at number 50 on the Billboard Hot 100 in the chart dated 7 January 2017, after George Michael died.[55] In December 2018, the song re-entered the Hot 100, reaching No. 25 in January 2019,[56] and then a new peak of No. 11 in the first issue of 2020. On the issue dated 2 January 2021, \"Last Christmas\" reached number nine on the Hot 100, its first foray into the top 10 and returning Wham! to the top 10 after a 35-year break.[57][58] According to the Recording Industry Association of America (RIAA), it was certified double platinum in December 2019 and has sold 2 million digital units.[59] \n",
    "\n",
    "In addition: we as Germans might be biased! From [the same source](https://en.wikipedia.org/wiki/Last_Christmas#Other_territories):\n",
    "\n",
    "> In Germany, the song is the most successful Christmas single of all time, having spent 147 weeks on the German Singles Chart and attained a peak position of No. 2 on 27 December 2019.[41] It has charted every year since 1997.[42]"
   ]
  },
  {
   "cell_type": "code",
   "execution_count": 19,
   "metadata": {
    "collapsed": false
   },
   "outputs": [
    {
     "data": {
      "text/plain": [
       "OrderedCollections.OrderedDict{String, Int64} with 78 entries:\n",
       "  \"Jingle Bell RockBobby Helms\"                                                                                              => 20\n",
       "  \"Rockin' Around The Christmas TreeBrenda Lee\"                                                                              => 19\n",
       "  \"All I Want For Christmas Is YouMariah Carey\"                                                                              => 19\n",
       "  \"The Chipmunk Song (Christmas Don't Be Late)David Seville And The Chipmunks\"                                               => 16\n",
       "  \"White ChristmasBing Crosby\"                                                                                               => 14\n",
       "  \"Better DaysGoo Goo Dolls\"                                                                                                 => 13\n",
       "  \"This One's For The ChildrenNew Kids On The Block\"                                                                         => 12\n",
       "  \"AmenThe Impressions\"                                                                                                      => 11\n",
       "  \"MistletoeJustin Bieber\"                                                                                                   => 10\n",
       "  \"If We Make It Through DecemberMerle Haggard\"                                                                              => 10\n",
       "  \"The Marvelous ToyThe Chad Mitchell Trio\"                                                                                  => 9\n",
       "  \"Winter World Of LoveEngelbert Humperdinck\"                                                                                => 9\n",
       "  \"Little Altar BoyVic Dana\"                                                                                                 => 9\n",
       "  \"Please Come Home For ChristmasEagles\"                                                                                     => 8\n",
       "  \"Jingle Bell RockBobby Rydell/Chubby Checker\"                                                                              => 8\n",
       "  \"Same Old Lang SyneDan Fogelberg\"                                                                                          => 8\n",
       "  \"The Christmas Song (Merry Christmas To You)Nat King Cole\"                                                                 => 8\n",
       "  \"Let It SnowBoyz II Men\"                                                                                                   => 7\n",
       "  \"Pretty PaperRoy Orbison\"                                                                                                  => 7\n",
       "  \"When A Child Is BornMichael Holm\"                                                                                         => 7\n",
       "  \"My Favorite ThingsHerb Alpert & The Tijuana Brass\"                                                                        => 6\n",
       "  \"Do They Know It's Christmas?Band-Aid\"                                                                                     => 6\n",
       "  \"What Can You Get A Wookiee For Christmas (When He Already Owns A Comb?)The Star Wars Intergalactic Droid Choir & Chorale\" => 6\n",
       "  \"Monsters' HolidayBobby \\\"Boris\\\" Pickett And The Crypt-Kickers\"                                                           => 6\n",
       "  \"Baby's First ChristmasConnie Francis\"                                                                                     => 6\n",
       "  ⋮                                                                                                                          => ⋮"
      ]
     },
     "execution_count": 19,
     "metadata": {
     },
     "output_type": "execute_result"
    }
   ],
   "source": [
    "data.songid |> countmap |> x-> sort(x, rev =true,byvalue = true)"
   ]
  },
  {
   "cell_type": "code",
   "execution_count": 20,
   "metadata": {
    "collapsed": false
   },
   "outputs": [
    {
     "data": {
      "text/plain": [
       "OrderedCollections.OrderedDict{String, Int64} with 78 entries:\n",
       "  \"Jingle Bell RockBobby Helms\"                                                                                              => 20\n",
       "  \"Rockin' Around The Christmas TreeBrenda Lee\"                                                                              => 19\n",
       "  \"All I Want For Christmas Is YouMariah Carey\"                                                                              => 19\n",
       "  \"The Chipmunk Song (Christmas Don't Be Late)David Seville And The Chipmunks\"                                               => 16\n",
       "  \"White ChristmasBing Crosby\"                                                                                               => 14\n",
       "  \"Better DaysGoo Goo Dolls\"                                                                                                 => 13\n",
       "  \"This One's For The ChildrenNew Kids On The Block\"                                                                         => 12\n",
       "  \"AmenThe Impressions\"                                                                                                      => 11\n",
       "  \"MistletoeJustin Bieber\"                                                                                                   => 10\n",
       "  \"If We Make It Through DecemberMerle Haggard\"                                                                              => 10\n",
       "  \"The Marvelous ToyThe Chad Mitchell Trio\"                                                                                  => 9\n",
       "  \"Winter World Of LoveEngelbert Humperdinck\"                                                                                => 9\n",
       "  \"Little Altar BoyVic Dana\"                                                                                                 => 9\n",
       "  \"Please Come Home For ChristmasEagles\"                                                                                     => 8\n",
       "  \"Jingle Bell RockBobby Rydell/Chubby Checker\"                                                                              => 8\n",
       "  \"Same Old Lang SyneDan Fogelberg\"                                                                                          => 8\n",
       "  \"The Christmas Song (Merry Christmas To You)Nat King Cole\"                                                                 => 8\n",
       "  \"Let It SnowBoyz II Men\"                                                                                                   => 7\n",
       "  \"Pretty PaperRoy Orbison\"                                                                                                  => 7\n",
       "  \"When A Child Is BornMichael Holm\"                                                                                         => 7\n",
       "  \"My Favorite ThingsHerb Alpert & The Tijuana Brass\"                                                                        => 6\n",
       "  \"Do They Know It's Christmas?Band-Aid\"                                                                                     => 6\n",
       "  \"What Can You Get A Wookiee For Christmas (When He Already Owns A Comb?)The Star Wars Intergalactic Droid Choir & Chorale\" => 6\n",
       "  \"Monsters' HolidayBobby \\\"Boris\\\" Pickett And The Crypt-Kickers\"                                                           => 6\n",
       "  \"Baby's First ChristmasConnie Francis\"                                                                                     => 6\n",
       "  ⋮                                                                                                                          => ⋮"
      ]
     },
     "execution_count": 20,
     "metadata": {
     },
     "output_type": "execute_result"
    }
   ],
   "source": [
    "sort(countmap(data.songid),rev = true, byvalue = true)"
   ]
  }
 ],
 "metadata": {
  "kernelspec": {
   "display_name": "Julia 1.6",
   "env": {
    "JULIA_DEPOT_PATH": "/home/user/.julia/:/ext/julia/depot/",
    "JULIA_PROJECT": "/home/user/.julia/environment/v1.6"
   },
   "language": "julia",
   "metadata": {
    "cocalc": {
     "description": "The Julia Programming Language",
     "priority": 10,
     "url": "https://julialang.org/"
    }
   },
   "name": "julia-1.6",
   "resource_dir": "/ext/jupyter/kernels/julia-1.6"
  },
  "language_info": {
   "file_extension": ".jl",
   "mimetype": "application/julia",
   "name": "julia",
   "version": "1.6.3"
  }
 },
 "nbformat": 4,
 "nbformat_minor": 4
}