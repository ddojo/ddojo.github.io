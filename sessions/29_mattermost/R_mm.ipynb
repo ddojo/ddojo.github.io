{
 "cells": [
  {
   "cell_type": "code",
   "execution_count": 1,
   "metadata": {
    "vscode": {
     "languageId": "r"
    }
   },
   "outputs": [
    {
     "name": "stderr",
     "output_type": "stream",
     "text": [
      "── \u001b[1mAttaching core tidyverse packages\u001b[22m ──────────────────────── tidyverse 2.0.0 ──\n",
      "\u001b[32m✔\u001b[39m \u001b[34mdplyr    \u001b[39m 1.1.4     \u001b[32m✔\u001b[39m \u001b[34mreadr    \u001b[39m 2.1.5\n",
      "\u001b[32m✔\u001b[39m \u001b[34mforcats  \u001b[39m 1.0.0     \u001b[32m✔\u001b[39m \u001b[34mstringr  \u001b[39m 1.5.1\n",
      "\u001b[32m✔\u001b[39m \u001b[34mggplot2  \u001b[39m 3.5.1     \u001b[32m✔\u001b[39m \u001b[34mtibble   \u001b[39m 3.2.1\n",
      "\u001b[32m✔\u001b[39m \u001b[34mlubridate\u001b[39m 1.9.3     \u001b[32m✔\u001b[39m \u001b[34mtidyr    \u001b[39m 1.3.1\n",
      "\u001b[32m✔\u001b[39m \u001b[34mpurrr    \u001b[39m 1.0.2     \n",
      "── \u001b[1mConflicts\u001b[22m ────────────────────────────────────────── tidyverse_conflicts() ──\n",
      "\u001b[31m✖\u001b[39m \u001b[34mdplyr\u001b[39m::\u001b[32mfilter()\u001b[39m masks \u001b[34mstats\u001b[39m::filter()\n",
      "\u001b[31m✖\u001b[39m \u001b[34mdplyr\u001b[39m::\u001b[32mlag()\u001b[39m    masks \u001b[34mstats\u001b[39m::lag()\n",
      "\u001b[36mℹ\u001b[39m Use the conflicted package (\u001b[3m\u001b[34m<http://conflicted.r-lib.org/>\u001b[39m\u001b[23m) to force all conflicts to become errors\n"
     ]
    }
   ],
   "source": [
    "library(tidyverse)"
   ]
  },
  {
   "cell_type": "code",
   "execution_count": 2,
   "metadata": {
    "vscode": {
     "languageId": "r"
    }
   },
   "outputs": [
    {
     "name": "stderr",
     "output_type": "stream",
     "text": [
      "\u001b[1mRows: \u001b[22m\u001b[34m6934\u001b[39m \u001b[1mColumns: \u001b[22m\u001b[34m6\u001b[39m\n",
      "\u001b[36m──\u001b[39m \u001b[1mColumn specification\u001b[22m \u001b[36m────────────────────────────────────────────────────────\u001b[39m\n",
      "\u001b[1mDelimiter:\u001b[22m \",\"\n",
      "\u001b[31mchr\u001b[39m  (3): post_id, message, username\n",
      "\u001b[32mdbl\u001b[39m  (2): num_reactions, num_files\n",
      "\u001b[34mdttm\u001b[39m (1): create_at\n",
      "\n",
      "\u001b[36mℹ\u001b[39m Use `spec()` to retrieve the full column specification for this data.\n",
      "\u001b[36mℹ\u001b[39m Specify the column types or set `show_col_types = FALSE` to quiet this message.\n",
      "\u001b[1mRows: \u001b[22m\u001b[34m3611\u001b[39m \u001b[1mColumns: \u001b[22m\u001b[34m5\u001b[39m\n",
      "\u001b[36m──\u001b[39m \u001b[1mColumn specification\u001b[22m \u001b[36m────────────────────────────────────────────────────────\u001b[39m\n",
      "\u001b[1mDelimiter:\u001b[22m \",\"\n",
      "\u001b[31mchr\u001b[39m  (4): post_id, emoji_name, username, emoji\n",
      "\u001b[34mdttm\u001b[39m (1): create_at\n",
      "\n",
      "\u001b[36mℹ\u001b[39m Use `spec()` to retrieve the full column specification for this data.\n",
      "\u001b[36mℹ\u001b[39m Specify the column types or set `show_col_types = FALSE` to quiet this message.\n",
      "\u001b[1mRows: \u001b[22m\u001b[34m217\u001b[39m \u001b[1mColumns: \u001b[22m\u001b[34m3\u001b[39m\n",
      "\u001b[36m──\u001b[39m \u001b[1mColumn specification\u001b[22m \u001b[36m────────────────────────────────────────────────────────\u001b[39m\n",
      "\u001b[1mDelimiter:\u001b[22m \",\"\n",
      "\u001b[31mchr\u001b[39m (3): post_id, file_id, link\n",
      "\n",
      "\u001b[36mℹ\u001b[39m Use `spec()` to retrieve the full column specification for this data.\n",
      "\u001b[36mℹ\u001b[39m Specify the column types or set `show_col_types = FALSE` to quiet this message.\n"
     ]
    }
   ],
   "source": [
    "messages <- read_csv(\"messages.csv\")\n",
    "reactions <- read_csv(\"reactions.csv\")\n",
    "files <- read_csv(\"files.csv\")"
   ]
  },
  {
   "cell_type": "code",
   "execution_count": 3,
   "metadata": {
    "vscode": {
     "languageId": "r"
    }
   },
   "outputs": [],
   "source": [
    "options(repr.matrix.max.rows = 10)"
   ]
  },
  {
   "cell_type": "code",
   "execution_count": 4,
   "metadata": {
    "vscode": {
     "languageId": "r"
    }
   },
   "outputs": [
    {
     "data": {
      "text/html": [
       "<table class=\"dataframe\">\n",
       "<caption>A spec_tbl_df: 6934 × 6</caption>\n",
       "<thead>\n",
       "\t<tr><th scope=col>post_id</th><th scope=col>create_at</th><th scope=col>message</th><th scope=col>username</th><th scope=col>num_reactions</th><th scope=col>num_files</th></tr>\n",
       "\t<tr><th scope=col>&lt;chr&gt;</th><th scope=col>&lt;dttm&gt;</th><th scope=col>&lt;chr&gt;</th><th scope=col>&lt;chr&gt;</th><th scope=col>&lt;dbl&gt;</th><th scope=col>&lt;dbl&gt;</th></tr>\n",
       "</thead>\n",
       "<tbody>\n",
       "\t<tr><td>h957oi1t63rf5b6p4pqfhiis5h</td><td>2016-05-02 12:02:13</td><td>Also ich habe etwas dabei   </td><td>greatfireball</td><td>0</td><td>0</td></tr>\n",
       "\t<tr><td>rpwuii8hci8ezmn3d41u9d58fc</td><td>2016-05-02 12:03:02</td><td>ich gehe mir jetzt was holen</td><td>nterhoeven   </td><td>0</td><td>0</td></tr>\n",
       "\t<tr><td>e8bnwq8c7fdf5k7zpqyeihougr</td><td>2016-05-02 12:03:24</td><td>Alles klar                  </td><td>greatfireball</td><td>0</td><td>0</td></tr>\n",
       "\t<tr><td>sku34dhpntdfdmc5d9ky9a9yso</td><td>2016-05-02 12:20:33</td><td>Hallo @joerg                </td><td>greatfireball</td><td>0</td><td>0</td></tr>\n",
       "\t<tr><td>hi38ssjpb3yqz88dk83tzjq5zr</td><td>2016-05-02 12:20:35</td><td>Essen?                      </td><td>greatfireball</td><td>0</td><td>0</td></tr>\n",
       "\t<tr><td>⋮</td><td>⋮</td><td>⋮</td><td>⋮</td><td>⋮</td><td>⋮</td></tr>\n",
       "\t<tr><td>bztf3jo6q3rqbkpmabmbonhfde</td><td>2024-08-29 11:05:25</td><td>when?       </td><td>felixfink     </td><td>0</td><td>0</td></tr>\n",
       "\t<tr><td>pzcs4g7f3pgi7g35d6f4hwnp7w</td><td>2024-08-29 11:06:41</td><td>11:15?      </td><td>sascha_ollertz</td><td>2</td><td>0</td></tr>\n",
       "\t<tr><td>d3dxbcsmyi8i7rae83hn6m6aue</td><td>2024-08-30 11:09:52</td><td>lunch 11:15?</td><td>felixfink     </td><td>2</td><td>0</td></tr>\n",
       "\t<tr><td>gnamzgc7gprzzch6kpio9emwjy</td><td>2024-09-02 11:01:02</td><td>11:15?      </td><td>felixfink     </td><td>5</td><td>1</td></tr>\n",
       "\t<tr><td>mputf8b3mpygu8td7hr9nmnw3r</td><td>2024-09-03 11:00:22</td><td>11:15?      </td><td>felixfink     </td><td>7</td><td>1</td></tr>\n",
       "</tbody>\n",
       "</table>\n"
      ],
      "text/latex": [
       "A spec\\_tbl\\_df: 6934 × 6\n",
       "\\begin{tabular}{llllll}\n",
       " post\\_id & create\\_at & message & username & num\\_reactions & num\\_files\\\\\n",
       " <chr> & <dttm> & <chr> & <chr> & <dbl> & <dbl>\\\\\n",
       "\\hline\n",
       "\t h957oi1t63rf5b6p4pqfhiis5h & 2016-05-02 12:02:13 & Also ich habe etwas dabei    & greatfireball & 0 & 0\\\\\n",
       "\t rpwuii8hci8ezmn3d41u9d58fc & 2016-05-02 12:03:02 & ich gehe mir jetzt was holen & nterhoeven    & 0 & 0\\\\\n",
       "\t e8bnwq8c7fdf5k7zpqyeihougr & 2016-05-02 12:03:24 & Alles klar                   & greatfireball & 0 & 0\\\\\n",
       "\t sku34dhpntdfdmc5d9ky9a9yso & 2016-05-02 12:20:33 & Hallo @joerg                 & greatfireball & 0 & 0\\\\\n",
       "\t hi38ssjpb3yqz88dk83tzjq5zr & 2016-05-02 12:20:35 & Essen?                       & greatfireball & 0 & 0\\\\\n",
       "\t ⋮ & ⋮ & ⋮ & ⋮ & ⋮ & ⋮\\\\\n",
       "\t bztf3jo6q3rqbkpmabmbonhfde & 2024-08-29 11:05:25 & when?        & felixfink      & 0 & 0\\\\\n",
       "\t pzcs4g7f3pgi7g35d6f4hwnp7w & 2024-08-29 11:06:41 & 11:15?       & sascha\\_ollertz & 2 & 0\\\\\n",
       "\t d3dxbcsmyi8i7rae83hn6m6aue & 2024-08-30 11:09:52 & lunch 11:15? & felixfink      & 2 & 0\\\\\n",
       "\t gnamzgc7gprzzch6kpio9emwjy & 2024-09-02 11:01:02 & 11:15?       & felixfink      & 5 & 1\\\\\n",
       "\t mputf8b3mpygu8td7hr9nmnw3r & 2024-09-03 11:00:22 & 11:15?       & felixfink      & 7 & 1\\\\\n",
       "\\end{tabular}\n"
      ],
      "text/markdown": [
       "\n",
       "A spec_tbl_df: 6934 × 6\n",
       "\n",
       "| post_id &lt;chr&gt; | create_at &lt;dttm&gt; | message &lt;chr&gt; | username &lt;chr&gt; | num_reactions &lt;dbl&gt; | num_files &lt;dbl&gt; |\n",
       "|---|---|---|---|---|---|\n",
       "| h957oi1t63rf5b6p4pqfhiis5h | 2016-05-02 12:02:13 | Also ich habe etwas dabei    | greatfireball | 0 | 0 |\n",
       "| rpwuii8hci8ezmn3d41u9d58fc | 2016-05-02 12:03:02 | ich gehe mir jetzt was holen | nterhoeven    | 0 | 0 |\n",
       "| e8bnwq8c7fdf5k7zpqyeihougr | 2016-05-02 12:03:24 | Alles klar                   | greatfireball | 0 | 0 |\n",
       "| sku34dhpntdfdmc5d9ky9a9yso | 2016-05-02 12:20:33 | Hallo @joerg                 | greatfireball | 0 | 0 |\n",
       "| hi38ssjpb3yqz88dk83tzjq5zr | 2016-05-02 12:20:35 | Essen?                       | greatfireball | 0 | 0 |\n",
       "| ⋮ | ⋮ | ⋮ | ⋮ | ⋮ | ⋮ |\n",
       "| bztf3jo6q3rqbkpmabmbonhfde | 2024-08-29 11:05:25 | when?        | felixfink      | 0 | 0 |\n",
       "| pzcs4g7f3pgi7g35d6f4hwnp7w | 2024-08-29 11:06:41 | 11:15?       | sascha_ollertz | 2 | 0 |\n",
       "| d3dxbcsmyi8i7rae83hn6m6aue | 2024-08-30 11:09:52 | lunch 11:15? | felixfink      | 2 | 0 |\n",
       "| gnamzgc7gprzzch6kpio9emwjy | 2024-09-02 11:01:02 | 11:15?       | felixfink      | 5 | 1 |\n",
       "| mputf8b3mpygu8td7hr9nmnw3r | 2024-09-03 11:00:22 | 11:15?       | felixfink      | 7 | 1 |\n",
       "\n"
      ],
      "text/plain": [
       "     post_id                    create_at          \n",
       "1    h957oi1t63rf5b6p4pqfhiis5h 2016-05-02 12:02:13\n",
       "2    rpwuii8hci8ezmn3d41u9d58fc 2016-05-02 12:03:02\n",
       "3    e8bnwq8c7fdf5k7zpqyeihougr 2016-05-02 12:03:24\n",
       "4    sku34dhpntdfdmc5d9ky9a9yso 2016-05-02 12:20:33\n",
       "5    hi38ssjpb3yqz88dk83tzjq5zr 2016-05-02 12:20:35\n",
       "⋮    ⋮                          ⋮                  \n",
       "6930 bztf3jo6q3rqbkpmabmbonhfde 2024-08-29 11:05:25\n",
       "6931 pzcs4g7f3pgi7g35d6f4hwnp7w 2024-08-29 11:06:41\n",
       "6932 d3dxbcsmyi8i7rae83hn6m6aue 2024-08-30 11:09:52\n",
       "6933 gnamzgc7gprzzch6kpio9emwjy 2024-09-02 11:01:02\n",
       "6934 mputf8b3mpygu8td7hr9nmnw3r 2024-09-03 11:00:22\n",
       "     message                      username       num_reactions num_files\n",
       "1    Also ich habe etwas dabei    greatfireball  0             0        \n",
       "2    ich gehe mir jetzt was holen nterhoeven     0             0        \n",
       "3    Alles klar                   greatfireball  0             0        \n",
       "4    Hallo @joerg                 greatfireball  0             0        \n",
       "5    Essen?                       greatfireball  0             0        \n",
       "⋮    ⋮                            ⋮              ⋮             ⋮        \n",
       "6930 when?                        felixfink      0             0        \n",
       "6931 11:15?                       sascha_ollertz 2             0        \n",
       "6932 lunch 11:15?                 felixfink      2             0        \n",
       "6933 11:15?                       felixfink      5             1        \n",
       "6934 11:15?                       felixfink      7             1        "
      ]
     },
     "metadata": {},
     "output_type": "display_data"
    }
   ],
   "source": [
    "messages"
   ]
  },
  {
   "cell_type": "code",
   "execution_count": 5,
   "metadata": {
    "vscode": {
     "languageId": "r"
    }
   },
   "outputs": [
    {
     "data": {
      "text/html": [
       "<table class=\"dataframe\">\n",
       "<caption>A spec_tbl_df: 3611 × 5</caption>\n",
       "<thead>\n",
       "\t<tr><th scope=col>post_id</th><th scope=col>create_at</th><th scope=col>emoji_name</th><th scope=col>username</th><th scope=col>emoji</th></tr>\n",
       "\t<tr><th scope=col>&lt;chr&gt;</th><th scope=col>&lt;dttm&gt;</th><th scope=col>&lt;chr&gt;</th><th scope=col>&lt;chr&gt;</th><th scope=col>&lt;chr&gt;</th></tr>\n",
       "</thead>\n",
       "<tbody>\n",
       "\t<tr><td>ng3m9o5c5igw3gpgg1dqmgs4mw</td><td>2017-08-18 11:57:23</td><td>+1</td><td>lulei          </td><td>👍</td></tr>\n",
       "\t<tr><td>atnyf76f1tb1fmznhrk4s3wohr</td><td>2017-08-21 11:50:04</td><td>+1</td><td>sonja          </td><td>👍</td></tr>\n",
       "\t<tr><td>atnyf76f1tb1fmznhrk4s3wohr</td><td>2017-08-21 11:52:22</td><td>+1</td><td>iimog          </td><td>👍</td></tr>\n",
       "\t<tr><td>eh5ge6nnf7np5q61rqpfwhmqaw</td><td>2017-08-23 11:24:45</td><td>+1</td><td>sonja          </td><td>👍</td></tr>\n",
       "\t<tr><td>eh5ge6nnf7np5q61rqpfwhmqaw</td><td>2017-08-23 11:26:44</td><td>+1</td><td>alexanderkeller</td><td>👍</td></tr>\n",
       "\t<tr><td>⋮</td><td>⋮</td><td>⋮</td><td>⋮</td><td>⋮</td></tr>\n",
       "\t<tr><td>mputf8b3mpygu8td7hr9nmnw3r</td><td>2024-09-03 11:05:36</td><td>gopnik          </td><td>felixfink     </td><td>:gopnik:          </td></tr>\n",
       "\t<tr><td>mputf8b3mpygu8td7hr9nmnw3r</td><td>2024-09-03 11:06:53</td><td>pizza           </td><td>sascha_ollertz</td><td>🍕                </td></tr>\n",
       "\t<tr><td>mputf8b3mpygu8td7hr9nmnw3r</td><td>2024-09-03 11:07:49</td><td>man-gesturing-ok</td><td>mike_k        </td><td>:man-gesturing-ok:</td></tr>\n",
       "\t<tr><td>mputf8b3mpygu8td7hr9nmnw3r</td><td>2024-09-03 11:09:13</td><td>gopnik          </td><td>david         </td><td>:gopnik:          </td></tr>\n",
       "\t<tr><td>mputf8b3mpygu8td7hr9nmnw3r</td><td>2024-09-03 11:16:31</td><td>pizza           </td><td>felixfink     </td><td>🍕                </td></tr>\n",
       "</tbody>\n",
       "</table>\n"
      ],
      "text/latex": [
       "A spec\\_tbl\\_df: 3611 × 5\n",
       "\\begin{tabular}{lllll}\n",
       " post\\_id & create\\_at & emoji\\_name & username & emoji\\\\\n",
       " <chr> & <dttm> & <chr> & <chr> & <chr>\\\\\n",
       "\\hline\n",
       "\t ng3m9o5c5igw3gpgg1dqmgs4mw & 2017-08-18 11:57:23 & +1 & lulei           & 👍\\\\\n",
       "\t atnyf76f1tb1fmznhrk4s3wohr & 2017-08-21 11:50:04 & +1 & sonja           & 👍\\\\\n",
       "\t atnyf76f1tb1fmznhrk4s3wohr & 2017-08-21 11:52:22 & +1 & iimog           & 👍\\\\\n",
       "\t eh5ge6nnf7np5q61rqpfwhmqaw & 2017-08-23 11:24:45 & +1 & sonja           & 👍\\\\\n",
       "\t eh5ge6nnf7np5q61rqpfwhmqaw & 2017-08-23 11:26:44 & +1 & alexanderkeller & 👍\\\\\n",
       "\t ⋮ & ⋮ & ⋮ & ⋮ & ⋮\\\\\n",
       "\t mputf8b3mpygu8td7hr9nmnw3r & 2024-09-03 11:05:36 & gopnik           & felixfink      & :gopnik:          \\\\\n",
       "\t mputf8b3mpygu8td7hr9nmnw3r & 2024-09-03 11:06:53 & pizza            & sascha\\_ollertz & 🍕                \\\\\n",
       "\t mputf8b3mpygu8td7hr9nmnw3r & 2024-09-03 11:07:49 & man-gesturing-ok & mike\\_k         & :man-gesturing-ok:\\\\\n",
       "\t mputf8b3mpygu8td7hr9nmnw3r & 2024-09-03 11:09:13 & gopnik           & david          & :gopnik:          \\\\\n",
       "\t mputf8b3mpygu8td7hr9nmnw3r & 2024-09-03 11:16:31 & pizza            & felixfink      & 🍕                \\\\\n",
       "\\end{tabular}\n"
      ],
      "text/markdown": [
       "\n",
       "A spec_tbl_df: 3611 × 5\n",
       "\n",
       "| post_id &lt;chr&gt; | create_at &lt;dttm&gt; | emoji_name &lt;chr&gt; | username &lt;chr&gt; | emoji &lt;chr&gt; |\n",
       "|---|---|---|---|---|\n",
       "| ng3m9o5c5igw3gpgg1dqmgs4mw | 2017-08-18 11:57:23 | +1 | lulei           | 👍 |\n",
       "| atnyf76f1tb1fmznhrk4s3wohr | 2017-08-21 11:50:04 | +1 | sonja           | 👍 |\n",
       "| atnyf76f1tb1fmznhrk4s3wohr | 2017-08-21 11:52:22 | +1 | iimog           | 👍 |\n",
       "| eh5ge6nnf7np5q61rqpfwhmqaw | 2017-08-23 11:24:45 | +1 | sonja           | 👍 |\n",
       "| eh5ge6nnf7np5q61rqpfwhmqaw | 2017-08-23 11:26:44 | +1 | alexanderkeller | 👍 |\n",
       "| ⋮ | ⋮ | ⋮ | ⋮ | ⋮ |\n",
       "| mputf8b3mpygu8td7hr9nmnw3r | 2024-09-03 11:05:36 | gopnik           | felixfink      | :gopnik:           |\n",
       "| mputf8b3mpygu8td7hr9nmnw3r | 2024-09-03 11:06:53 | pizza            | sascha_ollertz | 🍕                 |\n",
       "| mputf8b3mpygu8td7hr9nmnw3r | 2024-09-03 11:07:49 | man-gesturing-ok | mike_k         | :man-gesturing-ok: |\n",
       "| mputf8b3mpygu8td7hr9nmnw3r | 2024-09-03 11:09:13 | gopnik           | david          | :gopnik:           |\n",
       "| mputf8b3mpygu8td7hr9nmnw3r | 2024-09-03 11:16:31 | pizza            | felixfink      | 🍕                 |\n",
       "\n"
      ],
      "text/plain": [
       "     post_id                    create_at           emoji_name      \n",
       "1    ng3m9o5c5igw3gpgg1dqmgs4mw 2017-08-18 11:57:23 +1              \n",
       "2    atnyf76f1tb1fmznhrk4s3wohr 2017-08-21 11:50:04 +1              \n",
       "3    atnyf76f1tb1fmznhrk4s3wohr 2017-08-21 11:52:22 +1              \n",
       "4    eh5ge6nnf7np5q61rqpfwhmqaw 2017-08-23 11:24:45 +1              \n",
       "5    eh5ge6nnf7np5q61rqpfwhmqaw 2017-08-23 11:26:44 +1              \n",
       "⋮    ⋮                          ⋮                   ⋮               \n",
       "3607 mputf8b3mpygu8td7hr9nmnw3r 2024-09-03 11:05:36 gopnik          \n",
       "3608 mputf8b3mpygu8td7hr9nmnw3r 2024-09-03 11:06:53 pizza           \n",
       "3609 mputf8b3mpygu8td7hr9nmnw3r 2024-09-03 11:07:49 man-gesturing-ok\n",
       "3610 mputf8b3mpygu8td7hr9nmnw3r 2024-09-03 11:09:13 gopnik          \n",
       "3611 mputf8b3mpygu8td7hr9nmnw3r 2024-09-03 11:16:31 pizza           \n",
       "     username        emoji             \n",
       "1    lulei           👍                \n",
       "2    sonja           👍                \n",
       "3    iimog           👍                \n",
       "4    sonja           👍                \n",
       "5    alexanderkeller 👍                \n",
       "⋮    ⋮               ⋮                 \n",
       "3607 felixfink       :gopnik:          \n",
       "3608 sascha_ollertz  🍕                \n",
       "3609 mike_k          :man-gesturing-ok:\n",
       "3610 david           :gopnik:          \n",
       "3611 felixfink       🍕                "
      ]
     },
     "metadata": {},
     "output_type": "display_data"
    }
   ],
   "source": [
    "reactions"
   ]
  },
  {
   "cell_type": "code",
   "execution_count": 6,
   "metadata": {
    "vscode": {
     "languageId": "r"
    }
   },
   "outputs": [
    {
     "data": {
      "text/html": [
       "<table class=\"dataframe\">\n",
       "<caption>A spec_tbl_df: 217 × 3</caption>\n",
       "<thead>\n",
       "\t<tr><th scope=col>post_id</th><th scope=col>file_id</th><th scope=col>link</th></tr>\n",
       "\t<tr><th scope=col>&lt;chr&gt;</th><th scope=col>&lt;chr&gt;</th><th scope=col>&lt;chr&gt;</th></tr>\n",
       "</thead>\n",
       "<tbody>\n",
       "\t<tr><td>om9ew7kt8jb67kdfpccxghhi6w</td><td>pj8qc7ou7jykpmjufpdajw1c7c</td><td>https://cctb-intern.biologie.uni-wuerzburg.de/api/v4/files/pj8qc7ou7jykpmjufpdajw1c7c/preview</td></tr>\n",
       "\t<tr><td>gphsf7myujyttrkp8h1m88a1oe</td><td>dw7wgdga9ibpdxb4oqu6n7hszy</td><td>https://cctb-intern.biologie.uni-wuerzburg.de/api/v4/files/dw7wgdga9ibpdxb4oqu6n7hszy/preview</td></tr>\n",
       "\t<tr><td>gphsf7myujyttrkp8h1m88a1oe</td><td>na9j4ujj8fgmjrxaf3xguuitbo</td><td>https://cctb-intern.biologie.uni-wuerzburg.de/api/v4/files/na9j4ujj8fgmjrxaf3xguuitbo/preview</td></tr>\n",
       "\t<tr><td>s9to6m6k47nbxq6o9qcjw6g8ke</td><td>rbhd48d9qt8ejpd6zko3wpyn5r</td><td>https://cctb-intern.biologie.uni-wuerzburg.de/api/v4/files/rbhd48d9qt8ejpd6zko3wpyn5r/preview</td></tr>\n",
       "\t<tr><td>s9to6m6k47nbxq6o9qcjw6g8ke</td><td>13wiiwwk8bbniqthcpjkr6bqsw</td><td>https://cctb-intern.biologie.uni-wuerzburg.de/api/v4/files/13wiiwwk8bbniqthcpjkr6bqsw/preview</td></tr>\n",
       "\t<tr><td>⋮</td><td>⋮</td><td>⋮</td></tr>\n",
       "\t<tr><td>nejc3nh1offzdp7bmgpnqe8ekr</td><td>qibqn97p7indj8kaaf99138t5e</td><td>https://cctb-intern.biologie.uni-wuerzburg.de/api/v4/files/qibqn97p7indj8kaaf99138t5e/preview</td></tr>\n",
       "\t<tr><td>bbfpcxrnq3g7fq95ftjor4f3ge</td><td>dtomhxxczibpjgze7eyd1ie3hc</td><td>https://cctb-intern.biologie.uni-wuerzburg.de/api/v4/files/dtomhxxczibpjgze7eyd1ie3hc/preview</td></tr>\n",
       "\t<tr><td>3mkddbhfftbmjecwinq7nuy6zw</td><td>7hr6w6dkf3n3iy1nganjg71dda</td><td>https://cctb-intern.biologie.uni-wuerzburg.de/api/v4/files/7hr6w6dkf3n3iy1nganjg71dda/preview</td></tr>\n",
       "\t<tr><td>gnamzgc7gprzzch6kpio9emwjy</td><td>pny95the7pfrb8uahkddsdrbir</td><td>https://cctb-intern.biologie.uni-wuerzburg.de/api/v4/files/pny95the7pfrb8uahkddsdrbir/preview</td></tr>\n",
       "\t<tr><td>mputf8b3mpygu8td7hr9nmnw3r</td><td>fuw7wbqyy3gumyw4ne4imgf5nr</td><td>https://cctb-intern.biologie.uni-wuerzburg.de/api/v4/files/fuw7wbqyy3gumyw4ne4imgf5nr/preview</td></tr>\n",
       "</tbody>\n",
       "</table>\n"
      ],
      "text/latex": [
       "A spec\\_tbl\\_df: 217 × 3\n",
       "\\begin{tabular}{lll}\n",
       " post\\_id & file\\_id & link\\\\\n",
       " <chr> & <chr> & <chr>\\\\\n",
       "\\hline\n",
       "\t om9ew7kt8jb67kdfpccxghhi6w & pj8qc7ou7jykpmjufpdajw1c7c & https://cctb-intern.biologie.uni-wuerzburg.de/api/v4/files/pj8qc7ou7jykpmjufpdajw1c7c/preview\\\\\n",
       "\t gphsf7myujyttrkp8h1m88a1oe & dw7wgdga9ibpdxb4oqu6n7hszy & https://cctb-intern.biologie.uni-wuerzburg.de/api/v4/files/dw7wgdga9ibpdxb4oqu6n7hszy/preview\\\\\n",
       "\t gphsf7myujyttrkp8h1m88a1oe & na9j4ujj8fgmjrxaf3xguuitbo & https://cctb-intern.biologie.uni-wuerzburg.de/api/v4/files/na9j4ujj8fgmjrxaf3xguuitbo/preview\\\\\n",
       "\t s9to6m6k47nbxq6o9qcjw6g8ke & rbhd48d9qt8ejpd6zko3wpyn5r & https://cctb-intern.biologie.uni-wuerzburg.de/api/v4/files/rbhd48d9qt8ejpd6zko3wpyn5r/preview\\\\\n",
       "\t s9to6m6k47nbxq6o9qcjw6g8ke & 13wiiwwk8bbniqthcpjkr6bqsw & https://cctb-intern.biologie.uni-wuerzburg.de/api/v4/files/13wiiwwk8bbniqthcpjkr6bqsw/preview\\\\\n",
       "\t ⋮ & ⋮ & ⋮\\\\\n",
       "\t nejc3nh1offzdp7bmgpnqe8ekr & qibqn97p7indj8kaaf99138t5e & https://cctb-intern.biologie.uni-wuerzburg.de/api/v4/files/qibqn97p7indj8kaaf99138t5e/preview\\\\\n",
       "\t bbfpcxrnq3g7fq95ftjor4f3ge & dtomhxxczibpjgze7eyd1ie3hc & https://cctb-intern.biologie.uni-wuerzburg.de/api/v4/files/dtomhxxczibpjgze7eyd1ie3hc/preview\\\\\n",
       "\t 3mkddbhfftbmjecwinq7nuy6zw & 7hr6w6dkf3n3iy1nganjg71dda & https://cctb-intern.biologie.uni-wuerzburg.de/api/v4/files/7hr6w6dkf3n3iy1nganjg71dda/preview\\\\\n",
       "\t gnamzgc7gprzzch6kpio9emwjy & pny95the7pfrb8uahkddsdrbir & https://cctb-intern.biologie.uni-wuerzburg.de/api/v4/files/pny95the7pfrb8uahkddsdrbir/preview\\\\\n",
       "\t mputf8b3mpygu8td7hr9nmnw3r & fuw7wbqyy3gumyw4ne4imgf5nr & https://cctb-intern.biologie.uni-wuerzburg.de/api/v4/files/fuw7wbqyy3gumyw4ne4imgf5nr/preview\\\\\n",
       "\\end{tabular}\n"
      ],
      "text/markdown": [
       "\n",
       "A spec_tbl_df: 217 × 3\n",
       "\n",
       "| post_id &lt;chr&gt; | file_id &lt;chr&gt; | link &lt;chr&gt; |\n",
       "|---|---|---|\n",
       "| om9ew7kt8jb67kdfpccxghhi6w | pj8qc7ou7jykpmjufpdajw1c7c | https://cctb-intern.biologie.uni-wuerzburg.de/api/v4/files/pj8qc7ou7jykpmjufpdajw1c7c/preview |\n",
       "| gphsf7myujyttrkp8h1m88a1oe | dw7wgdga9ibpdxb4oqu6n7hszy | https://cctb-intern.biologie.uni-wuerzburg.de/api/v4/files/dw7wgdga9ibpdxb4oqu6n7hszy/preview |\n",
       "| gphsf7myujyttrkp8h1m88a1oe | na9j4ujj8fgmjrxaf3xguuitbo | https://cctb-intern.biologie.uni-wuerzburg.de/api/v4/files/na9j4ujj8fgmjrxaf3xguuitbo/preview |\n",
       "| s9to6m6k47nbxq6o9qcjw6g8ke | rbhd48d9qt8ejpd6zko3wpyn5r | https://cctb-intern.biologie.uni-wuerzburg.de/api/v4/files/rbhd48d9qt8ejpd6zko3wpyn5r/preview |\n",
       "| s9to6m6k47nbxq6o9qcjw6g8ke | 13wiiwwk8bbniqthcpjkr6bqsw | https://cctb-intern.biologie.uni-wuerzburg.de/api/v4/files/13wiiwwk8bbniqthcpjkr6bqsw/preview |\n",
       "| ⋮ | ⋮ | ⋮ |\n",
       "| nejc3nh1offzdp7bmgpnqe8ekr | qibqn97p7indj8kaaf99138t5e | https://cctb-intern.biologie.uni-wuerzburg.de/api/v4/files/qibqn97p7indj8kaaf99138t5e/preview |\n",
       "| bbfpcxrnq3g7fq95ftjor4f3ge | dtomhxxczibpjgze7eyd1ie3hc | https://cctb-intern.biologie.uni-wuerzburg.de/api/v4/files/dtomhxxczibpjgze7eyd1ie3hc/preview |\n",
       "| 3mkddbhfftbmjecwinq7nuy6zw | 7hr6w6dkf3n3iy1nganjg71dda | https://cctb-intern.biologie.uni-wuerzburg.de/api/v4/files/7hr6w6dkf3n3iy1nganjg71dda/preview |\n",
       "| gnamzgc7gprzzch6kpio9emwjy | pny95the7pfrb8uahkddsdrbir | https://cctb-intern.biologie.uni-wuerzburg.de/api/v4/files/pny95the7pfrb8uahkddsdrbir/preview |\n",
       "| mputf8b3mpygu8td7hr9nmnw3r | fuw7wbqyy3gumyw4ne4imgf5nr | https://cctb-intern.biologie.uni-wuerzburg.de/api/v4/files/fuw7wbqyy3gumyw4ne4imgf5nr/preview |\n",
       "\n"
      ],
      "text/plain": [
       "    post_id                    file_id                   \n",
       "1   om9ew7kt8jb67kdfpccxghhi6w pj8qc7ou7jykpmjufpdajw1c7c\n",
       "2   gphsf7myujyttrkp8h1m88a1oe dw7wgdga9ibpdxb4oqu6n7hszy\n",
       "3   gphsf7myujyttrkp8h1m88a1oe na9j4ujj8fgmjrxaf3xguuitbo\n",
       "4   s9to6m6k47nbxq6o9qcjw6g8ke rbhd48d9qt8ejpd6zko3wpyn5r\n",
       "5   s9to6m6k47nbxq6o9qcjw6g8ke 13wiiwwk8bbniqthcpjkr6bqsw\n",
       "⋮   ⋮                          ⋮                         \n",
       "213 nejc3nh1offzdp7bmgpnqe8ekr qibqn97p7indj8kaaf99138t5e\n",
       "214 bbfpcxrnq3g7fq95ftjor4f3ge dtomhxxczibpjgze7eyd1ie3hc\n",
       "215 3mkddbhfftbmjecwinq7nuy6zw 7hr6w6dkf3n3iy1nganjg71dda\n",
       "216 gnamzgc7gprzzch6kpio9emwjy pny95the7pfrb8uahkddsdrbir\n",
       "217 mputf8b3mpygu8td7hr9nmnw3r fuw7wbqyy3gumyw4ne4imgf5nr\n",
       "    link                                                                                         \n",
       "1   https://cctb-intern.biologie.uni-wuerzburg.de/api/v4/files/pj8qc7ou7jykpmjufpdajw1c7c/preview\n",
       "2   https://cctb-intern.biologie.uni-wuerzburg.de/api/v4/files/dw7wgdga9ibpdxb4oqu6n7hszy/preview\n",
       "3   https://cctb-intern.biologie.uni-wuerzburg.de/api/v4/files/na9j4ujj8fgmjrxaf3xguuitbo/preview\n",
       "4   https://cctb-intern.biologie.uni-wuerzburg.de/api/v4/files/rbhd48d9qt8ejpd6zko3wpyn5r/preview\n",
       "5   https://cctb-intern.biologie.uni-wuerzburg.de/api/v4/files/13wiiwwk8bbniqthcpjkr6bqsw/preview\n",
       "⋮   ⋮                                                                                            \n",
       "213 https://cctb-intern.biologie.uni-wuerzburg.de/api/v4/files/qibqn97p7indj8kaaf99138t5e/preview\n",
       "214 https://cctb-intern.biologie.uni-wuerzburg.de/api/v4/files/dtomhxxczibpjgze7eyd1ie3hc/preview\n",
       "215 https://cctb-intern.biologie.uni-wuerzburg.de/api/v4/files/7hr6w6dkf3n3iy1nganjg71dda/preview\n",
       "216 https://cctb-intern.biologie.uni-wuerzburg.de/api/v4/files/pny95the7pfrb8uahkddsdrbir/preview\n",
       "217 https://cctb-intern.biologie.uni-wuerzburg.de/api/v4/files/fuw7wbqyy3gumyw4ne4imgf5nr/preview"
      ]
     },
     "metadata": {},
     "output_type": "display_data"
    }
   ],
   "source": [
    "files"
   ]
  }
 ],
 "metadata": {
  "kernelspec": {
   "display_name": "R",
   "language": "R",
   "name": "ir"
  },
  "language_info": {
   "codemirror_mode": "r",
   "file_extension": ".r",
   "mimetype": "text/x-r-source",
   "name": "R",
   "pygments_lexer": "r",
   "version": "4.4.1"
  }
 },
 "nbformat": 4,
 "nbformat_minor": 2
}
