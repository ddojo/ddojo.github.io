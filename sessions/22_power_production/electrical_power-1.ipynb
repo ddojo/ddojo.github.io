{
 "cells": [
  {
   "cell_type": "markdown",
   "metadata": {
    "collapsed": false
   },
   "source": [
    "# German Electricity Data :electric_plug: \n",
    "\n",
    "\n",
    "- Data Source: [SMARD Web Portal](https://www.smard.de/) \n",
    "- Task: forecasting (using the past to predict the future)\n",
    "- Language: [julia](https://julialang.org)\n",
    "\n",
    "## First steps:\n",
    "- load the data (with appropriate column types)\n",
    "- split the data into train/val/test sets\n",
    "- plot the time series (at different temporal resolution)\n",
    "- calculate the mean production per month\n",
    "- is there a seasonal pattern (what kinds of seasonalities)\n",
    "- make a prediction for the validation set\n",
    "- evaluate the quality of the prediction"
   ]
  },
  {
   "cell_type": "code",
   "execution_count": 1,
   "metadata": {
    "collapsed": false,
    "jupyter": {
     "outputs_hidden": false
    }
   },
   "outputs": [
   ],
   "source": [
    "using Random"
   ]
  },
  {
   "cell_type": "code",
   "execution_count": 2,
   "metadata": {
    "collapsed": false,
    "jupyter": {
     "outputs_hidden": false
    }
   },
   "outputs": [
    {
     "data": {
      "text/plain": [
       "\"Jörg -> Sascha -> Robin -> Andi -> Chaitanya -> Marko -> Sonia\""
      ]
     },
     "execution_count": 2,
     "metadata": {
     },
     "output_type": "execute_result"
    }
   ],
   "source": [
    "Random.seed!(42)\n",
    "\"Jörg Marko Sascha Chaitanya Sonia Robin Andi\" |> split |> shuffle |> x -> join(x,\" -> \")"
   ]
  },
  {
   "cell_type": "markdown",
   "metadata": {
    "collapsed": false
   },
   "source": [
    "## 1. Data loading\n",
    "\n",
    "- load the hourly data from the file `Realisierte_Erzeugung_201501010000_202305301300_Stunde.csv` as a table into julia\n",
    "- make sure, that data is interpreted and typed correctly\n",
    "- clean header names\n",
    "\n"
   ]
  },
  {
   "cell_type": "code",
   "execution_count": 54,
   "metadata": {
    "collapsed": false,
    "jupyter": {
     "outputs_hidden": false
    }
   },
   "outputs": [
   ],
   "source": [
    "using CSV, DataFrames, Dates"
   ]
  },
  {
   "cell_type": "code",
   "execution_count": 55,
   "metadata": {
    "collapsed": false
   },
   "outputs": [
    {
     "data": {
      "text/plain": [
       "string_parse (generic function with 1 method)"
      ]
     },
     "execution_count": 55,
     "metadata": {
     },
     "output_type": "execute_result"
    }
   ],
   "source": [
    "function string_parse(strg)\n",
    "    if ismissing(strg) \n",
    "        return strg\n",
    "    else\n",
    "    string = replace(strg, \".\" => \"\")\n",
    "    newstring = replace(string, \",\" => \".\")\n",
    "    newnewstring = replace(newstring, \"-\" => missing)\n",
    "    return newnewstring\n",
    "    end\n",
    "end"
   ]
  },
  {
   "cell_type": "code",
   "execution_count": 56,
   "metadata": {
    "collapsed": false
   },
   "outputs": [
    {
     "data": {
      "text/plain": [
       "str_vec_to_float (generic function with 1 method)"
      ]
     },
     "execution_count": 56,
     "metadata": {
     },
     "output_type": "execute_result"
    }
   ],
   "source": [
    "function str_vec_to_float(vec) \n",
    "    b = string_parse.(vec)\n",
    "    c = Vector{Union{Missing, Float64}}(undef,0)\n",
    "    for (i,x) in enumerate(b) \n",
    "        if !ismissing(x) \n",
    "            push!(c, parse(Float64, x))\n",
    "        else\n",
    "            push!(c,x)\n",
    "        end\n",
    "    end\n",
    "    return c\n",
    "end"
   ]
  },
  {
   "cell_type": "code",
   "execution_count": 57,
   "metadata": {
    "collapsed": false
   },
   "outputs": [
   ],
   "source": [
    "df = DataFrame(CSV.File(\"Realisierte_Erzeugung_201501010000_202305301300_Stunde.csv\", delim = \";\"; missingstring = [\"-\"]))\n",
    "head = names(df)\n",
    "df[!,1] = Date.(df[!,1], \"dd.mm.yyyy\")\n",
    "for i in head[4:end]\n",
    "    df[!,i] = str_vec_to_float(df[!,i])\n",
    "end"
   ]
  },
  {
   "cell_type": "code",
   "execution_count": 58,
   "metadata": {
    "collapsed": false
   },
   "outputs": [
    {
     "data": {
      "text/html": [
       "<div><div style = \"float: left;\"><span>73716×15 DataFrame</span></div><div style = \"float: right;\"><span style = \"font-style: italic;\">73691 rows omitted</span></div><div style = \"clear: both;\"></div></div><div class = \"data-frame\" style = \"overflow-x: scroll;\"><table class = \"data-frame\" style = \"margin-bottom: 6px;\"><thead><tr class = \"header\"><th class = \"rowNumber\" style = \"font-weight: bold; text-align: right;\">Row</th><th style = \"text-align: left;\">Datum</th><th style = \"text-align: left;\">Anfang</th><th style = \"text-align: left;\">Ende</th><th style = \"text-align: left;\">Biomasse [MWh] Berechnete Auflösungen</th><th style = \"text-align: left;\">Wasserkraft [MWh] Berechnete Auflösungen</th><th style = \"text-align: left;\">Wind Offshore [MWh] Berechnete Auflösungen</th><th style = \"text-align: left;\">Wind Onshore [MWh] Berechnete Auflösungen</th><th style = \"text-align: left;\">Photovoltaik [MWh] Berechnete Auflösungen</th><th style = \"text-align: left;\">Sonstige Erneuerbare [MWh] Berechnete Auflösungen</th><th style = \"text-align: left;\">Kernenergie [MWh] Berechnete Auflösungen</th><th style = \"text-align: left;\">Braunkohle [MWh] Berechnete Auflösungen</th><th style = \"text-align: left;\">Steinkohle [MWh] Berechnete Auflösungen</th><th style = \"text-align: left;\">Erdgas [MWh] Berechnete Auflösungen</th><th style = \"text-align: left;\">Pumpspeicher [MWh] Berechnete Auflösungen</th><th style = \"text-align: left;\">Sonstige Konventionelle [MWh] Berechnete Auflösungen</th></tr><tr class = \"subheader headerLastRow\"><th class = \"rowNumber\" style = \"font-weight: bold; text-align: right;\"></th><th title = \"Date\" style = \"text-align: left;\">Date</th><th title = \"Time\" style = \"text-align: left;\">Time</th><th title = \"Time\" style = \"text-align: left;\">Time</th><th title = \"Union{Missing, Float64}\" style = \"text-align: left;\">Float64?</th><th title = \"Union{Missing, Float64}\" style = \"text-align: left;\">Float64?</th><th title = \"Union{Missing, Float64}\" style = \"text-align: left;\">Float64?</th><th title = \"Union{Missing, Float64}\" style = \"text-align: left;\">Float64?</th><th title = \"Union{Missing, Float64}\" style = \"text-align: left;\">Float64?</th><th title = \"Union{Missing, Float64}\" style = \"text-align: left;\">Float64?</th><th title = \"Union{Missing, Float64}\" style = \"text-align: left;\">Float64?</th><th title = \"Union{Missing, Float64}\" style = \"text-align: left;\">Float64?</th><th title = \"Union{Missing, Float64}\" style = \"text-align: left;\">Float64?</th><th title = \"Union{Missing, Float64}\" style = \"text-align: left;\">Float64?</th><th title = \"Union{Missing, Float64}\" style = \"text-align: left;\">Float64?</th><th title = \"Union{Missing, Float64}\" style = \"text-align: left;\">Float64?</th></tr></thead><tbody><tr><td class = \"rowNumber\" style = \"font-weight: bold; text-align: right;\">1</td><td style = \"text-align: left;\">2015-01-01</td><td style = \"text-align: left;\">00:00:00</td><td style = \"text-align: left;\">01:00:00</td><td style = \"text-align: right;\">4024.25</td><td style = \"text-align: right;\">1158.25</td><td style = \"text-align: right;\">516.5</td><td style = \"text-align: right;\">8128.0</td><td style = \"text-align: right;\">0.0</td><td style = \"text-align: right;\">133.0</td><td style = \"text-align: right;\">10710.5</td><td style = \"text-align: right;\">15687.2</td><td style = \"text-align: right;\">3219.75</td><td style = \"text-align: right;\">1226.25</td><td style = \"text-align: right;\">1525.75</td><td style = \"text-align: right;\">4909.25</td></tr><tr><td class = \"rowNumber\" style = \"font-weight: bold; text-align: right;\">2</td><td style = \"text-align: left;\">2015-01-01</td><td style = \"text-align: left;\">01:00:00</td><td style = \"text-align: left;\">02:00:00</td><td style = \"text-align: right;\">3982.75</td><td style = \"text-align: right;\">1188.0</td><td style = \"text-align: right;\">516.25</td><td style = \"text-align: right;\">8297.5</td><td style = \"text-align: right;\">0.0</td><td style = \"text-align: right;\">122.5</td><td style = \"text-align: right;\">11086.2</td><td style = \"text-align: right;\">15321.8</td><td style = \"text-align: right;\">2351.25</td><td style = \"text-align: right;\">870.75</td><td style = \"text-align: right;\">1079.25</td><td style = \"text-align: right;\">4932.75</td></tr><tr><td class = \"rowNumber\" style = \"font-weight: bold; text-align: right;\">3</td><td style = \"text-align: left;\">2015-01-01</td><td style = \"text-align: left;\">02:00:00</td><td style = \"text-align: left;\">03:00:00</td><td style = \"text-align: right;\">4019.5</td><td style = \"text-align: right;\">1139.25</td><td style = \"text-align: right;\">514.0</td><td style = \"text-align: right;\">8540.0</td><td style = \"text-align: right;\">0.0</td><td style = \"text-align: right;\">93.0</td><td style = \"text-align: right;\">11026.2</td><td style = \"text-align: right;\">14817.5</td><td style = \"text-align: right;\">2227.0</td><td style = \"text-align: right;\">809.5</td><td style = \"text-align: right;\">787.0</td><td style = \"text-align: right;\">5041.75</td></tr><tr><td class = \"rowNumber\" style = \"font-weight: bold; text-align: right;\">4</td><td style = \"text-align: left;\">2015-01-01</td><td style = \"text-align: left;\">03:00:00</td><td style = \"text-align: left;\">04:00:00</td><td style = \"text-align: right;\">4040.75</td><td style = \"text-align: right;\">1122.5</td><td style = \"text-align: right;\">517.75</td><td style = \"text-align: right;\">8552.0</td><td style = \"text-align: right;\">0.0</td><td style = \"text-align: right;\">86.5</td><td style = \"text-align: right;\">11027.8</td><td style = \"text-align: right;\">14075.0</td><td style = \"text-align: right;\">2339.75</td><td style = \"text-align: right;\">821.0</td><td style = \"text-align: right;\">287.75</td><td style = \"text-align: right;\">5084.0</td></tr><tr><td class = \"rowNumber\" style = \"font-weight: bold; text-align: right;\">5</td><td style = \"text-align: left;\">2015-01-01</td><td style = \"text-align: left;\">04:00:00</td><td style = \"text-align: left;\">05:00:00</td><td style = \"text-align: right;\">4037.75</td><td style = \"text-align: right;\">1112.0</td><td style = \"text-align: right;\">519.75</td><td style = \"text-align: right;\">8643.5</td><td style = \"text-align: right;\">0.0</td><td style = \"text-align: right;\">86.5</td><td style = \"text-align: right;\">10962.2</td><td style = \"text-align: right;\">14115.0</td><td style = \"text-align: right;\">2461.5</td><td style = \"text-align: right;\">831.25</td><td style = \"text-align: right;\">346.75</td><td style = \"text-align: right;\">5070.75</td></tr><tr><td class = \"rowNumber\" style = \"font-weight: bold; text-align: right;\">6</td><td style = \"text-align: left;\">2015-01-01</td><td style = \"text-align: left;\">05:00:00</td><td style = \"text-align: left;\">06:00:00</td><td style = \"text-align: right;\">4028.25</td><td style = \"text-align: right;\">1107.75</td><td style = \"text-align: right;\">520.0</td><td style = \"text-align: right;\">8711.75</td><td style = \"text-align: right;\">0.0</td><td style = \"text-align: right;\">86.75</td><td style = \"text-align: right;\">10696.0</td><td style = \"text-align: right;\">13474.2</td><td style = \"text-align: right;\">2217.75</td><td style = \"text-align: right;\">851.0</td><td style = \"text-align: right;\">765.5</td><td style = \"text-align: right;\">5096.75</td></tr><tr><td class = \"rowNumber\" style = \"font-weight: bold; text-align: right;\">7</td><td style = \"text-align: left;\">2015-01-01</td><td style = \"text-align: left;\">06:00:00</td><td style = \"text-align: left;\">07:00:00</td><td style = \"text-align: right;\">4013.25</td><td style = \"text-align: right;\">1111.75</td><td style = \"text-align: right;\">521.5</td><td style = \"text-align: right;\">9167.25</td><td style = \"text-align: right;\">0.0</td><td style = \"text-align: right;\">87.0</td><td style = \"text-align: right;\">10299.5</td><td style = \"text-align: right;\">12403.8</td><td style = \"text-align: right;\">2373.25</td><td style = \"text-align: right;\">868.25</td><td style = \"text-align: right;\">414.5</td><td style = \"text-align: right;\">5153.0</td></tr><tr><td class = \"rowNumber\" style = \"font-weight: bold; text-align: right;\">8</td><td style = \"text-align: left;\">2015-01-01</td><td style = \"text-align: left;\">07:00:00</td><td style = \"text-align: left;\">08:00:00</td><td style = \"text-align: right;\">4012.75</td><td style = \"text-align: right;\">1113.75</td><td style = \"text-align: right;\">520.25</td><td style = \"text-align: right;\">9811.0</td><td style = \"text-align: right;\">0.0</td><td style = \"text-align: right;\">87.0</td><td style = \"text-align: right;\">10035.2</td><td style = \"text-align: right;\">12062.5</td><td style = \"text-align: right;\">2491.0</td><td style = \"text-align: right;\">876.0</td><td style = \"text-align: right;\">582.5</td><td style = \"text-align: right;\">5161.0</td></tr><tr><td class = \"rowNumber\" style = \"font-weight: bold; text-align: right;\">9</td><td style = \"text-align: left;\">2015-01-01</td><td style = \"text-align: left;\">08:00:00</td><td style = \"text-align: left;\">09:00:00</td><td style = \"text-align: right;\">3999.75</td><td style = \"text-align: right;\">1107.5</td><td style = \"text-align: right;\">525.25</td><td style = \"text-align: right;\">9683.0</td><td style = \"text-align: right;\">53.0</td><td style = \"text-align: right;\">87.0</td><td style = \"text-align: right;\">10245.8</td><td style = \"text-align: right;\">12405.0</td><td style = \"text-align: right;\">2530.25</td><td style = \"text-align: right;\">888.25</td><td style = \"text-align: right;\">750.5</td><td style = \"text-align: right;\">5393.5</td></tr><tr><td class = \"rowNumber\" style = \"font-weight: bold; text-align: right;\">10</td><td style = \"text-align: left;\">2015-01-01</td><td style = \"text-align: left;\">09:00:00</td><td style = \"text-align: left;\">10:00:00</td><td style = \"text-align: right;\">4016.25</td><td style = \"text-align: right;\">1121.0</td><td style = \"text-align: right;\">527.0</td><td style = \"text-align: right;\">9501.75</td><td style = \"text-align: right;\">773.25</td><td style = \"text-align: right;\">85.75</td><td style = \"text-align: right;\">10060.2</td><td style = \"text-align: right;\">12798.8</td><td style = \"text-align: right;\">2386.25</td><td style = \"text-align: right;\">891.5</td><td style = \"text-align: right;\">387.0</td><td style = \"text-align: right;\">5884.0</td></tr><tr><td class = \"rowNumber\" style = \"font-weight: bold; text-align: right;\">11</td><td style = \"text-align: left;\">2015-01-01</td><td style = \"text-align: left;\">10:00:00</td><td style = \"text-align: left;\">11:00:00</td><td style = \"text-align: right;\">4007.75</td><td style = \"text-align: right;\">1122.0</td><td style = \"text-align: right;\">525.0</td><td style = \"text-align: right;\">10025.0</td><td style = \"text-align: right;\">2116.75</td><td style = \"text-align: right;\">82.0</td><td style = \"text-align: right;\">10082.2</td><td style = \"text-align: right;\">12728.5</td><td style = \"text-align: right;\">2557.0</td><td style = \"text-align: right;\">888.25</td><td style = \"text-align: right;\">176.25</td><td style = \"text-align: right;\">6064.0</td></tr><tr><td class = \"rowNumber\" style = \"font-weight: bold; text-align: right;\">12</td><td style = \"text-align: left;\">2015-01-01</td><td style = \"text-align: left;\">11:00:00</td><td style = \"text-align: left;\">12:00:00</td><td style = \"text-align: right;\">4011.75</td><td style = \"text-align: right;\">1146.25</td><td style = \"text-align: right;\">527.25</td><td style = \"text-align: right;\">10862.5</td><td style = \"text-align: right;\">3364.25</td><td style = \"text-align: right;\">82.0</td><td style = \"text-align: right;\">9949.0</td><td style = \"text-align: right;\">12451.0</td><td style = \"text-align: right;\">2657.75</td><td style = \"text-align: right;\">876.5</td><td style = \"text-align: right;\">884.5</td><td style = \"text-align: right;\">5914.75</td></tr><tr><td class = \"rowNumber\" style = \"font-weight: bold; text-align: right;\">13</td><td style = \"text-align: left;\">2015-01-01</td><td style = \"text-align: left;\">12:00:00</td><td style = \"text-align: left;\">13:00:00</td><td style = \"text-align: right;\">4014.0</td><td style = \"text-align: right;\">1139.75</td><td style = \"text-align: right;\">527.75</td><td style = \"text-align: right;\">11575.2</td><td style = \"text-align: right;\">4198.25</td><td style = \"text-align: right;\">82.0</td><td style = \"text-align: right;\">10119.0</td><td style = \"text-align: right;\">12464.5</td><td style = \"text-align: right;\">2937.75</td><td style = \"text-align: right;\">874.25</td><td style = \"text-align: right;\">705.0</td><td style = \"text-align: right;\">5778.25</td></tr><tr><td style = \"text-align: right;\">&vellip;</td><td style = \"text-align: right;\">&vellip;</td><td style = \"text-align: right;\">&vellip;</td><td style = \"text-align: right;\">&vellip;</td><td style = \"text-align: right;\">&vellip;</td><td style = \"text-align: right;\">&vellip;</td><td style = \"text-align: right;\">&vellip;</td><td style = \"text-align: right;\">&vellip;</td><td style = \"text-align: right;\">&vellip;</td><td style = \"text-align: right;\">&vellip;</td><td style = \"text-align: right;\">&vellip;</td><td style = \"text-align: right;\">&vellip;</td><td style = \"text-align: right;\">&vellip;</td><td style = \"text-align: right;\">&vellip;</td><td style = \"text-align: right;\">&vellip;</td><td style = \"text-align: right;\">&vellip;</td></tr><tr><td class = \"rowNumber\" style = \"font-weight: bold; text-align: right;\">73705</td><td style = \"text-align: left;\">2023-05-30</td><td style = \"text-align: left;\">01:00:00</td><td style = \"text-align: left;\">02:00:00</td><td style = \"text-align: right;\">4581.5</td><td style = \"text-align: right;\">2033.75</td><td style = \"text-align: right;\">3891.75</td><td style = \"text-align: right;\">11488.5</td><td style = \"text-align: right;\">0.0</td><td style = \"text-align: right;\">119.5</td><td style = \"text-align: right;\">0.0</td><td style = \"text-align: right;\">3523.5</td><td style = \"text-align: right;\">1288.5</td><td style = \"text-align: right;\">3984.75</td><td style = \"text-align: right;\">769.25</td><td style = \"text-align: right;\">1146.0</td></tr><tr><td class = \"rowNumber\" style = \"font-weight: bold; text-align: right;\">73706</td><td style = \"text-align: left;\">2023-05-30</td><td style = \"text-align: left;\">02:00:00</td><td style = \"text-align: left;\">03:00:00</td><td style = \"text-align: right;\">4551.0</td><td style = \"text-align: right;\">1963.5</td><td style = \"text-align: right;\">3725.5</td><td style = \"text-align: right;\">10141.0</td><td style = \"text-align: right;\">0.0</td><td style = \"text-align: right;\">119.0</td><td style = \"text-align: right;\">0.0</td><td style = \"text-align: right;\">3484.25</td><td style = \"text-align: right;\">1263.75</td><td style = \"text-align: right;\">3592.0</td><td style = \"text-align: right;\">604.25</td><td style = \"text-align: right;\">1141.75</td></tr><tr><td class = \"rowNumber\" style = \"font-weight: bold; text-align: right;\">73707</td><td style = \"text-align: left;\">2023-05-30</td><td style = \"text-align: left;\">03:00:00</td><td style = \"text-align: left;\">04:00:00</td><td style = \"text-align: right;\">4503.25</td><td style = \"text-align: right;\">2090.5</td><td style = \"text-align: right;\">3635.25</td><td style = \"text-align: right;\">9170.25</td><td style = \"text-align: right;\">0.0</td><td style = \"text-align: right;\">119.0</td><td style = \"text-align: right;\">0.0</td><td style = \"text-align: right;\">3490.0</td><td style = \"text-align: right;\">1272.5</td><td style = \"text-align: right;\">4030.5</td><td style = \"text-align: right;\">578.75</td><td style = \"text-align: right;\">1132.5</td></tr><tr><td class = \"rowNumber\" style = \"font-weight: bold; text-align: right;\">73708</td><td style = \"text-align: left;\">2023-05-30</td><td style = \"text-align: left;\">04:00:00</td><td style = \"text-align: left;\">05:00:00</td><td style = \"text-align: right;\">4454.25</td><td style = \"text-align: right;\">2105.25</td><td style = \"text-align: right;\">3635.75</td><td style = \"text-align: right;\">8735.75</td><td style = \"text-align: right;\">2.25</td><td style = \"text-align: right;\">120.0</td><td style = \"text-align: right;\">0.0</td><td style = \"text-align: right;\">3678.25</td><td style = \"text-align: right;\">1275.0</td><td style = \"text-align: right;\">4895.5</td><td style = \"text-align: right;\">433.25</td><td style = \"text-align: right;\">1136.0</td></tr><tr><td class = \"rowNumber\" style = \"font-weight: bold; text-align: right;\">73709</td><td style = \"text-align: left;\">2023-05-30</td><td style = \"text-align: left;\">05:00:00</td><td style = \"text-align: left;\">06:00:00</td><td style = \"text-align: right;\">4406.75</td><td style = \"text-align: right;\">2134.75</td><td style = \"text-align: right;\">2940.0</td><td style = \"text-align: right;\">8419.75</td><td style = \"text-align: right;\">407.75</td><td style = \"text-align: right;\">120.25</td><td style = \"text-align: right;\">0.0</td><td style = \"text-align: right;\">4087.5</td><td style = \"text-align: right;\">1289.25</td><td style = \"text-align: right;\">5723.75</td><td style = \"text-align: right;\">404.25</td><td style = \"text-align: right;\">1142.25</td></tr><tr><td class = \"rowNumber\" style = \"font-weight: bold; text-align: right;\">73710</td><td style = \"text-align: left;\">2023-05-30</td><td style = \"text-align: left;\">06:00:00</td><td style = \"text-align: left;\">07:00:00</td><td style = \"text-align: right;\">4413.25</td><td style = \"text-align: right;\">2227.5</td><td style = \"text-align: right;\">2272.5</td><td style = \"text-align: right;\">7531.0</td><td style = \"text-align: right;\">2888.75</td><td style = \"text-align: right;\">128.25</td><td style = \"text-align: right;\">0.0</td><td style = \"text-align: right;\">5010.75</td><td style = \"text-align: right;\">1362.0</td><td style = \"text-align: right;\">6525.25</td><td style = \"text-align: right;\">2803.75</td><td style = \"text-align: right;\">1144.5</td></tr><tr><td class = \"rowNumber\" style = \"font-weight: bold; text-align: right;\">73711</td><td style = \"text-align: left;\">2023-05-30</td><td style = \"text-align: left;\">07:00:00</td><td style = \"text-align: left;\">08:00:00</td><td style = \"text-align: right;\">4468.0</td><td style = \"text-align: right;\">2276.5</td><td style = \"text-align: right;\">1916.25</td><td style = \"text-align: right;\">5507.25</td><td style = \"text-align: right;\">8343.25</td><td style = \"text-align: right;\">137.0</td><td style = \"text-align: right;\">0.0</td><td style = \"text-align: right;\">5275.5</td><td style = \"text-align: right;\">1173.75</td><td style = \"text-align: right;\">6905.75</td><td style = \"text-align: right;\">5712.75</td><td style = \"text-align: right;\">1156.75</td></tr><tr><td class = \"rowNumber\" style = \"font-weight: bold; text-align: right;\">73712</td><td style = \"text-align: left;\">2023-05-30</td><td style = \"text-align: left;\">08:00:00</td><td style = \"text-align: left;\">09:00:00</td><td style = \"text-align: right;\">4503.5</td><td style = \"text-align: right;\">2152.5</td><td style = \"text-align: right;\">1643.25</td><td style = \"text-align: right;\">3647.75</td><td style = \"text-align: right;\">15893.2</td><td style = \"text-align: right;\">138.0</td><td style = \"text-align: right;\">0.0</td><td style = \"text-align: right;\">5181.75</td><td style = \"text-align: right;\">1196.25</td><td style = \"text-align: right;\">6946.5</td><td style = \"text-align: right;\">5079.5</td><td style = \"text-align: right;\">1132.0</td></tr><tr><td class = \"rowNumber\" style = \"font-weight: bold; text-align: right;\">73713</td><td style = \"text-align: left;\">2023-05-30</td><td style = \"text-align: left;\">09:00:00</td><td style = \"text-align: left;\">10:00:00</td><td style = \"text-align: right;\">4544.5</td><td style = \"text-align: right;\">2156.25</td><td style = \"text-align: right;\">1285.0</td><td style = \"text-align: right;\">2900.5</td><td style = \"text-align: right;\">23612.5</td><td style = \"text-align: right;\">135.0</td><td style = \"text-align: right;\">0.0</td><td style = \"text-align: right;\">4707.5</td><td style = \"text-align: right;\">1114.75</td><td style = \"text-align: right;\">6384.5</td><td style = \"text-align: right;\">2122.75</td><td style = \"text-align: right;\">1115.0</td></tr><tr><td class = \"rowNumber\" style = \"font-weight: bold; text-align: right;\">73714</td><td style = \"text-align: left;\">2023-05-30</td><td style = \"text-align: left;\">10:00:00</td><td style = \"text-align: left;\">11:00:00</td><td style = \"text-align: right;\">4568.25</td><td style = \"text-align: right;\">2085.25</td><td style = \"text-align: right;\">1241.25</td><td style = \"text-align: right;\">2729.5</td><td style = \"text-align: right;\">30341.8</td><td style = \"text-align: right;\">121.25</td><td style = \"text-align: right;\">0.0</td><td style = \"text-align: right;\">3978.5</td><td style = \"text-align: right;\">1095.5</td><td style = \"text-align: right;\">4802.5</td><td style = \"text-align: right;\">1279.0</td><td style = \"text-align: right;\">1096.25</td></tr><tr><td class = \"rowNumber\" style = \"font-weight: bold; text-align: right;\">73715</td><td style = \"text-align: left;\">2023-05-30</td><td style = \"text-align: left;\">11:00:00</td><td style = \"text-align: left;\">12:00:00</td><td style = \"text-align: right;\">4618.75</td><td style = \"text-align: right;\">2068.25</td><td style = \"text-align: right;\">1053.25</td><td style = \"text-align: right;\">3115.0</td><td style = \"text-align: right;\">35196.2</td><td style = \"text-align: right;\">119.0</td><td style = \"text-align: right;\">0.0</td><td style = \"text-align: right;\">3759.75</td><td style = \"text-align: right;\">1151.5</td><td style = \"text-align: right;\">3762.25</td><td style = \"text-align: right;\">774.0</td><td style = \"text-align: right;\">1096.5</td></tr><tr><td class = \"rowNumber\" style = \"font-weight: bold; text-align: right;\">73716</td><td style = \"text-align: left;\">2023-05-30</td><td style = \"text-align: left;\">12:00:00</td><td style = \"text-align: left;\">13:00:00</td><td style = \"text-align: right;\">4612.25</td><td style = \"text-align: right;\">1967.25</td><td style = \"text-align: right;\">781.25</td><td style = \"text-align: right;\">3496.25</td><td style = \"text-align: right;\">37030.0</td><td style = \"text-align: right;\">119.0</td><td style = \"text-align: right;\">0.0</td><td style = \"text-align: right;\">3765.0</td><td style = \"text-align: right;\">1296.75</td><td style = \"text-align: right;\">3240.0</td><td style = \"text-align: right;\">196.75</td><td style = \"text-align: right;\">1099.75</td></tr></tbody></table></div>"
      ],
      "text/latex": [
       "\\begin{tabular}{r|cccccc}\n",
       "\t& Datum & Anfang & Ende & Biomasse [MWh] Berechnete Auflösungen & Wasserkraft [MWh] Berechnete Auflösungen & \\\\\n",
       "\t\\hline\n",
       "\t& Date & Time & Time & Float64? & Float64? & \\\\\n",
       "\t\\hline\n",
       "\t1 & 2015-01-01 & 00:00:00 & 01:00:00 & 4024.25 & 1158.25 & $\\dots$ \\\\\n",
       "\t2 & 2015-01-01 & 01:00:00 & 02:00:00 & 3982.75 & 1188.0 & $\\dots$ \\\\\n",
       "\t3 & 2015-01-01 & 02:00:00 & 03:00:00 & 4019.5 & 1139.25 & $\\dots$ \\\\\n",
       "\t4 & 2015-01-01 & 03:00:00 & 04:00:00 & 4040.75 & 1122.5 & $\\dots$ \\\\\n",
       "\t5 & 2015-01-01 & 04:00:00 & 05:00:00 & 4037.75 & 1112.0 & $\\dots$ \\\\\n",
       "\t6 & 2015-01-01 & 05:00:00 & 06:00:00 & 4028.25 & 1107.75 & $\\dots$ \\\\\n",
       "\t7 & 2015-01-01 & 06:00:00 & 07:00:00 & 4013.25 & 1111.75 & $\\dots$ \\\\\n",
       "\t8 & 2015-01-01 & 07:00:00 & 08:00:00 & 4012.75 & 1113.75 & $\\dots$ \\\\\n",
       "\t9 & 2015-01-01 & 08:00:00 & 09:00:00 & 3999.75 & 1107.5 & $\\dots$ \\\\\n",
       "\t10 & 2015-01-01 & 09:00:00 & 10:00:00 & 4016.25 & 1121.0 & $\\dots$ \\\\\n",
       "\t11 & 2015-01-01 & 10:00:00 & 11:00:00 & 4007.75 & 1122.0 & $\\dots$ \\\\\n",
       "\t12 & 2015-01-01 & 11:00:00 & 12:00:00 & 4011.75 & 1146.25 & $\\dots$ \\\\\n",
       "\t13 & 2015-01-01 & 12:00:00 & 13:00:00 & 4014.0 & 1139.75 & $\\dots$ \\\\\n",
       "\t14 & 2015-01-01 & 13:00:00 & 14:00:00 & 4005.5 & 1128.0 & $\\dots$ \\\\\n",
       "\t15 & 2015-01-01 & 14:00:00 & 15:00:00 & 4024.25 & 1154.75 & $\\dots$ \\\\\n",
       "\t16 & 2015-01-01 & 15:00:00 & 16:00:00 & 4028.75 & 1160.0 & $\\dots$ \\\\\n",
       "\t17 & 2015-01-01 & 16:00:00 & 17:00:00 & 4030.75 & 1145.75 & $\\dots$ \\\\\n",
       "\t18 & 2015-01-01 & 17:00:00 & 18:00:00 & 4029.25 & 1171.5 & $\\dots$ \\\\\n",
       "\t19 & 2015-01-01 & 18:00:00 & 19:00:00 & 4027.5 & 1168.5 & $\\dots$ \\\\\n",
       "\t20 & 2015-01-01 & 19:00:00 & 20:00:00 & 4002.75 & 1157.75 & $\\dots$ \\\\\n",
       "\t21 & 2015-01-01 & 20:00:00 & 21:00:00 & 3991.5 & 1168.25 & $\\dots$ \\\\\n",
       "\t22 & 2015-01-01 & 21:00:00 & 22:00:00 & 3990.25 & 1186.5 & $\\dots$ \\\\\n",
       "\t23 & 2015-01-01 & 22:00:00 & 23:00:00 & 4000.0 & 1170.25 & $\\dots$ \\\\\n",
       "\t24 & 2015-01-01 & 23:00:00 & 00:00:00 & 4002.0 & 1162.0 & $\\dots$ \\\\\n",
       "\t25 & 2015-01-02 & 00:00:00 & 01:00:00 & 3999.75 & 1122.0 & $\\dots$ \\\\\n",
       "\t26 & 2015-01-02 & 01:00:00 & 02:00:00 & 4003.25 & 1129.25 & $\\dots$ \\\\\n",
       "\t27 & 2015-01-02 & 02:00:00 & 03:00:00 & 3997.25 & 1124.25 & $\\dots$ \\\\\n",
       "\t28 & 2015-01-02 & 03:00:00 & 04:00:00 & 4000.0 & 1133.25 & $\\dots$ \\\\\n",
       "\t29 & 2015-01-02 & 04:00:00 & 05:00:00 & 3992.0 & 1122.25 & $\\dots$ \\\\\n",
       "\t30 & 2015-01-02 & 05:00:00 & 06:00:00 & 3981.5 & 1100.75 & $\\dots$ \\\\\n",
       "\t$\\dots$ & $\\dots$ & $\\dots$ & $\\dots$ & $\\dots$ & $\\dots$ &  \\\\\n",
       "\\end{tabular}\n"
      ],
      "text/plain": [
       "\u001b[1m73716×15 DataFrame\u001b[0m\n",
       "\u001b[1m   Row \u001b[0m│\u001b[1m Datum      \u001b[0m\u001b[1m Anfang   \u001b[0m\u001b[1m Ende     \u001b[0m\u001b[1m Biomasse [MWh] Berechnete Auflösungen\u001b[0m ⋯\n",
       "       │\u001b[90m Date       \u001b[0m\u001b[90m Time     \u001b[0m\u001b[90m Time     \u001b[0m\u001b[90m Union{Missing, Float64}              \u001b[0m ⋯\n",
       "───────┼────────────────────────────────────────────────────────────────────────\n",
       "     1 │ 2015-01-01  00:00:00  01:00:00                                4024.25 ⋯\n",
       "     2 │ 2015-01-01  01:00:00  02:00:00                                3982.75\n",
       "     3 │ 2015-01-01  02:00:00  03:00:00                                4019.5\n",
       "     4 │ 2015-01-01  03:00:00  04:00:00                                4040.75\n",
       "     5 │ 2015-01-01  04:00:00  05:00:00                                4037.75 ⋯\n",
       "     6 │ 2015-01-01  05:00:00  06:00:00                                4028.25\n",
       "     7 │ 2015-01-01  06:00:00  07:00:00                                4013.25\n",
       "     8 │ 2015-01-01  07:00:00  08:00:00                                4012.75\n",
       "     9 │ 2015-01-01  08:00:00  09:00:00                                3999.75 ⋯\n",
       "    10 │ 2015-01-01  09:00:00  10:00:00                                4016.25\n",
       "    11 │ 2015-01-01  10:00:00  11:00:00                                4007.75\n",
       "   ⋮   │     ⋮          ⋮         ⋮                        ⋮                   ⋱\n",
       " 73707 │ 2023-05-30  03:00:00  04:00:00                                4503.25\n",
       " 73708 │ 2023-05-30  04:00:00  05:00:00                                4454.25 ⋯\n",
       " 73709 │ 2023-05-30  05:00:00  06:00:00                                4406.75\n",
       " 73710 │ 2023-05-30  06:00:00  07:00:00                                4413.25\n",
       " 73711 │ 2023-05-30  07:00:00  08:00:00                                4468.0\n",
       " 73712 │ 2023-05-30  08:00:00  09:00:00                                4503.5  ⋯\n",
       " 73713 │ 2023-05-30  09:00:00  10:00:00                                4544.5\n",
       " 73714 │ 2023-05-30  10:00:00  11:00:00                                4568.25\n",
       " 73715 │ 2023-05-30  11:00:00  12:00:00                                4618.75\n",
       " 73716 │ 2023-05-30  12:00:00  13:00:00                                4612.25 ⋯\n",
       "\u001b[36m                                               11 columns and 73695 rows omitted\u001b[0m"
      ]
     },
     "execution_count": 58,
     "metadata": {
     },
     "output_type": "execute_result"
    }
   ],
   "source": [
    "df"
   ]
  },
  {
   "cell_type": "code",
   "execution_count": 0,
   "metadata": {
    "collapsed": false
   },
   "outputs": [
   ],
   "source": [
   ]
  }
 ],
 "metadata": {
  "kernelspec": {
   "argv": [
    "/ext/julia/julia-1.9/bin/julia",
    "-i",
    "--startup-file=yes",
    "--color=yes",
    "/ext/julia/depot/packages/IJulia/6TIq1/src/kernel.jl",
    "{connection_file}"
   ],
   "display_name": "Julia 1.9",
   "env": {
    "JULIA_DEPOT_PATH": "/home/user/.julia/:/ext/julia/depot/",
    "JULIA_PROJECT": "/home/user/.julia/environment/v1.9"
   },
   "language": "julia",
   "metadata": {
    "cocalc": {
     "description": "The Julia Programming Language",
     "priority": 5,
     "url": "https://julialang.org/"
    }
   },
   "name": "julia-1.9",
   "resource_dir": "/ext/jupyter/kernels/julia-1.9"
  },
  "language_info": {
   "file_extension": ".jl",
   "mimetype": "application/julia",
   "name": "julia",
   "version": "1.9.0"
  }
 },
 "nbformat": 4,
 "nbformat_minor": 4
}