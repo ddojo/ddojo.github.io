{
 "cells": [
  {
   "cell_type": "markdown",
   "metadata": {
    "collapsed": false
   },
   "source": [
    "# German Electricity Data :electric_plug: \n",
    "\n",
    "\n",
    "- Data Source: [SMARD Web Portal](https://www.smard.de/) \n",
    "- Task: forecasting (using the past to predict the future)\n",
    "- Language: [julia](https://julialang.org)\n",
    "\n",
    "## First steps:\n",
    "- load the data (with appropriate column types)\n",
    "- split the data into train/val/test sets\n",
    "- plot the time series (at different temporal resolution)\n",
    "- calculate the mean production per month\n",
    "- is there a seasonal pattern (what kinds of seasonalities)\n",
    "- make a prediction for the validation set\n",
    "- evaluate the quality of the prediction"
   ]
  },
  {
   "cell_type": "code",
   "execution_count": 1,
   "metadata": {
    "collapsed": false
   },
   "outputs": [
   ],
   "source": [
    "using Random"
   ]
  },
  {
   "cell_type": "code",
   "execution_count": 2,
   "metadata": {
    "collapsed": false
   },
   "outputs": [
    {
     "data": {
      "text/plain": [
       "\"Max -> Joel -> Markus -> Chris -> Kerstin -> Felix -> Caro -> Mike\""
      ]
     },
     "execution_count": 2,
     "metadata": {
     },
     "output_type": "execute_result"
    }
   ],
   "source": [
    "Random.seed!(530)\n",
    "\"Max Joel Felix Caro Kerstin Mike Markus Chris\" |> split |> shuffle |> x -> join(x,\" -> \")"
   ]
  },
  {
   "cell_type": "markdown",
   "metadata": {
    "collapsed": false
   },
   "source": [
    "## 1. Data loading\n",
    "\n",
    "- load the hourly data from the file `Realisierte_Erzeugung_201501010000_202305301300_Stunde.csv` as a table into julia\n",
    "- make sure, that data is interpreted and typed correctly\n",
    "- clean header names\n",
    "\n"
   ]
  },
  {
   "cell_type": "code",
   "execution_count": 3,
   "metadata": {
    "collapsed": false
   },
   "outputs": [
   ],
   "source": [
    "using DataFrames\n",
    "using CSV"
   ]
  },
  {
   "cell_type": "code",
   "execution_count": 73,
   "metadata": {
    "collapsed": false,
    "scrolled": true
   },
   "outputs": [
   ],
   "source": [
    "data = DataFrame(CSV.File(\"Realisierte_Erzeugung_201501010000_202305301300_Stunde.csv\", delim=\";\", dateformat=\"dd.mm.yyyy\"));\n"
   ]
  },
  {
   "cell_type": "code",
   "execution_count": 74,
   "metadata": {
    "collapsed": false
   },
   "outputs": [
    {
     "data": {
      "text/html": [
       "<table class=\"data-frame\"><thead><tr><th></th><th>Datum</th><th>Anfang</th><th>Ende</th><th>Biomasse [MWh] Berechnete Auflösungen</th><th>Wasserkraft [MWh] Berechnete Auflösungen</th></tr><tr><th></th><th>Date…</th><th>String</th><th>String</th><th>String</th><th>String</th></tr></thead><tbody><p>6 rows × 15 columns (omitted printing of 10 columns)</p><tr><th>1</th><td>2015-01-01</td><td>00:00</td><td>01:00</td><td>4.024,25</td><td>1.158,25</td></tr><tr><th>2</th><td>2015-01-01</td><td>01:00</td><td>02:00</td><td>3.982,75</td><td>1.188</td></tr><tr><th>3</th><td>2015-01-01</td><td>02:00</td><td>03:00</td><td>4.019,5</td><td>1.139,25</td></tr><tr><th>4</th><td>2015-01-01</td><td>03:00</td><td>04:00</td><td>4.040,75</td><td>1.122,5</td></tr><tr><th>5</th><td>2015-01-01</td><td>04:00</td><td>05:00</td><td>4.037,75</td><td>1.112</td></tr><tr><th>6</th><td>2015-01-01</td><td>05:00</td><td>06:00</td><td>4.028,25</td><td>1.107,75</td></tr></tbody></table>"
      ],
      "text/latex": [
       "\\begin{tabular}{r|cccccc}\n",
       "\t& Datum & Anfang & Ende & Biomasse [MWh] Berechnete Auflösungen & Wasserkraft [MWh] Berechnete Auflösungen & \\\\\n",
       "\t\\hline\n",
       "\t& Date… & String & String & String & String & \\\\\n",
       "\t\\hline\n",
       "\t1 & 2015-01-01 & 00:00 & 01:00 & 4.024,25 & 1.158,25 & $\\dots$ \\\\\n",
       "\t2 & 2015-01-01 & 01:00 & 02:00 & 3.982,75 & 1.188 & $\\dots$ \\\\\n",
       "\t3 & 2015-01-01 & 02:00 & 03:00 & 4.019,5 & 1.139,25 & $\\dots$ \\\\\n",
       "\t4 & 2015-01-01 & 03:00 & 04:00 & 4.040,75 & 1.122,5 & $\\dots$ \\\\\n",
       "\t5 & 2015-01-01 & 04:00 & 05:00 & 4.037,75 & 1.112 & $\\dots$ \\\\\n",
       "\t6 & 2015-01-01 & 05:00 & 06:00 & 4.028,25 & 1.107,75 & $\\dots$ \\\\\n",
       "\\end{tabular}\n"
      ],
      "text/plain": [
       "6×15 DataFrame. Omitted printing of 11 columns\n",
       "│ Row │ Datum      │ Anfang │ Ende   │ Biomasse [MWh] Berechnete Auflösungen │\n",
       "│     │ \u001b[90mDates.Date\u001b[39m │ \u001b[90mString\u001b[39m │ \u001b[90mString\u001b[39m │ \u001b[90mString\u001b[39m                                │\n",
       "├─────┼────────────┼────────┼────────┼───────────────────────────────────────┤\n",
       "│ 1   │ 2015-01-01 │ 00:00  │ 01:00  │ 4.024,25                              │\n",
       "│ 2   │ 2015-01-01 │ 01:00  │ 02:00  │ 3.982,75                              │\n",
       "│ 3   │ 2015-01-01 │ 02:00  │ 03:00  │ 4.019,5                               │\n",
       "│ 4   │ 2015-01-01 │ 03:00  │ 04:00  │ 4.040,75                              │\n",
       "│ 5   │ 2015-01-01 │ 04:00  │ 05:00  │ 4.037,75                              │\n",
       "│ 6   │ 2015-01-01 │ 05:00  │ 06:00  │ 4.028,25                              │"
      ]
     },
     "execution_count": 74,
     "metadata": {
     },
     "output_type": "execute_result"
    }
   ],
   "source": [
    "head(data)"
   ]
  },
  {
   "cell_type": "code",
   "execution_count": 11,
   "metadata": {
    "collapsed": false
   },
   "outputs": [
    {
     "data": {
      "text/plain": [
       "73716-element Vector{Dates.Time}:\n",
       " 00:00:00\n",
       " 01:00:00\n",
       " 02:00:00\n",
       " 03:00:00\n",
       " 04:00:00\n",
       " 05:00:00\n",
       " 06:00:00\n",
       " 07:00:00\n",
       " 08:00:00\n",
       " 09:00:00\n",
       " 10:00:00\n",
       " 11:00:00\n",
       " 12:00:00\n",
       " ⋮\n",
       " 01:00:00\n",
       " 02:00:00\n",
       " 03:00:00\n",
       " 04:00:00\n",
       " 05:00:00\n",
       " 06:00:00\n",
       " 07:00:00\n",
       " 08:00:00\n",
       " 09:00:00\n",
       " 10:00:00\n",
       " 11:00:00\n",
       " 12:00:00"
      ]
     },
     "execution_count": 11,
     "metadata": {
     },
     "output_type": "execute_result"
    }
   ],
   "source": [
    "data[\"Anfang\"]"
   ]
  },
  {
   "cell_type": "code",
   "execution_count": 13,
   "metadata": {
    "collapsed": false
   },
   "outputs": [
    {
     "data": {
      "text/plain": [
       "73716-element Vector{String}:\n",
       " \"4.024,25\"\n",
       " \"3.982,75\"\n",
       " \"4.019,5\"\n",
       " \"4.040,75\"\n",
       " \"4.037,75\"\n",
       " \"4.028,25\"\n",
       " \"4.013,25\"\n",
       " \"4.012,75\"\n",
       " \"3.999,75\"\n",
       " \"4.016,25\"\n",
       " \"4.007,75\"\n",
       " \"4.011,75\"\n",
       " \"4.014\"\n",
       " ⋮\n",
       " \"4.581,5\"\n",
       " \"4.551\"\n",
       " \"4.503,25\"\n",
       " \"4.454,25\"\n",
       " \"4.406,75\"\n",
       " \"4.413,25\"\n",
       " \"4.468\"\n",
       " \"4.503,5\"\n",
       " \"4.544,5\"\n",
       " \"4.568,25\"\n",
       " \"4.618,75\"\n",
       " \"4.612,25\""
      ]
     },
     "execution_count": 13,
     "metadata": {
     },
     "output_type": "execute_result"
    }
   ],
   "source": [
    "data[\"Biomasse [MWh] Berechnete Auflösungen\"]"
   ]
  },
  {
   "cell_type": "code",
   "execution_count": 16,
   "metadata": {
    "collapsed": false
   },
   "outputs": [
    {
     "ename": "LoadError",
     "evalue": "ArgumentError: cannot parse \"4.024,25\" as Float64",
     "output_type": "error",
     "traceback": [
      "ArgumentError: cannot parse \"4.024,25\" as Float64",
      "",
      "Stacktrace:",
      "  [1] _parse_failure(T::Type, s::String, startpos::Int64, endpos::Int64) (repeats 2 times)",
      "    @ Base ./parse.jl:373",
      "  [2] #tryparse_internal#478",
      "    @ ./parse.jl:369 [inlined]",
      "  [3] tryparse_internal",
      "    @ ./parse.jl:366 [inlined]",
      "  [4] #parse#479",
      "    @ ./parse.jl:379 [inlined]",
      "  [5] parse",
      "    @ ./parse.jl:379 [inlined]",
      "  [6] _broadcast_getindex_evalf",
      "    @ ./broadcast.jl:670 [inlined]",
      "  [7] _broadcast_getindex",
      "    @ ./broadcast.jl:653 [inlined]",
      "  [8] getindex",
      "    @ ./broadcast.jl:597 [inlined]",
      "  [9] macro expansion",
      "    @ ./broadcast.jl:961 [inlined]",
      " [10] macro expansion",
      "    @ ./simdloop.jl:77 [inlined]",
      " [11] copyto!",
      "    @ ./broadcast.jl:960 [inlined]",
      " [12] copyto!",
      "    @ ./broadcast.jl:913 [inlined]",
      " [13] copy",
      "    @ ./broadcast.jl:885 [inlined]",
      " [14] materialize(bc::Base.Broadcast.Broadcasted{Base.Broadcast.DefaultArrayStyle{1}, Nothing, typeof(parse), Tuple{Base.RefValue{Type{Float64}}, Vector{String}}})",
      "    @ Base.Broadcast ./broadcast.jl:860",
      " [15] top-level scope",
      "    @ In[16]:1"
     ]
    }
   ],
   "source": [
    "parse.(Float64, data[\"Biomasse [MWh] Berechnete Auflösungen\"])"
   ]
  },
  {
   "cell_type": "code",
   "execution_count": 23,
   "metadata": {
    "collapsed": false
   },
   "outputs": [
    {
     "ename": "LoadError",
     "evalue": "ArgumentError: cannot parse \"-\" as Float64",
     "output_type": "error",
     "traceback": [
      "ArgumentError: cannot parse \"-\" as Float64",
      "",
      "Stacktrace:",
      "  [1] _parse_failure(T::Type, s::String, startpos::Int64, endpos::Int64) (repeats 2 times)",
      "    @ Base ./parse.jl:373",
      "  [2] #tryparse_internal#478",
      "    @ ./parse.jl:369 [inlined]",
      "  [3] tryparse_internal",
      "    @ ./parse.jl:366 [inlined]",
      "  [4] #parse#479",
      "    @ ./parse.jl:379 [inlined]",
      "  [5] parse",
      "    @ ./parse.jl:379 [inlined]",
      "  [6] _broadcast_getindex_evalf",
      "    @ ./broadcast.jl:670 [inlined]",
      "  [7] _broadcast_getindex",
      "    @ ./broadcast.jl:653 [inlined]",
      "  [8] getindex",
      "    @ ./broadcast.jl:597 [inlined]",
      "  [9] macro expansion",
      "    @ ./broadcast.jl:961 [inlined]",
      " [10] macro expansion",
      "    @ ./simdloop.jl:77 [inlined]",
      " [11] copyto!",
      "    @ ./broadcast.jl:960 [inlined]",
      " [12] copyto!",
      "    @ ./broadcast.jl:913 [inlined]",
      " [13] copy",
      "    @ ./broadcast.jl:885 [inlined]",
      " [14] materialize(bc::Base.Broadcast.Broadcasted{Base.Broadcast.DefaultArrayStyle{1}, Nothing, typeof(parse), Tuple{Base.RefValue{Type{Float64}}, Base.Broadcast.Broadcasted{Base.Broadcast.DefaultArrayStyle{1}, Nothing, typeof(replace), Tuple{Base.Broadcast.Broadcasted{Base.Broadcast.DefaultArrayStyle{1}, Nothing, typeof(replace), Tuple{Vector{String}, Base.RefValue{Pair{String, String}}}}, Base.RefValue{Pair{String, String}}}}}})",
      "    @ Base.Broadcast ./broadcast.jl:860",
      " [15] top-level scope",
      "    @ In[23]:1"
     ]
    }
   ],
   "source": [
    "# replace . by \"\" and , by \".\"\n",
    "parse.(Float64, replace.(replace.(data[\"Biomasse [MWh] Berechnete Auflösungen\"], Pair(\".\",\"\")), Pair(\",\",\".\")))"
   ]
  },
  {
   "cell_type": "code",
   "execution_count": 30,
   "metadata": {
    "collapsed": false
   },
   "outputs": [
    {
     "data": {
      "text/plain": [
       "73716-element Vector{String}:\n",
       " \"4.024,25\"\n",
       " \"3.982,75\"\n",
       " \"4.019,5\"\n",
       " \"4.040,75\"\n",
       " \"4.037,75\"\n",
       " \"4.028,25\"\n",
       " \"4.013,25\"\n",
       " \"4.012,75\"\n",
       " \"3.999,75\"\n",
       " \"4.016,25\"\n",
       " \"4.007,75\"\n",
       " \"4.011,75\"\n",
       " \"4.014\"\n",
       " ⋮\n",
       " \"4.581,5\"\n",
       " \"4.551\"\n",
       " \"4.503,25\"\n",
       " \"4.454,25\"\n",
       " \"4.406,75\"\n",
       " \"4.413,25\"\n",
       " \"4.468\"\n",
       " \"4.503,5\"\n",
       " \"4.544,5\"\n",
       " \"4.568,25\"\n",
       " \"4.618,75\"\n",
       " \"4.612,25\""
      ]
     },
     "execution_count": 30,
     "metadata": {
     },
     "output_type": "execute_result"
    }
   ],
   "source": [
    "#parse.(Float64, data[\"Biomasse [MWh] Berechnete Auflösungen\"], Pair(\"-\",) )\n",
    "#data[\"Biomasse [MWh] Berechnete Auflösungen\"]\n",
    "#data[\"Biomasse [MWh] Berechnete Auflösungen\"][occursin.(\"-\", data[\"Biomasse [MWh] Berechnete Auflösungen\"])] = None\n",
    "\n",
    "replace.(data[\"Biomasse [MWh] Berechnete Auflösungen\"] , r\"^-$\" => s\"\")"
   ]
  },
  {
   "cell_type": "code",
   "execution_count": 31,
   "metadata": {
    "collapsed": false
   },
   "outputs": [
    {
     "data": {
      "text/plain": [
       "15-element Vector{String}:\n",
       " \"Datum\"\n",
       " \"Anfang\"\n",
       " \"Ende\"\n",
       " \"Biomasse [MWh] Berechnete Auflösungen\"\n",
       " \"Wasserkraft [MWh] Berechnete Auflösungen\"\n",
       " \"Wind Offshore [MWh] Berechnete Auflösungen\"\n",
       " \"Wind Onshore [MWh] Berechnete Auflösungen\"\n",
       " \"Photovoltaik [MWh] Berechnete Auflösungen\"\n",
       " \"Sonstige Erneuerbare [MWh] Berechnete Auflösungen\"\n",
       " \"Kernenergie [MWh] Berechnete Auflösungen\"\n",
       " \"Braunkohle [MWh] Berechnete Auflösungen\"\n",
       " \"Steinkohle [MWh] Berechnete Auflösungen\"\n",
       " \"Erdgas [MWh] Berechnete Auflösungen\"\n",
       " \"Pumpspeicher [MWh] Berechnete Auflösungen\"\n",
       " \"Sonstige Konventionelle [MWh] Berechnete Auflösungen\""
      ]
     },
     "execution_count": 31,
     "metadata": {
     },
     "output_type": "execute_result"
    }
   ],
   "source": [
    "names(data)"
   ]
  },
  {
   "cell_type": "code",
   "execution_count": 50,
   "metadata": {
    "collapsed": false
   },
   "outputs": [
    {
     "ename": "LoadError",
     "evalue": "MethodError: no method matching similar(::Float64, ::Type{Float64})\n\u001b[0mClosest candidates are:\n\u001b[0m  similar(\u001b[91m::Union{LinearAlgebra.Adjoint{T, var\"#s886\"}, LinearAlgebra.Transpose{T, var\"#s886\"}} where {T, var\"#s886\"<:(AbstractVector)}\u001b[39m, ::Type{T}) where T at /ext/julia/julia-1.8.4/share/julia/stdlib/v1.8/LinearAlgebra/src/adjtrans.jl:207\n\u001b[0m  similar(\u001b[91m::Union{LinearAlgebra.Adjoint{T, S}, LinearAlgebra.Transpose{T, S}} where {T, S}\u001b[39m, ::Type{T}) where T at /ext/julia/julia-1.8.4/share/julia/stdlib/v1.8/LinearAlgebra/src/adjtrans.jl:211\n\u001b[0m  similar(\u001b[91m::Union{LinearAlgebra.Adjoint{T, S}, LinearAlgebra.Transpose{T, S}} where {T, S}\u001b[39m, ::Type{T}, \u001b[91m::Tuple{Vararg{Int64, N}}\u001b[39m) where {T, N} at /ext/julia/julia-1.8.4/share/julia/stdlib/v1.8/LinearAlgebra/src/adjtrans.jl:212\n\u001b[0m  ...",
     "output_type": "error",
     "traceback": [
      "MethodError: no method matching similar(::Float64, ::Type{Float64})\n\u001b[0mClosest candidates are:\n\u001b[0m  similar(\u001b[91m::Union{LinearAlgebra.Adjoint{T, var\"#s886\"}, LinearAlgebra.Transpose{T, var\"#s886\"}} where {T, var\"#s886\"<:(AbstractVector)}\u001b[39m, ::Type{T}) where T at /ext/julia/julia-1.8.4/share/julia/stdlib/v1.8/LinearAlgebra/src/adjtrans.jl:207\n\u001b[0m  similar(\u001b[91m::Union{LinearAlgebra.Adjoint{T, S}, LinearAlgebra.Transpose{T, S}} where {T, S}\u001b[39m, ::Type{T}) where T at /ext/julia/julia-1.8.4/share/julia/stdlib/v1.8/LinearAlgebra/src/adjtrans.jl:211\n\u001b[0m  similar(\u001b[91m::Union{LinearAlgebra.Adjoint{T, S}, LinearAlgebra.Transpose{T, S}} where {T, S}\u001b[39m, ::Type{T}, \u001b[91m::Tuple{Vararg{Int64, N}}\u001b[39m) where {T, N} at /ext/julia/julia-1.8.4/share/julia/stdlib/v1.8/LinearAlgebra/src/adjtrans.jl:212\n\u001b[0m  ...",
      "",
      "Stacktrace:",
      " [1] _similar_or_copy(x::Float64, #unused#::Type{Float64})",
      "   @ Base ./set.jl:497",
      " [2] replace(A::Float64, old_new::Pair{Regex, Int64}; count::Nothing)",
      "   @ Base ./set.jl:615",
      " [3] replace(A::Float64, old_new::Pair{Regex, Int64})",
      "   @ Base ./set.jl:611",
      " [4] _broadcast_getindex_evalf",
      "   @ ./broadcast.jl:670 [inlined]",
      " [5] _broadcast_getindex",
      "   @ ./broadcast.jl:643 [inlined]",
      " [6] getindex",
      "   @ ./broadcast.jl:597 [inlined]",
      " [7] copy",
      "   @ ./broadcast.jl:899 [inlined]",
      " [8] materialize(bc::Base.Broadcast.Broadcasted{Base.Broadcast.DefaultArrayStyle{1}, Nothing, typeof(replace), Tuple{Vector{Float64}, Base.RefValue{Pair{Regex, Int64}}}})",
      "   @ Base.Broadcast ./broadcast.jl:860",
      " [9] top-level scope",
      "   @ ./In[50]:2"
     ]
    }
   ],
   "source": [
    "for column in names(data)[4:end]\n",
    "    data[column] = replace.(data[column] , r\"^-$\" => -999)\n",
    "    data[column] = parse.(Float64, replace.(replace.(data[column], Pair(\".\",\"\")), Pair(\",\",\".\")))\n",
    "    data[column] = replace.(data[column] , -999 => NaN)\n",
    "end"
   ]
  },
  {
   "cell_type": "code",
   "execution_count": 55,
   "metadata": {
    "collapsed": false
   },
   "outputs": [
    {
     "ename": "LoadError",
     "evalue": "MethodError: no method matching occursin(::Float64, ::Float64)\n\u001b[0mClosest candidates are:\n\u001b[0m  occursin(::Any) at strings/search.jl:642",
     "output_type": "error",
     "traceback": [
      "MethodError: no method matching occursin(::Float64, ::Float64)\n\u001b[0mClosest candidates are:\n\u001b[0m  occursin(::Any) at strings/search.jl:642",
      "",
      "Stacktrace:",
      " [1] _broadcast_getindex_evalf",
      "   @ ./broadcast.jl:670 [inlined]",
      " [2] _broadcast_getindex",
      "   @ ./broadcast.jl:643 [inlined]",
      " [3] getindex",
      "   @ ./broadcast.jl:597 [inlined]",
      " [4] copy",
      "   @ ./broadcast.jl:899 [inlined]",
      " [5] materialize(bc::Base.Broadcast.Broadcasted{Base.Broadcast.DefaultArrayStyle{1}, Nothing, typeof(occursin), Tuple{Float64, Vector{Float64}}})",
      "   @ Base.Broadcast ./broadcast.jl:860",
      " [6] top-level scope",
      "   @ In[55]:1"
     ]
    }
   ],
   "source": [
    "for print(data[\"Biomasse [MWh] Berechnete Auflösungen\"])\n"
   ]
  },
  {
   "cell_type": "code",
   "execution_count": 0,
   "metadata": {
    "collapsed": false
   },
   "outputs": [
   ],
   "source": [
   ]
  },
  {
   "cell_type": "code",
   "execution_count": 0,
   "metadata": {
    "collapsed": false
   },
   "outputs": [
   ],
   "source": [
   ]
  },
  {
   "cell_type": "code",
   "execution_count": 64,
   "metadata": {
    "collapsed": false
   },
   "outputs": [
    {
     "name": "stdout",
     "output_type": "stream",
     "text": [
      "NaN\n",
      "NaN\n",
      "NaN\n",
      "NaN\n"
     ]
    }
   ],
   "source": [
    "for i in data[\"Biomasse [MWh] Berechnete Auflösungen\"]\n",
    "    if isnan(i)\n",
    "        println(i)\n",
    "    end\n",
    "end\n",
    "    "
   ]
  },
  {
   "cell_type": "code",
   "execution_count": 65,
   "metadata": {
    "collapsed": false
   },
   "outputs": [
    {
     "data": {
      "text/plain": [
       "missing"
      ]
     },
     "execution_count": 65,
     "metadata": {
     },
     "output_type": "execute_result"
    }
   ],
   "source": [
    "NaN < missing"
   ]
  },
  {
   "cell_type": "code",
   "execution_count": 66,
   "metadata": {
    "collapsed": false,
    "scrolled": true
   },
   "outputs": [
    {
     "data": {
      "text/plain": [
       "false"
      ]
     },
     "execution_count": 66,
     "metadata": {
     },
     "output_type": "execute_result"
    }
   ],
   "source": [
    "NaN < NaN"
   ]
  },
  {
   "cell_type": "code",
   "execution_count": 69,
   "metadata": {
    "collapsed": false
   },
   "outputs": [
    {
     "data": {
      "text/plain": [
       "true"
      ]
     },
     "execution_count": 69,
     "metadata": {
     },
     "output_type": "execute_result"
    }
   ],
   "source": [
    "NaN === NaN"
   ]
  },
  {
   "cell_type": "code",
   "execution_count": 72,
   "metadata": {
    "collapsed": false
   },
   "outputs": [
    {
     "data": {
      "text/plain": [
       "true"
      ]
     },
     "execution_count": 72,
     "metadata": {
     },
     "output_type": "execute_result"
    }
   ],
   "source": [
    "0 == 0.0"
   ]
  },
  {
   "cell_type": "code",
   "execution_count": 67,
   "metadata": {
    "collapsed": false
   },
   "outputs": [
    {
     "data": {
      "text/plain": [
       "missing"
      ]
     },
     "execution_count": 67,
     "metadata": {
     },
     "output_type": "execute_result"
    }
   ],
   "source": [
    "missing < missing"
   ]
  }
 ],
 "metadata": {
  "kernelspec": {
   "argv": [
    "/ext/julia/julia-1.8/bin/julia",
    "-i",
    "--startup-file=yes",
    "--color=yes",
    "/ext/julia/depot/packages/IJulia/6TIq1/src/kernel.jl",
    "{connection_file}"
   ],
   "display_name": "Julia 1.8",
   "env": {
    "JULIA_DEPOT_PATH": "/home/user/.julia/:/ext/julia/depot/",
    "JULIA_PROJECT": "/home/user/.julia/environment/v1.8"
   },
   "language": "julia",
   "metadata": {
    "cocalc": {
     "description": "The Julia Programming Language",
     "priority": 1,
     "url": "https://julialang.org/"
    }
   },
   "name": "julia-1.8",
   "resource_dir": "/ext/jupyter/kernels/julia-1.8"
  },
  "language_info": {
   "file_extension": ".jl",
   "mimetype": "application/julia",
   "name": "julia",
   "version": "1.8.4"
  }
 },
 "nbformat": 4,
 "nbformat_minor": 4
}