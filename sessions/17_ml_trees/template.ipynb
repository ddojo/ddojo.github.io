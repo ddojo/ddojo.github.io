{
 "cells": [
  {
   "cell_type": "markdown",
   "id": "286a4244-fa46-4fd9-ae20-9f5448fce45b",
   "metadata": {},
   "source": [
    "# Data Dojo 17 - Decision Trees\n",
    "\n",
    "## Setup"
   ]
  },
  {
   "cell_type": "code",
   "execution_count": 1,
   "id": "13a75b94-512a-4e49-be83-8945e51044f7",
   "metadata": {},
   "outputs": [],
   "source": [
    "import numpy as np\n",
    "import pandas as pd\n",
    "from sklearn.model_selection import train_test_split"
   ]
  },
  {
   "cell_type": "markdown",
   "id": "8b74045a-fb3b-4c38-8978-dcec3ea84905",
   "metadata": {},
   "source": [
    "### Hacking Order"
   ]
  },
  {
   "cell_type": "code",
   "execution_count": 2,
   "id": "79462f69-191d-4f27-acdc-8fe9a677cc13",
   "metadata": {},
   "outputs": [
    {
     "data": {
      "text/plain": [
       "'Simon => Robin => Mike => Robin => Max'"
      ]
     },
     "execution_count": 2,
     "metadata": {},
     "output_type": "execute_result"
    }
   ],
   "source": [
    "np.random.seed(42)\n",
    "names = [\"Robin\", \"Simon\", \"Mike\", \"Max\", \"Robin\"]\n",
    "np.random.shuffle(names)\n",
    "\" => \".join(names)"
   ]
  },
  {
   "cell_type": "markdown",
   "id": "54d43503-8748-4a0b-a279-db05cbcb020a",
   "metadata": {},
   "source": [
    "### Data Loading"
   ]
  },
  {
   "cell_type": "code",
   "execution_count": 3,
   "id": "6b6d2e84-2459-4b3b-9a8c-d20caf5d10e0",
   "metadata": {},
   "outputs": [],
   "source": [
    "data = pd.read_csv(\"../14_trees/train.tsv\", sep=\"\\t\")\n",
    "test = pd.read_csv(\"../14_trees/test.tsv\", sep=\"\\t\")"
   ]
  },
  {
   "cell_type": "markdown",
   "id": "c13e7fb2-5237-4489-a3e5-4e80b3e72949",
   "metadata": {},
   "source": [
    "#### All cases"
   ]
  },
  {
   "cell_type": "code",
   "execution_count": 11,
   "id": "3419a08e-0c77-4dbf-9cbc-3f872a24d3fc",
   "metadata": {},
   "outputs": [],
   "source": [
    "X = data.drop(\"species\",axis=1)\n",
    "y = data.species\n",
    "X_train, X_val, y_train, y_val = train_test_split(X, y, random_state=42)"
   ]
  },
  {
   "cell_type": "code",
   "execution_count": 16,
   "id": "009d4f59-11ba-4469-ad62-a9c35f07d4dc",
   "metadata": {},
   "outputs": [],
   "source": [
    "X_test = test.drop(\"tree_id\",axis=1)\n",
    "tree_id = test.tree_id\n",
    "pred = pd.DataFrame()\n",
    "pred[\"tree_id\"] = tree_id\n",
    "pred[\"species\"] = \"unknown\""
   ]
  },
  {
   "cell_type": "markdown",
   "id": "04ba4d1c-e8f1-44fe-9513-3458188b4eb8",
   "metadata": {},
   "source": [
    "#### Only complete cases"
   ]
  },
  {
   "cell_type": "code",
   "execution_count": 13,
   "id": "d450acca-ca85-402a-ae06-de39881f685a",
   "metadata": {},
   "outputs": [],
   "source": [
    "X_complete = data.dropna().drop(\"species\",axis=1)\n",
    "y_complete = data.dropna().species\n",
    "X_train_complete, X_val_complete, y_train_complete, y_val_complete = train_test_split(X_complete, y_complete, random_state=42)"
   ]
  },
  {
   "cell_type": "code",
   "execution_count": 15,
   "id": "d25fb624-21e2-47a4-abd8-ae16fa2a166c",
   "metadata": {},
   "outputs": [],
   "source": [
    "X_test_complete = test.dropna().drop(\"tree_id\",axis=1)\n",
    "tree_id_complete = test.dropna().tree_id\n",
    "pred_complete = pd.DataFrame()\n",
    "pred_complete[\"tree_id\"] = tree_id_complete\n",
    "pred_complete[\"species\"] = \"unknown\""
   ]
  },
  {
   "cell_type": "markdown",
   "id": "aadedb14-b434-4331-89ba-2bfcc065657b",
   "metadata": {},
   "source": [
    "## Decision Trees"
   ]
  },
  {
   "cell_type": "code",
   "execution_count": null,
   "id": "70fddc6c-2801-4ab9-97a6-a338ab429d34",
   "metadata": {},
   "outputs": [],
   "source": []
  },
  {
   "cell_type": "code",
   "execution_count": null,
   "id": "97cc55f6-228e-411c-bec5-8eedd8ea756d",
   "metadata": {},
   "outputs": [],
   "source": []
  },
  {
   "cell_type": "code",
   "execution_count": null,
   "id": "3c7bc3f6-44d4-4460-a597-5cb486d05f7a",
   "metadata": {},
   "outputs": [],
   "source": []
  },
  {
   "cell_type": "code",
   "execution_count": null,
   "id": "49d01b22-70e0-4883-92c4-4ca195f15163",
   "metadata": {},
   "outputs": [],
   "source": []
  },
  {
   "cell_type": "markdown",
   "id": "18e431de-d3f1-48c0-92de-22a9ac687a21",
   "metadata": {},
   "source": [
    "## Save Test Predictions"
   ]
  },
  {
   "cell_type": "code",
   "execution_count": null,
   "id": "86b050b9-4f4d-4286-8d0c-340c77fda2f5",
   "metadata": {},
   "outputs": [],
   "source": [
    "pred[\"species\"] = model.fit(X_test)\n",
    "pred.to_csv(\"my_prediction.tsv\", sep=\"\\t\")"
   ]
  }
 ],
 "metadata": {
  "kernelspec": {
   "display_name": "Python 3 (ipykernel)",
   "language": "python",
   "name": "python3"
  },
  "language_info": {
   "codemirror_mode": {
    "name": "ipython",
    "version": 3
   },
   "file_extension": ".py",
   "mimetype": "text/x-python",
   "name": "python",
   "nbconvert_exporter": "python",
   "pygments_lexer": "ipython3",
   "version": "3.9.9"
  }
 },
 "nbformat": 4,
 "nbformat_minor": 5
}
