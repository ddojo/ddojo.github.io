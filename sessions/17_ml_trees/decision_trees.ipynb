{
 "cells": [
  {
   "cell_type": "markdown",
   "id": "286a4244-fa46-4fd9-ae20-9f5448fce45b",
   "metadata": {},
   "source": [
    "# Data Dojo 17 - Decision Trees\n",
    "\n",
    "## Setup"
   ]
  },
  {
   "cell_type": "code",
   "execution_count": 12,
   "id": "13a75b94-512a-4e49-be83-8945e51044f7",
   "metadata": {},
   "outputs": [],
   "source": [
    "import numpy as np\n",
    "import pandas as pd\n",
    "from sklearn.model_selection import train_test_split"
   ]
  },
  {
   "cell_type": "markdown",
   "id": "8b74045a-fb3b-4c38-8978-dcec3ea84905",
   "metadata": {},
   "source": [
    "### Hacking Order"
   ]
  },
  {
   "cell_type": "code",
   "execution_count": 13,
   "id": "79462f69-191d-4f27-acdc-8fe9a677cc13",
   "metadata": {},
   "outputs": [
    {
     "data": {
      "text/plain": [
       "'Simon => Stefan => Mike => Kerstin => Markus => Anne => Sascha => Feli => Andi'"
      ]
     },
     "execution_count": 13,
     "metadata": {},
     "output_type": "execute_result"
    }
   ],
   "source": [
    "np.random.seed(42)\n",
    "names = [\"Kerstin\", \"Stefan\", \"Anne\", \"Feli\", \"Sascha\", \"Mike\", \"Andi\", \"Markus\"]\n",
    "np.random.shuffle(names)\n",
    "names = [\"Simon\"] + names\n",
    "\" => \".join(names)"
   ]
  },
  {
   "cell_type": "markdown",
   "id": "54d43503-8748-4a0b-a279-db05cbcb020a",
   "metadata": {},
   "source": [
    "### Data Loading"
   ]
  },
  {
   "cell_type": "code",
   "execution_count": 14,
   "id": "6b6d2e84-2459-4b3b-9a8c-d20caf5d10e0",
   "metadata": {},
   "outputs": [],
   "source": [
    "data = pd.read_csv(\"../14_trees/train.tsv\", sep=\"\\t\")\n",
    "test = pd.read_csv(\"../14_trees/test.tsv\", sep=\"\\t\")"
   ]
  },
  {
   "cell_type": "markdown",
   "id": "c13e7fb2-5237-4489-a3e5-4e80b3e72949",
   "metadata": {},
   "source": [
    "#### All cases"
   ]
  },
  {
   "cell_type": "code",
   "execution_count": 15,
   "id": "3419a08e-0c77-4dbf-9cbc-3f872a24d3fc",
   "metadata": {},
   "outputs": [],
   "source": [
    "X = data.drop(\"species\",axis=1)\n",
    "y = data.species\n",
    "X_train, X_val, y_train, y_val = train_test_split(X, y, random_state=42)"
   ]
  },
  {
   "cell_type": "code",
   "execution_count": 16,
   "id": "009d4f59-11ba-4469-ad62-a9c35f07d4dc",
   "metadata": {},
   "outputs": [],
   "source": [
    "X_test = test.drop(\"tree_id\",axis=1)\n",
    "tree_id = test.tree_id\n",
    "pred = pd.DataFrame()\n",
    "pred[\"tree_id\"] = tree_id\n",
    "pred[\"species\"] = \"unknown\""
   ]
  },
  {
   "cell_type": "markdown",
   "id": "04ba4d1c-e8f1-44fe-9513-3458188b4eb8",
   "metadata": {},
   "source": [
    "#### Only complete cases"
   ]
  },
  {
   "cell_type": "code",
   "execution_count": 17,
   "id": "d450acca-ca85-402a-ae06-de39881f685a",
   "metadata": {},
   "outputs": [],
   "source": [
    "X_complete = data.dropna().drop(\"species\",axis=1)\n",
    "y_complete = data.dropna().species\n",
    "X_train_complete, X_val_complete, y_train_complete, y_val_complete = train_test_split(X_complete, y_complete, random_state=42)"
   ]
  },
  {
   "cell_type": "code",
   "execution_count": 18,
   "id": "d25fb624-21e2-47a4-abd8-ae16fa2a166c",
   "metadata": {},
   "outputs": [],
   "source": [
    "X_test_complete = test.dropna().drop(\"tree_id\",axis=1)\n",
    "tree_id_complete = test.dropna().tree_id\n",
    "pred_complete = pd.DataFrame()\n",
    "pred_complete[\"tree_id\"] = tree_id_complete\n",
    "pred_complete[\"species\"] = \"unknown\""
   ]
  },
  {
   "cell_type": "markdown",
   "id": "aadedb14-b434-4331-89ba-2bfcc065657b",
   "metadata": {},
   "source": [
    "## Decision Trees"
   ]
  },
  {
   "cell_type": "code",
   "execution_count": 26,
   "id": "70fddc6c-2801-4ab9-97a6-a338ab429d34",
   "metadata": {},
   "outputs": [],
   "source": [
    "from sklearn import tree\n",
    "\n",
    "clf = tree.DecisionTreeClassifier(max_depth=2)\n",
    "clf = clf.fit(X_train_complete, y_train_complete)"
   ]
  },
  {
   "cell_type": "code",
   "execution_count": 27,
   "id": "97cc55f6-228e-411c-bec5-8eedd8ea756d",
   "metadata": {},
   "outputs": [
    {
     "data": {
      "text/plain": [
       "0.7659683188553909"
      ]
     },
     "execution_count": 27,
     "metadata": {},
     "output_type": "execute_result"
    }
   ],
   "source": [
    "clf.score(X_val_complete, y_val_complete)"
   ]
  },
  {
   "cell_type": "code",
   "execution_count": 28,
   "id": "3c7bc3f6-44d4-4460-a597-5cb486d05f7a",
   "metadata": {
    "tags": []
   },
   "outputs": [
    {
     "data": {
      "text/plain": [
       "[Text(0.5, 0.8333333333333334, 'X[3] <= 9.55\\ngini = 0.597\\nsamples = 23483\\nvalue = [3900, 7028, 12555]'),\n",
       " Text(0.25, 0.5, 'X[4] <= 2.675\\ngini = 0.362\\nsamples = 15253\\nvalue = [322, 3169, 11762]'),\n",
       " Text(0.125, 0.16666666666666666, 'gini = 0.465\\nsamples = 9073\\nvalue = [239, 2840, 5994]'),\n",
       " Text(0.375, 0.16666666666666666, 'gini = 0.126\\nsamples = 6180\\nvalue = [83, 329, 5768]'),\n",
       " Text(0.75, 0.5, 'X[1] <= -2.539\\ngini = 0.582\\nsamples = 8230\\nvalue = [3578, 3859, 793]'),\n",
       " Text(0.625, 0.16666666666666666, 'gini = 0.399\\nsamples = 4668\\nvalue = [688, 3524, 456]'),\n",
       " Text(0.875, 0.16666666666666666, 'gini = 0.324\\nsamples = 3562\\nvalue = [2890, 335, 337]')]"
      ]
     },
     "execution_count": 28,
     "metadata": {},
     "output_type": "execute_result"
    },
    {
     "data": {
      "image/png": "[encoded data removed]",
      "text/plain": [
       "<Figure size 432x288 with 1 Axes>"
      ]
     },
     "metadata": {
      "needs_background": "light"
     },
     "output_type": "display_data"
    }
   ],
   "source": [
    "tree.plot_tree(clf)"
   ]
  },
  {
   "cell_type": "code",
   "execution_count": 29,
   "id": "49d01b22-70e0-4883-92c4-4ca195f15163",
   "metadata": {},
   "outputs": [],
   "source": [
    "import graphviz"
   ]
  },
  {
   "cell_type": "code",
   "execution_count": 30,
   "id": "6fe612b0-b04b-4dc7-b2e2-768794ecc9b6",
   "metadata": {},
   "outputs": [
    {
     "data": {
      "text/plain": [
       "'iris.pdf'"
      ]
     },
     "execution_count": 30,
     "metadata": {},
     "output_type": "execute_result"
    }
   ],
   "source": [
    "dot_data = tree.export_graphviz(clf, out_file=None) \n",
    "graph = graphviz.Source(dot_data) \n",
    "graph.render(\"iris\") "
   ]
  },
  {
   "cell_type": "code",
   "execution_count": 53,
   "id": "c0409974-3fbe-4b05-9508-970f85f1fdd5",
   "metadata": {},
   "outputs": [],
   "source": [
    "data =[]"
   ]
  },
  {
   "cell_type": "code",
   "execution_count": 54,
   "id": "908986b0-6df2-4d27-be8e-d7fbf917583d",
   "metadata": {},
   "outputs": [
    {
     "name": "stdout",
     "output_type": "stream",
     "text": [
      "1 0.921691364333163 0.940212068304731\n",
      "2 0.9213081246806336 0.9384661244304391\n",
      "3 0.9214358712314767 0.9372737725162884\n",
      "4 0.9186254471129279 0.9356555806327982\n",
      "5 0.9193919264179867 0.934037388749308\n",
      "6 0.9182422074603985 0.9322062768811481\n",
      "7 0.9177312212570261 0.9312694289486011\n",
      "8 0.9186254471129279 0.9303325810160542\n",
      "9 0.9183699540112417 0.9293105650896393\n",
      "10 0.9181144609095554 0.9284163011540263\n",
      "11 0.9158150229943791 0.9274368692245454\n",
      "12 0.9159427695452222 0.9266703572797342\n",
      "13 0.916709248850281 0.9263722693011966\n",
      "14 0.9188809402146142 0.9278627091938849\n",
      "15 0.9183699540112417 0.9273091172337435\n",
      "16 0.9177312212570261 0.926883277264404\n",
      "17 0.9165815022994379 0.926074181322659\n",
      "18 0.9155595298926928 0.9253502533747817\n",
      "19 0.9150485436893204 0.9247114934207725\n",
      "20 0.9154317833418498 0.9244985734361028\n",
      "21 0.9170924885028104 0.9245411574330367\n",
      "22 0.9173479816044967 0.9243708214453008\n",
      "23 0.9170924885028104 0.924243069454499\n",
      "24 0.9163260091977516 0.9234339735127539\n"
     ]
    }
   ],
   "source": [
    "for i in range(1, 25):\n",
    "    clf = tree.DecisionTreeClassifier(min_samples_leaf = i, max_depth = 10)\n",
    "    clf = clf.fit(X_train_complete, y_train_complete)\n",
    "    \n",
    "    print(i, clf.score(X_val_complete, y_val_complete), clf.score(X_train_complete, y_train_complete))\n",
    "    data.append(clf.score(X_val_complete, y_val_complete))"
   ]
  },
  {
   "cell_type": "code",
   "execution_count": 51,
   "id": "3b6d7db5-b7d0-4dcd-bb31-2048aa7690a4",
   "metadata": {},
   "outputs": [],
   "source": [
    "import matplotlib.pyplot as plt"
   ]
  },
  {
   "cell_type": "code",
   "execution_count": 56,
   "id": "edacab74-50eb-4a96-a30b-d51b307d9b48",
   "metadata": {},
   "outputs": [
    {
     "data": {
      "text/plain": [
       "[<matplotlib.lines.Line2D at 0x7f0f9a63bee0>]"
      ]
     },
     "execution_count": 56,
     "metadata": {},
     "output_type": "execute_result"
    },
    {
     "data": {
      "image/png": "[encoded data removed]",
      "text/plain": [
       "<Figure size 432x288 with 1 Axes>"
      ]
     },
     "metadata": {
      "needs_background": "light"
     },
     "output_type": "display_data"
    }
   ],
   "source": [
    "plt.plot(data)"
   ]
  },
  {
   "cell_type": "code",
   "execution_count": null,
   "id": "4abad41d-5da6-4c06-8519-427fbca874b5",
   "metadata": {},
   "outputs": [],
   "source": []
  },
  {
   "cell_type": "markdown",
   "id": "18e431de-d3f1-48c0-92de-22a9ac687a21",
   "metadata": {},
   "source": [
    "## Save Test Predictions"
   ]
  },
  {
   "cell_type": "code",
   "execution_count": 42,
   "id": "4813d0f8-01da-4dbb-ab9f-bcefdce60c04",
   "metadata": {},
   "outputs": [],
   "source": [
    "clf = tree.DecisionTreeClassifier(max_depth=13) #10 because of Markus feelings\n",
    "clf = clf.fit(X_train_complete, y_train_complete)"
   ]
  },
  {
   "cell_type": "code",
   "execution_count": 43,
   "id": "86b050b9-4f4d-4286-8d0c-340c77fda2f5",
   "metadata": {},
   "outputs": [],
   "source": [
    "pred_complete[\"species\"] = clf.predict(X_test_complete)\n",
    "pred.to_csv(\"my_prediction.tsv\", sep=\"\\t\")"
   ]
  },
  {
   "cell_type": "code",
   "execution_count": 44,
   "id": "1d41c8fd-3320-4d2c-bc25-42ef7db0a28e",
   "metadata": {},
   "outputs": [
    {
     "data": {
      "text/plain": [
       "array(['Fagus sylvatica', 'Pinus pinaster', 'Quercus ilex'], dtype=object)"
      ]
     },
     "execution_count": 44,
     "metadata": {},
     "output_type": "execute_result"
    }
   ],
   "source": [
    "np.unique(pred_complete[\"species\"])"
   ]
  },
  {
   "cell_type": "code",
   "execution_count": 45,
   "id": "aeaeb396-c461-4e68-a4a2-9ead75bcb529",
   "metadata": {},
   "outputs": [],
   "source": [
    "pred_complete.to_csv(\"Tree_depth13.tsv\", sep=\"\\t\")"
   ]
  },
  {
   "cell_type": "code",
   "execution_count": null,
   "id": "b6468c9d-4a42-4373-9720-17bcf7ce8be9",
   "metadata": {},
   "outputs": [],
   "source": []
  }
 ],
 "metadata": {
  "kernelspec": {
   "display_name": "Python 3 (ipykernel)",
   "language": "python",
   "name": "python3"
  },
  "language_info": {
   "codemirror_mode": {
    "name": "ipython",
    "version": 3
   },
   "file_extension": ".py",
   "mimetype": "text/x-python",
   "name": "python",
   "nbconvert_exporter": "python",
   "pygments_lexer": "ipython3",
   "version": "3.9.9"
  }
 },
 "nbformat": 4,
 "nbformat_minor": 5
}
