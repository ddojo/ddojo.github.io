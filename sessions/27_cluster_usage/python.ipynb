{
 "cells": [
  {
   "cell_type": "code",
   "execution_count": 33,
   "metadata": {
    "collapsed": false
   },
   "outputs": [
   ],
   "source": [
    "import numpy as np\n",
    "import random\n",
    "\n",
    "\n",
    "\n",
    "liste = ['Felix', 'Sascha', 'gloria', 'Robin', 'Romy','Joel']\n",
    "np.random.shuffle(liste)"
   ]
  },
  {
   "cell_type": "code",
   "execution_count": 34,
   "metadata": {
    "collapsed": false
   },
   "outputs": [
    {
     "data": {
      "text/plain": [
       "['Romy', 'Sascha', 'gloria', 'Robin', 'Felix', 'Joel']"
      ]
     },
     "execution_count": 34,
     "metadata": {
     },
     "output_type": "execute_result"
    }
   ],
   "source": [
    "liste"
   ]
  },
  {
   "cell_type": "code",
   "execution_count": 9,
   "metadata": {
    "collapsed": false
   },
   "outputs": [
   ],
   "source": [
    "import pandas as pd\n",
    "import matplotlib.pyplot as plt"
   ]
  },
  {
   "cell_type": "code",
   "execution_count": 10,
   "metadata": {
    "collapsed": false
   },
   "outputs": [
   ],
   "source": [
    "mem = pd.read_csv(\"mem.tsv\",sep=\"\\t\")"
   ]
  },
  {
   "cell_type": "markdown",
   "metadata": {
    "collapsed": false
   },
   "source": [
   ]
  },
  {
   "cell_type": "code",
   "execution_count": 11,
   "metadata": {
    "collapsed": false
   },
   "outputs": [
    {
     "data": {
      "text/html": [
       "<div>\n",
       "<style scoped>\n",
       "    .dataframe tbody tr th:only-of-type {\n",
       "        vertical-align: middle;\n",
       "    }\n",
       "\n",
       "    .dataframe tbody tr th {\n",
       "        vertical-align: top;\n",
       "    }\n",
       "\n",
       "    .dataframe thead th {\n",
       "        text-align: right;\n",
       "    }\n",
       "</style>\n",
       "<table border=\"1\" class=\"dataframe\">\n",
       "  <thead>\n",
       "    <tr style=\"text-align: right;\">\n",
       "      <th></th>\n",
       "      <th>hostname</th>\n",
       "      <th>interval</th>\n",
       "      <th>timestamp</th>\n",
       "      <th>kbmemfree</th>\n",
       "      <th>kbavail</th>\n",
       "      <th>kbmemused</th>\n",
       "      <th>%memused</th>\n",
       "      <th>kbbuffers</th>\n",
       "      <th>kbcached</th>\n",
       "      <th>kbcommit</th>\n",
       "      <th>%commit</th>\n",
       "      <th>kbactive</th>\n",
       "      <th>kbinact</th>\n",
       "      <th>kbdirty</th>\n",
       "    </tr>\n",
       "  </thead>\n",
       "  <tbody>\n",
       "    <tr>\n",
       "      <th>0</th>\n",
       "      <td>gaia2</td>\n",
       "      <td>60</td>\n",
       "      <td>2024-03-01 09:45:27 UTC</td>\n",
       "      <td>137037152</td>\n",
       "      <td>230075116</td>\n",
       "      <td>31003076</td>\n",
       "      <td>11.74</td>\n",
       "      <td>636204</td>\n",
       "      <td>89877820</td>\n",
       "      <td>171802324</td>\n",
       "      <td>41.85</td>\n",
       "      <td>20851076</td>\n",
       "      <td>97457904</td>\n",
       "      <td>184</td>\n",
       "    </tr>\n",
       "    <tr>\n",
       "      <th>1</th>\n",
       "      <td>gaia2</td>\n",
       "      <td>60</td>\n",
       "      <td>2024-03-01 09:46:27 UTC</td>\n",
       "      <td>138041912</td>\n",
       "      <td>231080832</td>\n",
       "      <td>30002400</td>\n",
       "      <td>11.36</td>\n",
       "      <td>636328</td>\n",
       "      <td>89874808</td>\n",
       "      <td>161479612</td>\n",
       "      <td>39.33</td>\n",
       "      <td>20894252</td>\n",
       "      <td>96386512</td>\n",
       "      <td>576</td>\n",
       "    </tr>\n",
       "    <tr>\n",
       "      <th>2</th>\n",
       "      <td>gaia2</td>\n",
       "      <td>60</td>\n",
       "      <td>2024-03-01 09:47:27 UTC</td>\n",
       "      <td>138006124</td>\n",
       "      <td>231045812</td>\n",
       "      <td>30024476</td>\n",
       "      <td>11.37</td>\n",
       "      <td>636420</td>\n",
       "      <td>89888768</td>\n",
       "      <td>162125444</td>\n",
       "      <td>39.49</td>\n",
       "      <td>20894752</td>\n",
       "      <td>96423336</td>\n",
       "      <td>120</td>\n",
       "    </tr>\n",
       "    <tr>\n",
       "      <th>3</th>\n",
       "      <td>gaia2</td>\n",
       "      <td>60</td>\n",
       "      <td>2024-03-01 09:48:27 UTC</td>\n",
       "      <td>137958872</td>\n",
       "      <td>230999448</td>\n",
       "      <td>30071096</td>\n",
       "      <td>11.39</td>\n",
       "      <td>636504</td>\n",
       "      <td>89888952</td>\n",
       "      <td>171039472</td>\n",
       "      <td>41.66</td>\n",
       "      <td>20894832</td>\n",
       "      <td>96508840</td>\n",
       "      <td>3272</td>\n",
       "    </tr>\n",
       "    <tr>\n",
       "      <th>4</th>\n",
       "      <td>gaia2</td>\n",
       "      <td>60</td>\n",
       "      <td>2024-03-01 09:49:27 UTC</td>\n",
       "      <td>137909188</td>\n",
       "      <td>230950336</td>\n",
       "      <td>30120168</td>\n",
       "      <td>11.41</td>\n",
       "      <td>636592</td>\n",
       "      <td>89888964</td>\n",
       "      <td>171062608</td>\n",
       "      <td>41.67</td>\n",
       "      <td>20894932</td>\n",
       "      <td>96569740</td>\n",
       "      <td>212</td>\n",
       "    </tr>\n",
       "  </tbody>\n",
       "</table>\n",
       "</div>"
      ],
      "text/plain": [
       "  hostname  interval                timestamp  kbmemfree    kbavail  \\\n",
       "0    gaia2        60  2024-03-01 09:45:27 UTC  137037152  230075116   \n",
       "1    gaia2        60  2024-03-01 09:46:27 UTC  138041912  231080832   \n",
       "2    gaia2        60  2024-03-01 09:47:27 UTC  138006124  231045812   \n",
       "3    gaia2        60  2024-03-01 09:48:27 UTC  137958872  230999448   \n",
       "4    gaia2        60  2024-03-01 09:49:27 UTC  137909188  230950336   \n",
       "\n",
       "   kbmemused  %memused  kbbuffers  kbcached   kbcommit  %commit  kbactive  \\\n",
       "0   31003076     11.74     636204  89877820  171802324    41.85  20851076   \n",
       "1   30002400     11.36     636328  89874808  161479612    39.33  20894252   \n",
       "2   30024476     11.37     636420  89888768  162125444    39.49  20894752   \n",
       "3   30071096     11.39     636504  89888952  171039472    41.66  20894832   \n",
       "4   30120168     11.41     636592  89888964  171062608    41.67  20894932   \n",
       "\n",
       "    kbinact  kbdirty  \n",
       "0  97457904      184  \n",
       "1  96386512      576  \n",
       "2  96423336      120  \n",
       "3  96508840     3272  \n",
       "4  96569740      212  "
      ]
     },
     "execution_count": 11,
     "metadata": {
     },
     "output_type": "execute_result"
    }
   ],
   "source": [
    "mem.head()"
   ]
  },
  {
   "cell_type": "code",
   "execution_count": 12,
   "metadata": {
    "collapsed": false
   },
   "outputs": [
    {
     "data": {
      "text/html": [
       "<div>\n",
       "<style scoped>\n",
       "    .dataframe tbody tr th:only-of-type {\n",
       "        vertical-align: middle;\n",
       "    }\n",
       "\n",
       "    .dataframe tbody tr th {\n",
       "        vertical-align: top;\n",
       "    }\n",
       "\n",
       "    .dataframe thead th {\n",
       "        text-align: right;\n",
       "    }\n",
       "</style>\n",
       "<table border=\"1\" class=\"dataframe\">\n",
       "  <thead>\n",
       "    <tr style=\"text-align: right;\">\n",
       "      <th></th>\n",
       "      <th>hostname</th>\n",
       "      <th>interval</th>\n",
       "      <th>timestamp</th>\n",
       "      <th>CPU</th>\n",
       "      <th>%user</th>\n",
       "      <th>%nice</th>\n",
       "      <th>%system</th>\n",
       "      <th>%iowait</th>\n",
       "      <th>%steal</th>\n",
       "      <th>%idle</th>\n",
       "    </tr>\n",
       "  </thead>\n",
       "  <tbody>\n",
       "    <tr>\n",
       "      <th>0</th>\n",
       "      <td>gaia2</td>\n",
       "      <td>60</td>\n",
       "      <td>2024-03-01 09:45:27 UTC</td>\n",
       "      <td>-1</td>\n",
       "      <td>1.05</td>\n",
       "      <td>0.0</td>\n",
       "      <td>2.62</td>\n",
       "      <td>0.09</td>\n",
       "      <td>0.0</td>\n",
       "      <td>96.23</td>\n",
       "    </tr>\n",
       "    <tr>\n",
       "      <th>1</th>\n",
       "      <td>gaia2</td>\n",
       "      <td>60</td>\n",
       "      <td>2024-03-01 09:46:27 UTC</td>\n",
       "      <td>-1</td>\n",
       "      <td>1.33</td>\n",
       "      <td>0.0</td>\n",
       "      <td>2.92</td>\n",
       "      <td>0.16</td>\n",
       "      <td>0.0</td>\n",
       "      <td>95.60</td>\n",
       "    </tr>\n",
       "    <tr>\n",
       "      <th>2</th>\n",
       "      <td>gaia2</td>\n",
       "      <td>60</td>\n",
       "      <td>2024-03-01 09:47:27 UTC</td>\n",
       "      <td>-1</td>\n",
       "      <td>1.47</td>\n",
       "      <td>0.0</td>\n",
       "      <td>2.98</td>\n",
       "      <td>0.16</td>\n",
       "      <td>0.0</td>\n",
       "      <td>95.38</td>\n",
       "    </tr>\n",
       "    <tr>\n",
       "      <th>3</th>\n",
       "      <td>gaia2</td>\n",
       "      <td>60</td>\n",
       "      <td>2024-03-01 09:48:27 UTC</td>\n",
       "      <td>-1</td>\n",
       "      <td>1.65</td>\n",
       "      <td>0.0</td>\n",
       "      <td>3.25</td>\n",
       "      <td>0.09</td>\n",
       "      <td>0.0</td>\n",
       "      <td>95.01</td>\n",
       "    </tr>\n",
       "    <tr>\n",
       "      <th>4</th>\n",
       "      <td>gaia2</td>\n",
       "      <td>60</td>\n",
       "      <td>2024-03-01 09:49:27 UTC</td>\n",
       "      <td>-1</td>\n",
       "      <td>1.05</td>\n",
       "      <td>0.0</td>\n",
       "      <td>2.42</td>\n",
       "      <td>0.06</td>\n",
       "      <td>0.0</td>\n",
       "      <td>96.47</td>\n",
       "    </tr>\n",
       "  </tbody>\n",
       "</table>\n",
       "</div>"
      ],
      "text/plain": [
       "  hostname  interval                timestamp  CPU  %user  %nice  %system  \\\n",
       "0    gaia2        60  2024-03-01 09:45:27 UTC   -1   1.05    0.0     2.62   \n",
       "1    gaia2        60  2024-03-01 09:46:27 UTC   -1   1.33    0.0     2.92   \n",
       "2    gaia2        60  2024-03-01 09:47:27 UTC   -1   1.47    0.0     2.98   \n",
       "3    gaia2        60  2024-03-01 09:48:27 UTC   -1   1.65    0.0     3.25   \n",
       "4    gaia2        60  2024-03-01 09:49:27 UTC   -1   1.05    0.0     2.42   \n",
       "\n",
       "   %iowait  %steal  %idle  \n",
       "0     0.09     0.0  96.23  \n",
       "1     0.16     0.0  95.60  \n",
       "2     0.16     0.0  95.38  \n",
       "3     0.09     0.0  95.01  \n",
       "4     0.06     0.0  96.47  "
      ]
     },
     "execution_count": 12,
     "metadata": {
     },
     "output_type": "execute_result"
    }
   ],
   "source": [
    "cpu = pd.read_csv(\"cpu.tsv\",sep=\"\\t\")\n",
    "cpu.head()"
   ]
  },
  {
   "cell_type": "code",
   "execution_count": 13,
   "metadata": {
    "collapsed": false
   },
   "outputs": [
    {
     "data": {
      "text/html": [
       "<div>\n",
       "<style scoped>\n",
       "    .dataframe tbody tr th:only-of-type {\n",
       "        vertical-align: middle;\n",
       "    }\n",
       "\n",
       "    .dataframe tbody tr th {\n",
       "        vertical-align: top;\n",
       "    }\n",
       "\n",
       "    .dataframe thead th {\n",
       "        text-align: right;\n",
       "    }\n",
       "</style>\n",
       "<table border=\"1\" class=\"dataframe\">\n",
       "  <thead>\n",
       "    <tr style=\"text-align: right;\">\n",
       "      <th></th>\n",
       "      <th>hostname</th>\n",
       "      <th>interval</th>\n",
       "      <th>timestamp</th>\n",
       "      <th>CPU</th>\n",
       "      <th>%user</th>\n",
       "      <th>%nice</th>\n",
       "      <th>%system</th>\n",
       "      <th>%iowait</th>\n",
       "      <th>%steal</th>\n",
       "      <th>%idle</th>\n",
       "    </tr>\n",
       "  </thead>\n",
       "  <tbody>\n",
       "    <tr>\n",
       "      <th>305885</th>\n",
       "      <td>uranus2</td>\n",
       "      <td>60</td>\n",
       "      <td>2024-03-01 09:55:14 UTC</td>\n",
       "      <td>-1</td>\n",
       "      <td>76.90</td>\n",
       "      <td>0.0</td>\n",
       "      <td>0.08</td>\n",
       "      <td>0.00</td>\n",
       "      <td>0.0</td>\n",
       "      <td>23.02</td>\n",
       "    </tr>\n",
       "    <tr>\n",
       "      <th>309344</th>\n",
       "      <td>uranus2</td>\n",
       "      <td>60</td>\n",
       "      <td>2024-03-03 19:34:54 UTC</td>\n",
       "      <td>-1</td>\n",
       "      <td>68.65</td>\n",
       "      <td>0.0</td>\n",
       "      <td>0.09</td>\n",
       "      <td>0.08</td>\n",
       "      <td>0.0</td>\n",
       "      <td>31.18</td>\n",
       "    </tr>\n",
       "    <tr>\n",
       "      <th>305886</th>\n",
       "      <td>uranus2</td>\n",
       "      <td>60</td>\n",
       "      <td>2024-03-01 09:56:14 UTC</td>\n",
       "      <td>-1</td>\n",
       "      <td>65.68</td>\n",
       "      <td>0.0</td>\n",
       "      <td>0.10</td>\n",
       "      <td>0.00</td>\n",
       "      <td>0.0</td>\n",
       "      <td>34.22</td>\n",
       "    </tr>\n",
       "    <tr>\n",
       "      <th>305887</th>\n",
       "      <td>uranus2</td>\n",
       "      <td>60</td>\n",
       "      <td>2024-03-01 09:57:14 UTC</td>\n",
       "      <td>-1</td>\n",
       "      <td>56.79</td>\n",
       "      <td>0.0</td>\n",
       "      <td>0.09</td>\n",
       "      <td>0.00</td>\n",
       "      <td>0.0</td>\n",
       "      <td>43.12</td>\n",
       "    </tr>\n",
       "    <tr>\n",
       "      <th>305888</th>\n",
       "      <td>uranus2</td>\n",
       "      <td>60</td>\n",
       "      <td>2024-03-01 09:58:14 UTC</td>\n",
       "      <td>-1</td>\n",
       "      <td>54.70</td>\n",
       "      <td>0.0</td>\n",
       "      <td>0.10</td>\n",
       "      <td>0.00</td>\n",
       "      <td>0.0</td>\n",
       "      <td>45.21</td>\n",
       "    </tr>\n",
       "  </tbody>\n",
       "</table>\n",
       "</div>"
      ],
      "text/plain": [
       "       hostname  interval                timestamp  CPU  %user  %nice  \\\n",
       "305885  uranus2        60  2024-03-01 09:55:14 UTC   -1  76.90    0.0   \n",
       "309344  uranus2        60  2024-03-03 19:34:54 UTC   -1  68.65    0.0   \n",
       "305886  uranus2        60  2024-03-01 09:56:14 UTC   -1  65.68    0.0   \n",
       "305887  uranus2        60  2024-03-01 09:57:14 UTC   -1  56.79    0.0   \n",
       "305888  uranus2        60  2024-03-01 09:58:14 UTC   -1  54.70    0.0   \n",
       "\n",
       "        %system  %iowait  %steal  %idle  \n",
       "305885     0.08     0.00     0.0  23.02  \n",
       "309344     0.09     0.08     0.0  31.18  \n",
       "305886     0.10     0.00     0.0  34.22  \n",
       "305887     0.09     0.00     0.0  43.12  \n",
       "305888     0.10     0.00     0.0  45.21  "
      ]
     },
     "execution_count": 13,
     "metadata": {
     },
     "output_type": "execute_result"
    }
   ],
   "source": [
    "sorted = cpu.sort_values([\"%user\", \"hostname\"], ascending = [False, False])\n",
    "sorted.head()\n"
   ]
  },
  {
   "cell_type": "code",
   "execution_count": 14,
   "metadata": {
    "collapsed": false
   },
   "outputs": [
    {
     "data": {
      "text/html": [
       "<div>\n",
       "<style scoped>\n",
       "    .dataframe tbody tr th:only-of-type {\n",
       "        vertical-align: middle;\n",
       "    }\n",
       "\n",
       "    .dataframe tbody tr th {\n",
       "        vertical-align: top;\n",
       "    }\n",
       "\n",
       "    .dataframe thead th {\n",
       "        text-align: right;\n",
       "    }\n",
       "</style>\n",
       "<table border=\"1\" class=\"dataframe\">\n",
       "  <thead>\n",
       "    <tr style=\"text-align: right;\">\n",
       "      <th></th>\n",
       "      <th>hostname</th>\n",
       "      <th>interval</th>\n",
       "      <th>timestamp</th>\n",
       "      <th>CPU</th>\n",
       "      <th>%user</th>\n",
       "      <th>%nice</th>\n",
       "      <th>%system</th>\n",
       "      <th>%iowait</th>\n",
       "      <th>%steal</th>\n",
       "      <th>%idle</th>\n",
       "    </tr>\n",
       "  </thead>\n",
       "  <tbody>\n",
       "    <tr>\n",
       "      <th>346225</th>\n",
       "      <td>uranus2</td>\n",
       "      <td>60</td>\n",
       "      <td>2024-03-29 10:16:05 UTC</td>\n",
       "      <td>-1</td>\n",
       "      <td>0.03</td>\n",
       "      <td>0.0</td>\n",
       "      <td>0.01</td>\n",
       "      <td>0.0</td>\n",
       "      <td>0.0</td>\n",
       "      <td>99.97</td>\n",
       "    </tr>\n",
       "    <tr>\n",
       "      <th>346226</th>\n",
       "      <td>uranus2</td>\n",
       "      <td>60</td>\n",
       "      <td>2024-03-29 10:17:05 UTC</td>\n",
       "      <td>-1</td>\n",
       "      <td>0.01</td>\n",
       "      <td>0.0</td>\n",
       "      <td>0.01</td>\n",
       "      <td>0.0</td>\n",
       "      <td>0.0</td>\n",
       "      <td>99.98</td>\n",
       "    </tr>\n",
       "    <tr>\n",
       "      <th>346227</th>\n",
       "      <td>uranus2</td>\n",
       "      <td>60</td>\n",
       "      <td>2024-03-29 10:18:05 UTC</td>\n",
       "      <td>-1</td>\n",
       "      <td>0.01</td>\n",
       "      <td>0.0</td>\n",
       "      <td>0.01</td>\n",
       "      <td>0.0</td>\n",
       "      <td>0.0</td>\n",
       "      <td>99.98</td>\n",
       "    </tr>\n",
       "    <tr>\n",
       "      <th>346228</th>\n",
       "      <td>uranus2</td>\n",
       "      <td>60</td>\n",
       "      <td>2024-03-29 10:19:05 UTC</td>\n",
       "      <td>-1</td>\n",
       "      <td>0.01</td>\n",
       "      <td>0.0</td>\n",
       "      <td>0.01</td>\n",
       "      <td>0.0</td>\n",
       "      <td>0.0</td>\n",
       "      <td>99.98</td>\n",
       "    </tr>\n",
       "    <tr>\n",
       "      <th>346229</th>\n",
       "      <td>uranus2</td>\n",
       "      <td>60</td>\n",
       "      <td>2024-03-29 10:20:05 UTC</td>\n",
       "      <td>-1</td>\n",
       "      <td>0.01</td>\n",
       "      <td>0.0</td>\n",
       "      <td>0.00</td>\n",
       "      <td>0.0</td>\n",
       "      <td>0.0</td>\n",
       "      <td>99.98</td>\n",
       "    </tr>\n",
       "  </tbody>\n",
       "</table>\n",
       "</div>"
      ],
      "text/plain": [
       "       hostname  interval                timestamp  CPU  %user  %nice  \\\n",
       "346225  uranus2        60  2024-03-29 10:16:05 UTC   -1   0.03    0.0   \n",
       "346226  uranus2        60  2024-03-29 10:17:05 UTC   -1   0.01    0.0   \n",
       "346227  uranus2        60  2024-03-29 10:18:05 UTC   -1   0.01    0.0   \n",
       "346228  uranus2        60  2024-03-29 10:19:05 UTC   -1   0.01    0.0   \n",
       "346229  uranus2        60  2024-03-29 10:20:05 UTC   -1   0.01    0.0   \n",
       "\n",
       "        %system  %iowait  %steal  %idle  \n",
       "346225     0.01      0.0     0.0  99.97  \n",
       "346226     0.01      0.0     0.0  99.98  \n",
       "346227     0.01      0.0     0.0  99.98  \n",
       "346228     0.01      0.0     0.0  99.98  \n",
       "346229     0.00      0.0     0.0  99.98  "
      ]
     },
     "execution_count": 14,
     "metadata": {
     },
     "output_type": "execute_result"
    }
   ],
   "source": [
    "uranus2 =  cpu[cpu[\"hostname\"]==\"uranus2\"]\n",
    "uranus2.tail()"
   ]
  },
  {
   "cell_type": "code",
   "execution_count": 15,
   "metadata": {
    "collapsed": false
   },
   "outputs": [
    {
     "name": "stdout",
     "output_type": "stream",
     "text": [
      "0.44869946709629444\n"
     ]
    }
   ],
   "source": [
    "mean_usage = uranus2[\"%user\"].mean()\n",
    "print(mean_usage)"
   ]
  },
  {
   "cell_type": "code",
   "execution_count": 16,
   "metadata": {
    "collapsed": false
   },
   "outputs": [
    {
     "name": "stdout",
     "output_type": "stream",
     "text": [
      "['gaia2' 'gaia3' 'gaia4' 'gaia5' 'jupiter' 'jupiter4' 'jupiter5' 'saturn2'\n",
      " 'uranus2']\n"
     ]
    }
   ],
   "source": [
    "list_hostnames = np.unique(cpu[\"hostname\"])\n",
    "print(list_hostnames)"
   ]
  },
  {
   "cell_type": "code",
   "execution_count": 23,
   "metadata": {
    "collapsed": false
   },
   "outputs": [
    {
     "data": {
      "text/plain": [
       "1.0927676061688063"
      ]
     },
     "execution_count": 23,
     "metadata": {
     },
     "output_type": "execute_result"
    }
   ],
   "source": [
    "cpu[cpu[\"hostname\"]=='gaia2'][\"%user\"].mean()"
   ]
  },
  {
   "cell_type": "code",
   "execution_count": 24,
   "metadata": {
    "collapsed": false
   },
   "outputs": [
   ],
   "source": [
    "usage_list=[]\n",
    "for hostname in list_hostnames:\n",
    "    \n",
    "    usage_list.append(cpu[cpu[\"hostname\"]==hostname][\"%user\"].mean())\n",
    "    \n",
    "\n"
   ]
  },
  {
   "cell_type": "code",
   "execution_count": 25,
   "metadata": {
    "collapsed": false
   },
   "outputs": [
    {
     "name": "stdout",
     "output_type": "stream",
     "text": [
      "[1.0927676061688063, 1.2852238355268124, 0.8303516677155444, 4.063075819362634, 0.2556233854520734, 0.06360919229730251, 0.1664052271374727, 0.12612141192801546, 0.44869946709629444]\n"
     ]
    }
   ],
   "source": [
    "print(usage_list)"
   ]
  },
  {
   "cell_type": "code",
   "execution_count": 30,
   "metadata": {
    "collapsed": false
   },
   "outputs": [
    {
     "data": {
      "text/plain": [
       "Text(0.5, 1.0, 'Mean usage percentage per host')"
      ]
     },
     "execution_count": 30,
     "metadata": {
     },
     "output_type": "execute_result"
    },
    {
     "data": {
      "image/png": "[encoded data removed]",
      "text/plain": [
       "<Figure size 864x504 with 1 Axes>"
      ]
     },
     "execution_count": 30,
     "metadata": {
      "image/png": {
       "height": 426,
       "width": 720
      },
      "needs_background": "light"
     },
     "output_type": "execute_result"
    }
   ],
   "source": [
    "plt.scatter(list_hostnames, usage_list)\n",
    "plt.ylabel(\"Mean usage [%]\")\n",
    "plt.title(\"Mean usage percentage per host\")"
   ]
  },
  {
   "cell_type": "code",
   "execution_count": 0,
   "metadata": {
    "collapsed": false
   },
   "outputs": [
   ],
   "source": [
   ]
  }
 ],
 "metadata": {
  "kernelspec": {
   "argv": [
    "/usr/bin/python3",
    "-m",
    "ipykernel",
    "--HistoryManager.enabled=False",
    "--matplotlib=inline",
    "-c",
    "%config InlineBackend.figure_formats = set(['retina'])\nimport matplotlib; matplotlib.rcParams['figure.figsize'] = (12, 7)",
    "-f",
    "{connection_file}"
   ],
   "display_name": "Python 3 (system-wide)",
   "env": {
   },
   "language": "python",
   "metadata": {
    "cocalc": {
     "description": "Python 3 programming language",
     "priority": 100,
     "url": "https://www.python.org/"
    }
   },
   "name": "python3",
   "resource_dir": "/ext/jupyter/kernels/python3"
  },
  "language_info": {
   "codemirror_mode": {
    "name": "ipython",
    "version": 3
   },
   "file_extension": ".py",
   "mimetype": "text/x-python",
   "name": "python",
   "nbconvert_exporter": "python",
   "pygments_lexer": "ipython3",
   "version": "3.10.12"
  }
 },
 "nbformat": 4,
 "nbformat_minor": 4
}