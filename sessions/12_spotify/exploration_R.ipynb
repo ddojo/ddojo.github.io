{
 "cells": [
  {
   "cell_type": "markdown",
   "metadata": {
    "collapsed": false
   },
   "source": [
    "# Spotify listening history"
   ]
  },
  {
   "cell_type": "code",
   "execution_count": 1,
   "metadata": {
    "collapsed": false
   },
   "outputs": [
    {
     "data": {
      "text/html": [
       "<style>\n",
       ".list-inline {list-style: none; margin:0; padding: 0}\n",
       ".list-inline>li {display: inline-block}\n",
       ".list-inline>li:not(:last-child)::after {content: \"\\00b7\"; padding: 0 .5ex}\n",
       "</style>\n",
       "<ol class=list-inline><li>'Andreas'</li><li>'Robin'</li><li>'Markus'</li></ol>\n"
      ],
      "text/latex": [
       "\\begin{enumerate*}\n",
       "\\item 'Andreas'\n",
       "\\item 'Robin'\n",
       "\\item 'Markus'\n",
       "\\end{enumerate*}\n"
      ],
      "text/markdown": [
       "1. 'Andreas'\n",
       "2. 'Robin'\n",
       "3. 'Markus'\n",
       "\n",
       "\n"
      ],
      "text/plain": [
       "[1] \"Andreas\" \"Robin\"   \"Markus\" "
      ]
     },
     "execution_count": 1,
     "metadata": {
     },
     "output_type": "execute_result"
    }
   ],
   "source": [
    "sample(c(\"Andreas\",\"Robin\",\"Markus\"))"
   ]
  },
  {
   "cell_type": "code",
   "execution_count": 2,
   "metadata": {
    "collapsed": false,
    "scrolled": true
   },
   "outputs": [
    {
     "name": "stderr",
     "output_type": "stream",
     "text": [
      "Warning message in system(\"timedatectl\", intern = TRUE):\n",
      "“running command 'timedatectl' had status 1”\n"
     ]
    },
    {
     "name": "stderr",
     "output_type": "stream",
     "text": [
      "── \u001b[1mAttaching packages\u001b[22m ─────────────────────────────────────── tidyverse 1.3.1 ──\n",
      "\n"
     ]
    },
    {
     "name": "stderr",
     "output_type": "stream",
     "text": [
      "\u001b[32m✔\u001b[39m \u001b[34mggplot2\u001b[39m 3.3.6     \u001b[32m✔\u001b[39m \u001b[34mpurrr  \u001b[39m 0.3.4\n",
      "\u001b[32m✔\u001b[39m \u001b[34mtibble \u001b[39m 3.1.7     \u001b[32m✔\u001b[39m \u001b[34mdplyr  \u001b[39m 1.0.9\n",
      "\u001b[32m✔\u001b[39m \u001b[34mtidyr  \u001b[39m 1.2.0     \u001b[32m✔\u001b[39m \u001b[34mstringr\u001b[39m 1.4.0\n",
      "\u001b[32m✔\u001b[39m \u001b[34mreadr  \u001b[39m 2.1.2     \u001b[32m✔\u001b[39m \u001b[34mforcats\u001b[39m 0.5.1\n",
      "\n"
     ]
    },
    {
     "name": "stderr",
     "output_type": "stream",
     "text": [
      "── \u001b[1mConflicts\u001b[22m ────────────────────────────────────────── tidyverse_conflicts() ──\n",
      "\u001b[31m✖\u001b[39m \u001b[34mdplyr\u001b[39m::\u001b[32mfilter()\u001b[39m masks \u001b[34mstats\u001b[39m::filter()\n",
      "\u001b[31m✖\u001b[39m \u001b[34mdplyr\u001b[39m::\u001b[32mlag()\u001b[39m    masks \u001b[34mstats\u001b[39m::lag()\n",
      "\n"
     ]
    }
   ],
   "source": [
    "library(tidyverse)"
   ]
  },
  {
   "cell_type": "markdown",
   "metadata": {
    "collapsed": false
   },
   "source": [
    "## Data loading"
   ]
  },
  {
   "cell_type": "code",
   "execution_count": 3,
   "metadata": {
    "collapsed": false,
    "scrolled": true
   },
   "outputs": [
   ],
   "source": [
    "data <- tibble(js=jsonlite::read_json(\"spotify.json\")) %>% unnest_wider(js)"
   ]
  },
  {
   "cell_type": "code",
   "execution_count": 4,
   "metadata": {
    "collapsed": false,
    "scrolled": true
   },
   "outputs": [
    {
     "name": "stdout",
     "output_type": "stream",
     "text": [
      "Rows: 103,945\n",
      "Columns: 17\n",
      "$ ts                                \u001b[3m\u001b[90m<chr>\u001b[39m\u001b[23m \"2016-12-11T19:08:05Z\", \"2021-04-18T…\n",
      "$ ms_played                         \u001b[3m\u001b[90m<int>\u001b[39m\u001b[23m 117, 87270, 209200, 157026, 172630, …\n",
      "$ conn_country                      \u001b[3m\u001b[90m<chr>\u001b[39m\u001b[23m \"DE\", \"DE\", \"DE\", \"DE\", \"DE\", \"DE\", …\n",
      "$ master_metadata_track_name        \u001b[3m\u001b[90m<chr>\u001b[39m\u001b[23m \"Bless Us All\", \"I Love You (But I H…\n",
      "$ master_metadata_album_artist_name \u001b[3m\u001b[90m<chr>\u001b[39m\u001b[23m \"Tiny Tim\", \"Neon Trees\", \"Moop Mama…\n",
      "$ master_metadata_album_album_name  \u001b[3m\u001b[90m<chr>\u001b[39m\u001b[23m \"The Muppets Christmas Carol\", \"Pop …\n",
      "$ spotify_track_uri                 \u001b[3m\u001b[90m<chr>\u001b[39m\u001b[23m \"spotify:track:7LaoCUikJDSPNMpqGs6Aw…\n",
      "$ episode_name                      \u001b[3m\u001b[90m<chr>\u001b[39m\u001b[23m NA, NA, NA, NA, NA, NA, NA, NA, NA, …\n",
      "$ episode_show_name                 \u001b[3m\u001b[90m<chr>\u001b[39m\u001b[23m NA, NA, NA, NA, NA, NA, NA, NA, NA, …\n",
      "$ spotify_episode_uri               \u001b[3m\u001b[90m<chr>\u001b[39m\u001b[23m NA, NA, NA, NA, NA, NA, NA, NA, NA, …\n",
      "$ reason_start                      \u001b[3m\u001b[90m<chr>\u001b[39m\u001b[23m \"trackdone\", \"fwdbtn\", \"trackdone\", …\n",
      "$ reason_end                        \u001b[3m\u001b[90m<chr>\u001b[39m\u001b[23m \"endplay\", \"fwdbtn\", \"trackdone\", \"t…\n",
      "$ shuffle                           \u001b[3m\u001b[90m<lgl>\u001b[39m\u001b[23m FALSE, TRUE, TRUE, TRUE, FALSE, FALS…\n",
      "$ skipped                           \u001b[3m\u001b[90m<lgl>\u001b[39m\u001b[23m NA, NA, NA, NA, NA, TRUE, NA, NA, NA…\n",
      "$ offline                           \u001b[3m\u001b[90m<lgl>\u001b[39m\u001b[23m FALSE, FALSE, FALSE, FALSE, FALSE, F…\n",
      "$ offline_timestamp                 \u001b[3m\u001b[90m<dbl>\u001b[39m\u001b[23m 0.000000e+00, 1.618759e+12, 1.620394…\n",
      "$ incognito_mode                    \u001b[3m\u001b[90m<lgl>\u001b[39m\u001b[23m FALSE, FALSE, FALSE, FALSE, FALSE, F…\n"
     ]
    }
   ],
   "source": [
    "glimpse(data)"
   ]
  },
  {
   "cell_type": "code",
   "execution_count": 5,
   "metadata": {
    "collapsed": false
   },
   "outputs": [
    {
     "data": {
      "text/html": [
       "<table class=\"dataframe\">\n",
       "<caption>A tibble: 6 × 17</caption>\n",
       "<thead>\n",
       "\t<tr><th scope=col>ts</th><th scope=col>ms_played</th><th scope=col>conn_country</th><th scope=col>master_metadata_track_name</th><th scope=col>master_metadata_album_artist_name</th><th scope=col>master_metadata_album_album_name</th><th scope=col>spotify_track_uri</th><th scope=col>episode_name</th><th scope=col>episode_show_name</th><th scope=col>spotify_episode_uri</th><th scope=col>reason_start</th><th scope=col>reason_end</th><th scope=col>shuffle</th><th scope=col>skipped</th><th scope=col>offline</th><th scope=col>offline_timestamp</th><th scope=col>incognito_mode</th></tr>\n",
       "\t<tr><th scope=col>&lt;chr&gt;</th><th scope=col>&lt;int&gt;</th><th scope=col>&lt;chr&gt;</th><th scope=col>&lt;chr&gt;</th><th scope=col>&lt;chr&gt;</th><th scope=col>&lt;chr&gt;</th><th scope=col>&lt;chr&gt;</th><th scope=col>&lt;chr&gt;</th><th scope=col>&lt;chr&gt;</th><th scope=col>&lt;chr&gt;</th><th scope=col>&lt;chr&gt;</th><th scope=col>&lt;chr&gt;</th><th scope=col>&lt;lgl&gt;</th><th scope=col>&lt;lgl&gt;</th><th scope=col>&lt;lgl&gt;</th><th scope=col>&lt;dbl&gt;</th><th scope=col>&lt;lgl&gt;</th></tr>\n",
       "</thead>\n",
       "<tbody>\n",
       "\t<tr><td>2016-12-11T19:08:05Z</td><td>   117</td><td>DE</td><td>Bless Us All                        </td><td>Tiny Tim         </td><td>The Muppets Christmas Carol                            </td><td>spotify:track:7LaoCUikJDSPNMpqGs6Awr</td><td>NA</td><td>NA</td><td>NA</td><td>trackdone</td><td>endplay  </td><td>FALSE</td><td>  NA</td><td>FALSE</td><td>0.000000e+00</td><td>FALSE</td></tr>\n",
       "\t<tr><td>2021-04-18T15:10:17Z</td><td> 87270</td><td>DE</td><td>I Love You (But I Hate Your Friends)</td><td>Neon Trees       </td><td>Pop Psychology                                         </td><td>spotify:track:3DuTGtayotEsUNokov5ZS4</td><td>NA</td><td>NA</td><td>NA</td><td>fwdbtn   </td><td>fwdbtn   </td><td> TRUE</td><td>  NA</td><td>FALSE</td><td>1.618759e+12</td><td>FALSE</td></tr>\n",
       "\t<tr><td>2021-05-07T13:27:02Z</td><td>209200</td><td>DE</td><td>Liebe                               </td><td>Moop Mama        </td><td>Das Rote Album                                         </td><td>spotify:track:6TWn9w7vcFLMnau9sBkH4z</td><td>NA</td><td>NA</td><td>NA</td><td>trackdone</td><td>trackdone</td><td> TRUE</td><td>  NA</td><td>FALSE</td><td>1.620394e+12</td><td>FALSE</td></tr>\n",
       "\t<tr><td>2017-03-29T19:11:55Z</td><td>157026</td><td>DE</td><td>The Imitation Game                  </td><td>Alexandre Desplat</td><td>The Imitation Game (Original Motion Picture Soundtrack)</td><td>spotify:track:0o9ivTBX7mjTnaUYF4Gk6t</td><td>NA</td><td>NA</td><td>NA</td><td>clickrow </td><td>trackdone</td><td> TRUE</td><td>  NA</td><td>FALSE</td><td>1.490815e+12</td><td>FALSE</td></tr>\n",
       "\t<tr><td>2021-04-28T10:46:24Z</td><td>172630</td><td>DE</td><td>Boys                                </td><td>Lizzo            </td><td>Boys                                                   </td><td>spotify:track:3R9RSIkgkZXrIgmBHGemlV</td><td>NA</td><td>NA</td><td>NA</td><td>trackdone</td><td>trackdone</td><td>FALSE</td><td>  NA</td><td>FALSE</td><td>1.619607e+12</td><td>FALSE</td></tr>\n",
       "\t<tr><td>2015-10-03T19:37:55Z</td><td>260713</td><td>DE</td><td>Madness                             </td><td>Muse             </td><td>The 2nd Law                                            </td><td>spotify:track:0c4IEciLCDdXEhhKxj4ThA</td><td>NA</td><td>NA</td><td>NA</td><td>trackdone</td><td>endplay  </td><td>FALSE</td><td>TRUE</td><td>FALSE</td><td>0.000000e+00</td><td>FALSE</td></tr>\n",
       "</tbody>\n",
       "</table>\n"
      ],
      "text/latex": [
       "A tibble: 6 × 17\n",
       "\\begin{tabular}{lllllllllllllllll}\n",
       " ts & ms\\_played & conn\\_country & master\\_metadata\\_track\\_name & master\\_metadata\\_album\\_artist\\_name & master\\_metadata\\_album\\_album\\_name & spotify\\_track\\_uri & episode\\_name & episode\\_show\\_name & spotify\\_episode\\_uri & reason\\_start & reason\\_end & shuffle & skipped & offline & offline\\_timestamp & incognito\\_mode\\\\\n",
       " <chr> & <int> & <chr> & <chr> & <chr> & <chr> & <chr> & <chr> & <chr> & <chr> & <chr> & <chr> & <lgl> & <lgl> & <lgl> & <dbl> & <lgl>\\\\\n",
       "\\hline\n",
       "\t 2016-12-11T19:08:05Z &    117 & DE & Bless Us All                         & Tiny Tim          & The Muppets Christmas Carol                             & spotify:track:7LaoCUikJDSPNMpqGs6Awr & NA & NA & NA & trackdone & endplay   & FALSE &   NA & FALSE & 0.000000e+00 & FALSE\\\\\n",
       "\t 2021-04-18T15:10:17Z &  87270 & DE & I Love You (But I Hate Your Friends) & Neon Trees        & Pop Psychology                                          & spotify:track:3DuTGtayotEsUNokov5ZS4 & NA & NA & NA & fwdbtn    & fwdbtn    &  TRUE &   NA & FALSE & 1.618759e+12 & FALSE\\\\\n",
       "\t 2021-05-07T13:27:02Z & 209200 & DE & Liebe                                & Moop Mama         & Das Rote Album                                          & spotify:track:6TWn9w7vcFLMnau9sBkH4z & NA & NA & NA & trackdone & trackdone &  TRUE &   NA & FALSE & 1.620394e+12 & FALSE\\\\\n",
       "\t 2017-03-29T19:11:55Z & 157026 & DE & The Imitation Game                   & Alexandre Desplat & The Imitation Game (Original Motion Picture Soundtrack) & spotify:track:0o9ivTBX7mjTnaUYF4Gk6t & NA & NA & NA & clickrow  & trackdone &  TRUE &   NA & FALSE & 1.490815e+12 & FALSE\\\\\n",
       "\t 2021-04-28T10:46:24Z & 172630 & DE & Boys                                 & Lizzo             & Boys                                                    & spotify:track:3R9RSIkgkZXrIgmBHGemlV & NA & NA & NA & trackdone & trackdone & FALSE &   NA & FALSE & 1.619607e+12 & FALSE\\\\\n",
       "\t 2015-10-03T19:37:55Z & 260713 & DE & Madness                              & Muse              & The 2nd Law                                             & spotify:track:0c4IEciLCDdXEhhKxj4ThA & NA & NA & NA & trackdone & endplay   & FALSE & TRUE & FALSE & 0.000000e+00 & FALSE\\\\\n",
       "\\end{tabular}\n"
      ],
      "text/markdown": [
       "\n",
       "A tibble: 6 × 17\n",
       "\n",
       "| ts &lt;chr&gt; | ms_played &lt;int&gt; | conn_country &lt;chr&gt; | master_metadata_track_name &lt;chr&gt; | master_metadata_album_artist_name &lt;chr&gt; | master_metadata_album_album_name &lt;chr&gt; | spotify_track_uri &lt;chr&gt; | episode_name &lt;chr&gt; | episode_show_name &lt;chr&gt; | spotify_episode_uri &lt;chr&gt; | reason_start &lt;chr&gt; | reason_end &lt;chr&gt; | shuffle &lt;lgl&gt; | skipped &lt;lgl&gt; | offline &lt;lgl&gt; | offline_timestamp &lt;dbl&gt; | incognito_mode &lt;lgl&gt; |\n",
       "|---|---|---|---|---|---|---|---|---|---|---|---|---|---|---|---|---|\n",
       "| 2016-12-11T19:08:05Z |    117 | DE | Bless Us All                         | Tiny Tim          | The Muppets Christmas Carol                             | spotify:track:7LaoCUikJDSPNMpqGs6Awr | NA | NA | NA | trackdone | endplay   | FALSE |   NA | FALSE | 0.000000e+00 | FALSE |\n",
       "| 2021-04-18T15:10:17Z |  87270 | DE | I Love You (But I Hate Your Friends) | Neon Trees        | Pop Psychology                                          | spotify:track:3DuTGtayotEsUNokov5ZS4 | NA | NA | NA | fwdbtn    | fwdbtn    |  TRUE |   NA | FALSE | 1.618759e+12 | FALSE |\n",
       "| 2021-05-07T13:27:02Z | 209200 | DE | Liebe                                | Moop Mama         | Das Rote Album                                          | spotify:track:6TWn9w7vcFLMnau9sBkH4z | NA | NA | NA | trackdone | trackdone |  TRUE |   NA | FALSE | 1.620394e+12 | FALSE |\n",
       "| 2017-03-29T19:11:55Z | 157026 | DE | The Imitation Game                   | Alexandre Desplat | The Imitation Game (Original Motion Picture Soundtrack) | spotify:track:0o9ivTBX7mjTnaUYF4Gk6t | NA | NA | NA | clickrow  | trackdone |  TRUE |   NA | FALSE | 1.490815e+12 | FALSE |\n",
       "| 2021-04-28T10:46:24Z | 172630 | DE | Boys                                 | Lizzo             | Boys                                                    | spotify:track:3R9RSIkgkZXrIgmBHGemlV | NA | NA | NA | trackdone | trackdone | FALSE |   NA | FALSE | 1.619607e+12 | FALSE |\n",
       "| 2015-10-03T19:37:55Z | 260713 | DE | Madness                              | Muse              | The 2nd Law                                             | spotify:track:0c4IEciLCDdXEhhKxj4ThA | NA | NA | NA | trackdone | endplay   | FALSE | TRUE | FALSE | 0.000000e+00 | FALSE |\n",
       "\n"
      ],
      "text/plain": [
       "  ts                   ms_played conn_country\n",
       "1 2016-12-11T19:08:05Z    117    DE          \n",
       "2 2021-04-18T15:10:17Z  87270    DE          \n",
       "3 2021-05-07T13:27:02Z 209200    DE          \n",
       "4 2017-03-29T19:11:55Z 157026    DE          \n",
       "5 2021-04-28T10:46:24Z 172630    DE          \n",
       "6 2015-10-03T19:37:55Z 260713    DE          \n",
       "  master_metadata_track_name           master_metadata_album_artist_name\n",
       "1 Bless Us All                         Tiny Tim                         \n",
       "2 I Love You (But I Hate Your Friends) Neon Trees                       \n",
       "3 Liebe                                Moop Mama                        \n",
       "4 The Imitation Game                   Alexandre Desplat                \n",
       "5 Boys                                 Lizzo                            \n",
       "6 Madness                              Muse                             \n",
       "  master_metadata_album_album_name                       \n",
       "1 The Muppets Christmas Carol                            \n",
       "2 Pop Psychology                                         \n",
       "3 Das Rote Album                                         \n",
       "4 The Imitation Game (Original Motion Picture Soundtrack)\n",
       "5 Boys                                                   \n",
       "6 The 2nd Law                                            \n",
       "  spotify_track_uri                    episode_name episode_show_name\n",
       "1 spotify:track:7LaoCUikJDSPNMpqGs6Awr NA           NA               \n",
       "2 spotify:track:3DuTGtayotEsUNokov5ZS4 NA           NA               \n",
       "3 spotify:track:6TWn9w7vcFLMnau9sBkH4z NA           NA               \n",
       "4 spotify:track:0o9ivTBX7mjTnaUYF4Gk6t NA           NA               \n",
       "5 spotify:track:3R9RSIkgkZXrIgmBHGemlV NA           NA               \n",
       "6 spotify:track:0c4IEciLCDdXEhhKxj4ThA NA           NA               \n",
       "  spotify_episode_uri reason_start reason_end shuffle skipped offline\n",
       "1 NA                  trackdone    endplay    FALSE     NA    FALSE  \n",
       "2 NA                  fwdbtn       fwdbtn      TRUE     NA    FALSE  \n",
       "3 NA                  trackdone    trackdone   TRUE     NA    FALSE  \n",
       "4 NA                  clickrow     trackdone   TRUE     NA    FALSE  \n",
       "5 NA                  trackdone    trackdone  FALSE     NA    FALSE  \n",
       "6 NA                  trackdone    endplay    FALSE   TRUE    FALSE  \n",
       "  offline_timestamp incognito_mode\n",
       "1 0.000000e+00      FALSE         \n",
       "2 1.618759e+12      FALSE         \n",
       "3 1.620394e+12      FALSE         \n",
       "4 1.490815e+12      FALSE         \n",
       "5 1.619607e+12      FALSE         \n",
       "6 0.000000e+00      FALSE         "
      ]
     },
     "execution_count": 5,
     "metadata": {
     },
     "output_type": "execute_result"
    }
   ],
   "source": [
    "head(data)"
   ]
  },
  {
   "cell_type": "markdown",
   "metadata": {
    "collapsed": false
   },
   "source": [
    "## Favorite Music"
   ]
  },
  {
   "cell_type": "markdown",
   "metadata": {
    "collapsed": false
   },
   "source": [
    "### Get the overall top song"
   ]
  },
  {
   "cell_type": "code",
   "execution_count": 6,
   "metadata": {
    "collapsed": false
   },
   "outputs": [
    {
     "data": {
      "text/html": [
       "<table class=\"dataframe\">\n",
       "<caption>A tibble: 6 × 2</caption>\n",
       "<thead>\n",
       "\t<tr><th scope=col>master_metadata_track_name</th><th scope=col>n</th></tr>\n",
       "\t<tr><th scope=col>&lt;chr&gt;</th><th scope=col>&lt;int&gt;</th></tr>\n",
       "</thead>\n",
       "<tbody>\n",
       "\t<tr><td>NA                                        </td><td>2540</td></tr>\n",
       "\t<tr><td>Bitch                                     </td><td> 244</td></tr>\n",
       "\t<tr><td>Boys                                      </td><td> 156</td></tr>\n",
       "\t<tr><td>Sunrise Mass: The Spheres, \"Kyrie eleison\"</td><td> 147</td></tr>\n",
       "\t<tr><td>Herz an Herz                              </td><td> 145</td></tr>\n",
       "\t<tr><td>Tota pulchra es                           </td><td> 141</td></tr>\n",
       "</tbody>\n",
       "</table>\n"
      ],
      "text/latex": [
       "A tibble: 6 × 2\n",
       "\\begin{tabular}{ll}\n",
       " master\\_metadata\\_track\\_name & n\\\\\n",
       " <chr> & <int>\\\\\n",
       "\\hline\n",
       "\t NA                                         & 2540\\\\\n",
       "\t Bitch                                      &  244\\\\\n",
       "\t Boys                                       &  156\\\\\n",
       "\t Sunrise Mass: The Spheres, \"Kyrie eleison\" &  147\\\\\n",
       "\t Herz an Herz                               &  145\\\\\n",
       "\t Tota pulchra es                            &  141\\\\\n",
       "\\end{tabular}\n"
      ],
      "text/markdown": [
       "\n",
       "A tibble: 6 × 2\n",
       "\n",
       "| master_metadata_track_name &lt;chr&gt; | n &lt;int&gt; |\n",
       "|---|---|\n",
       "| NA                                         | 2540 |\n",
       "| Bitch                                      |  244 |\n",
       "| Boys                                       |  156 |\n",
       "| Sunrise Mass: The Spheres, \"Kyrie eleison\" |  147 |\n",
       "| Herz an Herz                               |  145 |\n",
       "| Tota pulchra es                            |  141 |\n",
       "\n"
      ],
      "text/plain": [
       "  master_metadata_track_name                 n   \n",
       "1 NA                                         2540\n",
       "2 Bitch                                       244\n",
       "3 Boys                                        156\n",
       "4 Sunrise Mass: The Spheres, \"Kyrie eleison\"  147\n",
       "5 Herz an Herz                                145\n",
       "6 Tota pulchra es                             141"
      ]
     },
     "execution_count": 6,
     "metadata": {
     },
     "output_type": "execute_result"
    }
   ],
   "source": [
    "data %>% count(master_metadata_track_name) %>% arrange(desc(n)) %>% head"
   ]
  },
  {
   "cell_type": "code",
   "execution_count": 7,
   "metadata": {
    "collapsed": false
   },
   "outputs": [
    {
     "data": {
      "text/html": [
       "<table class=\"dataframe\">\n",
       "<caption>A tibble: 10 × 3</caption>\n",
       "<thead>\n",
       "\t<tr><th scope=col>master_metadata_track_name</th><th scope=col>master_metadata_album_artist_name</th><th scope=col>n</th></tr>\n",
       "\t<tr><th scope=col>&lt;chr&gt;</th><th scope=col>&lt;chr&gt;</th><th scope=col>&lt;int&gt;</th></tr>\n",
       "</thead>\n",
       "<tbody>\n",
       "\t<tr><td>Bitch                                     </td><td>Von Wegen Lisbeth</td><td>177</td></tr>\n",
       "\t<tr><td>Sunrise Mass: The Spheres, \"Kyrie eleison\"</td><td>Ola Gjeilo       </td><td>147</td></tr>\n",
       "\t<tr><td>Tota pulchra es                           </td><td>Ola Gjeilo       </td><td>141</td></tr>\n",
       "\t<tr><td>Lay All Your Love On Me                   </td><td>ABBA             </td><td>139</td></tr>\n",
       "\t<tr><td>Karambolage                               </td><td>Panda Lux        </td><td>135</td></tr>\n",
       "\t<tr><td>Herz an Herz                              </td><td>Blümchen         </td><td>132</td></tr>\n",
       "\t<tr><td>Immaterial                                </td><td>SOPHIE           </td><td>130</td></tr>\n",
       "\t<tr><td>Denkmal                                   </td><td>Wir Sind Helden  </td><td>122</td></tr>\n",
       "\t<tr><td>Nur ein Wort                              </td><td>Wir Sind Helden  </td><td>120</td></tr>\n",
       "\t<tr><td>Running Up That Hill (A Deal With God)    </td><td>Kate Bush        </td><td>115</td></tr>\n",
       "</tbody>\n",
       "</table>\n"
      ],
      "text/latex": [
       "A tibble: 10 × 3\n",
       "\\begin{tabular}{lll}\n",
       " master\\_metadata\\_track\\_name & master\\_metadata\\_album\\_artist\\_name & n\\\\\n",
       " <chr> & <chr> & <int>\\\\\n",
       "\\hline\n",
       "\t Bitch                                      & Von Wegen Lisbeth & 177\\\\\n",
       "\t Sunrise Mass: The Spheres, \"Kyrie eleison\" & Ola Gjeilo        & 147\\\\\n",
       "\t Tota pulchra es                            & Ola Gjeilo        & 141\\\\\n",
       "\t Lay All Your Love On Me                    & ABBA              & 139\\\\\n",
       "\t Karambolage                                & Panda Lux         & 135\\\\\n",
       "\t Herz an Herz                               & Blümchen          & 132\\\\\n",
       "\t Immaterial                                 & SOPHIE            & 130\\\\\n",
       "\t Denkmal                                    & Wir Sind Helden   & 122\\\\\n",
       "\t Nur ein Wort                               & Wir Sind Helden   & 120\\\\\n",
       "\t Running Up That Hill (A Deal With God)     & Kate Bush         & 115\\\\\n",
       "\\end{tabular}\n"
      ],
      "text/markdown": [
       "\n",
       "A tibble: 10 × 3\n",
       "\n",
       "| master_metadata_track_name &lt;chr&gt; | master_metadata_album_artist_name &lt;chr&gt; | n &lt;int&gt; |\n",
       "|---|---|---|\n",
       "| Bitch                                      | Von Wegen Lisbeth | 177 |\n",
       "| Sunrise Mass: The Spheres, \"Kyrie eleison\" | Ola Gjeilo        | 147 |\n",
       "| Tota pulchra es                            | Ola Gjeilo        | 141 |\n",
       "| Lay All Your Love On Me                    | ABBA              | 139 |\n",
       "| Karambolage                                | Panda Lux         | 135 |\n",
       "| Herz an Herz                               | Blümchen          | 132 |\n",
       "| Immaterial                                 | SOPHIE            | 130 |\n",
       "| Denkmal                                    | Wir Sind Helden   | 122 |\n",
       "| Nur ein Wort                               | Wir Sind Helden   | 120 |\n",
       "| Running Up That Hill (A Deal With God)     | Kate Bush         | 115 |\n",
       "\n"
      ],
      "text/plain": [
       "   master_metadata_track_name                 master_metadata_album_artist_name\n",
       "1  Bitch                                      Von Wegen Lisbeth                \n",
       "2  Sunrise Mass: The Spheres, \"Kyrie eleison\" Ola Gjeilo                       \n",
       "3  Tota pulchra es                            Ola Gjeilo                       \n",
       "4  Lay All Your Love On Me                    ABBA                             \n",
       "5  Karambolage                                Panda Lux                        \n",
       "6  Herz an Herz                               Blümchen                         \n",
       "7  Immaterial                                 SOPHIE                           \n",
       "8  Denkmal                                    Wir Sind Helden                  \n",
       "9  Nur ein Wort                               Wir Sind Helden                  \n",
       "10 Running Up That Hill (A Deal With God)     Kate Bush                        \n",
       "   n  \n",
       "1  177\n",
       "2  147\n",
       "3  141\n",
       "4  139\n",
       "5  135\n",
       "6  132\n",
       "7  130\n",
       "8  122\n",
       "9  120\n",
       "10 115"
      ]
     },
     "execution_count": 7,
     "metadata": {
     },
     "output_type": "execute_result"
    }
   ],
   "source": [
    "data %>% filter(!is.na(master_metadata_track_name)) %>% count(master_metadata_track_name, master_metadata_album_artist_name) %>% arrange(desc(n)) %>% head(10)"
   ]
  },
  {
   "cell_type": "markdown",
   "metadata": {
    "collapsed": false
   },
   "source": [
    "#### Exclude songs that didn't play for more than 30 seconds"
   ]
  },
  {
   "cell_type": "code",
   "execution_count": 8,
   "metadata": {
    "collapsed": false
   },
   "outputs": [
    {
     "data": {
      "text/html": [
       "<table class=\"dataframe\">\n",
       "<caption>A tibble: 10 × 3</caption>\n",
       "<thead>\n",
       "\t<tr><th scope=col>master_metadata_track_name</th><th scope=col>master_metadata_album_artist_name</th><th scope=col>n</th></tr>\n",
       "\t<tr><th scope=col>&lt;chr&gt;</th><th scope=col>&lt;chr&gt;</th><th scope=col>&lt;int&gt;</th></tr>\n",
       "</thead>\n",
       "<tbody>\n",
       "\t<tr><td>Bitch                                 </td><td>Von Wegen Lisbeth</td><td>126</td></tr>\n",
       "\t<tr><td>Karambolage                           </td><td>Panda Lux        </td><td>117</td></tr>\n",
       "\t<tr><td>Immaterial                            </td><td>SOPHIE           </td><td>103</td></tr>\n",
       "\t<tr><td>Herz an Herz                          </td><td>Blümchen         </td><td>102</td></tr>\n",
       "\t<tr><td>Denkmal                               </td><td>Wir Sind Helden  </td><td> 99</td></tr>\n",
       "\t<tr><td>Lay All Your Love On Me               </td><td>ABBA             </td><td> 97</td></tr>\n",
       "\t<tr><td>Wieso                                 </td><td>Von Wegen Lisbeth</td><td> 97</td></tr>\n",
       "\t<tr><td>Nur ein Wort                          </td><td>Wir Sind Helden  </td><td> 93</td></tr>\n",
       "\t<tr><td>deine cousine                         </td><td>MELE             </td><td> 92</td></tr>\n",
       "\t<tr><td>Running Up That Hill (A Deal With God)</td><td>Kate Bush        </td><td> 92</td></tr>\n",
       "</tbody>\n",
       "</table>\n"
      ],
      "text/latex": [
       "A tibble: 10 × 3\n",
       "\\begin{tabular}{lll}\n",
       " master\\_metadata\\_track\\_name & master\\_metadata\\_album\\_artist\\_name & n\\\\\n",
       " <chr> & <chr> & <int>\\\\\n",
       "\\hline\n",
       "\t Bitch                                  & Von Wegen Lisbeth & 126\\\\\n",
       "\t Karambolage                            & Panda Lux         & 117\\\\\n",
       "\t Immaterial                             & SOPHIE            & 103\\\\\n",
       "\t Herz an Herz                           & Blümchen          & 102\\\\\n",
       "\t Denkmal                                & Wir Sind Helden   &  99\\\\\n",
       "\t Lay All Your Love On Me                & ABBA              &  97\\\\\n",
       "\t Wieso                                  & Von Wegen Lisbeth &  97\\\\\n",
       "\t Nur ein Wort                           & Wir Sind Helden   &  93\\\\\n",
       "\t deine cousine                          & MELE              &  92\\\\\n",
       "\t Running Up That Hill (A Deal With God) & Kate Bush         &  92\\\\\n",
       "\\end{tabular}\n"
      ],
      "text/markdown": [
       "\n",
       "A tibble: 10 × 3\n",
       "\n",
       "| master_metadata_track_name &lt;chr&gt; | master_metadata_album_artist_name &lt;chr&gt; | n &lt;int&gt; |\n",
       "|---|---|---|\n",
       "| Bitch                                  | Von Wegen Lisbeth | 126 |\n",
       "| Karambolage                            | Panda Lux         | 117 |\n",
       "| Immaterial                             | SOPHIE            | 103 |\n",
       "| Herz an Herz                           | Blümchen          | 102 |\n",
       "| Denkmal                                | Wir Sind Helden   |  99 |\n",
       "| Lay All Your Love On Me                | ABBA              |  97 |\n",
       "| Wieso                                  | Von Wegen Lisbeth |  97 |\n",
       "| Nur ein Wort                           | Wir Sind Helden   |  93 |\n",
       "| deine cousine                          | MELE              |  92 |\n",
       "| Running Up That Hill (A Deal With God) | Kate Bush         |  92 |\n",
       "\n"
      ],
      "text/plain": [
       "   master_metadata_track_name             master_metadata_album_artist_name n  \n",
       "1  Bitch                                  Von Wegen Lisbeth                 126\n",
       "2  Karambolage                            Panda Lux                         117\n",
       "3  Immaterial                             SOPHIE                            103\n",
       "4  Herz an Herz                           Blümchen                          102\n",
       "5  Denkmal                                Wir Sind Helden                    99\n",
       "6  Lay All Your Love On Me                ABBA                               97\n",
       "7  Wieso                                  Von Wegen Lisbeth                  97\n",
       "8  Nur ein Wort                           Wir Sind Helden                    93\n",
       "9  deine cousine                          MELE                               92\n",
       "10 Running Up That Hill (A Deal With God) Kate Bush                          92"
      ]
     },
     "execution_count": 8,
     "metadata": {
     },
     "output_type": "execute_result"
    }
   ],
   "source": [
    "data %>% filter(!is.na(master_metadata_track_name), ms_played > 30000) %>% count(master_metadata_track_name, master_metadata_album_artist_name) %>% arrange(desc(n)) %>% head(10)"
   ]
  },
  {
   "cell_type": "markdown",
   "metadata": {
    "collapsed": false
   },
   "source": [
    "#### Most skipped songs: listened to for less than 10 seconds"
   ]
  },
  {
   "cell_type": "code",
   "execution_count": 9,
   "metadata": {
    "collapsed": false
   },
   "outputs": [
    {
     "data": {
      "text/html": [
       "<table class=\"dataframe\">\n",
       "<caption>A tibble: 10 × 3</caption>\n",
       "<thead>\n",
       "\t<tr><th scope=col>master_metadata_track_name</th><th scope=col>master_metadata_album_artist_name</th><th scope=col>n</th></tr>\n",
       "\t<tr><th scope=col>&lt;chr&gt;</th><th scope=col>&lt;chr&gt;</th><th scope=col>&lt;int&gt;</th></tr>\n",
       "</thead>\n",
       "<tbody>\n",
       "\t<tr><td>Sunrise Mass: The Spheres, \"Kyrie eleison\" </td><td>Ola Gjeilo       </td><td>139</td></tr>\n",
       "\t<tr><td>Tota pulchra es                            </td><td>Ola Gjeilo       </td><td>138</td></tr>\n",
       "\t<tr><td>It's Beginning to Look a Lot like Christmas</td><td>Michael Bublé    </td><td> 52</td></tr>\n",
       "\t<tr><td>恋は永遠                                   </td><td>GING NANG BOYZ   </td><td> 43</td></tr>\n",
       "\t<tr><td>Hammer Horror                              </td><td>Kate Bush        </td><td> 42</td></tr>\n",
       "\t<tr><td>Bitch                                      </td><td>Von Wegen Lisbeth</td><td> 38</td></tr>\n",
       "\t<tr><td>Cake By The Ocean                          </td><td>DNCE             </td><td> 37</td></tr>\n",
       "\t<tr><td>Green Light                                </td><td>Lorde            </td><td> 37</td></tr>\n",
       "\t<tr><td>Lay All Your Love On Me                    </td><td>ABBA             </td><td> 36</td></tr>\n",
       "\t<tr><td>Du bist schön                              </td><td>Alligatoah       </td><td> 35</td></tr>\n",
       "</tbody>\n",
       "</table>\n"
      ],
      "text/latex": [
       "A tibble: 10 × 3\n",
       "\\begin{tabular}{lll}\n",
       " master\\_metadata\\_track\\_name & master\\_metadata\\_album\\_artist\\_name & n\\\\\n",
       " <chr> & <chr> & <int>\\\\\n",
       "\\hline\n",
       "\t Sunrise Mass: The Spheres, \"Kyrie eleison\"  & Ola Gjeilo        & 139\\\\\n",
       "\t Tota pulchra es                             & Ola Gjeilo        & 138\\\\\n",
       "\t It's Beginning to Look a Lot like Christmas & Michael Bublé     &  52\\\\\n",
       "\t 恋は永遠                                    & GING NANG BOYZ    &  43\\\\\n",
       "\t Hammer Horror                               & Kate Bush         &  42\\\\\n",
       "\t Bitch                                       & Von Wegen Lisbeth &  38\\\\\n",
       "\t Cake By The Ocean                           & DNCE              &  37\\\\\n",
       "\t Green Light                                 & Lorde             &  37\\\\\n",
       "\t Lay All Your Love On Me                     & ABBA              &  36\\\\\n",
       "\t Du bist schön                               & Alligatoah        &  35\\\\\n",
       "\\end{tabular}\n"
      ],
      "text/markdown": [
       "\n",
       "A tibble: 10 × 3\n",
       "\n",
       "| master_metadata_track_name &lt;chr&gt; | master_metadata_album_artist_name &lt;chr&gt; | n &lt;int&gt; |\n",
       "|---|---|---|\n",
       "| Sunrise Mass: The Spheres, \"Kyrie eleison\"  | Ola Gjeilo        | 139 |\n",
       "| Tota pulchra es                             | Ola Gjeilo        | 138 |\n",
       "| It's Beginning to Look a Lot like Christmas | Michael Bublé     |  52 |\n",
       "| 恋は永遠                                    | GING NANG BOYZ    |  43 |\n",
       "| Hammer Horror                               | Kate Bush         |  42 |\n",
       "| Bitch                                       | Von Wegen Lisbeth |  38 |\n",
       "| Cake By The Ocean                           | DNCE              |  37 |\n",
       "| Green Light                                 | Lorde             |  37 |\n",
       "| Lay All Your Love On Me                     | ABBA              |  36 |\n",
       "| Du bist schön                               | Alligatoah        |  35 |\n",
       "\n"
      ],
      "text/plain": [
       "   master_metadata_track_name                 \n",
       "1  Sunrise Mass: The Spheres, \"Kyrie eleison\" \n",
       "2  Tota pulchra es                            \n",
       "3  It's Beginning to Look a Lot like Christmas\n",
       "4  恋は永遠                                   \n",
       "5  Hammer Horror                              \n",
       "6  Bitch                                      \n",
       "7  Cake By The Ocean                          \n",
       "8  Green Light                                \n",
       "9  Lay All Your Love On Me                    \n",
       "10 Du bist schön                              \n",
       "   master_metadata_album_artist_name n  \n",
       "1  Ola Gjeilo                        139\n",
       "2  Ola Gjeilo                        138\n",
       "3  Michael Bublé                      52\n",
       "4  GING NANG BOYZ                     43\n",
       "5  Kate Bush                          42\n",
       "6  Von Wegen Lisbeth                  38\n",
       "7  DNCE                               37\n",
       "8  Lorde                              37\n",
       "9  ABBA                               36\n",
       "10 Alligatoah                         35"
      ]
     },
     "execution_count": 9,
     "metadata": {
     },
     "output_type": "execute_result"
    }
   ],
   "source": [
    "data %>% filter(!is.na(master_metadata_track_name), ms_played < 10000) %>% count(master_metadata_track_name, master_metadata_album_artist_name) %>% arrange(desc(n)) %>% head(10)"
   ]
  },
  {
   "cell_type": "code",
   "execution_count": 10,
   "metadata": {
    "collapsed": false
   },
   "outputs": [
    {
     "name": "stderr",
     "output_type": "stream",
     "text": [
      "\u001b[1m\u001b[22m`summarise()` has grouped output by 'master_metadata_track_name'. You can\n",
      "override using the `.groups` argument.\n"
     ]
    },
    {
     "data": {
      "text/html": [
       "<table class=\"dataframe\">\n",
       "<caption>A grouped_df: 10 × 4</caption>\n",
       "<thead>\n",
       "\t<tr><th scope=col>master_metadata_track_name</th><th scope=col>master_metadata_album_artist_name</th><th scope=col>n</th><th scope=col>mean_playtime</th></tr>\n",
       "\t<tr><th scope=col>&lt;chr&gt;</th><th scope=col>&lt;chr&gt;</th><th scope=col>&lt;int&gt;</th><th scope=col>&lt;dbl&gt;</th></tr>\n",
       "</thead>\n",
       "<tbody>\n",
       "\t<tr><td>恋は永遠                                                                                                                                                          </td><td>GING NANG BOYZ              </td><td>43</td><td>1.232558</td></tr>\n",
       "\t<tr><td>Excavation                                                                                                                                                        </td><td>Sjellos                     </td><td> 1</td><td>2.000000</td></tr>\n",
       "\t<tr><td>LA PA PARADISE                                                                                                                                                    </td><td>BRADIO                      </td><td>10</td><td>3.000000</td></tr>\n",
       "\t<tr><td>Storm on Boat (Insomnia Treatment)                                                                                                                                </td><td>Natural Sounds Music Academy</td><td> 1</td><td>3.000000</td></tr>\n",
       "\t<tr><td>Symphony No. 8 in E flat - \"Symphony of a Thousand\" / Part Two: Final scene from Goethe's \"Faust\": \"Bei der Liebe\" - \"Bei dem Bronn\" - Bei dem hochgeweihten Orte\"</td><td>Gustav Mahler               </td><td> 1</td><td>3.000000</td></tr>\n",
       "\t<tr><td>Let Me Go                                                                                                                                                         </td><td>Sunrise Avenue              </td><td>10</td><td>4.200000</td></tr>\n",
       "\t<tr><td>Hellwalker                                                                                                                                                        </td><td>Mick Gordon                 </td><td> 1</td><td>5.000000</td></tr>\n",
       "\t<tr><td>Cloud Atlas End Title                                                                                                                                             </td><td>Tom Tykwer                  </td><td> 1</td><td>8.000000</td></tr>\n",
       "\t<tr><td>Ole Ole                                                                                                                                                           </td><td>Yizhar Kohen                </td><td> 1</td><td>8.000000</td></tr>\n",
       "\t<tr><td>Stift Heiligenkreuz Bells - Reprise                                                                                                                               </td><td>Traditional                 </td><td> 1</td><td>8.000000</td></tr>\n",
       "</tbody>\n",
       "</table>\n"
      ],
      "text/latex": [
       "A grouped\\_df: 10 × 4\n",
       "\\begin{tabular}{llll}\n",
       " master\\_metadata\\_track\\_name & master\\_metadata\\_album\\_artist\\_name & n & mean\\_playtime\\\\\n",
       " <chr> & <chr> & <int> & <dbl>\\\\\n",
       "\\hline\n",
       "\t 恋は永遠                                                                                                                                                           & GING NANG BOYZ               & 43 & 1.232558\\\\\n",
       "\t Excavation                                                                                                                                                         & Sjellos                      &  1 & 2.000000\\\\\n",
       "\t LA PA PARADISE                                                                                                                                                     & BRADIO                       & 10 & 3.000000\\\\\n",
       "\t Storm on Boat (Insomnia Treatment)                                                                                                                                 & Natural Sounds Music Academy &  1 & 3.000000\\\\\n",
       "\t Symphony No. 8 in E flat - \"Symphony of a Thousand\" / Part Two: Final scene from Goethe's \"Faust\": \"Bei der Liebe\" - \"Bei dem Bronn\" - Bei dem hochgeweihten Orte\" & Gustav Mahler                &  1 & 3.000000\\\\\n",
       "\t Let Me Go                                                                                                                                                          & Sunrise Avenue               & 10 & 4.200000\\\\\n",
       "\t Hellwalker                                                                                                                                                         & Mick Gordon                  &  1 & 5.000000\\\\\n",
       "\t Cloud Atlas End Title                                                                                                                                              & Tom Tykwer                   &  1 & 8.000000\\\\\n",
       "\t Ole Ole                                                                                                                                                            & Yizhar Kohen                 &  1 & 8.000000\\\\\n",
       "\t Stift Heiligenkreuz Bells - Reprise                                                                                                                                & Traditional                  &  1 & 8.000000\\\\\n",
       "\\end{tabular}\n"
      ],
      "text/markdown": [
       "\n",
       "A grouped_df: 10 × 4\n",
       "\n",
       "| master_metadata_track_name &lt;chr&gt; | master_metadata_album_artist_name &lt;chr&gt; | n &lt;int&gt; | mean_playtime &lt;dbl&gt; |\n",
       "|---|---|---|---|\n",
       "| 恋は永遠                                                                                                                                                           | GING NANG BOYZ               | 43 | 1.232558 |\n",
       "| Excavation                                                                                                                                                         | Sjellos                      |  1 | 2.000000 |\n",
       "| LA PA PARADISE                                                                                                                                                     | BRADIO                       | 10 | 3.000000 |\n",
       "| Storm on Boat (Insomnia Treatment)                                                                                                                                 | Natural Sounds Music Academy |  1 | 3.000000 |\n",
       "| Symphony No. 8 in E flat - \"Symphony of a Thousand\" / Part Two: Final scene from Goethe's \"Faust\": \"Bei der Liebe\" - \"Bei dem Bronn\" - Bei dem hochgeweihten Orte\" | Gustav Mahler                |  1 | 3.000000 |\n",
       "| Let Me Go                                                                                                                                                          | Sunrise Avenue               | 10 | 4.200000 |\n",
       "| Hellwalker                                                                                                                                                         | Mick Gordon                  |  1 | 5.000000 |\n",
       "| Cloud Atlas End Title                                                                                                                                              | Tom Tykwer                   |  1 | 8.000000 |\n",
       "| Ole Ole                                                                                                                                                            | Yizhar Kohen                 |  1 | 8.000000 |\n",
       "| Stift Heiligenkreuz Bells - Reprise                                                                                                                                | Traditional                  |  1 | 8.000000 |\n",
       "\n"
      ],
      "text/plain": [
       "   master_metadata_track_name                                                                                                                                        \n",
       "1  恋は永遠                                                                                                                                                          \n",
       "2  Excavation                                                                                                                                                        \n",
       "3  LA PA PARADISE                                                                                                                                                    \n",
       "4  Storm on Boat (Insomnia Treatment)                                                                                                                                \n",
       "5  Symphony No. 8 in E flat - \"Symphony of a Thousand\" / Part Two: Final scene from Goethe's \"Faust\": \"Bei der Liebe\" - \"Bei dem Bronn\" - Bei dem hochgeweihten Orte\"\n",
       "6  Let Me Go                                                                                                                                                         \n",
       "7  Hellwalker                                                                                                                                                        \n",
       "8  Cloud Atlas End Title                                                                                                                                             \n",
       "9  Ole Ole                                                                                                                                                           \n",
       "10 Stift Heiligenkreuz Bells - Reprise                                                                                                                               \n",
       "   master_metadata_album_artist_name n  mean_playtime\n",
       "1  GING NANG BOYZ                    43 1.232558     \n",
       "2  Sjellos                            1 2.000000     \n",
       "3  BRADIO                            10 3.000000     \n",
       "4  Natural Sounds Music Academy       1 3.000000     \n",
       "5  Gustav Mahler                      1 3.000000     \n",
       "6  Sunrise Avenue                    10 4.200000     \n",
       "7  Mick Gordon                        1 5.000000     \n",
       "8  Tom Tykwer                         1 8.000000     \n",
       "9  Yizhar Kohen                       1 8.000000     \n",
       "10 Traditional                        1 8.000000     "
      ]
     },
     "execution_count": 10,
     "metadata": {
     },
     "output_type": "execute_result"
    }
   ],
   "source": [
    "data %>%\n",
    "    filter(!is.na(master_metadata_track_name), ms_played < 10000) %>% \n",
    "    group_by(master_metadata_track_name, master_metadata_album_artist_name) %>% \n",
    "    summarize(n=n(),mean_playtime = mean(ms_played)) %>% \n",
    "    filter(mean_playtime > 0) %>%\n",
    "    arrange((mean_playtime)) %>%\n",
    "    head(10)"
   ]
  }
 ],
 "metadata": {
  "kernelspec": {
   "display_name": "R (system-wide)",
   "language": "r",
   "metadata": {
    "cocalc": {
     "description": "R statistical programming language",
     "priority": 10,
     "url": "https://www.r-project.org/"
    }
   },
   "name": "ir",
   "resource_dir": "/ext/jupyter/kernels/ir"
  },
  "language_info": {
   "codemirror_mode": "r",
   "file_extension": ".r",
   "mimetype": "text/x-r-source",
   "name": "R",
   "pygments_lexer": "r",
   "version": "4.2.0"
  }
 },
 "nbformat": 4,
 "nbformat_minor": 4
}