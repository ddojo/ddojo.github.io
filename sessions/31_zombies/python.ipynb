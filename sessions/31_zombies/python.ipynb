{
 "cells": [
  {
   "cell_type": "markdown",
   "id": "bccd9c",
   "metadata": {
    "collapsed": false
   },
   "source": [
    "# Zombies Apocalypse\n",
    "\n",
    "- Data Source: [Kaggle](https://www.kaggle.com/datasets/kingabzpro/zombies-apocalypse)\n",
    "- Tasks: compare humans and zombies to identify differences in supplies\n",
    "- Language: [python](https://www.python.org/)\n",
    "\n",
    "## Context\n",
    "\n",
    "News reports suggest that the impossible has become possible…zombies have appeared on the streets of the US! What should we do? The Centers for Disease Control and Prevention (CDC) zombie preparedness website recommends storing water, food, medication, tools, sanitation items, clothing, essential documents, and first aid supplies. Thankfully, we are CDC analysts and are prepared, but it may be too late for others!\n",
    "\n",
    "## Content\n",
    "\n",
    "Our team decides to identify supplies that protect people and coordinate supply distribution. A few brave data collectors volunteer to check on 200 randomly selected adults who were alive before the zombies. We have recent data for the 200 on age and sex, how many are in their household, and their rural, suburban, or urban location. Our heroic volunteers visit each home and record zombie status and preparedness. Now it's our job to figure out which supplies are associated with safety!\n",
    "\n",
    "## File\n",
    "\n",
    "Because every moment counts when dealing with life and (un)death, we want to get this right! The first task is to compare humans and zombies to identify differences in supplies. We review the data and find the following:\n",
    "\n",
    "- zombieid: unique identifier\n",
    "- zombie: human or zombie\n",
    "- age: age in years\n",
    "- sex: male or female\n",
    "- rurality: rural, suburban, or urban\n",
    "- household: number of people living in household\n",
    "- water: gallons of clean water available\n",
    "- food: food or no food\n",
    "- medication: medication or no medication\n",
    "- tools: tools or no tools\n",
    "- firstaid: first aid or no first aid\n",
    "- sanitation: sanitation or no sanitation\n",
    "- clothing: clothing or no clothing\n",
    "- documents: documents or no documents\n",
    "\n",
    "## Acknowledgements\n",
    "\n",
    "DataCamp\n"
   ]
  },
  {
   "cell_type": "code",
   "execution_count": 4,
   "id": "431914",
   "metadata": {
    "collapsed": false
   },
   "outputs": [
   ],
   "source": [
    "import numpy as np"
   ]
  },
  {
   "cell_type": "code",
   "execution_count": 2,
   "id": "6d8288",
   "metadata": {
    "collapsed": false
   },
   "outputs": [
    {
     "data": {
      "text/plain": [
       "'Simon → Mike → Joel → Max → Felix → Chris → Robin'"
      ]
     },
     "execution_count": 2,
     "metadata": {
     },
     "output_type": "execute_result"
    }
   ],
   "source": [
    "np.random.seed(42)\n",
    "\" → \".join(np.random.permutation(\"Simon Mike Max Chris Felix Joel Robin\".split()))"
   ]
  },
  {
   "cell_type": "markdown",
   "id": "38abae",
   "metadata": {
    "collapsed": false
   },
   "source": [
    "## 1. Data loading"
   ]
  },
  {
   "cell_type": "code",
   "execution_count": 42,
   "id": "532e38",
   "metadata": {
    "collapsed": false
   },
   "outputs": [
    {
     "ename": "ModuleNotFoundError",
     "evalue": "No module named 'urllib2'",
     "output_type": "error",
     "traceback": [
      "\u001b[0;31m---------------------------------------------------------------------------\u001b[0m",
      "\u001b[0;31mModuleNotFoundError\u001b[0m                       Traceback (most recent call last)",
      "Cell \u001b[0;32mIn[42], line 3\u001b[0m\n\u001b[1;32m      1\u001b[0m \u001b[38;5;28;01mimport\u001b[39;00m \u001b[38;5;21;01mpandas\u001b[39;00m \u001b[38;5;28;01mas\u001b[39;00m \u001b[38;5;21;01mpd\u001b[39;00m\n\u001b[1;32m      2\u001b[0m \u001b[38;5;28;01mimport\u001b[39;00m \u001b[38;5;21;01mmatplotlib\u001b[39;00m\u001b[38;5;21;01m.\u001b[39;00m\u001b[38;5;21;01mpyplot\u001b[39;00m \u001b[38;5;28;01mas\u001b[39;00m \u001b[38;5;21;01mplt\u001b[39;00m\n\u001b[0;32m----> 3\u001b[0m \u001b[38;5;28;01mimport\u001b[39;00m \u001b[38;5;21;01murllib2\u001b[39;00m\n",
      "\u001b[0;31mModuleNotFoundError\u001b[0m: No module named 'urllib2'"
     ]
    }
   ],
   "source": [
    "import pandas as pd\n",
    "import matplotlib.pyplot as plt\n"
   ]
  },
  {
   "cell_type": "code",
   "execution_count": 5,
   "id": "e5ea36",
   "metadata": {
    "collapsed": false
   },
   "outputs": [
   ],
   "source": [
    "data = pd.read_csv(\"zombies.csv\")"
   ]
  },
  {
   "cell_type": "code",
   "execution_count": 41,
   "id": "66ba26",
   "metadata": {
    "collapsed": false
   },
   "outputs": [
    {
     "ename": "NameError",
     "evalue": "name 'urllib2' is not defined",
     "output_type": "error",
     "traceback": [
      "\u001b[0;31m---------------------------------------------------------------------------\u001b[0m",
      "\u001b[0;31mNameError\u001b[0m                                 Traceback (most recent call last)",
      "Cell \u001b[0;32mIn[41], line 1\u001b[0m\n\u001b[0;32m----> 1\u001b[0m f \u001b[38;5;241m=\u001b[39m \u001b[43murllib2\u001b[49m\u001b[38;5;241m.\u001b[39murlopen(\u001b[38;5;124m\"\u001b[39m\u001b[38;5;124mhttps://th.bing.com/th/id/OIP.V2gsobuvjSzDzrK2UFA75AHaDt?rs=1&pid=ImgDetMain\u001b[39m\u001b[38;5;124m\"\u001b[39m)\n\u001b[1;32m      2\u001b[0m a \u001b[38;5;241m=\u001b[39m plt\u001b[38;5;241m.\u001b[39mimread(f)\n\u001b[1;32m      3\u001b[0m plt\u001b[38;5;241m.\u001b[39mimshow(a)\n",
      "\u001b[0;31mNameError\u001b[0m: name 'urllib2' is not defined"
     ]
    }
   ],
   "source": [
   ]
  },
  {
   "cell_type": "code",
   "execution_count": 6,
   "id": "d0fc3c",
   "metadata": {
    "collapsed": false
   },
   "outputs": [
    {
     "data": {
      "text/html": [
       "<div>\n",
       "<style scoped>\n",
       "    .dataframe tbody tr th:only-of-type {\n",
       "        vertical-align: middle;\n",
       "    }\n",
       "\n",
       "    .dataframe tbody tr th {\n",
       "        vertical-align: top;\n",
       "    }\n",
       "\n",
       "    .dataframe thead th {\n",
       "        text-align: right;\n",
       "    }\n",
       "</style>\n",
       "<table border=\"1\" class=\"dataframe\">\n",
       "  <thead>\n",
       "    <tr style=\"text-align: right;\">\n",
       "      <th></th>\n",
       "      <th>zombieid</th>\n",
       "      <th>zombie</th>\n",
       "      <th>age</th>\n",
       "      <th>sex</th>\n",
       "      <th>rurality</th>\n",
       "      <th>household</th>\n",
       "      <th>water</th>\n",
       "      <th>food</th>\n",
       "      <th>medication</th>\n",
       "      <th>tools</th>\n",
       "      <th>firstaid</th>\n",
       "      <th>sanitation</th>\n",
       "      <th>clothing</th>\n",
       "      <th>documents</th>\n",
       "    </tr>\n",
       "  </thead>\n",
       "  <tbody>\n",
       "    <tr>\n",
       "      <th>0</th>\n",
       "      <td>1</td>\n",
       "      <td>Human</td>\n",
       "      <td>18</td>\n",
       "      <td>Female</td>\n",
       "      <td>Rural</td>\n",
       "      <td>1</td>\n",
       "      <td>0</td>\n",
       "      <td>Food</td>\n",
       "      <td>Medication</td>\n",
       "      <td>No tools</td>\n",
       "      <td>First aid supplies</td>\n",
       "      <td>Sanitation</td>\n",
       "      <td>Clothing</td>\n",
       "      <td>NaN</td>\n",
       "    </tr>\n",
       "    <tr>\n",
       "      <th>1</th>\n",
       "      <td>2</td>\n",
       "      <td>Human</td>\n",
       "      <td>18</td>\n",
       "      <td>Male</td>\n",
       "      <td>Rural</td>\n",
       "      <td>3</td>\n",
       "      <td>24</td>\n",
       "      <td>Food</td>\n",
       "      <td>Medication</td>\n",
       "      <td>tools</td>\n",
       "      <td>First aid supplies</td>\n",
       "      <td>Sanitation</td>\n",
       "      <td>Clothing</td>\n",
       "      <td>NaN</td>\n",
       "    </tr>\n",
       "    <tr>\n",
       "      <th>2</th>\n",
       "      <td>3</td>\n",
       "      <td>Human</td>\n",
       "      <td>18</td>\n",
       "      <td>Male</td>\n",
       "      <td>Rural</td>\n",
       "      <td>4</td>\n",
       "      <td>16</td>\n",
       "      <td>Food</td>\n",
       "      <td>Medication</td>\n",
       "      <td>No tools</td>\n",
       "      <td>First aid supplies</td>\n",
       "      <td>Sanitation</td>\n",
       "      <td>Clothing</td>\n",
       "      <td>NaN</td>\n",
       "    </tr>\n",
       "    <tr>\n",
       "      <th>3</th>\n",
       "      <td>4</td>\n",
       "      <td>Human</td>\n",
       "      <td>19</td>\n",
       "      <td>Male</td>\n",
       "      <td>Rural</td>\n",
       "      <td>1</td>\n",
       "      <td>0</td>\n",
       "      <td>Food</td>\n",
       "      <td>Medication</td>\n",
       "      <td>tools</td>\n",
       "      <td>No first aid supplies</td>\n",
       "      <td>Sanitation</td>\n",
       "      <td>Clothing</td>\n",
       "      <td>NaN</td>\n",
       "    </tr>\n",
       "    <tr>\n",
       "      <th>4</th>\n",
       "      <td>5</td>\n",
       "      <td>Human</td>\n",
       "      <td>19</td>\n",
       "      <td>Male</td>\n",
       "      <td>Urban</td>\n",
       "      <td>1</td>\n",
       "      <td>0</td>\n",
       "      <td>Food</td>\n",
       "      <td>Medication</td>\n",
       "      <td>No tools</td>\n",
       "      <td>First aid supplies</td>\n",
       "      <td>Sanitation</td>\n",
       "      <td>NaN</td>\n",
       "      <td>NaN</td>\n",
       "    </tr>\n",
       "  </tbody>\n",
       "</table>\n",
       "</div>"
      ],
      "text/plain": [
       "   zombieid zombie  age     sex rurality  household  water  food  medication  \\\n",
       "0         1  Human   18  Female    Rural          1      0  Food  Medication   \n",
       "1         2  Human   18    Male    Rural          3     24  Food  Medication   \n",
       "2         3  Human   18    Male    Rural          4     16  Food  Medication   \n",
       "3         4  Human   19    Male    Rural          1      0  Food  Medication   \n",
       "4         5  Human   19    Male    Urban          1      0  Food  Medication   \n",
       "\n",
       "      tools               firstaid  sanitation  clothing documents  \n",
       "0  No tools     First aid supplies  Sanitation  Clothing       NaN  \n",
       "1     tools     First aid supplies  Sanitation  Clothing       NaN  \n",
       "2  No tools     First aid supplies  Sanitation  Clothing       NaN  \n",
       "3     tools  No first aid supplies  Sanitation  Clothing       NaN  \n",
       "4  No tools     First aid supplies  Sanitation       NaN       NaN  "
      ]
     },
     "execution_count": 6,
     "metadata": {
     },
     "output_type": "execute_result"
    }
   ],
   "source": [
   ]
  },
  {
   "cell_type": "code",
   "execution_count": 15,
   "id": "dd6419",
   "metadata": {
    "collapsed": false
   },
   "outputs": [
    {
     "name": "stdout",
     "output_type": "stream",
     "text": [
      "rural 98 urban 54\n",
      " urban infected 38 urban humans 16 rural infected 18 rural humans 80\n"
     ]
    }
   ],
   "source": [
    "data_rural = data[data['rurality'] == 'Rural']\n",
    "data_urban = data[data['rurality'] == 'Urban']\n",
    "\n",
    "total_rural = data_rural.shape[0]\n",
    "total_urban = data_urban.shape[0]\n",
    "\n",
    "print(f\"rural {total_rural} urban {total_urban}\")\n",
    "\n",
    "\n",
    "# Don't say the \"Z-word\"!\n",
    "urban_infected = data_urban[data_urban['zombie'] == \"Zombie\"]\n",
    "urban_humans = data_urban[data_urban[\"zombie\"] == \"Human\"]\n",
    "\n",
    "rural_infected = data_rural[data_rural[\"zombie\"] == \"Zombie\"]\n",
    "rural_humans = data_rural[data_rural[\"zombie\"] == \"Human\"]\n",
    "\n",
    "\n",
    "print(f\" urban infected {urban_infected.shape[0]} urban humans {urban_humans.shape[0]} rural infected {rural_infected.shape[0]} rural humans {rural_humans.shape[0]}\")\n"
   ]
  },
  {
   "cell_type": "code",
   "execution_count": 16,
   "id": "d3eadf",
   "metadata": {
    "collapsed": false
   },
   "outputs": [
    {
     "data": {
      "text/plain": [
       "<BarContainer object of 4 artists>"
      ]
     },
     "execution_count": 16,
     "metadata": {
     },
     "output_type": "execute_result"
    },
    {
     "data": {
      "image/png": "[encoded data removed]",
      "text/plain": [
       "<Figure size 864x504 with 1 Axes>"
      ]
     },
     "execution_count": 16,
     "metadata": {
      "image/png": {
       "height": 411,
       "width": 703
      },
      "needs_background": "light"
     },
     "output_type": "execute_result"
    }
   ],
   "source": [
    "urban_vs_rural = [urban_infected.shape[0], urban_humans.shape[0], rural_infected.shape[0], rural_humans.shape[0]]\n",
    "cats = ['urban_infected', 'urban_humans', 'rural_infected', 'rural_human']\n",
    "\n",
    "plt.bar(cats, urban_vs_rural)"
   ]
  },
  {
   "cell_type": "code",
   "execution_count": 28,
   "id": "9767af",
   "metadata": {
    "collapsed": false
   },
   "outputs": [
   ],
   "source": [
    "data[\"clothing\"] = data[\"clothing\"].fillna(\"No Clothing\")"
   ]
  },
  {
   "cell_type": "code",
   "execution_count": 32,
   "id": "c3f7b4",
   "metadata": {
    "collapsed": false
   },
   "outputs": [
   ],
   "source": [
    "clothed = data[data['clothing'] == 'Clothing']\n",
    "clothless = data[data['clothing'] == 'No Clothing']\n",
    "\n",
    "total_clothed = clothed.shape[0]\n",
    "total_clothless = clothless.shape[0]\n",
    "\n",
    "\n",
    "\n",
    "\n",
    "# Don't say the \"Z-word\"!\n",
    "clothed_infected = clothed[clothed['zombie'] == \"Zombie\"]\n",
    "clothed_humans = clothed[clothed[\"zombie\"] == \"Human\"]\n",
    "\n",
    "clothless_infected = clothless[clothless[\"zombie\"] == \"Zombie\"]\n",
    "clothless_humans = clothless[clothless[\"zombie\"] == \"Human\"]\n"
   ]
  },
  {
   "cell_type": "code",
   "execution_count": 38,
   "id": "e200eb",
   "metadata": {
    "collapsed": false
   },
   "outputs": [
    {
     "name": "stdout",
     "output_type": "stream",
     "text": [
      "0.6115702479338843\n",
      "0.6582278481012658\n",
      "0.3884297520661157\n",
      "0.34177215189873417\n"
     ]
    },
    {
     "data": {
      "text/plain": [
       "<BarContainer object of 4 artists>"
      ]
     },
     "execution_count": 38,
     "metadata": {
     },
     "output_type": "execute_result"
    },
    {
     "data": {
      "image/png": "[encoded data removed]",
      "text/plain": [
       "<Figure size 864x504 with 1 Axes>"
      ]
     },
     "execution_count": 38,
     "metadata": {
      "image/png": {
       "height": 411,
       "width": 703
      },
      "needs_background": "light"
     },
     "output_type": "execute_result"
    }
   ],
   "source": [
    "clothed_vs_clothless = [clothed_infected.shape[0], clothed_humans.shape[0], clothless_infected.shape[0], clothless_humans.shape[0]]\n",
    "cats = ['clothed_infected', 'clothed_humans', 'clothless_infected', 'clothless_human']\n",
    "\n",
    "total_humans = clothed_humans.shape[0] + clothless_humans.shape[0]\n",
    "total_infected = clothed_infected.shape[0] + clothless_infected.shape[0]\n",
    "print(clothed_humans.shape[0]/total_humans)\n",
    "print(clothed_infected.shape[0]/total_infected)\n",
    "\n",
    "print(clothless_humans.shape[0]/total_humans)\n",
    "print(clothless_infected.shape[0]/total_infected)\n",
    "plt.bar(cats, clothed_vs_clothless)\n"
   ]
  },
  {
   "cell_type": "code",
   "execution_count": 39,
   "id": "f5f01c",
   "metadata": {
    "collapsed": false
   },
   "outputs": [
    {
     "data": {
      "text/plain": [
       "<Axes: xlabel='zombie', ylabel='age'>"
      ]
     },
     "execution_count": 39,
     "metadata": {
     },
     "output_type": "execute_result"
    },
    {
     "data": {
      "image/png": "[encoded data removed]",
      "text/plain": [
       "<Figure size 864x504 with 1 Axes>"
      ]
     },
     "execution_count": 39,
     "metadata": {
      "image/png": {
       "height": 424,
       "width": 717
      },
      "needs_background": "light"
     },
     "output_type": "execute_result"
    }
   ],
   "source": [
    "import seaborn as sns\n",
    "\n",
    "sns.boxplot(x='zombie', y='age', data=data)"
   ]
  }
 ],
 "metadata": {
  "kernelspec": {
   "argv": [
    "/usr/bin/python3",
    "-m",
    "ipykernel",
    "--HistoryManager.enabled=False",
    "--matplotlib=inline",
    "-c",
    "%config InlineBackend.figure_formats = set(['retina'])\nimport matplotlib; matplotlib.rcParams['figure.figsize'] = (12, 7)",
    "-f",
    "{connection_file}"
   ],
   "display_name": "Python 3 (system-wide)",
   "env": {
   },
   "language": "python",
   "metadata": {
    "cocalc": {
     "description": "Python 3 programming language",
     "priority": 100,
     "url": "https://www.python.org/"
    }
   },
   "name": "python3",
   "resource_dir": "/ext/jupyter/kernels/python3"
  },
  "language_info": {
   "codemirror_mode": {
    "name": "ipython",
    "version": 3
   },
   "file_extension": ".py",
   "mimetype": "text/x-python",
   "name": "python",
   "nbconvert_exporter": "python",
   "pygments_lexer": "ipython3",
   "version": "3.10.12"
  }
 },
 "nbformat": 4,
 "nbformat_minor": 4
}