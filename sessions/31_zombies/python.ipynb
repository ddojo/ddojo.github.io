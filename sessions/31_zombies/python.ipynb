{
 "cells": [
  {
   "cell_type": "markdown",
   "id": "bccd9c",
   "metadata": {
    "collapsed": false
   },
   "source": [
    "# Zombies Apocalypse\n",
    "\n",
    "- Data Source: [Kaggle](https://www.kaggle.com/datasets/kingabzpro/zombies-apocalypse)\n",
    "- Tasks: compare humans and zombies to identify differences in supplies\n",
    "- Language: [python](https://www.python.org/)\n",
    "\n",
    "## Context\n",
    "\n",
    "News reports suggest that the impossible has become possible…zombies have appeared on the streets of the US! What should we do? The Centers for Disease Control and Prevention (CDC) zombie preparedness website recommends storing water, food, medication, tools, sanitation items, clothing, essential documents, and first aid supplies. Thankfully, we are CDC analysts and are prepared, but it may be too late for others!\n",
    "\n",
    "## Content\n",
    "\n",
    "Our team decides to identify supplies that protect people and coordinate supply distribution. A few brave data collectors volunteer to check on 200 randomly selected adults who were alive before the zombies. We have recent data for the 200 on age and sex, how many are in their household, and their rural, suburban, or urban location. Our heroic volunteers visit each home and record zombie status and preparedness. Now it's our job to figure out which supplies are associated with safety!\n",
    "\n",
    "## File\n",
    "\n",
    "Because every moment counts when dealing with life and (un)death, we want to get this right! The first task is to compare humans and zombies to identify differences in supplies. We review the data and find the following:\n",
    "\n",
    "- zombieid: unique identifier\n",
    "- zombie: human or zombie\n",
    "- age: age in years\n",
    "- sex: male or female\n",
    "- rurality: rural, suburban, or urban\n",
    "- household: number of people living in household\n",
    "- water: gallons of clean water available\n",
    "- food: food or no food\n",
    "- medication: medication or no medication\n",
    "- tools: tools or no tools\n",
    "- firstaid: first aid or no first aid\n",
    "- sanitation: sanitation or no sanitation\n",
    "- clothing: clothing or no clothing\n",
    "- documents: documents or no documents\n",
    "\n",
    "## Acknowledgements\n",
    "\n",
    "DataCamp\n"
   ]
  },
  {
   "cell_type": "code",
   "execution_count": 1,
   "id": "431914",
   "metadata": {
    "collapsed": false
   },
   "outputs": [
   ],
   "source": [
    "import numpy as np"
   ]
  },
  {
   "cell_type": "code",
   "execution_count": 2,
   "id": "6d8288",
   "metadata": {
    "collapsed": false
   },
   "outputs": [
    {
     "data": {
      "text/plain": [
       "'Simon → Mike → Joel → Max → Felix → Chris → Robin'"
      ]
     },
     "execution_count": 2,
     "metadata": {
     },
     "output_type": "execute_result"
    }
   ],
   "source": [
    "np.random.seed(42)\n",
    "\" → \".join(np.random.permutation(\"Simon Mike Max Chris Felix Joel Robin\".split()))"
   ]
  },
  {
   "cell_type": "markdown",
   "id": "38abae",
   "metadata": {
    "collapsed": false
   },
   "source": [
    "## 1. Data loading"
   ]
  },
  {
   "cell_type": "code",
   "execution_count": 0,
   "id": "532e38",
   "metadata": {
    "collapsed": false
   },
   "outputs": [
   ],
   "source": [
    "import pandas as pd\n",
    "import matplotlib.pyplot as plt"
   ]
  }
 ],
 "metadata": {
  "kernelspec": {
   "argv": [
    "/usr/bin/python3",
    "-m",
    "ipykernel",
    "--HistoryManager.enabled=False",
    "--matplotlib=inline",
    "-c",
    "%config InlineBackend.figure_formats = set(['retina'])\nimport matplotlib; matplotlib.rcParams['figure.figsize'] = (12, 7)",
    "-f",
    "{connection_file}"
   ],
   "display_name": "Python 3 (system-wide)",
   "env": {
   },
   "language": "python",
   "metadata": {
    "cocalc": {
     "description": "Python 3 programming language",
     "priority": 100,
     "url": "https://www.python.org/"
    }
   },
   "name": "python3",
   "resource_dir": "/ext/jupyter/kernels/python3"
  },
  "language_info": {
   "codemirror_mode": {
    "name": "ipython",
    "version": 3
   },
   "file_extension": ".py",
   "mimetype": "text/x-python",
   "name": "python",
   "nbconvert_exporter": "python",
   "pygments_lexer": "ipython3",
   "version": "3.10.6"
  }
 },
 "nbformat": 4,
 "nbformat_minor": 4
}