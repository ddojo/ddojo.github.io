{
 "cells": [
  {
   "cell_type": "markdown",
   "id": "cb72e5",
   "metadata": {
    "collapsed": false
   },
   "source": [
    "# Zombies Apocalypse\n",
    "\n",
    "- Data Source: [Kaggle](https://www.kaggle.com/datasets/kingabzpro/zombies-apocalypse)\n",
    "- Tasks: compare humans and zombies to identify differences in supplies\n",
    "- Language: [julia](https://julialang.org)\n",
    "\n",
    "## Context\n",
    "\n",
    "News reports suggest that the impossible has become possible…zombies have appeared on the streets of the US! What should we do? The Centers for Disease Control and Prevention (CDC) zombie preparedness website recommends storing water, food, medication, tools, sanitation items, clothing, essential documents, and first aid supplies. Thankfully, we are CDC analysts and are prepared, but it may be too late for others!\n",
    "\n",
    "## Content\n",
    "\n",
    "Our team decides to identify supplies that protect people and coordinate supply distribution. A few brave data collectors volunteer to check on 200 randomly selected adults who were alive before the zombies. We have recent data for the 200 on age and sex, how many are in their household, and their rural, suburban, or urban location. Our heroic volunteers visit each home and record zombie status and preparedness. Now it's our job to figure out which supplies are associated with safety!\n",
    "\n",
    "## File\n",
    "\n",
    "Because every moment counts when dealing with life and (un)death, we want to get this right! The first task is to compare humans and zombies to identify differences in supplies. We review the data and find the following:\n",
    "\n",
    "- zombieid: unique identifier\n",
    "- zombie: human or zombie\n",
    "- age: age in years\n",
    "- sex: male or female\n",
    "- rurality: rural, suburban, or urban\n",
    "- household: number of people living in household\n",
    "- water: gallons of clean water available\n",
    "- food: food or no food\n",
    "- medication: medication or no medication\n",
    "- tools: tools or no tools\n",
    "- firstaid: first aid or no first aid\n",
    "- sanitation: sanitation or no sanitation\n",
    "- clothing: clothing or no clothing\n",
    "- documents: documents or no documents\n",
    "\n",
    "## Acknowledgements\n",
    "\n",
    "DataCamp"
   ]
  },
  {
   "cell_type": "code",
   "execution_count": 1,
   "id": "074754",
   "metadata": {
    "collapsed": false,
    "jupyter": {
     "outputs_hidden": false
    }
   },
   "outputs": [
   ],
   "source": [
    "ENV[\"COLUMNS\"] = 1000; # print more columns of tables"
   ]
  },
  {
   "cell_type": "code",
   "execution_count": 2,
   "id": "32f2f8",
   "metadata": {
    "collapsed": false,
    "jupyter": {
     "outputs_hidden": false
    }
   },
   "outputs": [
   ],
   "source": [
    "using Random"
   ]
  },
  {
   "cell_type": "code",
   "execution_count": 3,
   "id": "29da82",
   "metadata": {
    "collapsed": false,
    "jupyter": {
     "outputs_hidden": false
    }
   },
   "outputs": [
    {
     "data": {
      "text/plain": [
       "\"Andi → Chris → Caro → Kerstin → Jana\""
      ]
     },
     "execution_count": 3,
     "metadata": {
     },
     "output_type": "execute_result"
    }
   ],
   "source": [
    "Random.seed!(42)\n",
    "\"Andi Kerstin Chris Caro Jana\" |> split |> shuffle |> x -> join(x,\" → \")"
   ]
  },
  {
   "cell_type": "markdown",
   "id": "048e82",
   "metadata": {
    "collapsed": false
   },
   "source": [
    "## 1. Data loading\n"
   ]
  },
  {
   "cell_type": "code",
   "execution_count": 6,
   "id": "29b84c",
   "metadata": {
    "collapsed": false,
    "jupyter": {
     "outputs_hidden": false
    }
   },
   "outputs": [
   ],
   "source": [
    "using Dates\n",
    "using CSV\n",
    "using DataFrames"
   ]
  }
 ],
 "metadata": {
  "kernelspec": {
   "argv": [
    "/ext/julia/julia-1.9/bin/julia",
    "-i",
    "--startup-file=yes",
    "--color=yes",
    "/ext/julia/depot/packages/IJulia/Vo51o/src/kernel.jl",
    "{connection_file}"
   ],
   "display_name": "Julia 1.9",
   "env": {
    "JULIA_DEPOT_PATH": "/home/user/.julia/:/ext/julia/depot/",
    "JULIA_PROJECT": "/home/user/.julia/environment/v1.9"
   },
   "language": "julia",
   "metadata": {
    "cocalc": {
     "description": "The Julia Programming Language",
     "priority": 1,
     "url": "https://julialang.org/"
    }
   },
   "name": "julia-1.9",
   "resource_dir": "/ext/jupyter/kernels/julia-1.9"
  },
  "language_info": {
   "file_extension": ".jl",
   "mimetype": "application/julia",
   "name": "julia",
   "version": "1.9.2"
  }
 },
 "nbformat": 4,
 "nbformat_minor": 4
}