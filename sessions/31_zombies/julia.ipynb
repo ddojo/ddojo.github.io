{
 "cells": [
  {
   "cell_type": "markdown",
   "id": "cb72e5",
   "metadata": {
    "collapsed": false
   },
   "source": [
    "# Zombies Apocalypse\n",
    "\n",
    "- Data Source: [Kaggle](https://www.kaggle.com/datasets/kingabzpro/zombies-apocalypse)\n",
    "- Tasks: compare humans and zombies to identify differences in supplies\n",
    "- Language: [julia](https://julialang.org)\n",
    "\n",
    "## Context\n",
    "\n",
    "News reports suggest that the impossible has become possible…zombies have appeared on the streets of the US! What should we do? The Centers for Disease Control and Prevention (CDC) zombie preparedness website recommends storing water, food, medication, tools, sanitation items, clothing, essential documents, and first aid supplies. Thankfully, we are CDC analysts and are prepared, but it may be too late for others!\n",
    "\n",
    "## Content\n",
    "\n",
    "Our team decides to identify supplies that protect people and coordinate supply distribution. A few brave data collectors volunteer to check on 200 randomly selected adults who were alive before the zombies. We have recent data for the 200 on age and sex, how many are in their household, and their rural, suburban, or urban location. Our heroic volunteers visit each home and record zombie status and preparedness. Now it's our job to figure out which supplies are associated with safety!\n",
    "\n",
    "## File\n",
    "\n",
    "Because every moment counts when dealing with life and (un)death, we want to get this right! The first task is to compare humans and zombies to identify differences in supplies. We review the data and find the following:\n",
    "\n",
    "- zombieid: unique identifier\n",
    "- zombie: human or zombie\n",
    "- age: age in years\n",
    "- sex: male or female\n",
    "- rurality: rural, suburban, or urban\n",
    "- household: number of people living in household\n",
    "- water: gallons of clean water available\n",
    "- food: food or no food\n",
    "- medication: medication or no medication\n",
    "- tools: tools or no tools\n",
    "- firstaid: first aid or no first aid\n",
    "- sanitation: sanitation or no sanitation\n",
    "- clothing: clothing or no clothing\n",
    "- documents: documents or no documents\n",
    "\n",
    "## Acknowledgements\n",
    "\n",
    "DataCamp"
   ]
  },
  {
   "cell_type": "code",
   "execution_count": 1,
   "id": "074754",
   "metadata": {
    "collapsed": false,
    "jupyter": {
     "outputs_hidden": false
    }
   },
   "outputs": [],
   "source": [
    "ENV[\"COLUMNS\"] = 1000; # print more columns of tables"
   ]
  },
  {
   "cell_type": "code",
   "execution_count": 2,
   "id": "32f2f8",
   "metadata": {
    "collapsed": false,
    "jupyter": {
     "outputs_hidden": false
    }
   },
   "outputs": [],
   "source": [
    "using Random"
   ]
  },
  {
   "cell_type": "code",
   "execution_count": 3,
   "id": "29da82",
   "metadata": {
    "collapsed": false,
    "jupyter": {
     "outputs_hidden": false
    }
   },
   "outputs": [
    {
     "data": {
      "text/plain": [
       "\"Kerstin → Chris → Andi → Jana → Caro\""
      ]
     },
     "metadata": {},
     "output_type": "display_data"
    }
   ],
   "source": [
    "Random.seed!(42)\n",
    "\"Andi Kerstin Chris Caro Jana\" |> split |> shuffle |> x -> join(x,\" → \")"
   ]
  },
  {
   "cell_type": "markdown",
   "id": "048e82",
   "metadata": {
    "collapsed": false
   },
   "source": [
    "## 1. Data loading\n"
   ]
  },
  {
   "cell_type": "code",
   "execution_count": 4,
   "id": "29b84c",
   "metadata": {
    "collapsed": false,
    "jupyter": {
     "outputs_hidden": false
    }
   },
   "outputs": [],
   "source": [
    "using Dates\n",
    "using CSV\n",
    "using DataFrames"
   ]
  },
  {
   "cell_type": "code",
   "execution_count": 5,
   "metadata": {},
   "outputs": [
    {
     "data": {
      "text/html": [
       "<div><div style = \"float: left;\"><span>5×14 DataFrame</span></div><div style = \"clear: both;\"></div></div><div class = \"data-frame\" style = \"overflow-x: scroll;\"><table class = \"data-frame\" style = \"margin-bottom: 6px;\"><thead><tr class = \"header\"><th class = \"rowNumber\" style = \"font-weight: bold; text-align: right;\">Row</th><th style = \"text-align: left;\">zombieid</th><th style = \"text-align: left;\">zombie</th><th style = \"text-align: left;\">age</th><th style = \"text-align: left;\">sex</th><th style = \"text-align: left;\">rurality</th><th style = \"text-align: left;\">household</th><th style = \"text-align: left;\">water</th><th style = \"text-align: left;\">food</th><th style = \"text-align: left;\">medication</th><th style = \"text-align: left;\">tools</th><th style = \"text-align: left;\">firstaid</th><th style = \"text-align: left;\">sanitation</th><th style = \"text-align: left;\">clothing</th><th style = \"text-align: left;\">documents</th></tr><tr class = \"subheader headerLastRow\"><th class = \"rowNumber\" style = \"font-weight: bold; text-align: right;\"></th><th title = \"Int64\" style = \"text-align: left;\">Int64</th><th title = \"String7\" style = \"text-align: left;\">String7</th><th title = \"Int64\" style = \"text-align: left;\">Int64</th><th title = \"String7\" style = \"text-align: left;\">String7</th><th title = \"String15\" style = \"text-align: left;\">String15</th><th title = \"Int64\" style = \"text-align: left;\">Int64</th><th title = \"Int64\" style = \"text-align: left;\">Int64</th><th title = \"String7\" style = \"text-align: left;\">String7</th><th title = \"String15\" style = \"text-align: left;\">String15</th><th title = \"String15\" style = \"text-align: left;\">String15</th><th title = \"String31\" style = \"text-align: left;\">String31</th><th title = \"String15\" style = \"text-align: left;\">String15</th><th title = \"String15\" style = \"text-align: left;\">String15</th><th title = \"String15\" style = \"text-align: left;\">String15</th></tr></thead><tbody><tr><td class = \"rowNumber\" style = \"font-weight: bold; text-align: right;\">1</td><td style = \"text-align: right;\">1</td><td style = \"text-align: left;\">Human</td><td style = \"text-align: right;\">18</td><td style = \"text-align: left;\">Female</td><td style = \"text-align: left;\">Rural</td><td style = \"text-align: right;\">1</td><td style = \"text-align: right;\">0</td><td style = \"text-align: left;\">Food</td><td style = \"text-align: left;\">Medication</td><td style = \"text-align: left;\">No tools</td><td style = \"text-align: left;\">First aid supplies</td><td style = \"text-align: left;\">Sanitation</td><td style = \"text-align: left;\">Clothing</td><td style = \"text-align: left;\">NA</td></tr><tr><td class = \"rowNumber\" style = \"font-weight: bold; text-align: right;\">2</td><td style = \"text-align: right;\">2</td><td style = \"text-align: left;\">Human</td><td style = \"text-align: right;\">18</td><td style = \"text-align: left;\">Male</td><td style = \"text-align: left;\">Rural</td><td style = \"text-align: right;\">3</td><td style = \"text-align: right;\">24</td><td style = \"text-align: left;\">Food</td><td style = \"text-align: left;\">Medication</td><td style = \"text-align: left;\">tools</td><td style = \"text-align: left;\">First aid supplies</td><td style = \"text-align: left;\">Sanitation</td><td style = \"text-align: left;\">Clothing</td><td style = \"text-align: left;\">NA</td></tr><tr><td class = \"rowNumber\" style = \"font-weight: bold; text-align: right;\">3</td><td style = \"text-align: right;\">3</td><td style = \"text-align: left;\">Human</td><td style = \"text-align: right;\">18</td><td style = \"text-align: left;\">Male</td><td style = \"text-align: left;\">Rural</td><td style = \"text-align: right;\">4</td><td style = \"text-align: right;\">16</td><td style = \"text-align: left;\">Food</td><td style = \"text-align: left;\">Medication</td><td style = \"text-align: left;\">No tools</td><td style = \"text-align: left;\">First aid supplies</td><td style = \"text-align: left;\">Sanitation</td><td style = \"text-align: left;\">Clothing</td><td style = \"text-align: left;\">NA</td></tr><tr><td class = \"rowNumber\" style = \"font-weight: bold; text-align: right;\">4</td><td style = \"text-align: right;\">4</td><td style = \"text-align: left;\">Human</td><td style = \"text-align: right;\">19</td><td style = \"text-align: left;\">Male</td><td style = \"text-align: left;\">Rural</td><td style = \"text-align: right;\">1</td><td style = \"text-align: right;\">0</td><td style = \"text-align: left;\">Food</td><td style = \"text-align: left;\">Medication</td><td style = \"text-align: left;\">tools</td><td style = \"text-align: left;\">No first aid supplies</td><td style = \"text-align: left;\">Sanitation</td><td style = \"text-align: left;\">Clothing</td><td style = \"text-align: left;\">NA</td></tr><tr><td class = \"rowNumber\" style = \"font-weight: bold; text-align: right;\">5</td><td style = \"text-align: right;\">5</td><td style = \"text-align: left;\">Human</td><td style = \"text-align: right;\">19</td><td style = \"text-align: left;\">Male</td><td style = \"text-align: left;\">Urban</td><td style = \"text-align: right;\">1</td><td style = \"text-align: right;\">0</td><td style = \"text-align: left;\">Food</td><td style = \"text-align: left;\">Medication</td><td style = \"text-align: left;\">No tools</td><td style = \"text-align: left;\">First aid supplies</td><td style = \"text-align: left;\">Sanitation</td><td style = \"text-align: left;\">NA</td><td style = \"text-align: left;\">NA</td></tr></tbody></table></div>"
      ],
      "text/latex": [
       "\\begin{tabular}{r|cccccccccccccc}\n",
       "\t& zombieid & zombie & age & sex & rurality & household & water & food & medication & tools & firstaid & sanitation & clothing & documents\\\\\n",
       "\t\\hline\n",
       "\t& Int64 & String7 & Int64 & String7 & String15 & Int64 & Int64 & String7 & String15 & String15 & String31 & String15 & String15 & String15\\\\\n",
       "\t\\hline\n",
       "\t1 & 1 & Human & 18 & Female & Rural & 1 & 0 & Food & Medication & No tools & First aid supplies & Sanitation & Clothing & NA \\\\\n",
       "\t2 & 2 & Human & 18 & Male & Rural & 3 & 24 & Food & Medication & tools & First aid supplies & Sanitation & Clothing & NA \\\\\n",
       "\t3 & 3 & Human & 18 & Male & Rural & 4 & 16 & Food & Medication & No tools & First aid supplies & Sanitation & Clothing & NA \\\\\n",
       "\t4 & 4 & Human & 19 & Male & Rural & 1 & 0 & Food & Medication & tools & No first aid supplies & Sanitation & Clothing & NA \\\\\n",
       "\t5 & 5 & Human & 19 & Male & Urban & 1 & 0 & Food & Medication & No tools & First aid supplies & Sanitation & NA & NA \\\\\n",
       "\\end{tabular}\n"
      ],
      "text/plain": [
       "\u001b[1m5×14 DataFrame\u001b[0m\n",
       "\u001b[1m Row \u001b[0m│\u001b[1m zombieid \u001b[0m\u001b[1m zombie  \u001b[0m\u001b[1m age   \u001b[0m\u001b[1m sex     \u001b[0m\u001b[1m rurality \u001b[0m\u001b[1m household \u001b[0m\u001b[1m water \u001b[0m\u001b[1m food    \u001b[0m\u001b[1m medication \u001b[0m\u001b[1m tools    \u001b[0m\u001b[1m firstaid              \u001b[0m\u001b[1m sanitation \u001b[0m\u001b[1m clothing \u001b[0m\u001b[1m documents \u001b[0m\n",
       "     │\u001b[90m Int64    \u001b[0m\u001b[90m String7 \u001b[0m\u001b[90m Int64 \u001b[0m\u001b[90m String7 \u001b[0m\u001b[90m String15 \u001b[0m\u001b[90m Int64     \u001b[0m\u001b[90m Int64 \u001b[0m\u001b[90m String7 \u001b[0m\u001b[90m String15   \u001b[0m\u001b[90m String15 \u001b[0m\u001b[90m String31              \u001b[0m\u001b[90m String15   \u001b[0m\u001b[90m String15 \u001b[0m\u001b[90m String15  \u001b[0m\n",
       "─────┼──────────────────────────────────────────────────────────────────────────────────────────────────────────────────────────────────────────────────────\n",
       "   1 │        1  Human       18  Female   Rural             1      0  Food     Medication  No tools  First aid supplies     Sanitation  Clothing  NA\n",
       "   2 │        2  Human       18  Male     Rural             3     24  Food     Medication  tools     First aid supplies     Sanitation  Clothing  NA\n",
       "   3 │        3  Human       18  Male     Rural             4     16  Food     Medication  No tools  First aid supplies     Sanitation  Clothing  NA\n",
       "   4 │        4  Human       19  Male     Rural             1      0  Food     Medication  tools     No first aid supplies  Sanitation  Clothing  NA\n",
       "   5 │        5  Human       19  Male     Urban             1      0  Food     Medication  No tools  First aid supplies     Sanitation  NA        NA"
      ]
     },
     "metadata": {},
     "output_type": "display_data"
    }
   ],
   "source": [
    "data = CSV.read(\"zombies.csv\", DataFrame)\n",
    "first(data, 5)"
   ]
  },
  {
   "cell_type": "code",
   "execution_count": 6,
   "metadata": {},
   "outputs": [
    {
     "data": {
      "text/plain": [
       "2-element Vector{String7}:\n",
       " \"Food\"\n",
       " \"No food\""
      ]
     },
     "metadata": {},
     "output_type": "display_data"
    }
   ],
   "source": [
    "unique(data.food)"
   ]
  },
  {
   "cell_type": "code",
   "execution_count": 7,
   "metadata": {},
   "outputs": [
    {
     "data": {
      "text/plain": [
       "2-element Vector{String15}:\n",
       " \"Medication\"\n",
       " \"No medication\""
      ]
     },
     "metadata": {},
     "output_type": "display_data"
    }
   ],
   "source": [
    "unique(data.medication)"
   ]
  },
  {
   "cell_type": "code",
   "execution_count": 8,
   "metadata": {},
   "outputs": [
    {
     "data": {
      "text/plain": [
       "2-element Vector{String15}:\n",
       " \"No tools\"\n",
       " \"tools\""
      ]
     },
     "metadata": {},
     "output_type": "display_data"
    }
   ],
   "source": [
    "unique(data.tools)"
   ]
  },
  {
   "cell_type": "code",
   "execution_count": 9,
   "metadata": {},
   "outputs": [
    {
     "data": {
      "text/plain": [
       "2-element Vector{String31}:\n",
       " \"First aid supplies\"\n",
       " \"No first aid supplies\""
      ]
     },
     "metadata": {},
     "output_type": "display_data"
    }
   ],
   "source": [
    "unique(data.firstaid)"
   ]
  },
  {
   "cell_type": "code",
   "execution_count": 10,
   "metadata": {},
   "outputs": [
    {
     "data": {
      "text/plain": [
       "2-element Vector{String15}:\n",
       " \"Sanitation\"\n",
       " \"No sanitation\""
      ]
     },
     "metadata": {},
     "output_type": "display_data"
    }
   ],
   "source": [
    "unique(data.sanitation)"
   ]
  },
  {
   "cell_type": "code",
   "execution_count": 11,
   "metadata": {},
   "outputs": [
    {
     "data": {
      "text/plain": [
       "2-element Vector{String15}:\n",
       " \"Clothing\"\n",
       " \"NA\""
      ]
     },
     "metadata": {},
     "output_type": "display_data"
    }
   ],
   "source": [
    "unique(data.clothing)"
   ]
  },
  {
   "cell_type": "code",
   "execution_count": 12,
   "metadata": {},
   "outputs": [
    {
     "data": {
      "text/plain": [
       "2-element Vector{String15}:\n",
       " \"NA\"\n",
       " \"Documents\""
      ]
     },
     "metadata": {},
     "output_type": "display_data"
    }
   ],
   "source": [
    "unique(data.documents)"
   ]
  },
  {
   "cell_type": "code",
   "execution_count": 13,
   "metadata": {},
   "outputs": [],
   "source": [
    "using GLMakie"
   ]
  },
  {
   "cell_type": "code",
   "execution_count": 14,
   "metadata": {},
   "outputs": [],
   "source": [
    "using DataFramesMeta\n",
    "using Chain\n",
    "using StatsBase"
   ]
  },
  {
   "cell_type": "code",
   "execution_count": 15,
   "metadata": {},
   "outputs": [
    {
     "data": {
      "text/plain": [
       "OrderedCollections.OrderedDict{Int64, Int64} with 62 entries:\n",
       "  18 => 4\n",
       "  19 => 4\n",
       "  20 => 3\n",
       "  21 => 5\n",
       "  22 => 1\n",
       "  23 => 4\n",
       "  24 => 5\n",
       "  25 => 7\n",
       "  26 => 4\n",
       "  27 => 2\n",
       "  28 => 6\n",
       "  29 => 6\n",
       "  30 => 4\n",
       "  31 => 2\n",
       "  32 => 8\n",
       "  33 => 3\n",
       "  34 => 2\n",
       "  35 => 2\n",
       "  36 => 5\n",
       "  ⋮  => ⋮"
      ]
     },
     "metadata": {},
     "output_type": "display_data"
    }
   ],
   "source": [
    "unique(data.age)\n",
    "dict_age = sort(countmap(data.age))"
   ]
  },
  {
   "cell_type": "code",
   "execution_count": 16,
   "metadata": {},
   "outputs": [
    {
     "data": {
      "text/plain": [
       "62-element Vector{Int64}:\n",
       " 4\n",
       " 4\n",
       " 3\n",
       " 5\n",
       " 1\n",
       " 4\n",
       " 5\n",
       " 7\n",
       " 4\n",
       " 2\n",
       " ⋮\n",
       " 1\n",
       " 2\n",
       " 3\n",
       " 1\n",
       " 2\n",
       " 1\n",
       " 2\n",
       " 1\n",
       " 1"
      ]
     },
     "metadata": {},
     "output_type": "display_data"
    }
   ],
   "source": [
    "collect(values(dict_age))"
   ]
  },
  {
   "cell_type": "code",
   "execution_count": 18,
   "metadata": {},
   "outputs": [
    {
     "data": {
      "text/plain": [
       "GLMakie.Screen(...)"
      ]
     },
     "metadata": {},
     "output_type": "display_data"
    }
   ],
   "source": [
    "f, ax, plt = hist(data_grouped[1].age, color = (:blue, 0.5), label = \"Human\")\n",
    "hist!(ax, data_grouped[2].age, color = (:red, 0.5), label = \"Zombie\")\n",
    "axislegend(ax)\n",
    "display(f)"
   ]
  },
  {
   "cell_type": "code",
   "execution_count": 17,
   "metadata": {},
   "outputs": [
    {
     "data": {
      "text/html": [
       "<p><b>GroupedDataFrame with 2 groups based on key: zombie</b></p><div><div style = \"float: left;\"><span>First Group (121 rows): zombie = &quot;Human&quot;</span></div><div style = \"float: right;\"><span style = \"font-style: italic;\">96 rows omitted</span></div><div style = \"clear: both;\"></div></div><div class = \"data-frame\" style = \"overflow-x: scroll;\"><table class = \"data-frame\" style = \"margin-bottom: 6px;\"><thead><tr class = \"header\"><th class = \"rowNumber\" style = \"font-weight: bold; text-align: right;\">Row</th><th style = \"text-align: left;\">zombieid</th><th style = \"text-align: left;\">zombie</th><th style = \"text-align: left;\">age</th><th style = \"text-align: left;\">sex</th><th style = \"text-align: left;\">rurality</th><th style = \"text-align: left;\">household</th><th style = \"text-align: left;\">water</th><th style = \"text-align: left;\">food</th><th style = \"text-align: left;\">medication</th><th style = \"text-align: left;\">tools</th><th style = \"text-align: left;\">firstaid</th><th style = \"text-align: left;\">sanitation</th><th style = \"text-align: left;\">clothing</th><th style = \"text-align: left;\">documents</th></tr><tr class = \"subheader headerLastRow\"><th class = \"rowNumber\" style = \"font-weight: bold; text-align: right;\"></th><th title = \"Int64\" style = \"text-align: left;\">Int64</th><th title = \"String7\" style = \"text-align: left;\">String7</th><th title = \"Int64\" style = \"text-align: left;\">Int64</th><th title = \"String7\" style = \"text-align: left;\">String7</th><th title = \"String15\" style = \"text-align: left;\">String15</th><th title = \"Int64\" style = \"text-align: left;\">Int64</th><th title = \"Int64\" style = \"text-align: left;\">Int64</th><th title = \"String7\" style = \"text-align: left;\">String7</th><th title = \"String15\" style = \"text-align: left;\">String15</th><th title = \"String15\" style = \"text-align: left;\">String15</th><th title = \"String31\" style = \"text-align: left;\">String31</th><th title = \"String15\" style = \"text-align: left;\">String15</th><th title = \"String15\" style = \"text-align: left;\">String15</th><th title = \"String15\" style = \"text-align: left;\">String15</th></tr></thead><tbody><tr><td class = \"rowNumber\" style = \"font-weight: bold; text-align: right;\">1</td><td style = \"text-align: right;\">1</td><td style = \"text-align: left;\">Human</td><td style = \"text-align: right;\">18</td><td style = \"text-align: left;\">Female</td><td style = \"text-align: left;\">Rural</td><td style = \"text-align: right;\">1</td><td style = \"text-align: right;\">0</td><td style = \"text-align: left;\">Food</td><td style = \"text-align: left;\">Medication</td><td style = \"text-align: left;\">No tools</td><td style = \"text-align: left;\">First aid supplies</td><td style = \"text-align: left;\">Sanitation</td><td style = \"text-align: left;\">Clothing</td><td style = \"text-align: left;\">NA</td></tr><tr><td class = \"rowNumber\" style = \"font-weight: bold; text-align: right;\">2</td><td style = \"text-align: right;\">2</td><td style = \"text-align: left;\">Human</td><td style = \"text-align: right;\">18</td><td style = \"text-align: left;\">Male</td><td style = \"text-align: left;\">Rural</td><td style = \"text-align: right;\">3</td><td style = \"text-align: right;\">24</td><td style = \"text-align: left;\">Food</td><td style = \"text-align: left;\">Medication</td><td style = \"text-align: left;\">tools</td><td style = \"text-align: left;\">First aid supplies</td><td style = \"text-align: left;\">Sanitation</td><td style = \"text-align: left;\">Clothing</td><td style = \"text-align: left;\">NA</td></tr><tr><td class = \"rowNumber\" style = \"font-weight: bold; text-align: right;\">3</td><td style = \"text-align: right;\">3</td><td style = \"text-align: left;\">Human</td><td style = \"text-align: right;\">18</td><td style = \"text-align: left;\">Male</td><td style = \"text-align: left;\">Rural</td><td style = \"text-align: right;\">4</td><td style = \"text-align: right;\">16</td><td style = \"text-align: left;\">Food</td><td style = \"text-align: left;\">Medication</td><td style = \"text-align: left;\">No tools</td><td style = \"text-align: left;\">First aid supplies</td><td style = \"text-align: left;\">Sanitation</td><td style = \"text-align: left;\">Clothing</td><td style = \"text-align: left;\">NA</td></tr><tr><td class = \"rowNumber\" style = \"font-weight: bold; text-align: right;\">4</td><td style = \"text-align: right;\">4</td><td style = \"text-align: left;\">Human</td><td style = \"text-align: right;\">19</td><td style = \"text-align: left;\">Male</td><td style = \"text-align: left;\">Rural</td><td style = \"text-align: right;\">1</td><td style = \"text-align: right;\">0</td><td style = \"text-align: left;\">Food</td><td style = \"text-align: left;\">Medication</td><td style = \"text-align: left;\">tools</td><td style = \"text-align: left;\">No first aid supplies</td><td style = \"text-align: left;\">Sanitation</td><td style = \"text-align: left;\">Clothing</td><td style = \"text-align: left;\">NA</td></tr><tr><td class = \"rowNumber\" style = \"font-weight: bold; text-align: right;\">5</td><td style = \"text-align: right;\">5</td><td style = \"text-align: left;\">Human</td><td style = \"text-align: right;\">19</td><td style = \"text-align: left;\">Male</td><td style = \"text-align: left;\">Urban</td><td style = \"text-align: right;\">1</td><td style = \"text-align: right;\">0</td><td style = \"text-align: left;\">Food</td><td style = \"text-align: left;\">Medication</td><td style = \"text-align: left;\">No tools</td><td style = \"text-align: left;\">First aid supplies</td><td style = \"text-align: left;\">Sanitation</td><td style = \"text-align: left;\">NA</td><td style = \"text-align: left;\">NA</td></tr><tr><td class = \"rowNumber\" style = \"font-weight: bold; text-align: right;\">6</td><td style = \"text-align: right;\">6</td><td style = \"text-align: left;\">Human</td><td style = \"text-align: right;\">19</td><td style = \"text-align: left;\">Female</td><td style = \"text-align: left;\">Urban</td><td style = \"text-align: right;\">1</td><td style = \"text-align: right;\">0</td><td style = \"text-align: left;\">Food</td><td style = \"text-align: left;\">Medication</td><td style = \"text-align: left;\">tools</td><td style = \"text-align: left;\">First aid supplies</td><td style = \"text-align: left;\">Sanitation</td><td style = \"text-align: left;\">Clothing</td><td style = \"text-align: left;\">NA</td></tr><tr><td class = \"rowNumber\" style = \"font-weight: bold; text-align: right;\">7</td><td style = \"text-align: right;\">7</td><td style = \"text-align: left;\">Human</td><td style = \"text-align: right;\">20</td><td style = \"text-align: left;\">Female</td><td style = \"text-align: left;\">Suburban</td><td style = \"text-align: right;\">2</td><td style = \"text-align: right;\">0</td><td style = \"text-align: left;\">No food</td><td style = \"text-align: left;\">Medication</td><td style = \"text-align: left;\">No tools</td><td style = \"text-align: left;\">First aid supplies</td><td style = \"text-align: left;\">Sanitation</td><td style = \"text-align: left;\">Clothing</td><td style = \"text-align: left;\">NA</td></tr><tr><td class = \"rowNumber\" style = \"font-weight: bold; text-align: right;\">8</td><td style = \"text-align: right;\">8</td><td style = \"text-align: left;\">Human</td><td style = \"text-align: right;\">20</td><td style = \"text-align: left;\">Female</td><td style = \"text-align: left;\">Rural</td><td style = \"text-align: right;\">2</td><td style = \"text-align: right;\">0</td><td style = \"text-align: left;\">Food</td><td style = \"text-align: left;\">No medication</td><td style = \"text-align: left;\">No tools</td><td style = \"text-align: left;\">No first aid supplies</td><td style = \"text-align: left;\">Sanitation</td><td style = \"text-align: left;\">Clothing</td><td style = \"text-align: left;\">NA</td></tr><tr><td class = \"rowNumber\" style = \"font-weight: bold; text-align: right;\">9</td><td style = \"text-align: right;\">9</td><td style = \"text-align: left;\">Human</td><td style = \"text-align: right;\">21</td><td style = \"text-align: left;\">Female</td><td style = \"text-align: left;\">Urban</td><td style = \"text-align: right;\">1</td><td style = \"text-align: right;\">8</td><td style = \"text-align: left;\">No food</td><td style = \"text-align: left;\">No medication</td><td style = \"text-align: left;\">tools</td><td style = \"text-align: left;\">First aid supplies</td><td style = \"text-align: left;\">Sanitation</td><td style = \"text-align: left;\">Clothing</td><td style = \"text-align: left;\">Documents</td></tr><tr><td class = \"rowNumber\" style = \"font-weight: bold; text-align: right;\">10</td><td style = \"text-align: right;\">10</td><td style = \"text-align: left;\">Human</td><td style = \"text-align: right;\">21</td><td style = \"text-align: left;\">Female</td><td style = \"text-align: left;\">Rural</td><td style = \"text-align: right;\">2</td><td style = \"text-align: right;\">8</td><td style = \"text-align: left;\">No food</td><td style = \"text-align: left;\">No medication</td><td style = \"text-align: left;\">tools</td><td style = \"text-align: left;\">First aid supplies</td><td style = \"text-align: left;\">Sanitation</td><td style = \"text-align: left;\">Clothing</td><td style = \"text-align: left;\">Documents</td></tr><tr><td class = \"rowNumber\" style = \"font-weight: bold; text-align: right;\">11</td><td style = \"text-align: right;\">11</td><td style = \"text-align: left;\">Human</td><td style = \"text-align: right;\">21</td><td style = \"text-align: left;\">Male</td><td style = \"text-align: left;\">Rural</td><td style = \"text-align: right;\">1</td><td style = \"text-align: right;\">8</td><td style = \"text-align: left;\">Food</td><td style = \"text-align: left;\">No medication</td><td style = \"text-align: left;\">No tools</td><td style = \"text-align: left;\">First aid supplies</td><td style = \"text-align: left;\">No sanitation</td><td style = \"text-align: left;\">NA</td><td style = \"text-align: left;\">NA</td></tr><tr><td class = \"rowNumber\" style = \"font-weight: bold; text-align: right;\">12</td><td style = \"text-align: right;\">12</td><td style = \"text-align: left;\">Human</td><td style = \"text-align: right;\">21</td><td style = \"text-align: left;\">Male</td><td style = \"text-align: left;\">Rural</td><td style = \"text-align: right;\">2</td><td style = \"text-align: right;\">16</td><td style = \"text-align: left;\">No food</td><td style = \"text-align: left;\">Medication</td><td style = \"text-align: left;\">No tools</td><td style = \"text-align: left;\">No first aid supplies</td><td style = \"text-align: left;\">Sanitation</td><td style = \"text-align: left;\">Clothing</td><td style = \"text-align: left;\">Documents</td></tr><tr><td class = \"rowNumber\" style = \"font-weight: bold; text-align: right;\">13</td><td style = \"text-align: right;\">13</td><td style = \"text-align: left;\">Human</td><td style = \"text-align: right;\">22</td><td style = \"text-align: left;\">Male</td><td style = \"text-align: left;\">Suburban</td><td style = \"text-align: right;\">2</td><td style = \"text-align: right;\">16</td><td style = \"text-align: left;\">Food</td><td style = \"text-align: left;\">Medication</td><td style = \"text-align: left;\">No tools</td><td style = \"text-align: left;\">First aid supplies</td><td style = \"text-align: left;\">Sanitation</td><td style = \"text-align: left;\">Clothing</td><td style = \"text-align: left;\">Documents</td></tr><tr><td style = \"text-align: right;\">&vellip;</td><td style = \"text-align: right;\">&vellip;</td><td style = \"text-align: right;\">&vellip;</td><td style = \"text-align: right;\">&vellip;</td><td style = \"text-align: right;\">&vellip;</td><td style = \"text-align: right;\">&vellip;</td><td style = \"text-align: right;\">&vellip;</td><td style = \"text-align: right;\">&vellip;</td><td style = \"text-align: right;\">&vellip;</td><td style = \"text-align: right;\">&vellip;</td><td style = \"text-align: right;\">&vellip;</td><td style = \"text-align: right;\">&vellip;</td><td style = \"text-align: right;\">&vellip;</td><td style = \"text-align: right;\">&vellip;</td><td style = \"text-align: right;\">&vellip;</td></tr><tr><td class = \"rowNumber\" style = \"font-weight: bold; text-align: right;\">110</td><td style = \"text-align: right;\">110</td><td style = \"text-align: left;\">Human</td><td style = \"text-align: right;\">63</td><td style = \"text-align: left;\">Female</td><td style = \"text-align: left;\">Rural</td><td style = \"text-align: right;\">1</td><td style = \"text-align: right;\">0</td><td style = \"text-align: left;\">Food</td><td style = \"text-align: left;\">Medication</td><td style = \"text-align: left;\">No tools</td><td style = \"text-align: left;\">First aid supplies</td><td style = \"text-align: left;\">Sanitation</td><td style = \"text-align: left;\">Clothing</td><td style = \"text-align: left;\">Documents</td></tr><tr><td class = \"rowNumber\" style = \"font-weight: bold; text-align: right;\">111</td><td style = \"text-align: right;\">111</td><td style = \"text-align: left;\">Human</td><td style = \"text-align: right;\">65</td><td style = \"text-align: left;\">Female</td><td style = \"text-align: left;\">Rural</td><td style = \"text-align: right;\">2</td><td style = \"text-align: right;\">16</td><td style = \"text-align: left;\">Food</td><td style = \"text-align: left;\">No medication</td><td style = \"text-align: left;\">tools</td><td style = \"text-align: left;\">No first aid supplies</td><td style = \"text-align: left;\">No sanitation</td><td style = \"text-align: left;\">NA</td><td style = \"text-align: left;\">NA</td></tr><tr><td class = \"rowNumber\" style = \"font-weight: bold; text-align: right;\">112</td><td style = \"text-align: right;\">112</td><td style = \"text-align: left;\">Human</td><td style = \"text-align: right;\">67</td><td style = \"text-align: left;\">Male</td><td style = \"text-align: left;\">Rural</td><td style = \"text-align: right;\">2</td><td style = \"text-align: right;\">16</td><td style = \"text-align: left;\">No food</td><td style = \"text-align: left;\">No medication</td><td style = \"text-align: left;\">tools</td><td style = \"text-align: left;\">No first aid supplies</td><td style = \"text-align: left;\">No sanitation</td><td style = \"text-align: left;\">NA</td><td style = \"text-align: left;\">NA</td></tr><tr><td class = \"rowNumber\" style = \"font-weight: bold; text-align: right;\">113</td><td style = \"text-align: right;\">113</td><td style = \"text-align: left;\">Human</td><td style = \"text-align: right;\">68</td><td style = \"text-align: left;\">Male</td><td style = \"text-align: left;\">Rural</td><td style = \"text-align: right;\">2</td><td style = \"text-align: right;\">8</td><td style = \"text-align: left;\">No food</td><td style = \"text-align: left;\">Medication</td><td style = \"text-align: left;\">No tools</td><td style = \"text-align: left;\">First aid supplies</td><td style = \"text-align: left;\">Sanitation</td><td style = \"text-align: left;\">Clothing</td><td style = \"text-align: left;\">Documents</td></tr><tr><td class = \"rowNumber\" style = \"font-weight: bold; text-align: right;\">114</td><td style = \"text-align: right;\">114</td><td style = \"text-align: left;\">Human</td><td style = \"text-align: right;\">69</td><td style = \"text-align: left;\">Female</td><td style = \"text-align: left;\">Rural</td><td style = \"text-align: right;\">2</td><td style = \"text-align: right;\">8</td><td style = \"text-align: left;\">Food</td><td style = \"text-align: left;\">Medication</td><td style = \"text-align: left;\">No tools</td><td style = \"text-align: left;\">First aid supplies</td><td style = \"text-align: left;\">No sanitation</td><td style = \"text-align: left;\">NA</td><td style = \"text-align: left;\">NA</td></tr><tr><td class = \"rowNumber\" style = \"font-weight: bold; text-align: right;\">115</td><td style = \"text-align: right;\">115</td><td style = \"text-align: left;\">Human</td><td style = \"text-align: right;\">71</td><td style = \"text-align: left;\">Female</td><td style = \"text-align: left;\">Urban</td><td style = \"text-align: right;\">2</td><td style = \"text-align: right;\">8</td><td style = \"text-align: left;\">Food</td><td style = \"text-align: left;\">Medication</td><td style = \"text-align: left;\">No tools</td><td style = \"text-align: left;\">No first aid supplies</td><td style = \"text-align: left;\">Sanitation</td><td style = \"text-align: left;\">Clothing</td><td style = \"text-align: left;\">Documents</td></tr><tr><td class = \"rowNumber\" style = \"font-weight: bold; text-align: right;\">116</td><td style = \"text-align: right;\">116</td><td style = \"text-align: left;\">Human</td><td style = \"text-align: right;\">72</td><td style = \"text-align: left;\">Male</td><td style = \"text-align: left;\">Suburban</td><td style = \"text-align: right;\">2</td><td style = \"text-align: right;\">0</td><td style = \"text-align: left;\">Food</td><td style = \"text-align: left;\">Medication</td><td style = \"text-align: left;\">tools</td><td style = \"text-align: left;\">No first aid supplies</td><td style = \"text-align: left;\">No sanitation</td><td style = \"text-align: left;\">Clothing</td><td style = \"text-align: left;\">NA</td></tr><tr><td class = \"rowNumber\" style = \"font-weight: bold; text-align: right;\">117</td><td style = \"text-align: right;\">117</td><td style = \"text-align: left;\">Human</td><td style = \"text-align: right;\">74</td><td style = \"text-align: left;\">Male</td><td style = \"text-align: left;\">Suburban</td><td style = \"text-align: right;\">1</td><td style = \"text-align: right;\">0</td><td style = \"text-align: left;\">Food</td><td style = \"text-align: left;\">Medication</td><td style = \"text-align: left;\">tools</td><td style = \"text-align: left;\">First aid supplies</td><td style = \"text-align: left;\">No sanitation</td><td style = \"text-align: left;\">Clothing</td><td style = \"text-align: left;\">NA</td></tr><tr><td class = \"rowNumber\" style = \"font-weight: bold; text-align: right;\">118</td><td style = \"text-align: right;\">118</td><td style = \"text-align: left;\">Human</td><td style = \"text-align: right;\">75</td><td style = \"text-align: left;\">Female</td><td style = \"text-align: left;\">Rural</td><td style = \"text-align: right;\">1</td><td style = \"text-align: right;\">8</td><td style = \"text-align: left;\">Food</td><td style = \"text-align: left;\">No medication</td><td style = \"text-align: left;\">tools</td><td style = \"text-align: left;\">First aid supplies</td><td style = \"text-align: left;\">No sanitation</td><td style = \"text-align: left;\">NA</td><td style = \"text-align: left;\">NA</td></tr><tr><td class = \"rowNumber\" style = \"font-weight: bold; text-align: right;\">119</td><td style = \"text-align: right;\">119</td><td style = \"text-align: left;\">Human</td><td style = \"text-align: right;\">77</td><td style = \"text-align: left;\">Female</td><td style = \"text-align: left;\">Rural</td><td style = \"text-align: right;\">1</td><td style = \"text-align: right;\">8</td><td style = \"text-align: left;\">Food</td><td style = \"text-align: left;\">Medication</td><td style = \"text-align: left;\">No tools</td><td style = \"text-align: left;\">No first aid supplies</td><td style = \"text-align: left;\">No sanitation</td><td style = \"text-align: left;\">NA</td><td style = \"text-align: left;\">NA</td></tr><tr><td class = \"rowNumber\" style = \"font-weight: bold; text-align: right;\">120</td><td style = \"text-align: right;\">120</td><td style = \"text-align: left;\">Human</td><td style = \"text-align: right;\">81</td><td style = \"text-align: left;\">Male</td><td style = \"text-align: left;\">Rural</td><td style = \"text-align: right;\">1</td><td style = \"text-align: right;\">8</td><td style = \"text-align: left;\">Food</td><td style = \"text-align: left;\">Medication</td><td style = \"text-align: left;\">tools</td><td style = \"text-align: left;\">No first aid supplies</td><td style = \"text-align: left;\">No sanitation</td><td style = \"text-align: left;\">NA</td><td style = \"text-align: left;\">NA</td></tr><tr><td class = \"rowNumber\" style = \"font-weight: bold; text-align: right;\">121</td><td style = \"text-align: right;\">121</td><td style = \"text-align: left;\">Human</td><td style = \"text-align: right;\">32</td><td style = \"text-align: left;\">Male</td><td style = \"text-align: left;\">Rural</td><td style = \"text-align: right;\">2</td><td style = \"text-align: right;\">8</td><td style = \"text-align: left;\">Food</td><td style = \"text-align: left;\">No medication</td><td style = \"text-align: left;\">No tools</td><td style = \"text-align: left;\">First aid supplies</td><td style = \"text-align: left;\">Sanitation</td><td style = \"text-align: left;\">Clothing</td><td style = \"text-align: left;\">Documents</td></tr></tbody></table></div><p>&vellip;</p><div><div style = \"float: left;\"><span>Last Group (79 rows): zombie = &quot;Zombie&quot;</span></div><div style = \"float: right;\"><span style = \"font-style: italic;\">54 rows omitted</span></div><div style = \"clear: both;\"></div></div><div class = \"data-frame\" style = \"overflow-x: scroll;\"><table class = \"data-frame\" style = \"margin-bottom: 6px;\"><thead><tr class = \"header\"><th class = \"rowNumber\" style = \"font-weight: bold; text-align: right;\">Row</th><th style = \"text-align: left;\">zombieid</th><th style = \"text-align: left;\">zombie</th><th style = \"text-align: left;\">age</th><th style = \"text-align: left;\">sex</th><th style = \"text-align: left;\">rurality</th><th style = \"text-align: left;\">household</th><th style = \"text-align: left;\">water</th><th style = \"text-align: left;\">food</th><th style = \"text-align: left;\">medication</th><th style = \"text-align: left;\">tools</th><th style = \"text-align: left;\">firstaid</th><th style = \"text-align: left;\">sanitation</th><th style = \"text-align: left;\">clothing</th><th style = \"text-align: left;\">documents</th></tr><tr class = \"subheader headerLastRow\"><th class = \"rowNumber\" style = \"font-weight: bold; text-align: right;\"></th><th title = \"Int64\" style = \"text-align: left;\">Int64</th><th title = \"String7\" style = \"text-align: left;\">String7</th><th title = \"Int64\" style = \"text-align: left;\">Int64</th><th title = \"String7\" style = \"text-align: left;\">String7</th><th title = \"String15\" style = \"text-align: left;\">String15</th><th title = \"Int64\" style = \"text-align: left;\">Int64</th><th title = \"Int64\" style = \"text-align: left;\">Int64</th><th title = \"String7\" style = \"text-align: left;\">String7</th><th title = \"String15\" style = \"text-align: left;\">String15</th><th title = \"String15\" style = \"text-align: left;\">String15</th><th title = \"String31\" style = \"text-align: left;\">String31</th><th title = \"String15\" style = \"text-align: left;\">String15</th><th title = \"String15\" style = \"text-align: left;\">String15</th><th title = \"String15\" style = \"text-align: left;\">String15</th></tr></thead><tbody><tr><td class = \"rowNumber\" style = \"font-weight: bold; text-align: right;\">1</td><td style = \"text-align: right;\">122</td><td style = \"text-align: left;\">Zombie</td><td style = \"text-align: right;\">20</td><td style = \"text-align: left;\">Female</td><td style = \"text-align: left;\">Urban</td><td style = \"text-align: right;\">2</td><td style = \"text-align: right;\">0</td><td style = \"text-align: left;\">Food</td><td style = \"text-align: left;\">No medication</td><td style = \"text-align: left;\">tools</td><td style = \"text-align: left;\">First aid supplies</td><td style = \"text-align: left;\">No sanitation</td><td style = \"text-align: left;\">Clothing</td><td style = \"text-align: left;\">NA</td></tr><tr><td class = \"rowNumber\" style = \"font-weight: bold; text-align: right;\">2</td><td style = \"text-align: right;\">123</td><td style = \"text-align: left;\">Zombie</td><td style = \"text-align: right;\">23</td><td style = \"text-align: left;\">Male</td><td style = \"text-align: left;\">Suburban</td><td style = \"text-align: right;\">3</td><td style = \"text-align: right;\">0</td><td style = \"text-align: left;\">No food</td><td style = \"text-align: left;\">No medication</td><td style = \"text-align: left;\">No tools</td><td style = \"text-align: left;\">No first aid supplies</td><td style = \"text-align: left;\">No sanitation</td><td style = \"text-align: left;\">Clothing</td><td style = \"text-align: left;\">NA</td></tr><tr><td class = \"rowNumber\" style = \"font-weight: bold; text-align: right;\">3</td><td style = \"text-align: right;\">124</td><td style = \"text-align: left;\">Zombie</td><td style = \"text-align: right;\">25</td><td style = \"text-align: left;\">Female</td><td style = \"text-align: left;\">Rural</td><td style = \"text-align: right;\">5</td><td style = \"text-align: right;\">0</td><td style = \"text-align: left;\">No food</td><td style = \"text-align: left;\">No medication</td><td style = \"text-align: left;\">No tools</td><td style = \"text-align: left;\">No first aid supplies</td><td style = \"text-align: left;\">No sanitation</td><td style = \"text-align: left;\">Clothing</td><td style = \"text-align: left;\">NA</td></tr><tr><td class = \"rowNumber\" style = \"font-weight: bold; text-align: right;\">4</td><td style = \"text-align: right;\">125</td><td style = \"text-align: left;\">Zombie</td><td style = \"text-align: right;\">28</td><td style = \"text-align: left;\">Female</td><td style = \"text-align: left;\">Suburban</td><td style = \"text-align: right;\">3</td><td style = \"text-align: right;\">0</td><td style = \"text-align: left;\">No food</td><td style = \"text-align: left;\">Medication</td><td style = \"text-align: left;\">tools</td><td style = \"text-align: left;\">First aid supplies</td><td style = \"text-align: left;\">No sanitation</td><td style = \"text-align: left;\">Clothing</td><td style = \"text-align: left;\">NA</td></tr><tr><td class = \"rowNumber\" style = \"font-weight: bold; text-align: right;\">5</td><td style = \"text-align: right;\">126</td><td style = \"text-align: left;\">Zombie</td><td style = \"text-align: right;\">31</td><td style = \"text-align: left;\">Female</td><td style = \"text-align: left;\">Rural</td><td style = \"text-align: right;\">4</td><td style = \"text-align: right;\">0</td><td style = \"text-align: left;\">No food</td><td style = \"text-align: left;\">No medication</td><td style = \"text-align: left;\">tools</td><td style = \"text-align: left;\">First aid supplies</td><td style = \"text-align: left;\">No sanitation</td><td style = \"text-align: left;\">Clothing</td><td style = \"text-align: left;\">NA</td></tr><tr><td class = \"rowNumber\" style = \"font-weight: bold; text-align: right;\">6</td><td style = \"text-align: right;\">127</td><td style = \"text-align: left;\">Zombie</td><td style = \"text-align: right;\">32</td><td style = \"text-align: left;\">Male</td><td style = \"text-align: left;\">Suburban</td><td style = \"text-align: right;\">4</td><td style = \"text-align: right;\">0</td><td style = \"text-align: left;\">No food</td><td style = \"text-align: left;\">No medication</td><td style = \"text-align: left;\">No tools</td><td style = \"text-align: left;\">No first aid supplies</td><td style = \"text-align: left;\">Sanitation</td><td style = \"text-align: left;\">NA</td><td style = \"text-align: left;\">Documents</td></tr><tr><td class = \"rowNumber\" style = \"font-weight: bold; text-align: right;\">7</td><td style = \"text-align: right;\">128</td><td style = \"text-align: left;\">Zombie</td><td style = \"text-align: right;\">42</td><td style = \"text-align: left;\">Male</td><td style = \"text-align: left;\">Rural</td><td style = \"text-align: right;\">4</td><td style = \"text-align: right;\">8</td><td style = \"text-align: left;\">No food</td><td style = \"text-align: left;\">No medication</td><td style = \"text-align: left;\">No tools</td><td style = \"text-align: left;\">No first aid supplies</td><td style = \"text-align: left;\">Sanitation</td><td style = \"text-align: left;\">Clothing</td><td style = \"text-align: left;\">Documents</td></tr><tr><td class = \"rowNumber\" style = \"font-weight: bold; text-align: right;\">8</td><td style = \"text-align: right;\">129</td><td style = \"text-align: left;\">Zombie</td><td style = \"text-align: right;\">43</td><td style = \"text-align: left;\">Male</td><td style = \"text-align: left;\">Urban</td><td style = \"text-align: right;\">5</td><td style = \"text-align: right;\">8</td><td style = \"text-align: left;\">No food</td><td style = \"text-align: left;\">No medication</td><td style = \"text-align: left;\">tools</td><td style = \"text-align: left;\">First aid supplies</td><td style = \"text-align: left;\">No sanitation</td><td style = \"text-align: left;\">Clothing</td><td style = \"text-align: left;\">NA</td></tr><tr><td class = \"rowNumber\" style = \"font-weight: bold; text-align: right;\">9</td><td style = \"text-align: right;\">130</td><td style = \"text-align: left;\">Zombie</td><td style = \"text-align: right;\">44</td><td style = \"text-align: left;\">Male</td><td style = \"text-align: left;\">Rural</td><td style = \"text-align: right;\">5</td><td style = \"text-align: right;\">8</td><td style = \"text-align: left;\">Food</td><td style = \"text-align: left;\">No medication</td><td style = \"text-align: left;\">tools</td><td style = \"text-align: left;\">First aid supplies</td><td style = \"text-align: left;\">No sanitation</td><td style = \"text-align: left;\">Clothing</td><td style = \"text-align: left;\">NA</td></tr><tr><td class = \"rowNumber\" style = \"font-weight: bold; text-align: right;\">10</td><td style = \"text-align: right;\">131</td><td style = \"text-align: left;\">Zombie</td><td style = \"text-align: right;\">45</td><td style = \"text-align: left;\">Male</td><td style = \"text-align: left;\">Urban</td><td style = \"text-align: right;\">4</td><td style = \"text-align: right;\">0</td><td style = \"text-align: left;\">Food</td><td style = \"text-align: left;\">Medication</td><td style = \"text-align: left;\">No tools</td><td style = \"text-align: left;\">No first aid supplies</td><td style = \"text-align: left;\">No sanitation</td><td style = \"text-align: left;\">Clothing</td><td style = \"text-align: left;\">NA</td></tr><tr><td class = \"rowNumber\" style = \"font-weight: bold; text-align: right;\">11</td><td style = \"text-align: right;\">132</td><td style = \"text-align: left;\">Zombie</td><td style = \"text-align: right;\">47</td><td style = \"text-align: left;\">Female</td><td style = \"text-align: left;\">Urban</td><td style = \"text-align: right;\">2</td><td style = \"text-align: right;\">0</td><td style = \"text-align: left;\">No food</td><td style = \"text-align: left;\">Medication</td><td style = \"text-align: left;\">No tools</td><td style = \"text-align: left;\">No first aid supplies</td><td style = \"text-align: left;\">No sanitation</td><td style = \"text-align: left;\">Clothing</td><td style = \"text-align: left;\">NA</td></tr><tr><td class = \"rowNumber\" style = \"font-weight: bold; text-align: right;\">12</td><td style = \"text-align: right;\">133</td><td style = \"text-align: left;\">Zombie</td><td style = \"text-align: right;\">48</td><td style = \"text-align: left;\">Female</td><td style = \"text-align: left;\">Suburban</td><td style = \"text-align: right;\">3</td><td style = \"text-align: right;\">0</td><td style = \"text-align: left;\">No food</td><td style = \"text-align: left;\">No medication</td><td style = \"text-align: left;\">No tools</td><td style = \"text-align: left;\">First aid supplies</td><td style = \"text-align: left;\">No sanitation</td><td style = \"text-align: left;\">Clothing</td><td style = \"text-align: left;\">NA</td></tr><tr><td class = \"rowNumber\" style = \"font-weight: bold; text-align: right;\">13</td><td style = \"text-align: right;\">134</td><td style = \"text-align: left;\">Zombie</td><td style = \"text-align: right;\">48</td><td style = \"text-align: left;\">Female</td><td style = \"text-align: left;\">Urban</td><td style = \"text-align: right;\">2</td><td style = \"text-align: right;\">0</td><td style = \"text-align: left;\">No food</td><td style = \"text-align: left;\">No medication</td><td style = \"text-align: left;\">tools</td><td style = \"text-align: left;\">First aid supplies</td><td style = \"text-align: left;\">Sanitation</td><td style = \"text-align: left;\">Clothing</td><td style = \"text-align: left;\">Documents</td></tr><tr><td style = \"text-align: right;\">&vellip;</td><td style = \"text-align: right;\">&vellip;</td><td style = \"text-align: right;\">&vellip;</td><td style = \"text-align: right;\">&vellip;</td><td style = \"text-align: right;\">&vellip;</td><td style = \"text-align: right;\">&vellip;</td><td style = \"text-align: right;\">&vellip;</td><td style = \"text-align: right;\">&vellip;</td><td style = \"text-align: right;\">&vellip;</td><td style = \"text-align: right;\">&vellip;</td><td style = \"text-align: right;\">&vellip;</td><td style = \"text-align: right;\">&vellip;</td><td style = \"text-align: right;\">&vellip;</td><td style = \"text-align: right;\">&vellip;</td><td style = \"text-align: right;\">&vellip;</td></tr><tr><td class = \"rowNumber\" style = \"font-weight: bold; text-align: right;\">68</td><td style = \"text-align: right;\">189</td><td style = \"text-align: left;\">Zombie</td><td style = \"text-align: right;\">32</td><td style = \"text-align: left;\">Male</td><td style = \"text-align: left;\">Urban</td><td style = \"text-align: right;\">3</td><td style = \"text-align: right;\">0</td><td style = \"text-align: left;\">No food</td><td style = \"text-align: left;\">No medication</td><td style = \"text-align: left;\">No tools</td><td style = \"text-align: left;\">First aid supplies</td><td style = \"text-align: left;\">No sanitation</td><td style = \"text-align: left;\">Clothing</td><td style = \"text-align: left;\">NA</td></tr><tr><td class = \"rowNumber\" style = \"font-weight: bold; text-align: right;\">69</td><td style = \"text-align: right;\">190</td><td style = \"text-align: left;\">Zombie</td><td style = \"text-align: right;\">41</td><td style = \"text-align: left;\">Female</td><td style = \"text-align: left;\">Rural</td><td style = \"text-align: right;\">5</td><td style = \"text-align: right;\">0</td><td style = \"text-align: left;\">No food</td><td style = \"text-align: left;\">No medication</td><td style = \"text-align: left;\">tools</td><td style = \"text-align: left;\">First aid supplies</td><td style = \"text-align: left;\">No sanitation</td><td style = \"text-align: left;\">Clothing</td><td style = \"text-align: left;\">NA</td></tr><tr><td class = \"rowNumber\" style = \"font-weight: bold; text-align: right;\">70</td><td style = \"text-align: right;\">191</td><td style = \"text-align: left;\">Zombie</td><td style = \"text-align: right;\">43</td><td style = \"text-align: left;\">Female</td><td style = \"text-align: left;\">Rural</td><td style = \"text-align: right;\">5</td><td style = \"text-align: right;\">0</td><td style = \"text-align: left;\">No food</td><td style = \"text-align: left;\">No medication</td><td style = \"text-align: left;\">No tools</td><td style = \"text-align: left;\">No first aid supplies</td><td style = \"text-align: left;\">Sanitation</td><td style = \"text-align: left;\">Clothing</td><td style = \"text-align: left;\">Documents</td></tr><tr><td class = \"rowNumber\" style = \"font-weight: bold; text-align: right;\">71</td><td style = \"text-align: right;\">192</td><td style = \"text-align: left;\">Zombie</td><td style = \"text-align: right;\">48</td><td style = \"text-align: left;\">Female</td><td style = \"text-align: left;\">Suburban</td><td style = \"text-align: right;\">4</td><td style = \"text-align: right;\">8</td><td style = \"text-align: left;\">No food</td><td style = \"text-align: left;\">No medication</td><td style = \"text-align: left;\">No tools</td><td style = \"text-align: left;\">No first aid supplies</td><td style = \"text-align: left;\">No sanitation</td><td style = \"text-align: left;\">NA</td><td style = \"text-align: left;\">NA</td></tr><tr><td class = \"rowNumber\" style = \"font-weight: bold; text-align: right;\">72</td><td style = \"text-align: right;\">193</td><td style = \"text-align: left;\">Zombie</td><td style = \"text-align: right;\">58</td><td style = \"text-align: left;\">Male</td><td style = \"text-align: left;\">Urban</td><td style = \"text-align: right;\">1</td><td style = \"text-align: right;\">0</td><td style = \"text-align: left;\">Food</td><td style = \"text-align: left;\">No medication</td><td style = \"text-align: left;\">tools</td><td style = \"text-align: left;\">First aid supplies</td><td style = \"text-align: left;\">No sanitation</td><td style = \"text-align: left;\">NA</td><td style = \"text-align: left;\">NA</td></tr><tr><td class = \"rowNumber\" style = \"font-weight: bold; text-align: right;\">73</td><td style = \"text-align: right;\">194</td><td style = \"text-align: left;\">Zombie</td><td style = \"text-align: right;\">65</td><td style = \"text-align: left;\">Male</td><td style = \"text-align: left;\">Urban</td><td style = \"text-align: right;\">1</td><td style = \"text-align: right;\">0</td><td style = \"text-align: left;\">No food</td><td style = \"text-align: left;\">No medication</td><td style = \"text-align: left;\">tools</td><td style = \"text-align: left;\">First aid supplies</td><td style = \"text-align: left;\">No sanitation</td><td style = \"text-align: left;\">NA</td><td style = \"text-align: left;\">NA</td></tr><tr><td class = \"rowNumber\" style = \"font-weight: bold; text-align: right;\">74</td><td style = \"text-align: right;\">195</td><td style = \"text-align: left;\">Zombie</td><td style = \"text-align: right;\">67</td><td style = \"text-align: left;\">Female</td><td style = \"text-align: left;\">Suburban</td><td style = \"text-align: right;\">2</td><td style = \"text-align: right;\">0</td><td style = \"text-align: left;\">No food</td><td style = \"text-align: left;\">No medication</td><td style = \"text-align: left;\">No tools</td><td style = \"text-align: left;\">No first aid supplies</td><td style = \"text-align: left;\">No sanitation</td><td style = \"text-align: left;\">NA</td><td style = \"text-align: left;\">NA</td></tr><tr><td class = \"rowNumber\" style = \"font-weight: bold; text-align: right;\">75</td><td style = \"text-align: right;\">196</td><td style = \"text-align: left;\">Zombie</td><td style = \"text-align: right;\">68</td><td style = \"text-align: left;\">Male</td><td style = \"text-align: left;\">Suburban</td><td style = \"text-align: right;\">1</td><td style = \"text-align: right;\">0</td><td style = \"text-align: left;\">Food</td><td style = \"text-align: left;\">No medication</td><td style = \"text-align: left;\">No tools</td><td style = \"text-align: left;\">No first aid supplies</td><td style = \"text-align: left;\">Sanitation</td><td style = \"text-align: left;\">Clothing</td><td style = \"text-align: left;\">Documents</td></tr><tr><td class = \"rowNumber\" style = \"font-weight: bold; text-align: right;\">76</td><td style = \"text-align: right;\">197</td><td style = \"text-align: left;\">Zombie</td><td style = \"text-align: right;\">71</td><td style = \"text-align: left;\">Male</td><td style = \"text-align: left;\">Suburban</td><td style = \"text-align: right;\">1</td><td style = \"text-align: right;\">8</td><td style = \"text-align: left;\">No food</td><td style = \"text-align: left;\">No medication</td><td style = \"text-align: left;\">tools</td><td style = \"text-align: left;\">First aid supplies</td><td style = \"text-align: left;\">No sanitation</td><td style = \"text-align: left;\">Clothing</td><td style = \"text-align: left;\">NA</td></tr><tr><td class = \"rowNumber\" style = \"font-weight: bold; text-align: right;\">77</td><td style = \"text-align: right;\">198</td><td style = \"text-align: left;\">Zombie</td><td style = \"text-align: right;\">76</td><td style = \"text-align: left;\">Female</td><td style = \"text-align: left;\">Urban</td><td style = \"text-align: right;\">1</td><td style = \"text-align: right;\">0</td><td style = \"text-align: left;\">No food</td><td style = \"text-align: left;\">No medication</td><td style = \"text-align: left;\">tools</td><td style = \"text-align: left;\">First aid supplies</td><td style = \"text-align: left;\">Sanitation</td><td style = \"text-align: left;\">Clothing</td><td style = \"text-align: left;\">Documents</td></tr><tr><td class = \"rowNumber\" style = \"font-weight: bold; text-align: right;\">78</td><td style = \"text-align: right;\">199</td><td style = \"text-align: left;\">Zombie</td><td style = \"text-align: right;\">82</td><td style = \"text-align: left;\">Male</td><td style = \"text-align: left;\">Urban</td><td style = \"text-align: right;\">1</td><td style = \"text-align: right;\">0</td><td style = \"text-align: left;\">No food</td><td style = \"text-align: left;\">No medication</td><td style = \"text-align: left;\">No tools</td><td style = \"text-align: left;\">No first aid supplies</td><td style = \"text-align: left;\">No sanitation</td><td style = \"text-align: left;\">NA</td><td style = \"text-align: left;\">NA</td></tr><tr><td class = \"rowNumber\" style = \"font-weight: bold; text-align: right;\">79</td><td style = \"text-align: right;\">200</td><td style = \"text-align: left;\">Zombie</td><td style = \"text-align: right;\">85</td><td style = \"text-align: left;\">Male</td><td style = \"text-align: left;\">Urban</td><td style = \"text-align: right;\">1</td><td style = \"text-align: right;\">0</td><td style = \"text-align: left;\">No food</td><td style = \"text-align: left;\">Medication</td><td style = \"text-align: left;\">No tools</td><td style = \"text-align: left;\">No first aid supplies</td><td style = \"text-align: left;\">Sanitation</td><td style = \"text-align: left;\">Clothing</td><td style = \"text-align: left;\">NA</td></tr></tbody></table></div>"
      ],
      "text/latex": [
       "GroupedDataFrame with 2 groups based on key: zombie\n",
       "\n",
       "First Group (121 rows): zombie = \"Human\"\n",
       "\n",
       "\\begin{tabular}{r|cccccccccccccc}\n",
       "\t& zombieid & zombie & age & sex & rurality & household & water & food & medication & tools & firstaid & sanitation & clothing & documents\\\\\n",
       "\t\\hline\n",
       "\t& Int64 & String7 & Int64 & String7 & String15 & Int64 & Int64 & String7 & String15 & String15 & String31 & String15 & String15 & String15\\\\\n",
       "\t\\hline\n",
       "\t1 & 1 & Human & 18 & Female & Rural & 1 & 0 & Food & Medication & No tools & First aid supplies & Sanitation & Clothing & NA \\\\\n",
       "\t2 & 2 & Human & 18 & Male & Rural & 3 & 24 & Food & Medication & tools & First aid supplies & Sanitation & Clothing & NA \\\\\n",
       "\t3 & 3 & Human & 18 & Male & Rural & 4 & 16 & Food & Medication & No tools & First aid supplies & Sanitation & Clothing & NA \\\\\n",
       "\t4 & 4 & Human & 19 & Male & Rural & 1 & 0 & Food & Medication & tools & No first aid supplies & Sanitation & Clothing & NA \\\\\n",
       "\t5 & 5 & Human & 19 & Male & Urban & 1 & 0 & Food & Medication & No tools & First aid supplies & Sanitation & NA & NA \\\\\n",
       "\t6 & 6 & Human & 19 & Female & Urban & 1 & 0 & Food & Medication & tools & First aid supplies & Sanitation & Clothing & NA \\\\\n",
       "\t7 & 7 & Human & 20 & Female & Suburban & 2 & 0 & No food & Medication & No tools & First aid supplies & Sanitation & Clothing & NA \\\\\n",
       "\t8 & 8 & Human & 20 & Female & Rural & 2 & 0 & Food & No medication & No tools & No first aid supplies & Sanitation & Clothing & NA \\\\\n",
       "\t9 & 9 & Human & 21 & Female & Urban & 1 & 8 & No food & No medication & tools & First aid supplies & Sanitation & Clothing & Documents \\\\\n",
       "\t10 & 10 & Human & 21 & Female & Rural & 2 & 8 & No food & No medication & tools & First aid supplies & Sanitation & Clothing & Documents \\\\\n",
       "\t11 & 11 & Human & 21 & Male & Rural & 1 & 8 & Food & No medication & No tools & First aid supplies & No sanitation & NA & NA \\\\\n",
       "\t12 & 12 & Human & 21 & Male & Rural & 2 & 16 & No food & Medication & No tools & No first aid supplies & Sanitation & Clothing & Documents \\\\\n",
       "\t13 & 13 & Human & 22 & Male & Suburban & 2 & 16 & Food & Medication & No tools & First aid supplies & Sanitation & Clothing & Documents \\\\\n",
       "\t14 & 14 & Human & 23 & Male & Rural & 3 & 8 & Food & Medication & tools & First aid supplies & No sanitation & Clothing & NA \\\\\n",
       "\t15 & 15 & Human & 23 & Male & Rural & 2 & 8 & Food & Medication & tools & First aid supplies & Sanitation & Clothing & Documents \\\\\n",
       "\t16 & 16 & Human & 23 & Male & Suburban & 1 & 8 & Food & Medication & tools & No first aid supplies & No sanitation & NA & NA \\\\\n",
       "\t17 & 17 & Human & 24 & Male & Rural & 4 & 40 & Food & Medication & No tools & First aid supplies & Sanitation & Clothing & NA \\\\\n",
       "\t18 & 18 & Human & 24 & Female & Rural & 3 & 18 & Food & Medication & tools & First aid supplies & Sanitation & Clothing & NA \\\\\n",
       "\t19 & 19 & Human & 24 & Female & Suburban & 2 & 11 & No food & Medication & No tools & No first aid supplies & No sanitation & NA & NA \\\\\n",
       "\t20 & 20 & Human & 24 & Male & Urban & 1 & 0 & Food & No medication & tools & First aid supplies & Sanitation & Clothing & NA \\\\\n",
       "\t21 & 21 & Human & 24 & Male & Rural & 2 & 8 & No food & No medication & No tools & First aid supplies & No sanitation & NA & NA \\\\\n",
       "\t22 & 22 & Human & 25 & Male & Suburban & 2 & 8 & No food & No medication & No tools & First aid supplies & No sanitation & NA & NA \\\\\n",
       "\t23 & 23 & Human & 25 & Male & Rural & 1 & 0 & No food & No medication & tools & No first aid supplies & Sanitation & Clothing & Documents \\\\\n",
       "\t24 & 24 & Human & 25 & Female & Urban & 1 & 0 & Food & No medication & tools & First aid supplies & No sanitation & NA & NA \\\\\n",
       "\t$\\dots$ & $\\dots$ & $\\dots$ & $\\dots$ & $\\dots$ & $\\dots$ & $\\dots$ & $\\dots$ & $\\dots$ & $\\dots$ & $\\dots$ & $\\dots$ & $\\dots$ & $\\dots$ & $\\dots$ \\\\\n",
       "\\end{tabular}\n",
       "\n",
       "$\\dots$\n",
       "\n",
       "Last Group (79 rows): zombie = \"Zombie\"\n",
       "\n",
       "\\begin{tabular}{r|cccccccccccccc}\n",
       "\t& zombieid & zombie & age & sex & rurality & household & water & food & medication & tools & firstaid & sanitation & clothing & documents\\\\\n",
       "\t\\hline\n",
       "\t& Int64 & String7 & Int64 & String7 & String15 & Int64 & Int64 & String7 & String15 & String15 & String31 & String15 & String15 & String15\\\\\n",
       "\t\\hline\n",
       "\t1 & 122 & Zombie & 20 & Female & Urban & 2 & 0 & Food & No medication & tools & First aid supplies & No sanitation & Clothing & NA \\\\\n",
       "\t2 & 123 & Zombie & 23 & Male & Suburban & 3 & 0 & No food & No medication & No tools & No first aid supplies & No sanitation & Clothing & NA \\\\\n",
       "\t3 & 124 & Zombie & 25 & Female & Rural & 5 & 0 & No food & No medication & No tools & No first aid supplies & No sanitation & Clothing & NA \\\\\n",
       "\t4 & 125 & Zombie & 28 & Female & Suburban & 3 & 0 & No food & Medication & tools & First aid supplies & No sanitation & Clothing & NA \\\\\n",
       "\t5 & 126 & Zombie & 31 & Female & Rural & 4 & 0 & No food & No medication & tools & First aid supplies & No sanitation & Clothing & NA \\\\\n",
       "\t6 & 127 & Zombie & 32 & Male & Suburban & 4 & 0 & No food & No medication & No tools & No first aid supplies & Sanitation & NA & Documents \\\\\n",
       "\t7 & 128 & Zombie & 42 & Male & Rural & 4 & 8 & No food & No medication & No tools & No first aid supplies & Sanitation & Clothing & Documents \\\\\n",
       "\t8 & 129 & Zombie & 43 & Male & Urban & 5 & 8 & No food & No medication & tools & First aid supplies & No sanitation & Clothing & NA \\\\\n",
       "\t9 & 130 & Zombie & 44 & Male & Rural & 5 & 8 & Food & No medication & tools & First aid supplies & No sanitation & Clothing & NA \\\\\n",
       "\t10 & 131 & Zombie & 45 & Male & Urban & 4 & 0 & Food & Medication & No tools & No first aid supplies & No sanitation & Clothing & NA \\\\\n",
       "\t11 & 132 & Zombie & 47 & Female & Urban & 2 & 0 & No food & Medication & No tools & No first aid supplies & No sanitation & Clothing & NA \\\\\n",
       "\t12 & 133 & Zombie & 48 & Female & Suburban & 3 & 0 & No food & No medication & No tools & First aid supplies & No sanitation & Clothing & NA \\\\\n",
       "\t13 & 134 & Zombie & 48 & Female & Urban & 2 & 0 & No food & No medication & tools & First aid supplies & Sanitation & Clothing & Documents \\\\\n",
       "\t14 & 135 & Zombie & 49 & Female & Suburban & 3 & 0 & No food & No medication & tools & No first aid supplies & Sanitation & Clothing & Documents \\\\\n",
       "\t15 & 136 & Zombie & 49 & Female & Suburban & 2 & 0 & Food & Medication & tools & No first aid supplies & No sanitation & NA & NA \\\\\n",
       "\t16 & 137 & Zombie & 50 & Male & Rural & 4 & 0 & No food & No medication & No tools & First aid supplies & No sanitation & NA & NA \\\\\n",
       "\t17 & 138 & Zombie & 50 & Male & Rural & 3 & 9 & No food & No medication & tools & First aid supplies & Sanitation & Clothing & Documents \\\\\n",
       "\t18 & 139 & Zombie & 51 & Female & Urban & 3 & 8 & No food & No medication & No tools & No first aid supplies & No sanitation & NA & NA \\\\\n",
       "\t19 & 140 & Zombie & 51 & Male & Rural & 4 & 40 & Food & Medication & tools & No first aid supplies & Sanitation & Clothing & Documents \\\\\n",
       "\t20 & 141 & Zombie & 53 & Male & Suburban & 2 & 0 & No food & No medication & No tools & First aid supplies & No sanitation & NA & NA \\\\\n",
       "\t21 & 142 & Zombie & 54 & Female & Urban & 2 & 0 & No food & No medication & tools & First aid supplies & Sanitation & Clothing & Documents \\\\\n",
       "\t22 & 143 & Zombie & 57 & Female & Suburban & 2 & 16 & Food & No medication & No tools & No first aid supplies & No sanitation & Clothing & NA \\\\\n",
       "\t23 & 144 & Zombie & 58 & Female & Urban & 2 & 0 & No food & No medication & No tools & No first aid supplies & Sanitation & Clothing & Documents \\\\\n",
       "\t24 & 145 & Zombie & 59 & Male & Rural & 1 & 0 & Food & Medication & tools & First aid supplies & No sanitation & Clothing & NA \\\\\n",
       "\t$\\dots$ & $\\dots$ & $\\dots$ & $\\dots$ & $\\dots$ & $\\dots$ & $\\dots$ & $\\dots$ & $\\dots$ & $\\dots$ & $\\dots$ & $\\dots$ & $\\dots$ & $\\dots$ & $\\dots$ \\\\\n",
       "\\end{tabular}\n"
      ],
      "text/plain": [
       "GroupedDataFrame with 2 groups based on key: zombie\n",
       "First Group (121 rows): zombie = \"Human\"\n",
       "\u001b[1m Row \u001b[0m│\u001b[1m zombieid \u001b[0m\u001b[1m zombie  \u001b[0m\u001b[1m age   \u001b[0m\u001b[1m sex     \u001b[0m\u001b[1m rurality \u001b[0m\u001b[1m household \u001b[0m\u001b[1m water \u001b[0m\u001b[1m food    \u001b[0m\u001b[1m medication    \u001b[0m\u001b[1m tools    \u001b[0m\u001b[1m firstaid              \u001b[0m\u001b[1m sanitation    \u001b[0m\u001b[1m clothing \u001b[0m\u001b[1m documents \u001b[0m\n",
       "     │\u001b[90m Int64    \u001b[0m\u001b[90m String7 \u001b[0m\u001b[90m Int64 \u001b[0m\u001b[90m String7 \u001b[0m\u001b[90m String15 \u001b[0m\u001b[90m Int64     \u001b[0m\u001b[90m Int64 \u001b[0m\u001b[90m String7 \u001b[0m\u001b[90m String15      \u001b[0m\u001b[90m String15 \u001b[0m\u001b[90m String31              \u001b[0m\u001b[90m String15      \u001b[0m\u001b[90m String15 \u001b[0m\u001b[90m String15  \u001b[0m\n",
       "─────┼────────────────────────────────────────────────────────────────────────────────────────────────────────────────────────────────────────────────────────────\n",
       "   1 │        1  Human       18  Female   Rural             1      0  Food     Medication     No tools  First aid supplies     Sanitation     Clothing  NA\n",
       "   2 │        2  Human       18  Male     Rural             3     24  Food     Medication     tools     First aid supplies     Sanitation     Clothing  NA\n",
       "  ⋮  │    ⋮         ⋮       ⋮       ⋮        ⋮          ⋮        ⋮       ⋮           ⋮           ⋮                ⋮                  ⋮           ⋮          ⋮\n",
       " 120 │      120  Human       81  Male     Rural             1      8  Food     Medication     tools     No first aid supplies  No sanitation  NA        NA\n",
       " 121 │      121  Human       32  Male     Rural             2      8  Food     No medication  No tools  First aid supplies     Sanitation     Clothing  Documents\n",
       "\u001b[36m                                                                                                                                                  117 rows omitted\u001b[0m\n",
       "⋮\n",
       "Last Group (79 rows): zombie = \"Zombie\"\n",
       "\u001b[1m Row \u001b[0m│\u001b[1m zombieid \u001b[0m\u001b[1m zombie  \u001b[0m\u001b[1m age   \u001b[0m\u001b[1m sex     \u001b[0m\u001b[1m rurality \u001b[0m\u001b[1m household \u001b[0m\u001b[1m water \u001b[0m\u001b[1m food    \u001b[0m\u001b[1m medication    \u001b[0m\u001b[1m tools    \u001b[0m\u001b[1m firstaid              \u001b[0m\u001b[1m sanitation    \u001b[0m\u001b[1m clothing \u001b[0m\u001b[1m documents \u001b[0m\n",
       "     │\u001b[90m Int64    \u001b[0m\u001b[90m String7 \u001b[0m\u001b[90m Int64 \u001b[0m\u001b[90m String7 \u001b[0m\u001b[90m String15 \u001b[0m\u001b[90m Int64     \u001b[0m\u001b[90m Int64 \u001b[0m\u001b[90m String7 \u001b[0m\u001b[90m String15      \u001b[0m\u001b[90m String15 \u001b[0m\u001b[90m String31              \u001b[0m\u001b[90m String15      \u001b[0m\u001b[90m String15 \u001b[0m\u001b[90m String15  \u001b[0m\n",
       "─────┼────────────────────────────────────────────────────────────────────────────────────────────────────────────────────────────────────────────────────────────\n",
       "   1 │      122  Zombie      20  Female   Urban             2      0  Food     No medication  tools     First aid supplies     No sanitation  Clothing  NA\n",
       "   2 │      123  Zombie      23  Male     Suburban          3      0  No food  No medication  No tools  No first aid supplies  No sanitation  Clothing  NA\n",
       "  ⋮  │    ⋮         ⋮       ⋮       ⋮        ⋮          ⋮        ⋮       ⋮           ⋮           ⋮                ⋮                  ⋮           ⋮          ⋮\n",
       "  79 │      200  Zombie      85  Male     Urban             1      0  No food  Medication     No tools  No first aid supplies  Sanitation     Clothing  NA\n",
       "\u001b[36m                                                                                                                                                   76 rows omitted\u001b[0m"
      ]
     },
     "metadata": {},
     "output_type": "display_data"
    }
   ],
   "source": [
    "data_grouped = groupby(data, :zombie)"
   ]
  },
  {
   "cell_type": "code",
   "execution_count": 19,
   "metadata": {},
   "outputs": [
    {
     "data": {
      "text/plain": [
       "Dict{String7, Int64} with 2 entries:\n",
       "  \"Female\" => 62\n",
       "  \"Male\"   => 59"
      ]
     },
     "metadata": {},
     "output_type": "display_data"
    }
   ],
   "source": [
    "countmap(data_grouped[1].sex)"
   ]
  },
  {
   "cell_type": "code",
   "execution_count": 20,
   "metadata": {},
   "outputs": [
    {
     "data": {
      "text/html": [
       "<div><div style = \"float: left;\"><span>DataFrameRow (14 columns)</span></div><div style = \"clear: both;\"></div></div><div class = \"data-frame\" style = \"overflow-x: scroll;\"><table class = \"data-frame\" style = \"margin-bottom: 6px;\"><thead><tr class = \"header\"><th class = \"rowLabel\" style = \"font-weight: bold; text-align: right;\">Row</th><th style = \"text-align: left;\">zombieid</th><th style = \"text-align: left;\">zombie</th><th style = \"text-align: left;\">age</th><th style = \"text-align: left;\">sex</th><th style = \"text-align: left;\">rurality</th><th style = \"text-align: left;\">household</th><th style = \"text-align: left;\">water</th><th style = \"text-align: left;\">food</th><th style = \"text-align: left;\">medication</th><th style = \"text-align: left;\">tools</th><th style = \"text-align: left;\">firstaid</th><th style = \"text-align: left;\">sanitation</th><th style = \"text-align: left;\">clothing</th><th style = \"text-align: left;\">documents</th></tr><tr class = \"subheader headerLastRow\"><th class = \"rowLabel\" style = \"font-weight: bold; text-align: right;\"></th><th title = \"Int64\" style = \"text-align: left;\">Int64</th><th title = \"String7\" style = \"text-align: left;\">String7</th><th title = \"Int64\" style = \"text-align: left;\">Int64</th><th title = \"String7\" style = \"text-align: left;\">String7</th><th title = \"String15\" style = \"text-align: left;\">String15</th><th title = \"Int64\" style = \"text-align: left;\">Int64</th><th title = \"Int64\" style = \"text-align: left;\">Int64</th><th title = \"String7\" style = \"text-align: left;\">String7</th><th title = \"String15\" style = \"text-align: left;\">String15</th><th title = \"String15\" style = \"text-align: left;\">String15</th><th title = \"String31\" style = \"text-align: left;\">String31</th><th title = \"String15\" style = \"text-align: left;\">String15</th><th title = \"String15\" style = \"text-align: left;\">String15</th><th title = \"String15\" style = \"text-align: left;\">String15</th></tr></thead><tbody><tr><td class = \"rowLabel\" style = \"font-weight: bold; text-align: right;\">1</td><td style = \"text-align: right;\">1</td><td style = \"text-align: left;\">Human</td><td style = \"text-align: right;\">18</td><td style = \"text-align: left;\">Female</td><td style = \"text-align: left;\">Rural</td><td style = \"text-align: right;\">1</td><td style = \"text-align: right;\">0</td><td style = \"text-align: left;\">Food</td><td style = \"text-align: left;\">Medication</td><td style = \"text-align: left;\">No tools</td><td style = \"text-align: left;\">First aid supplies</td><td style = \"text-align: left;\">Sanitation</td><td style = \"text-align: left;\">Clothing</td><td style = \"text-align: left;\">NA</td></tr></tbody></table></div>"
      ],
      "text/latex": [
       "\\begin{tabular}{r|cccccccccccccc}\n",
       "\t& zombieid & zombie & age & sex & rurality & household & water & food & medication & tools & firstaid & sanitation & clothing & documents\\\\\n",
       "\t\\hline\n",
       "\t& Int64 & String7 & Int64 & String7 & String15 & Int64 & Int64 & String7 & String15 & String15 & String31 & String15 & String15 & String15\\\\\n",
       "\t\\hline\n",
       "\t1 & 1 & Human & 18 & Female & Rural & 1 & 0 & Food & Medication & No tools & First aid supplies & Sanitation & Clothing & NA \\\\\n",
       "\\end{tabular}\n"
      ],
      "text/plain": [
       "\u001b[1mDataFrameRow\u001b[0m\n",
       "\u001b[1m Row \u001b[0m│\u001b[1m zombieid \u001b[0m\u001b[1m zombie  \u001b[0m\u001b[1m age   \u001b[0m\u001b[1m sex     \u001b[0m\u001b[1m rurality \u001b[0m\u001b[1m household \u001b[0m\u001b[1m water \u001b[0m\u001b[1m food    \u001b[0m\u001b[1m medication \u001b[0m\u001b[1m tools    \u001b[0m\u001b[1m firstaid           \u001b[0m\u001b[1m sanitation \u001b[0m\u001b[1m clothing \u001b[0m\u001b[1m documents \u001b[0m\n",
       "     │\u001b[90m Int64    \u001b[0m\u001b[90m String7 \u001b[0m\u001b[90m Int64 \u001b[0m\u001b[90m String7 \u001b[0m\u001b[90m String15 \u001b[0m\u001b[90m Int64     \u001b[0m\u001b[90m Int64 \u001b[0m\u001b[90m String7 \u001b[0m\u001b[90m String15   \u001b[0m\u001b[90m String15 \u001b[0m\u001b[90m String31           \u001b[0m\u001b[90m String15   \u001b[0m\u001b[90m String15 \u001b[0m\u001b[90m String15  \u001b[0m\n",
       "─────┼───────────────────────────────────────────────────────────────────────────────────────────────────────────────────────────────────────────────────\n",
       "   1 │        1  Human       18  Female   Rural             1      0  Food     Medication  No tools  First aid supplies  Sanitation  Clothing  NA"
      ]
     },
     "metadata": {},
     "output_type": "display_data"
    }
   ],
   "source": [
    "first(data)"
   ]
  },
  {
   "cell_type": "code",
   "execution_count": 21,
   "metadata": {},
   "outputs": [
    {
     "data": {
      "text/html": [
       "<div><div style = \"float: left;\"><span>2×10 DataFrame</span></div><div style = \"clear: both;\"></div></div><div class = \"data-frame\" style = \"overflow-x: scroll;\"><table class = \"data-frame\" style = \"margin-bottom: 6px;\"><thead><tr class = \"header\"><th class = \"rowNumber\" style = \"font-weight: bold; text-align: right;\">Row</th><th style = \"text-align: left;\">zombie</th><th style = \"text-align: left;\">sex</th><th style = \"text-align: left;\">rurality</th><th style = \"text-align: left;\">food</th><th style = \"text-align: left;\">medication</th><th style = \"text-align: left;\">tools</th><th style = \"text-align: left;\">firstaid</th><th style = \"text-align: left;\">sanitation</th><th style = \"text-align: left;\">clothing</th><th style = \"text-align: left;\">documents</th></tr><tr class = \"subheader headerLastRow\"><th class = \"rowNumber\" style = \"font-weight: bold; text-align: right;\"></th><th title = \"String7\" style = \"text-align: left;\">String7</th><th title = \"Dict{String7, Int64}\" style = \"text-align: left;\">Dict…</th><th title = \"Dict{String15, Int64}\" style = \"text-align: left;\">Dict…</th><th title = \"Dict{String7, Int64}\" style = \"text-align: left;\">Dict…</th><th title = \"Dict{String15, Int64}\" style = \"text-align: left;\">Dict…</th><th title = \"Dict{String15, Int64}\" style = \"text-align: left;\">Dict…</th><th title = \"Dict{String31, Int64}\" style = \"text-align: left;\">Dict…</th><th title = \"Dict{String15, Int64}\" style = \"text-align: left;\">Dict…</th><th title = \"Dict{String15, Int64}\" style = \"text-align: left;\">Dict…</th><th title = \"Dict{String15, Int64}\" style = \"text-align: left;\">Dict…</th></tr></thead><tbody><tr><td class = \"rowNumber\" style = \"font-weight: bold; text-align: right;\">1</td><td style = \"text-align: left;\">Human</td><td style = \"text-align: left;\">Dict{String7, Int64}(&quot;Female&quot;=&gt;62, &quot;Male&quot;=&gt;59)</td><td style = \"text-align: left;\">Dict{String15, Int64}(&quot;Urban&quot;=&gt;16, &quot;Rural&quot;=&gt;80, &quot;Suburban&quot;=&gt;25)</td><td style = \"text-align: left;\">Dict{String7, Int64}(&quot;Food&quot;=&gt;91, &quot;No food&quot;=&gt;30)</td><td style = \"text-align: left;\">Dict{String15, Int64}(&quot;No medication&quot;=&gt;43, &quot;Medication&quot;=&gt;78)</td><td style = \"text-align: left;\">Dict{String15, Int64}(&quot;tools&quot;=&gt;60, &quot;No tools&quot;=&gt;61)</td><td style = \"text-align: left;\">Dict{String31, Int64}(&quot;First aid supplies&quot;=&gt;67, &quot;No first aid supplies&quot;=&gt;54)</td><td style = \"text-align: left;\">Dict{String15, Int64}(&quot;Sanitation&quot;=&gt;73, &quot;No sanitation&quot;=&gt;48)</td><td style = \"text-align: left;\">Dict{String15, Int64}(&quot;NA&quot;=&gt;47, &quot;Clothing&quot;=&gt;74)</td><td style = \"text-align: left;\">Dict{String15, Int64}(&quot;NA&quot;=&gt;77, &quot;Documents&quot;=&gt;44)</td></tr><tr><td class = \"rowNumber\" style = \"font-weight: bold; text-align: right;\">2</td><td style = \"text-align: left;\">Zombie</td><td style = \"text-align: left;\">Dict{String7, Int64}(&quot;Female&quot;=&gt;37, &quot;Male&quot;=&gt;42)</td><td style = \"text-align: left;\">Dict{String15, Int64}(&quot;Urban&quot;=&gt;38, &quot;Rural&quot;=&gt;18, &quot;Suburban&quot;=&gt;23)</td><td style = \"text-align: left;\">Dict{String7, Int64}(&quot;Food&quot;=&gt;19, &quot;No food&quot;=&gt;60)</td><td style = \"text-align: left;\">Dict{String15, Int64}(&quot;No medication&quot;=&gt;63, &quot;Medication&quot;=&gt;16)</td><td style = \"text-align: left;\">Dict{String15, Int64}(&quot;tools&quot;=&gt;39, &quot;No tools&quot;=&gt;40)</td><td style = \"text-align: left;\">Dict{String31, Int64}(&quot;First aid supplies&quot;=&gt;39, &quot;No first aid supplies&quot;=&gt;40)</td><td style = \"text-align: left;\">Dict{String15, Int64}(&quot;Sanitation&quot;=&gt;25, &quot;No sanitation&quot;=&gt;54)</td><td style = \"text-align: left;\">Dict{String15, Int64}(&quot;NA&quot;=&gt;27, &quot;Clothing&quot;=&gt;52)</td><td style = \"text-align: left;\">Dict{String15, Int64}(&quot;NA&quot;=&gt;57, &quot;Documents&quot;=&gt;22)</td></tr></tbody></table></div>"
      ],
      "text/latex": [
       "\\begin{tabular}{r|cccccccccc}\n",
       "\t& zombie & sex & rurality & food & medication & tools & firstaid & sanitation & clothing & documents\\\\\n",
       "\t\\hline\n",
       "\t& String7 & Dict… & Dict… & Dict… & Dict… & Dict… & Dict… & Dict… & Dict… & Dict…\\\\\n",
       "\t\\hline\n",
       "\t1 & Human & Dict(\"Female\"=>62, \"Male\"=>59) & Dict(\"Urban\"=>16, \"Rural\"=>80, \"Suburban\"=>25) & Dict(\"Food\"=>91, \"No food\"=>30) & Dict(\"No medication\"=>43, \"Medication\"=>78) & Dict(\"tools\"=>60, \"No tools\"=>61) & Dict(\"First aid supplies\"=>67, \"No first aid supplies\"=>54) & Dict(\"Sanitation\"=>73, \"No sanitation\"=>48) & Dict(\"NA\"=>47, \"Clothing\"=>74) & Dict(\"NA\"=>77, \"Documents\"=>44) \\\\\n",
       "\t2 & Zombie & Dict(\"Female\"=>37, \"Male\"=>42) & Dict(\"Urban\"=>38, \"Rural\"=>18, \"Suburban\"=>23) & Dict(\"Food\"=>19, \"No food\"=>60) & Dict(\"No medication\"=>63, \"Medication\"=>16) & Dict(\"tools\"=>39, \"No tools\"=>40) & Dict(\"First aid supplies\"=>39, \"No first aid supplies\"=>40) & Dict(\"Sanitation\"=>25, \"No sanitation\"=>54) & Dict(\"NA\"=>27, \"Clothing\"=>52) & Dict(\"NA\"=>57, \"Documents\"=>22) \\\\\n",
       "\\end{tabular}\n"
      ],
      "text/plain": [
       "\u001b[1m2×10 DataFrame\u001b[0m\n",
       "\u001b[1m Row \u001b[0m│\u001b[1m zombie  \u001b[0m\u001b[1m sex                               \u001b[0m\u001b[1m rurality                          \u001b[0m\u001b[1m food                              \u001b[0m\u001b[1m medication                        \u001b[0m\u001b[1m tools                             \u001b[0m\u001b[1m firstaid                          \u001b[0m\u001b[1m sanitation                        \u001b[0m\u001b[1m clothing                          \u001b[0m\u001b[1m documents                         \u001b[0m\n",
       "     │\u001b[90m String7 \u001b[0m\u001b[90m Dict…                             \u001b[0m\u001b[90m Dict…                             \u001b[0m\u001b[90m Dict…                             \u001b[0m\u001b[90m Dict…                             \u001b[0m\u001b[90m Dict…                             \u001b[0m\u001b[90m Dict…                             \u001b[0m\u001b[90m Dict…                             \u001b[0m\u001b[90m Dict…                             \u001b[0m\u001b[90m Dict…                             \u001b[0m\n",
       "─────┼────────────────────────────────────────────────────────────────────────────────────────────────────────────────────────────────────────────────────────────────────────────────────────────────────────────────────────────────────────────────────────────────────────────────────────────────────────────────────────────────────\n",
       "   1 │ Human    Dict{String7, Int64}(\"Female\"=>6…  Dict{String15, Int64}(\"Urban\"=>1…  Dict{String7, Int64}(\"Food\"=>91,…  Dict{String15, Int64}(\"No medica…  Dict{String15, Int64}(\"tools\"=>6…  Dict{String31, Int64}(\"First aid…  Dict{String15, Int64}(\"Sanitatio…  Dict{String15, Int64}(\"NA\"=>47, …  Dict{String15, Int64}(\"NA\"=>77, …\n",
       "   2 │ Zombie   Dict{String7, Int64}(\"Female\"=>3…  Dict{String15, Int64}(\"Urban\"=>3…  Dict{String7, Int64}(\"Food\"=>19,…  Dict{String15, Int64}(\"No medica…  Dict{String15, Int64}(\"tools\"=>3…  Dict{String31, Int64}(\"First aid…  Dict{String15, Int64}(\"Sanitatio…  Dict{String15, Int64}(\"NA\"=>27, …  Dict{String15, Int64}(\"NA\"=>57, …"
      ]
     },
     "metadata": {},
     "output_type": "display_data"
    }
   ],
   "source": [
    "data_count = @chain data begin\n",
    "    groupby(:zombie)\n",
    "    @combine(:sex = countmap(:sex), \n",
    "    :rurality = countmap(:rurality), \n",
    "    :food = countmap(:food), \n",
    "    :medication = countmap(:medication), \n",
    "    :tools = countmap(:tools), \n",
    "    :firstaid = countmap(:firstaid), \n",
    "    :sanitation = countmap(:sanitation), \n",
    "    :clothing = countmap(:clothing), \n",
    "    :documents = countmap(:documents))\n",
    "end\n"
   ]
  },
  {
   "cell_type": "code",
   "execution_count": 22,
   "metadata": {},
   "outputs": [
    {
     "data": {
      "text/plain": [
       "1-element Vector{PolyElement}:\n",
       " PolyElement(Attributes with 3 entries:\n",
       "  polycolor => blue\n",
       "  polystrokecolor => blue\n",
       "  polystrokewidth => 1)"
      ]
     },
     "metadata": {},
     "output_type": "display_data"
    }
   ],
   "source": [
    "colors = [:red, :blue]\n",
    "elem_1 = [PolyElement(color = :red, strokecolor = :blue, strokewidth = 1)]\n",
    "elem_2 = [PolyElement(color = :blue, strokecolor = :blue, strokewidth = 1)]"
   ]
  },
  {
   "cell_type": "code",
   "execution_count": 23,
   "metadata": {},
   "outputs": [
    {
     "data": {
      "text/plain": [
       "GLMakie.Screen(...)"
      ]
     },
     "metadata": {},
     "output_type": "display_data"
    }
   ],
   "source": [
    "f, ax, plt = pie(collect(values(data_count.sex[1])),\n",
    "                 color = colors,\n",
    "                 radius = 4,\n",
    "                 inner_radius = 2,\n",
    "                 strokecolor = :white,\n",
    "                 strokewidth = 5,\n",
    "                 axis = ( autolimitaspect = 1, ))\n",
    "ax2 = Axis(f[1,2],  autolimitaspect = 1, )\n",
    "pie!(ax2, collect(values(data_count.sex[2])),\n",
    "color = colors,\n",
    "radius = 4,\n",
    "inner_radius = 2,\n",
    "strokecolor = :white,\n",
    "strokewidth = 5)\n",
    "Legend(f[1, 3],\n",
    "    [elem_1, elem_2],\n",
    "    [\"Female\", \"Male\"],\n",
    "    patchsize = (35, 35), rowgap = 10)\n",
    "display(f)"
   ]
  },
  {
   "cell_type": "code",
   "execution_count": 24,
   "metadata": {},
   "outputs": [],
   "source": []
  },
  {
   "cell_type": "code",
   "execution_count": 24,
   "metadata": {},
   "outputs": [
    {
     "data": {
      "text/plain": [
       "GLMakie.Screen(...)"
      ]
     },
     "metadata": {},
     "output_type": "display_data"
    }
   ],
   "source": [
    "f, ax, plt = pie(collect(values(data_count.food[1])),\n",
    "                 color = colors,\n",
    "                 radius = 4,\n",
    "                 inner_radius = 2,\n",
    "                 strokecolor = :white,\n",
    "                 strokewidth = 5,\n",
    "                 axis = ( autolimitaspect = 1, ))\n",
    "                \n",
    "ax2 = Axis(f[1,2], autolimitaspect = 1, )\n",
    "pie!(ax2, collect(values(data_count.food[2])),\n",
    "color = colors,\n",
    "radius = 4,\n",
    "inner_radius = 2,\n",
    "strokecolor = :white,\n",
    "strokewidth = 5)\n",
    "Legend(f[1, 3],\n",
    "    [elem_1, elem_2],\n",
    "    [\"Food\", \"No Food\"],\n",
    "    patchsize = (35, 35), rowgap = 10)\n",
    "display(f)"
   ]
  },
  {
   "cell_type": "code",
   "execution_count": 25,
   "metadata": {},
   "outputs": [
    {
     "data": {
      "text/plain": [
       "GLMakie.Screen(...)"
      ]
     },
     "metadata": {},
     "output_type": "display_data"
    }
   ],
   "source": [
    "f, ax, plt = pie(collect(values(data_count.medication[1])),\n",
    "                 color = colors,\n",
    "                 radius = 4,\n",
    "                 inner_radius = 2,\n",
    "                 strokecolor = :white,\n",
    "                 strokewidth = 5,\n",
    "                 axis = ( autolimitaspect = 1, ))\n",
    "                \n",
    "ax2 = Axis(f[1,2] , autolimitaspect = 1, )\n",
    "pie!(ax2, collect(values(data_count.medication[2])),\n",
    "color = colors,\n",
    "radius = 4,\n",
    "inner_radius = 2,\n",
    "strokecolor = :white,\n",
    "strokewidth = 5)\n",
    "Legend(f[1, 3],\n",
    "    [elem_1, elem_2],\n",
    "    [\"Medication\", \"No Medication\"],\n",
    "    patchsize = (35, 35), rowgap = 10)\n",
    "display(f)"
   ]
  },
  {
   "cell_type": "code",
   "execution_count": null,
   "metadata": {},
   "outputs": [],
   "source": []
  }
 ],
 "metadata": {
  "kernelspec": {
   "display_name": "Julia 1.11.1",
   "language": "julia",
   "name": "julia-1.11"
  },
  "language_info": {
   "file_extension": ".jl",
   "mimetype": "application/julia",
   "name": "julia",
   "version": "1.11.1"
  }
 },
 "nbformat": 4,
 "nbformat_minor": 4
}
