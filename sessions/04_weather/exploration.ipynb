{
 "cells": [
  {
   "cell_type": "markdown",
   "metadata": {
    "collapsed": false
   },
   "source": [
    "# Temperatur in Würzburg"
   ]
  },
  {
   "cell_type": "code",
   "execution_count": 1,
   "metadata": {
    "collapsed": false
   },
   "outputs": [
    {
     "name": "stderr",
     "output_type": "stream",
     "text": [
      "Warning message in system(\"timedatectl\", intern = TRUE):\n",
      "“running command 'timedatectl' had status 1”\n"
     ]
    },
    {
     "name": "stderr",
     "output_type": "stream",
     "text": [
      "── \u001b[1mAttaching packages\u001b[22m ─────────────────────────────────────── tidyverse 1.3.1 ──\n",
      "\n"
     ]
    },
    {
     "name": "stderr",
     "output_type": "stream",
     "text": [
      "\u001b[32m✔\u001b[39m \u001b[34mggplot2\u001b[39m 3.3.5     \u001b[32m✔\u001b[39m \u001b[34mpurrr  \u001b[39m 0.3.4\n",
      "\u001b[32m✔\u001b[39m \u001b[34mtibble \u001b[39m 3.1.4     \u001b[32m✔\u001b[39m \u001b[34mdplyr  \u001b[39m 1.0.7\n",
      "\u001b[32m✔\u001b[39m \u001b[34mtidyr  \u001b[39m 1.1.3     \u001b[32m✔\u001b[39m \u001b[34mstringr\u001b[39m 1.4.0\n",
      "\u001b[32m✔\u001b[39m \u001b[34mreadr  \u001b[39m 2.0.1     \u001b[32m✔\u001b[39m \u001b[34mforcats\u001b[39m 0.5.1\n",
      "\n"
     ]
    },
    {
     "name": "stderr",
     "output_type": "stream",
     "text": [
      "── \u001b[1mConflicts\u001b[22m ────────────────────────────────────────── tidyverse_conflicts() ──\n",
      "\u001b[31m✖\u001b[39m \u001b[34mdplyr\u001b[39m::\u001b[32mfilter()\u001b[39m masks \u001b[34mstats\u001b[39m::filter()\n",
      "\u001b[31m✖\u001b[39m \u001b[34mdplyr\u001b[39m::\u001b[32mlag()\u001b[39m    masks \u001b[34mstats\u001b[39m::lag()\n",
      "\n"
     ]
    }
   ],
   "source": [
    "library(tidyverse)"
   ]
  },
  {
   "cell_type": "code",
   "execution_count": 2,
   "metadata": {
    "collapsed": false
   },
   "outputs": [
    {
     "name": "stderr",
     "output_type": "stream",
     "text": [
      "\u001b[1m\u001b[1mRows: \u001b[1m\u001b[22m\u001b[34m\u001b[34m790288\u001b[34m\u001b[39m \u001b[1m\u001b[1mColumns: \u001b[1m\u001b[22m\u001b[34m\u001b[34m6\u001b[34m\u001b[39m\n",
      "\n"
     ]
    },
    {
     "name": "stderr",
     "output_type": "stream",
     "text": [
      "\u001b[36m──\u001b[39m \u001b[1m\u001b[1mColumn specification\u001b[1m\u001b[22m \u001b[36m────────────────────────────────────────────────────────\u001b[39m\n",
      "\u001b[1mDelimiter:\u001b[22m \",\"\n",
      "\u001b[31mchr\u001b[39m  (1): Produkt_Code\n",
      "\u001b[32mdbl\u001b[39m  (3): SDO_ID, Wert, Qualitaet_Byte\n",
      "\u001b[34mdttm\u001b[39m (1): Zeitstempel\n",
      "\n"
     ]
    },
    {
     "name": "stderr",
     "output_type": "stream",
     "text": [
      "\n",
      "\u001b[36mℹ\u001b[39m Use \u001b[30m\u001b[47m\u001b[30m\u001b[47m`spec()`\u001b[47m\u001b[30m\u001b[49m\u001b[39m to retrieve the full column specification for this data.\n",
      "\u001b[36mℹ\u001b[39m Specify the column types or set \u001b[30m\u001b[47m\u001b[30m\u001b[47m`show_col_types = FALSE`\u001b[47m\u001b[30m\u001b[49m\u001b[39m to quiet this message.\n",
      "\n"
     ]
    }
   ],
   "source": [
    "data <- read_csv(\"data/data_OBS_DEU_PT1H_T2M.csv\")"
   ]
  },
  {
   "cell_type": "code",
   "execution_count": 3,
   "metadata": {
    "collapsed": false
   },
   "outputs": [
    {
     "name": "stderr",
     "output_type": "stream",
     "text": [
      "Warning message:\n",
      "“One or more parsing issues, see `problems()` for details”\n"
     ]
    },
    {
     "data": {
      "text/html": [
       "<table class=\"dataframe\">\n",
       "<caption>A tibble: 6 × 6</caption>\n",
       "<thead>\n",
       "\t<tr><th scope=col>Produkt_Code</th><th scope=col>SDO_ID</th><th scope=col>Zeitstempel</th><th scope=col>Wert</th><th scope=col>Qualitaet_Byte</th><th scope=col>Qualitaet_Niveau</th></tr>\n",
       "\t<tr><th scope=col>&lt;chr&gt;</th><th scope=col>&lt;dbl&gt;</th><th scope=col>&lt;dttm&gt;</th><th scope=col>&lt;dbl&gt;</th><th scope=col>&lt;dbl&gt;</th><th scope=col>&lt;dbl&gt;</th></tr>\n",
       "</thead>\n",
       "<tbody>\n",
       "\t<tr><td>OBS_DEU_PT1H_T2M</td><td>2600</td><td>2005-03-01 00:00:00</td><td>-12.4</td><td>4</td><td> 3</td></tr>\n",
       "\t<tr><td>OBS_DEU_PT1H_T2M</td><td>2600</td><td>2005-03-01 01:00:00</td><td>-12.6</td><td>6</td><td>10</td></tr>\n",
       "\t<tr><td>OBS_DEU_PT1H_T2M</td><td>2600</td><td>2005-03-01 02:00:00</td><td>-13.1</td><td>1</td><td>10</td></tr>\n",
       "\t<tr><td>OBS_DEU_PT1H_T2M</td><td>2600</td><td>2005-03-01 03:00:00</td><td>-13.7</td><td>1</td><td>10</td></tr>\n",
       "\t<tr><td>OBS_DEU_PT1H_T2M</td><td>2600</td><td>2005-03-01 04:00:00</td><td>-14.4</td><td>1</td><td>10</td></tr>\n",
       "\t<tr><td>OBS_DEU_PT1H_T2M</td><td>2600</td><td>2005-03-01 05:00:00</td><td>-14.9</td><td>1</td><td>10</td></tr>\n",
       "</tbody>\n",
       "</table>\n"
      ],
      "text/latex": [
       "A tibble: 6 × 6\n",
       "\\begin{tabular}{llllll}\n",
       " Produkt\\_Code & SDO\\_ID & Zeitstempel & Wert & Qualitaet\\_Byte & Qualitaet\\_Niveau\\\\\n",
       " <chr> & <dbl> & <dttm> & <dbl> & <dbl> & <dbl>\\\\\n",
       "\\hline\n",
       "\t OBS\\_DEU\\_PT1H\\_T2M & 2600 & 2005-03-01 00:00:00 & -12.4 & 4 &  3\\\\\n",
       "\t OBS\\_DEU\\_PT1H\\_T2M & 2600 & 2005-03-01 01:00:00 & -12.6 & 6 & 10\\\\\n",
       "\t OBS\\_DEU\\_PT1H\\_T2M & 2600 & 2005-03-01 02:00:00 & -13.1 & 1 & 10\\\\\n",
       "\t OBS\\_DEU\\_PT1H\\_T2M & 2600 & 2005-03-01 03:00:00 & -13.7 & 1 & 10\\\\\n",
       "\t OBS\\_DEU\\_PT1H\\_T2M & 2600 & 2005-03-01 04:00:00 & -14.4 & 1 & 10\\\\\n",
       "\t OBS\\_DEU\\_PT1H\\_T2M & 2600 & 2005-03-01 05:00:00 & -14.9 & 1 & 10\\\\\n",
       "\\end{tabular}\n"
      ],
      "text/markdown": [
       "\n",
       "A tibble: 6 × 6\n",
       "\n",
       "| Produkt_Code &lt;chr&gt; | SDO_ID &lt;dbl&gt; | Zeitstempel &lt;dttm&gt; | Wert &lt;dbl&gt; | Qualitaet_Byte &lt;dbl&gt; | Qualitaet_Niveau &lt;dbl&gt; |\n",
       "|---|---|---|---|---|---|\n",
       "| OBS_DEU_PT1H_T2M | 2600 | 2005-03-01 00:00:00 | -12.4 | 4 |  3 |\n",
       "| OBS_DEU_PT1H_T2M | 2600 | 2005-03-01 01:00:00 | -12.6 | 6 | 10 |\n",
       "| OBS_DEU_PT1H_T2M | 2600 | 2005-03-01 02:00:00 | -13.1 | 1 | 10 |\n",
       "| OBS_DEU_PT1H_T2M | 2600 | 2005-03-01 03:00:00 | -13.7 | 1 | 10 |\n",
       "| OBS_DEU_PT1H_T2M | 2600 | 2005-03-01 04:00:00 | -14.4 | 1 | 10 |\n",
       "| OBS_DEU_PT1H_T2M | 2600 | 2005-03-01 05:00:00 | -14.9 | 1 | 10 |\n",
       "\n"
      ],
      "text/plain": [
       "  Produkt_Code     SDO_ID Zeitstempel         Wert  Qualitaet_Byte\n",
       "1 OBS_DEU_PT1H_T2M 2600   2005-03-01 00:00:00 -12.4 4             \n",
       "2 OBS_DEU_PT1H_T2M 2600   2005-03-01 01:00:00 -12.6 6             \n",
       "3 OBS_DEU_PT1H_T2M 2600   2005-03-01 02:00:00 -13.1 1             \n",
       "4 OBS_DEU_PT1H_T2M 2600   2005-03-01 03:00:00 -13.7 1             \n",
       "5 OBS_DEU_PT1H_T2M 2600   2005-03-01 04:00:00 -14.4 1             \n",
       "6 OBS_DEU_PT1H_T2M 2600   2005-03-01 05:00:00 -14.9 1             \n",
       "  Qualitaet_Niveau\n",
       "1  3              \n",
       "2 10              \n",
       "3 10              \n",
       "4 10              \n",
       "5 10              \n",
       "6 10              "
      ]
     },
     "execution_count": 3,
     "metadata": {
     },
     "output_type": "execute_result"
    }
   ],
   "source": [
    "head(data)"
   ]
  },
  {
   "cell_type": "code",
   "execution_count": 4,
   "metadata": {
    "collapsed": false
   },
   "outputs": [
    {
     "name": "stderr",
     "output_type": "stream",
     "text": [
      "\u001b[1m\u001b[1mRows: \u001b[1m\u001b[22m\u001b[34m\u001b[34m2\u001b[34m\u001b[39m \u001b[1m\u001b[1mColumns: \u001b[1m\u001b[22m\u001b[34m\u001b[34m6\u001b[34m\u001b[39m\n",
      "\n"
     ]
    },
    {
     "name": "stderr",
     "output_type": "stream",
     "text": [
      "\u001b[36m──\u001b[39m \u001b[1m\u001b[1mColumn specification\u001b[1m\u001b[22m \u001b[36m────────────────────────────────────────────────────────\u001b[39m\n",
      "\u001b[1mDelimiter:\u001b[22m \",\"\n",
      "\u001b[31mchr\u001b[39m (2): SDO_Name, Metadata_Link\n",
      "\u001b[32mdbl\u001b[39m (2): SDO_ID, Hoehe_ueber_NN\n",
      "\n"
     ]
    },
    {
     "name": "stderr",
     "output_type": "stream",
     "text": [
      "\n",
      "\u001b[36mℹ\u001b[39m Use \u001b[30m\u001b[47m\u001b[30m\u001b[47m`spec()`\u001b[47m\u001b[30m\u001b[49m\u001b[39m to retrieve the full column specification for this data.\n",
      "\u001b[36mℹ\u001b[39m Specify the column types or set \u001b[30m\u001b[47m\u001b[30m\u001b[47m`show_col_types = FALSE`\u001b[47m\u001b[30m\u001b[49m\u001b[39m to quiet this message.\n",
      "\n"
     ]
    }
   ],
   "source": [
    "station <- read_csv(\"data/sdo_OBS_DEU_PT1H_T2M.csv\")"
   ]
  },
  {
   "cell_type": "code",
   "execution_count": 5,
   "metadata": {
    "collapsed": false
   },
   "outputs": [
    {
     "data": {
      "text/html": [
       "<table class=\"dataframe\">\n",
       "<caption>A spec_tbl_df: 2 × 6</caption>\n",
       "<thead>\n",
       "\t<tr><th scope=col>SDO_ID</th><th scope=col>SDO_Name</th><th scope=col>Geogr_Laenge</th><th scope=col>Geogr_Breite</th><th scope=col>Hoehe_ueber_NN</th><th scope=col>Metadata_Link</th></tr>\n",
       "\t<tr><th scope=col>&lt;dbl&gt;</th><th scope=col>&lt;chr&gt;</th><th scope=col>&lt;dbl&gt;</th><th scope=col>&lt;dbl&gt;</th><th scope=col>&lt;dbl&gt;</th><th scope=col>&lt;chr&gt;</th></tr>\n",
       "</thead>\n",
       "<tbody>\n",
       "\t<tr><td>5705</td><td>Würzburg </td><td> 99576</td><td>497704</td><td>268</td><td>https://cdc.dwd.de/rest/metadata/station/html/812300016295</td></tr>\n",
       "\t<tr><td>2600</td><td>Kitzingen</td><td>101781</td><td>497363</td><td>193</td><td>https://cdc.dwd.de/rest/metadata/station/html/812300321959</td></tr>\n",
       "</tbody>\n",
       "</table>\n"
      ],
      "text/latex": [
       "A spec\\_tbl\\_df: 2 × 6\n",
       "\\begin{tabular}{llllll}\n",
       " SDO\\_ID & SDO\\_Name & Geogr\\_Laenge & Geogr\\_Breite & Hoehe\\_ueber\\_NN & Metadata\\_Link\\\\\n",
       " <dbl> & <chr> & <dbl> & <dbl> & <dbl> & <chr>\\\\\n",
       "\\hline\n",
       "\t 5705 & Würzburg  &  99576 & 497704 & 268 & https://cdc.dwd.de/rest/metadata/station/html/812300016295\\\\\n",
       "\t 2600 & Kitzingen & 101781 & 497363 & 193 & https://cdc.dwd.de/rest/metadata/station/html/812300321959\\\\\n",
       "\\end{tabular}\n"
      ],
      "text/markdown": [
       "\n",
       "A spec_tbl_df: 2 × 6\n",
       "\n",
       "| SDO_ID &lt;dbl&gt; | SDO_Name &lt;chr&gt; | Geogr_Laenge &lt;dbl&gt; | Geogr_Breite &lt;dbl&gt; | Hoehe_ueber_NN &lt;dbl&gt; | Metadata_Link &lt;chr&gt; |\n",
       "|---|---|---|---|---|---|\n",
       "| 5705 | Würzburg  |  99576 | 497704 | 268 | https://cdc.dwd.de/rest/metadata/station/html/812300016295 |\n",
       "| 2600 | Kitzingen | 101781 | 497363 | 193 | https://cdc.dwd.de/rest/metadata/station/html/812300321959 |\n",
       "\n"
      ],
      "text/plain": [
       "  SDO_ID SDO_Name  Geogr_Laenge Geogr_Breite Hoehe_ueber_NN\n",
       "1 5705   Würzburg   99576       497704       268           \n",
       "2 2600   Kitzingen 101781       497363       193           \n",
       "  Metadata_Link                                             \n",
       "1 https://cdc.dwd.de/rest/metadata/station/html/812300016295\n",
       "2 https://cdc.dwd.de/rest/metadata/station/html/812300321959"
      ]
     },
     "execution_count": 5,
     "metadata": {
     },
     "output_type": "execute_result"
    }
   ],
   "source": [
    "station"
   ]
  },
  {
   "cell_type": "code",
   "execution_count": 6,
   "metadata": {
    "collapsed": false
   },
   "outputs": [
   ],
   "source": [
    "data <- data %>% mutate(SDO_ID = if_else(SDO_ID==2600, \"Kitzingen\", \"Würzburg\"))"
   ]
  },
  {
   "cell_type": "markdown",
   "metadata": {
    "collapsed": false
   },
   "source": [
    "## Zusammenfassung für Würzburg und Kitzingen"
   ]
  },
  {
   "cell_type": "code",
   "execution_count": 7,
   "metadata": {
    "collapsed": false
   },
   "outputs": [
    {
     "data": {
      "text/html": [
       "<table class=\"dataframe\">\n",
       "<caption>A tibble: 2 × 5</caption>\n",
       "<thead>\n",
       "\t<tr><th scope=col>SDO_ID</th><th scope=col>min_Wert</th><th scope=col>max</th><th scope=col>mean</th><th scope=col>range</th></tr>\n",
       "\t<tr><th scope=col>&lt;chr&gt;</th><th scope=col>&lt;dbl&gt;</th><th scope=col>&lt;dbl&gt;</th><th scope=col>&lt;dbl&gt;</th><th scope=col>&lt;dbl&gt;</th></tr>\n",
       "</thead>\n",
       "<tbody>\n",
       "\t<tr><td>Kitzingen</td><td>-20.5</td><td>39.4</td><td>10.687821</td><td>59.9</td></tr>\n",
       "\t<tr><td>Würzburg </td><td>-23.4</td><td>39.3</td><td> 9.500432</td><td>62.7</td></tr>\n",
       "</tbody>\n",
       "</table>\n"
      ],
      "text/latex": [
       "A tibble: 2 × 5\n",
       "\\begin{tabular}{lllll}\n",
       " SDO\\_ID & min\\_Wert & max & mean & range\\\\\n",
       " <chr> & <dbl> & <dbl> & <dbl> & <dbl>\\\\\n",
       "\\hline\n",
       "\t Kitzingen & -20.5 & 39.4 & 10.687821 & 59.9\\\\\n",
       "\t Würzburg  & -23.4 & 39.3 &  9.500432 & 62.7\\\\\n",
       "\\end{tabular}\n"
      ],
      "text/markdown": [
       "\n",
       "A tibble: 2 × 5\n",
       "\n",
       "| SDO_ID &lt;chr&gt; | min_Wert &lt;dbl&gt; | max &lt;dbl&gt; | mean &lt;dbl&gt; | range &lt;dbl&gt; |\n",
       "|---|---|---|---|---|\n",
       "| Kitzingen | -20.5 | 39.4 | 10.687821 | 59.9 |\n",
       "| Würzburg  | -23.4 | 39.3 |  9.500432 | 62.7 |\n",
       "\n"
      ],
      "text/plain": [
       "  SDO_ID    min_Wert max  mean      range\n",
       "1 Kitzingen -20.5    39.4 10.687821 59.9 \n",
       "2 Würzburg  -23.4    39.3  9.500432 62.7 "
      ]
     },
     "execution_count": 7,
     "metadata": {
     },
     "output_type": "execute_result"
    }
   ],
   "source": [
    "data %>% \n",
    "    group_by(SDO_ID) %>%\n",
    "    summarise(min_Wert = min(Wert), max = max(Wert), mean=mean(Wert)) %>%\n",
    "    mutate(range = max-min_Wert)"
   ]
  },
  {
   "cell_type": "markdown",
   "metadata": {
    "collapsed": false
   },
   "source": [
    "## Durchschnittstemperatur über die Zeit"
   ]
  },
  {
   "cell_type": "code",
   "execution_count": 25,
   "metadata": {
    "collapsed": false
   },
   "outputs": [
    {
     "name": "stderr",
     "output_type": "stream",
     "text": [
      "\n",
      "Attaching package: ‘lubridate’\n",
      "\n",
      "\n"
     ]
    },
    {
     "name": "stderr",
     "output_type": "stream",
     "text": [
      "The following objects are masked from ‘package:base’:\n",
      "\n",
      "    date, intersect, setdiff, union\n",
      "\n",
      "\n"
     ]
    }
   ],
   "source": [
    "library(lubridate)"
   ]
  },
  {
   "cell_type": "code",
   "execution_count": 27,
   "metadata": {
    "collapsed": false
   },
   "outputs": [
    {
     "data": {
      "text/html": [
       "<style>\n",
       ".list-inline {list-style: none; margin:0; padding: 0}\n",
       ".list-inline>li {display: inline-block}\n",
       ".list-inline>li:not(:last-child)::after {content: \"\\00b7\"; padding: 0 .5ex}\n",
       "</style>\n",
       "<ol class=list-inline><li>2005</li><li>2005</li><li>2005</li><li>2005</li><li>2005</li></ol>\n"
      ],
      "text/latex": [
       "\\begin{enumerate*}\n",
       "\\item 2005\n",
       "\\item 2005\n",
       "\\item 2005\n",
       "\\item 2005\n",
       "\\item 2005\n",
       "\\end{enumerate*}\n"
      ],
      "text/markdown": [
       "1. 2005\n",
       "2. 2005\n",
       "3. 2005\n",
       "4. 2005\n",
       "5. 2005\n",
       "\n",
       "\n"
      ],
      "text/plain": [
       "[1] 2005 2005 2005 2005 2005"
      ]
     },
     "execution_count": 27,
     "metadata": {
     },
     "output_type": "execute_result"
    }
   ],
   "source": [
    "data$Zeitstempel[1:5] %>% year"
   ]
  },
  {
   "cell_type": "code",
   "execution_count": 30,
   "metadata": {
    "collapsed": false
   },
   "outputs": [
   ],
   "source": [
    "data <- data %>% mutate(year = year(Zeitstempel))"
   ]
  },
  {
   "cell_type": "markdown",
   "metadata": {
    "collapsed": false
   },
   "source": [
    "**In Kitzingen beginnen die Daten im März 2005, der Durchschnitt für 2005 ist also verfälscht**"
   ]
  },
  {
   "cell_type": "code",
   "execution_count": 36,
   "metadata": {
    "collapsed": false
   },
   "outputs": [
    {
     "data": {
      "text/html": [
       "<table class=\"dataframe\">\n",
       "<caption>A spec_tbl_df: 10 × 2</caption>\n",
       "<thead>\n",
       "\t<tr><th scope=col>month(Zeitstempel)</th><th scope=col>n</th></tr>\n",
       "\t<tr><th scope=col>&lt;dbl&gt;</th><th scope=col>&lt;int&gt;</th></tr>\n",
       "</thead>\n",
       "<tbody>\n",
       "\t<tr><td> 3</td><td>744</td></tr>\n",
       "\t<tr><td> 4</td><td>720</td></tr>\n",
       "\t<tr><td> 5</td><td>744</td></tr>\n",
       "\t<tr><td> 6</td><td>720</td></tr>\n",
       "\t<tr><td> 7</td><td>744</td></tr>\n",
       "\t<tr><td> 8</td><td>744</td></tr>\n",
       "\t<tr><td> 9</td><td>720</td></tr>\n",
       "\t<tr><td>10</td><td>744</td></tr>\n",
       "\t<tr><td>11</td><td>720</td></tr>\n",
       "\t<tr><td>12</td><td>744</td></tr>\n",
       "</tbody>\n",
       "</table>\n"
      ],
      "text/latex": [
       "A spec\\_tbl\\_df: 10 × 2\n",
       "\\begin{tabular}{ll}\n",
       " month(Zeitstempel) & n\\\\\n",
       " <dbl> & <int>\\\\\n",
       "\\hline\n",
       "\t  3 & 744\\\\\n",
       "\t  4 & 720\\\\\n",
       "\t  5 & 744\\\\\n",
       "\t  6 & 720\\\\\n",
       "\t  7 & 744\\\\\n",
       "\t  8 & 744\\\\\n",
       "\t  9 & 720\\\\\n",
       "\t 10 & 744\\\\\n",
       "\t 11 & 720\\\\\n",
       "\t 12 & 744\\\\\n",
       "\\end{tabular}\n"
      ],
      "text/markdown": [
       "\n",
       "A spec_tbl_df: 10 × 2\n",
       "\n",
       "| month(Zeitstempel) &lt;dbl&gt; | n &lt;int&gt; |\n",
       "|---|---|\n",
       "|  3 | 744 |\n",
       "|  4 | 720 |\n",
       "|  5 | 744 |\n",
       "|  6 | 720 |\n",
       "|  7 | 744 |\n",
       "|  8 | 744 |\n",
       "|  9 | 720 |\n",
       "| 10 | 744 |\n",
       "| 11 | 720 |\n",
       "| 12 | 744 |\n",
       "\n"
      ],
      "text/plain": [
       "   month(Zeitstempel) n  \n",
       "1   3                 744\n",
       "2   4                 720\n",
       "3   5                 744\n",
       "4   6                 720\n",
       "5   7                 744\n",
       "6   8                 744\n",
       "7   9                 720\n",
       "8  10                 744\n",
       "9  11                 720\n",
       "10 12                 744"
      ]
     },
     "execution_count": 36,
     "metadata": {
     },
     "output_type": "execute_result"
    }
   ],
   "source": [
    "data %>% filter(SDO_ID == \"Kitzingen\", year==2005) %>% count(month(Zeitstempel))"
   ]
  },
  {
   "cell_type": "code",
   "execution_count": 39,
   "metadata": {
    "collapsed": false
   },
   "outputs": [
    {
     "name": "stderr",
     "output_type": "stream",
     "text": [
      "`summarise()` has grouped output by 'SDO_ID'. You can override using the `.groups` argument.\n",
      "\n"
     ]
    },
    {
     "data": {
      "image/png": "[encoded data removed]",
      "text/plain": [
       "plot without title"
      ]
     },
     "execution_count": 39,
     "metadata": {
      "image/png": {
       "height": 420,
       "width": 420
      }
     },
     "output_type": "execute_result"
    }
   ],
   "source": [
    "data %>% \n",
    "        filter(SDO_ID==\"Würzburg\" | year > 2005) %>% # ignore Kitzingen 2005 it is incomplete (jan and feb missing)\n",
    "        group_by(SDO_ID, year) %>%\n",
    "        summarise(mean=mean(Wert)) %>%\n",
    "        ggplot(aes(x = year, y = mean, col = SDO_ID)) + geom_line()"
   ]
  },
  {
   "cell_type": "markdown",
   "metadata": {
    "collapsed": false
   },
   "source": [
    "## Weitere Ideen\n",
    "\n",
    "Es gibt noch sehr viele Möglichkeiten für weitere Fragestellungen. Zum Beispiel kann man den erkennbaren Trend in der jährlichen Durchschnittstemperatur versuchen zu modellieren oder allgemein Vorhersagemodelle erstellen und testen."
   ]
  }
 ],
 "metadata": {
  "kernelspec": {
   "display_name": "R (system-wide)",
   "language": "r",
   "metadata": {
    "cocalc": {
     "description": "R statistical programming language",
     "priority": 10,
     "url": "https://www.r-project.org/"
    }
   },
   "name": "ir",
   "resource_dir": "/ext/jupyter/kernels/ir"
  },
  "language_info": {
   "codemirror_mode": "r",
   "file_extension": ".r",
   "mimetype": "text/x-r-source",
   "name": "R",
   "pygments_lexer": "r",
   "version": "4.1.1"
  }
 },
 "nbformat": 4,
 "nbformat_minor": 4
}