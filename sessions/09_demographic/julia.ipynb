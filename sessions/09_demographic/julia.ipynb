{
 "cells": [
  {
   "cell_type": "code",
   "execution_count": 34,
   "metadata": {
    "collapsed": false
   },
   "outputs": [
   ],
   "source": [
    "using CSV\n",
    "using Chain \n",
    "using DataFramesMeta\n",
    "using Statistics\n",
    "import DataFrames as df"
   ]
  },
  {
   "cell_type": "code",
   "execution_count": 0,
   "metadata": {
    "collapsed": false
   },
   "outputs": [
   ],
   "source": [
   ]
  },
  {
   "cell_type": "code",
   "execution_count": 0,
   "metadata": {
    "collapsed": false
   },
   "outputs": [
   ],
   "source": [
   ]
  },
  {
   "cell_type": "code",
   "execution_count": 8,
   "metadata": {
    "collapsed": false
   },
   "outputs": [
    {
     "data": {
      "text/plain": [
       "350"
      ]
     },
     "execution_count": 8,
     "metadata": {
     },
     "output_type": "execute_result"
    }
   ],
   "source": [
    "ENV[\"COLUMNS\"] = 350"
   ]
  },
  {
   "cell_type": "code",
   "execution_count": 11,
   "metadata": {
    "collapsed": false
   },
   "outputs": [
    {
     "data": {
      "text/html": [
       "<table class=\"data-frame\"><thead><tr><th></th><th>datum</th><th>wahl</th><th>ags</th><th>gebiet-nr</th><th>gebiet-name</th><th>max-schnellmeldungen</th><th>anz-schnellmeldungen</th><th>A1</th><th>A2</th><th>A3</th><th>A</th><th>B</th><th>B1</th><th>C</th><th>D</th><th>E</th><th>F</th><th>D1</th><th>F1</th><th>D2</th><th>F2</th><th>D3</th><th>F3</th><th>D4</th><th>F4</th><th>D5</th><th>F5</th><th>D6</th><th>F6</th><th>D7</th><th>F7</th><th>D8</th><th>F8</th><th>D9</th><th>F9</th><th>D10</th><th>F10</th><th>D11</th><th>F11</th><th>D12</th></tr><tr><th></th><th>String</th><th>String</th><th>Int64</th><th>Missing</th><th>String</th><th>Int64</th><th>Int64</th><th>Int64</th><th>Int64</th><th>Int64</th><th>Int64</th><th>Int64</th><th>Int64</th><th>Int64</th><th>Int64</th><th>Int64</th><th>Int64</th><th>Int64</th><th>Int64</th><th>Int64</th><th>Int64</th><th>Int64</th><th>Int64</th><th>Int64</th><th>Int64</th><th>Int64</th><th>Int64</th><th>Int64</th><th>Int64</th><th>Int64</th><th>Int64</th><th>Int64</th><th>Int64</th><th>Int64</th><th>Int64</th><th>Int64</th><th>Int64</th><th>Int64</th><th>Int64</th><th>Int64</th></tr></thead><tbody><p>13 rows × 71 columns (omitted printing of 31 columns)</p><tr><th>1</th><td>26.09.2021</td><td>Wahl zum Deutschen Bundestag</td><td>9663000</td><td><em>missing</em></td><td>ALTSTADT</td><td>32</td><td>32</td><td>5959</td><td>9117</td><td>0</td><td>15076</td><td>12529</td><td>8761</td><td>107</td><td>12422</td><td>42</td><td>12487</td><td>2814</td><td>2333</td><td>1845</td><td>2030</td><td>0</td><td>477</td><td>1530</td><td>1538</td><td>4449</td><td>4267</td><td>793</td><td>835</td><td>380</td><td>233</td><td>167</td><td>71</td><td>0</td><td>115</td><td>0</td><td>5</td><td>0</td><td>163</td><td>0</td></tr><tr><th>2</th><td>26.09.2021</td><td>Wahl zum Deutschen Bundestag</td><td>9663000</td><td><em>missing</em></td><td>ZELLERAU</td><td>12</td><td>12</td><td>4313</td><td>4097</td><td>0</td><td>8410</td><td>6226</td><td>3905</td><td>77</td><td>6149</td><td>41</td><td>6185</td><td>1370</td><td>1173</td><td>1221</td><td>1240</td><td>0</td><td>393</td><td>589</td><td>529</td><td>1844</td><td>1731</td><td>513</td><td>541</td><td>246</td><td>159</td><td>95</td><td>37</td><td>0</td><td>69</td><td>0</td><td>9</td><td>0</td><td>76</td><td>0</td></tr><tr><th>3</th><td>26.09.2021</td><td>Wahl zum Deutschen Bundestag</td><td>9663000</td><td><em>missing</em></td><td>DÜRRBACHTAL</td><td>10</td><td>10</td><td>1936</td><td>2517</td><td>0</td><td>4453</td><td>3690</td><td>2384</td><td>43</td><td>3647</td><td>17</td><td>3673</td><td>1410</td><td>1174</td><td>627</td><td>744</td><td>0</td><td>242</td><td>407</td><td>380</td><td>686</td><td>674</td><td>153</td><td>130</td><td>166</td><td>110</td><td>49</td><td>21</td><td>0</td><td>59</td><td>0</td><td>6</td><td>0</td><td>23</td><td>0</td></tr><tr><th>4</th><td>26.09.2021</td><td>Wahl zum Deutschen Bundestag</td><td>9663000</td><td><em>missing</em></td><td>GROMBÜHL</td><td>10</td><td>10</td><td>2900</td><td>3188</td><td>0</td><td>6088</td><td>4558</td><td>3052</td><td>42</td><td>4516</td><td>14</td><td>4544</td><td>883</td><td>733</td><td>844</td><td>845</td><td>0</td><td>202</td><td>479</td><td>495</td><td>1553</td><td>1446</td><td>364</td><td>376</td><td>170</td><td>118</td><td>65</td><td>38</td><td>0</td><td>64</td><td>0</td><td>2</td><td>0</td><td>66</td><td>0</td></tr><tr><th>5</th><td>26.09.2021</td><td>Wahl zum Deutschen Bundestag</td><td>9663000</td><td><em>missing</em></td><td>LINDLEINSMÜHLE</td><td>4</td><td>4</td><td>1916</td><td>1386</td><td>0</td><td>3302</td><td>2128</td><td>1303</td><td>38</td><td>2090</td><td>23</td><td>2105</td><td>726</td><td>646</td><td>473</td><td>494</td><td>0</td><td>275</td><td>248</td><td>184</td><td>266</td><td>255</td><td>131</td><td>96</td><td>128</td><td>55</td><td>23</td><td>11</td><td>0</td><td>16</td><td>0</td><td>1</td><td>0</td><td>15</td><td>0</td></tr><tr><th>6</th><td>26.09.2021</td><td>Wahl zum Deutschen Bundestag</td><td>9663000</td><td><em>missing</em></td><td>FRAUENLAND</td><td>26</td><td>26</td><td>6084</td><td>8374</td><td>0</td><td>14458</td><td>12074</td><td>7958</td><td>91</td><td>11983</td><td>41</td><td>12033</td><td>3398</td><td>2905</td><td>1867</td><td>2167</td><td>0</td><td>520</td><td>1482</td><td>1429</td><td>3630</td><td>3417</td><td>585</td><td>600</td><td>399</td><td>265</td><td>172</td><td>81</td><td>0</td><td>131</td><td>0</td><td>10</td><td>0</td><td>111</td><td>0</td></tr><tr><th>7</th><td>26.09.2021</td><td>Wahl zum Deutschen Bundestag</td><td>9663000</td><td><em>missing</em></td><td>SANDERAU</td><td>16</td><td>16</td><td>4463</td><td>6685</td><td>0</td><td>11148</td><td>9191</td><td>6361</td><td>63</td><td>9128</td><td>29</td><td>9162</td><td>2273</td><td>1951</td><td>1574</td><td>1681</td><td>0</td><td>331</td><td>1008</td><td>979</td><td>3020</td><td>2888</td><td>529</td><td>554</td><td>268</td><td>224</td><td>133</td><td>56</td><td>0</td><td>84</td><td>0</td><td>4</td><td>0</td><td>78</td><td>0</td></tr><tr><th>8</th><td>26.09.2021</td><td>Wahl zum Deutschen Bundestag</td><td>9663000</td><td><em>missing</em></td><td>HEIDINGSFELD</td><td>14</td><td>14</td><td>3652</td><td>4135</td><td>0</td><td>7787</td><td>5934</td><td>3918</td><td>76</td><td>5858</td><td>44</td><td>5890</td><td>2134</td><td>1788</td><td>1095</td><td>1268</td><td>0</td><td>405</td><td>587</td><td>549</td><td>1138</td><td>1074</td><td>252</td><td>257</td><td>282</td><td>181</td><td>98</td><td>53</td><td>0</td><td>70</td><td>0</td><td>6</td><td>0</td><td>46</td><td>0</td></tr><tr><th>9</th><td>26.09.2021</td><td>Wahl zum Deutschen Bundestag</td><td>9663000</td><td><em>missing</em></td><td>HEUCHELHOF</td><td>12</td><td>12</td><td>4108</td><td>2408</td><td>0</td><td>6516</td><td>4291</td><td>2295</td><td>105</td><td>4186</td><td>54</td><td>4237</td><td>1499</td><td>1274</td><td>858</td><td>856</td><td>0</td><td>645</td><td>555</td><td>425</td><td>557</td><td>565</td><td>215</td><td>161</td><td>229</td><td>84</td><td>35</td><td>18</td><td>0</td><td>48</td><td>0</td><td>0</td><td>0</td><td>18</td><td>0</td></tr><tr><th>10</th><td>26.09.2021</td><td>Wahl zum Deutschen Bundestag</td><td>9663000</td><td><em>missing</em></td><td>STEINBACHTAL</td><td>8</td><td>8</td><td>1318</td><td>2368</td><td>0</td><td>3686</td><td>3227</td><td>2262</td><td>15</td><td>3212</td><td>2</td><td>3225</td><td>1089</td><td>959</td><td>405</td><td>443</td><td>0</td><td>127</td><td>535</td><td>548</td><td>856</td><td>817</td><td>130</td><td>131</td><td>81</td><td>62</td><td>30</td><td>10</td><td>0</td><td>32</td><td>0</td><td>1</td><td>0</td><td>16</td><td>0</td></tr><tr><th>11</th><td>26.09.2021</td><td>Wahl zum Deutschen Bundestag</td><td>9663000</td><td><em>missing</em></td><td>VERSBACH</td><td>8</td><td>8</td><td>2262</td><td>3075</td><td>0</td><td>5337</td><td>4368</td><td>2949</td><td>48</td><td>4320</td><td>17</td><td>4351</td><td>1492</td><td>1251</td><td>864</td><td>943</td><td>0</td><td>279</td><td>489</td><td>443</td><td>839</td><td>864</td><td>183</td><td>163</td><td>214</td><td>158</td><td>65</td><td>24</td><td>0</td><td>43</td><td>0</td><td>3</td><td>0</td><td>32</td><td>0</td></tr><tr><th>12</th><td>26.09.2021</td><td>Wahl zum Deutschen Bundestag</td><td>9663000</td><td><em>missing</em></td><td>LENGFELD</td><td>14</td><td>14</td><td>3620</td><td>4529</td><td>0</td><td>8149</td><td>6418</td><td>4321</td><td>69</td><td>6349</td><td>25</td><td>6393</td><td>2250</td><td>1889</td><td>1265</td><td>1378</td><td>0</td><td>441</td><td>780</td><td>714</td><td>1166</td><td>1168</td><td>252</td><td>241</td><td>298</td><td>175</td><td>80</td><td>41</td><td>0</td><td>62</td><td>0</td><td>12</td><td>0</td><td>54</td><td>0</td></tr><tr><th>13</th><td>26.09.2021</td><td>Wahl zum Deutschen Bundestag</td><td>9663000</td><td><em>missing</em></td><td>ROTTENBAUER</td><td>6</td><td>6</td><td>1483</td><td>1694</td><td>0</td><td>3177</td><td>2608</td><td>1608</td><td>59</td><td>2549</td><td>23</td><td>2585</td><td>944</td><td>769</td><td>442</td><td>494</td><td>0</td><td>232</td><td>284</td><td>296</td><td>498</td><td>498</td><td>82</td><td>81</td><td>120</td><td>84</td><td>39</td><td>19</td><td>0</td><td>16</td><td>0</td><td>4</td><td>0</td><td>12</td><td>0</td></tr></tbody></table>"
      ],
      "text/latex": [
       "\\begin{tabular}{r|ccccccccccccccccccccccccccccccccccccccccc}\n",
       "\t& datum & wahl & ags & gebiet-nr & gebiet-name & max-schnellmeldungen & anz-schnellmeldungen & A1 & A2 & A3 & A & B & B1 & C & D & E & F & D1 & F1 & D2 & F2 & D3 & F3 & D4 & F4 & D5 & F5 & D6 & F6 & D7 & F7 & D8 & F8 & D9 & F9 & D10 & F10 & D11 & F11 & D12 & \\\\\n",
       "\t\\hline\n",
       "\t& String & String & Int64 & Missing & String & Int64 & Int64 & Int64 & Int64 & Int64 & Int64 & Int64 & Int64 & Int64 & Int64 & Int64 & Int64 & Int64 & Int64 & Int64 & Int64 & Int64 & Int64 & Int64 & Int64 & Int64 & Int64 & Int64 & Int64 & Int64 & Int64 & Int64 & Int64 & Int64 & Int64 & Int64 & Int64 & Int64 & Int64 & Int64 & \\\\\n",
       "\t\\hline\n",
       "\t1 & 26.09.2021 & Wahl zum Deutschen Bundestag & 9663000 & \\emph{missing} & ALTSTADT & 32 & 32 & 5959 & 9117 & 0 & 15076 & 12529 & 8761 & 107 & 12422 & 42 & 12487 & 2814 & 2333 & 1845 & 2030 & 0 & 477 & 1530 & 1538 & 4449 & 4267 & 793 & 835 & 380 & 233 & 167 & 71 & 0 & 115 & 0 & 5 & 0 & 163 & 0 & $\\dots$ \\\\\n",
       "\t2 & 26.09.2021 & Wahl zum Deutschen Bundestag & 9663000 & \\emph{missing} & ZELLERAU & 12 & 12 & 4313 & 4097 & 0 & 8410 & 6226 & 3905 & 77 & 6149 & 41 & 6185 & 1370 & 1173 & 1221 & 1240 & 0 & 393 & 589 & 529 & 1844 & 1731 & 513 & 541 & 246 & 159 & 95 & 37 & 0 & 69 & 0 & 9 & 0 & 76 & 0 & $\\dots$ \\\\\n",
       "\t3 & 26.09.2021 & Wahl zum Deutschen Bundestag & 9663000 & \\emph{missing} & DÜRRBACHTAL & 10 & 10 & 1936 & 2517 & 0 & 4453 & 3690 & 2384 & 43 & 3647 & 17 & 3673 & 1410 & 1174 & 627 & 744 & 0 & 242 & 407 & 380 & 686 & 674 & 153 & 130 & 166 & 110 & 49 & 21 & 0 & 59 & 0 & 6 & 0 & 23 & 0 & $\\dots$ \\\\\n",
       "\t4 & 26.09.2021 & Wahl zum Deutschen Bundestag & 9663000 & \\emph{missing} & GROMBÜHL & 10 & 10 & 2900 & 3188 & 0 & 6088 & 4558 & 3052 & 42 & 4516 & 14 & 4544 & 883 & 733 & 844 & 845 & 0 & 202 & 479 & 495 & 1553 & 1446 & 364 & 376 & 170 & 118 & 65 & 38 & 0 & 64 & 0 & 2 & 0 & 66 & 0 & $\\dots$ \\\\\n",
       "\t5 & 26.09.2021 & Wahl zum Deutschen Bundestag & 9663000 & \\emph{missing} & LINDLEINSMÜHLE & 4 & 4 & 1916 & 1386 & 0 & 3302 & 2128 & 1303 & 38 & 2090 & 23 & 2105 & 726 & 646 & 473 & 494 & 0 & 275 & 248 & 184 & 266 & 255 & 131 & 96 & 128 & 55 & 23 & 11 & 0 & 16 & 0 & 1 & 0 & 15 & 0 & $\\dots$ \\\\\n",
       "\t6 & 26.09.2021 & Wahl zum Deutschen Bundestag & 9663000 & \\emph{missing} & FRAUENLAND & 26 & 26 & 6084 & 8374 & 0 & 14458 & 12074 & 7958 & 91 & 11983 & 41 & 12033 & 3398 & 2905 & 1867 & 2167 & 0 & 520 & 1482 & 1429 & 3630 & 3417 & 585 & 600 & 399 & 265 & 172 & 81 & 0 & 131 & 0 & 10 & 0 & 111 & 0 & $\\dots$ \\\\\n",
       "\t7 & 26.09.2021 & Wahl zum Deutschen Bundestag & 9663000 & \\emph{missing} & SANDERAU & 16 & 16 & 4463 & 6685 & 0 & 11148 & 9191 & 6361 & 63 & 9128 & 29 & 9162 & 2273 & 1951 & 1574 & 1681 & 0 & 331 & 1008 & 979 & 3020 & 2888 & 529 & 554 & 268 & 224 & 133 & 56 & 0 & 84 & 0 & 4 & 0 & 78 & 0 & $\\dots$ \\\\\n",
       "\t8 & 26.09.2021 & Wahl zum Deutschen Bundestag & 9663000 & \\emph{missing} & HEIDINGSFELD & 14 & 14 & 3652 & 4135 & 0 & 7787 & 5934 & 3918 & 76 & 5858 & 44 & 5890 & 2134 & 1788 & 1095 & 1268 & 0 & 405 & 587 & 549 & 1138 & 1074 & 252 & 257 & 282 & 181 & 98 & 53 & 0 & 70 & 0 & 6 & 0 & 46 & 0 & $\\dots$ \\\\\n",
       "\t9 & 26.09.2021 & Wahl zum Deutschen Bundestag & 9663000 & \\emph{missing} & HEUCHELHOF & 12 & 12 & 4108 & 2408 & 0 & 6516 & 4291 & 2295 & 105 & 4186 & 54 & 4237 & 1499 & 1274 & 858 & 856 & 0 & 645 & 555 & 425 & 557 & 565 & 215 & 161 & 229 & 84 & 35 & 18 & 0 & 48 & 0 & 0 & 0 & 18 & 0 & $\\dots$ \\\\\n",
       "\t10 & 26.09.2021 & Wahl zum Deutschen Bundestag & 9663000 & \\emph{missing} & STEINBACHTAL & 8 & 8 & 1318 & 2368 & 0 & 3686 & 3227 & 2262 & 15 & 3212 & 2 & 3225 & 1089 & 959 & 405 & 443 & 0 & 127 & 535 & 548 & 856 & 817 & 130 & 131 & 81 & 62 & 30 & 10 & 0 & 32 & 0 & 1 & 0 & 16 & 0 & $\\dots$ \\\\\n",
       "\t11 & 26.09.2021 & Wahl zum Deutschen Bundestag & 9663000 & \\emph{missing} & VERSBACH & 8 & 8 & 2262 & 3075 & 0 & 5337 & 4368 & 2949 & 48 & 4320 & 17 & 4351 & 1492 & 1251 & 864 & 943 & 0 & 279 & 489 & 443 & 839 & 864 & 183 & 163 & 214 & 158 & 65 & 24 & 0 & 43 & 0 & 3 & 0 & 32 & 0 & $\\dots$ \\\\\n",
       "\t12 & 26.09.2021 & Wahl zum Deutschen Bundestag & 9663000 & \\emph{missing} & LENGFELD & 14 & 14 & 3620 & 4529 & 0 & 8149 & 6418 & 4321 & 69 & 6349 & 25 & 6393 & 2250 & 1889 & 1265 & 1378 & 0 & 441 & 780 & 714 & 1166 & 1168 & 252 & 241 & 298 & 175 & 80 & 41 & 0 & 62 & 0 & 12 & 0 & 54 & 0 & $\\dots$ \\\\\n",
       "\t13 & 26.09.2021 & Wahl zum Deutschen Bundestag & 9663000 & \\emph{missing} & ROTTENBAUER & 6 & 6 & 1483 & 1694 & 0 & 3177 & 2608 & 1608 & 59 & 2549 & 23 & 2585 & 944 & 769 & 442 & 494 & 0 & 232 & 284 & 296 & 498 & 498 & 82 & 81 & 120 & 84 & 39 & 19 & 0 & 16 & 0 & 4 & 0 & 12 & 0 & $\\dots$ \\\\\n",
       "\\end{tabular}\n"
      ],
      "text/plain": [
       "13×71 DataFrame. Omitted printing of 38 columns\n",
       "│ Row │ datum      │ wahl                         │ ags     │ gebiet-nr │ gebiet-name    │ max-schnellmeldungen │ anz-schnellmeldungen │ A1    │ A2    │ A3    │ A     │ B     │ B1    │ C     │ D     │ E     │ F     │ D1    │ F1    │ D2    │ F2    │ D3    │ F3    │ D4    │ F4    │ D5    │ F5    │ D6    │ F6    │ D7    │ F7    │ D8    │ F8    │\n",
       "│     │ \u001b[90mString\u001b[39m     │ \u001b[90mString\u001b[39m                       │ \u001b[90mInt64\u001b[39m   │ \u001b[90mMissing\u001b[39m   │ \u001b[90mString\u001b[39m         │ \u001b[90mInt64\u001b[39m                │ \u001b[90mInt64\u001b[39m                │ \u001b[90mInt64\u001b[39m │ \u001b[90mInt64\u001b[39m │ \u001b[90mInt64\u001b[39m │ \u001b[90mInt64\u001b[39m │ \u001b[90mInt64\u001b[39m │ \u001b[90mInt64\u001b[39m │ \u001b[90mInt64\u001b[39m │ \u001b[90mInt64\u001b[39m │ \u001b[90mInt64\u001b[39m │ \u001b[90mInt64\u001b[39m │ \u001b[90mInt64\u001b[39m │ \u001b[90mInt64\u001b[39m │ \u001b[90mInt64\u001b[39m │ \u001b[90mInt64\u001b[39m │ \u001b[90mInt64\u001b[39m │ \u001b[90mInt64\u001b[39m │ \u001b[90mInt64\u001b[39m │ \u001b[90mInt64\u001b[39m │ \u001b[90mInt64\u001b[39m │ \u001b[90mInt64\u001b[39m │ \u001b[90mInt64\u001b[39m │ \u001b[90mInt64\u001b[39m │ \u001b[90mInt64\u001b[39m │ \u001b[90mInt64\u001b[39m │ \u001b[90mInt64\u001b[39m │ \u001b[90mInt64\u001b[39m │\n",
       "├─────┼────────────┼──────────────────────────────┼─────────┼───────────┼────────────────┼──────────────────────┼──────────────────────┼───────┼───────┼───────┼───────┼───────┼───────┼───────┼───────┼───────┼───────┼───────┼───────┼───────┼───────┼───────┼───────┼───────┼───────┼───────┼───────┼───────┼───────┼───────┼───────┼───────┼───────┤\n",
       "│ 1   │ 26.09.2021 │ Wahl zum Deutschen Bundestag │ 9663000 │ \u001b[90mmissing\u001b[39m   │ ALTSTADT       │ 32                   │ 32                   │ 5959  │ 9117  │ 0     │ 15076 │ 12529 │ 8761  │ 107   │ 12422 │ 42    │ 12487 │ 2814  │ 2333  │ 1845  │ 2030  │ 0     │ 477   │ 1530  │ 1538  │ 4449  │ 4267  │ 793   │ 835   │ 380   │ 233   │ 167   │ 71    │\n",
       "│ 2   │ 26.09.2021 │ Wahl zum Deutschen Bundestag │ 9663000 │ \u001b[90mmissing\u001b[39m   │ ZELLERAU       │ 12                   │ 12                   │ 4313  │ 4097  │ 0     │ 8410  │ 6226  │ 3905  │ 77    │ 6149  │ 41    │ 6185  │ 1370  │ 1173  │ 1221  │ 1240  │ 0     │ 393   │ 589   │ 529   │ 1844  │ 1731  │ 513   │ 541   │ 246   │ 159   │ 95    │ 37    │\n",
       "│ 3   │ 26.09.2021 │ Wahl zum Deutschen Bundestag │ 9663000 │ \u001b[90mmissing\u001b[39m   │ DÜRRBACHTAL    │ 10                   │ 10                   │ 1936  │ 2517  │ 0     │ 4453  │ 3690  │ 2384  │ 43    │ 3647  │ 17    │ 3673  │ 1410  │ 1174  │ 627   │ 744   │ 0     │ 242   │ 407   │ 380   │ 686   │ 674   │ 153   │ 130   │ 166   │ 110   │ 49    │ 21    │\n",
       "│ 4   │ 26.09.2021 │ Wahl zum Deutschen Bundestag │ 9663000 │ \u001b[90mmissing\u001b[39m   │ GROMBÜHL       │ 10                   │ 10                   │ 2900  │ 3188  │ 0     │ 6088  │ 4558  │ 3052  │ 42    │ 4516  │ 14    │ 4544  │ 883   │ 733   │ 844   │ 845   │ 0     │ 202   │ 479   │ 495   │ 1553  │ 1446  │ 364   │ 376   │ 170   │ 118   │ 65    │ 38    │\n",
       "│ 5   │ 26.09.2021 │ Wahl zum Deutschen Bundestag │ 9663000 │ \u001b[90mmissing\u001b[39m   │ LINDLEINSMÜHLE │ 4                    │ 4                    │ 1916  │ 1386  │ 0     │ 3302  │ 2128  │ 1303  │ 38    │ 2090  │ 23    │ 2105  │ 726   │ 646   │ 473   │ 494   │ 0     │ 275   │ 248   │ 184   │ 266   │ 255   │ 131   │ 96    │ 128   │ 55    │ 23    │ 11    │\n",
       "│ 6   │ 26.09.2021 │ Wahl zum Deutschen Bundestag │ 9663000 │ \u001b[90mmissing\u001b[39m   │ FRAUENLAND     │ 26                   │ 26                   │ 6084  │ 8374  │ 0     │ 14458 │ 12074 │ 7958  │ 91    │ 11983 │ 41    │ 12033 │ 3398  │ 2905  │ 1867  │ 2167  │ 0     │ 520   │ 1482  │ 1429  │ 3630  │ 3417  │ 585   │ 600   │ 399   │ 265   │ 172   │ 81    │\n",
       "│ 7   │ 26.09.2021 │ Wahl zum Deutschen Bundestag │ 9663000 │ \u001b[90mmissing\u001b[39m   │ SANDERAU       │ 16                   │ 16                   │ 4463  │ 6685  │ 0     │ 11148 │ 9191  │ 6361  │ 63    │ 9128  │ 29    │ 9162  │ 2273  │ 1951  │ 1574  │ 1681  │ 0     │ 331   │ 1008  │ 979   │ 3020  │ 2888  │ 529   │ 554   │ 268   │ 224   │ 133   │ 56    │\n",
       "│ 8   │ 26.09.2021 │ Wahl zum Deutschen Bundestag │ 9663000 │ \u001b[90mmissing\u001b[39m   │ HEIDINGSFELD   │ 14                   │ 14                   │ 3652  │ 4135  │ 0     │ 7787  │ 5934  │ 3918  │ 76    │ 5858  │ 44    │ 5890  │ 2134  │ 1788  │ 1095  │ 1268  │ 0     │ 405   │ 587   │ 549   │ 1138  │ 1074  │ 252   │ 257   │ 282   │ 181   │ 98    │ 53    │\n",
       "│ 9   │ 26.09.2021 │ Wahl zum Deutschen Bundestag │ 9663000 │ \u001b[90mmissing\u001b[39m   │ HEUCHELHOF     │ 12                   │ 12                   │ 4108  │ 2408  │ 0     │ 6516  │ 4291  │ 2295  │ 105   │ 4186  │ 54    │ 4237  │ 1499  │ 1274  │ 858   │ 856   │ 0     │ 645   │ 555   │ 425   │ 557   │ 565   │ 215   │ 161   │ 229   │ 84    │ 35    │ 18    │\n",
       "│ 10  │ 26.09.2021 │ Wahl zum Deutschen Bundestag │ 9663000 │ \u001b[90mmissing\u001b[39m   │ STEINBACHTAL   │ 8                    │ 8                    │ 1318  │ 2368  │ 0     │ 3686  │ 3227  │ 2262  │ 15    │ 3212  │ 2     │ 3225  │ 1089  │ 959   │ 405   │ 443   │ 0     │ 127   │ 535   │ 548   │ 856   │ 817   │ 130   │ 131   │ 81    │ 62    │ 30    │ 10    │\n",
       "│ 11  │ 26.09.2021 │ Wahl zum Deutschen Bundestag │ 9663000 │ \u001b[90mmissing\u001b[39m   │ VERSBACH       │ 8                    │ 8                    │ 2262  │ 3075  │ 0     │ 5337  │ 4368  │ 2949  │ 48    │ 4320  │ 17    │ 4351  │ 1492  │ 1251  │ 864   │ 943   │ 0     │ 279   │ 489   │ 443   │ 839   │ 864   │ 183   │ 163   │ 214   │ 158   │ 65    │ 24    │\n",
       "│ 12  │ 26.09.2021 │ Wahl zum Deutschen Bundestag │ 9663000 │ \u001b[90mmissing\u001b[39m   │ LENGFELD       │ 14                   │ 14                   │ 3620  │ 4529  │ 0     │ 8149  │ 6418  │ 4321  │ 69    │ 6349  │ 25    │ 6393  │ 2250  │ 1889  │ 1265  │ 1378  │ 0     │ 441   │ 780   │ 714   │ 1166  │ 1168  │ 252   │ 241   │ 298   │ 175   │ 80    │ 41    │\n",
       "│ 13  │ 26.09.2021 │ Wahl zum Deutschen Bundestag │ 9663000 │ \u001b[90mmissing\u001b[39m   │ ROTTENBAUER    │ 6                    │ 6                    │ 1483  │ 1694  │ 0     │ 3177  │ 2608  │ 1608  │ 59    │ 2549  │ 23    │ 2585  │ 944   │ 769   │ 442   │ 494   │ 0     │ 232   │ 284   │ 296   │ 498   │ 498   │ 82    │ 81    │ 120   │ 84    │ 39    │ 19    │"
      ]
     },
     "execution_count": 11,
     "metadata": {
     },
     "output_type": "execute_result"
    }
   ],
   "source": [
    "data = DataFrame(CSV.File(\"Open-Data-Bundestagswahl1343_wue_stadt.csv\"))"
   ]
  },
  {
   "cell_type": "code",
   "execution_count": 2,
   "metadata": {
    "collapsed": false
   },
   "outputs": [
    {
     "ename": "LoadError",
     "evalue": "MethodError: no method matching -(::Symbol)\n\u001b[0mClosest candidates are:\n\u001b[0m  -(\u001b[91m::Union{Int128, Int16, Int32, Int64, Int8, UInt128, UInt16, UInt32, UInt64, UInt8}\u001b[39m) at /ext/julia/julia-1.7.1/share/julia/base/int.jl:85\n\u001b[0m  -(\u001b[91m::T\u001b[39m, \u001b[91m::T\u001b[39m) where T<:Union{Int128, Int16, Int32, Int64, Int8, UInt128, UInt16, UInt32, UInt64, UInt8} at /ext/julia/julia-1.7.1/share/julia/base/int.jl:86\n\u001b[0m  -(\u001b[91m::Union{UInt16, UInt32, UInt64, UInt8}\u001b[39m, \u001b[91m::BigInt\u001b[39m) at /ext/julia/julia-1.7.1/share/julia/base/gmp.jl:532\n\u001b[0m  ...",
     "output_type": "error",
     "traceback": [
      "MethodError: no method matching -(::Symbol)\n\u001b[0mClosest candidates are:\n\u001b[0m  -(\u001b[91m::Union{Int128, Int16, Int32, Int64, Int8, UInt128, UInt16, UInt32, UInt64, UInt8}\u001b[39m) at /ext/julia/julia-1.7.1/share/julia/base/int.jl:85\n\u001b[0m  -(\u001b[91m::T\u001b[39m, \u001b[91m::T\u001b[39m) where T<:Union{Int128, Int16, Int32, Int64, Int8, UInt128, UInt16, UInt32, UInt64, UInt8} at /ext/julia/julia-1.7.1/share/julia/base/int.jl:86\n\u001b[0m  -(\u001b[91m::Union{UInt16, UInt32, UInt64, UInt8}\u001b[39m, \u001b[91m::BigInt\u001b[39m) at /ext/julia/julia-1.7.1/share/julia/base/gmp.jl:532\n\u001b[0m  ...",
      "",
      "Stacktrace:",
      " [1] top-level scope",
      "   @ In[2]:1",
      " [2] eval",
      "   @ ./boot.jl:373 [inlined]",
      " [3] include_string(mapexpr::typeof(REPL.softscope), mod::Module, code::String, filename::String)",
      "   @ Base ./loading.jl:1196"
     ]
    }
   ],
   "source": [
    "select(data,-:A2)"
   ]
  },
  {
   "cell_type": "code",
   "execution_count": 24,
   "metadata": {
    "collapsed": false,
    "scrolled": true
   },
   "outputs": [
    {
     "data": {
      "text/html": [
       "<table class=\"data-frame\"><thead><tr><th></th><th>F1</th><th>D2</th><th>F2</th><th>D3</th><th>F3</th><th>D4</th><th>F4</th><th>D5</th><th>F5</th><th>D6</th><th>F6</th><th>D7</th><th>F7</th><th>D8</th><th>F8</th><th>D9</th><th>F9</th><th>D10</th><th>F10</th><th>D11</th><th>F11</th><th>D12</th><th>F12</th><th>D13</th><th>F13</th><th>D14</th><th>F14</th><th>D15</th><th>F15</th><th>D16</th><th>F16</th><th>D17</th><th>F17</th><th>D18</th><th>F18</th><th>D19</th><th>F19</th><th>D20</th><th>F20</th><th>D21</th><th>F21</th><th>D22</th><th>F22</th><th>D23</th><th>F23</th><th>D24</th><th>F24</th><th>D25</th><th>F25</th><th>D26</th></tr><tr><th></th><th>Int64</th><th>Int64</th><th>Int64</th><th>Int64</th><th>Int64</th><th>Int64</th><th>Int64</th><th>Int64</th><th>Int64</th><th>Int64</th><th>Int64</th><th>Int64</th><th>Int64</th><th>Int64</th><th>Int64</th><th>Int64</th><th>Int64</th><th>Int64</th><th>Int64</th><th>Int64</th><th>Int64</th><th>Int64</th><th>Int64</th><th>Int64</th><th>Int64</th><th>Int64</th><th>Int64</th><th>Int64</th><th>Int64</th><th>Int64</th><th>Int64</th><th>Int64</th><th>Int64</th><th>Int64</th><th>Int64</th><th>Int64</th><th>Int64</th><th>Int64</th><th>Int64</th><th>Int64</th><th>Int64</th><th>Int64</th><th>Int64</th><th>Int64</th><th>Int64</th><th>Int64</th><th>Int64</th><th>Int64</th><th>Int64</th><th>Int64</th></tr></thead><tbody><p>13 rows × 53 columns (omitted printing of 3 columns)</p><tr><th>1</th><td>2333</td><td>1845</td><td>2030</td><td>0</td><td>477</td><td>1530</td><td>1538</td><td>4449</td><td>4267</td><td>793</td><td>835</td><td>380</td><td>233</td><td>167</td><td>71</td><td>0</td><td>115</td><td>0</td><td>5</td><td>0</td><td>163</td><td>0</td><td>45</td><td>0</td><td>2</td><td>0</td><td>28</td><td>0</td><td>12</td><td>0</td><td>3</td><td>0</td><td>7</td><td>242</td><td>123</td><td>0</td><td>8</td><td>0</td><td>2</td><td>0</td><td>12</td><td>0</td><td>2</td><td>97</td><td>41</td><td>0</td><td>39</td><td>0</td><td>7</td><td>0</td></tr><tr><th>2</th><td>1173</td><td>1221</td><td>1240</td><td>0</td><td>393</td><td>589</td><td>529</td><td>1844</td><td>1731</td><td>513</td><td>541</td><td>246</td><td>159</td><td>95</td><td>37</td><td>0</td><td>69</td><td>0</td><td>9</td><td>0</td><td>76</td><td>0</td><td>21</td><td>0</td><td>1</td><td>0</td><td>8</td><td>0</td><td>7</td><td>0</td><td>3</td><td>0</td><td>3</td><td>172</td><td>79</td><td>0</td><td>2</td><td>0</td><td>3</td><td>0</td><td>8</td><td>0</td><td>0</td><td>33</td><td>17</td><td>0</td><td>24</td><td>0</td><td>15</td><td>0</td></tr><tr><th>3</th><td>1174</td><td>627</td><td>744</td><td>0</td><td>242</td><td>407</td><td>380</td><td>686</td><td>674</td><td>153</td><td>130</td><td>166</td><td>110</td><td>49</td><td>21</td><td>0</td><td>59</td><td>0</td><td>6</td><td>0</td><td>23</td><td>0</td><td>21</td><td>0</td><td>1</td><td>0</td><td>6</td><td>0</td><td>3</td><td>0</td><td>0</td><td>0</td><td>1</td><td>84</td><td>43</td><td>0</td><td>2</td><td>0</td><td>0</td><td>0</td><td>1</td><td>0</td><td>2</td><td>19</td><td>6</td><td>0</td><td>7</td><td>0</td><td>7</td><td>0</td></tr><tr><th>4</th><td>733</td><td>844</td><td>845</td><td>0</td><td>202</td><td>479</td><td>495</td><td>1553</td><td>1446</td><td>364</td><td>376</td><td>170</td><td>118</td><td>65</td><td>38</td><td>0</td><td>64</td><td>0</td><td>2</td><td>0</td><td>66</td><td>0</td><td>26</td><td>0</td><td>0</td><td>0</td><td>3</td><td>0</td><td>7</td><td>0</td><td>2</td><td>0</td><td>1</td><td>93</td><td>48</td><td>0</td><td>6</td><td>0</td><td>2</td><td>0</td><td>1</td><td>0</td><td>0</td><td>29</td><td>14</td><td>0</td><td>12</td><td>0</td><td>9</td><td>0</td></tr><tr><th>5</th><td>646</td><td>473</td><td>494</td><td>0</td><td>275</td><td>248</td><td>184</td><td>266</td><td>255</td><td>131</td><td>96</td><td>128</td><td>55</td><td>23</td><td>11</td><td>0</td><td>16</td><td>0</td><td>1</td><td>0</td><td>15</td><td>0</td><td>5</td><td>0</td><td>1</td><td>0</td><td>3</td><td>0</td><td>3</td><td>0</td><td>1</td><td>0</td><td>1</td><td>62</td><td>19</td><td>0</td><td>1</td><td>0</td><td>0</td><td>0</td><td>3</td><td>0</td><td>1</td><td>5</td><td>2</td><td>0</td><td>10</td><td>0</td><td>3</td><td>0</td></tr><tr><th>6</th><td>2905</td><td>1867</td><td>2167</td><td>0</td><td>520</td><td>1482</td><td>1429</td><td>3630</td><td>3417</td><td>585</td><td>600</td><td>399</td><td>265</td><td>172</td><td>81</td><td>0</td><td>131</td><td>0</td><td>10</td><td>0</td><td>111</td><td>0</td><td>40</td><td>0</td><td>5</td><td>0</td><td>16</td><td>0</td><td>9</td><td>0</td><td>0</td><td>0</td><td>4</td><td>282</td><td>154</td><td>0</td><td>7</td><td>0</td><td>3</td><td>0</td><td>7</td><td>0</td><td>3</td><td>66</td><td>34</td><td>0</td><td>24</td><td>0</td><td>12</td><td>0</td></tr><tr><th>7</th><td>1951</td><td>1574</td><td>1681</td><td>0</td><td>331</td><td>1008</td><td>979</td><td>3020</td><td>2888</td><td>529</td><td>554</td><td>268</td><td>224</td><td>133</td><td>56</td><td>0</td><td>84</td><td>0</td><td>4</td><td>0</td><td>78</td><td>0</td><td>44</td><td>0</td><td>1</td><td>0</td><td>13</td><td>0</td><td>7</td><td>0</td><td>2</td><td>0</td><td>0</td><td>191</td><td>116</td><td>0</td><td>7</td><td>0</td><td>0</td><td>0</td><td>5</td><td>0</td><td>1</td><td>66</td><td>23</td><td>0</td><td>18</td><td>0</td><td>16</td><td>0</td></tr><tr><th>8</th><td>1788</td><td>1095</td><td>1268</td><td>0</td><td>405</td><td>587</td><td>549</td><td>1138</td><td>1074</td><td>252</td><td>257</td><td>282</td><td>181</td><td>98</td><td>53</td><td>0</td><td>70</td><td>0</td><td>6</td><td>0</td><td>46</td><td>0</td><td>10</td><td>0</td><td>2</td><td>0</td><td>4</td><td>0</td><td>6</td><td>0</td><td>1</td><td>0</td><td>0</td><td>172</td><td>77</td><td>0</td><td>7</td><td>0</td><td>4</td><td>0</td><td>5</td><td>0</td><td>2</td><td>32</td><td>13</td><td>0</td><td>18</td><td>0</td><td>10</td><td>0</td></tr><tr><th>9</th><td>1274</td><td>858</td><td>856</td><td>0</td><td>645</td><td>555</td><td>425</td><td>557</td><td>565</td><td>215</td><td>161</td><td>229</td><td>84</td><td>35</td><td>18</td><td>0</td><td>48</td><td>0</td><td>0</td><td>0</td><td>18</td><td>0</td><td>18</td><td>0</td><td>3</td><td>0</td><td>2</td><td>0</td><td>10</td><td>0</td><td>0</td><td>0</td><td>1</td><td>167</td><td>58</td><td>0</td><td>1</td><td>0</td><td>1</td><td>0</td><td>1</td><td>0</td><td>1</td><td>15</td><td>6</td><td>0</td><td>17</td><td>0</td><td>10</td><td>0</td></tr><tr><th>10</th><td>959</td><td>405</td><td>443</td><td>0</td><td>127</td><td>535</td><td>548</td><td>856</td><td>817</td><td>130</td><td>131</td><td>81</td><td>62</td><td>30</td><td>10</td><td>0</td><td>32</td><td>0</td><td>1</td><td>0</td><td>16</td><td>0</td><td>3</td><td>0</td><td>1</td><td>0</td><td>5</td><td>0</td><td>0</td><td>0</td><td>0</td><td>0</td><td>0</td><td>58</td><td>35</td><td>0</td><td>1</td><td>0</td><td>2</td><td>0</td><td>3</td><td>0</td><td>1</td><td>10</td><td>5</td><td>0</td><td>0</td><td>0</td><td>5</td><td>0</td></tr><tr><th>11</th><td>1251</td><td>864</td><td>943</td><td>0</td><td>279</td><td>489</td><td>443</td><td>839</td><td>864</td><td>183</td><td>163</td><td>214</td><td>158</td><td>65</td><td>24</td><td>0</td><td>43</td><td>0</td><td>3</td><td>0</td><td>32</td><td>0</td><td>25</td><td>0</td><td>2</td><td>0</td><td>3</td><td>0</td><td>13</td><td>0</td><td>1</td><td>0</td><td>2</td><td>109</td><td>57</td><td>0</td><td>3</td><td>0</td><td>1</td><td>0</td><td>5</td><td>0</td><td>4</td><td>13</td><td>7</td><td>0</td><td>9</td><td>0</td><td>8</td><td>0</td></tr><tr><th>12</th><td>1889</td><td>1265</td><td>1378</td><td>0</td><td>441</td><td>780</td><td>714</td><td>1166</td><td>1168</td><td>252</td><td>241</td><td>298</td><td>175</td><td>80</td><td>41</td><td>0</td><td>62</td><td>0</td><td>12</td><td>0</td><td>54</td><td>0</td><td>27</td><td>0</td><td>4</td><td>0</td><td>8</td><td>0</td><td>8</td><td>0</td><td>2</td><td>0</td><td>2</td><td>165</td><td>87</td><td>0</td><td>6</td><td>0</td><td>1</td><td>0</td><td>4</td><td>0</td><td>0</td><td>21</td><td>9</td><td>0</td><td>27</td><td>0</td><td>17</td><td>0</td></tr><tr><th>13</th><td>769</td><td>442</td><td>494</td><td>0</td><td>232</td><td>284</td><td>296</td><td>498</td><td>498</td><td>82</td><td>81</td><td>120</td><td>84</td><td>39</td><td>19</td><td>0</td><td>16</td><td>0</td><td>4</td><td>0</td><td>12</td><td>0</td><td>13</td><td>0</td><td>0</td><td>0</td><td>0</td><td>0</td><td>6</td><td>0</td><td>0</td><td>0</td><td>0</td><td>89</td><td>34</td><td>0</td><td>2</td><td>0</td><td>1</td><td>0</td><td>2</td><td>0</td><td>0</td><td>23</td><td>8</td><td>0</td><td>3</td><td>0</td><td>5</td><td>0</td></tr></tbody></table>"
      ],
      "text/latex": [
       "\\begin{tabular}{r|ccccccccccccccccccccccccccccccccccccccccccccccccccc}\n",
       "\t& F1 & D2 & F2 & D3 & F3 & D4 & F4 & D5 & F5 & D6 & F6 & D7 & F7 & D8 & F8 & D9 & F9 & D10 & F10 & D11 & F11 & D12 & F12 & D13 & F13 & D14 & F14 & D15 & F15 & D16 & F16 & D17 & F17 & D18 & F18 & D19 & F19 & D20 & F20 & D21 & F21 & D22 & F22 & D23 & F23 & D24 & F24 & D25 & F25 & D26 & \\\\\n",
       "\t\\hline\n",
       "\t& Int64 & Int64 & Int64 & Int64 & Int64 & Int64 & Int64 & Int64 & Int64 & Int64 & Int64 & Int64 & Int64 & Int64 & Int64 & Int64 & Int64 & Int64 & Int64 & Int64 & Int64 & Int64 & Int64 & Int64 & Int64 & Int64 & Int64 & Int64 & Int64 & Int64 & Int64 & Int64 & Int64 & Int64 & Int64 & Int64 & Int64 & Int64 & Int64 & Int64 & Int64 & Int64 & Int64 & Int64 & Int64 & Int64 & Int64 & Int64 & Int64 & Int64 & \\\\\n",
       "\t\\hline\n",
       "\t1 & 2333 & 1845 & 2030 & 0 & 477 & 1530 & 1538 & 4449 & 4267 & 793 & 835 & 380 & 233 & 167 & 71 & 0 & 115 & 0 & 5 & 0 & 163 & 0 & 45 & 0 & 2 & 0 & 28 & 0 & 12 & 0 & 3 & 0 & 7 & 242 & 123 & 0 & 8 & 0 & 2 & 0 & 12 & 0 & 2 & 97 & 41 & 0 & 39 & 0 & 7 & 0 & $\\dots$ \\\\\n",
       "\t2 & 1173 & 1221 & 1240 & 0 & 393 & 589 & 529 & 1844 & 1731 & 513 & 541 & 246 & 159 & 95 & 37 & 0 & 69 & 0 & 9 & 0 & 76 & 0 & 21 & 0 & 1 & 0 & 8 & 0 & 7 & 0 & 3 & 0 & 3 & 172 & 79 & 0 & 2 & 0 & 3 & 0 & 8 & 0 & 0 & 33 & 17 & 0 & 24 & 0 & 15 & 0 & $\\dots$ \\\\\n",
       "\t3 & 1174 & 627 & 744 & 0 & 242 & 407 & 380 & 686 & 674 & 153 & 130 & 166 & 110 & 49 & 21 & 0 & 59 & 0 & 6 & 0 & 23 & 0 & 21 & 0 & 1 & 0 & 6 & 0 & 3 & 0 & 0 & 0 & 1 & 84 & 43 & 0 & 2 & 0 & 0 & 0 & 1 & 0 & 2 & 19 & 6 & 0 & 7 & 0 & 7 & 0 & $\\dots$ \\\\\n",
       "\t4 & 733 & 844 & 845 & 0 & 202 & 479 & 495 & 1553 & 1446 & 364 & 376 & 170 & 118 & 65 & 38 & 0 & 64 & 0 & 2 & 0 & 66 & 0 & 26 & 0 & 0 & 0 & 3 & 0 & 7 & 0 & 2 & 0 & 1 & 93 & 48 & 0 & 6 & 0 & 2 & 0 & 1 & 0 & 0 & 29 & 14 & 0 & 12 & 0 & 9 & 0 & $\\dots$ \\\\\n",
       "\t5 & 646 & 473 & 494 & 0 & 275 & 248 & 184 & 266 & 255 & 131 & 96 & 128 & 55 & 23 & 11 & 0 & 16 & 0 & 1 & 0 & 15 & 0 & 5 & 0 & 1 & 0 & 3 & 0 & 3 & 0 & 1 & 0 & 1 & 62 & 19 & 0 & 1 & 0 & 0 & 0 & 3 & 0 & 1 & 5 & 2 & 0 & 10 & 0 & 3 & 0 & $\\dots$ \\\\\n",
       "\t6 & 2905 & 1867 & 2167 & 0 & 520 & 1482 & 1429 & 3630 & 3417 & 585 & 600 & 399 & 265 & 172 & 81 & 0 & 131 & 0 & 10 & 0 & 111 & 0 & 40 & 0 & 5 & 0 & 16 & 0 & 9 & 0 & 0 & 0 & 4 & 282 & 154 & 0 & 7 & 0 & 3 & 0 & 7 & 0 & 3 & 66 & 34 & 0 & 24 & 0 & 12 & 0 & $\\dots$ \\\\\n",
       "\t7 & 1951 & 1574 & 1681 & 0 & 331 & 1008 & 979 & 3020 & 2888 & 529 & 554 & 268 & 224 & 133 & 56 & 0 & 84 & 0 & 4 & 0 & 78 & 0 & 44 & 0 & 1 & 0 & 13 & 0 & 7 & 0 & 2 & 0 & 0 & 191 & 116 & 0 & 7 & 0 & 0 & 0 & 5 & 0 & 1 & 66 & 23 & 0 & 18 & 0 & 16 & 0 & $\\dots$ \\\\\n",
       "\t8 & 1788 & 1095 & 1268 & 0 & 405 & 587 & 549 & 1138 & 1074 & 252 & 257 & 282 & 181 & 98 & 53 & 0 & 70 & 0 & 6 & 0 & 46 & 0 & 10 & 0 & 2 & 0 & 4 & 0 & 6 & 0 & 1 & 0 & 0 & 172 & 77 & 0 & 7 & 0 & 4 & 0 & 5 & 0 & 2 & 32 & 13 & 0 & 18 & 0 & 10 & 0 & $\\dots$ \\\\\n",
       "\t9 & 1274 & 858 & 856 & 0 & 645 & 555 & 425 & 557 & 565 & 215 & 161 & 229 & 84 & 35 & 18 & 0 & 48 & 0 & 0 & 0 & 18 & 0 & 18 & 0 & 3 & 0 & 2 & 0 & 10 & 0 & 0 & 0 & 1 & 167 & 58 & 0 & 1 & 0 & 1 & 0 & 1 & 0 & 1 & 15 & 6 & 0 & 17 & 0 & 10 & 0 & $\\dots$ \\\\\n",
       "\t10 & 959 & 405 & 443 & 0 & 127 & 535 & 548 & 856 & 817 & 130 & 131 & 81 & 62 & 30 & 10 & 0 & 32 & 0 & 1 & 0 & 16 & 0 & 3 & 0 & 1 & 0 & 5 & 0 & 0 & 0 & 0 & 0 & 0 & 58 & 35 & 0 & 1 & 0 & 2 & 0 & 3 & 0 & 1 & 10 & 5 & 0 & 0 & 0 & 5 & 0 & $\\dots$ \\\\\n",
       "\t11 & 1251 & 864 & 943 & 0 & 279 & 489 & 443 & 839 & 864 & 183 & 163 & 214 & 158 & 65 & 24 & 0 & 43 & 0 & 3 & 0 & 32 & 0 & 25 & 0 & 2 & 0 & 3 & 0 & 13 & 0 & 1 & 0 & 2 & 109 & 57 & 0 & 3 & 0 & 1 & 0 & 5 & 0 & 4 & 13 & 7 & 0 & 9 & 0 & 8 & 0 & $\\dots$ \\\\\n",
       "\t12 & 1889 & 1265 & 1378 & 0 & 441 & 780 & 714 & 1166 & 1168 & 252 & 241 & 298 & 175 & 80 & 41 & 0 & 62 & 0 & 12 & 0 & 54 & 0 & 27 & 0 & 4 & 0 & 8 & 0 & 8 & 0 & 2 & 0 & 2 & 165 & 87 & 0 & 6 & 0 & 1 & 0 & 4 & 0 & 0 & 21 & 9 & 0 & 27 & 0 & 17 & 0 & $\\dots$ \\\\\n",
       "\t13 & 769 & 442 & 494 & 0 & 232 & 284 & 296 & 498 & 498 & 82 & 81 & 120 & 84 & 39 & 19 & 0 & 16 & 0 & 4 & 0 & 12 & 0 & 13 & 0 & 0 & 0 & 0 & 0 & 6 & 0 & 0 & 0 & 0 & 89 & 34 & 0 & 2 & 0 & 1 & 0 & 2 & 0 & 0 & 23 & 8 & 0 & 3 & 0 & 5 & 0 & $\\dots$ \\\\\n",
       "\\end{tabular}\n"
      ],
      "text/plain": [
       "13×53 DataFrame. Omitted printing of 11 columns\n",
       "│ Row │ F1    │ D2    │ F2    │ D3    │ F3    │ D4    │ F4    │ D5    │ F5    │ D6    │ F6    │ D7    │ F7    │ D8    │ F8    │ D9    │ F9    │ D10   │ F10   │ D11   │ F11   │ D12   │ F12   │ D13   │ F13   │ D14   │ F14   │ D15   │ F15   │ D16   │ F16   │ D17   │ F17   │ D18   │ F18   │ D19   │ F19   │ D20   │ F20   │ D21   │ F21   │ D22   │\n",
       "│     │ \u001b[90mInt64\u001b[39m │ \u001b[90mInt64\u001b[39m │ \u001b[90mInt64\u001b[39m │ \u001b[90mInt64\u001b[39m │ \u001b[90mInt64\u001b[39m │ \u001b[90mInt64\u001b[39m │ \u001b[90mInt64\u001b[39m │ \u001b[90mInt64\u001b[39m │ \u001b[90mInt64\u001b[39m │ \u001b[90mInt64\u001b[39m │ \u001b[90mInt64\u001b[39m │ \u001b[90mInt64\u001b[39m │ \u001b[90mInt64\u001b[39m │ \u001b[90mInt64\u001b[39m │ \u001b[90mInt64\u001b[39m │ \u001b[90mInt64\u001b[39m │ \u001b[90mInt64\u001b[39m │ \u001b[90mInt64\u001b[39m │ \u001b[90mInt64\u001b[39m │ \u001b[90mInt64\u001b[39m │ \u001b[90mInt64\u001b[39m │ \u001b[90mInt64\u001b[39m │ \u001b[90mInt64\u001b[39m │ \u001b[90mInt64\u001b[39m │ \u001b[90mInt64\u001b[39m │ \u001b[90mInt64\u001b[39m │ \u001b[90mInt64\u001b[39m │ \u001b[90mInt64\u001b[39m │ \u001b[90mInt64\u001b[39m │ \u001b[90mInt64\u001b[39m │ \u001b[90mInt64\u001b[39m │ \u001b[90mInt64\u001b[39m │ \u001b[90mInt64\u001b[39m │ \u001b[90mInt64\u001b[39m │ \u001b[90mInt64\u001b[39m │ \u001b[90mInt64\u001b[39m │ \u001b[90mInt64\u001b[39m │ \u001b[90mInt64\u001b[39m │ \u001b[90mInt64\u001b[39m │ \u001b[90mInt64\u001b[39m │ \u001b[90mInt64\u001b[39m │ \u001b[90mInt64\u001b[39m │\n",
       "├─────┼───────┼───────┼───────┼───────┼───────┼───────┼───────┼───────┼───────┼───────┼───────┼───────┼───────┼───────┼───────┼───────┼───────┼───────┼───────┼───────┼───────┼───────┼───────┼───────┼───────┼───────┼───────┼───────┼───────┼───────┼───────┼───────┼───────┼───────┼───────┼───────┼───────┼───────┼───────┼───────┼───────┼───────┤\n",
       "│ 1   │ 2333  │ 1845  │ 2030  │ 0     │ 477   │ 1530  │ 1538  │ 4449  │ 4267  │ 793   │ 835   │ 380   │ 233   │ 167   │ 71    │ 0     │ 115   │ 0     │ 5     │ 0     │ 163   │ 0     │ 45    │ 0     │ 2     │ 0     │ 28    │ 0     │ 12    │ 0     │ 3     │ 0     │ 7     │ 242   │ 123   │ 0     │ 8     │ 0     │ 2     │ 0     │ 12    │ 0     │\n",
       "│ 2   │ 1173  │ 1221  │ 1240  │ 0     │ 393   │ 589   │ 529   │ 1844  │ 1731  │ 513   │ 541   │ 246   │ 159   │ 95    │ 37    │ 0     │ 69    │ 0     │ 9     │ 0     │ 76    │ 0     │ 21    │ 0     │ 1     │ 0     │ 8     │ 0     │ 7     │ 0     │ 3     │ 0     │ 3     │ 172   │ 79    │ 0     │ 2     │ 0     │ 3     │ 0     │ 8     │ 0     │\n",
       "│ 3   │ 1174  │ 627   │ 744   │ 0     │ 242   │ 407   │ 380   │ 686   │ 674   │ 153   │ 130   │ 166   │ 110   │ 49    │ 21    │ 0     │ 59    │ 0     │ 6     │ 0     │ 23    │ 0     │ 21    │ 0     │ 1     │ 0     │ 6     │ 0     │ 3     │ 0     │ 0     │ 0     │ 1     │ 84    │ 43    │ 0     │ 2     │ 0     │ 0     │ 0     │ 1     │ 0     │\n",
       "│ 4   │ 733   │ 844   │ 845   │ 0     │ 202   │ 479   │ 495   │ 1553  │ 1446  │ 364   │ 376   │ 170   │ 118   │ 65    │ 38    │ 0     │ 64    │ 0     │ 2     │ 0     │ 66    │ 0     │ 26    │ 0     │ 0     │ 0     │ 3     │ 0     │ 7     │ 0     │ 2     │ 0     │ 1     │ 93    │ 48    │ 0     │ 6     │ 0     │ 2     │ 0     │ 1     │ 0     │\n",
       "│ 5   │ 646   │ 473   │ 494   │ 0     │ 275   │ 248   │ 184   │ 266   │ 255   │ 131   │ 96    │ 128   │ 55    │ 23    │ 11    │ 0     │ 16    │ 0     │ 1     │ 0     │ 15    │ 0     │ 5     │ 0     │ 1     │ 0     │ 3     │ 0     │ 3     │ 0     │ 1     │ 0     │ 1     │ 62    │ 19    │ 0     │ 1     │ 0     │ 0     │ 0     │ 3     │ 0     │\n",
       "│ 6   │ 2905  │ 1867  │ 2167  │ 0     │ 520   │ 1482  │ 1429  │ 3630  │ 3417  │ 585   │ 600   │ 399   │ 265   │ 172   │ 81    │ 0     │ 131   │ 0     │ 10    │ 0     │ 111   │ 0     │ 40    │ 0     │ 5     │ 0     │ 16    │ 0     │ 9     │ 0     │ 0     │ 0     │ 4     │ 282   │ 154   │ 0     │ 7     │ 0     │ 3     │ 0     │ 7     │ 0     │\n",
       "│ 7   │ 1951  │ 1574  │ 1681  │ 0     │ 331   │ 1008  │ 979   │ 3020  │ 2888  │ 529   │ 554   │ 268   │ 224   │ 133   │ 56    │ 0     │ 84    │ 0     │ 4     │ 0     │ 78    │ 0     │ 44    │ 0     │ 1     │ 0     │ 13    │ 0     │ 7     │ 0     │ 2     │ 0     │ 0     │ 191   │ 116   │ 0     │ 7     │ 0     │ 0     │ 0     │ 5     │ 0     │\n",
       "│ 8   │ 1788  │ 1095  │ 1268  │ 0     │ 405   │ 587   │ 549   │ 1138  │ 1074  │ 252   │ 257   │ 282   │ 181   │ 98    │ 53    │ 0     │ 70    │ 0     │ 6     │ 0     │ 46    │ 0     │ 10    │ 0     │ 2     │ 0     │ 4     │ 0     │ 6     │ 0     │ 1     │ 0     │ 0     │ 172   │ 77    │ 0     │ 7     │ 0     │ 4     │ 0     │ 5     │ 0     │\n",
       "│ 9   │ 1274  │ 858   │ 856   │ 0     │ 645   │ 555   │ 425   │ 557   │ 565   │ 215   │ 161   │ 229   │ 84    │ 35    │ 18    │ 0     │ 48    │ 0     │ 0     │ 0     │ 18    │ 0     │ 18    │ 0     │ 3     │ 0     │ 2     │ 0     │ 10    │ 0     │ 0     │ 0     │ 1     │ 167   │ 58    │ 0     │ 1     │ 0     │ 1     │ 0     │ 1     │ 0     │\n",
       "│ 10  │ 959   │ 405   │ 443   │ 0     │ 127   │ 535   │ 548   │ 856   │ 817   │ 130   │ 131   │ 81    │ 62    │ 30    │ 10    │ 0     │ 32    │ 0     │ 1     │ 0     │ 16    │ 0     │ 3     │ 0     │ 1     │ 0     │ 5     │ 0     │ 0     │ 0     │ 0     │ 0     │ 0     │ 58    │ 35    │ 0     │ 1     │ 0     │ 2     │ 0     │ 3     │ 0     │\n",
       "│ 11  │ 1251  │ 864   │ 943   │ 0     │ 279   │ 489   │ 443   │ 839   │ 864   │ 183   │ 163   │ 214   │ 158   │ 65    │ 24    │ 0     │ 43    │ 0     │ 3     │ 0     │ 32    │ 0     │ 25    │ 0     │ 2     │ 0     │ 3     │ 0     │ 13    │ 0     │ 1     │ 0     │ 2     │ 109   │ 57    │ 0     │ 3     │ 0     │ 1     │ 0     │ 5     │ 0     │\n",
       "│ 12  │ 1889  │ 1265  │ 1378  │ 0     │ 441   │ 780   │ 714   │ 1166  │ 1168  │ 252   │ 241   │ 298   │ 175   │ 80    │ 41    │ 0     │ 62    │ 0     │ 12    │ 0     │ 54    │ 0     │ 27    │ 0     │ 4     │ 0     │ 8     │ 0     │ 8     │ 0     │ 2     │ 0     │ 2     │ 165   │ 87    │ 0     │ 6     │ 0     │ 1     │ 0     │ 4     │ 0     │\n",
       "│ 13  │ 769   │ 442   │ 494   │ 0     │ 232   │ 284   │ 296   │ 498   │ 498   │ 82    │ 81    │ 120   │ 84    │ 39    │ 19    │ 0     │ 16    │ 0     │ 4     │ 0     │ 12    │ 0     │ 13    │ 0     │ 0     │ 0     │ 0     │ 0     │ 6     │ 0     │ 0     │ 0     │ 0     │ 89    │ 34    │ 0     │ 2     │ 0     │ 1     │ 0     │ 2     │ 0     │"
      ]
     },
     "execution_count": 24,
     "metadata": {
     },
     "output_type": "execute_result"
    }
   ],
   "source": [
    "names(data)\n",
    "data2 = select(data,names(data)[19:end])"
   ]
  },
  {
   "cell_type": "code",
   "execution_count": 30,
   "metadata": {
    "collapsed": false
   },
   "outputs": [
    {
     "data": {
      "text/plain": [
       "DataFrame"
      ]
     },
     "execution_count": 30,
     "metadata": {
     },
     "output_type": "execute_result"
    }
   ],
   "source": [
    "typeof(data2)"
   ]
  },
  {
   "cell_type": "code",
   "execution_count": 36,
   "metadata": {
    "collapsed": false
   },
   "outputs": [
    {
     "data": {
      "text/html": [
       "<table class=\"data-frame\"><thead><tr><th></th><th>a</th><th>b</th><th>c</th><th>d</th></tr><tr><th></th><th>String</th><th>Float64</th><th>Int64</th><th>Bool</th></tr></thead><tbody><p>2 rows × 4 columns</p><tr><th>1</th><td>x</td><td>1.0</td><td>3</td><td>1</td></tr><tr><th>2</th><td>y</td><td>2.0</td><td>4</td><td>0</td></tr></tbody></table>"
      ],
      "text/latex": [
       "\\begin{tabular}{r|cccc}\n",
       "\t& a & b & c & d\\\\\n",
       "\t\\hline\n",
       "\t& String & Float64 & Int64 & Bool\\\\\n",
       "\t\\hline\n",
       "\t1 & x & 1.0 & 3 & 1 \\\\\n",
       "\t2 & y & 2.0 & 4 & 0 \\\\\n",
       "\\end{tabular}\n"
      ],
      "text/plain": [
       "2×4 DataFrame\n",
       "│ Row │ a      │ b       │ c     │ d    │\n",
       "│     │ \u001b[90mString\u001b[39m │ \u001b[90mFloat64\u001b[39m │ \u001b[90mInt64\u001b[39m │ \u001b[90mBool\u001b[39m │\n",
       "├─────┼────────┼─────────┼───────┼──────┤\n",
       "│ 1   │ x      │ 1.0     │ 3     │ 1    │\n",
       "│ 2   │ y      │ 2.0     │ 4     │ 0    │"
      ]
     },
     "execution_count": 36,
     "metadata": {
     },
     "output_type": "execute_result"
    }
   ],
   "source": [
    "df1 = DataFrame(a=[\"x\", \"y\"], b=[1.0, 2.0], c=[3, 4], d=[true, false])\n",
    "\n",
    "\n"
   ]
  },
  {
   "cell_type": "code",
   "execution_count": 37,
   "metadata": {
    "collapsed": false
   },
   "outputs": [
    {
     "ename": "LoadError",
     "evalue": "MethodError: no method matching permutedims(::DataFrame, ::Int64)\n\u001b[0mClosest candidates are:\n\u001b[0m  permutedims(\u001b[91m::StridedArray\u001b[39m, ::Any) at /ext/julia/julia-1.7.1/share/julia/base/multidimensional.jl:1498\n\u001b[0m  permutedims(\u001b[91m::LinearAlgebra.Diagonal\u001b[39m, ::Any) at /ext/julia/julia-1.7.1/share/julia/stdlib/v1.7/LinearAlgebra/src/diagonal.jl:565\n\u001b[0m  permutedims(\u001b[91m::SparseArrays.AbstractSparseMatrixCSC\u001b[39m, ::Any) at /ext/julia/julia-1.7.1/share/julia/stdlib/v1.7/SparseArrays/src/sparsematrix.jl:1094\n\u001b[0m  ...",
     "output_type": "error",
     "traceback": [
      "MethodError: no method matching permutedims(::DataFrame, ::Int64)\n\u001b[0mClosest candidates are:\n\u001b[0m  permutedims(\u001b[91m::StridedArray\u001b[39m, ::Any) at /ext/julia/julia-1.7.1/share/julia/base/multidimensional.jl:1498\n\u001b[0m  permutedims(\u001b[91m::LinearAlgebra.Diagonal\u001b[39m, ::Any) at /ext/julia/julia-1.7.1/share/julia/stdlib/v1.7/LinearAlgebra/src/diagonal.jl:565\n\u001b[0m  permutedims(\u001b[91m::SparseArrays.AbstractSparseMatrixCSC\u001b[39m, ::Any) at /ext/julia/julia-1.7.1/share/julia/stdlib/v1.7/SparseArrays/src/sparsematrix.jl:1094\n\u001b[0m  ...",
      "",
      "Stacktrace:",
      " [1] top-level scope",
      "   @ In[37]:1",
      " [2] eval",
      "   @ ./boot.jl:373 [inlined]",
      " [3] include_string(mapexpr::typeof(REPL.softscope), mod::Module, code::String, filename::String)",
      "   @ Base ./loading.jl:1196"
     ]
    }
   ],
   "source": [
    "df.permutedims(df1, 1) # note the column types"
   ]
  },
  {
   "cell_type": "code",
   "execution_count": 20,
   "metadata": {
    "collapsed": false
   },
   "outputs": [
    {
     "ename": "LoadError",
     "evalue": "LoadError: ArgumentError: Expressions not of the form `y = f(:x)` are currently disallowed.\nin expression starting at In[20]:1",
     "output_type": "error",
     "traceback": [
      "LoadError: ArgumentError: Expressions not of the form `y = f(:x)` are currently disallowed.\nin expression starting at In[20]:1",
      "",
      "Stacktrace:",
      " [1] fun_to_vec(ex::Expr; nolhs::Bool, gensym_names::Bool, wrap_byrow::Bool)",
      "   @ DataFramesMeta /ext/julia/depot/packages/DataFramesMeta/z0mc6/src/parsing.jl:215",
      " [2] (::DataFramesMeta.var\"#30#31\"{Bool})(ex::Expr)",
      "   @ DataFramesMeta ./none:0",
      " [3] iterate(::Base.Generator{Vector{Any}, DataFramesMeta.var\"#30#31\"{Bool}})",
      "   @ Base ./generator.jl:47",
      " [4] select_helper(x::Symbol, args::Expr)",
      "   @ DataFramesMeta /ext/julia/depot/packages/DataFramesMeta/z0mc6/src/macros.jl:976",
      " [5] var\"@select\"(__source__::LineNumberNode, __module__::Module, x::Any, args::Vararg{Any})",
      "   @ DataFramesMeta /ext/julia/depot/packages/DataFramesMeta/z0mc6/src/macros.jl:1078",
      " [6] eval",
      "   @ ./boot.jl:373 [inlined]",
      " [7] include_string(mapexpr::typeof(REPL.softscope), mod::Module, code::String, filename::String)",
      "   @ Base ./loading.jl:1196"
     ]
    }
   ],
   "source": [
    "@select(data, :A1,:A2)"
   ]
  },
  {
   "cell_type": "code",
   "execution_count": 31,
   "metadata": {
    "collapsed": false
   },
   "outputs": [
    {
     "ename": "LoadError",
     "evalue": "MethodError: no method matching permutedims(::DataFrame, ::Int64)\n\u001b[0mClosest candidates are:\n\u001b[0m  permutedims(\u001b[91m::StridedArray\u001b[39m, ::Any) at /ext/julia/julia-1.7.1/share/julia/base/multidimensional.jl:1498\n\u001b[0m  permutedims(\u001b[91m::LinearAlgebra.Diagonal\u001b[39m, ::Any) at /ext/julia/julia-1.7.1/share/julia/stdlib/v1.7/LinearAlgebra/src/diagonal.jl:565\n\u001b[0m  permutedims(\u001b[91m::SparseArrays.AbstractSparseMatrixCSC\u001b[39m, ::Any) at /ext/julia/julia-1.7.1/share/julia/stdlib/v1.7/SparseArrays/src/sparsematrix.jl:1094\n\u001b[0m  ...",
     "output_type": "error",
     "traceback": [
      "MethodError: no method matching permutedims(::DataFrame, ::Int64)\n\u001b[0mClosest candidates are:\n\u001b[0m  permutedims(\u001b[91m::StridedArray\u001b[39m, ::Any) at /ext/julia/julia-1.7.1/share/julia/base/multidimensional.jl:1498\n\u001b[0m  permutedims(\u001b[91m::LinearAlgebra.Diagonal\u001b[39m, ::Any) at /ext/julia/julia-1.7.1/share/julia/stdlib/v1.7/LinearAlgebra/src/diagonal.jl:565\n\u001b[0m  permutedims(\u001b[91m::SparseArrays.AbstractSparseMatrixCSC\u001b[39m, ::Any) at /ext/julia/julia-1.7.1/share/julia/stdlib/v1.7/SparseArrays/src/sparsematrix.jl:1094\n\u001b[0m  ...",
      "",
      "Stacktrace:",
      " [1] top-level scope",
      "   @ In[31]:1",
      " [2] eval",
      "   @ ./boot.jl:373 [inlined]",
      " [3] include_string(mapexpr::typeof(REPL.softscope), mod::Module, code::String, filename::String)",
      "   @ Base ./loading.jl:1196"
     ]
    }
   ],
   "source": [
    " permutedims(data2, 1)"
   ]
  },
  {
   "cell_type": "code",
   "execution_count": 29,
   "metadata": {
    "collapsed": false,
    "scrolled": true
   },
   "outputs": [
    {
     "data": {
      "text/latex": [
       "\\begin{verbatim}\n",
       "permutedims(A::AbstractArray, perm)\n",
       "\\end{verbatim}\n",
       "Permute the dimensions of array \\texttt{A}. \\texttt{perm} is a vector or a tuple of length \\texttt{ndims(A)} specifying the permutation.\n",
       "\n",
       "See also \\href{@ref}{\\texttt{permutedims!}}, \\href{@ref}{\\texttt{PermutedDimsArray}}, \\href{@ref}{\\texttt{transpose}}, \\href{@ref}{\\texttt{invperm}}.\n",
       "\n",
       "\\section{Examples}\n",
       "\\begin{verbatim}\n",
       "julia> A = reshape(Vector(1:8), (2,2,2))\n",
       "2×2×2 Array{Int64, 3}:\n",
       "[:, :, 1] =\n",
       " 1  3\n",
       " 2  4\n",
       "\n",
       "[:, :, 2] =\n",
       " 5  7\n",
       " 6  8\n",
       "\n",
       "julia> permutedims(A, (3, 2, 1))\n",
       "2×2×2 Array{Int64, 3}:\n",
       "[:, :, 1] =\n",
       " 1  3\n",
       " 5  7\n",
       "\n",
       "[:, :, 2] =\n",
       " 2  4\n",
       " 6  8\n",
       "\n",
       "julia> B = randn(5, 7, 11, 13);\n",
       "\n",
       "julia> perm = [4,1,3,2];\n",
       "\n",
       "julia> size(permutedims(B, perm))\n",
       "(13, 5, 11, 7)\n",
       "\n",
       "julia> size(B)[perm] == ans\n",
       "true\n",
       "\\end{verbatim}\n",
       "\\rule{\\textwidth}{1pt}\n",
       "\\begin{verbatim}\n",
       "permutedims(m::AbstractMatrix)\n",
       "\\end{verbatim}\n",
       "Permute the dimensions of the matrix \\texttt{m}, by flipping the elements across the diagonal of the matrix. Differs from \\texttt{LinearAlgebra}'s \\href{@ref}{\\texttt{transpose}} in that the operation is not recursive.\n",
       "\n",
       "\\section{Examples}\n",
       "\\begin{verbatim}\n",
       "julia> a = [1 2; 3 4];\n",
       "\n",
       "julia> b = [5 6; 7 8];\n",
       "\n",
       "julia> c = [9 10; 11 12];\n",
       "\n",
       "julia> d = [13 14; 15 16];\n",
       "\n",
       "julia> X = [[a] [b]; [c] [d]]\n",
       "2×2 Matrix{Matrix{Int64}}:\n",
       " [1 2; 3 4]     [5 6; 7 8]\n",
       " [9 10; 11 12]  [13 14; 15 16]\n",
       "\n",
       "julia> permutedims(X)\n",
       "2×2 Matrix{Matrix{Int64}}:\n",
       " [1 2; 3 4]  [9 10; 11 12]\n",
       " [5 6; 7 8]  [13 14; 15 16]\n",
       "\n",
       "julia> transpose(X)\n",
       "2×2 transpose(::Matrix{Matrix{Int64}}) with eltype Transpose{Int64, Matrix{Int64}}:\n",
       " [1 3; 2 4]  [9 11; 10 12]\n",
       " [5 7; 6 8]  [13 15; 14 16]\n",
       "\\end{verbatim}\n",
       "\\rule{\\textwidth}{1pt}\n",
       "\\begin{verbatim}\n",
       "permutedims(v::AbstractVector)\n",
       "\\end{verbatim}\n",
       "Reshape vector \\texttt{v} into a \\texttt{1 × length(v)} row matrix. Differs from \\texttt{LinearAlgebra}'s \\href{@ref}{\\texttt{transpose}} in that the operation is not recursive.\n",
       "\n",
       "\\section{Examples}\n",
       "\\begin{verbatim}\n",
       "julia> permutedims([1, 2, 3, 4])\n",
       "1×4 Matrix{Int64}:\n",
       " 1  2  3  4\n",
       "\n",
       "julia> V = [[[1 2; 3 4]]; [[5 6; 7 8]]]\n",
       "2-element Vector{Matrix{Int64}}:\n",
       " [1 2; 3 4]\n",
       " [5 6; 7 8]\n",
       "\n",
       "julia> permutedims(V)\n",
       "1×2 Matrix{Matrix{Int64}}:\n",
       " [1 2; 3 4]  [5 6; 7 8]\n",
       "\n",
       "julia> transpose(V)\n",
       "1×2 transpose(::Vector{Matrix{Int64}}) with eltype Transpose{Int64, Matrix{Int64}}:\n",
       " [1 3; 2 4]  [5 7; 6 8]\n",
       "\\end{verbatim}\n"
      ],
      "text/markdown": [
       "```\n",
       "permutedims(A::AbstractArray, perm)\n",
       "```\n",
       "\n",
       "Permute the dimensions of array `A`. `perm` is a vector or a tuple of length `ndims(A)` specifying the permutation.\n",
       "\n",
       "See also [`permutedims!`](@ref), [`PermutedDimsArray`](@ref), [`transpose`](@ref), [`invperm`](@ref).\n",
       "\n",
       "# Examples\n",
       "\n",
       "```jldoctest\n",
       "julia> A = reshape(Vector(1:8), (2,2,2))\n",
       "2×2×2 Array{Int64, 3}:\n",
       "[:, :, 1] =\n",
       " 1  3\n",
       " 2  4\n",
       "\n",
       "[:, :, 2] =\n",
       " 5  7\n",
       " 6  8\n",
       "\n",
       "julia> permutedims(A, (3, 2, 1))\n",
       "2×2×2 Array{Int64, 3}:\n",
       "[:, :, 1] =\n",
       " 1  3\n",
       " 5  7\n",
       "\n",
       "[:, :, 2] =\n",
       " 2  4\n",
       " 6  8\n",
       "\n",
       "julia> B = randn(5, 7, 11, 13);\n",
       "\n",
       "julia> perm = [4,1,3,2];\n",
       "\n",
       "julia> size(permutedims(B, perm))\n",
       "(13, 5, 11, 7)\n",
       "\n",
       "julia> size(B)[perm] == ans\n",
       "true\n",
       "```\n",
       "\n",
       "---\n",
       "\n",
       "```\n",
       "permutedims(m::AbstractMatrix)\n",
       "```\n",
       "\n",
       "Permute the dimensions of the matrix `m`, by flipping the elements across the diagonal of the matrix. Differs from `LinearAlgebra`'s [`transpose`](@ref) in that the operation is not recursive.\n",
       "\n",
       "# Examples\n",
       "\n",
       "```jldoctest; setup = :(using LinearAlgebra)\n",
       "julia> a = [1 2; 3 4];\n",
       "\n",
       "julia> b = [5 6; 7 8];\n",
       "\n",
       "julia> c = [9 10; 11 12];\n",
       "\n",
       "julia> d = [13 14; 15 16];\n",
       "\n",
       "julia> X = [[a] [b]; [c] [d]]\n",
       "2×2 Matrix{Matrix{Int64}}:\n",
       " [1 2; 3 4]     [5 6; 7 8]\n",
       " [9 10; 11 12]  [13 14; 15 16]\n",
       "\n",
       "julia> permutedims(X)\n",
       "2×2 Matrix{Matrix{Int64}}:\n",
       " [1 2; 3 4]  [9 10; 11 12]\n",
       " [5 6; 7 8]  [13 14; 15 16]\n",
       "\n",
       "julia> transpose(X)\n",
       "2×2 transpose(::Matrix{Matrix{Int64}}) with eltype Transpose{Int64, Matrix{Int64}}:\n",
       " [1 3; 2 4]  [9 11; 10 12]\n",
       " [5 7; 6 8]  [13 15; 14 16]\n",
       "```\n",
       "\n",
       "---\n",
       "\n",
       "```\n",
       "permutedims(v::AbstractVector)\n",
       "```\n",
       "\n",
       "Reshape vector `v` into a `1 × length(v)` row matrix. Differs from `LinearAlgebra`'s [`transpose`](@ref) in that the operation is not recursive.\n",
       "\n",
       "# Examples\n",
       "\n",
       "```jldoctest; setup = :(using LinearAlgebra)\n",
       "julia> permutedims([1, 2, 3, 4])\n",
       "1×4 Matrix{Int64}:\n",
       " 1  2  3  4\n",
       "\n",
       "julia> V = [[[1 2; 3 4]]; [[5 6; 7 8]]]\n",
       "2-element Vector{Matrix{Int64}}:\n",
       " [1 2; 3 4]\n",
       " [5 6; 7 8]\n",
       "\n",
       "julia> permutedims(V)\n",
       "1×2 Matrix{Matrix{Int64}}:\n",
       " [1 2; 3 4]  [5 6; 7 8]\n",
       "\n",
       "julia> transpose(V)\n",
       "1×2 transpose(::Vector{Matrix{Int64}}) with eltype Transpose{Int64, Matrix{Int64}}:\n",
       " [1 3; 2 4]  [5 7; 6 8]\n",
       "```\n"
      ],
      "text/plain": [
       "\u001b[36m  permutedims(A::AbstractArray, perm)\u001b[39m\n",
       "\n",
       "  Permute the dimensions of array \u001b[36mA\u001b[39m. \u001b[36mperm\u001b[39m is a vector or a tuple of length \u001b[36mndims(A)\u001b[39m specifying the permutation.\n",
       "\n",
       "  See also \u001b[36mpermutedims!\u001b[39m, \u001b[36mPermutedDimsArray\u001b[39m, \u001b[36mtranspose\u001b[39m, \u001b[36minvperm\u001b[39m.\n",
       "\n",
       "\u001b[1m  Examples\u001b[22m\n",
       "\u001b[1m  ≡≡≡≡≡≡≡≡≡≡\u001b[22m\n",
       "\n",
       "\u001b[36m  julia> A = reshape(Vector(1:8), (2,2,2))\u001b[39m\n",
       "\u001b[36m  2×2×2 Array{Int64, 3}:\u001b[39m\n",
       "\u001b[36m  [:, :, 1] =\u001b[39m\n",
       "\u001b[36m   1  3\u001b[39m\n",
       "\u001b[36m   2  4\u001b[39m\n",
       "\u001b[36m  \u001b[39m\n",
       "\u001b[36m  [:, :, 2] =\u001b[39m\n",
       "\u001b[36m   5  7\u001b[39m\n",
       "\u001b[36m   6  8\u001b[39m\n",
       "\u001b[36m  \u001b[39m\n",
       "\u001b[36m  julia> permutedims(A, (3, 2, 1))\u001b[39m\n",
       "\u001b[36m  2×2×2 Array{Int64, 3}:\u001b[39m\n",
       "\u001b[36m  [:, :, 1] =\u001b[39m\n",
       "\u001b[36m   1  3\u001b[39m\n",
       "\u001b[36m   5  7\u001b[39m\n",
       "\u001b[36m  \u001b[39m\n",
       "\u001b[36m  [:, :, 2] =\u001b[39m\n",
       "\u001b[36m   2  4\u001b[39m\n",
       "\u001b[36m   6  8\u001b[39m\n",
       "\u001b[36m  \u001b[39m\n",
       "\u001b[36m  julia> B = randn(5, 7, 11, 13);\u001b[39m\n",
       "\u001b[36m  \u001b[39m\n",
       "\u001b[36m  julia> perm = [4,1,3,2];\u001b[39m\n",
       "\u001b[36m  \u001b[39m\n",
       "\u001b[36m  julia> size(permutedims(B, perm))\u001b[39m\n",
       "\u001b[36m  (13, 5, 11, 7)\u001b[39m\n",
       "\u001b[36m  \u001b[39m\n",
       "\u001b[36m  julia> size(B)[perm] == ans\u001b[39m\n",
       "\u001b[36m  true\u001b[39m\n",
       "\n",
       "  ──────────────────────────────────────────────────────────────────────────────────────────────────────────────────────────────────────────────────────────────────────────────────────────────────────────────────────────────────────────────────────────────────────────────────────────────────────────────────────────────────────────────────────────\n",
       "\n",
       "\u001b[36m  permutedims(m::AbstractMatrix)\u001b[39m\n",
       "\n",
       "  Permute the dimensions of the matrix \u001b[36mm\u001b[39m, by flipping the elements across the diagonal of the matrix. Differs from \u001b[36mLinearAlgebra\u001b[39m's \u001b[36mtranspose\u001b[39m in that the operation is not recursive.\n",
       "\n",
       "\u001b[1m  Examples\u001b[22m\n",
       "\u001b[1m  ≡≡≡≡≡≡≡≡≡≡\u001b[22m\n",
       "\n",
       "\u001b[36m  julia> a = [1 2; 3 4];\u001b[39m\n",
       "\u001b[36m  \u001b[39m\n",
       "\u001b[36m  julia> b = [5 6; 7 8];\u001b[39m\n",
       "\u001b[36m  \u001b[39m\n",
       "\u001b[36m  julia> c = [9 10; 11 12];\u001b[39m\n",
       "\u001b[36m  \u001b[39m\n",
       "\u001b[36m  julia> d = [13 14; 15 16];\u001b[39m\n",
       "\u001b[36m  \u001b[39m\n",
       "\u001b[36m  julia> X = [[a] [b]; [c] [d]]\u001b[39m\n",
       "\u001b[36m  2×2 Matrix{Matrix{Int64}}:\u001b[39m\n",
       "\u001b[36m   [1 2; 3 4]     [5 6; 7 8]\u001b[39m\n",
       "\u001b[36m   [9 10; 11 12]  [13 14; 15 16]\u001b[39m\n",
       "\u001b[36m  \u001b[39m\n",
       "\u001b[36m  julia> permutedims(X)\u001b[39m\n",
       "\u001b[36m  2×2 Matrix{Matrix{Int64}}:\u001b[39m\n",
       "\u001b[36m   [1 2; 3 4]  [9 10; 11 12]\u001b[39m\n",
       "\u001b[36m   [5 6; 7 8]  [13 14; 15 16]\u001b[39m\n",
       "\u001b[36m  \u001b[39m\n",
       "\u001b[36m  julia> transpose(X)\u001b[39m\n",
       "\u001b[36m  2×2 transpose(::Matrix{Matrix{Int64}}) with eltype Transpose{Int64, Matrix{Int64}}:\u001b[39m\n",
       "\u001b[36m   [1 3; 2 4]  [9 11; 10 12]\u001b[39m\n",
       "\u001b[36m   [5 7; 6 8]  [13 15; 14 16]\u001b[39m\n",
       "\n",
       "  ──────────────────────────────────────────────────────────────────────────────────────────────────────────────────────────────────────────────────────────────────────────────────────────────────────────────────────────────────────────────────────────────────────────────────────────────────────────────────────────────────────────────────────────\n",
       "\n",
       "\u001b[36m  permutedims(v::AbstractVector)\u001b[39m\n",
       "\n",
       "  Reshape vector \u001b[36mv\u001b[39m into a \u001b[36m1 × length(v)\u001b[39m row matrix. Differs from \u001b[36mLinearAlgebra\u001b[39m's \u001b[36mtranspose\u001b[39m in that the operation is not recursive.\n",
       "\n",
       "\u001b[1m  Examples\u001b[22m\n",
       "\u001b[1m  ≡≡≡≡≡≡≡≡≡≡\u001b[22m\n",
       "\n",
       "\u001b[36m  julia> permutedims([1, 2, 3, 4])\u001b[39m\n",
       "\u001b[36m  1×4 Matrix{Int64}:\u001b[39m\n",
       "\u001b[36m   1  2  3  4\u001b[39m\n",
       "\u001b[36m  \u001b[39m\n",
       "\u001b[36m  julia> V = [[[1 2; 3 4]]; [[5 6; 7 8]]]\u001b[39m\n",
       "\u001b[36m  2-element Vector{Matrix{Int64}}:\u001b[39m\n",
       "\u001b[36m   [1 2; 3 4]\u001b[39m\n",
       "\u001b[36m   [5 6; 7 8]\u001b[39m\n",
       "\u001b[36m  \u001b[39m\n",
       "\u001b[36m  julia> permutedims(V)\u001b[39m\n",
       "\u001b[36m  1×2 Matrix{Matrix{Int64}}:\u001b[39m\n",
       "\u001b[36m   [1 2; 3 4]  [5 6; 7 8]\u001b[39m\n",
       "\u001b[36m  \u001b[39m\n",
       "\u001b[36m  julia> transpose(V)\u001b[39m\n",
       "\u001b[36m  1×2 transpose(::Vector{Matrix{Int64}}) with eltype Transpose{Int64, Matrix{Int64}}:\u001b[39m\n",
       "\u001b[36m   [1 3; 2 4]  [5 7; 6 8]\u001b[39m"
      ]
     },
     "execution_count": 29,
     "metadata": {
     },
     "output_type": "execute_result"
    }
   ],
   "source": [
   ]
  },
  {
   "cell_type": "code",
   "execution_count": 10,
   "metadata": {
    "collapsed": false
   },
   "outputs": [
    {
     "data": {
      "text/html": [
       "<table class=\"data-frame\"><thead><tr><th></th><th>column</th><th>stimme</th><th>partei_beschreibung</th></tr><tr><th></th><th>String</th><th>String?</th><th>String</th></tr></thead><tbody><p>70 rows × 3 columns</p><tr><th>1</th><td>datum</td><td><em>missing</em></td><td>Datum des Wahltermins</td></tr><tr><th>2</th><td>wahl</td><td><em>missing</em></td><td>Name der Wahl</td></tr><tr><th>3</th><td>ags</td><td><em>missing</em></td><td>AGS der Behörde</td></tr><tr><th>4</th><td>gebiet-nr</td><td><em>missing</em></td><td>Nummer des Wahlgebiets</td></tr><tr><th>5</th><td>gebiet-name</td><td><em>missing</em></td><td>Name des Wahlgebiets</td></tr><tr><th>6</th><td>max-schnellmeldungen</td><td><em>missing</em></td><td>Anzahl an insgesamt erwarteten Schnellmeldungen im Wahlgebiet</td></tr><tr><th>7</th><td>anz-schnellmeldungen</td><td><em>missing</em></td><td>Anzahl an bisher eingegangenen Schnellmeldungen im Wahlgebiet</td></tr><tr><th>8</th><td>A1</td><td><em>missing</em></td><td>Wahlberechtigte ohne Sperrvermerk 'W'</td></tr><tr><th>9</th><td>A2</td><td><em>missing</em></td><td>Wahlberechtigte mit Sperrvermerk 'W'</td></tr><tr><th>10</th><td>A3</td><td><em>missing</em></td><td>Wahlberechtigte nicht im Wählerverzeichnis</td></tr><tr><th>11</th><td>A</td><td><em>missing</em></td><td>Wahlberechtigte insgesamt</td></tr><tr><th>12</th><td>B</td><td><em>missing</em></td><td>Wähler</td></tr><tr><th>13</th><td>B1</td><td><em>missing</em></td><td>Wähler mit Wahlschein</td></tr><tr><th>14</th><td>C</td><td>Erststimmen</td><td>Ungültige Erststimmen</td></tr><tr><th>15</th><td>D</td><td>Erststimmen</td><td>Gültige Erststimmen</td></tr><tr><th>16</th><td>E</td><td>Zweitstimmen</td><td>Ungültige Zweitstimmen</td></tr><tr><th>17</th><td>F</td><td>Zweitstimmen</td><td>Gültige Zweitstimmen</td></tr><tr><th>18</th><td>D1</td><td>Erststimmen</td><td>Christlich-Soziale Union in Bayern e.V.</td></tr><tr><th>19</th><td>F1</td><td>Zweitstimmen</td><td>Christlich-Soziale Union in Bayern e.V.</td></tr><tr><th>20</th><td>D2</td><td>Erststimmen</td><td>Sozialdemokratische Partei Deutschlands</td></tr><tr><th>21</th><td>F2</td><td>Zweitstimmen</td><td>Sozialdemokratische Partei Deutschlands</td></tr><tr><th>22</th><td>D3</td><td>Erststimmen</td><td>Alternative für Deutschland</td></tr><tr><th>23</th><td>F3</td><td>Zweitstimmen</td><td>Alternative für Deutschland</td></tr><tr><th>24</th><td>D4</td><td>Erststimmen</td><td>Freie Demokratische Partei</td></tr><tr><th>25</th><td>F4</td><td>Zweitstimmen</td><td>Freie Demokratische Partei</td></tr><tr><th>26</th><td>D5</td><td>Erststimmen</td><td>BÜNDNIS 90/DIE GRÜNEN</td></tr><tr><th>27</th><td>F5</td><td>Zweitstimmen</td><td>BÜNDNIS 90/DIE GRÜNEN</td></tr><tr><th>28</th><td>D6</td><td>Erststimmen</td><td>DIE LINKE</td></tr><tr><th>29</th><td>F6</td><td>Zweitstimmen</td><td>DIE LINKE</td></tr><tr><th>30</th><td>D7</td><td>Erststimmen</td><td>FREIE WÄHLER</td></tr><tr><th>&vellip;</th><td>&vellip;</td><td>&vellip;</td><td>&vellip;</td></tr></tbody></table>"
      ],
      "text/latex": [
       "\\begin{tabular}{r|ccc}\n",
       "\t& column & stimme & partei\\_beschreibung\\\\\n",
       "\t\\hline\n",
       "\t& String & String? & String\\\\\n",
       "\t\\hline\n",
       "\t1 & datum & \\emph{missing} & Datum des Wahltermins \\\\\n",
       "\t2 & wahl & \\emph{missing} & Name der Wahl \\\\\n",
       "\t3 & ags & \\emph{missing} & AGS der Behörde \\\\\n",
       "\t4 & gebiet-nr & \\emph{missing} & Nummer des Wahlgebiets \\\\\n",
       "\t5 & gebiet-name & \\emph{missing} & Name des Wahlgebiets \\\\\n",
       "\t6 & max-schnellmeldungen & \\emph{missing} & Anzahl an insgesamt erwarteten Schnellmeldungen im Wahlgebiet \\\\\n",
       "\t7 & anz-schnellmeldungen & \\emph{missing} & Anzahl an bisher eingegangenen Schnellmeldungen im Wahlgebiet \\\\\n",
       "\t8 & A1 & \\emph{missing} & Wahlberechtigte ohne Sperrvermerk 'W' \\\\\n",
       "\t9 & A2 & \\emph{missing} & Wahlberechtigte mit Sperrvermerk 'W' \\\\\n",
       "\t10 & A3 & \\emph{missing} & Wahlberechtigte nicht im Wählerverzeichnis \\\\\n",
       "\t11 & A & \\emph{missing} & Wahlberechtigte insgesamt \\\\\n",
       "\t12 & B & \\emph{missing} & Wähler \\\\\n",
       "\t13 & B1 & \\emph{missing} & Wähler mit Wahlschein \\\\\n",
       "\t14 & C & Erststimmen & Ungültige Erststimmen \\\\\n",
       "\t15 & D & Erststimmen & Gültige Erststimmen \\\\\n",
       "\t16 & E & Zweitstimmen & Ungültige Zweitstimmen \\\\\n",
       "\t17 & F & Zweitstimmen & Gültige Zweitstimmen \\\\\n",
       "\t18 & D1 & Erststimmen & Christlich-Soziale Union in Bayern e.V. \\\\\n",
       "\t19 & F1 & Zweitstimmen & Christlich-Soziale Union in Bayern e.V. \\\\\n",
       "\t20 & D2 & Erststimmen & Sozialdemokratische Partei Deutschlands \\\\\n",
       "\t21 & F2 & Zweitstimmen & Sozialdemokratische Partei Deutschlands \\\\\n",
       "\t22 & D3 & Erststimmen & Alternative für Deutschland \\\\\n",
       "\t23 & F3 & Zweitstimmen & Alternative für Deutschland \\\\\n",
       "\t24 & D4 & Erststimmen & Freie Demokratische Partei \\\\\n",
       "\t25 & F4 & Zweitstimmen & Freie Demokratische Partei \\\\\n",
       "\t26 & D5 & Erststimmen & BÜNDNIS 90/DIE GRÜNEN \\\\\n",
       "\t27 & F5 & Zweitstimmen & BÜNDNIS 90/DIE GRÜNEN \\\\\n",
       "\t28 & D6 & Erststimmen & DIE LINKE \\\\\n",
       "\t29 & F6 & Zweitstimmen & DIE LINKE \\\\\n",
       "\t30 & D7 & Erststimmen & FREIE WÄHLER \\\\\n",
       "\t$\\dots$ & $\\dots$ & $\\dots$ & $\\dots$ \\\\\n",
       "\\end{tabular}\n"
      ],
      "text/plain": [
       "70×3 DataFrame\n",
       "│ Row │ column               │ stimme       │ partei_beschreibung                                           │\n",
       "│     │ \u001b[90mString\u001b[39m               │ \u001b[90mString?\u001b[39m      │ \u001b[90mString\u001b[39m                                                        │\n",
       "├─────┼──────────────────────┼──────────────┼───────────────────────────────────────────────────────────────┤\n",
       "│ 1   │ datum                │ \u001b[90mmissing\u001b[39m      │ Datum des Wahltermins                                         │\n",
       "│ 2   │ wahl                 │ \u001b[90mmissing\u001b[39m      │ Name der Wahl                                                 │\n",
       "│ 3   │ ags                  │ \u001b[90mmissing\u001b[39m      │ AGS der Behörde                                               │\n",
       "│ 4   │ gebiet-nr            │ \u001b[90mmissing\u001b[39m      │ Nummer des Wahlgebiets                                        │\n",
       "│ 5   │ gebiet-name          │ \u001b[90mmissing\u001b[39m      │ Name des Wahlgebiets                                          │\n",
       "│ 6   │ max-schnellmeldungen │ \u001b[90mmissing\u001b[39m      │ Anzahl an insgesamt erwarteten Schnellmeldungen im Wahlgebiet │\n",
       "│ 7   │ anz-schnellmeldungen │ \u001b[90mmissing\u001b[39m      │ Anzahl an bisher eingegangenen Schnellmeldungen im Wahlgebiet │\n",
       "│ 8   │ A1                   │ \u001b[90mmissing\u001b[39m      │ Wahlberechtigte ohne Sperrvermerk 'W'                         │\n",
       "│ 9   │ A2                   │ \u001b[90mmissing\u001b[39m      │ Wahlberechtigte mit Sperrvermerk 'W'                          │\n",
       "│ 10  │ A3                   │ \u001b[90mmissing\u001b[39m      │ Wahlberechtigte nicht im Wählerverzeichnis                    │\n",
       "⋮\n",
       "│ 60  │ D22                  │ Erststimmen  │ Liberal-Konservative Reformer                                 │\n",
       "│ 61  │ F22                  │ Zweitstimmen │ Liberal-Konservative Reformer                                 │\n",
       "│ 62  │ D23                  │ Erststimmen  │ Partei der Humanisten                                         │\n",
       "│ 63  │ F23                  │ Zweitstimmen │ Partei der Humanisten                                         │\n",
       "│ 64  │ D24                  │ Erststimmen  │ Team Todenhöfer – Die Gerechtigkeitspartei                    │\n",
       "│ 65  │ F24                  │ Zweitstimmen │ Team Todenhöfer – Die Gerechtigkeitspartei                    │\n",
       "│ 66  │ D25                  │ Erststimmen  │ UNABHÄNGIGE für bürgernahe Demokratie                         │\n",
       "│ 67  │ F25                  │ Zweitstimmen │ UNABHÄNGIGE für bürgernahe Demokratie                         │\n",
       "│ 68  │ D26                  │ Erststimmen  │ Volt Deutschland                                              │\n",
       "│ 69  │ F26                  │ Zweitstimmen │ Volt Deutschland                                              │\n",
       "│ 70  │ D27                  │ Erststimmen  │ Einzelbewerber Schürer                                        │"
      ]
     },
     "execution_count": 10,
     "metadata": {
     },
     "output_type": "execute_result"
    }
   ],
   "source": [
    "DataFrame(CSV.File(\"okvote-fields.tsv\"))"
   ]
  },
  {
   "cell_type": "code",
   "execution_count": 0,
   "metadata": {
    "collapsed": false
   },
   "outputs": [
   ],
   "source": [
   ]
  }
 ],
 "metadata": {
  "kernelspec": {
   "display_name": "Julia 1.7",
   "env": {
    "JULIA_DEPOT_PATH": "/home/user/.julia/:/ext/julia/depot/",
    "JULIA_PROJECT": "/home/user/.julia/environment/v1.7"
   },
   "language": "julia",
   "metadata": {
    "cocalc": {
     "description": "The Julia Programming Language",
     "priority": 10,
     "url": "https://julialang.org/"
    }
   },
   "name": "julia-1.7",
   "resource_dir": "/ext/jupyter/kernels/julia-1.7"
  }
 },
 "nbformat": 4,
 "nbformat_minor": 4
}