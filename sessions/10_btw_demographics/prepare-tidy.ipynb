{
 "cells": [
  {
   "cell_type": "code",
   "execution_count": 12,
   "metadata": {
    "collapsed": false
   },
   "outputs": [
    {
     "name": "stderr",
     "output_type": "stream",
     "text": [
      "\n",
      "Attaching package: ‘janitor’\n",
      "\n",
      "\n"
     ]
    },
    {
     "name": "stderr",
     "output_type": "stream",
     "text": [
      "The following objects are masked from ‘package:stats’:\n",
      "\n",
      "    chisq.test, fisher.test\n",
      "\n",
      "\n"
     ]
    }
   ],
   "source": [
    "library(tidyverse)\n",
    "library(janitor)"
   ]
  },
  {
   "cell_type": "code",
   "execution_count": 30,
   "metadata": {
    "collapsed": false
   },
   "outputs": [
    {
     "name": "stderr",
     "output_type": "stream",
     "text": [
      "\u001b[1mRows: \u001b[22m\u001b[34m13\u001b[39m \u001b[1mColumns: \u001b[22m\u001b[34m71\u001b[39m\n"
     ]
    },
    {
     "name": "stderr",
     "output_type": "stream",
     "text": [
      "\u001b[36m──\u001b[39m \u001b[1mColumn specification\u001b[22m \u001b[36m────────────────────────────────────────────────────────\u001b[39m\n",
      "\u001b[1mDelimiter:\u001b[22m \"\\t\"\n",
      "\u001b[31mchr\u001b[39m  (3): datum, wahl, gebiet-name\n",
      "\u001b[32mdbl\u001b[39m (67): ags, max-schnellmeldungen, anz-schnellmeldungen, A1, A2, A3, A, B,...\n",
      "\u001b[33mlgl\u001b[39m  (1): gebiet-nr\n"
     ]
    },
    {
     "name": "stderr",
     "output_type": "stream",
     "text": [
      "\n",
      "\u001b[36mℹ\u001b[39m Use \u001b[30m\u001b[47m\u001b[30m\u001b[47m`spec()`\u001b[47m\u001b[30m\u001b[49m\u001b[39m to retrieve the full column specification for this data.\n",
      "\u001b[36mℹ\u001b[39m Specify the column types or set \u001b[30m\u001b[47m\u001b[30m\u001b[47m`show_col_types = FALSE`\u001b[47m\u001b[30m\u001b[49m\u001b[39m to quiet this message.\n"
     ]
    },
    {
     "name": "stderr",
     "output_type": "stream",
     "text": [
      "\u001b[1mRows: \u001b[22m\u001b[34m52\u001b[39m \u001b[1mColumns: \u001b[22m\u001b[34m71\u001b[39m\n"
     ]
    },
    {
     "name": "stderr",
     "output_type": "stream",
     "text": [
      "\u001b[36m──\u001b[39m \u001b[1mColumn specification\u001b[22m \u001b[36m────────────────────────────────────────────────────────\u001b[39m\n",
      "\u001b[1mDelimiter:\u001b[22m \"\\t\"\n",
      "\u001b[31mchr\u001b[39m  (3): datum, wahl, gebiet-name\n",
      "\u001b[32mdbl\u001b[39m (67): ags, max-schnellmeldungen, anz-schnellmeldungen, A1, A2, A3, A, B,...\n",
      "\u001b[33mlgl\u001b[39m  (1): gebiet-nr\n"
     ]
    },
    {
     "name": "stderr",
     "output_type": "stream",
     "text": [
      "\n",
      "\u001b[36mℹ\u001b[39m Use \u001b[30m\u001b[47m\u001b[30m\u001b[47m`spec()`\u001b[47m\u001b[30m\u001b[49m\u001b[39m to retrieve the full column specification for this data.\n",
      "\u001b[36mℹ\u001b[39m Specify the column types or set \u001b[30m\u001b[47m\u001b[30m\u001b[47m`show_col_types = FALSE`\u001b[47m\u001b[30m\u001b[49m\u001b[39m to quiet this message.\n"
     ]
    },
    {
     "name": "stderr",
     "output_type": "stream",
     "text": [
      "\u001b[1mRows: \u001b[22m\u001b[34m70\u001b[39m \u001b[1mColumns: \u001b[22m\u001b[34m3\u001b[39m\n"
     ]
    },
    {
     "name": "stderr",
     "output_type": "stream",
     "text": [
      "\u001b[36m──\u001b[39m \u001b[1mColumn specification\u001b[22m \u001b[36m────────────────────────────────────────────────────────\u001b[39m\n",
      "\u001b[1mDelimiter:\u001b[22m \"\\t\"\n",
      "\u001b[31mchr\u001b[39m (3): column, stimme, partei_beschreibung\n"
     ]
    },
    {
     "name": "stderr",
     "output_type": "stream",
     "text": [
      "\n",
      "\u001b[36mℹ\u001b[39m Use \u001b[30m\u001b[47m\u001b[30m\u001b[47m`spec()`\u001b[47m\u001b[30m\u001b[49m\u001b[39m to retrieve the full column specification for this data.\n",
      "\u001b[36mℹ\u001b[39m Specify the column types or set \u001b[30m\u001b[47m\u001b[30m\u001b[47m`show_col_types = FALSE`\u001b[47m\u001b[30m\u001b[49m\u001b[39m to quiet this message.\n"
     ]
    }
   ],
   "source": [
    "stadt_data <- read_tsv(\"Open-Data-Bundestagswahl1343_wue_stadt.csv\")\n",
    "land_data <- read_tsv(\"Open-Data-Bundestagswahl1343_wue_land.csv\")\n",
    "votes <- read_tsv(\"okvote-fields.tsv\")"
   ]
  },
  {
   "cell_type": "code",
   "execution_count": 6,
   "metadata": {
    "collapsed": false
   },
   "outputs": [
    {
     "data": {
      "text/html": [
       "<table class=\"dataframe\">\n",
       "<caption>A tibble: 6 × 71</caption>\n",
       "<thead>\n",
       "\t<tr><th scope=col>datum</th><th scope=col>wahl</th><th scope=col>ags</th><th scope=col>gebiet-nr</th><th scope=col>gebiet-name</th><th scope=col>max-schnellmeldungen</th><th scope=col>anz-schnellmeldungen</th><th scope=col>A1</th><th scope=col>A2</th><th scope=col>A3</th><th scope=col>⋯</th><th scope=col>D23</th><th scope=col>F23</th><th scope=col>D24</th><th scope=col>F24</th><th scope=col>D25</th><th scope=col>F25</th><th scope=col>D26</th><th scope=col>F26</th><th scope=col>D27</th><th scope=col>F27</th></tr>\n",
       "\t<tr><th scope=col>&lt;chr&gt;</th><th scope=col>&lt;chr&gt;</th><th scope=col>&lt;dbl&gt;</th><th scope=col>&lt;lgl&gt;</th><th scope=col>&lt;chr&gt;</th><th scope=col>&lt;dbl&gt;</th><th scope=col>&lt;dbl&gt;</th><th scope=col>&lt;dbl&gt;</th><th scope=col>&lt;dbl&gt;</th><th scope=col>&lt;dbl&gt;</th><th scope=col>⋯</th><th scope=col>&lt;dbl&gt;</th><th scope=col>&lt;dbl&gt;</th><th scope=col>&lt;dbl&gt;</th><th scope=col>&lt;dbl&gt;</th><th scope=col>&lt;dbl&gt;</th><th scope=col>&lt;dbl&gt;</th><th scope=col>&lt;dbl&gt;</th><th scope=col>&lt;dbl&gt;</th><th scope=col>&lt;dbl&gt;</th><th scope=col>&lt;dbl&gt;</th></tr>\n",
       "</thead>\n",
       "<tbody>\n",
       "\t<tr><td>26.09.2021</td><td>Wahl zum Deutschen Bundestag</td><td>9663000</td><td>NA</td><td>ALTSTADT      </td><td>32</td><td>32</td><td>5959</td><td>9117</td><td>0</td><td>⋯</td><td>97</td><td>41</td><td>0</td><td>39</td><td>0</td><td> 7</td><td>0</td><td>89</td><td>105</td><td>0</td></tr>\n",
       "\t<tr><td>26.09.2021</td><td>Wahl zum Deutschen Bundestag</td><td>9663000</td><td>NA</td><td>ZELLERAU      </td><td>12</td><td>12</td><td>4313</td><td>4097</td><td>0</td><td>⋯</td><td>33</td><td>17</td><td>0</td><td>24</td><td>0</td><td>15</td><td>0</td><td>37</td><td> 66</td><td>0</td></tr>\n",
       "\t<tr><td>26.09.2021</td><td>Wahl zum Deutschen Bundestag</td><td>9663000</td><td>NA</td><td>DÜRRBACHTAL   </td><td>10</td><td>10</td><td>1936</td><td>2517</td><td>0</td><td>⋯</td><td>19</td><td> 6</td><td>0</td><td> 7</td><td>0</td><td> 7</td><td>0</td><td>10</td><td> 46</td><td>0</td></tr>\n",
       "\t<tr><td>26.09.2021</td><td>Wahl zum Deutschen Bundestag</td><td>9663000</td><td>NA</td><td>GROMBÜHL      </td><td>10</td><td>10</td><td>2900</td><td>3188</td><td>0</td><td>⋯</td><td>29</td><td>14</td><td>0</td><td>12</td><td>0</td><td> 9</td><td>0</td><td>28</td><td> 36</td><td>0</td></tr>\n",
       "\t<tr><td>26.09.2021</td><td>Wahl zum Deutschen Bundestag</td><td>9663000</td><td>NA</td><td>LINDLEINSMÜHLE</td><td> 4</td><td> 4</td><td>1916</td><td>1386</td><td>0</td><td>⋯</td><td> 5</td><td> 2</td><td>0</td><td>10</td><td>0</td><td> 3</td><td>0</td><td> 4</td><td> 28</td><td>0</td></tr>\n",
       "\t<tr><td>26.09.2021</td><td>Wahl zum Deutschen Bundestag</td><td>9663000</td><td>NA</td><td>FRAUENLAND    </td><td>26</td><td>26</td><td>6084</td><td>8374</td><td>0</td><td>⋯</td><td>66</td><td>34</td><td>0</td><td>24</td><td>0</td><td>12</td><td>0</td><td>79</td><td>102</td><td>0</td></tr>\n",
       "</tbody>\n",
       "</table>\n"
      ],
      "text/latex": [
       "A tibble: 6 × 71\n",
       "\\begin{tabular}{lllllllllllllllllllll}\n",
       " datum & wahl & ags & gebiet-nr & gebiet-name & max-schnellmeldungen & anz-schnellmeldungen & A1 & A2 & A3 & ⋯ & D23 & F23 & D24 & F24 & D25 & F25 & D26 & F26 & D27 & F27\\\\\n",
       " <chr> & <chr> & <dbl> & <lgl> & <chr> & <dbl> & <dbl> & <dbl> & <dbl> & <dbl> & ⋯ & <dbl> & <dbl> & <dbl> & <dbl> & <dbl> & <dbl> & <dbl> & <dbl> & <dbl> & <dbl>\\\\\n",
       "\\hline\n",
       "\t 26.09.2021 & Wahl zum Deutschen Bundestag & 9663000 & NA & ALTSTADT       & 32 & 32 & 5959 & 9117 & 0 & ⋯ & 97 & 41 & 0 & 39 & 0 &  7 & 0 & 89 & 105 & 0\\\\\n",
       "\t 26.09.2021 & Wahl zum Deutschen Bundestag & 9663000 & NA & ZELLERAU       & 12 & 12 & 4313 & 4097 & 0 & ⋯ & 33 & 17 & 0 & 24 & 0 & 15 & 0 & 37 &  66 & 0\\\\\n",
       "\t 26.09.2021 & Wahl zum Deutschen Bundestag & 9663000 & NA & DÜRRBACHTAL    & 10 & 10 & 1936 & 2517 & 0 & ⋯ & 19 &  6 & 0 &  7 & 0 &  7 & 0 & 10 &  46 & 0\\\\\n",
       "\t 26.09.2021 & Wahl zum Deutschen Bundestag & 9663000 & NA & GROMBÜHL       & 10 & 10 & 2900 & 3188 & 0 & ⋯ & 29 & 14 & 0 & 12 & 0 &  9 & 0 & 28 &  36 & 0\\\\\n",
       "\t 26.09.2021 & Wahl zum Deutschen Bundestag & 9663000 & NA & LINDLEINSMÜHLE &  4 &  4 & 1916 & 1386 & 0 & ⋯ &  5 &  2 & 0 & 10 & 0 &  3 & 0 &  4 &  28 & 0\\\\\n",
       "\t 26.09.2021 & Wahl zum Deutschen Bundestag & 9663000 & NA & FRAUENLAND     & 26 & 26 & 6084 & 8374 & 0 & ⋯ & 66 & 34 & 0 & 24 & 0 & 12 & 0 & 79 & 102 & 0\\\\\n",
       "\\end{tabular}\n"
      ],
      "text/markdown": [
       "\n",
       "A tibble: 6 × 71\n",
       "\n",
       "| datum &lt;chr&gt; | wahl &lt;chr&gt; | ags &lt;dbl&gt; | gebiet-nr &lt;lgl&gt; | gebiet-name &lt;chr&gt; | max-schnellmeldungen &lt;dbl&gt; | anz-schnellmeldungen &lt;dbl&gt; | A1 &lt;dbl&gt; | A2 &lt;dbl&gt; | A3 &lt;dbl&gt; | ⋯ ⋯ | D23 &lt;dbl&gt; | F23 &lt;dbl&gt; | D24 &lt;dbl&gt; | F24 &lt;dbl&gt; | D25 &lt;dbl&gt; | F25 &lt;dbl&gt; | D26 &lt;dbl&gt; | F26 &lt;dbl&gt; | D27 &lt;dbl&gt; | F27 &lt;dbl&gt; |\n",
       "|---|---|---|---|---|---|---|---|---|---|---|---|---|---|---|---|---|---|---|---|---|\n",
       "| 26.09.2021 | Wahl zum Deutschen Bundestag | 9663000 | NA | ALTSTADT       | 32 | 32 | 5959 | 9117 | 0 | ⋯ | 97 | 41 | 0 | 39 | 0 |  7 | 0 | 89 | 105 | 0 |\n",
       "| 26.09.2021 | Wahl zum Deutschen Bundestag | 9663000 | NA | ZELLERAU       | 12 | 12 | 4313 | 4097 | 0 | ⋯ | 33 | 17 | 0 | 24 | 0 | 15 | 0 | 37 |  66 | 0 |\n",
       "| 26.09.2021 | Wahl zum Deutschen Bundestag | 9663000 | NA | DÜRRBACHTAL    | 10 | 10 | 1936 | 2517 | 0 | ⋯ | 19 |  6 | 0 |  7 | 0 |  7 | 0 | 10 |  46 | 0 |\n",
       "| 26.09.2021 | Wahl zum Deutschen Bundestag | 9663000 | NA | GROMBÜHL       | 10 | 10 | 2900 | 3188 | 0 | ⋯ | 29 | 14 | 0 | 12 | 0 |  9 | 0 | 28 |  36 | 0 |\n",
       "| 26.09.2021 | Wahl zum Deutschen Bundestag | 9663000 | NA | LINDLEINSMÜHLE |  4 |  4 | 1916 | 1386 | 0 | ⋯ |  5 |  2 | 0 | 10 | 0 |  3 | 0 |  4 |  28 | 0 |\n",
       "| 26.09.2021 | Wahl zum Deutschen Bundestag | 9663000 | NA | FRAUENLAND     | 26 | 26 | 6084 | 8374 | 0 | ⋯ | 66 | 34 | 0 | 24 | 0 | 12 | 0 | 79 | 102 | 0 |\n",
       "\n"
      ],
      "text/plain": [
       "  datum      wahl                         ags     gebiet-nr gebiet-name   \n",
       "1 26.09.2021 Wahl zum Deutschen Bundestag 9663000 NA        ALTSTADT      \n",
       "2 26.09.2021 Wahl zum Deutschen Bundestag 9663000 NA        ZELLERAU      \n",
       "3 26.09.2021 Wahl zum Deutschen Bundestag 9663000 NA        DÜRRBACHTAL   \n",
       "4 26.09.2021 Wahl zum Deutschen Bundestag 9663000 NA        GROMBÜHL      \n",
       "5 26.09.2021 Wahl zum Deutschen Bundestag 9663000 NA        LINDLEINSMÜHLE\n",
       "6 26.09.2021 Wahl zum Deutschen Bundestag 9663000 NA        FRAUENLAND    \n",
       "  max-schnellmeldungen anz-schnellmeldungen A1   A2   A3 ⋯ D23 F23 D24 F24 D25\n",
       "1 32                   32                   5959 9117 0  ⋯ 97  41  0   39  0  \n",
       "2 12                   12                   4313 4097 0  ⋯ 33  17  0   24  0  \n",
       "3 10                   10                   1936 2517 0  ⋯ 19   6  0    7  0  \n",
       "4 10                   10                   2900 3188 0  ⋯ 29  14  0   12  0  \n",
       "5  4                    4                   1916 1386 0  ⋯  5   2  0   10  0  \n",
       "6 26                   26                   6084 8374 0  ⋯ 66  34  0   24  0  \n",
       "  F25 D26 F26 D27 F27\n",
       "1  7  0   89  105 0  \n",
       "2 15  0   37   66 0  \n",
       "3  7  0   10   46 0  \n",
       "4  9  0   28   36 0  \n",
       "5  3  0    4   28 0  \n",
       "6 12  0   79  102 0  "
      ]
     },
     "execution_count": 6,
     "metadata": {
     },
     "output_type": "execute_result"
    }
   ],
   "source": [
    "head(stadt_data)"
   ]
  },
  {
   "cell_type": "code",
   "execution_count": 7,
   "metadata": {
    "collapsed": false
   },
   "outputs": [
    {
     "data": {
      "text/html": [
       "<table class=\"dataframe\">\n",
       "<caption>A tibble: 6 × 3</caption>\n",
       "<thead>\n",
       "\t<tr><th scope=col>column</th><th scope=col>stimme</th><th scope=col>partei_beschreibung</th></tr>\n",
       "\t<tr><th scope=col>&lt;chr&gt;</th><th scope=col>&lt;chr&gt;</th><th scope=col>&lt;chr&gt;</th></tr>\n",
       "</thead>\n",
       "<tbody>\n",
       "\t<tr><td>datum               </td><td>NA</td><td>Datum des Wahltermins                                        </td></tr>\n",
       "\t<tr><td>wahl                </td><td>NA</td><td>Name der Wahl                                                </td></tr>\n",
       "\t<tr><td>ags                 </td><td>NA</td><td>AGS der Behörde                                              </td></tr>\n",
       "\t<tr><td>gebiet-nr           </td><td>NA</td><td>Nummer des Wahlgebiets                                       </td></tr>\n",
       "\t<tr><td>gebiet-name         </td><td>NA</td><td>Name des Wahlgebiets                                         </td></tr>\n",
       "\t<tr><td>max-schnellmeldungen</td><td>NA</td><td>Anzahl an insgesamt erwarteten Schnellmeldungen im Wahlgebiet</td></tr>\n",
       "</tbody>\n",
       "</table>\n"
      ],
      "text/latex": [
       "A tibble: 6 × 3\n",
       "\\begin{tabular}{lll}\n",
       " column & stimme & partei\\_beschreibung\\\\\n",
       " <chr> & <chr> & <chr>\\\\\n",
       "\\hline\n",
       "\t datum                & NA & Datum des Wahltermins                                        \\\\\n",
       "\t wahl                 & NA & Name der Wahl                                                \\\\\n",
       "\t ags                  & NA & AGS der Behörde                                              \\\\\n",
       "\t gebiet-nr            & NA & Nummer des Wahlgebiets                                       \\\\\n",
       "\t gebiet-name          & NA & Name des Wahlgebiets                                         \\\\\n",
       "\t max-schnellmeldungen & NA & Anzahl an insgesamt erwarteten Schnellmeldungen im Wahlgebiet\\\\\n",
       "\\end{tabular}\n"
      ],
      "text/markdown": [
       "\n",
       "A tibble: 6 × 3\n",
       "\n",
       "| column &lt;chr&gt; | stimme &lt;chr&gt; | partei_beschreibung &lt;chr&gt; |\n",
       "|---|---|---|\n",
       "| datum                | NA | Datum des Wahltermins                                         |\n",
       "| wahl                 | NA | Name der Wahl                                                 |\n",
       "| ags                  | NA | AGS der Behörde                                               |\n",
       "| gebiet-nr            | NA | Nummer des Wahlgebiets                                        |\n",
       "| gebiet-name          | NA | Name des Wahlgebiets                                          |\n",
       "| max-schnellmeldungen | NA | Anzahl an insgesamt erwarteten Schnellmeldungen im Wahlgebiet |\n",
       "\n"
      ],
      "text/plain": [
       "  column               stimme\n",
       "1 datum                NA    \n",
       "2 wahl                 NA    \n",
       "3 ags                  NA    \n",
       "4 gebiet-nr            NA    \n",
       "5 gebiet-name          NA    \n",
       "6 max-schnellmeldungen NA    \n",
       "  partei_beschreibung                                          \n",
       "1 Datum des Wahltermins                                        \n",
       "2 Name der Wahl                                                \n",
       "3 AGS der Behörde                                              \n",
       "4 Nummer des Wahlgebiets                                       \n",
       "5 Name des Wahlgebiets                                         \n",
       "6 Anzahl an insgesamt erwarteten Schnellmeldungen im Wahlgebiet"
      ]
     },
     "execution_count": 7,
     "metadata": {
     },
     "output_type": "execute_result"
    },
    {
     "data": {
      "text/html": [
       "<table class=\"dataframe\">\n",
       "<caption>A tibble: 6 × 3</caption>\n",
       "<thead>\n",
       "\t<tr><th scope=col>column</th><th scope=col>stimme</th><th scope=col>partei_beschreibung</th></tr>\n",
       "\t<tr><th scope=col>&lt;chr&gt;</th><th scope=col>&lt;chr&gt;</th><th scope=col>&lt;chr&gt;</th></tr>\n",
       "</thead>\n",
       "<tbody>\n",
       "\t<tr><td>F24</td><td>Zweitstimmen</td><td>Team Todenhöfer – Die Gerechtigkeitspartei</td></tr>\n",
       "\t<tr><td>D25</td><td>Erststimmen </td><td>UNABHÄNGIGE für bürgernahe Demokratie     </td></tr>\n",
       "\t<tr><td>F25</td><td>Zweitstimmen</td><td>UNABHÄNGIGE für bürgernahe Demokratie     </td></tr>\n",
       "\t<tr><td>D26</td><td>Erststimmen </td><td>Volt Deutschland                          </td></tr>\n",
       "\t<tr><td>F26</td><td>Zweitstimmen</td><td>Volt Deutschland                          </td></tr>\n",
       "\t<tr><td>D27</td><td>Erststimmen </td><td>Einzelbewerber Schürer                    </td></tr>\n",
       "</tbody>\n",
       "</table>\n"
      ],
      "text/latex": [
       "A tibble: 6 × 3\n",
       "\\begin{tabular}{lll}\n",
       " column & stimme & partei\\_beschreibung\\\\\n",
       " <chr> & <chr> & <chr>\\\\\n",
       "\\hline\n",
       "\t F24 & Zweitstimmen & Team Todenhöfer – Die Gerechtigkeitspartei\\\\\n",
       "\t D25 & Erststimmen  & UNABHÄNGIGE für bürgernahe Demokratie     \\\\\n",
       "\t F25 & Zweitstimmen & UNABHÄNGIGE für bürgernahe Demokratie     \\\\\n",
       "\t D26 & Erststimmen  & Volt Deutschland                          \\\\\n",
       "\t F26 & Zweitstimmen & Volt Deutschland                          \\\\\n",
       "\t D27 & Erststimmen  & Einzelbewerber Schürer                    \\\\\n",
       "\\end{tabular}\n"
      ],
      "text/markdown": [
       "\n",
       "A tibble: 6 × 3\n",
       "\n",
       "| column &lt;chr&gt; | stimme &lt;chr&gt; | partei_beschreibung &lt;chr&gt; |\n",
       "|---|---|---|\n",
       "| F24 | Zweitstimmen | Team Todenhöfer – Die Gerechtigkeitspartei |\n",
       "| D25 | Erststimmen  | UNABHÄNGIGE für bürgernahe Demokratie      |\n",
       "| F25 | Zweitstimmen | UNABHÄNGIGE für bürgernahe Demokratie      |\n",
       "| D26 | Erststimmen  | Volt Deutschland                           |\n",
       "| F26 | Zweitstimmen | Volt Deutschland                           |\n",
       "| D27 | Erststimmen  | Einzelbewerber Schürer                     |\n",
       "\n"
      ],
      "text/plain": [
       "  column stimme       partei_beschreibung                       \n",
       "1 F24    Zweitstimmen Team Todenhöfer – Die Gerechtigkeitspartei\n",
       "2 D25    Erststimmen  UNABHÄNGIGE für bürgernahe Demokratie     \n",
       "3 F25    Zweitstimmen UNABHÄNGIGE für bürgernahe Demokratie     \n",
       "4 D26    Erststimmen  Volt Deutschland                          \n",
       "5 F26    Zweitstimmen Volt Deutschland                          \n",
       "6 D27    Erststimmen  Einzelbewerber Schürer                    "
      ]
     },
     "execution_count": 7,
     "metadata": {
     },
     "output_type": "execute_result"
    }
   ],
   "source": [
    "head(votes)\n",
    "tail(votes)"
   ]
  },
  {
   "cell_type": "code",
   "execution_count": 35,
   "metadata": {
    "collapsed": false
   },
   "outputs": [
   ],
   "source": [
    "stadt <- select(stadt_data, `gebiet-name`, D1:F27) %>%\n",
    "    gather(\"Partei_Stimme\", \"Wert\", 2:ncol(.)) %>% \n",
    "    left_join(votes, by = c(\"Partei_Stimme\" = \"column\"))%>%\n",
    "    filter(!is.na(stimme)) %>%\n",
    "    mutate(Stadtbezirk = str_to_title(`gebiet-name`)) %>%\n",
    "    select(-Partei_Stimme, -`gebiet-name`) %>%\n",
    "    spread(\"stimme\", \"Wert\") %>%\n",
    "    replace(is.na(.), 0)"
   ]
  },
  {
   "cell_type": "code",
   "execution_count": 21,
   "metadata": {
    "collapsed": false
   },
   "outputs": [
    {
     "data": {
      "text/html": [
       "<table class=\"dataframe\">\n",
       "<caption>A tibble: 6 × 4</caption>\n",
       "<thead>\n",
       "\t<tr><th scope=col>partei_beschreibung</th><th scope=col>Stadtbezirk</th><th scope=col>Erststimmen</th><th scope=col>Zweitstimmen</th></tr>\n",
       "\t<tr><th scope=col>&lt;chr&gt;</th><th scope=col>&lt;chr&gt;</th><th scope=col>&lt;dbl&gt;</th><th scope=col>&lt;dbl&gt;</th></tr>\n",
       "</thead>\n",
       "<tbody>\n",
       "\t<tr><td>Alternative für Deutschland</td><td>Altstadt    </td><td>0</td><td>477</td></tr>\n",
       "\t<tr><td>Alternative für Deutschland</td><td>Duerrbachtal</td><td>0</td><td>242</td></tr>\n",
       "\t<tr><td>Alternative für Deutschland</td><td>Frauenland  </td><td>0</td><td>520</td></tr>\n",
       "\t<tr><td>Alternative für Deutschland</td><td>Grombuehl   </td><td>0</td><td>202</td></tr>\n",
       "\t<tr><td>Alternative für Deutschland</td><td>Heidingsfeld</td><td>0</td><td>405</td></tr>\n",
       "\t<tr><td>Alternative für Deutschland</td><td>Heuchelhof  </td><td>0</td><td>645</td></tr>\n",
       "</tbody>\n",
       "</table>\n"
      ],
      "text/latex": [
       "A tibble: 6 × 4\n",
       "\\begin{tabular}{llll}\n",
       " partei\\_beschreibung & Stadtbezirk & Erststimmen & Zweitstimmen\\\\\n",
       " <chr> & <chr> & <dbl> & <dbl>\\\\\n",
       "\\hline\n",
       "\t Alternative für Deutschland & Altstadt     & 0 & 477\\\\\n",
       "\t Alternative für Deutschland & Duerrbachtal & 0 & 242\\\\\n",
       "\t Alternative für Deutschland & Frauenland   & 0 & 520\\\\\n",
       "\t Alternative für Deutschland & Grombuehl    & 0 & 202\\\\\n",
       "\t Alternative für Deutschland & Heidingsfeld & 0 & 405\\\\\n",
       "\t Alternative für Deutschland & Heuchelhof   & 0 & 645\\\\\n",
       "\\end{tabular}\n"
      ],
      "text/markdown": [
       "\n",
       "A tibble: 6 × 4\n",
       "\n",
       "| partei_beschreibung &lt;chr&gt; | Stadtbezirk &lt;chr&gt; | Erststimmen &lt;dbl&gt; | Zweitstimmen &lt;dbl&gt; |\n",
       "|---|---|---|---|\n",
       "| Alternative für Deutschland | Altstadt     | 0 | 477 |\n",
       "| Alternative für Deutschland | Duerrbachtal | 0 | 242 |\n",
       "| Alternative für Deutschland | Frauenland   | 0 | 520 |\n",
       "| Alternative für Deutschland | Grombuehl    | 0 | 202 |\n",
       "| Alternative für Deutschland | Heidingsfeld | 0 | 405 |\n",
       "| Alternative für Deutschland | Heuchelhof   | 0 | 645 |\n",
       "\n"
      ],
      "text/plain": [
       "  partei_beschreibung         Stadtbezirk  Erststimmen Zweitstimmen\n",
       "1 Alternative für Deutschland Altstadt     0           477         \n",
       "2 Alternative für Deutschland Duerrbachtal 0           242         \n",
       "3 Alternative für Deutschland Frauenland   0           520         \n",
       "4 Alternative für Deutschland Grombuehl    0           202         \n",
       "5 Alternative für Deutschland Heidingsfeld 0           405         \n",
       "6 Alternative für Deutschland Heuchelhof   0           645         "
      ]
     },
     "execution_count": 21,
     "metadata": {
     },
     "output_type": "execute_result"
    }
   ],
   "source": [
    "head(stadt)"
   ]
  },
  {
   "cell_type": "code",
   "execution_count": 42,
   "metadata": {
    "collapsed": false
   },
   "outputs": [
    {
     "name": "stderr",
     "output_type": "stream",
     "text": [
      "\u001b[1mRows: \u001b[22m\u001b[34m130\u001b[39m \u001b[1mColumns: \u001b[22m\u001b[34m3\u001b[39m\n"
     ]
    },
    {
     "name": "stderr",
     "output_type": "stream",
     "text": [
      "\u001b[36m──\u001b[39m \u001b[1mColumn specification\u001b[22m \u001b[36m────────────────────────────────────────────────────────\u001b[39m\n",
      "\u001b[1mDelimiter:\u001b[22m \"\\t\"\n",
      "\u001b[31mchr\u001b[39m (1): Stadtbezirk\n",
      "\u001b[32mdbl\u001b[39m (2): Jahr, Durchschnittsalter\n"
     ]
    },
    {
     "name": "stderr",
     "output_type": "stream",
     "text": [
      "\n",
      "\u001b[36mℹ\u001b[39m Use \u001b[30m\u001b[47m\u001b[30m\u001b[47m`spec()`\u001b[47m\u001b[30m\u001b[49m\u001b[39m to retrieve the full column specification for this data.\n",
      "\u001b[36mℹ\u001b[39m Specify the column types or set \u001b[30m\u001b[47m\u001b[30m\u001b[47m`show_col_types = FALSE`\u001b[47m\u001b[30m\u001b[49m\u001b[39m to quiet this message.\n"
     ]
    }
   ],
   "source": [
    "alter <- read_tsv(\"stadtbezirke_durchschnittsalter.tsv\") %>%\n",
    "    filter(Jahr==2019) %>%\n",
    "    select(-Jahr) %>%\n",
    "    mutate(\n",
    "        Stadtbezirk=str_replace(Stadtbezirk, \"Due\", \"Dü\"),\n",
    "        Stadtbezirk=str_replace(Stadtbezirk, \"ueh\", \"üh\"),\n",
    "    )"
   ]
  },
  {
   "cell_type": "code",
   "execution_count": 43,
   "metadata": {
    "collapsed": false
   },
   "outputs": [
    {
     "name": "stderr",
     "output_type": "stream",
     "text": [
      "Joining, by = \"Stadtbezirk\"\n"
     ]
    }
   ],
   "source": [
    "stadt_alter <- stadt %>% full_join(alter)"
   ]
  },
  {
   "cell_type": "code",
   "execution_count": 44,
   "metadata": {
    "collapsed": false,
    "scrolled": true
   },
   "outputs": [
    {
     "data": {
      "text/html": [
       "<style>\n",
       ".list-inline {list-style: none; margin:0; padding: 0}\n",
       ".list-inline>li {display: inline-block}\n",
       ".list-inline>li:not(:last-child)::after {content: \"\\00b7\"; padding: 0 .5ex}\n",
       "</style>\n",
       "<ol class=list-inline><li>'Altstadt'</li><li>'Dürrbachtal'</li><li>'Frauenland'</li><li>'Grombühl'</li><li>'Heidingsfeld'</li><li>'Heuchelhof'</li><li>'Lengfeld'</li><li>'Lindleinsmühle'</li><li>'Rottenbauer'</li><li>'Sanderau'</li><li>'Steinbachtal'</li><li>'Versbach'</li><li>'Zellerau'</li></ol>\n"
      ],
      "text/latex": [
       "\\begin{enumerate*}\n",
       "\\item 'Altstadt'\n",
       "\\item 'Dürrbachtal'\n",
       "\\item 'Frauenland'\n",
       "\\item 'Grombühl'\n",
       "\\item 'Heidingsfeld'\n",
       "\\item 'Heuchelhof'\n",
       "\\item 'Lengfeld'\n",
       "\\item 'Lindleinsmühle'\n",
       "\\item 'Rottenbauer'\n",
       "\\item 'Sanderau'\n",
       "\\item 'Steinbachtal'\n",
       "\\item 'Versbach'\n",
       "\\item 'Zellerau'\n",
       "\\end{enumerate*}\n"
      ],
      "text/markdown": [
       "1. 'Altstadt'\n",
       "2. 'Dürrbachtal'\n",
       "3. 'Frauenland'\n",
       "4. 'Grombühl'\n",
       "5. 'Heidingsfeld'\n",
       "6. 'Heuchelhof'\n",
       "7. 'Lengfeld'\n",
       "8. 'Lindleinsmühle'\n",
       "9. 'Rottenbauer'\n",
       "10. 'Sanderau'\n",
       "11. 'Steinbachtal'\n",
       "12. 'Versbach'\n",
       "13. 'Zellerau'\n",
       "\n",
       "\n"
      ],
      "text/plain": [
       " [1] \"Altstadt\"       \"Dürrbachtal\"    \"Frauenland\"     \"Grombühl\"      \n",
       " [5] \"Heidingsfeld\"   \"Heuchelhof\"     \"Lengfeld\"       \"Lindleinsmühle\"\n",
       " [9] \"Rottenbauer\"    \"Sanderau\"       \"Steinbachtal\"   \"Versbach\"      \n",
       "[13] \"Zellerau\"      "
      ]
     },
     "execution_count": 44,
     "metadata": {
     },
     "output_type": "execute_result"
    }
   ],
   "source": [
    "unique(stadt_alter$Stadtbezirk)"
   ]
  },
  {
   "cell_type": "code",
   "execution_count": 85,
   "metadata": {
    "collapsed": false
   },
   "outputs": [
   ],
   "source": [
    "land <- select(land_data, `gebiet-name`, D1:F27) %>%\n",
    "    gather(\"Partei_Stimme\", \"Wert\", 2:ncol(.)) %>% \n",
    "    left_join(votes, by = c(\"Partei_Stimme\" = \"column\"))%>%\n",
    "    filter(!is.na(stimme)) %>%\n",
    "    mutate(Gemeinde = str_remove(`gebiet-name`, \"Gemeinde \")) %>%\n",
    "    mutate(Gemeinde = str_replace(Gemeinde, \"b. Würzburg\", \"b.Würzburg\")) %>%\n",
    "    select(-Partei_Stimme, -`gebiet-name`) %>%\n",
    "    spread(\"stimme\", \"Wert\") %>%\n",
    "    replace(is.na(.), 0)"
   ]
  },
  {
   "cell_type": "code",
   "execution_count": 55,
   "metadata": {
    "collapsed": false
   },
   "outputs": [
    {
     "data": {
      "text/html": [
       "<style>\n",
       ".list-inline {list-style: none; margin:0; padding: 0}\n",
       ".list-inline>li {display: inline-block}\n",
       ".list-inline>li:not(:last-child)::after {content: \"\\00b7\"; padding: 0 .5ex}\n",
       "</style>\n",
       "<ol class=list-inline><li>'Altertheim'</li><li>'Bergtheim'</li><li>'Bieberehren'</li><li>'Eisingen'</li><li>'Erlabrunn'</li><li>'Estenfeld'</li><li>'Gaukönigshofen'</li><li>'Gerbrunn'</li><li>'Geroldshausen'</li><li>'Greußenheim'</li><li>'Güntersleben'</li><li>'Hausen b. Würzburg'</li><li>'Hettstadt'</li><li>'Holzkirchen'</li><li>'Kirchheim'</li><li>'Kist'</li><li>'Kleinrinderfeld'</li><li>'Kürnach'</li><li>'Leinach'</li><li>'Margetshöchheim'</li><li>'Oberpleichfeld'</li><li>'Prosselsheim'</li><li>'Riedenheim'</li><li>'Rottendorf'</li><li>'Sonderhofen'</li><li>'Tauberrettersheim'</li><li>'Theilheim'</li><li>'Thüngersheim'</li><li>'Uettingen'</li><li>'Unterpleichfeld'</li><li>'Veitshöchheim'</li><li>'Waldbrunn'</li><li>'Waldbüttelbrunn'</li><li>'Markt Bütthard'</li><li>'Markt Eisenheim'</li><li>'Markt Frickenhausen a.Main'</li><li>'Markt Gelchsheim'</li><li>'Markt Giebelstadt'</li><li>'Markt Helmstadt'</li><li>'Markt Höchberg'</li><li>'Markt Neubrunn'</li><li>'Markt Randersacker'</li><li>'Markt Reichenberg'</li><li>'Markt Remlingen'</li><li>'Markt Rimpar'</li><li>'Markt Sommerhausen'</li><li>'Markt Winterhausen'</li><li>'Markt Zell a.Main'</li><li>'Stadt Aub'</li><li>'Stadt Eibelstadt'</li><li>'Stadt Ochsenfurt'</li><li>'Stadt Röttingen'</li></ol>\n"
      ],
      "text/latex": [
       "\\begin{enumerate*}\n",
       "\\item 'Altertheim'\n",
       "\\item 'Bergtheim'\n",
       "\\item 'Bieberehren'\n",
       "\\item 'Eisingen'\n",
       "\\item 'Erlabrunn'\n",
       "\\item 'Estenfeld'\n",
       "\\item 'Gaukönigshofen'\n",
       "\\item 'Gerbrunn'\n",
       "\\item 'Geroldshausen'\n",
       "\\item 'Greußenheim'\n",
       "\\item 'Güntersleben'\n",
       "\\item 'Hausen b. Würzburg'\n",
       "\\item 'Hettstadt'\n",
       "\\item 'Holzkirchen'\n",
       "\\item 'Kirchheim'\n",
       "\\item 'Kist'\n",
       "\\item 'Kleinrinderfeld'\n",
       "\\item 'Kürnach'\n",
       "\\item 'Leinach'\n",
       "\\item 'Margetshöchheim'\n",
       "\\item 'Oberpleichfeld'\n",
       "\\item 'Prosselsheim'\n",
       "\\item 'Riedenheim'\n",
       "\\item 'Rottendorf'\n",
       "\\item 'Sonderhofen'\n",
       "\\item 'Tauberrettersheim'\n",
       "\\item 'Theilheim'\n",
       "\\item 'Thüngersheim'\n",
       "\\item 'Uettingen'\n",
       "\\item 'Unterpleichfeld'\n",
       "\\item 'Veitshöchheim'\n",
       "\\item 'Waldbrunn'\n",
       "\\item 'Waldbüttelbrunn'\n",
       "\\item 'Markt Bütthard'\n",
       "\\item 'Markt Eisenheim'\n",
       "\\item 'Markt Frickenhausen a.Main'\n",
       "\\item 'Markt Gelchsheim'\n",
       "\\item 'Markt Giebelstadt'\n",
       "\\item 'Markt Helmstadt'\n",
       "\\item 'Markt Höchberg'\n",
       "\\item 'Markt Neubrunn'\n",
       "\\item 'Markt Randersacker'\n",
       "\\item 'Markt Reichenberg'\n",
       "\\item 'Markt Remlingen'\n",
       "\\item 'Markt Rimpar'\n",
       "\\item 'Markt Sommerhausen'\n",
       "\\item 'Markt Winterhausen'\n",
       "\\item 'Markt Zell a.Main'\n",
       "\\item 'Stadt Aub'\n",
       "\\item 'Stadt Eibelstadt'\n",
       "\\item 'Stadt Ochsenfurt'\n",
       "\\item 'Stadt Röttingen'\n",
       "\\end{enumerate*}\n"
      ],
      "text/markdown": [
       "1. 'Altertheim'\n",
       "2. 'Bergtheim'\n",
       "3. 'Bieberehren'\n",
       "4. 'Eisingen'\n",
       "5. 'Erlabrunn'\n",
       "6. 'Estenfeld'\n",
       "7. 'Gaukönigshofen'\n",
       "8. 'Gerbrunn'\n",
       "9. 'Geroldshausen'\n",
       "10. 'Greußenheim'\n",
       "11. 'Güntersleben'\n",
       "12. 'Hausen b. Würzburg'\n",
       "13. 'Hettstadt'\n",
       "14. 'Holzkirchen'\n",
       "15. 'Kirchheim'\n",
       "16. 'Kist'\n",
       "17. 'Kleinrinderfeld'\n",
       "18. 'Kürnach'\n",
       "19. 'Leinach'\n",
       "20. 'Margetshöchheim'\n",
       "21. 'Oberpleichfeld'\n",
       "22. 'Prosselsheim'\n",
       "23. 'Riedenheim'\n",
       "24. 'Rottendorf'\n",
       "25. 'Sonderhofen'\n",
       "26. 'Tauberrettersheim'\n",
       "27. 'Theilheim'\n",
       "28. 'Thüngersheim'\n",
       "29. 'Uettingen'\n",
       "30. 'Unterpleichfeld'\n",
       "31. 'Veitshöchheim'\n",
       "32. 'Waldbrunn'\n",
       "33. 'Waldbüttelbrunn'\n",
       "34. 'Markt Bütthard'\n",
       "35. 'Markt Eisenheim'\n",
       "36. 'Markt Frickenhausen a.Main'\n",
       "37. 'Markt Gelchsheim'\n",
       "38. 'Markt Giebelstadt'\n",
       "39. 'Markt Helmstadt'\n",
       "40. 'Markt Höchberg'\n",
       "41. 'Markt Neubrunn'\n",
       "42. 'Markt Randersacker'\n",
       "43. 'Markt Reichenberg'\n",
       "44. 'Markt Remlingen'\n",
       "45. 'Markt Rimpar'\n",
       "46. 'Markt Sommerhausen'\n",
       "47. 'Markt Winterhausen'\n",
       "48. 'Markt Zell a.Main'\n",
       "49. 'Stadt Aub'\n",
       "50. 'Stadt Eibelstadt'\n",
       "51. 'Stadt Ochsenfurt'\n",
       "52. 'Stadt Röttingen'\n",
       "\n",
       "\n"
      ],
      "text/plain": [
       " [1] \"Altertheim\"                 \"Bergtheim\"                 \n",
       " [3] \"Bieberehren\"                \"Eisingen\"                  \n",
       " [5] \"Erlabrunn\"                  \"Estenfeld\"                 \n",
       " [7] \"Gaukönigshofen\"             \"Gerbrunn\"                  \n",
       " [9] \"Geroldshausen\"              \"Greußenheim\"               \n",
       "[11] \"Güntersleben\"               \"Hausen b. Würzburg\"        \n",
       "[13] \"Hettstadt\"                  \"Holzkirchen\"               \n",
       "[15] \"Kirchheim\"                  \"Kist\"                      \n",
       "[17] \"Kleinrinderfeld\"            \"Kürnach\"                   \n",
       "[19] \"Leinach\"                    \"Margetshöchheim\"           \n",
       "[21] \"Oberpleichfeld\"             \"Prosselsheim\"              \n",
       "[23] \"Riedenheim\"                 \"Rottendorf\"                \n",
       "[25] \"Sonderhofen\"                \"Tauberrettersheim\"         \n",
       "[27] \"Theilheim\"                  \"Thüngersheim\"              \n",
       "[29] \"Uettingen\"                  \"Unterpleichfeld\"           \n",
       "[31] \"Veitshöchheim\"              \"Waldbrunn\"                 \n",
       "[33] \"Waldbüttelbrunn\"            \"Markt Bütthard\"            \n",
       "[35] \"Markt Eisenheim\"            \"Markt Frickenhausen a.Main\"\n",
       "[37] \"Markt Gelchsheim\"           \"Markt Giebelstadt\"         \n",
       "[39] \"Markt Helmstadt\"            \"Markt Höchberg\"            \n",
       "[41] \"Markt Neubrunn\"             \"Markt Randersacker\"        \n",
       "[43] \"Markt Reichenberg\"          \"Markt Remlingen\"           \n",
       "[45] \"Markt Rimpar\"               \"Markt Sommerhausen\"        \n",
       "[47] \"Markt Winterhausen\"         \"Markt Zell a.Main\"         \n",
       "[49] \"Stadt Aub\"                  \"Stadt Eibelstadt\"          \n",
       "[51] \"Stadt Ochsenfurt\"           \"Stadt Röttingen\"           "
      ]
     },
     "execution_count": 55,
     "metadata": {
     },
     "output_type": "execute_result"
    }
   ],
   "source": [
    "land %>% pull(Gemeinde) %>% unique"
   ]
  },
  {
   "cell_type": "code",
   "execution_count": 74,
   "metadata": {
    "collapsed": false
   },
   "outputs": [
    {
     "data": {
      "text/html": [
       "52"
      ],
      "text/latex": [
       "52"
      ],
      "text/markdown": [
       "52"
      ],
      "text/plain": [
       "[1] 52"
      ]
     },
     "execution_count": 74,
     "metadata": {
     },
     "output_type": "execute_result"
    }
   ],
   "source": [
    "land %>% pull(Gemeinde) %>% unique %>% length"
   ]
  },
  {
   "cell_type": "code",
   "execution_count": 89,
   "metadata": {
    "collapsed": false
   },
   "outputs": [
    {
     "name": "stderr",
     "output_type": "stream",
     "text": [
      "\u001b[36mℹ\u001b[39m Using \u001b[34m\u001b[34m\"','\"\u001b[34m\u001b[39m as decimal and \u001b[34m\u001b[34m\"'.'\"\u001b[34m\u001b[39m as grouping mark. Use \u001b[30m\u001b[47m\u001b[30m\u001b[47m`read_delim()`\u001b[47m\u001b[30m\u001b[49m\u001b[39m for more control.\n",
      "\n"
     ]
    },
    {
     "name": "stderr",
     "output_type": "stream",
     "text": [
      "\u001b[1mRows: \u001b[22m\u001b[34m2056\u001b[39m \u001b[1mColumns: \u001b[22m\u001b[34m3\u001b[39m\n"
     ]
    },
    {
     "name": "stderr",
     "output_type": "stream",
     "text": [
      "\u001b[36m──\u001b[39m \u001b[1mColumn specification\u001b[22m \u001b[36m────────────────────────────────────────────────────────\u001b[39m\n",
      "\u001b[1mDelimiter:\u001b[22m \";\"\n",
      "\u001b[31mchr\u001b[39m (2): id, Gemeinde\n",
      "\u001b[32mdbl\u001b[39m (1): 2019\n"
     ]
    },
    {
     "name": "stderr",
     "output_type": "stream",
     "text": [
      "\n",
      "\u001b[36mℹ\u001b[39m Use \u001b[30m\u001b[47m\u001b[30m\u001b[47m`spec()`\u001b[47m\u001b[30m\u001b[49m\u001b[39m to retrieve the full column specification for this data.\n",
      "\u001b[36mℹ\u001b[39m Specify the column types or set \u001b[30m\u001b[47m\u001b[30m\u001b[47m`show_col_types = FALSE`\u001b[47m\u001b[30m\u001b[49m\u001b[39m to quiet this message.\n"
     ]
    }
   ],
   "source": [
    "oalter <- read_csv2(\"12421-106_clean.csv\") %>%\n",
    "    mutate(\n",
    "        Gemeinde = str_replace(Gemeinde, \"(.*), M$\",\"Markt \\\\1\"),\n",
    "        Gemeinde = str_replace(Gemeinde, \"(.*), St$\",\"Stadt \\\\1\"),\n",
    "        Durchschnittsalter = `2019`\n",
    "    ) %>%\n",
    "    select(-id, -`2019`)"
   ]
  },
  {
   "cell_type": "code",
   "execution_count": 90,
   "metadata": {
    "collapsed": false
   },
   "outputs": [
    {
     "data": {
      "text/html": [
       "<table class=\"dataframe\">\n",
       "<caption>A tibble: 5 × 2</caption>\n",
       "<thead>\n",
       "\t<tr><th scope=col>Gemeinde</th><th scope=col>Durchschnittsalter</th></tr>\n",
       "\t<tr><th scope=col>&lt;chr&gt;</th><th scope=col>&lt;dbl&gt;</th></tr>\n",
       "</thead>\n",
       "<tbody>\n",
       "\t<tr><td>Hausen           </td><td>42.1</td></tr>\n",
       "\t<tr><td>Hausen           </td><td>44.2</td></tr>\n",
       "\t<tr><td>Hausen           </td><td>48.0</td></tr>\n",
       "\t<tr><td>Hausen           </td><td>43.6</td></tr>\n",
       "\t<tr><td>Hausen b.Würzburg</td><td>43.1</td></tr>\n",
       "</tbody>\n",
       "</table>\n"
      ],
      "text/latex": [
       "A tibble: 5 × 2\n",
       "\\begin{tabular}{ll}\n",
       " Gemeinde & Durchschnittsalter\\\\\n",
       " <chr> & <dbl>\\\\\n",
       "\\hline\n",
       "\t Hausen            & 42.1\\\\\n",
       "\t Hausen            & 44.2\\\\\n",
       "\t Hausen            & 48.0\\\\\n",
       "\t Hausen            & 43.6\\\\\n",
       "\t Hausen b.Würzburg & 43.1\\\\\n",
       "\\end{tabular}\n"
      ],
      "text/markdown": [
       "\n",
       "A tibble: 5 × 2\n",
       "\n",
       "| Gemeinde &lt;chr&gt; | Durchschnittsalter &lt;dbl&gt; |\n",
       "|---|---|\n",
       "| Hausen            | 42.1 |\n",
       "| Hausen            | 44.2 |\n",
       "| Hausen            | 48.0 |\n",
       "| Hausen            | 43.6 |\n",
       "| Hausen b.Würzburg | 43.1 |\n",
       "\n"
      ],
      "text/plain": [
       "  Gemeinde          Durchschnittsalter\n",
       "1 Hausen            42.1              \n",
       "2 Hausen            44.2              \n",
       "3 Hausen            48.0              \n",
       "4 Hausen            43.6              \n",
       "5 Hausen b.Würzburg 43.1              "
      ]
     },
     "execution_count": 90,
     "metadata": {
     },
     "output_type": "execute_result"
    }
   ],
   "source": [
    "oalter %>% filter(str_detect(Gemeinde, \"Hausen\"))"
   ]
  },
  {
   "cell_type": "code",
   "execution_count": 91,
   "metadata": {
    "collapsed": false
   },
   "outputs": [
    {
     "name": "stderr",
     "output_type": "stream",
     "text": [
      "Joining, by = \"Gemeinde\"\n"
     ]
    }
   ],
   "source": [
    "land_alter <- land %>% inner_join(oalter)"
   ]
  },
  {
   "cell_type": "code",
   "execution_count": 112,
   "metadata": {
    "collapsed": false
   },
   "outputs": [
   ],
   "source": [
    "data <- land_alter %>% \n",
    "    mutate(Stadt=FALSE) %>%\n",
    "    rename(Ort=Gemeinde) %>%\n",
    "    add_row(\n",
    "        stadt_alter %>%\n",
    "            mutate(Stadt=TRUE) %>%\n",
    "            rename(Ort=Stadtbezirk)\n",
    "    ) %>%\n",
    "    rename(Partei=partei_beschreibung) %>%\n",
    "    group_by(Ort) %>%\n",
    "    mutate(\n",
    "        ErststimmenAnteil = Erststimmen/sum(Erststimmen),\n",
    "        ZweitstimmenAnteil = Zweitstimmen/sum(Zweitstimmen)\n",
    "    ) %>%\n",
    "    ungroup %>%\n",
    "    select(Ort, Partei, Stadt, Durchschnittsalter, Erststimmen, ErststimmenAnteil, Zweitstimmen, ZweitstimmenAnteil)"
   ]
  },
  {
   "cell_type": "code",
   "execution_count": 116,
   "metadata": {
    "collapsed": false
   },
   "outputs": [
    {
     "data": {
      "text/html": [
       "<table class=\"dataframe\">\n",
       "<caption>A tibble: 10 × 8</caption>\n",
       "<thead>\n",
       "\t<tr><th scope=col>Ort</th><th scope=col>Partei</th><th scope=col>Stadt</th><th scope=col>Durchschnittsalter</th><th scope=col>Erststimmen</th><th scope=col>ErststimmenAnteil</th><th scope=col>Zweitstimmen</th><th scope=col>ZweitstimmenAnteil</th></tr>\n",
       "\t<tr><th scope=col>&lt;chr&gt;</th><th scope=col>&lt;chr&gt;</th><th scope=col>&lt;lgl&gt;</th><th scope=col>&lt;dbl&gt;</th><th scope=col>&lt;dbl&gt;</th><th scope=col>&lt;dbl&gt;</th><th scope=col>&lt;dbl&gt;</th><th scope=col>&lt;dbl&gt;</th></tr>\n",
       "</thead>\n",
       "<tbody>\n",
       "\t<tr><td>Markt Gelchsheim          </td><td>Die Urbane. Eine HipHop Partei                                                               </td><td>FALSE</td><td>44.5</td><td>  0</td><td>0.0000000</td><td>  3</td><td>0.0052173913</td></tr>\n",
       "\t<tr><td>Uettingen                 </td><td>Bündnis C - Christen für Deutschland                                                         </td><td>FALSE</td><td>43.5</td><td>  0</td><td>0.0000000</td><td>  0</td><td>0.0000000000</td></tr>\n",
       "\t<tr><td>Stadt Röttingen           </td><td>PARTEI MENSCH UMWELT TIERSCHUTZ                                                              </td><td>FALSE</td><td>47.0</td><td>  0</td><td>0.0000000</td><td> 12</td><td>0.0109689214</td></tr>\n",
       "\t<tr><td>Heidingsfeld              </td><td>Marxistisch-Leninistische Partei Deutschlands                                                </td><td> TRUE</td><td>45.7</td><td>  0</td><td>0.0000000</td><td>  1</td><td>0.0001697793</td></tr>\n",
       "\t<tr><td>Zellerau                  </td><td>Liberal-Konservative Reformer                                                                </td><td> TRUE</td><td>41.8</td><td>  0</td><td>0.0000000</td><td>  0</td><td>0.0000000000</td></tr>\n",
       "\t<tr><td>Leinach                   </td><td>Christlich-Soziale Union in Bayern e.V.                                                      </td><td>FALSE</td><td>44.4</td><td>955</td><td>0.4513233</td><td>819</td><td>0.3836065574</td></tr>\n",
       "\t<tr><td>Markt Helmstadt           </td><td>DER DRITTE WEG                                                                               </td><td>FALSE</td><td>44.0</td><td>  0</td><td>0.0000000</td><td>  0</td><td>0.0000000000</td></tr>\n",
       "\t<tr><td>Versbach                  </td><td>Nationaldemokratische Partei Deutschlands                                                    </td><td> TRUE</td><td>44.6</td><td>  0</td><td>0.0000000</td><td>  2</td><td>0.0004596644</td></tr>\n",
       "\t<tr><td>Markt Frickenhausen a.Main</td><td>DIE LINKE                                                                                    </td><td>FALSE</td><td>46.5</td><td> 21</td><td>0.0260223</td><td> 12</td><td>0.0148883375</td></tr>\n",
       "\t<tr><td>Thüngersheim              </td><td>Partei für Arbeit, Rechtsstaat, Tierschutz, Elitenförderung und basisdemokratische Initiative</td><td>FALSE</td><td>45.9</td><td>  0</td><td>0.0000000</td><td> 16</td><td>0.0084254871</td></tr>\n",
       "</tbody>\n",
       "</table>\n"
      ],
      "text/latex": [
       "A tibble: 10 × 8\n",
       "\\begin{tabular}{llllllll}\n",
       " Ort & Partei & Stadt & Durchschnittsalter & Erststimmen & ErststimmenAnteil & Zweitstimmen & ZweitstimmenAnteil\\\\\n",
       " <chr> & <chr> & <lgl> & <dbl> & <dbl> & <dbl> & <dbl> & <dbl>\\\\\n",
       "\\hline\n",
       "\t Markt Gelchsheim           & Die Urbane. Eine HipHop Partei                                                                & FALSE & 44.5 &   0 & 0.0000000 &   3 & 0.0052173913\\\\\n",
       "\t Uettingen                  & Bündnis C - Christen für Deutschland                                                          & FALSE & 43.5 &   0 & 0.0000000 &   0 & 0.0000000000\\\\\n",
       "\t Stadt Röttingen            & PARTEI MENSCH UMWELT TIERSCHUTZ                                                               & FALSE & 47.0 &   0 & 0.0000000 &  12 & 0.0109689214\\\\\n",
       "\t Heidingsfeld               & Marxistisch-Leninistische Partei Deutschlands                                                 &  TRUE & 45.7 &   0 & 0.0000000 &   1 & 0.0001697793\\\\\n",
       "\t Zellerau                   & Liberal-Konservative Reformer                                                                 &  TRUE & 41.8 &   0 & 0.0000000 &   0 & 0.0000000000\\\\\n",
       "\t Leinach                    & Christlich-Soziale Union in Bayern e.V.                                                       & FALSE & 44.4 & 955 & 0.4513233 & 819 & 0.3836065574\\\\\n",
       "\t Markt Helmstadt            & DER DRITTE WEG                                                                                & FALSE & 44.0 &   0 & 0.0000000 &   0 & 0.0000000000\\\\\n",
       "\t Versbach                   & Nationaldemokratische Partei Deutschlands                                                     &  TRUE & 44.6 &   0 & 0.0000000 &   2 & 0.0004596644\\\\\n",
       "\t Markt Frickenhausen a.Main & DIE LINKE                                                                                     & FALSE & 46.5 &  21 & 0.0260223 &  12 & 0.0148883375\\\\\n",
       "\t Thüngersheim               & Partei für Arbeit, Rechtsstaat, Tierschutz, Elitenförderung und basisdemokratische Initiative & FALSE & 45.9 &   0 & 0.0000000 &  16 & 0.0084254871\\\\\n",
       "\\end{tabular}\n"
      ],
      "text/markdown": [
       "\n",
       "A tibble: 10 × 8\n",
       "\n",
       "| Ort &lt;chr&gt; | Partei &lt;chr&gt; | Stadt &lt;lgl&gt; | Durchschnittsalter &lt;dbl&gt; | Erststimmen &lt;dbl&gt; | ErststimmenAnteil &lt;dbl&gt; | Zweitstimmen &lt;dbl&gt; | ZweitstimmenAnteil &lt;dbl&gt; |\n",
       "|---|---|---|---|---|---|---|---|\n",
       "| Markt Gelchsheim           | Die Urbane. Eine HipHop Partei                                                                | FALSE | 44.5 |   0 | 0.0000000 |   3 | 0.0052173913 |\n",
       "| Uettingen                  | Bündnis C - Christen für Deutschland                                                          | FALSE | 43.5 |   0 | 0.0000000 |   0 | 0.0000000000 |\n",
       "| Stadt Röttingen            | PARTEI MENSCH UMWELT TIERSCHUTZ                                                               | FALSE | 47.0 |   0 | 0.0000000 |  12 | 0.0109689214 |\n",
       "| Heidingsfeld               | Marxistisch-Leninistische Partei Deutschlands                                                 |  TRUE | 45.7 |   0 | 0.0000000 |   1 | 0.0001697793 |\n",
       "| Zellerau                   | Liberal-Konservative Reformer                                                                 |  TRUE | 41.8 |   0 | 0.0000000 |   0 | 0.0000000000 |\n",
       "| Leinach                    | Christlich-Soziale Union in Bayern e.V.                                                       | FALSE | 44.4 | 955 | 0.4513233 | 819 | 0.3836065574 |\n",
       "| Markt Helmstadt            | DER DRITTE WEG                                                                                | FALSE | 44.0 |   0 | 0.0000000 |   0 | 0.0000000000 |\n",
       "| Versbach                   | Nationaldemokratische Partei Deutschlands                                                     |  TRUE | 44.6 |   0 | 0.0000000 |   2 | 0.0004596644 |\n",
       "| Markt Frickenhausen a.Main | DIE LINKE                                                                                     | FALSE | 46.5 |  21 | 0.0260223 |  12 | 0.0148883375 |\n",
       "| Thüngersheim               | Partei für Arbeit, Rechtsstaat, Tierschutz, Elitenförderung und basisdemokratische Initiative | FALSE | 45.9 |   0 | 0.0000000 |  16 | 0.0084254871 |\n",
       "\n"
      ],
      "text/plain": [
       "   Ort                       \n",
       "1  Markt Gelchsheim          \n",
       "2  Uettingen                 \n",
       "3  Stadt Röttingen           \n",
       "4  Heidingsfeld              \n",
       "5  Zellerau                  \n",
       "6  Leinach                   \n",
       "7  Markt Helmstadt           \n",
       "8  Versbach                  \n",
       "9  Markt Frickenhausen a.Main\n",
       "10 Thüngersheim              \n",
       "   Partei                                                                                       \n",
       "1  Die Urbane. Eine HipHop Partei                                                               \n",
       "2  Bündnis C - Christen für Deutschland                                                         \n",
       "3  PARTEI MENSCH UMWELT TIERSCHUTZ                                                              \n",
       "4  Marxistisch-Leninistische Partei Deutschlands                                                \n",
       "5  Liberal-Konservative Reformer                                                                \n",
       "6  Christlich-Soziale Union in Bayern e.V.                                                      \n",
       "7  DER DRITTE WEG                                                                               \n",
       "8  Nationaldemokratische Partei Deutschlands                                                    \n",
       "9  DIE LINKE                                                                                    \n",
       "10 Partei für Arbeit, Rechtsstaat, Tierschutz, Elitenförderung und basisdemokratische Initiative\n",
       "   Stadt Durchschnittsalter Erststimmen ErststimmenAnteil Zweitstimmen\n",
       "1  FALSE 44.5                 0         0.0000000           3         \n",
       "2  FALSE 43.5                 0         0.0000000           0         \n",
       "3  FALSE 47.0                 0         0.0000000          12         \n",
       "4   TRUE 45.7                 0         0.0000000           1         \n",
       "5   TRUE 41.8                 0         0.0000000           0         \n",
       "6  FALSE 44.4               955         0.4513233         819         \n",
       "7  FALSE 44.0                 0         0.0000000           0         \n",
       "8   TRUE 44.6                 0         0.0000000           2         \n",
       "9  FALSE 46.5                21         0.0260223          12         \n",
       "10 FALSE 45.9                 0         0.0000000          16         \n",
       "   ZweitstimmenAnteil\n",
       "1  0.0052173913      \n",
       "2  0.0000000000      \n",
       "3  0.0109689214      \n",
       "4  0.0001697793      \n",
       "5  0.0000000000      \n",
       "6  0.3836065574      \n",
       "7  0.0000000000      \n",
       "8  0.0004596644      \n",
       "9  0.0148883375      \n",
       "10 0.0084254871      "
      ]
     },
     "execution_count": 116,
     "metadata": {
     },
     "output_type": "execute_result"
    }
   ],
   "source": [
    "sample_n(data, 10)"
   ]
  },
  {
   "cell_type": "code",
   "execution_count": 117,
   "metadata": {
    "collapsed": false
   },
   "outputs": [
   ],
   "source": [
    "data %>% write_tsv(\"btw2021_wuerzburg_age.tsv\")"
   ]
  },
  {
   "cell_type": "code",
   "execution_count": 0,
   "metadata": {
    "collapsed": false
   },
   "outputs": [
   ],
   "source": [
   ]
  }
 ],
 "metadata": {
  "kernelspec": {
   "display_name": "R (system-wide)",
   "language": "r",
   "metadata": {
    "cocalc": {
     "description": "R statistical programming language",
     "priority": 10,
     "url": "https://www.r-project.org/"
    }
   },
   "name": "ir",
   "resource_dir": "/ext/jupyter/kernels/ir"
  },
  "language_info": {
   "codemirror_mode": "r",
   "file_extension": ".r",
   "mimetype": "text/x-r-source",
   "name": "R",
   "pygments_lexer": "r",
   "version": "4.1.2"
  }
 },
 "nbformat": 4,
 "nbformat_minor": 4
}