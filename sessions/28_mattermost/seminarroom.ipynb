{
 "cells": [
  {
   "cell_type": "markdown",
   "metadata": {
    "collapsed": false
   },
   "source": [
    "# Mattermost Lunch Channel  History - Part I: Data Collection"
   ]
  },
  {
   "cell_type": "markdown",
   "metadata": {
    "collapsed": false
   },
   "source": [
    "## Tasks"
   ]
  },
  {
   "cell_type": "markdown",
   "metadata": {
    "collapsed": false
   },
   "source": [
    "In this first part of the Mattermost Lunch Channel History Dojo, we aim to retrieve the data from the \"lunch\" channel for further analysis through the Mattermost API. The concrete goal of this session is to create a file (or multiple files) that contain all of the history of the lunch channel in a suitable format for further analysis (e.g. json or csv). Importantly, the data needs to contain the information, **who** posted **when** and **what**, together with the information **who** reacted to the post with **which** emoji(s). :pizza: :+1: :-1: :rocket: :cry:"
   ]
  },
  {
   "cell_type": "markdown",
   "metadata": {
    "collapsed": false
   },
   "source": [
    "## Setup"
   ]
  },
  {
   "cell_type": "markdown",
   "metadata": {
    "collapsed": false
   },
   "source": [
    "### Installation"
   ]
  },
  {
   "cell_type": "code",
   "execution_count": 3,
   "metadata": {
    "collapsed": false
   },
   "outputs": [
    {
     "name": "stdout",
     "output_type": "stream",
     "text": [
      "\u001b[33mWARNING: Ignoring invalid distribution -andas (/usr/local/lib/python3.10/dist-packages)\u001b[0m\u001b[33m\r\n",
      "\u001b[0m"
     ]
    },
    {
     "name": "stdout",
     "output_type": "stream",
     "text": [
      "\u001b[33mWARNING: Ignoring invalid distribution -andas (/usr/local/lib/python3.10/dist-packages)\u001b[0m\u001b[33m\r\n",
      "\u001b[0m"
     ]
    },
    {
     "name": "stdout",
     "output_type": "stream",
     "text": [
      "\r\n",
      "\u001b[1m[\u001b[0m\u001b[34;49mnotice\u001b[0m\u001b[1;39;49m]\u001b[0m\u001b[39;49m A new release of pip is available: \u001b[0m\u001b[31;49m24.0\u001b[0m\u001b[39;49m -> \u001b[0m\u001b[32;49m24.1.1\u001b[0m\r\n",
      "\u001b[1m[\u001b[0m\u001b[34;49mnotice\u001b[0m\u001b[1;39;49m]\u001b[0m\u001b[39;49m To update, run: \u001b[0m\u001b[32;49mpython3 -m pip install --upgrade pip\u001b[0m\r\n"
     ]
    }
   ],
   "source": [
    "!pip install --user -q mattermostdriver"
   ]
  },
  {
   "cell_type": "markdown",
   "metadata": {
    "collapsed": false
   },
   "source": [
    "### Package Imports"
   ]
  },
  {
   "cell_type": "code",
   "execution_count": 4,
   "metadata": {
    "collapsed": false
   },
   "outputs": [
   ],
   "source": [
    "import random\n",
    "from mattermostdriver import Driver\n",
    "from getpass import getpass"
   ]
  },
  {
   "cell_type": "markdown",
   "metadata": {
    "collapsed": false
   },
   "source": [
    "### Group Rotation :memo:"
   ]
  },
  {
   "cell_type": "code",
   "execution_count": 5,
   "metadata": {
    "collapsed": false
   },
   "outputs": [
    {
     "data": {
      "text/plain": [
       "'Sabine → Sinta → Jannis → Joél → Marko'"
      ]
     },
     "execution_count": 5,
     "metadata": {
     },
     "output_type": "execute_result"
    }
   ],
   "source": [
    "# enter the names of your group (comma separated) and update the seed if you like\n",
    "names = \"Sabine,Joél,Marko,Sinta,Jannis\"\n",
    "random.seed(119)\n",
    "names = names.split(\",\")\n",
    "random.shuffle(names)\n",
    "rotation = \" → \".join(names)\n",
    "rotation"
   ]
  },
  {
   "cell_type": "markdown",
   "metadata": {
    "collapsed": false
   },
   "source": [
    "### Connection to Mattermost"
   ]
  },
  {
   "cell_type": "markdown",
   "metadata": {
    "collapsed": false
   },
   "source": [
    "In order to access Mattermost, the valid token of a user is required. In order to generate a token, one member of each group needs to download the `login.sh` script and run it locally. Provide your username and password there, a file `.token` will be created in your current directory. This token can be entered in the input field that appears when you run the next code cell.\n",
    "\n",
    ":warning: all API actions are performed as the user who provides the token. Please use it responsibly. The user who created the token should run `logout.sh` locally, in order to invalidate the token after the session."
   ]
  },
  {
   "cell_type": "code",
   "execution_count": 6,
   "metadata": {
    "cocalc": {
     "outputs": {
      "0": {
       "name": "input",
       "opts": {
        "password": true,
        "prompt": "Enter token: "
       },
       "output_type": "stream",
       "value": ""
      }
     }
    },
    "collapsed": false
   },
   "outputs": [
    {
     "name": "stdout",
     "output_type": "stream",
     "text": "Enter token:  "
    },
    {
     "data": {
      "text/plain": [
       "{'id': 'wigptpyjapyitjsaffh3x49yzo',\n",
       " 'create_at': 1587060759230,\n",
       " 'update_at': 1719999538177,\n",
       " 'delete_at': 0,\n",
       " 'username': 'marko_korb',\n",
       " 'auth_data': '',\n",
       " 'auth_service': '',\n",
       " 'email': 'marko.korb@stud-mail.uni-wuerzburg.de',\n",
       " 'email_verified': True,\n",
       " 'nickname': '',\n",
       " 'first_name': 'Marko',\n",
       " 'last_name': 'Korb',\n",
       " 'position': '',\n",
       " 'roles': 'system_user',\n",
       " 'allow_marketing': True,\n",
       " 'notify_props': {'auto_responder_active': 'false',\n",
       "  'auto_responder_message': 'Hello, I am out of office and unable to respond to messages.',\n",
       "  'channel': 'true',\n",
       "  'comments': 'never',\n",
       "  'desktop': 'mention',\n",
       "  'desktop_notification_sound': 'Bing',\n",
       "  'desktop_sound': 'true',\n",
       "  'desktop_threads': 'all',\n",
       "  'email': 'false',\n",
       "  'email_threads': 'all',\n",
       "  'first_name': 'false',\n",
       "  'mention_keys': 'marko_korb',\n",
       "  'push': 'mention',\n",
       "  'push_status': 'online',\n",
       "  'push_threads': 'all'},\n",
       " 'last_password_update': 1684227179137,\n",
       " 'last_picture_update': 1686665165218,\n",
       " 'locale': 'en',\n",
       " 'timezone': {'automaticTimezone': 'Europe/Berlin',\n",
       "  'manualTimezone': '',\n",
       "  'useAutomaticTimezone': 'true'},\n",
       " 'disable_welcome_email': False}"
      ]
     },
     "execution_count": 6,
     "metadata": {
     },
     "output_type": "execute_result"
    }
   ],
   "source": [
    "mm = Driver({\n",
    "    'url': 'cctb-intern.biologie.uni-wuerzburg.de',\n",
    "    'token': getpass(\"Enter token: \"),\n",
    "    'port': 443})\n",
    "mm.login()"
   ]
  },
  {
   "cell_type": "markdown",
   "metadata": {
    "collapsed": false
   },
   "source": [
    "Now look at the:\n",
    "- [Mattermost API documentation](https://api.mattermost.com/)\n",
    "- [Mattermost python driver documentation](https://vaelor.github.io/python-mattermost-driver/)"
   ]
  },
  {
   "cell_type": "code",
   "execution_count": 25,
   "metadata": {
    "collapsed": false
   },
   "outputs": [
   ],
   "source": [
    "def get_posts_for_channel(self, channel_id, params=None):\n",
    "\t\treturn self.client.get(\n",
    "\t\t\tChannels.endpoint + '/' + channel_id + '/posts',\n",
    "\t\t\tparams=params\n",
    "\t\t)"
   ]
  },
  {
   "cell_type": "code",
   "execution_count": 27,
   "metadata": {
    "collapsed": false
   },
   "outputs": [
    {
     "ename": "AttributeError",
     "evalue": "'Driver' object has no attribute 'endpoints'",
     "output_type": "error",
     "traceback": [
      "\u001b[0;31m---------------------------------------------------------------------------\u001b[0m",
      "\u001b[0;31mAttributeError\u001b[0m                            Traceback (most recent call last)",
      "\u001b[0;32m/tmp/ipykernel_738/1693437659.py\u001b[0m in \u001b[0;36m<cell line: 1>\u001b[0;34m()\u001b[0m\n\u001b[0;32m----> 1\u001b[0;31m \u001b[0mmm\u001b[0m\u001b[0;34m.\u001b[0m\u001b[0mendpoints\u001b[0m\u001b[0;34m.\u001b[0m\u001b[0mget_posts_for_channel\u001b[0m\u001b[0;34m(\u001b[0m\u001b[0;34m\"h3azbb4yejd69kg68kdmqiw53r\"\u001b[0m\u001b[0;34m)\u001b[0m\u001b[0;34m\u001b[0m\u001b[0;34m\u001b[0m\u001b[0m\n\u001b[0m",
      "\u001b[0;31mAttributeError\u001b[0m: 'Driver' object has no attribute 'endpoints'"
     ]
    }
   ],
   "source": [
    "mm.endpoints.get_posts_for_channel(\"h3azbb4yejd69kg68kdmqiw53r\")"
   ]
  },
  {
   "cell_type": "code",
   "execution_count": 24,
   "metadata": {
    "collapsed": false
   },
   "outputs": [
    {
     "data": {
      "text/plain": [
       "{'id': 'h3azbb4yejd69kg68kdmqiw53r',\n",
       " 'create_at': 1499152209696,\n",
       " 'update_at': 1689242463847,\n",
       " 'delete_at': 0,\n",
       " 'team_id': '4izweae3eigapetc3b4stqkgna',\n",
       " 'type': 'O',\n",
       " 'display_name': 'lunch',\n",
       " 'name': 'lunch',\n",
       " 'header': '[cooking](https://hackmd.io/PhOpF6VoQN2D9Mg6R3K9bQ?view) - [gather](https://gather.town/app/r4oLVM25VSqeXimY/CCTB)',\n",
       " 'purpose': 'How to organize lunch :)',\n",
       " 'last_post_at': 1719910676224,\n",
       " 'total_msg_count': 6906,\n",
       " 'extra_update_at': 1533632808244,\n",
       " 'creator_id': '',\n",
       " 'scheme_id': None,\n",
       " 'props': None,\n",
       " 'group_constrained': None,\n",
       " 'shared': None,\n",
       " 'total_msg_count_root': 6971,\n",
       " 'policy_id': None,\n",
       " 'last_root_post_at': 1719910676224}"
      ]
     },
     "execution_count": 24,
     "metadata": {
     },
     "output_type": "execute_result"
    }
   ],
   "source": [
    "mm.channels.get_channel_by_name(\"4izweae3eigapetc3b4stqkgna\", \"lunch\")"
   ]
  },
  {
   "cell_type": "code",
   "execution_count": 22,
   "metadata": {
    "collapsed": false
   },
   "outputs": [
   ],
   "source": [
    "#h3azbb4yejd69kg68kdmqiw53r channeldID\n",
    "#4izweae3eigapetc3b4stqkgna teamid???"
   ]
  },
  {
   "cell_type": "code",
   "execution_count": 21,
   "metadata": {
    "collapsed": false
   },
   "outputs": [
    {
     "data": {
      "text/plain": [
       "{'id': '4izweae3eigapetc3b4stqkgna',\n",
       " 'create_at': 1498811058402,\n",
       " 'update_at': 1558555317773,\n",
       " 'delete_at': 0,\n",
       " 'display_name': 'CCTB',\n",
       " 'name': 'cctb',\n",
       " 'description': '',\n",
       " 'email': '',\n",
       " 'type': 'O',\n",
       " 'company_name': '',\n",
       " 'allowed_domains': '',\n",
       " 'invite_id': 'yg6m1911ot8djkajhqgigfw6xy',\n",
       " 'allow_open_invite': False,\n",
       " 'last_team_icon_update': 1558555317773,\n",
       " 'scheme_id': None,\n",
       " 'group_constrained': None,\n",
       " 'policy_id': None,\n",
       " 'cloud_limits_archived': False}"
      ]
     },
     "execution_count": 21,
     "metadata": {
     },
     "output_type": "execute_result"
    }
   ],
   "source": [
    "mm.teams.get_team_by_name(\"CCTB\")"
   ]
  },
  {
   "cell_type": "code",
   "execution_count": 31,
   "metadata": {
    "collapsed": false
   },
   "outputs": [
   ],
   "source": [
    "posts = mm.posts.get_posts_for_channel(\"h3azbb4yejd69kg68kdmqiw53r\")"
   ]
  },
  {
   "cell_type": "code",
   "execution_count": 36,
   "metadata": {
    "collapsed": false
   },
   "outputs": [
    {
     "data": {
      "text/plain": [
       "60"
      ]
     },
     "execution_count": 36,
     "metadata": {
     },
     "output_type": "execute_result"
    }
   ],
   "source": [
    "len(posts[\"posts\"])"
   ]
  },
  {
   "cell_type": "code",
   "execution_count": 37,
   "metadata": {
    "collapsed": false
   },
   "outputs": [
    {
     "data": {
      "text/plain": [
       "dict_keys(['order', 'posts', 'next_post_id', 'prev_post_id', 'has_next', 'first_inaccessible_post_time'])"
      ]
     },
     "execution_count": 37,
     "metadata": {
     },
     "output_type": "execute_result"
    }
   ],
   "source": [
    "posts.keys()"
   ]
  },
  {
   "cell_type": "code",
   "execution_count": 38,
   "metadata": {
    "collapsed": false
   },
   "outputs": [
    {
     "data": {
      "text/plain": [
       "dict_keys(['13yo1tsrnid15bd3tohgqgnash', '1f77hkb68py5ukuzfdcw1j8mty', '35tzkq6b7j8wj8tyq14etq9bka', '3jqtuj71qpda8dse6tjnhdeq4c', '5hbfj51hjfrsprqq8koacfk18w', '6emh6hsoqpngpg4jrqktyexiyc', '76e1tuu3efyyzxr4x85mibimno', '79jpo46j1igrmgkdfy5zrozshc', '7btah8qzjtdipchgz5fi38ykbc', '7ks7xffjbf81mc6c9zf5hknhxe', '81budfh9siygdyamjubf8ei3oo', '87kzhpk9w3yuf8676sex4iytjw', '8t5od64petrs7yfyktfxfjrwdh', '9364e7fsapyqbk1hk86io1bk4o', '9rm7m18jcibm3rbef3yqm5biyy', '9w8iujqjjfy97gc7augi7dd3pa', 'b86aige1e3y1byju3mr76do33e', 'b894tc3hzid1uknu54c1tub7ta', 'bc95qih3hbnejgrtfgkx4tqzda', 'dbbfdznta7fadbcrf9rqn16y7r', 'dgmy447pxpg8zjwfhthokcmx6c', 'dguym6hfs7ba883ns6g36j819c', 'dwyheudckbn7ddpagcc7qzjewo', 'dz4hzybdd7n63rmaocwpoqiear', 'e7qy74cyypd5urb6mtc8173t1h', 'ecipwk81y3biird76adshrybqo', 'f1eex4cugtyrzr86uoq5ca9geh', 'f59jj8myn7bg8n1j1kejp3u6ch', 'fd41dxodoi8t5bza39koap6tbc', 'fj56yogwxidk3p8b4yehb96cte', 'fwmouzqgdf87bk9633tn8tez5o', 'gyrs5ykyutywpyie43hhnwnjfa', 'gzd3gqkr7indiffu64k3rsfe5y', 'iyj1hy18ytnb9d1z6enx3fpaaa', 'izhcm4y6bibwpknf5kxk86g6ir', 'k7og97nx1jn9pxk4jhxmytnneo', 'kkwpm969zpd5jpnpwp11d86mrh', 'm684im46ypbjdcqoi5ims3ipkr', 'mxzgiwe4ef8tpfznhn1bwuswyy', 'nuxrfkcd5ffn9czdf7w37szhdc', 'o6aymh945irkjxre9dtwjck4ec', 'odruwa49wjr4ucrjoca6i9dihr', 'onypbwh1opbdbdfbn9n7uwbmna', 'oo7zsxa1yffbx86hsdfwuyutmw', 'oqwejddezjrbjcd9k5gsww81jo', 'pzitxo18afb6pgxcka1r9ywn8h', 's9d136m3abyhibeerdu46twswo', 't6xcmaj6fp8z7fftfiauyr4t3y', 'tbiapa4kfiydbxg333r3coyukc', 'wghc6zfpztg9xjp71ketfgbypo', 'wmgxbhn6p3de7mb7btkhp845xw', 'wngtjqih4ibodkb4yq1wpiitkw', 'x3mrxg1jctr1tki489ncaoo3ah', 'xm4h713rybnp8kfcgsk8wbz5dr', 'y9oprc85rjfedfomzcrteu1bye', 'ysd8mo34ptfijg6p8p3mp4heqh', 'ysrq8a5f1tfmxnmace4m6ptbec', 'ywkwbkbbp3rx8prdk6gzqnm9ih', 'yy66qb9ifpn33gb5frt566ukse', 'zcaptninj3gzmc11fk93sek9sa'])"
      ]
     },
     "execution_count": 38,
     "metadata": {
     },
     "output_type": "execute_result"
    }
   ],
   "source": [
    "posts['posts'].keys()"
   ]
  },
  {
   "cell_type": "code",
   "execution_count": 43,
   "metadata": {
    "collapsed": false
   },
   "outputs": [
    {
     "data": {
      "text/plain": [
       "{'id': 'oqwejddezjrbjcd9k5gsww81jo',\n",
       " 'create_at': 1719565810471,\n",
       " 'update_at': 1719842238888,\n",
       " 'edit_at': 0,\n",
       " 'delete_at': 0,\n",
       " 'is_pinned': False,\n",
       " 'user_id': 'xxg7ytrh9idsdci9zo3mjqq96e',\n",
       " 'channel_id': 'h3azbb4yejd69kg68kdmqiw53r',\n",
       " 'root_id': '',\n",
       " 'original_id': '',\n",
       " 'message': '11:15?',\n",
       " 'type': '',\n",
       " 'props': {'disable_group_highlight': True},\n",
       " 'hashtags': '',\n",
       " 'file_ids': ['3jtgydibdtddukoes6qpe5q8eh'],\n",
       " 'pending_post_id': '',\n",
       " 'has_reactions': True,\n",
       " 'reply_count': 0,\n",
       " 'last_reply_at': 0,\n",
       " 'participants': None,\n",
       " 'metadata': {'emojis': [{'id': 'fupxasprbjr6x8x8j9d6wnbtga',\n",
       "    'create_at': 1575379253544,\n",
       "    'update_at': 1575379253544,\n",
       "    'delete_at': 0,\n",
       "    'creator_id': 'zactjsrscf8ippuib6ui63sfbc',\n",
       "    'name': 'cherry'}],\n",
       "  'files': [{'id': '3jtgydibdtddukoes6qpe5q8eh',\n",
       "    'user_id': 'xxg7ytrh9idsdci9zo3mjqq96e',\n",
       "    'post_id': 'oqwejddezjrbjcd9k5gsww81jo',\n",
       "    'channel_id': 'h3azbb4yejd69kg68kdmqiw53r',\n",
       "    'create_at': 1719565804717,\n",
       "    'update_at': 1719565804717,\n",
       "    'delete_at': 0,\n",
       "    'name': 'Bildschirmfoto 2024-06-28 um 11.09.35.png',\n",
       "    'extension': 'png',\n",
       "    'size': 1061331,\n",
       "    'mime_type': 'image/png',\n",
       "    'width': 736,\n",
       "    'height': 736,\n",
       "    'has_preview_image': True,\n",
       "    'mini_preview': '/9j/2wCEAAMCAgMCAgMDAwMEAwMEBQgFBQQEBQoHBwYIDAoMDAsKCwsNDhIQDQ4RDgsLEBYQERMUFRUVDA8XGBYUGBIUFRQBAwQEBQQFCQUFCRQNCw0UFBQUFBQUFBQUFBQUFBQUFBQUFBQUFBQUFBQUFBQUFBQUFBQUFBQUFBQUFBQUFBQUFP/AABEIABAAEAMBIgACEQEDEQH/xAGiAAABBQEBAQEBAQAAAAAAAAAAAQIDBAUGBwgJCgsQAAIBAwMCBAMFBQQEAAABfQECAwAEEQUSITFBBhNRYQcicRQygZGhCCNCscEVUtHwJDNicoIJChYXGBkaJSYnKCkqNDU2Nzg5OkNERUZHSElKU1RVVldYWVpjZGVmZ2hpanN0dXZ3eHl6g4SFhoeIiYqSk5SVlpeYmZqio6Slpqeoqaqys7S1tre4ubrCw8TFxsfIycrS09TV1tfY2drh4uPk5ebn6Onq8fLz9PX29/j5+gEAAwEBAQEBAQEBAQAAAAAAAAECAwQFBgcICQoLEQACAQIEBAMEBwUEBAABAncAAQIDEQQFITEGEkFRB2FxEyIygQgUQpGhscEJIzNS8BVictEKFiQ04SXxFxgZGiYnKCkqNTY3ODk6Q0RFRkdISUpTVFVWV1hZWmNkZWZnaGlqc3R1dnd4eXqCg4SFhoeIiYqSk5SVlpeYmZqio6Slpqeoqaqys7S1tre4ubrCw8TFxsfIycrS09TV1tfY2dri4+Tl5ufo6ery8/T19vf4+fr/2gAMAwEAAhEDEQA/APl/RtIsJvFOt6OYftV1dnMM0rR+fJGxcyx5IkRXYEYI+YFflIBIH0J8Af2cdA0nxp4R1u402Yabqck99CdcgBkAhTfglQFKtJ8m3JOB82Nyivnf4fJ4Wkjudd1nxg9ndHy1utGmUKNQDHcSJHBjQIQvDc56YAzXtN/8Z/A3iDSbaKwuLrwxqVlA9vZ38OtxyGJd4dyqSXBUs+zHC4IA2gcGvjK3PBKELu277v8Ar5fM/RVJV5zmrRT0tpovLz/4Y//Z',\n",
       "    'remote_id': '',\n",
       "    'archived': False}],\n",
       "  'reactions': [{'user_id': 'e964eohjctd7xe7e96adyxw5do',\n",
       "    'post_id': 'oqwejddezjrbjcd9k5gsww81jo',\n",
       "    'emoji_name': 'cherry',\n",
       "    'create_at': 1719565848046,\n",
       "    'update_at': 1719565848046,\n",
       "    'delete_at': 0,\n",
       "    'remote_id': '',\n",
       "    'channel_id': 'h3azbb4yejd69kg68kdmqiw53r'},\n",
       "   {'user_id': 'ajs477544if7ip5r5yawkitf3e',\n",
       "    'post_id': 'oqwejddezjrbjcd9k5gsww81jo',\n",
       "    'emoji_name': 'cherry',\n",
       "    'create_at': 1719842238882,\n",
       "    'update_at': 1719842238882,\n",
       "    'delete_at': 0,\n",
       "    'remote_id': '',\n",
       "    'channel_id': 'h3azbb4yejd69kg68kdmqiw53r'}]}}"
      ]
     },
     "execution_count": 43,
     "metadata": {
     },
     "output_type": "execute_result"
    }
   ],
   "source": [
    "posts['posts']['oqwejddezjrbjcd9k5gsww81jo']"
   ]
  },
  {
   "cell_type": "code",
   "execution_count": 0,
   "metadata": {
    "collapsed": false
   },
   "outputs": [
   ],
   "source": [
   ]
  }
 ],
 "metadata": {
  "kernelspec": {
   "argv": [
    "/usr/bin/python3",
    "-m",
    "ipykernel",
    "--HistoryManager.enabled=False",
    "--matplotlib=inline",
    "-c",
    "%config InlineBackend.figure_formats = set(['retina'])\nimport matplotlib; matplotlib.rcParams['figure.figsize'] = (12, 7)",
    "-f",
    "{connection_file}"
   ],
   "display_name": "Python 3 (system-wide)",
   "env": {
   },
   "language": "python",
   "metadata": {
    "cocalc": {
     "description": "Python 3 programming language",
     "priority": 100,
     "url": "https://www.python.org/"
    }
   },
   "name": "python3",
   "resource_dir": "/ext/jupyter/kernels/python3"
  },
  "language_info": {
   "codemirror_mode": {
    "name": "ipython",
    "version": 3
   },
   "file_extension": ".py",
   "mimetype": "text/x-python",
   "name": "python",
   "nbconvert_exporter": "python",
   "pygments_lexer": "ipython3",
   "version": "3.10.12"
  }
 },
 "nbformat": 4,
 "nbformat_minor": 4
}