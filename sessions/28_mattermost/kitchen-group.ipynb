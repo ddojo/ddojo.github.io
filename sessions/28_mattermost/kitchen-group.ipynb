{
 "cells": [
  {
   "cell_type": "markdown",
   "metadata": {
    "collapsed": false
   },
   "source": [
    "# Mattermost Lunch Channel  History - Part I: Data Collection"
   ]
  },
  {
   "cell_type": "markdown",
   "metadata": {
    "collapsed": false
   },
   "source": [
    "## Tasks"
   ]
  },
  {
   "cell_type": "markdown",
   "metadata": {
    "collapsed": false
   },
   "source": [
    "In this first part of the Mattermost Lunch Channel History Dojo, we aim to retrieve the data from the \"lunch\" channel for further analysis through the Mattermost API. The concrete goal of this session is to create a file (or multiple files) that contain all of the history of the lunch channel in a suitable format for further analysis (e.g. json or csv). Importantly, the data needs to contain the information, **who** posted **when** and **what**, together with the information **who** reacted to the post with **which** emoji(s). :pizza: :+1: :-1: :rocket: :cry:"
   ]
  },
  {
   "cell_type": "markdown",
   "metadata": {
    "collapsed": false
   },
   "source": [
    "## Setup"
   ]
  },
  {
   "cell_type": "markdown",
   "metadata": {
    "collapsed": false
   },
   "source": [
    "### Installation"
   ]
  },
  {
   "cell_type": "code",
   "execution_count": 3,
   "metadata": {
    "collapsed": false
   },
   "outputs": [
    {
     "name": "stdout",
     "output_type": "stream",
     "text": [
      "\u001b[33mWARNING: Ignoring invalid distribution -andas (/usr/local/lib/python3.10/dist-packages)\u001b[0m\u001b[33m\r\n",
      "\u001b[0m"
     ]
    },
    {
     "name": "stdout",
     "output_type": "stream",
     "text": [
      "\u001b[33mWARNING: Ignoring invalid distribution -andas (/usr/local/lib/python3.10/dist-packages)\u001b[0m\u001b[33m\r\n",
      "\u001b[0m"
     ]
    },
    {
     "name": "stdout",
     "output_type": "stream",
     "text": [
      "\r\n",
      "\u001b[1m[\u001b[0m\u001b[34;49mnotice\u001b[0m\u001b[1;39;49m]\u001b[0m\u001b[39;49m A new release of pip is available: \u001b[0m\u001b[31;49m24.0\u001b[0m\u001b[39;49m -> \u001b[0m\u001b[32;49m24.1.1\u001b[0m\r\n",
      "\u001b[1m[\u001b[0m\u001b[34;49mnotice\u001b[0m\u001b[1;39;49m]\u001b[0m\u001b[39;49m To update, run: \u001b[0m\u001b[32;49mpython3 -m pip install --upgrade pip\u001b[0m\r\n"
     ]
    }
   ],
   "source": [
    "!pip install --user -q mattermostdriver"
   ]
  },
  {
   "cell_type": "markdown",
   "metadata": {
    "collapsed": false
   },
   "source": [
    "### Package Imports"
   ]
  },
  {
   "cell_type": "code",
   "execution_count": 4,
   "metadata": {
    "collapsed": false
   },
   "outputs": [
   ],
   "source": [
    "import random\n",
    "from mattermostdriver import Driver\n",
    "from getpass import getpass"
   ]
  },
  {
   "cell_type": "markdown",
   "metadata": {
    "collapsed": false
   },
   "source": [
    "### Group Rotation :memo:"
   ]
  },
  {
   "cell_type": "code",
   "execution_count": 5,
   "metadata": {
    "collapsed": false
   },
   "outputs": [
    {
     "data": {
      "text/plain": [
       "'Markus → Mike → Andi → Robin → Jana'"
      ]
     },
     "execution_count": 5,
     "metadata": {
     },
     "output_type": "execute_result"
    }
   ],
   "source": [
    "# enter the names of your group (comma separated) and update the seed if you like\n",
    "names = \"Robin,Mike,Markus,Jana,Andi\"\n",
    "random.seed(40)\n",
    "names = names.split(\",\")\n",
    "random.shuffle(names)\n",
    "rotation = \" → \".join(names)\n",
    "rotation"
   ]
  },
  {
   "cell_type": "markdown",
   "metadata": {
    "collapsed": false
   },
   "source": [
    "### Connection to Mattermost"
   ]
  },
  {
   "cell_type": "markdown",
   "metadata": {
    "collapsed": false
   },
   "source": [
    "In order to access Mattermost, the valid token of a user is required. In order to generate a token, one member of each group needs to download the `login.sh` script and run it locally. Provide your username and password there, a file `.token` will be created in your current directory. This token can be entered in the input field that appears when you run the next code cell.\n",
    "\n",
    ":warning: all API actions are performed as the user who provides the token. Please use it responsibly. The user who created the token should run `logout.sh` locally, in order to invalidate the token after the session."
   ]
  },
  {
   "cell_type": "code",
   "execution_count": 6,
   "metadata": {
    "cocalc": {
     "outputs": {
      "0": {
       "name": "input",
       "opts": {
        "password": true,
        "prompt": "Enter token: "
       },
       "output_type": "stream",
       "value": ""
      }
     }
    },
    "collapsed": false
   },
   "outputs": [
    {
     "name": "stdout",
     "output_type": "stream",
     "text": "Enter token:  "
    },
    {
     "data": {
      "text/plain": [
       "{'id': '8gtq7te3ii8k3dat8gougi6ikh',\n",
       " 'create_at': 1498818560044,\n",
       " 'update_at': 1719998533321,\n",
       " 'delete_at': 0,\n",
       " 'username': 'iimog',\n",
       " 'auth_data': '',\n",
       " 'auth_service': '',\n",
       " 'email': 'markus.ankenbrand@uni-wuerzburg.de',\n",
       " 'email_verified': True,\n",
       " 'nickname': '',\n",
       " 'first_name': 'Markus',\n",
       " 'last_name': 'Ankenbrand',\n",
       " 'position': '',\n",
       " 'roles': 'system_user',\n",
       " 'allow_marketing': True,\n",
       " 'props': {'customStatus': '{\"emoji\":\"back\",\"text\":\"\",\"duration\":\"this_week\",\"expires_at\":\"2024-06-15T21:59:59.999Z\"}',\n",
       "  'last_search_pointer': '2'},\n",
       " 'notify_props': {'channel': 'true',\n",
       "  'comments': 'never',\n",
       "  'desktop': 'all',\n",
       "  'desktop_duration': '5',\n",
       "  'desktop_sound': 'true',\n",
       "  'email': 'false',\n",
       "  'first_name': 'false',\n",
       "  'mention_keys': 'iimog',\n",
       "  'push': 'mention',\n",
       "  'push_status': 'online',\n",
       "  'user_id': '8gtq7te3ii8k3dat8gougi6ikh'},\n",
       " 'last_password_update': 1499240959099,\n",
       " 'last_picture_update': 1499243140269,\n",
       " 'locale': 'en',\n",
       " 'timezone': {'automaticTimezone': 'Europe/Berlin',\n",
       "  'manualTimezone': '',\n",
       "  'useAutomaticTimezone': 'true'},\n",
       " 'disable_welcome_email': False}"
      ]
     },
     "execution_count": 6,
     "metadata": {
     },
     "output_type": "execute_result"
    }
   ],
   "source": [
    "mm = Driver({\n",
    "    'url': 'cctb-intern.biologie.uni-wuerzburg.de',\n",
    "    'token': getpass(\"Enter token: \"),\n",
    "    'port': 443})\n",
    "mm.login()"
   ]
  },
  {
   "cell_type": "markdown",
   "metadata": {
    "collapsed": false
   },
   "source": [
    "Now look at the:\n",
    "- [Mattermost API documentation](https://api.mattermost.com/)\n",
    "- [Mattermost python driver documentation](https://vaelor.github.io/python-mattermost-driver/)"
   ]
  },
  {
   "cell_type": "code",
   "execution_count": 8,
   "metadata": {
    "collapsed": false
   },
   "outputs": [
    {
     "data": {
      "text/plain": [
       "{'total_users_count': 440}"
      ]
     },
     "execution_count": 8,
     "metadata": {
     },
     "output_type": "execute_result"
    }
   ],
   "source": [
    "mm.users.get_stats()"
   ]
  },
  {
   "cell_type": "code",
   "execution_count": 0,
   "metadata": {
    "collapsed": false
   },
   "outputs": [
   ],
   "source": [
   ]
  },
  {
   "cell_type": "code",
   "execution_count": 15,
   "metadata": {
    "collapsed": false
   },
   "outputs": [
    {
     "data": {
      "text/plain": [
       "{'id': '4izweae3eigapetc3b4stqkgna',\n",
       " 'create_at': 1498811058402,\n",
       " 'update_at': 1558555317773,\n",
       " 'delete_at': 0,\n",
       " 'display_name': 'CCTB',\n",
       " 'name': 'cctb',\n",
       " 'description': '',\n",
       " 'email': 'mail@sonja-hohlfeld.de',\n",
       " 'type': 'O',\n",
       " 'company_name': '',\n",
       " 'allowed_domains': '',\n",
       " 'invite_id': 'yg6m1911ot8djkajhqgigfw6xy',\n",
       " 'allow_open_invite': False,\n",
       " 'last_team_icon_update': 1558555317773,\n",
       " 'scheme_id': None,\n",
       " 'group_constrained': None,\n",
       " 'policy_id': None,\n",
       " 'cloud_limits_archived': False}"
      ]
     },
     "execution_count": 15,
     "metadata": {
     },
     "output_type": "execute_result"
    }
   ],
   "source": [
    "mm.teams.get_team_by_name(\"CCTB\")"
   ]
  },
  {
   "cell_type": "code",
   "execution_count": 16,
   "metadata": {
    "collapsed": false
   },
   "outputs": [
   ],
   "source": [
    "team_id = \"4izweae3eigapetc3b4stqkgna\""
   ]
  },
  {
   "cell_type": "code",
   "execution_count": 18,
   "metadata": {
    "collapsed": false
   },
   "outputs": [
   ],
   "source": [
    "lunch_json = mm.channels.get_channel_by_name(team_id=team_id, channel_name=\"lunch\")"
   ]
  },
  {
   "cell_type": "code",
   "execution_count": 21,
   "metadata": {
    "collapsed": false
   },
   "outputs": [
    {
     "data": {
      "text/plain": [
       "dict"
      ]
     },
     "execution_count": 21,
     "metadata": {
     },
     "output_type": "execute_result"
    }
   ],
   "source": [
    "type(lunch_json)"
   ]
  },
  {
   "cell_type": "code",
   "execution_count": 23,
   "metadata": {
    "collapsed": false
   },
   "outputs": [
    {
     "data": {
      "text/plain": [
       "{'id': 'h3azbb4yejd69kg68kdmqiw53r',\n",
       " 'create_at': 1499152209696,\n",
       " 'update_at': 1689242463847,\n",
       " 'delete_at': 0,\n",
       " 'team_id': '4izweae3eigapetc3b4stqkgna',\n",
       " 'type': 'O',\n",
       " 'display_name': 'lunch',\n",
       " 'name': 'lunch',\n",
       " 'header': '[cooking](https://hackmd.io/PhOpF6VoQN2D9Mg6R3K9bQ?view) - [gather](https://gather.town/app/r4oLVM25VSqeXimY/CCTB)',\n",
       " 'purpose': 'How to organize lunch :)',\n",
       " 'last_post_at': 1719910676224,\n",
       " 'total_msg_count': 6906,\n",
       " 'extra_update_at': 1533632808244,\n",
       " 'creator_id': '',\n",
       " 'scheme_id': None,\n",
       " 'props': None,\n",
       " 'group_constrained': None,\n",
       " 'shared': None,\n",
       " 'total_msg_count_root': 6971,\n",
       " 'policy_id': None,\n",
       " 'last_root_post_at': 1719910676224}"
      ]
     },
     "execution_count": 23,
     "metadata": {
     },
     "output_type": "execute_result"
    }
   ],
   "source": [
    "lunch_json"
   ]
  },
  {
   "cell_type": "code",
   "execution_count": 24,
   "metadata": {
    "collapsed": false
   },
   "outputs": [
   ],
   "source": [
    "lunch_m = mm.posts.get_posts_for_channel(\"h3azbb4yejd69kg68kdmqiw53r\")"
   ]
  },
  {
   "cell_type": "code",
   "execution_count": 28,
   "metadata": {
    "collapsed": false,
    "scrolled": true
   },
   "outputs": [
    {
     "name": "stderr",
     "output_type": "stream",
     "text": [
      "WARNING: Some output was deleted.\n"
     ]
    }
   ],
   "source": [
    "lunch_m"
   ]
  },
  {
   "cell_type": "code",
   "execution_count": 26,
   "metadata": {
    "collapsed": false
   },
   "outputs": [
    {
     "data": {
      "text/plain": [
       "60"
      ]
     },
     "execution_count": 26,
     "metadata": {
     },
     "output_type": "execute_result"
    }
   ],
   "source": [
    "len(lunch_m[\"order\"])"
   ]
  },
  {
   "cell_type": "code",
   "execution_count": 27,
   "metadata": {
    "collapsed": false
   },
   "outputs": [
    {
     "data": {
      "text/plain": [
       "116.18333333333334"
      ]
     },
     "execution_count": 27,
     "metadata": {
     },
     "output_type": "execute_result"
    }
   ],
   "source": [
    "6971/60"
   ]
  },
  {
   "cell_type": "code",
   "execution_count": 29,
   "metadata": {
    "collapsed": false
   },
   "outputs": [
   ],
   "source": [
    "list_keys = [\"user_id\", \"message\", \"create_at\", \"metadata\"]"
   ]
  },
  {
   "cell_type": "code",
   "execution_count": 31,
   "metadata": {
    "collapsed": false
   },
   "outputs": [
   ],
   "source": [
    "lunch_data = []\n",
    "for i in range(117):\n",
    "    lunch_data.append(mm.posts.get_posts_for_channel(\"h3azbb4yejd69kg68kdmqiw53r\", params={\"page\":i})[\"posts\"])"
   ]
  },
  {
   "cell_type": "code",
   "execution_count": 35,
   "metadata": {
    "collapsed": false,
    "scrolled": true
   },
   "outputs": [
   ],
   "source": [
    "lunch_data = [list(x.values()) for x in lunch_data]"
   ]
  },
  {
   "cell_type": "code",
   "execution_count": 39,
   "metadata": {
    "collapsed": false
   },
   "outputs": [
   ],
   "source": [
    "lunch_data = sum(lunch_data, [])"
   ]
  },
  {
   "cell_type": "code",
   "execution_count": 43,
   "metadata": {
    "collapsed": false
   },
   "outputs": [
    {
     "data": {
      "text/plain": [
       "{'id': 'yygrg8xs1jn6d8c1zqg5xcmboh',\n",
       " 'create_at': 1462356302000,\n",
       " 'update_at': 1462356302000,\n",
       " 'edit_at': 0,\n",
       " 'delete_at': 0,\n",
       " 'is_pinned': False,\n",
       " 'user_id': 'zhcza6utdjbddq3tkcr9pwhunc',\n",
       " 'channel_id': 'h3azbb4yejd69kg68kdmqiw53r',\n",
       " 'root_id': '',\n",
       " 'original_id': '',\n",
       " 'message': 'kommt noch jemand mit?',\n",
       " 'type': '',\n",
       " 'props': {},\n",
       " 'hashtags': '',\n",
       " 'pending_post_id': '',\n",
       " 'reply_count': 0,\n",
       " 'last_reply_at': 0,\n",
       " 'participants': None,\n",
       " 'metadata': {}}"
      ]
     },
     "execution_count": 43,
     "metadata": {
     },
     "output_type": "execute_result"
    }
   ],
   "source": [
    "lunch_data[-1]"
   ]
  },
  {
   "cell_type": "code",
   "execution_count": 45,
   "metadata": {
    "collapsed": false
   },
   "outputs": [
   ],
   "source": [
    "import pandas as pd"
   ]
  },
  {
   "cell_type": "code",
   "execution_count": 81,
   "metadata": {
    "collapsed": false
   },
   "outputs": [
    {
     "data": {
      "text/html": [
       "<div>\n",
       "<style scoped>\n",
       "    .dataframe tbody tr th:only-of-type {\n",
       "        vertical-align: middle;\n",
       "    }\n",
       "\n",
       "    .dataframe tbody tr th {\n",
       "        vertical-align: top;\n",
       "    }\n",
       "\n",
       "    .dataframe thead th {\n",
       "        text-align: right;\n",
       "    }\n",
       "</style>\n",
       "<table border=\"1\" class=\"dataframe\">\n",
       "  <thead>\n",
       "    <tr style=\"text-align: right;\">\n",
       "      <th></th>\n",
       "      <th>id</th>\n",
       "      <th>create_at</th>\n",
       "      <th>update_at</th>\n",
       "      <th>edit_at</th>\n",
       "      <th>delete_at</th>\n",
       "      <th>is_pinned</th>\n",
       "      <th>user_id</th>\n",
       "      <th>channel_id</th>\n",
       "      <th>root_id</th>\n",
       "      <th>original_id</th>\n",
       "      <th>...</th>\n",
       "      <th>type</th>\n",
       "      <th>props</th>\n",
       "      <th>hashtags</th>\n",
       "      <th>pending_post_id</th>\n",
       "      <th>reply_count</th>\n",
       "      <th>last_reply_at</th>\n",
       "      <th>participants</th>\n",
       "      <th>metadata</th>\n",
       "      <th>file_ids</th>\n",
       "      <th>has_reactions</th>\n",
       "    </tr>\n",
       "  </thead>\n",
       "  <tbody>\n",
       "    <tr>\n",
       "      <th>0</th>\n",
       "      <td>13yo1tsrnid15bd3tohgqgnash</td>\n",
       "      <td>1719305873100</td>\n",
       "      <td>1719305873100</td>\n",
       "      <td>0</td>\n",
       "      <td>0</td>\n",
       "      <td>False</td>\n",
       "      <td>xiomf453pfnuxqix7yrpxyhyrr</td>\n",
       "      <td>h3azbb4yejd69kg68kdmqiw53r</td>\n",
       "      <td></td>\n",
       "      <td></td>\n",
       "      <td>...</td>\n",
       "      <td>system_join_channel</td>\n",
       "      <td>{'username': 'jannis_witte'}</td>\n",
       "      <td></td>\n",
       "      <td></td>\n",
       "      <td>0</td>\n",
       "      <td>0</td>\n",
       "      <td>None</td>\n",
       "      <td>{}</td>\n",
       "      <td>NaN</td>\n",
       "      <td>NaN</td>\n",
       "    </tr>\n",
       "    <tr>\n",
       "      <th>1</th>\n",
       "      <td>1f77hkb68py5ukuzfdcw1j8mty</td>\n",
       "      <td>1715935781173</td>\n",
       "      <td>1715936603441</td>\n",
       "      <td>0</td>\n",
       "      <td>0</td>\n",
       "      <td>False</td>\n",
       "      <td>yhmko9aeb7nszc8h1oobfct1xw</td>\n",
       "      <td>h3azbb4yejd69kg68kdmqiw53r</td>\n",
       "      <td></td>\n",
       "      <td></td>\n",
       "      <td>...</td>\n",
       "      <td></td>\n",
       "      <td>{'disable_group_highlight': True}</td>\n",
       "      <td></td>\n",
       "      <td></td>\n",
       "      <td>0</td>\n",
       "      <td>0</td>\n",
       "      <td>None</td>\n",
       "      <td>{'files': [{'id': 'mqs611s1jfng7ywfhgewadedsy'...</td>\n",
       "      <td>[mqs611s1jfng7ywfhgewadedsy]</td>\n",
       "      <td>True</td>\n",
       "    </tr>\n",
       "    <tr>\n",
       "      <th>2</th>\n",
       "      <td>35tzkq6b7j8wj8tyq14etq9bka</td>\n",
       "      <td>1714641187878</td>\n",
       "      <td>1714641211385</td>\n",
       "      <td>0</td>\n",
       "      <td>0</td>\n",
       "      <td>False</td>\n",
       "      <td>yjzjdkydhinrxjff1jnhifz4ne</td>\n",
       "      <td>h3azbb4yejd69kg68kdmqiw53r</td>\n",
       "      <td></td>\n",
       "      <td></td>\n",
       "      <td>...</td>\n",
       "      <td></td>\n",
       "      <td>{'disable_group_highlight': True}</td>\n",
       "      <td></td>\n",
       "      <td></td>\n",
       "      <td>0</td>\n",
       "      <td>0</td>\n",
       "      <td>None</td>\n",
       "      <td>{'reactions': [{'user_id': 'xxg7ytrh9idsdci9zo...</td>\n",
       "      <td>NaN</td>\n",
       "      <td>True</td>\n",
       "    </tr>\n",
       "    <tr>\n",
       "      <th>3</th>\n",
       "      <td>3jqtuj71qpda8dse6tjnhdeq4c</td>\n",
       "      <td>1715606274553</td>\n",
       "      <td>1715606652773</td>\n",
       "      <td>0</td>\n",
       "      <td>0</td>\n",
       "      <td>False</td>\n",
       "      <td>ajs477544if7ip5r5yawkitf3e</td>\n",
       "      <td>h3azbb4yejd69kg68kdmqiw53r</td>\n",
       "      <td></td>\n",
       "      <td></td>\n",
       "      <td>...</td>\n",
       "      <td></td>\n",
       "      <td>{'disable_group_highlight': True}</td>\n",
       "      <td></td>\n",
       "      <td></td>\n",
       "      <td>0</td>\n",
       "      <td>0</td>\n",
       "      <td>None</td>\n",
       "      <td>{'reactions': [{'user_id': '6fhkr7yz47fo5czpsh...</td>\n",
       "      <td>NaN</td>\n",
       "      <td>True</td>\n",
       "    </tr>\n",
       "    <tr>\n",
       "      <th>4</th>\n",
       "      <td>5hbfj51hjfrsprqq8koacfk18w</td>\n",
       "      <td>1718269643481</td>\n",
       "      <td>1718269643481</td>\n",
       "      <td>0</td>\n",
       "      <td>0</td>\n",
       "      <td>False</td>\n",
       "      <td>t4hkob8r5bnn3kc6m5gp6858he</td>\n",
       "      <td>h3azbb4yejd69kg68kdmqiw53r</td>\n",
       "      <td></td>\n",
       "      <td></td>\n",
       "      <td>...</td>\n",
       "      <td></td>\n",
       "      <td>{'disable_group_highlight': True}</td>\n",
       "      <td></td>\n",
       "      <td></td>\n",
       "      <td>0</td>\n",
       "      <td>0</td>\n",
       "      <td>None</td>\n",
       "      <td>{'files': [{'id': '78us3dnftirwufg36z8yu6fs6w'...</td>\n",
       "      <td>[78us3dnftirwufg36z8yu6fs6w]</td>\n",
       "      <td>NaN</td>\n",
       "    </tr>\n",
       "    <tr>\n",
       "      <th>...</th>\n",
       "      <td>...</td>\n",
       "      <td>...</td>\n",
       "      <td>...</td>\n",
       "      <td>...</td>\n",
       "      <td>...</td>\n",
       "      <td>...</td>\n",
       "      <td>...</td>\n",
       "      <td>...</td>\n",
       "      <td>...</td>\n",
       "      <td>...</td>\n",
       "      <td>...</td>\n",
       "      <td>...</td>\n",
       "      <td>...</td>\n",
       "      <td>...</td>\n",
       "      <td>...</td>\n",
       "      <td>...</td>\n",
       "      <td>...</td>\n",
       "      <td>...</td>\n",
       "      <td>...</td>\n",
       "      <td>...</td>\n",
       "      <td>...</td>\n",
       "    </tr>\n",
       "    <tr>\n",
       "      <th>7019</th>\n",
       "      <td>xemeqrs73prkdf8a4hxoienhhr</td>\n",
       "      <td>1462874379000</td>\n",
       "      <td>1462874379000</td>\n",
       "      <td>0</td>\n",
       "      <td>0</td>\n",
       "      <td>False</td>\n",
       "      <td>exh6xby887y4bfcydwu4yxrseh</td>\n",
       "      <td>h3azbb4yejd69kg68kdmqiw53r</td>\n",
       "      <td></td>\n",
       "      <td></td>\n",
       "      <td>...</td>\n",
       "      <td></td>\n",
       "      <td>{}</td>\n",
       "      <td></td>\n",
       "      <td></td>\n",
       "      <td>0</td>\n",
       "      <td>0</td>\n",
       "      <td>None</td>\n",
       "      <td>{}</td>\n",
       "      <td>NaN</td>\n",
       "      <td>NaN</td>\n",
       "    </tr>\n",
       "    <tr>\n",
       "      <th>7020</th>\n",
       "      <td>xu4rdwgbajr4fgzqwqzgg3n96c</td>\n",
       "      <td>1462354278000</td>\n",
       "      <td>1462354278000</td>\n",
       "      <td>0</td>\n",
       "      <td>0</td>\n",
       "      <td>False</td>\n",
       "      <td>xuzzcgkghb8nzj45w3q4mmuohe</td>\n",
       "      <td>h3azbb4yejd69kg68kdmqiw53r</td>\n",
       "      <td></td>\n",
       "      <td></td>\n",
       "      <td>...</td>\n",
       "      <td></td>\n",
       "      <td>{}</td>\n",
       "      <td></td>\n",
       "      <td></td>\n",
       "      <td>0</td>\n",
       "      <td>0</td>\n",
       "      <td>None</td>\n",
       "      <td>{}</td>\n",
       "      <td>NaN</td>\n",
       "      <td>NaN</td>\n",
       "    </tr>\n",
       "    <tr>\n",
       "      <th>7021</th>\n",
       "      <td>yegrfqjsaibnt8q9umotho5dqc</td>\n",
       "      <td>1462874152000</td>\n",
       "      <td>1462874152000</td>\n",
       "      <td>0</td>\n",
       "      <td>0</td>\n",
       "      <td>False</td>\n",
       "      <td>mix7yh94hbyn7fzfetj6t7x3jr</td>\n",
       "      <td>h3azbb4yejd69kg68kdmqiw53r</td>\n",
       "      <td></td>\n",
       "      <td></td>\n",
       "      <td>...</td>\n",
       "      <td></td>\n",
       "      <td>{}</td>\n",
       "      <td></td>\n",
       "      <td></td>\n",
       "      <td>0</td>\n",
       "      <td>0</td>\n",
       "      <td>None</td>\n",
       "      <td>{}</td>\n",
       "      <td>NaN</td>\n",
       "      <td>NaN</td>\n",
       "    </tr>\n",
       "    <tr>\n",
       "      <th>7022</th>\n",
       "      <td>yepxejb3ejnj9nmsb75eod1bga</td>\n",
       "      <td>1462354247000</td>\n",
       "      <td>1462354247000</td>\n",
       "      <td>0</td>\n",
       "      <td>0</td>\n",
       "      <td>False</td>\n",
       "      <td>zhcza6utdjbddq3tkcr9pwhunc</td>\n",
       "      <td>h3azbb4yejd69kg68kdmqiw53r</td>\n",
       "      <td></td>\n",
       "      <td></td>\n",
       "      <td>...</td>\n",
       "      <td></td>\n",
       "      <td>{}</td>\n",
       "      <td></td>\n",
       "      <td></td>\n",
       "      <td>0</td>\n",
       "      <td>0</td>\n",
       "      <td>None</td>\n",
       "      <td>{}</td>\n",
       "      <td>NaN</td>\n",
       "      <td>NaN</td>\n",
       "    </tr>\n",
       "    <tr>\n",
       "      <th>7023</th>\n",
       "      <td>yygrg8xs1jn6d8c1zqg5xcmboh</td>\n",
       "      <td>1462356302000</td>\n",
       "      <td>1462356302000</td>\n",
       "      <td>0</td>\n",
       "      <td>0</td>\n",
       "      <td>False</td>\n",
       "      <td>zhcza6utdjbddq3tkcr9pwhunc</td>\n",
       "      <td>h3azbb4yejd69kg68kdmqiw53r</td>\n",
       "      <td></td>\n",
       "      <td></td>\n",
       "      <td>...</td>\n",
       "      <td></td>\n",
       "      <td>{}</td>\n",
       "      <td></td>\n",
       "      <td></td>\n",
       "      <td>0</td>\n",
       "      <td>0</td>\n",
       "      <td>None</td>\n",
       "      <td>{}</td>\n",
       "      <td>NaN</td>\n",
       "      <td>NaN</td>\n",
       "    </tr>\n",
       "  </tbody>\n",
       "</table>\n",
       "<p>7024 rows × 21 columns</p>\n",
       "</div>"
      ],
      "text/plain": [
       "                              id      create_at      update_at  edit_at  \\\n",
       "0     13yo1tsrnid15bd3tohgqgnash  1719305873100  1719305873100        0   \n",
       "1     1f77hkb68py5ukuzfdcw1j8mty  1715935781173  1715936603441        0   \n",
       "2     35tzkq6b7j8wj8tyq14etq9bka  1714641187878  1714641211385        0   \n",
       "3     3jqtuj71qpda8dse6tjnhdeq4c  1715606274553  1715606652773        0   \n",
       "4     5hbfj51hjfrsprqq8koacfk18w  1718269643481  1718269643481        0   \n",
       "...                          ...            ...            ...      ...   \n",
       "7019  xemeqrs73prkdf8a4hxoienhhr  1462874379000  1462874379000        0   \n",
       "7020  xu4rdwgbajr4fgzqwqzgg3n96c  1462354278000  1462354278000        0   \n",
       "7021  yegrfqjsaibnt8q9umotho5dqc  1462874152000  1462874152000        0   \n",
       "7022  yepxejb3ejnj9nmsb75eod1bga  1462354247000  1462354247000        0   \n",
       "7023  yygrg8xs1jn6d8c1zqg5xcmboh  1462356302000  1462356302000        0   \n",
       "\n",
       "      delete_at  is_pinned                     user_id  \\\n",
       "0             0      False  xiomf453pfnuxqix7yrpxyhyrr   \n",
       "1             0      False  yhmko9aeb7nszc8h1oobfct1xw   \n",
       "2             0      False  yjzjdkydhinrxjff1jnhifz4ne   \n",
       "3             0      False  ajs477544if7ip5r5yawkitf3e   \n",
       "4             0      False  t4hkob8r5bnn3kc6m5gp6858he   \n",
       "...         ...        ...                         ...   \n",
       "7019          0      False  exh6xby887y4bfcydwu4yxrseh   \n",
       "7020          0      False  xuzzcgkghb8nzj45w3q4mmuohe   \n",
       "7021          0      False  mix7yh94hbyn7fzfetj6t7x3jr   \n",
       "7022          0      False  zhcza6utdjbddq3tkcr9pwhunc   \n",
       "7023          0      False  zhcza6utdjbddq3tkcr9pwhunc   \n",
       "\n",
       "                      channel_id root_id original_id  ...  \\\n",
       "0     h3azbb4yejd69kg68kdmqiw53r                      ...   \n",
       "1     h3azbb4yejd69kg68kdmqiw53r                      ...   \n",
       "2     h3azbb4yejd69kg68kdmqiw53r                      ...   \n",
       "3     h3azbb4yejd69kg68kdmqiw53r                      ...   \n",
       "4     h3azbb4yejd69kg68kdmqiw53r                      ...   \n",
       "...                          ...     ...         ...  ...   \n",
       "7019  h3azbb4yejd69kg68kdmqiw53r                      ...   \n",
       "7020  h3azbb4yejd69kg68kdmqiw53r                      ...   \n",
       "7021  h3azbb4yejd69kg68kdmqiw53r                      ...   \n",
       "7022  h3azbb4yejd69kg68kdmqiw53r                      ...   \n",
       "7023  h3azbb4yejd69kg68kdmqiw53r                      ...   \n",
       "\n",
       "                     type                              props hashtags  \\\n",
       "0     system_join_channel       {'username': 'jannis_witte'}            \n",
       "1                          {'disable_group_highlight': True}            \n",
       "2                          {'disable_group_highlight': True}            \n",
       "3                          {'disable_group_highlight': True}            \n",
       "4                          {'disable_group_highlight': True}            \n",
       "...                   ...                                ...      ...   \n",
       "7019                                                      {}            \n",
       "7020                                                      {}            \n",
       "7021                                                      {}            \n",
       "7022                                                      {}            \n",
       "7023                                                      {}            \n",
       "\n",
       "     pending_post_id reply_count  last_reply_at  participants  \\\n",
       "0                              0              0          None   \n",
       "1                              0              0          None   \n",
       "2                              0              0          None   \n",
       "3                              0              0          None   \n",
       "4                              0              0          None   \n",
       "...              ...         ...            ...           ...   \n",
       "7019                           0              0          None   \n",
       "7020                           0              0          None   \n",
       "7021                           0              0          None   \n",
       "7022                           0              0          None   \n",
       "7023                           0              0          None   \n",
       "\n",
       "                                               metadata  \\\n",
       "0                                                    {}   \n",
       "1     {'files': [{'id': 'mqs611s1jfng7ywfhgewadedsy'...   \n",
       "2     {'reactions': [{'user_id': 'xxg7ytrh9idsdci9zo...   \n",
       "3     {'reactions': [{'user_id': '6fhkr7yz47fo5czpsh...   \n",
       "4     {'files': [{'id': '78us3dnftirwufg36z8yu6fs6w'...   \n",
       "...                                                 ...   \n",
       "7019                                                 {}   \n",
       "7020                                                 {}   \n",
       "7021                                                 {}   \n",
       "7022                                                 {}   \n",
       "7023                                                 {}   \n",
       "\n",
       "                          file_ids has_reactions  \n",
       "0                              NaN           NaN  \n",
       "1     [mqs611s1jfng7ywfhgewadedsy]          True  \n",
       "2                              NaN          True  \n",
       "3                              NaN          True  \n",
       "4     [78us3dnftirwufg36z8yu6fs6w]           NaN  \n",
       "...                            ...           ...  \n",
       "7019                           NaN           NaN  \n",
       "7020                           NaN           NaN  \n",
       "7021                           NaN           NaN  \n",
       "7022                           NaN           NaN  \n",
       "7023                           NaN           NaN  \n",
       "\n",
       "[7024 rows x 21 columns]"
      ]
     },
     "execution_count": 81,
     "metadata": {
     },
     "output_type": "execute_result"
    }
   ],
   "source": [
    "lunch_df = pd.DataFrame(lunch_data)\n",
    "lunch_df"
   ]
  },
  {
   "cell_type": "code",
   "execution_count": 82,
   "metadata": {
    "collapsed": false
   },
   "outputs": [
    {
     "data": {
      "text/plain": [
       "0       1719305873100\n",
       "1       1715935781173\n",
       "2       1714641187878\n",
       "3       1715606274553\n",
       "4       1718269643481\n",
       "            ...      \n",
       "7019    1462874379000\n",
       "7020    1462354278000\n",
       "7021    1462874152000\n",
       "7022    1462354247000\n",
       "7023    1462356302000\n",
       "Name: create_at, Length: 7024, dtype: int64"
      ]
     },
     "execution_count": 82,
     "metadata": {
     },
     "output_type": "execute_result"
    }
   ],
   "source": [
    "lunch_df[\"create_at\"]"
   ]
  },
  {
   "cell_type": "code",
   "execution_count": 83,
   "metadata": {
    "collapsed": false
   },
   "outputs": [
    {
     "data": {
      "text/plain": [
       "type\n",
       "                         6863\n",
       "system_join_channel       103\n",
       "system_leave_channel       29\n",
       "system_add_to_channel      26\n",
       "system_header_change        3\n",
       "Name: count, dtype: int64"
      ]
     },
     "execution_count": 83,
     "metadata": {
     },
     "output_type": "execute_result"
    }
   ],
   "source": [
    "lunch_df.type.value_counts()"
   ]
  },
  {
   "cell_type": "code",
   "execution_count": 87,
   "metadata": {
    "collapsed": false
   },
   "outputs": [
   ],
   "source": [
    "import datetime\n",
    "import pytz"
   ]
  },
  {
   "cell_type": "code",
   "execution_count": 85,
   "metadata": {
    "collapsed": false
   },
   "outputs": [
    {
     "data": {
      "text/plain": [
       "datetime.datetime(2016, 5, 4, 10, 5, 2)"
      ]
     },
     "execution_count": 85,
     "metadata": {
     },
     "output_type": "execute_result"
    }
   ],
   "source": [
    "datetime.datetime.fromtimestamp(1462356302)"
   ]
  },
  {
   "cell_type": "code",
   "execution_count": 86,
   "metadata": {
    "collapsed": false
   },
   "outputs": [
   ],
   "source": [
    "lunch_df[\"create_at\"] = lunch_df[\"create_at\"]/1000"
   ]
  },
  {
   "cell_type": "code",
   "execution_count": 88,
   "metadata": {
    "collapsed": false
   },
   "outputs": [
   ],
   "source": [
    "timezone = pytz.timezone('Europe/Berlin')"
   ]
  },
  {
   "cell_type": "code",
   "execution_count": 92,
   "metadata": {
    "collapsed": false
   },
   "outputs": [
   ],
   "source": [
    "lunch_df[\"create_at_gmt\"] = lunch_df[\"create_at\"].map(lambda x: datetime.datetime.fromtimestamp(x, tz=timezone))"
   ]
  },
  {
   "cell_type": "code",
   "execution_count": 120,
   "metadata": {
    "collapsed": false
   },
   "outputs": [
    {
     "data": {
      "text/plain": [
       "array([ 8. ,  8.5,  9. ,  9.5, 10. , 10.5, 11. , 11.5, 12. , 12.5, 13. ,\n",
       "       13.5, 14. , 14.5, 15. , 15.5, 16. , 16.5, 17. , 17.5, 18. , 18.5])"
      ]
     },
     "execution_count": 120,
     "metadata": {
     },
     "output_type": "execute_result"
    }
   ],
   "source": [
    "import numpy as np\n",
    "np.arange(8,19,.5)"
   ]
  },
  {
   "cell_type": "code",
   "execution_count": 129,
   "metadata": {
    "collapsed": false
   },
   "outputs": [
    {
     "data": {
      "text/plain": [
       "<Axes: ylabel='Frequency'>"
      ]
     },
     "execution_count": 129,
     "metadata": {
     },
     "output_type": "execute_result"
    },
    {
     "data": {
      "image/png": "[encoded data removed]",
      "text/plain": [
       "<Figure size 864x504 with 1 Axes>"
      ]
     },
     "execution_count": 129,
     "metadata": {
      "image/png": {
       "height": 411,
       "width": 731
      },
      "needs_background": "light"
     },
     "output_type": "execute_result"
    }
   ],
   "source": [
    "lunch_df[\"create_at_gmt\"][lunch_df[\"create_at_gmt\"].map(lambda x: x.year) > 2020].map(lambda x: x.hour + x.minute/60).plot.hist(bins=150, xlim=(8,18), xticks=np.arange(8,19,.5), alpha=.5, density=True)\n",
    "lunch_df[\"create_at_gmt\"][lunch_df[\"create_at_gmt\"].map(lambda x: x.year) <= 2020].map(lambda x: x.hour + x.minute/60).plot.hist(bins=150, xlim=(8,18), xticks=np.arange(8,19,.5), alpha=.5, density=True)"
   ]
  },
  {
   "cell_type": "code",
   "execution_count": 121,
   "metadata": {
    "collapsed": false
   },
   "outputs": [
    {
     "data": {
      "text/plain": [
       "<Axes: ylabel='Frequency'>"
      ]
     },
     "execution_count": 121,
     "metadata": {
     },
     "output_type": "execute_result"
    },
    {
     "data": {
      "image/png": "[encoded data removed]",
      "text/plain": [
       "<Figure size 864x504 with 1 Axes>"
      ]
     },
     "execution_count": 121,
     "metadata": {
      "image/png": {
       "height": 411,
       "width": 734
      },
      "needs_background": "light"
     },
     "output_type": "execute_result"
    }
   ],
   "source": [
    "lunch_df[\"create_at_gmt\"][lunch_df[\"create_at_gmt\"].map(lambda x: x.year) <= 2020].map(lambda x: x.hour + x.minute/60).plot.hist(bins=150, xlim=(8,18), xticks=np.arange(8,19,.5))"
   ]
  },
  {
   "cell_type": "code",
   "execution_count": 134,
   "metadata": {
    "collapsed": false
   },
   "outputs": [
    {
     "data": {
      "text/plain": [
       "<Axes: ylabel='Frequency'>"
      ]
     },
     "execution_count": 134,
     "metadata": {
     },
     "output_type": "execute_result"
    },
    {
     "data": {
      "image/png": "[encoded data removed]",
      "text/plain": [
       "<Figure size 864x504 with 1 Axes>"
      ]
     },
     "execution_count": 134,
     "metadata": {
      "image/png": {
       "height": 411,
       "width": 723
      },
      "needs_background": "light"
     },
     "output_type": "execute_result"
    }
   ],
   "source": [
    "lunch_df[\"create_at_gmt\"].map(lambda x: x.year + x.month/12).plot.hist(bins=50)"
   ]
  },
  {
   "cell_type": "code",
   "execution_count": 124,
   "metadata": {
    "collapsed": false
   },
   "outputs": [
   ],
   "source": [
    "before_or_after = lunch_df[\"create_at_gmt\"].map(lambda x: x.year) > 2020"
   ]
  },
  {
   "cell_type": "code",
   "execution_count": 125,
   "metadata": {
    "collapsed": false
   },
   "outputs": [
    {
     "data": {
      "text/plain": [
       "0        True\n",
       "1        True\n",
       "2        True\n",
       "3        True\n",
       "4        True\n",
       "        ...  \n",
       "7019    False\n",
       "7020    False\n",
       "7021    False\n",
       "7022    False\n",
       "7023    False\n",
       "Name: create_at_gmt, Length: 7024, dtype: bool"
      ]
     },
     "execution_count": 125,
     "metadata": {
     },
     "output_type": "execute_result"
    }
   ],
   "source": [
    "before_or_after"
   ]
  }
 ],
 "metadata": {
  "kernelspec": {
   "argv": [
    "/usr/bin/python3",
    "-m",
    "ipykernel",
    "--HistoryManager.enabled=False",
    "--matplotlib=inline",
    "-c",
    "%config InlineBackend.figure_formats = set(['retina'])\nimport matplotlib; matplotlib.rcParams['figure.figsize'] = (12, 7)",
    "-f",
    "{connection_file}"
   ],
   "display_name": "Python 3 (system-wide)",
   "env": {
   },
   "language": "python",
   "metadata": {
    "cocalc": {
     "description": "Python 3 programming language",
     "priority": 100,
     "url": "https://www.python.org/"
    }
   },
   "name": "python3",
   "resource_dir": "/ext/jupyter/kernels/python3"
  },
  "language_info": {
   "codemirror_mode": {
    "name": "ipython",
    "version": 3
   },
   "file_extension": ".py",
   "mimetype": "text/x-python",
   "name": "python",
   "nbconvert_exporter": "python",
   "pygments_lexer": "ipython3",
   "version": "3.10.12"
  }
 },
 "nbformat": 4,
 "nbformat_minor": 4
}