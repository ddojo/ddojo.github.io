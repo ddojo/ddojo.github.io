{
 "cells": [
  {
   "cell_type": "code",
   "execution_count": 5,
   "metadata": {
    "collapsed": false
   },
   "outputs": [
   ],
   "source": [
    "import numpy as np\n",
    "import pandas as pd"
   ]
  },
  {
   "cell_type": "code",
   "execution_count": 6,
   "metadata": {
    "collapsed": false
   },
   "outputs": [
    {
     "data": {
      "text/plain": [
       "['Marko', 'Julian', 'Sascha', 'Markus', 'Gloria']"
      ]
     },
     "execution_count": 6,
     "metadata": {
     },
     "output_type": "execute_result"
    }
   ],
   "source": [
    "np.random.seed(42)\n",
    "names = [\"Markus\", \"Marko\", \"Sascha\", \"Gloria\", \"Julian\"]\n",
    "np.random.shuffle(names)\n",
    "names"
   ]
  },
  {
   "cell_type": "code",
   "execution_count": 7,
   "metadata": {
    "collapsed": false
   },
   "outputs": [
   ],
   "source": [
    "file = pd.read_csv(\"all_votes.tsv\", sep='\\t')"
   ]
  },
  {
   "cell_type": "code",
   "execution_count": 8,
   "metadata": {
    "collapsed": false
   },
   "outputs": [
    {
     "data": {
      "text/html": [
       "<div>\n",
       "<style scoped>\n",
       "    .dataframe tbody tr th:only-of-type {\n",
       "        vertical-align: middle;\n",
       "    }\n",
       "\n",
       "    .dataframe tbody tr th {\n",
       "        vertical-align: top;\n",
       "    }\n",
       "\n",
       "    .dataframe thead th {\n",
       "        text-align: right;\n",
       "    }\n",
       "</style>\n",
       "<table border=\"1\" class=\"dataframe\">\n",
       "  <thead>\n",
       "    <tr style=\"text-align: right;\">\n",
       "      <th></th>\n",
       "      <th>id</th>\n",
       "      <th>poll_id</th>\n",
       "      <th>mandate_label</th>\n",
       "      <th>poll_label</th>\n",
       "      <th>vote</th>\n",
       "      <th>reason_no_show</th>\n",
       "      <th>fraction_label</th>\n",
       "      <th>poll_date</th>\n",
       "    </tr>\n",
       "  </thead>\n",
       "  <tbody>\n",
       "    <tr>\n",
       "      <th>0</th>\n",
       "      <td>420205</td>\n",
       "      <td>4293</td>\n",
       "      <td>Frauke Petry (Bundestag 2017 - 2021)</td>\n",
       "      <td>Änderung des Infektionsschutzgesetzes und Grun...</td>\n",
       "      <td>no</td>\n",
       "      <td>NaN</td>\n",
       "      <td>fraktionslos (Bundestag 2017 - 2021)</td>\n",
       "      <td>2021-09-07</td>\n",
       "    </tr>\n",
       "    <tr>\n",
       "      <th>1</th>\n",
       "      <td>420204</td>\n",
       "      <td>4293</td>\n",
       "      <td>Frank Pasemann (Bundestag 2017 - 2021)</td>\n",
       "      <td>Änderung des Infektionsschutzgesetzes und Grun...</td>\n",
       "      <td>no</td>\n",
       "      <td>NaN</td>\n",
       "      <td>fraktionslos (Bundestag 2017 - 2021)</td>\n",
       "      <td>2021-09-07</td>\n",
       "    </tr>\n",
       "    <tr>\n",
       "      <th>2</th>\n",
       "      <td>420203</td>\n",
       "      <td>4293</td>\n",
       "      <td>Georg Nüßlein (Bundestag 2017 - 2021)</td>\n",
       "      <td>Änderung des Infektionsschutzgesetzes und Grun...</td>\n",
       "      <td>yes</td>\n",
       "      <td>NaN</td>\n",
       "      <td>fraktionslos (Bundestag 2017 - 2021)</td>\n",
       "      <td>2021-09-07</td>\n",
       "    </tr>\n",
       "    <tr>\n",
       "      <th>3</th>\n",
       "      <td>420202</td>\n",
       "      <td>4293</td>\n",
       "      <td>Mario Mieruch (Bundestag 2017 - 2021)</td>\n",
       "      <td>Änderung des Infektionsschutzgesetzes und Grun...</td>\n",
       "      <td>no</td>\n",
       "      <td>NaN</td>\n",
       "      <td>fraktionslos (Bundestag 2017 - 2021)</td>\n",
       "      <td>2021-09-07</td>\n",
       "    </tr>\n",
       "    <tr>\n",
       "      <th>4</th>\n",
       "      <td>420201</td>\n",
       "      <td>4293</td>\n",
       "      <td>Uwe Kamann (Bundestag 2017 - 2021)</td>\n",
       "      <td>Änderung des Infektionsschutzgesetzes und Grun...</td>\n",
       "      <td>no_show</td>\n",
       "      <td>NaN</td>\n",
       "      <td>fraktionslos (Bundestag 2017 - 2021)</td>\n",
       "      <td>2021-09-07</td>\n",
       "    </tr>\n",
       "  </tbody>\n",
       "</table>\n",
       "</div>"
      ],
      "text/plain": [
       "       id  poll_id                           mandate_label  \\\n",
       "0  420205     4293    Frauke Petry (Bundestag 2017 - 2021)   \n",
       "1  420204     4293  Frank Pasemann (Bundestag 2017 - 2021)   \n",
       "2  420203     4293   Georg Nüßlein (Bundestag 2017 - 2021)   \n",
       "3  420202     4293   Mario Mieruch (Bundestag 2017 - 2021)   \n",
       "4  420201     4293      Uwe Kamann (Bundestag 2017 - 2021)   \n",
       "\n",
       "                                          poll_label     vote  reason_no_show  \\\n",
       "0  Änderung des Infektionsschutzgesetzes und Grun...       no             NaN   \n",
       "1  Änderung des Infektionsschutzgesetzes und Grun...       no             NaN   \n",
       "2  Änderung des Infektionsschutzgesetzes und Grun...      yes             NaN   \n",
       "3  Änderung des Infektionsschutzgesetzes und Grun...       no             NaN   \n",
       "4  Änderung des Infektionsschutzgesetzes und Grun...  no_show             NaN   \n",
       "\n",
       "                         fraction_label   poll_date  \n",
       "0  fraktionslos (Bundestag 2017 - 2021)  2021-09-07  \n",
       "1  fraktionslos (Bundestag 2017 - 2021)  2021-09-07  \n",
       "2  fraktionslos (Bundestag 2017 - 2021)  2021-09-07  \n",
       "3  fraktionslos (Bundestag 2017 - 2021)  2021-09-07  \n",
       "4  fraktionslos (Bundestag 2017 - 2021)  2021-09-07  "
      ]
     },
     "execution_count": 8,
     "metadata": {
     },
     "output_type": "execute_result"
    }
   ],
   "source": [
    "file.head()"
   ]
  },
  {
   "cell_type": "markdown",
   "metadata": {
    "collapsed": false
   },
   "source": [
    "## Which individual polititian missed most votes\n",
    "\n"
   ]
  },
  {
   "cell_type": "code",
   "execution_count": 9,
   "metadata": {
    "collapsed": false
   },
   "outputs": [
    {
     "data": {
      "text/plain": [
       "{'abstain', 'no', 'no_show', 'yes'}"
      ]
     },
     "execution_count": 9,
     "metadata": {
     },
     "output_type": "execute_result"
    }
   ],
   "source": [
    "set(file[\"vote\"])"
   ]
  },
  {
   "cell_type": "code",
   "execution_count": 12,
   "metadata": {
    "collapsed": false
   },
   "outputs": [
   ],
   "source": [
    "mandate = file.groupby(file[\"mandate_label\"])"
   ]
  },
  {
   "cell_type": "code",
   "execution_count": 13,
   "metadata": {
    "collapsed": false
   },
   "outputs": [
    {
     "data": {
      "text/html": [
       "<div>\n",
       "<style scoped>\n",
       "    .dataframe tbody tr th:only-of-type {\n",
       "        vertical-align: middle;\n",
       "    }\n",
       "\n",
       "    .dataframe tbody tr th {\n",
       "        vertical-align: top;\n",
       "    }\n",
       "\n",
       "    .dataframe thead th {\n",
       "        text-align: right;\n",
       "    }\n",
       "</style>\n",
       "<table border=\"1\" class=\"dataframe\">\n",
       "  <thead>\n",
       "    <tr style=\"text-align: right;\">\n",
       "      <th></th>\n",
       "      <th>id</th>\n",
       "      <th>poll_id</th>\n",
       "      <th>mandate_label</th>\n",
       "      <th>poll_label</th>\n",
       "      <th>vote</th>\n",
       "      <th>reason_no_show</th>\n",
       "      <th>fraction_label</th>\n",
       "      <th>poll_date</th>\n",
       "    </tr>\n",
       "  </thead>\n",
       "  <tbody>\n",
       "    <tr>\n",
       "      <th>0</th>\n",
       "      <td>420205</td>\n",
       "      <td>4293</td>\n",
       "      <td>Frauke Petry (Bundestag 2017 - 2021)</td>\n",
       "      <td>Änderung des Infektionsschutzgesetzes und Grun...</td>\n",
       "      <td>no</td>\n",
       "      <td>NaN</td>\n",
       "      <td>fraktionslos (Bundestag 2017 - 2021)</td>\n",
       "      <td>2021-09-07</td>\n",
       "    </tr>\n",
       "    <tr>\n",
       "      <th>1</th>\n",
       "      <td>420204</td>\n",
       "      <td>4293</td>\n",
       "      <td>Frank Pasemann (Bundestag 2017 - 2021)</td>\n",
       "      <td>Änderung des Infektionsschutzgesetzes und Grun...</td>\n",
       "      <td>no</td>\n",
       "      <td>NaN</td>\n",
       "      <td>fraktionslos (Bundestag 2017 - 2021)</td>\n",
       "      <td>2021-09-07</td>\n",
       "    </tr>\n",
       "    <tr>\n",
       "      <th>2</th>\n",
       "      <td>420203</td>\n",
       "      <td>4293</td>\n",
       "      <td>Georg Nüßlein (Bundestag 2017 - 2021)</td>\n",
       "      <td>Änderung des Infektionsschutzgesetzes und Grun...</td>\n",
       "      <td>yes</td>\n",
       "      <td>NaN</td>\n",
       "      <td>fraktionslos (Bundestag 2017 - 2021)</td>\n",
       "      <td>2021-09-07</td>\n",
       "    </tr>\n",
       "    <tr>\n",
       "      <th>3</th>\n",
       "      <td>420202</td>\n",
       "      <td>4293</td>\n",
       "      <td>Mario Mieruch (Bundestag 2017 - 2021)</td>\n",
       "      <td>Änderung des Infektionsschutzgesetzes und Grun...</td>\n",
       "      <td>no</td>\n",
       "      <td>NaN</td>\n",
       "      <td>fraktionslos (Bundestag 2017 - 2021)</td>\n",
       "      <td>2021-09-07</td>\n",
       "    </tr>\n",
       "    <tr>\n",
       "      <th>4</th>\n",
       "      <td>420201</td>\n",
       "      <td>4293</td>\n",
       "      <td>Uwe Kamann (Bundestag 2017 - 2021)</td>\n",
       "      <td>Änderung des Infektionsschutzgesetzes und Grun...</td>\n",
       "      <td>no_show</td>\n",
       "      <td>NaN</td>\n",
       "      <td>fraktionslos (Bundestag 2017 - 2021)</td>\n",
       "      <td>2021-09-07</td>\n",
       "    </tr>\n",
       "    <tr>\n",
       "      <th>...</th>\n",
       "      <td>...</td>\n",
       "      <td>...</td>\n",
       "      <td>...</td>\n",
       "      <td>...</td>\n",
       "      <td>...</td>\n",
       "      <td>...</td>\n",
       "      <td>...</td>\n",
       "      <td>...</td>\n",
       "    </tr>\n",
       "    <tr>\n",
       "      <th>96139</th>\n",
       "      <td>280347</td>\n",
       "      <td>1572</td>\n",
       "      <td>Ralf Brauksiepe (Bundestag 2017 - 2021)</td>\n",
       "      <td>Verlängerung des Anti-IS-Einsatzes der Bundesw...</td>\n",
       "      <td>yes</td>\n",
       "      <td>NaN</td>\n",
       "      <td>CDU/CSU (Bundestag 2017 - 2021)</td>\n",
       "      <td>2018-10-18</td>\n",
       "    </tr>\n",
       "    <tr>\n",
       "      <th>96848</th>\n",
       "      <td>279638</td>\n",
       "      <td>1571</td>\n",
       "      <td>Ralf Brauksiepe (Bundestag 2017 - 2021)</td>\n",
       "      <td>Anpassung des Kindergeldes für im Ausland lebe...</td>\n",
       "      <td>no</td>\n",
       "      <td>NaN</td>\n",
       "      <td>CDU/CSU (Bundestag 2017 - 2021)</td>\n",
       "      <td>2018-10-18</td>\n",
       "    </tr>\n",
       "    <tr>\n",
       "      <th>97557</th>\n",
       "      <td>278931</td>\n",
       "      <td>1570</td>\n",
       "      <td>Ralf Brauksiepe (Bundestag 2017 - 2021)</td>\n",
       "      <td>Änderungsantrag zur Brückenteilzeit</td>\n",
       "      <td>no</td>\n",
       "      <td>NaN</td>\n",
       "      <td>CDU/CSU (Bundestag 2017 - 2021)</td>\n",
       "      <td>2018-10-18</td>\n",
       "    </tr>\n",
       "    <tr>\n",
       "      <th>98266</th>\n",
       "      <td>278224</td>\n",
       "      <td>1569</td>\n",
       "      <td>Ralf Brauksiepe (Bundestag 2017 - 2021)</td>\n",
       "      <td>Überprüfung des Jahresmittelgrenzwerts für Sti...</td>\n",
       "      <td>no_show</td>\n",
       "      <td>NaN</td>\n",
       "      <td>CDU/CSU (Bundestag 2017 - 2021)</td>\n",
       "      <td>2018-10-19</td>\n",
       "    </tr>\n",
       "    <tr>\n",
       "      <th>98975</th>\n",
       "      <td>277517</td>\n",
       "      <td>1568</td>\n",
       "      <td>Ralf Brauksiepe (Bundestag 2017 - 2021)</td>\n",
       "      <td>Stärkung des Menschenrechts auf Religionsfreiheit</td>\n",
       "      <td>no_show</td>\n",
       "      <td>NaN</td>\n",
       "      <td>CDU/CSU (Bundestag 2017 - 2021)</td>\n",
       "      <td>2018-10-19</td>\n",
       "    </tr>\n",
       "  </tbody>\n",
       "</table>\n",
       "<p>3729 rows × 8 columns</p>\n",
       "</div>"
      ],
      "text/plain": [
       "           id  poll_id                            mandate_label  \\\n",
       "0      420205     4293     Frauke Petry (Bundestag 2017 - 2021)   \n",
       "1      420204     4293   Frank Pasemann (Bundestag 2017 - 2021)   \n",
       "2      420203     4293    Georg Nüßlein (Bundestag 2017 - 2021)   \n",
       "3      420202     4293    Mario Mieruch (Bundestag 2017 - 2021)   \n",
       "4      420201     4293       Uwe Kamann (Bundestag 2017 - 2021)   \n",
       "...       ...      ...                                      ...   \n",
       "96139  280347     1572  Ralf Brauksiepe (Bundestag 2017 - 2021)   \n",
       "96848  279638     1571  Ralf Brauksiepe (Bundestag 2017 - 2021)   \n",
       "97557  278931     1570  Ralf Brauksiepe (Bundestag 2017 - 2021)   \n",
       "98266  278224     1569  Ralf Brauksiepe (Bundestag 2017 - 2021)   \n",
       "98975  277517     1568  Ralf Brauksiepe (Bundestag 2017 - 2021)   \n",
       "\n",
       "                                              poll_label     vote  \\\n",
       "0      Änderung des Infektionsschutzgesetzes und Grun...       no   \n",
       "1      Änderung des Infektionsschutzgesetzes und Grun...       no   \n",
       "2      Änderung des Infektionsschutzgesetzes und Grun...      yes   \n",
       "3      Änderung des Infektionsschutzgesetzes und Grun...       no   \n",
       "4      Änderung des Infektionsschutzgesetzes und Grun...  no_show   \n",
       "...                                                  ...      ...   \n",
       "96139  Verlängerung des Anti-IS-Einsatzes der Bundesw...      yes   \n",
       "96848  Anpassung des Kindergeldes für im Ausland lebe...       no   \n",
       "97557                Änderungsantrag zur Brückenteilzeit       no   \n",
       "98266  Überprüfung des Jahresmittelgrenzwerts für Sti...  no_show   \n",
       "98975  Stärkung des Menschenrechts auf Religionsfreiheit  no_show   \n",
       "\n",
       "       reason_no_show                        fraction_label   poll_date  \n",
       "0                 NaN  fraktionslos (Bundestag 2017 - 2021)  2021-09-07  \n",
       "1                 NaN  fraktionslos (Bundestag 2017 - 2021)  2021-09-07  \n",
       "2                 NaN  fraktionslos (Bundestag 2017 - 2021)  2021-09-07  \n",
       "3                 NaN  fraktionslos (Bundestag 2017 - 2021)  2021-09-07  \n",
       "4                 NaN  fraktionslos (Bundestag 2017 - 2021)  2021-09-07  \n",
       "...               ...                                   ...         ...  \n",
       "96139             NaN       CDU/CSU (Bundestag 2017 - 2021)  2018-10-18  \n",
       "96848             NaN       CDU/CSU (Bundestag 2017 - 2021)  2018-10-18  \n",
       "97557             NaN       CDU/CSU (Bundestag 2017 - 2021)  2018-10-18  \n",
       "98266             NaN       CDU/CSU (Bundestag 2017 - 2021)  2018-10-19  \n",
       "98975             NaN       CDU/CSU (Bundestag 2017 - 2021)  2018-10-19  \n",
       "\n",
       "[3729 rows x 8 columns]"
      ]
     },
     "execution_count": 13,
     "metadata": {
     },
     "output_type": "execute_result"
    }
   ],
   "source": [
    "mandate.head()"
   ]
  },
  {
   "cell_type": "code",
   "execution_count": 21,
   "metadata": {
    "collapsed": false
   },
   "outputs": [
    {
     "data": {
      "text/plain": [
       "mandate_label\n",
       "Angela Merkel (Bundestag 2017 - 2021)        131\n",
       "Ingrid Remmers (Bundestag 2017 - 2021)       120\n",
       "Helge Braun (Bundestag 2017 - 2021)          110\n",
       "Sahra Wagenknecht (Bundestag 2017 - 2021)    109\n",
       "Marcus Held (Bundestag 2017 - 2021)          109\n",
       "                                            ... \n",
       "Dietrich Monstadt (Bundestag 2017 - 2021)      1\n",
       "Hermann Gröhe (Bundestag 2017 - 2021)          1\n",
       "Markus Koob (Bundestag 2017 - 2021)            1\n",
       "Fabian Jacobi (Bundestag 2017 - 2021)          1\n",
       "Hansjörg Durz (Bundestag 2017 - 2021)          1\n",
       "Name: count, Length: 716, dtype: int64"
      ]
     },
     "execution_count": 21,
     "metadata": {
     },
     "output_type": "execute_result"
    }
   ],
   "source": [
    "file[[x == \"no_show\" for x in file[\"vote\"]]].value_counts(\"mandate_label\")"
   ]
  },
  {
   "cell_type": "code",
   "execution_count": 23,
   "metadata": {
    "collapsed": false
   },
   "outputs": [
    {
     "data": {
      "text/plain": [
       "747"
      ]
     },
     "execution_count": 23,
     "metadata": {
     },
     "output_type": "execute_result"
    }
   ],
   "source": [
    "len(set(file[\"mandate_label\"]))"
   ]
  },
  {
   "cell_type": "code",
   "execution_count": 29,
   "metadata": {
    "collapsed": false
   },
   "outputs": [
    {
     "data": {
      "text/plain": [
       "mandate_label                                vote   \n",
       "Angela Merkel (Bundestag 2017 - 2021)        no_show    131\n",
       "Rainer Kraft (Bundestag 2017 - 2021)         no         124\n",
       "Karsten Hilse (Bundestag 2017 - 2021)        no         122\n",
       "Wolfgang Wiehle (Bundestag 2017 - 2021)      no         122\n",
       "Michael Espendiller (Bundestag 2017 - 2021)  no         121\n",
       "                                                       ... \n",
       "Karl-Heinz Brunner (Bundestag 2017 - 2021)   abstain      1\n",
       "Georg Kippels (Bundestag 2017 - 2021)        no_show      1\n",
       "Axel Müller (Bundestag 2017 - 2021)          abstain      1\n",
       "Georg Nüßlein (Bundestag 2017 - 2021)        abstain      1\n",
       "Daniela De Ridder (Bundestag 2017 - 2021)    abstain      1\n",
       "Name: count, Length: 2628, dtype: int64"
      ]
     },
     "execution_count": 29,
     "metadata": {
     },
     "output_type": "execute_result"
    }
   ],
   "source": [
    "vote_counts = file.value_counts([\"mandate_label\",\"vote\"])\n",
    "#vote_counts[vote_counts[\"vote\"] == \"no_show\"]"
   ]
  },
  {
   "cell_type": "markdown",
   "metadata": {
    "collapsed": false
   },
   "source": [
    "## How similar was the voting pattern of each party?\n",
    "\n"
   ]
  },
  {
   "cell_type": "code",
   "execution_count": 31,
   "metadata": {
    "collapsed": false,
    "scrolled": true
   },
   "outputs": [
    {
     "data": {
      "text/plain": [
       "{'AfD (Bundestag 2017 - 2021)',\n",
       " 'CDU/CSU (Bundestag 2017 - 2021)',\n",
       " 'DIE GRÜNEN (Bundestag 2017 - 2021)',\n",
       " 'DIE LINKE (Bundestag 2017 - 2021)',\n",
       " 'FDP (Bundestag 2017 - 2021)',\n",
       " 'SPD (Bundestag 2017 - 2021)',\n",
       " 'fraktionslos (Bundestag 2017 - 2021)'}"
      ]
     },
     "execution_count": 31,
     "metadata": {
     },
     "output_type": "execute_result"
    }
   ],
   "source": [
    "set(file[\"fraction_label\"])"
   ]
  },
  {
   "cell_type": "code",
   "execution_count": 39,
   "metadata": {
    "collapsed": false
   },
   "outputs": [
   ],
   "source": [
    "afd_votes = file[file[\"fraction_label\"]=='AfD (Bundestag 2017 - 2021)']"
   ]
  },
  {
   "cell_type": "code",
   "execution_count": 45,
   "metadata": {
    "collapsed": false
   },
   "outputs": [
    {
     "data": {
      "text/plain": [
       "vote   \n",
       "no         79\n",
       "no_show     7\n",
       "Name: count, dtype: int64"
      ]
     },
     "execution_count": 45,
     "metadata": {
     },
     "output_type": "execute_result"
    }
   ],
   "source": [
    "afd_votes_4293 = afd_votes[afd_votes[\"poll_id\"]== 4293]\n",
    "afd_votes_4293.head()\n",
    "afd_votes_4293.value_counts([\"vote\"])\n",
    "\n"
   ]
  },
  {
   "cell_type": "code",
   "execution_count": 49,
   "metadata": {
    "collapsed": false
   },
   "outputs": [
    {
     "data": {
      "text/plain": [
       "poll_id  vote   \n",
       "1237     no         90\n",
       "         no_show     2\n",
       "1238     no          2\n",
       "         no_show     3\n",
       "         yes        87\n",
       "                    ..\n",
       "4283     yes        26\n",
       "4284     no         68\n",
       "         no_show    18\n",
       "4293     no         79\n",
       "         no_show     7\n",
       "Name: count, Length: 435, dtype: int64"
      ]
     },
     "execution_count": 49,
     "metadata": {
     },
     "output_type": "execute_result"
    }
   ],
   "source": [
    "afd_votes.value_counts([\"poll_id\",\"vote\"],sort=False)"
   ]
  },
  {
   "cell_type": "code",
   "execution_count": 52,
   "metadata": {
    "collapsed": false
   },
   "outputs": [
    {
     "data": {
      "text/plain": [
       "['Julian', 'Gloria', 'Marko', 'Markus', 'Sascha']"
      ]
     },
     "execution_count": 52,
     "metadata": {
     },
     "output_type": "execute_result"
    }
   ],
   "source": [
    "np.random.seed()\n",
    "names = [\"Markus\", \"Marko\", \"Sascha\", \"Gloria\", \"Julian\"]\n",
    "np.random.shuffle(names)\n",
    "names"
   ]
  }
 ],
 "metadata": {
  "kernelspec": {
   "argv": [
    "/usr/bin/python3",
    "-m",
    "ipykernel",
    "--HistoryManager.enabled=False",
    "--matplotlib=inline",
    "-c",
    "%config InlineBackend.figure_formats = set(['retina'])\nimport matplotlib; matplotlib.rcParams['figure.figsize'] = (12, 7)",
    "-f",
    "{connection_file}"
   ],
   "display_name": "Python 3 (system-wide)",
   "env": {
   },
   "language": "python",
   "metadata": {
    "cocalc": {
     "description": "Python 3 programming language",
     "priority": 100,
     "url": "https://www.python.org/"
    }
   },
   "name": "python3",
   "resource_dir": "/ext/jupyter/kernels/python3"
  }
 },
 "nbformat": 4,
 "nbformat_minor": 4
}