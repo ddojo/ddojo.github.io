{
 "cells": [
  {
   "cell_type": "markdown",
   "metadata": {
    "collapsed": false
   },
   "source": [
    "# Temperatur in Würzburg"
   ]
  },
  {
   "cell_type": "code",
   "execution_count": 1,
   "metadata": {
    "collapsed": false
   },
   "outputs": [
    {
     "name": "stderr",
     "output_type": "stream",
     "text": [
      "Warning message in system(\"timedatectl\", intern = TRUE):\n",
      "“running command 'timedatectl' had status 1”\n"
     ]
    },
    {
     "name": "stderr",
     "output_type": "stream",
     "text": [
      "── \u001b[1mAttaching packages\u001b[22m ─────────────────────────────────────── tidyverse 1.3.1 ──\n",
      "\n"
     ]
    },
    {
     "name": "stderr",
     "output_type": "stream",
     "text": [
      "\u001b[32m✔\u001b[39m \u001b[34mggplot2\u001b[39m 3.3.5     \u001b[32m✔\u001b[39m \u001b[34mpurrr  \u001b[39m 0.3.4\n",
      "\u001b[32m✔\u001b[39m \u001b[34mtibble \u001b[39m 3.1.4     \u001b[32m✔\u001b[39m \u001b[34mdplyr  \u001b[39m 1.0.7\n",
      "\u001b[32m✔\u001b[39m \u001b[34mtidyr  \u001b[39m 1.1.3     \u001b[32m✔\u001b[39m \u001b[34mstringr\u001b[39m 1.4.0\n",
      "\u001b[32m✔\u001b[39m \u001b[34mreadr  \u001b[39m 2.0.1     \u001b[32m✔\u001b[39m \u001b[34mforcats\u001b[39m 0.5.1\n",
      "\n"
     ]
    },
    {
     "name": "stderr",
     "output_type": "stream",
     "text": [
      "── \u001b[1mConflicts\u001b[22m ────────────────────────────────────────── tidyverse_conflicts() ──\n",
      "\u001b[31m✖\u001b[39m \u001b[34mdplyr\u001b[39m::\u001b[32mfilter()\u001b[39m masks \u001b[34mstats\u001b[39m::filter()\n",
      "\u001b[31m✖\u001b[39m \u001b[34mdplyr\u001b[39m::\u001b[32mlag()\u001b[39m    masks \u001b[34mstats\u001b[39m::lag()\n",
      "\n"
     ]
    }
   ],
   "source": [
    "library(tidyverse)"
   ]
  },
  {
   "cell_type": "code",
   "execution_count": 2,
   "metadata": {
    "collapsed": false,
    "scrolled": true
   },
   "outputs": [
    {
     "name": "stderr",
     "output_type": "stream",
     "text": [
      "\n",
      "Attaching package: ‘lubridate’\n",
      "\n",
      "\n"
     ]
    },
    {
     "name": "stderr",
     "output_type": "stream",
     "text": [
      "The following objects are masked from ‘package:base’:\n",
      "\n",
      "    date, intersect, setdiff, union\n",
      "\n",
      "\n"
     ]
    }
   ],
   "source": [
    "library(lubridate)"
   ]
  },
  {
   "cell_type": "code",
   "execution_count": 3,
   "metadata": {
    "collapsed": false
   },
   "outputs": [
   ],
   "source": [
    "theme_set(theme_light())"
   ]
  },
  {
   "cell_type": "code",
   "execution_count": 4,
   "metadata": {
    "collapsed": false
   },
   "outputs": [
    {
     "name": "stderr",
     "output_type": "stream",
     "text": [
      "\u001b[1m\u001b[1mRows: \u001b[1m\u001b[22m\u001b[34m\u001b[34m790288\u001b[34m\u001b[39m \u001b[1m\u001b[1mColumns: \u001b[1m\u001b[22m\u001b[34m\u001b[34m6\u001b[34m\u001b[39m\n",
      "\n"
     ]
    },
    {
     "name": "stderr",
     "output_type": "stream",
     "text": [
      "\u001b[36m──\u001b[39m \u001b[1m\u001b[1mColumn specification\u001b[1m\u001b[22m \u001b[36m────────────────────────────────────────────────────────\u001b[39m\n",
      "\u001b[1mDelimiter:\u001b[22m \",\"\n",
      "\u001b[31mchr\u001b[39m  (1): Produkt_Code\n",
      "\u001b[32mdbl\u001b[39m  (3): SDO_ID, Wert, Qualitaet_Byte\n",
      "\u001b[34mdttm\u001b[39m (1): Zeitstempel\n",
      "\n"
     ]
    },
    {
     "name": "stderr",
     "output_type": "stream",
     "text": [
      "\n",
      "\u001b[36mℹ\u001b[39m Use \u001b[30m\u001b[47m\u001b[30m\u001b[47m`spec()`\u001b[47m\u001b[30m\u001b[49m\u001b[39m to retrieve the full column specification for this data.\n",
      "\u001b[36mℹ\u001b[39m Specify the column types or set \u001b[30m\u001b[47m\u001b[30m\u001b[47m`show_col_types = FALSE`\u001b[47m\u001b[30m\u001b[49m\u001b[39m to quiet this message.\n",
      "\n"
     ]
    }
   ],
   "source": [
    "data <- read_csv(\"data/data_OBS_DEU_PT1H_T2M.csv\")"
   ]
  },
  {
   "cell_type": "code",
   "execution_count": 5,
   "metadata": {
    "collapsed": false
   },
   "outputs": [
    {
     "name": "stderr",
     "output_type": "stream",
     "text": [
      "Warning message:\n",
      "“One or more parsing issues, see `problems()` for details”\n"
     ]
    },
    {
     "data": {
      "text/html": [
       "<table class=\"dataframe\">\n",
       "<caption>A tibble: 6 × 6</caption>\n",
       "<thead>\n",
       "\t<tr><th scope=col>Produkt_Code</th><th scope=col>SDO_ID</th><th scope=col>Zeitstempel</th><th scope=col>Wert</th><th scope=col>Qualitaet_Byte</th><th scope=col>Qualitaet_Niveau</th></tr>\n",
       "\t<tr><th scope=col>&lt;chr&gt;</th><th scope=col>&lt;dbl&gt;</th><th scope=col>&lt;dttm&gt;</th><th scope=col>&lt;dbl&gt;</th><th scope=col>&lt;dbl&gt;</th><th scope=col>&lt;dbl&gt;</th></tr>\n",
       "</thead>\n",
       "<tbody>\n",
       "\t<tr><td>OBS_DEU_PT1H_T2M</td><td>2600</td><td>2005-03-01 00:00:00</td><td>-12.4</td><td>4</td><td> 3</td></tr>\n",
       "\t<tr><td>OBS_DEU_PT1H_T2M</td><td>2600</td><td>2005-03-01 01:00:00</td><td>-12.6</td><td>6</td><td>10</td></tr>\n",
       "\t<tr><td>OBS_DEU_PT1H_T2M</td><td>2600</td><td>2005-03-01 02:00:00</td><td>-13.1</td><td>1</td><td>10</td></tr>\n",
       "\t<tr><td>OBS_DEU_PT1H_T2M</td><td>2600</td><td>2005-03-01 03:00:00</td><td>-13.7</td><td>1</td><td>10</td></tr>\n",
       "\t<tr><td>OBS_DEU_PT1H_T2M</td><td>2600</td><td>2005-03-01 04:00:00</td><td>-14.4</td><td>1</td><td>10</td></tr>\n",
       "\t<tr><td>OBS_DEU_PT1H_T2M</td><td>2600</td><td>2005-03-01 05:00:00</td><td>-14.9</td><td>1</td><td>10</td></tr>\n",
       "</tbody>\n",
       "</table>\n"
      ],
      "text/latex": [
       "A tibble: 6 × 6\n",
       "\\begin{tabular}{llllll}\n",
       " Produkt\\_Code & SDO\\_ID & Zeitstempel & Wert & Qualitaet\\_Byte & Qualitaet\\_Niveau\\\\\n",
       " <chr> & <dbl> & <dttm> & <dbl> & <dbl> & <dbl>\\\\\n",
       "\\hline\n",
       "\t OBS\\_DEU\\_PT1H\\_T2M & 2600 & 2005-03-01 00:00:00 & -12.4 & 4 &  3\\\\\n",
       "\t OBS\\_DEU\\_PT1H\\_T2M & 2600 & 2005-03-01 01:00:00 & -12.6 & 6 & 10\\\\\n",
       "\t OBS\\_DEU\\_PT1H\\_T2M & 2600 & 2005-03-01 02:00:00 & -13.1 & 1 & 10\\\\\n",
       "\t OBS\\_DEU\\_PT1H\\_T2M & 2600 & 2005-03-01 03:00:00 & -13.7 & 1 & 10\\\\\n",
       "\t OBS\\_DEU\\_PT1H\\_T2M & 2600 & 2005-03-01 04:00:00 & -14.4 & 1 & 10\\\\\n",
       "\t OBS\\_DEU\\_PT1H\\_T2M & 2600 & 2005-03-01 05:00:00 & -14.9 & 1 & 10\\\\\n",
       "\\end{tabular}\n"
      ],
      "text/markdown": [
       "\n",
       "A tibble: 6 × 6\n",
       "\n",
       "| Produkt_Code &lt;chr&gt; | SDO_ID &lt;dbl&gt; | Zeitstempel &lt;dttm&gt; | Wert &lt;dbl&gt; | Qualitaet_Byte &lt;dbl&gt; | Qualitaet_Niveau &lt;dbl&gt; |\n",
       "|---|---|---|---|---|---|\n",
       "| OBS_DEU_PT1H_T2M | 2600 | 2005-03-01 00:00:00 | -12.4 | 4 |  3 |\n",
       "| OBS_DEU_PT1H_T2M | 2600 | 2005-03-01 01:00:00 | -12.6 | 6 | 10 |\n",
       "| OBS_DEU_PT1H_T2M | 2600 | 2005-03-01 02:00:00 | -13.1 | 1 | 10 |\n",
       "| OBS_DEU_PT1H_T2M | 2600 | 2005-03-01 03:00:00 | -13.7 | 1 | 10 |\n",
       "| OBS_DEU_PT1H_T2M | 2600 | 2005-03-01 04:00:00 | -14.4 | 1 | 10 |\n",
       "| OBS_DEU_PT1H_T2M | 2600 | 2005-03-01 05:00:00 | -14.9 | 1 | 10 |\n",
       "\n"
      ],
      "text/plain": [
       "  Produkt_Code     SDO_ID Zeitstempel         Wert  Qualitaet_Byte\n",
       "1 OBS_DEU_PT1H_T2M 2600   2005-03-01 00:00:00 -12.4 4             \n",
       "2 OBS_DEU_PT1H_T2M 2600   2005-03-01 01:00:00 -12.6 6             \n",
       "3 OBS_DEU_PT1H_T2M 2600   2005-03-01 02:00:00 -13.1 1             \n",
       "4 OBS_DEU_PT1H_T2M 2600   2005-03-01 03:00:00 -13.7 1             \n",
       "5 OBS_DEU_PT1H_T2M 2600   2005-03-01 04:00:00 -14.4 1             \n",
       "6 OBS_DEU_PT1H_T2M 2600   2005-03-01 05:00:00 -14.9 1             \n",
       "  Qualitaet_Niveau\n",
       "1  3              \n",
       "2 10              \n",
       "3 10              \n",
       "4 10              \n",
       "5 10              \n",
       "6 10              "
      ]
     },
     "execution_count": 5,
     "metadata": {
     },
     "output_type": "execute_result"
    }
   ],
   "source": [
    "head(data)"
   ]
  },
  {
   "cell_type": "code",
   "execution_count": 6,
   "metadata": {
    "collapsed": false
   },
   "outputs": [
    {
     "name": "stderr",
     "output_type": "stream",
     "text": [
      "\u001b[1m\u001b[1mRows: \u001b[1m\u001b[22m\u001b[34m\u001b[34m2\u001b[34m\u001b[39m \u001b[1m\u001b[1mColumns: \u001b[1m\u001b[22m\u001b[34m\u001b[34m6\u001b[34m\u001b[39m\n",
      "\n"
     ]
    },
    {
     "name": "stderr",
     "output_type": "stream",
     "text": [
      "\u001b[36m──\u001b[39m \u001b[1m\u001b[1mColumn specification\u001b[1m\u001b[22m \u001b[36m────────────────────────────────────────────────────────\u001b[39m\n",
      "\u001b[1mDelimiter:\u001b[22m \",\"\n",
      "\u001b[31mchr\u001b[39m (2): SDO_Name, Metadata_Link\n",
      "\u001b[32mdbl\u001b[39m (2): SDO_ID, Hoehe_ueber_NN\n",
      "\n"
     ]
    },
    {
     "name": "stderr",
     "output_type": "stream",
     "text": [
      "\n",
      "\u001b[36mℹ\u001b[39m Use \u001b[30m\u001b[47m\u001b[30m\u001b[47m`spec()`\u001b[47m\u001b[30m\u001b[49m\u001b[39m to retrieve the full column specification for this data.\n",
      "\u001b[36mℹ\u001b[39m Specify the column types or set \u001b[30m\u001b[47m\u001b[30m\u001b[47m`show_col_types = FALSE`\u001b[47m\u001b[30m\u001b[49m\u001b[39m to quiet this message.\n",
      "\n"
     ]
    }
   ],
   "source": [
    "station <- read_csv(\"data/sdo_OBS_DEU_PT1H_T2M.csv\")"
   ]
  },
  {
   "cell_type": "code",
   "execution_count": 7,
   "metadata": {
    "collapsed": false
   },
   "outputs": [
    {
     "data": {
      "text/html": [
       "<table class=\"dataframe\">\n",
       "<caption>A spec_tbl_df: 2 × 6</caption>\n",
       "<thead>\n",
       "\t<tr><th scope=col>SDO_ID</th><th scope=col>SDO_Name</th><th scope=col>Geogr_Laenge</th><th scope=col>Geogr_Breite</th><th scope=col>Hoehe_ueber_NN</th><th scope=col>Metadata_Link</th></tr>\n",
       "\t<tr><th scope=col>&lt;dbl&gt;</th><th scope=col>&lt;chr&gt;</th><th scope=col>&lt;dbl&gt;</th><th scope=col>&lt;dbl&gt;</th><th scope=col>&lt;dbl&gt;</th><th scope=col>&lt;chr&gt;</th></tr>\n",
       "</thead>\n",
       "<tbody>\n",
       "\t<tr><td>5705</td><td>Würzburg </td><td> 99576</td><td>497704</td><td>268</td><td>https://cdc.dwd.de/rest/metadata/station/html/812300016295</td></tr>\n",
       "\t<tr><td>2600</td><td>Kitzingen</td><td>101781</td><td>497363</td><td>193</td><td>https://cdc.dwd.de/rest/metadata/station/html/812300321959</td></tr>\n",
       "</tbody>\n",
       "</table>\n"
      ],
      "text/latex": [
       "A spec\\_tbl\\_df: 2 × 6\n",
       "\\begin{tabular}{llllll}\n",
       " SDO\\_ID & SDO\\_Name & Geogr\\_Laenge & Geogr\\_Breite & Hoehe\\_ueber\\_NN & Metadata\\_Link\\\\\n",
       " <dbl> & <chr> & <dbl> & <dbl> & <dbl> & <chr>\\\\\n",
       "\\hline\n",
       "\t 5705 & Würzburg  &  99576 & 497704 & 268 & https://cdc.dwd.de/rest/metadata/station/html/812300016295\\\\\n",
       "\t 2600 & Kitzingen & 101781 & 497363 & 193 & https://cdc.dwd.de/rest/metadata/station/html/812300321959\\\\\n",
       "\\end{tabular}\n"
      ],
      "text/markdown": [
       "\n",
       "A spec_tbl_df: 2 × 6\n",
       "\n",
       "| SDO_ID &lt;dbl&gt; | SDO_Name &lt;chr&gt; | Geogr_Laenge &lt;dbl&gt; | Geogr_Breite &lt;dbl&gt; | Hoehe_ueber_NN &lt;dbl&gt; | Metadata_Link &lt;chr&gt; |\n",
       "|---|---|---|---|---|---|\n",
       "| 5705 | Würzburg  |  99576 | 497704 | 268 | https://cdc.dwd.de/rest/metadata/station/html/812300016295 |\n",
       "| 2600 | Kitzingen | 101781 | 497363 | 193 | https://cdc.dwd.de/rest/metadata/station/html/812300321959 |\n",
       "\n"
      ],
      "text/plain": [
       "  SDO_ID SDO_Name  Geogr_Laenge Geogr_Breite Hoehe_ueber_NN\n",
       "1 5705   Würzburg   99576       497704       268           \n",
       "2 2600   Kitzingen 101781       497363       193           \n",
       "  Metadata_Link                                             \n",
       "1 https://cdc.dwd.de/rest/metadata/station/html/812300016295\n",
       "2 https://cdc.dwd.de/rest/metadata/station/html/812300321959"
      ]
     },
     "execution_count": 7,
     "metadata": {
     },
     "output_type": "execute_result"
    }
   ],
   "source": [
    "station"
   ]
  },
  {
   "cell_type": "code",
   "execution_count": 8,
   "metadata": {
    "collapsed": false
   },
   "outputs": [
   ],
   "source": [
    "data <- data %>% mutate(SDO_ID = if_else(SDO_ID==2600, \"Kitzingen\", \"Würzburg\"))"
   ]
  },
  {
   "cell_type": "markdown",
   "metadata": {
    "collapsed": false
   },
   "source": [
    "**Diesesmal schauen wir uns nur Daten aus Würzburg an**"
   ]
  },
  {
   "cell_type": "code",
   "execution_count": 9,
   "metadata": {
    "collapsed": false
   },
   "outputs": [
   ],
   "source": [
    "data <- data %>% filter(SDO_ID==\"Würzburg\")"
   ]
  },
  {
   "cell_type": "markdown",
   "metadata": {
    "collapsed": false
   },
   "source": [
    "# Fragestellungen\n",
    "\n",
    "- Was und wann war die wärmste/kälteste Temperatur die je in Würzburg gemessen wurde?\n",
    "- Wann war der wärmste/kälteste Tag/Woche/Monat/Jahr in Würzburg?\n",
    "- Was war die extremste Temperaturdifferenz innerhalb von 24h?\n",
    "- Gibt es einen langfristigen Trend in den Temperaturdaten über die Zeit?\n",
    "- Gibt es einen Hinweis darauf, dass sich die Jahreszeiten verschieben?"
   ]
  },
  {
   "cell_type": "markdown",
   "metadata": {
    "collapsed": false
   },
   "source": [
    "## Wärmste/kälteste Temperatur"
   ]
  },
  {
   "cell_type": "code",
   "execution_count": 10,
   "metadata": {
    "collapsed": false,
    "scrolled": true
   },
   "outputs": [
    {
     "data": {
      "text/html": [
       "<table class=\"dataframe\">\n",
       "<caption>A tibble: 6 × 6</caption>\n",
       "<thead>\n",
       "\t<tr><th scope=col>Produkt_Code</th><th scope=col>SDO_ID</th><th scope=col>Zeitstempel</th><th scope=col>Wert</th><th scope=col>Qualitaet_Byte</th><th scope=col>Qualitaet_Niveau</th></tr>\n",
       "\t<tr><th scope=col>&lt;chr&gt;</th><th scope=col>&lt;chr&gt;</th><th scope=col>&lt;dttm&gt;</th><th scope=col>&lt;dbl&gt;</th><th scope=col>&lt;dbl&gt;</th><th scope=col>&lt;dbl&gt;</th></tr>\n",
       "</thead>\n",
       "<tbody>\n",
       "\t<tr><td>OBS_DEU_PT1H_T2M</td><td>Würzburg</td><td>2015-08-07 15:00:00</td><td>39.3</td><td>1</td><td>7</td></tr>\n",
       "\t<tr><td>OBS_DEU_PT1H_T2M</td><td>Würzburg</td><td>2015-08-07 14:00:00</td><td>38.7</td><td>1</td><td>7</td></tr>\n",
       "\t<tr><td>OBS_DEU_PT1H_T2M</td><td>Würzburg</td><td>2019-07-25 15:00:00</td><td>38.5</td><td>1</td><td>7</td></tr>\n",
       "\t<tr><td>OBS_DEU_PT1H_T2M</td><td>Würzburg</td><td>2015-08-07 12:00:00</td><td>38.2</td><td>1</td><td>7</td></tr>\n",
       "\t<tr><td>OBS_DEU_PT1H_T2M</td><td>Würzburg</td><td>2015-07-05 15:00:00</td><td>38.0</td><td>1</td><td>7</td></tr>\n",
       "\t<tr><td>OBS_DEU_PT1H_T2M</td><td>Würzburg</td><td>2015-08-07 13:00:00</td><td>38.0</td><td>1</td><td>7</td></tr>\n",
       "</tbody>\n",
       "</table>\n"
      ],
      "text/latex": [
       "A tibble: 6 × 6\n",
       "\\begin{tabular}{llllll}\n",
       " Produkt\\_Code & SDO\\_ID & Zeitstempel & Wert & Qualitaet\\_Byte & Qualitaet\\_Niveau\\\\\n",
       " <chr> & <chr> & <dttm> & <dbl> & <dbl> & <dbl>\\\\\n",
       "\\hline\n",
       "\t OBS\\_DEU\\_PT1H\\_T2M & Würzburg & 2015-08-07 15:00:00 & 39.3 & 1 & 7\\\\\n",
       "\t OBS\\_DEU\\_PT1H\\_T2M & Würzburg & 2015-08-07 14:00:00 & 38.7 & 1 & 7\\\\\n",
       "\t OBS\\_DEU\\_PT1H\\_T2M & Würzburg & 2019-07-25 15:00:00 & 38.5 & 1 & 7\\\\\n",
       "\t OBS\\_DEU\\_PT1H\\_T2M & Würzburg & 2015-08-07 12:00:00 & 38.2 & 1 & 7\\\\\n",
       "\t OBS\\_DEU\\_PT1H\\_T2M & Würzburg & 2015-07-05 15:00:00 & 38.0 & 1 & 7\\\\\n",
       "\t OBS\\_DEU\\_PT1H\\_T2M & Würzburg & 2015-08-07 13:00:00 & 38.0 & 1 & 7\\\\\n",
       "\\end{tabular}\n"
      ],
      "text/markdown": [
       "\n",
       "A tibble: 6 × 6\n",
       "\n",
       "| Produkt_Code &lt;chr&gt; | SDO_ID &lt;chr&gt; | Zeitstempel &lt;dttm&gt; | Wert &lt;dbl&gt; | Qualitaet_Byte &lt;dbl&gt; | Qualitaet_Niveau &lt;dbl&gt; |\n",
       "|---|---|---|---|---|---|\n",
       "| OBS_DEU_PT1H_T2M | Würzburg | 2015-08-07 15:00:00 | 39.3 | 1 | 7 |\n",
       "| OBS_DEU_PT1H_T2M | Würzburg | 2015-08-07 14:00:00 | 38.7 | 1 | 7 |\n",
       "| OBS_DEU_PT1H_T2M | Würzburg | 2019-07-25 15:00:00 | 38.5 | 1 | 7 |\n",
       "| OBS_DEU_PT1H_T2M | Würzburg | 2015-08-07 12:00:00 | 38.2 | 1 | 7 |\n",
       "| OBS_DEU_PT1H_T2M | Würzburg | 2015-07-05 15:00:00 | 38.0 | 1 | 7 |\n",
       "| OBS_DEU_PT1H_T2M | Würzburg | 2015-08-07 13:00:00 | 38.0 | 1 | 7 |\n",
       "\n"
      ],
      "text/plain": [
       "  Produkt_Code     SDO_ID   Zeitstempel         Wert Qualitaet_Byte\n",
       "1 OBS_DEU_PT1H_T2M Würzburg 2015-08-07 15:00:00 39.3 1             \n",
       "2 OBS_DEU_PT1H_T2M Würzburg 2015-08-07 14:00:00 38.7 1             \n",
       "3 OBS_DEU_PT1H_T2M Würzburg 2019-07-25 15:00:00 38.5 1             \n",
       "4 OBS_DEU_PT1H_T2M Würzburg 2015-08-07 12:00:00 38.2 1             \n",
       "5 OBS_DEU_PT1H_T2M Würzburg 2015-07-05 15:00:00 38.0 1             \n",
       "6 OBS_DEU_PT1H_T2M Würzburg 2015-08-07 13:00:00 38.0 1             \n",
       "  Qualitaet_Niveau\n",
       "1 7               \n",
       "2 7               \n",
       "3 7               \n",
       "4 7               \n",
       "5 7               \n",
       "6 7               "
      ]
     },
     "execution_count": 10,
     "metadata": {
     },
     "output_type": "execute_result"
    }
   ],
   "source": [
    "data %>% arrange(-Wert) %>% head"
   ]
  },
  {
   "cell_type": "markdown",
   "metadata": {
    "collapsed": false
   },
   "source": [
    "Die heißeste gemessene Temparatur in Würzburg gab es mit 39,3°C am 7. August 2015"
   ]
  },
  {
   "cell_type": "code",
   "execution_count": 11,
   "metadata": {
    "collapsed": false
   },
   "outputs": [
    {
     "data": {
      "text/html": [
       "<table class=\"dataframe\">\n",
       "<caption>A tibble: 6 × 6</caption>\n",
       "<thead>\n",
       "\t<tr><th scope=col>Produkt_Code</th><th scope=col>SDO_ID</th><th scope=col>Zeitstempel</th><th scope=col>Wert</th><th scope=col>Qualitaet_Byte</th><th scope=col>Qualitaet_Niveau</th></tr>\n",
       "\t<tr><th scope=col>&lt;chr&gt;</th><th scope=col>&lt;chr&gt;</th><th scope=col>&lt;dttm&gt;</th><th scope=col>&lt;dbl&gt;</th><th scope=col>&lt;dbl&gt;</th><th scope=col>&lt;dbl&gt;</th></tr>\n",
       "</thead>\n",
       "<tbody>\n",
       "\t<tr><td>OBS_DEU_PT1H_T2M</td><td>Würzburg</td><td>1956-02-10 08:00:00</td><td>-23.4</td><td>0</td><td>5</td></tr>\n",
       "\t<tr><td>OBS_DEU_PT1H_T2M</td><td>Würzburg</td><td>1956-02-10 07:00:00</td><td>-23.2</td><td>0</td><td>5</td></tr>\n",
       "\t<tr><td>OBS_DEU_PT1H_T2M</td><td>Würzburg</td><td>1956-02-10 06:00:00</td><td>-23.1</td><td>0</td><td>5</td></tr>\n",
       "\t<tr><td>OBS_DEU_PT1H_T2M</td><td>Würzburg</td><td>1956-02-10 05:00:00</td><td>-22.7</td><td>0</td><td>5</td></tr>\n",
       "\t<tr><td>OBS_DEU_PT1H_T2M</td><td>Würzburg</td><td>1956-02-10 09:00:00</td><td>-22.6</td><td>0</td><td>5</td></tr>\n",
       "\t<tr><td>OBS_DEU_PT1H_T2M</td><td>Würzburg</td><td>1956-02-10 04:00:00</td><td>-22.0</td><td>0</td><td>5</td></tr>\n",
       "</tbody>\n",
       "</table>\n"
      ],
      "text/latex": [
       "A tibble: 6 × 6\n",
       "\\begin{tabular}{llllll}\n",
       " Produkt\\_Code & SDO\\_ID & Zeitstempel & Wert & Qualitaet\\_Byte & Qualitaet\\_Niveau\\\\\n",
       " <chr> & <chr> & <dttm> & <dbl> & <dbl> & <dbl>\\\\\n",
       "\\hline\n",
       "\t OBS\\_DEU\\_PT1H\\_T2M & Würzburg & 1956-02-10 08:00:00 & -23.4 & 0 & 5\\\\\n",
       "\t OBS\\_DEU\\_PT1H\\_T2M & Würzburg & 1956-02-10 07:00:00 & -23.2 & 0 & 5\\\\\n",
       "\t OBS\\_DEU\\_PT1H\\_T2M & Würzburg & 1956-02-10 06:00:00 & -23.1 & 0 & 5\\\\\n",
       "\t OBS\\_DEU\\_PT1H\\_T2M & Würzburg & 1956-02-10 05:00:00 & -22.7 & 0 & 5\\\\\n",
       "\t OBS\\_DEU\\_PT1H\\_T2M & Würzburg & 1956-02-10 09:00:00 & -22.6 & 0 & 5\\\\\n",
       "\t OBS\\_DEU\\_PT1H\\_T2M & Würzburg & 1956-02-10 04:00:00 & -22.0 & 0 & 5\\\\\n",
       "\\end{tabular}\n"
      ],
      "text/markdown": [
       "\n",
       "A tibble: 6 × 6\n",
       "\n",
       "| Produkt_Code &lt;chr&gt; | SDO_ID &lt;chr&gt; | Zeitstempel &lt;dttm&gt; | Wert &lt;dbl&gt; | Qualitaet_Byte &lt;dbl&gt; | Qualitaet_Niveau &lt;dbl&gt; |\n",
       "|---|---|---|---|---|---|\n",
       "| OBS_DEU_PT1H_T2M | Würzburg | 1956-02-10 08:00:00 | -23.4 | 0 | 5 |\n",
       "| OBS_DEU_PT1H_T2M | Würzburg | 1956-02-10 07:00:00 | -23.2 | 0 | 5 |\n",
       "| OBS_DEU_PT1H_T2M | Würzburg | 1956-02-10 06:00:00 | -23.1 | 0 | 5 |\n",
       "| OBS_DEU_PT1H_T2M | Würzburg | 1956-02-10 05:00:00 | -22.7 | 0 | 5 |\n",
       "| OBS_DEU_PT1H_T2M | Würzburg | 1956-02-10 09:00:00 | -22.6 | 0 | 5 |\n",
       "| OBS_DEU_PT1H_T2M | Würzburg | 1956-02-10 04:00:00 | -22.0 | 0 | 5 |\n",
       "\n"
      ],
      "text/plain": [
       "  Produkt_Code     SDO_ID   Zeitstempel         Wert  Qualitaet_Byte\n",
       "1 OBS_DEU_PT1H_T2M Würzburg 1956-02-10 08:00:00 -23.4 0             \n",
       "2 OBS_DEU_PT1H_T2M Würzburg 1956-02-10 07:00:00 -23.2 0             \n",
       "3 OBS_DEU_PT1H_T2M Würzburg 1956-02-10 06:00:00 -23.1 0             \n",
       "4 OBS_DEU_PT1H_T2M Würzburg 1956-02-10 05:00:00 -22.7 0             \n",
       "5 OBS_DEU_PT1H_T2M Würzburg 1956-02-10 09:00:00 -22.6 0             \n",
       "6 OBS_DEU_PT1H_T2M Würzburg 1956-02-10 04:00:00 -22.0 0             \n",
       "  Qualitaet_Niveau\n",
       "1 5               \n",
       "2 5               \n",
       "3 5               \n",
       "4 5               \n",
       "5 5               \n",
       "6 5               "
      ]
     },
     "execution_count": 11,
     "metadata": {
     },
     "output_type": "execute_result"
    }
   ],
   "source": [
    "data %>% arrange(Wert) %>% head"
   ]
  },
  {
   "cell_type": "markdown",
   "metadata": {
    "collapsed": false
   },
   "source": [
    "Die kälteste gemessene Temparatur in Würzburg gab es mit -23,4°C am 10. Februar 1956"
   ]
  },
  {
   "cell_type": "markdown",
   "metadata": {
    "collapsed": false
   },
   "source": [
    "## Wärmster/kältester Tag/Woche/Monat/Jahr\n",
    "\n",
    "### Tag"
   ]
  },
  {
   "cell_type": "code",
   "execution_count": 12,
   "metadata": {
    "collapsed": false
   },
   "outputs": [
    {
     "data": {
      "text/html": [
       "<table class=\"dataframe\">\n",
       "<caption>A tibble: 6 × 2</caption>\n",
       "<thead>\n",
       "\t<tr><th scope=col>tag</th><th scope=col>Wert</th></tr>\n",
       "\t<tr><th scope=col>&lt;dttm&gt;</th><th scope=col>&lt;dbl&gt;</th></tr>\n",
       "</thead>\n",
       "<tbody>\n",
       "\t<tr><td>2015-08-07</td><td>30.33750</td></tr>\n",
       "\t<tr><td>2019-07-25</td><td>30.22917</td></tr>\n",
       "\t<tr><td>2015-07-04</td><td>30.08333</td></tr>\n",
       "\t<tr><td>2019-07-26</td><td>29.79583</td></tr>\n",
       "\t<tr><td>2003-08-13</td><td>29.18750</td></tr>\n",
       "\t<tr><td>2015-07-05</td><td>29.02083</td></tr>\n",
       "</tbody>\n",
       "</table>\n"
      ],
      "text/latex": [
       "A tibble: 6 × 2\n",
       "\\begin{tabular}{ll}\n",
       " tag & Wert\\\\\n",
       " <dttm> & <dbl>\\\\\n",
       "\\hline\n",
       "\t 2015-08-07 & 30.33750\\\\\n",
       "\t 2019-07-25 & 30.22917\\\\\n",
       "\t 2015-07-04 & 30.08333\\\\\n",
       "\t 2019-07-26 & 29.79583\\\\\n",
       "\t 2003-08-13 & 29.18750\\\\\n",
       "\t 2015-07-05 & 29.02083\\\\\n",
       "\\end{tabular}\n"
      ],
      "text/markdown": [
       "\n",
       "A tibble: 6 × 2\n",
       "\n",
       "| tag &lt;dttm&gt; | Wert &lt;dbl&gt; |\n",
       "|---|---|\n",
       "| 2015-08-07 | 30.33750 |\n",
       "| 2019-07-25 | 30.22917 |\n",
       "| 2015-07-04 | 30.08333 |\n",
       "| 2019-07-26 | 29.79583 |\n",
       "| 2003-08-13 | 29.18750 |\n",
       "| 2015-07-05 | 29.02083 |\n",
       "\n"
      ],
      "text/plain": [
       "  tag        Wert    \n",
       "1 2015-08-07 30.33750\n",
       "2 2019-07-25 30.22917\n",
       "3 2015-07-04 30.08333\n",
       "4 2019-07-26 29.79583\n",
       "5 2003-08-13 29.18750\n",
       "6 2015-07-05 29.02083"
      ]
     },
     "execution_count": 12,
     "metadata": {
     },
     "output_type": "execute_result"
    }
   ],
   "source": [
    "data %>%\n",
    "    mutate(tag = floor_date(Zeitstempel, unit=\"day\")) %>%\n",
    "    group_by(tag) %>%\n",
    "    summarize(Wert=mean(Wert)) %>%\n",
    "    arrange(-Wert) %>%\n",
    "    head"
   ]
  },
  {
   "cell_type": "markdown",
   "metadata": {
    "collapsed": false
   },
   "source": [
    "Der heißeste Tag war mit einer Tagesdurchschnittstemperatur von 30,3°C der 7. August 2015."
   ]
  },
  {
   "cell_type": "code",
   "execution_count": 13,
   "metadata": {
    "collapsed": false
   },
   "outputs": [
    {
     "data": {
      "text/html": [
       "<table class=\"dataframe\">\n",
       "<caption>A tibble: 6 × 2</caption>\n",
       "<thead>\n",
       "\t<tr><th scope=col>tag</th><th scope=col>Wert</th></tr>\n",
       "\t<tr><th scope=col>&lt;dttm&gt;</th><th scope=col>&lt;dbl&gt;</th></tr>\n",
       "</thead>\n",
       "<tbody>\n",
       "\t<tr><td>1956-02-01</td><td>-18.15833</td></tr>\n",
       "\t<tr><td>1956-02-10</td><td>-16.99167</td></tr>\n",
       "\t<tr><td>1985-01-08</td><td>-16.81667</td></tr>\n",
       "\t<tr><td>1969-12-21</td><td>-16.77083</td></tr>\n",
       "\t<tr><td>1968-01-13</td><td>-16.00833</td></tr>\n",
       "\t<tr><td>1956-02-09</td><td>-15.61667</td></tr>\n",
       "</tbody>\n",
       "</table>\n"
      ],
      "text/latex": [
       "A tibble: 6 × 2\n",
       "\\begin{tabular}{ll}\n",
       " tag & Wert\\\\\n",
       " <dttm> & <dbl>\\\\\n",
       "\\hline\n",
       "\t 1956-02-01 & -18.15833\\\\\n",
       "\t 1956-02-10 & -16.99167\\\\\n",
       "\t 1985-01-08 & -16.81667\\\\\n",
       "\t 1969-12-21 & -16.77083\\\\\n",
       "\t 1968-01-13 & -16.00833\\\\\n",
       "\t 1956-02-09 & -15.61667\\\\\n",
       "\\end{tabular}\n"
      ],
      "text/markdown": [
       "\n",
       "A tibble: 6 × 2\n",
       "\n",
       "| tag &lt;dttm&gt; | Wert &lt;dbl&gt; |\n",
       "|---|---|\n",
       "| 1956-02-01 | -18.15833 |\n",
       "| 1956-02-10 | -16.99167 |\n",
       "| 1985-01-08 | -16.81667 |\n",
       "| 1969-12-21 | -16.77083 |\n",
       "| 1968-01-13 | -16.00833 |\n",
       "| 1956-02-09 | -15.61667 |\n",
       "\n"
      ],
      "text/plain": [
       "  tag        Wert     \n",
       "1 1956-02-01 -18.15833\n",
       "2 1956-02-10 -16.99167\n",
       "3 1985-01-08 -16.81667\n",
       "4 1969-12-21 -16.77083\n",
       "5 1968-01-13 -16.00833\n",
       "6 1956-02-09 -15.61667"
      ]
     },
     "execution_count": 13,
     "metadata": {
     },
     "output_type": "execute_result"
    }
   ],
   "source": [
    "data %>%\n",
    "    mutate(tag = floor_date(Zeitstempel, unit=\"day\")) %>%\n",
    "    group_by(tag) %>%\n",
    "    summarize(Wert=mean(Wert)) %>%\n",
    "    arrange(Wert) %>%\n",
    "    head"
   ]
  },
  {
   "cell_type": "markdown",
   "metadata": {
    "collapsed": false
   },
   "source": [
    "Der kälteste Tag war mit einer Tagesdurchschnittstemperatur von -18,2°C der 1. Februar 1956."
   ]
  },
  {
   "cell_type": "markdown",
   "metadata": {
    "collapsed": false
   },
   "source": [
    "## Größte Temperaturdifferenz in 24h\n",
    "\n",
    "### Erstmal innerhalb eines Tages (also von 0 bis 24Uhr)"
   ]
  },
  {
   "cell_type": "code",
   "execution_count": 14,
   "metadata": {
    "collapsed": false
   },
   "outputs": [
    {
     "data": {
      "text/html": [
       "<table class=\"dataframe\">\n",
       "<caption>A tibble: 6 × 2</caption>\n",
       "<thead>\n",
       "\t<tr><th scope=col>tag</th><th scope=col>span</th></tr>\n",
       "\t<tr><th scope=col>&lt;dttm&gt;</th><th scope=col>&lt;dbl&gt;</th></tr>\n",
       "</thead>\n",
       "<tbody>\n",
       "\t<tr><td>1968-01-14</td><td>24.9</td></tr>\n",
       "\t<tr><td>1955-02-27</td><td>23.5</td></tr>\n",
       "\t<tr><td>1962-09-03</td><td>23.4</td></tr>\n",
       "\t<tr><td>1949-08-06</td><td>22.4</td></tr>\n",
       "\t<tr><td>2003-05-05</td><td>22.4</td></tr>\n",
       "\t<tr><td>1949-04-24</td><td>22.0</td></tr>\n",
       "</tbody>\n",
       "</table>\n"
      ],
      "text/latex": [
       "A tibble: 6 × 2\n",
       "\\begin{tabular}{ll}\n",
       " tag & span\\\\\n",
       " <dttm> & <dbl>\\\\\n",
       "\\hline\n",
       "\t 1968-01-14 & 24.9\\\\\n",
       "\t 1955-02-27 & 23.5\\\\\n",
       "\t 1962-09-03 & 23.4\\\\\n",
       "\t 1949-08-06 & 22.4\\\\\n",
       "\t 2003-05-05 & 22.4\\\\\n",
       "\t 1949-04-24 & 22.0\\\\\n",
       "\\end{tabular}\n"
      ],
      "text/markdown": [
       "\n",
       "A tibble: 6 × 2\n",
       "\n",
       "| tag &lt;dttm&gt; | span &lt;dbl&gt; |\n",
       "|---|---|\n",
       "| 1968-01-14 | 24.9 |\n",
       "| 1955-02-27 | 23.5 |\n",
       "| 1962-09-03 | 23.4 |\n",
       "| 1949-08-06 | 22.4 |\n",
       "| 2003-05-05 | 22.4 |\n",
       "| 1949-04-24 | 22.0 |\n",
       "\n"
      ],
      "text/plain": [
       "  tag        span\n",
       "1 1968-01-14 24.9\n",
       "2 1955-02-27 23.5\n",
       "3 1962-09-03 23.4\n",
       "4 1949-08-06 22.4\n",
       "5 2003-05-05 22.4\n",
       "6 1949-04-24 22.0"
      ]
     },
     "execution_count": 14,
     "metadata": {
     },
     "output_type": "execute_result"
    }
   ],
   "source": [
    "data %>%\n",
    "    mutate(tag = floor_date(Zeitstempel, unit=\"day\")) %>%\n",
    "    group_by(tag) %>%\n",
    "    summarize(span=diff(range(Wert))) %>%\n",
    "    arrange(-span) %>%\n",
    "    head"
   ]
  },
  {
   "cell_type": "markdown",
   "metadata": {
    "collapsed": false
   },
   "source": [
    "Am 14. Januar 1968 gab es innerhalb eines Tages einen Temperatur Unterschied von 24,9°C, wow!"
   ]
  },
  {
   "cell_type": "code",
   "execution_count": 15,
   "metadata": {
    "collapsed": false
   },
   "outputs": [
    {
     "data": {
      "image/png": "[encoded data removed]",
      "text/plain": [
       "plot without title"
      ]
     },
     "execution_count": 15,
     "metadata": {
      "image/png": {
       "height": 420,
       "width": 420
      }
     },
     "output_type": "execute_result"
    }
   ],
   "source": [
    "data %>% filter(year(Zeitstempel)==1968, month(Zeitstempel)==1, day(Zeitstempel)==14) %>% ggplot(aes(Zeitstempel, Wert)) + geom_line()"
   ]
  },
  {
   "cell_type": "markdown",
   "metadata": {
    "collapsed": false
   },
   "source": [
    "### Jetzt ordentlich in einem Sliding Window von 24h"
   ]
  },
  {
   "cell_type": "code",
   "execution_count": 18,
   "metadata": {
    "collapsed": false
   },
   "outputs": [
   ],
   "source": [
    "library(slider)"
   ]
  },
  {
   "cell_type": "code",
   "execution_count": 38,
   "metadata": {
    "collapsed": false,
    "scrolled": true
   },
   "outputs": [
    {
     "data": {
      "text/html": [
       "<table class=\"dataframe\">\n",
       "<caption>A spec_tbl_df: 645879 × 7</caption>\n",
       "<thead>\n",
       "\t<tr><th scope=col>Produkt_Code</th><th scope=col>SDO_ID</th><th scope=col>Zeitstempel</th><th scope=col>Wert</th><th scope=col>Qualitaet_Byte</th><th scope=col>Qualitaet_Niveau</th><th scope=col>span_last_24h</th></tr>\n",
       "\t<tr><th scope=col>&lt;chr&gt;</th><th scope=col>&lt;chr&gt;</th><th scope=col>&lt;dttm&gt;</th><th scope=col>&lt;dbl&gt;</th><th scope=col>&lt;dbl&gt;</th><th scope=col>&lt;dbl&gt;</th><th scope=col>&lt;dbl&gt;</th></tr>\n",
       "</thead>\n",
       "<tbody>\n",
       "\t<tr><td>OBS_DEU_PT1H_T2M</td><td>Würzburg</td><td>1979-01-01 06:00:00</td><td>-16.8</td><td>0</td><td>5</td><td>26.1</td></tr>\n",
       "\t<tr><td>OBS_DEU_PT1H_T2M</td><td>Würzburg</td><td>1979-01-01 07:00:00</td><td>-16.4</td><td>0</td><td>5</td><td>26.1</td></tr>\n",
       "\t<tr><td>OBS_DEU_PT1H_T2M</td><td>Würzburg</td><td>1979-01-01 08:00:00</td><td>-16.2</td><td>0</td><td>5</td><td>26.1</td></tr>\n",
       "\t<tr><td>OBS_DEU_PT1H_T2M</td><td>Würzburg</td><td>1979-01-01 09:00:00</td><td>-16.2</td><td>0</td><td>5</td><td>25.9</td></tr>\n",
       "\t<tr><td>OBS_DEU_PT1H_T2M</td><td>Würzburg</td><td>1979-01-01 10:00:00</td><td>-16.3</td><td>0</td><td>5</td><td>25.9</td></tr>\n",
       "\t<tr><td>OBS_DEU_PT1H_T2M</td><td>Würzburg</td><td>1968-01-14 22:00:00</td><td>  7.1</td><td>0</td><td>5</td><td>25.6</td></tr>\n",
       "\t<tr><td>OBS_DEU_PT1H_T2M</td><td>Würzburg</td><td>1968-01-14 21:00:00</td><td>  7.0</td><td>0</td><td>5</td><td>25.5</td></tr>\n",
       "\t<tr><td>OBS_DEU_PT1H_T2M</td><td>Würzburg</td><td>1979-01-01 05:00:00</td><td>-16.2</td><td>0</td><td>5</td><td>25.5</td></tr>\n",
       "\t<tr><td>OBS_DEU_PT1H_T2M</td><td>Würzburg</td><td>1968-01-14 20:00:00</td><td>  6.9</td><td>0</td><td>5</td><td>25.4</td></tr>\n",
       "\t<tr><td>OBS_DEU_PT1H_T2M</td><td>Würzburg</td><td>1968-01-14 19:00:00</td><td>  6.8</td><td>0</td><td>5</td><td>25.3</td></tr>\n",
       "\t<tr><td>OBS_DEU_PT1H_T2M</td><td>Würzburg</td><td>1979-01-01 04:00:00</td><td>-15.8</td><td>0</td><td>5</td><td>25.1</td></tr>\n",
       "\t<tr><td>OBS_DEU_PT1H_T2M</td><td>Würzburg</td><td>1968-01-14 23:00:00</td><td>  5.8</td><td>0</td><td>5</td><td>24.9</td></tr>\n",
       "\t<tr><td>OBS_DEU_PT1H_T2M</td><td>Würzburg</td><td>1979-01-01 11:00:00</td><td>-16.3</td><td>0</td><td>5</td><td>24.8</td></tr>\n",
       "\t<tr><td>OBS_DEU_PT1H_T2M</td><td>Würzburg</td><td>1968-01-14 18:00:00</td><td>  6.0</td><td>0</td><td>5</td><td>24.5</td></tr>\n",
       "\t<tr><td>OBS_DEU_PT1H_T2M</td><td>Würzburg</td><td>1968-01-15 00:00:00</td><td>  6.9</td><td>0</td><td>5</td><td>24.1</td></tr>\n",
       "\t<tr><td>OBS_DEU_PT1H_T2M</td><td>Würzburg</td><td>1968-01-14 17:00:00</td><td>  5.4</td><td>0</td><td>5</td><td>23.9</td></tr>\n",
       "\t<tr><td>OBS_DEU_PT1H_T2M</td><td>Würzburg</td><td>1979-01-01 12:00:00</td><td>-15.3</td><td>0</td><td>5</td><td>23.7</td></tr>\n",
       "\t<tr><td>OBS_DEU_PT1H_T2M</td><td>Würzburg</td><td>1968-01-15 03:00:00</td><td>  7.8</td><td>0</td><td>5</td><td>23.7</td></tr>\n",
       "\t<tr><td>OBS_DEU_PT1H_T2M</td><td>Würzburg</td><td>1968-01-15 01:00:00</td><td>  7.1</td><td>0</td><td>5</td><td>23.6</td></tr>\n",
       "\t<tr><td>OBS_DEU_PT1H_T2M</td><td>Würzburg</td><td>1968-01-15 04:00:00</td><td>  8.0</td><td>0</td><td>5</td><td>23.6</td></tr>\n",
       "\t<tr><td>OBS_DEU_PT1H_T2M</td><td>Würzburg</td><td>1979-01-01 03:00:00</td><td>-14.3</td><td>0</td><td>5</td><td>23.6</td></tr>\n",
       "\t<tr><td>OBS_DEU_PT1H_T2M</td><td>Würzburg</td><td>1955-02-27 08:00:00</td><td>-11.7</td><td>0</td><td>5</td><td>23.5</td></tr>\n",
       "\t<tr><td>OBS_DEU_PT1H_T2M</td><td>Würzburg</td><td>1955-02-27 09:00:00</td><td> -8.7</td><td>0</td><td>5</td><td>23.5</td></tr>\n",
       "\t<tr><td>OBS_DEU_PT1H_T2M</td><td>Würzburg</td><td>1955-02-27 10:00:00</td><td> -5.3</td><td>0</td><td>5</td><td>23.5</td></tr>\n",
       "\t<tr><td>OBS_DEU_PT1H_T2M</td><td>Würzburg</td><td>1955-02-27 11:00:00</td><td> -3.8</td><td>0</td><td>5</td><td>23.5</td></tr>\n",
       "\t<tr><td>OBS_DEU_PT1H_T2M</td><td>Würzburg</td><td>1955-02-27 12:00:00</td><td> -2.6</td><td>0</td><td>5</td><td>23.5</td></tr>\n",
       "\t<tr><td>OBS_DEU_PT1H_T2M</td><td>Würzburg</td><td>1955-02-27 13:00:00</td><td> -1.3</td><td>0</td><td>5</td><td>23.5</td></tr>\n",
       "\t<tr><td>OBS_DEU_PT1H_T2M</td><td>Würzburg</td><td>1955-02-27 14:00:00</td><td> -1.2</td><td>0</td><td>5</td><td>23.5</td></tr>\n",
       "\t<tr><td>OBS_DEU_PT1H_T2M</td><td>Würzburg</td><td>1955-02-27 15:00:00</td><td> -0.3</td><td>0</td><td>5</td><td>23.5</td></tr>\n",
       "\t<tr><td>OBS_DEU_PT1H_T2M</td><td>Würzburg</td><td>1955-02-27 16:00:00</td><td> -0.8</td><td>0</td><td>5</td><td>23.5</td></tr>\n",
       "\t<tr><td>⋮</td><td>⋮</td><td>⋮</td><td>⋮</td><td>⋮</td><td>⋮</td><td>⋮</td></tr>\n",
       "\t<tr><td>OBS_DEU_PT1H_T2M</td><td>Würzburg</td><td>1978-12-04 15:00:00</td><td> 0.1</td><td>0</td><td>5</td><td>0.3</td></tr>\n",
       "\t<tr><td>OBS_DEU_PT1H_T2M</td><td>Würzburg</td><td>1953-12-12 13:00:00</td><td> 5.2</td><td>0</td><td>5</td><td>0.3</td></tr>\n",
       "\t<tr><td>OBS_DEU_PT1H_T2M</td><td>Würzburg</td><td>1953-12-12 14:00:00</td><td> 5.3</td><td>0</td><td>5</td><td>0.2</td></tr>\n",
       "\t<tr><td>OBS_DEU_PT1H_T2M</td><td>Würzburg</td><td>1987-11-28 10:00:00</td><td> 2.0</td><td>0</td><td>7</td><td>0.2</td></tr>\n",
       "\t<tr><td>OBS_DEU_PT1H_T2M</td><td>Würzburg</td><td>1987-11-28 11:00:00</td><td> 2.0</td><td>0</td><td>7</td><td>0.2</td></tr>\n",
       "\t<tr><td>OBS_DEU_PT1H_T2M</td><td>Würzburg</td><td>1987-11-28 12:00:00</td><td> 2.0</td><td>0</td><td>7</td><td>0.2</td></tr>\n",
       "\t<tr><td>OBS_DEU_PT1H_T2M</td><td>Würzburg</td><td>2019-09-10 10:00:00</td><td>14.7</td><td>6</td><td>7</td><td>0.0</td></tr>\n",
       "\t<tr><td>OBS_DEU_PT1H_T2M</td><td>Würzburg</td><td>1948-01-01 01:00:00</td><td>-2.6</td><td>0</td><td>5</td><td> NA</td></tr>\n",
       "\t<tr><td>OBS_DEU_PT1H_T2M</td><td>Würzburg</td><td>1948-01-01 02:00:00</td><td>-1.9</td><td>0</td><td>5</td><td> NA</td></tr>\n",
       "\t<tr><td>OBS_DEU_PT1H_T2M</td><td>Würzburg</td><td>1948-01-01 03:00:00</td><td>-1.7</td><td>0</td><td>5</td><td> NA</td></tr>\n",
       "\t<tr><td>OBS_DEU_PT1H_T2M</td><td>Würzburg</td><td>1948-01-01 04:00:00</td><td>-1.0</td><td>0</td><td>5</td><td> NA</td></tr>\n",
       "\t<tr><td>OBS_DEU_PT1H_T2M</td><td>Würzburg</td><td>1948-01-01 05:00:00</td><td>-0.6</td><td>0</td><td>5</td><td> NA</td></tr>\n",
       "\t<tr><td>OBS_DEU_PT1H_T2M</td><td>Würzburg</td><td>1948-01-01 06:00:00</td><td>-0.5</td><td>0</td><td>5</td><td> NA</td></tr>\n",
       "\t<tr><td>OBS_DEU_PT1H_T2M</td><td>Würzburg</td><td>1948-01-01 07:00:00</td><td>-0.6</td><td>0</td><td>5</td><td> NA</td></tr>\n",
       "\t<tr><td>OBS_DEU_PT1H_T2M</td><td>Würzburg</td><td>1948-01-01 08:00:00</td><td>-0.5</td><td>0</td><td>5</td><td> NA</td></tr>\n",
       "\t<tr><td>OBS_DEU_PT1H_T2M</td><td>Würzburg</td><td>1948-01-01 09:00:00</td><td>-0.5</td><td>0</td><td>5</td><td> NA</td></tr>\n",
       "\t<tr><td>OBS_DEU_PT1H_T2M</td><td>Würzburg</td><td>1948-01-01 10:00:00</td><td>-0.4</td><td>0</td><td>5</td><td> NA</td></tr>\n",
       "\t<tr><td>OBS_DEU_PT1H_T2M</td><td>Würzburg</td><td>1948-01-01 11:00:00</td><td> 0.0</td><td>0</td><td>5</td><td> NA</td></tr>\n",
       "\t<tr><td>OBS_DEU_PT1H_T2M</td><td>Würzburg</td><td>1948-01-01 12:00:00</td><td> 0.6</td><td>0</td><td>5</td><td> NA</td></tr>\n",
       "\t<tr><td>OBS_DEU_PT1H_T2M</td><td>Würzburg</td><td>1948-01-01 13:00:00</td><td> 0.7</td><td>0</td><td>5</td><td> NA</td></tr>\n",
       "\t<tr><td>OBS_DEU_PT1H_T2M</td><td>Würzburg</td><td>1948-01-01 14:00:00</td><td> 0.8</td><td>0</td><td>5</td><td> NA</td></tr>\n",
       "\t<tr><td>OBS_DEU_PT1H_T2M</td><td>Würzburg</td><td>1948-01-01 15:00:00</td><td> 0.7</td><td>0</td><td>5</td><td> NA</td></tr>\n",
       "\t<tr><td>OBS_DEU_PT1H_T2M</td><td>Würzburg</td><td>1948-01-01 16:00:00</td><td> 0.7</td><td>0</td><td>5</td><td> NA</td></tr>\n",
       "\t<tr><td>OBS_DEU_PT1H_T2M</td><td>Würzburg</td><td>1948-01-01 17:00:00</td><td> 0.8</td><td>0</td><td>5</td><td> NA</td></tr>\n",
       "\t<tr><td>OBS_DEU_PT1H_T2M</td><td>Würzburg</td><td>1948-01-01 18:00:00</td><td> 1.0</td><td>0</td><td>5</td><td> NA</td></tr>\n",
       "\t<tr><td>OBS_DEU_PT1H_T2M</td><td>Würzburg</td><td>1948-01-01 19:00:00</td><td> 1.6</td><td>0</td><td>5</td><td> NA</td></tr>\n",
       "\t<tr><td>OBS_DEU_PT1H_T2M</td><td>Würzburg</td><td>1948-01-01 20:00:00</td><td> 1.8</td><td>0</td><td>5</td><td> NA</td></tr>\n",
       "\t<tr><td>OBS_DEU_PT1H_T2M</td><td>Würzburg</td><td>1948-01-01 21:00:00</td><td> 2.0</td><td>0</td><td>5</td><td> NA</td></tr>\n",
       "\t<tr><td>OBS_DEU_PT1H_T2M</td><td>Würzburg</td><td>1948-01-01 22:00:00</td><td> 2.8</td><td>0</td><td>5</td><td> NA</td></tr>\n",
       "\t<tr><td>OBS_DEU_PT1H_T2M</td><td>Würzburg</td><td>1948-01-01 23:00:00</td><td> 2.9</td><td>0</td><td>5</td><td> NA</td></tr>\n",
       "</tbody>\n",
       "</table>\n"
      ],
      "text/latex": [
       "A spec\\_tbl\\_df: 645879 × 7\n",
       "\\begin{tabular}{lllllll}\n",
       " Produkt\\_Code & SDO\\_ID & Zeitstempel & Wert & Qualitaet\\_Byte & Qualitaet\\_Niveau & span\\_last\\_24h\\\\\n",
       " <chr> & <chr> & <dttm> & <dbl> & <dbl> & <dbl> & <dbl>\\\\\n",
       "\\hline\n",
       "\t OBS\\_DEU\\_PT1H\\_T2M & Würzburg & 1979-01-01 06:00:00 & -16.8 & 0 & 5 & 26.1\\\\\n",
       "\t OBS\\_DEU\\_PT1H\\_T2M & Würzburg & 1979-01-01 07:00:00 & -16.4 & 0 & 5 & 26.1\\\\\n",
       "\t OBS\\_DEU\\_PT1H\\_T2M & Würzburg & 1979-01-01 08:00:00 & -16.2 & 0 & 5 & 26.1\\\\\n",
       "\t OBS\\_DEU\\_PT1H\\_T2M & Würzburg & 1979-01-01 09:00:00 & -16.2 & 0 & 5 & 25.9\\\\\n",
       "\t OBS\\_DEU\\_PT1H\\_T2M & Würzburg & 1979-01-01 10:00:00 & -16.3 & 0 & 5 & 25.9\\\\\n",
       "\t OBS\\_DEU\\_PT1H\\_T2M & Würzburg & 1968-01-14 22:00:00 &   7.1 & 0 & 5 & 25.6\\\\\n",
       "\t OBS\\_DEU\\_PT1H\\_T2M & Würzburg & 1968-01-14 21:00:00 &   7.0 & 0 & 5 & 25.5\\\\\n",
       "\t OBS\\_DEU\\_PT1H\\_T2M & Würzburg & 1979-01-01 05:00:00 & -16.2 & 0 & 5 & 25.5\\\\\n",
       "\t OBS\\_DEU\\_PT1H\\_T2M & Würzburg & 1968-01-14 20:00:00 &   6.9 & 0 & 5 & 25.4\\\\\n",
       "\t OBS\\_DEU\\_PT1H\\_T2M & Würzburg & 1968-01-14 19:00:00 &   6.8 & 0 & 5 & 25.3\\\\\n",
       "\t OBS\\_DEU\\_PT1H\\_T2M & Würzburg & 1979-01-01 04:00:00 & -15.8 & 0 & 5 & 25.1\\\\\n",
       "\t OBS\\_DEU\\_PT1H\\_T2M & Würzburg & 1968-01-14 23:00:00 &   5.8 & 0 & 5 & 24.9\\\\\n",
       "\t OBS\\_DEU\\_PT1H\\_T2M & Würzburg & 1979-01-01 11:00:00 & -16.3 & 0 & 5 & 24.8\\\\\n",
       "\t OBS\\_DEU\\_PT1H\\_T2M & Würzburg & 1968-01-14 18:00:00 &   6.0 & 0 & 5 & 24.5\\\\\n",
       "\t OBS\\_DEU\\_PT1H\\_T2M & Würzburg & 1968-01-15 00:00:00 &   6.9 & 0 & 5 & 24.1\\\\\n",
       "\t OBS\\_DEU\\_PT1H\\_T2M & Würzburg & 1968-01-14 17:00:00 &   5.4 & 0 & 5 & 23.9\\\\\n",
       "\t OBS\\_DEU\\_PT1H\\_T2M & Würzburg & 1979-01-01 12:00:00 & -15.3 & 0 & 5 & 23.7\\\\\n",
       "\t OBS\\_DEU\\_PT1H\\_T2M & Würzburg & 1968-01-15 03:00:00 &   7.8 & 0 & 5 & 23.7\\\\\n",
       "\t OBS\\_DEU\\_PT1H\\_T2M & Würzburg & 1968-01-15 01:00:00 &   7.1 & 0 & 5 & 23.6\\\\\n",
       "\t OBS\\_DEU\\_PT1H\\_T2M & Würzburg & 1968-01-15 04:00:00 &   8.0 & 0 & 5 & 23.6\\\\\n",
       "\t OBS\\_DEU\\_PT1H\\_T2M & Würzburg & 1979-01-01 03:00:00 & -14.3 & 0 & 5 & 23.6\\\\\n",
       "\t OBS\\_DEU\\_PT1H\\_T2M & Würzburg & 1955-02-27 08:00:00 & -11.7 & 0 & 5 & 23.5\\\\\n",
       "\t OBS\\_DEU\\_PT1H\\_T2M & Würzburg & 1955-02-27 09:00:00 &  -8.7 & 0 & 5 & 23.5\\\\\n",
       "\t OBS\\_DEU\\_PT1H\\_T2M & Würzburg & 1955-02-27 10:00:00 &  -5.3 & 0 & 5 & 23.5\\\\\n",
       "\t OBS\\_DEU\\_PT1H\\_T2M & Würzburg & 1955-02-27 11:00:00 &  -3.8 & 0 & 5 & 23.5\\\\\n",
       "\t OBS\\_DEU\\_PT1H\\_T2M & Würzburg & 1955-02-27 12:00:00 &  -2.6 & 0 & 5 & 23.5\\\\\n",
       "\t OBS\\_DEU\\_PT1H\\_T2M & Würzburg & 1955-02-27 13:00:00 &  -1.3 & 0 & 5 & 23.5\\\\\n",
       "\t OBS\\_DEU\\_PT1H\\_T2M & Würzburg & 1955-02-27 14:00:00 &  -1.2 & 0 & 5 & 23.5\\\\\n",
       "\t OBS\\_DEU\\_PT1H\\_T2M & Würzburg & 1955-02-27 15:00:00 &  -0.3 & 0 & 5 & 23.5\\\\\n",
       "\t OBS\\_DEU\\_PT1H\\_T2M & Würzburg & 1955-02-27 16:00:00 &  -0.8 & 0 & 5 & 23.5\\\\\n",
       "\t ⋮ & ⋮ & ⋮ & ⋮ & ⋮ & ⋮ & ⋮\\\\\n",
       "\t OBS\\_DEU\\_PT1H\\_T2M & Würzburg & 1978-12-04 15:00:00 &  0.1 & 0 & 5 & 0.3\\\\\n",
       "\t OBS\\_DEU\\_PT1H\\_T2M & Würzburg & 1953-12-12 13:00:00 &  5.2 & 0 & 5 & 0.3\\\\\n",
       "\t OBS\\_DEU\\_PT1H\\_T2M & Würzburg & 1953-12-12 14:00:00 &  5.3 & 0 & 5 & 0.2\\\\\n",
       "\t OBS\\_DEU\\_PT1H\\_T2M & Würzburg & 1987-11-28 10:00:00 &  2.0 & 0 & 7 & 0.2\\\\\n",
       "\t OBS\\_DEU\\_PT1H\\_T2M & Würzburg & 1987-11-28 11:00:00 &  2.0 & 0 & 7 & 0.2\\\\\n",
       "\t OBS\\_DEU\\_PT1H\\_T2M & Würzburg & 1987-11-28 12:00:00 &  2.0 & 0 & 7 & 0.2\\\\\n",
       "\t OBS\\_DEU\\_PT1H\\_T2M & Würzburg & 2019-09-10 10:00:00 & 14.7 & 6 & 7 & 0.0\\\\\n",
       "\t OBS\\_DEU\\_PT1H\\_T2M & Würzburg & 1948-01-01 01:00:00 & -2.6 & 0 & 5 &  NA\\\\\n",
       "\t OBS\\_DEU\\_PT1H\\_T2M & Würzburg & 1948-01-01 02:00:00 & -1.9 & 0 & 5 &  NA\\\\\n",
       "\t OBS\\_DEU\\_PT1H\\_T2M & Würzburg & 1948-01-01 03:00:00 & -1.7 & 0 & 5 &  NA\\\\\n",
       "\t OBS\\_DEU\\_PT1H\\_T2M & Würzburg & 1948-01-01 04:00:00 & -1.0 & 0 & 5 &  NA\\\\\n",
       "\t OBS\\_DEU\\_PT1H\\_T2M & Würzburg & 1948-01-01 05:00:00 & -0.6 & 0 & 5 &  NA\\\\\n",
       "\t OBS\\_DEU\\_PT1H\\_T2M & Würzburg & 1948-01-01 06:00:00 & -0.5 & 0 & 5 &  NA\\\\\n",
       "\t OBS\\_DEU\\_PT1H\\_T2M & Würzburg & 1948-01-01 07:00:00 & -0.6 & 0 & 5 &  NA\\\\\n",
       "\t OBS\\_DEU\\_PT1H\\_T2M & Würzburg & 1948-01-01 08:00:00 & -0.5 & 0 & 5 &  NA\\\\\n",
       "\t OBS\\_DEU\\_PT1H\\_T2M & Würzburg & 1948-01-01 09:00:00 & -0.5 & 0 & 5 &  NA\\\\\n",
       "\t OBS\\_DEU\\_PT1H\\_T2M & Würzburg & 1948-01-01 10:00:00 & -0.4 & 0 & 5 &  NA\\\\\n",
       "\t OBS\\_DEU\\_PT1H\\_T2M & Würzburg & 1948-01-01 11:00:00 &  0.0 & 0 & 5 &  NA\\\\\n",
       "\t OBS\\_DEU\\_PT1H\\_T2M & Würzburg & 1948-01-01 12:00:00 &  0.6 & 0 & 5 &  NA\\\\\n",
       "\t OBS\\_DEU\\_PT1H\\_T2M & Würzburg & 1948-01-01 13:00:00 &  0.7 & 0 & 5 &  NA\\\\\n",
       "\t OBS\\_DEU\\_PT1H\\_T2M & Würzburg & 1948-01-01 14:00:00 &  0.8 & 0 & 5 &  NA\\\\\n",
       "\t OBS\\_DEU\\_PT1H\\_T2M & Würzburg & 1948-01-01 15:00:00 &  0.7 & 0 & 5 &  NA\\\\\n",
       "\t OBS\\_DEU\\_PT1H\\_T2M & Würzburg & 1948-01-01 16:00:00 &  0.7 & 0 & 5 &  NA\\\\\n",
       "\t OBS\\_DEU\\_PT1H\\_T2M & Würzburg & 1948-01-01 17:00:00 &  0.8 & 0 & 5 &  NA\\\\\n",
       "\t OBS\\_DEU\\_PT1H\\_T2M & Würzburg & 1948-01-01 18:00:00 &  1.0 & 0 & 5 &  NA\\\\\n",
       "\t OBS\\_DEU\\_PT1H\\_T2M & Würzburg & 1948-01-01 19:00:00 &  1.6 & 0 & 5 &  NA\\\\\n",
       "\t OBS\\_DEU\\_PT1H\\_T2M & Würzburg & 1948-01-01 20:00:00 &  1.8 & 0 & 5 &  NA\\\\\n",
       "\t OBS\\_DEU\\_PT1H\\_T2M & Würzburg & 1948-01-01 21:00:00 &  2.0 & 0 & 5 &  NA\\\\\n",
       "\t OBS\\_DEU\\_PT1H\\_T2M & Würzburg & 1948-01-01 22:00:00 &  2.8 & 0 & 5 &  NA\\\\\n",
       "\t OBS\\_DEU\\_PT1H\\_T2M & Würzburg & 1948-01-01 23:00:00 &  2.9 & 0 & 5 &  NA\\\\\n",
       "\\end{tabular}\n"
      ],
      "text/markdown": [
       "\n",
       "A spec_tbl_df: 645879 × 7\n",
       "\n",
       "| Produkt_Code &lt;chr&gt; | SDO_ID &lt;chr&gt; | Zeitstempel &lt;dttm&gt; | Wert &lt;dbl&gt; | Qualitaet_Byte &lt;dbl&gt; | Qualitaet_Niveau &lt;dbl&gt; | span_last_24h &lt;dbl&gt; |\n",
       "|---|---|---|---|---|---|---|\n",
       "| OBS_DEU_PT1H_T2M | Würzburg | 1979-01-01 06:00:00 | -16.8 | 0 | 5 | 26.1 |\n",
       "| OBS_DEU_PT1H_T2M | Würzburg | 1979-01-01 07:00:00 | -16.4 | 0 | 5 | 26.1 |\n",
       "| OBS_DEU_PT1H_T2M | Würzburg | 1979-01-01 08:00:00 | -16.2 | 0 | 5 | 26.1 |\n",
       "| OBS_DEU_PT1H_T2M | Würzburg | 1979-01-01 09:00:00 | -16.2 | 0 | 5 | 25.9 |\n",
       "| OBS_DEU_PT1H_T2M | Würzburg | 1979-01-01 10:00:00 | -16.3 | 0 | 5 | 25.9 |\n",
       "| OBS_DEU_PT1H_T2M | Würzburg | 1968-01-14 22:00:00 |   7.1 | 0 | 5 | 25.6 |\n",
       "| OBS_DEU_PT1H_T2M | Würzburg | 1968-01-14 21:00:00 |   7.0 | 0 | 5 | 25.5 |\n",
       "| OBS_DEU_PT1H_T2M | Würzburg | 1979-01-01 05:00:00 | -16.2 | 0 | 5 | 25.5 |\n",
       "| OBS_DEU_PT1H_T2M | Würzburg | 1968-01-14 20:00:00 |   6.9 | 0 | 5 | 25.4 |\n",
       "| OBS_DEU_PT1H_T2M | Würzburg | 1968-01-14 19:00:00 |   6.8 | 0 | 5 | 25.3 |\n",
       "| OBS_DEU_PT1H_T2M | Würzburg | 1979-01-01 04:00:00 | -15.8 | 0 | 5 | 25.1 |\n",
       "| OBS_DEU_PT1H_T2M | Würzburg | 1968-01-14 23:00:00 |   5.8 | 0 | 5 | 24.9 |\n",
       "| OBS_DEU_PT1H_T2M | Würzburg | 1979-01-01 11:00:00 | -16.3 | 0 | 5 | 24.8 |\n",
       "| OBS_DEU_PT1H_T2M | Würzburg | 1968-01-14 18:00:00 |   6.0 | 0 | 5 | 24.5 |\n",
       "| OBS_DEU_PT1H_T2M | Würzburg | 1968-01-15 00:00:00 |   6.9 | 0 | 5 | 24.1 |\n",
       "| OBS_DEU_PT1H_T2M | Würzburg | 1968-01-14 17:00:00 |   5.4 | 0 | 5 | 23.9 |\n",
       "| OBS_DEU_PT1H_T2M | Würzburg | 1979-01-01 12:00:00 | -15.3 | 0 | 5 | 23.7 |\n",
       "| OBS_DEU_PT1H_T2M | Würzburg | 1968-01-15 03:00:00 |   7.8 | 0 | 5 | 23.7 |\n",
       "| OBS_DEU_PT1H_T2M | Würzburg | 1968-01-15 01:00:00 |   7.1 | 0 | 5 | 23.6 |\n",
       "| OBS_DEU_PT1H_T2M | Würzburg | 1968-01-15 04:00:00 |   8.0 | 0 | 5 | 23.6 |\n",
       "| OBS_DEU_PT1H_T2M | Würzburg | 1979-01-01 03:00:00 | -14.3 | 0 | 5 | 23.6 |\n",
       "| OBS_DEU_PT1H_T2M | Würzburg | 1955-02-27 08:00:00 | -11.7 | 0 | 5 | 23.5 |\n",
       "| OBS_DEU_PT1H_T2M | Würzburg | 1955-02-27 09:00:00 |  -8.7 | 0 | 5 | 23.5 |\n",
       "| OBS_DEU_PT1H_T2M | Würzburg | 1955-02-27 10:00:00 |  -5.3 | 0 | 5 | 23.5 |\n",
       "| OBS_DEU_PT1H_T2M | Würzburg | 1955-02-27 11:00:00 |  -3.8 | 0 | 5 | 23.5 |\n",
       "| OBS_DEU_PT1H_T2M | Würzburg | 1955-02-27 12:00:00 |  -2.6 | 0 | 5 | 23.5 |\n",
       "| OBS_DEU_PT1H_T2M | Würzburg | 1955-02-27 13:00:00 |  -1.3 | 0 | 5 | 23.5 |\n",
       "| OBS_DEU_PT1H_T2M | Würzburg | 1955-02-27 14:00:00 |  -1.2 | 0 | 5 | 23.5 |\n",
       "| OBS_DEU_PT1H_T2M | Würzburg | 1955-02-27 15:00:00 |  -0.3 | 0 | 5 | 23.5 |\n",
       "| OBS_DEU_PT1H_T2M | Würzburg | 1955-02-27 16:00:00 |  -0.8 | 0 | 5 | 23.5 |\n",
       "| ⋮ | ⋮ | ⋮ | ⋮ | ⋮ | ⋮ | ⋮ |\n",
       "| OBS_DEU_PT1H_T2M | Würzburg | 1978-12-04 15:00:00 |  0.1 | 0 | 5 | 0.3 |\n",
       "| OBS_DEU_PT1H_T2M | Würzburg | 1953-12-12 13:00:00 |  5.2 | 0 | 5 | 0.3 |\n",
       "| OBS_DEU_PT1H_T2M | Würzburg | 1953-12-12 14:00:00 |  5.3 | 0 | 5 | 0.2 |\n",
       "| OBS_DEU_PT1H_T2M | Würzburg | 1987-11-28 10:00:00 |  2.0 | 0 | 7 | 0.2 |\n",
       "| OBS_DEU_PT1H_T2M | Würzburg | 1987-11-28 11:00:00 |  2.0 | 0 | 7 | 0.2 |\n",
       "| OBS_DEU_PT1H_T2M | Würzburg | 1987-11-28 12:00:00 |  2.0 | 0 | 7 | 0.2 |\n",
       "| OBS_DEU_PT1H_T2M | Würzburg | 2019-09-10 10:00:00 | 14.7 | 6 | 7 | 0.0 |\n",
       "| OBS_DEU_PT1H_T2M | Würzburg | 1948-01-01 01:00:00 | -2.6 | 0 | 5 |  NA |\n",
       "| OBS_DEU_PT1H_T2M | Würzburg | 1948-01-01 02:00:00 | -1.9 | 0 | 5 |  NA |\n",
       "| OBS_DEU_PT1H_T2M | Würzburg | 1948-01-01 03:00:00 | -1.7 | 0 | 5 |  NA |\n",
       "| OBS_DEU_PT1H_T2M | Würzburg | 1948-01-01 04:00:00 | -1.0 | 0 | 5 |  NA |\n",
       "| OBS_DEU_PT1H_T2M | Würzburg | 1948-01-01 05:00:00 | -0.6 | 0 | 5 |  NA |\n",
       "| OBS_DEU_PT1H_T2M | Würzburg | 1948-01-01 06:00:00 | -0.5 | 0 | 5 |  NA |\n",
       "| OBS_DEU_PT1H_T2M | Würzburg | 1948-01-01 07:00:00 | -0.6 | 0 | 5 |  NA |\n",
       "| OBS_DEU_PT1H_T2M | Würzburg | 1948-01-01 08:00:00 | -0.5 | 0 | 5 |  NA |\n",
       "| OBS_DEU_PT1H_T2M | Würzburg | 1948-01-01 09:00:00 | -0.5 | 0 | 5 |  NA |\n",
       "| OBS_DEU_PT1H_T2M | Würzburg | 1948-01-01 10:00:00 | -0.4 | 0 | 5 |  NA |\n",
       "| OBS_DEU_PT1H_T2M | Würzburg | 1948-01-01 11:00:00 |  0.0 | 0 | 5 |  NA |\n",
       "| OBS_DEU_PT1H_T2M | Würzburg | 1948-01-01 12:00:00 |  0.6 | 0 | 5 |  NA |\n",
       "| OBS_DEU_PT1H_T2M | Würzburg | 1948-01-01 13:00:00 |  0.7 | 0 | 5 |  NA |\n",
       "| OBS_DEU_PT1H_T2M | Würzburg | 1948-01-01 14:00:00 |  0.8 | 0 | 5 |  NA |\n",
       "| OBS_DEU_PT1H_T2M | Würzburg | 1948-01-01 15:00:00 |  0.7 | 0 | 5 |  NA |\n",
       "| OBS_DEU_PT1H_T2M | Würzburg | 1948-01-01 16:00:00 |  0.7 | 0 | 5 |  NA |\n",
       "| OBS_DEU_PT1H_T2M | Würzburg | 1948-01-01 17:00:00 |  0.8 | 0 | 5 |  NA |\n",
       "| OBS_DEU_PT1H_T2M | Würzburg | 1948-01-01 18:00:00 |  1.0 | 0 | 5 |  NA |\n",
       "| OBS_DEU_PT1H_T2M | Würzburg | 1948-01-01 19:00:00 |  1.6 | 0 | 5 |  NA |\n",
       "| OBS_DEU_PT1H_T2M | Würzburg | 1948-01-01 20:00:00 |  1.8 | 0 | 5 |  NA |\n",
       "| OBS_DEU_PT1H_T2M | Würzburg | 1948-01-01 21:00:00 |  2.0 | 0 | 5 |  NA |\n",
       "| OBS_DEU_PT1H_T2M | Würzburg | 1948-01-01 22:00:00 |  2.8 | 0 | 5 |  NA |\n",
       "| OBS_DEU_PT1H_T2M | Würzburg | 1948-01-01 23:00:00 |  2.9 | 0 | 5 |  NA |\n",
       "\n"
      ],
      "text/plain": [
       "       Produkt_Code     SDO_ID   Zeitstempel         Wert  Qualitaet_Byte\n",
       "1      OBS_DEU_PT1H_T2M Würzburg 1979-01-01 06:00:00 -16.8 0             \n",
       "2      OBS_DEU_PT1H_T2M Würzburg 1979-01-01 07:00:00 -16.4 0             \n",
       "3      OBS_DEU_PT1H_T2M Würzburg 1979-01-01 08:00:00 -16.2 0             \n",
       "4      OBS_DEU_PT1H_T2M Würzburg 1979-01-01 09:00:00 -16.2 0             \n",
       "5      OBS_DEU_PT1H_T2M Würzburg 1979-01-01 10:00:00 -16.3 0             \n",
       "6      OBS_DEU_PT1H_T2M Würzburg 1968-01-14 22:00:00   7.1 0             \n",
       "7      OBS_DEU_PT1H_T2M Würzburg 1968-01-14 21:00:00   7.0 0             \n",
       "8      OBS_DEU_PT1H_T2M Würzburg 1979-01-01 05:00:00 -16.2 0             \n",
       "9      OBS_DEU_PT1H_T2M Würzburg 1968-01-14 20:00:00   6.9 0             \n",
       "10     OBS_DEU_PT1H_T2M Würzburg 1968-01-14 19:00:00   6.8 0             \n",
       "11     OBS_DEU_PT1H_T2M Würzburg 1979-01-01 04:00:00 -15.8 0             \n",
       "12     OBS_DEU_PT1H_T2M Würzburg 1968-01-14 23:00:00   5.8 0             \n",
       "13     OBS_DEU_PT1H_T2M Würzburg 1979-01-01 11:00:00 -16.3 0             \n",
       "14     OBS_DEU_PT1H_T2M Würzburg 1968-01-14 18:00:00   6.0 0             \n",
       "15     OBS_DEU_PT1H_T2M Würzburg 1968-01-15 00:00:00   6.9 0             \n",
       "16     OBS_DEU_PT1H_T2M Würzburg 1968-01-14 17:00:00   5.4 0             \n",
       "17     OBS_DEU_PT1H_T2M Würzburg 1979-01-01 12:00:00 -15.3 0             \n",
       "18     OBS_DEU_PT1H_T2M Würzburg 1968-01-15 03:00:00   7.8 0             \n",
       "19     OBS_DEU_PT1H_T2M Würzburg 1968-01-15 01:00:00   7.1 0             \n",
       "20     OBS_DEU_PT1H_T2M Würzburg 1968-01-15 04:00:00   8.0 0             \n",
       "21     OBS_DEU_PT1H_T2M Würzburg 1979-01-01 03:00:00 -14.3 0             \n",
       "22     OBS_DEU_PT1H_T2M Würzburg 1955-02-27 08:00:00 -11.7 0             \n",
       "23     OBS_DEU_PT1H_T2M Würzburg 1955-02-27 09:00:00  -8.7 0             \n",
       "24     OBS_DEU_PT1H_T2M Würzburg 1955-02-27 10:00:00  -5.3 0             \n",
       "25     OBS_DEU_PT1H_T2M Würzburg 1955-02-27 11:00:00  -3.8 0             \n",
       "26     OBS_DEU_PT1H_T2M Würzburg 1955-02-27 12:00:00  -2.6 0             \n",
       "27     OBS_DEU_PT1H_T2M Würzburg 1955-02-27 13:00:00  -1.3 0             \n",
       "28     OBS_DEU_PT1H_T2M Würzburg 1955-02-27 14:00:00  -1.2 0             \n",
       "29     OBS_DEU_PT1H_T2M Würzburg 1955-02-27 15:00:00  -0.3 0             \n",
       "30     OBS_DEU_PT1H_T2M Würzburg 1955-02-27 16:00:00  -0.8 0             \n",
       "⋮      ⋮                ⋮        ⋮                   ⋮     ⋮             \n",
       "645850 OBS_DEU_PT1H_T2M Würzburg 1978-12-04 15:00:00  0.1  0             \n",
       "645851 OBS_DEU_PT1H_T2M Würzburg 1953-12-12 13:00:00  5.2  0             \n",
       "645852 OBS_DEU_PT1H_T2M Würzburg 1953-12-12 14:00:00  5.3  0             \n",
       "645853 OBS_DEU_PT1H_T2M Würzburg 1987-11-28 10:00:00  2.0  0             \n",
       "645854 OBS_DEU_PT1H_T2M Würzburg 1987-11-28 11:00:00  2.0  0             \n",
       "645855 OBS_DEU_PT1H_T2M Würzburg 1987-11-28 12:00:00  2.0  0             \n",
       "645856 OBS_DEU_PT1H_T2M Würzburg 2019-09-10 10:00:00 14.7  6             \n",
       "645857 OBS_DEU_PT1H_T2M Würzburg 1948-01-01 01:00:00 -2.6  0             \n",
       "645858 OBS_DEU_PT1H_T2M Würzburg 1948-01-01 02:00:00 -1.9  0             \n",
       "645859 OBS_DEU_PT1H_T2M Würzburg 1948-01-01 03:00:00 -1.7  0             \n",
       "645860 OBS_DEU_PT1H_T2M Würzburg 1948-01-01 04:00:00 -1.0  0             \n",
       "645861 OBS_DEU_PT1H_T2M Würzburg 1948-01-01 05:00:00 -0.6  0             \n",
       "645862 OBS_DEU_PT1H_T2M Würzburg 1948-01-01 06:00:00 -0.5  0             \n",
       "645863 OBS_DEU_PT1H_T2M Würzburg 1948-01-01 07:00:00 -0.6  0             \n",
       "645864 OBS_DEU_PT1H_T2M Würzburg 1948-01-01 08:00:00 -0.5  0             \n",
       "645865 OBS_DEU_PT1H_T2M Würzburg 1948-01-01 09:00:00 -0.5  0             \n",
       "645866 OBS_DEU_PT1H_T2M Würzburg 1948-01-01 10:00:00 -0.4  0             \n",
       "645867 OBS_DEU_PT1H_T2M Würzburg 1948-01-01 11:00:00  0.0  0             \n",
       "645868 OBS_DEU_PT1H_T2M Würzburg 1948-01-01 12:00:00  0.6  0             \n",
       "645869 OBS_DEU_PT1H_T2M Würzburg 1948-01-01 13:00:00  0.7  0             \n",
       "645870 OBS_DEU_PT1H_T2M Würzburg 1948-01-01 14:00:00  0.8  0             \n",
       "645871 OBS_DEU_PT1H_T2M Würzburg 1948-01-01 15:00:00  0.7  0             \n",
       "645872 OBS_DEU_PT1H_T2M Würzburg 1948-01-01 16:00:00  0.7  0             \n",
       "645873 OBS_DEU_PT1H_T2M Würzburg 1948-01-01 17:00:00  0.8  0             \n",
       "645874 OBS_DEU_PT1H_T2M Würzburg 1948-01-01 18:00:00  1.0  0             \n",
       "645875 OBS_DEU_PT1H_T2M Würzburg 1948-01-01 19:00:00  1.6  0             \n",
       "645876 OBS_DEU_PT1H_T2M Würzburg 1948-01-01 20:00:00  1.8  0             \n",
       "645877 OBS_DEU_PT1H_T2M Würzburg 1948-01-01 21:00:00  2.0  0             \n",
       "645878 OBS_DEU_PT1H_T2M Würzburg 1948-01-01 22:00:00  2.8  0             \n",
       "645879 OBS_DEU_PT1H_T2M Würzburg 1948-01-01 23:00:00  2.9  0             \n",
       "       Qualitaet_Niveau span_last_24h\n",
       "1      5                26.1         \n",
       "2      5                26.1         \n",
       "3      5                26.1         \n",
       "4      5                25.9         \n",
       "5      5                25.9         \n",
       "6      5                25.6         \n",
       "7      5                25.5         \n",
       "8      5                25.5         \n",
       "9      5                25.4         \n",
       "10     5                25.3         \n",
       "11     5                25.1         \n",
       "12     5                24.9         \n",
       "13     5                24.8         \n",
       "14     5                24.5         \n",
       "15     5                24.1         \n",
       "16     5                23.9         \n",
       "17     5                23.7         \n",
       "18     5                23.7         \n",
       "19     5                23.6         \n",
       "20     5                23.6         \n",
       "21     5                23.6         \n",
       "22     5                23.5         \n",
       "23     5                23.5         \n",
       "24     5                23.5         \n",
       "25     5                23.5         \n",
       "26     5                23.5         \n",
       "27     5                23.5         \n",
       "28     5                23.5         \n",
       "29     5                23.5         \n",
       "30     5                23.5         \n",
       "⋮      ⋮                ⋮            \n",
       "645850 5                0.3          \n",
       "645851 5                0.3          \n",
       "645852 5                0.2          \n",
       "645853 7                0.2          \n",
       "645854 7                0.2          \n",
       "645855 7                0.2          \n",
       "645856 7                0.0          \n",
       "645857 5                 NA          \n",
       "645858 5                 NA          \n",
       "645859 5                 NA          \n",
       "645860 5                 NA          \n",
       "645861 5                 NA          \n",
       "645862 5                 NA          \n",
       "645863 5                 NA          \n",
       "645864 5                 NA          \n",
       "645865 5                 NA          \n",
       "645866 5                 NA          \n",
       "645867 5                 NA          \n",
       "645868 5                 NA          \n",
       "645869 5                 NA          \n",
       "645870 5                 NA          \n",
       "645871 5                 NA          \n",
       "645872 5                 NA          \n",
       "645873 5                 NA          \n",
       "645874 5                 NA          \n",
       "645875 5                 NA          \n",
       "645876 5                 NA          \n",
       "645877 5                 NA          \n",
       "645878 5                 NA          \n",
       "645879 5                 NA          "
      ]
     },
     "execution_count": 38,
     "metadata": {
     },
     "output_type": "execute_result"
    }
   ],
   "source": [
    "data %>%\n",
    "    mutate(span_last_24h = slide_index_dbl(Wert, Zeitstempel, ~diff(range(.x)), .before = lubridate::hours(23), .complete=TRUE)) %>%\n",
    "    arrange(-span_last_24h)"
   ]
  },
  {
   "cell_type": "code",
   "execution_count": 41,
   "metadata": {
    "collapsed": false
   },
   "outputs": [
    {
     "data": {
      "image/png": "[encoded data removed]",
      "text/plain": [
       "plot without title"
      ]
     },
     "execution_count": 41,
     "metadata": {
      "image/png": {
       "height": 420,
       "width": 420
      }
     },
     "output_type": "execute_result"
    }
   ],
   "source": [
    "data %>% filter(Zeitstempel<ymd(\"1979-01-02\"), Zeitstempel>=ymd(\"1978-12-31\")) %>% ggplot(aes(Zeitstempel, Wert)) + geom_line()"
   ]
  },
  {
   "cell_type": "markdown",
   "metadata": {
    "collapsed": false
   },
   "source": [
    "Die größte Differenz gab es an Neujahr 1979 als die Temperatur über Nacht von fast 10°C um 26,1°C auf -16,8°C fiel. Dagegen ist die angeblich geringste Differenz innerhalb eines Tages am 10. September 2019 (0,0°C Schwankung) ein Artefakt auf Grund fehlender Daten."
   ]
  },
  {
   "cell_type": "code",
   "execution_count": 43,
   "metadata": {
    "collapsed": false
   },
   "outputs": [
    {
     "data": {
      "image/png": "[encoded data removed]",
      "text/plain": [
       "plot without title"
      ]
     },
     "execution_count": 43,
     "metadata": {
      "image/png": {
       "height": 420,
       "width": 420
      }
     },
     "output_type": "execute_result"
    }
   ],
   "source": [
    "data %>% filter(Zeitstempel<ymd(\"2019-09-11\"), Zeitstempel>=ymd(\"2019-09-08\")) %>% ggplot(aes(Zeitstempel, Wert)) + geom_line()"
   ]
  },
  {
   "cell_type": "code",
   "execution_count": 0,
   "metadata": {
    "collapsed": false
   },
   "outputs": [
   ],
   "source": [
   ]
  }
 ],
 "metadata": {
  "kernelspec": {
   "display_name": "R (system-wide)",
   "language": "r",
   "metadata": {
    "cocalc": {
     "description": "R statistical programming language",
     "priority": 10,
     "url": "https://www.r-project.org/"
    }
   },
   "name": "ir",
   "resource_dir": "/ext/jupyter/kernels/ir"
  },
  "language_info": {
   "codemirror_mode": "r",
   "file_extension": ".r",
   "mimetype": "text/x-r-source",
   "name": "R",
   "pygments_lexer": "r",
   "version": "4.1.1"
  }
 },
 "nbformat": 4,
 "nbformat_minor": 4
}