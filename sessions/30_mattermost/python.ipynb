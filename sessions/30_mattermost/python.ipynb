{
 "cells": [
  {
   "cell_type": "markdown",
   "id": "273f6f",
   "metadata": {
    "collapsed": false
   },
   "source": [
    "# Mattermost Lunch Channel History\n",
    "\n",
    "- Data Source: [Mattermost API](https://api.mattermost.com/), [CCTB instance](https://cctb-intern.biologie.uni-wuerzburg.de/)\n",
    "- Tasks:\n",
    "\t- Part I - June 2024: retrieving chat history data through the mattermost API\n",
    "\t- Part II - September 2024: analyzing messages in the lunch channel\n",
    "\t- Part III - September 2024: specific tasks\n",
    "- Language: [python](https://www.python.org/)\n",
    "\n",
    "## Select one of the following tasks\n",
    "\n",
    "> General comment: your estimate in step 1 does not need to be perfect, settle for a heuristic that is good enough\n",
    "\n",
    "### Task A - most crowded day of the week\n",
    "- estimate the total number of people having lunch (or coffee) at the CCTB/mensa for each day → when was the time that most people went to lunch?\n",
    "- plot the number of people per day over time (also try to summarize by week/month/year)\n",
    "- plot a boxplot for the number of people per day of the week → what is the most crowded day of the week?\n",
    "- make the same plot as above, but separately for every month/year → is there a shift in day of the week preference?\n",
    "- perform a statistical test for the hypothesis: \"Mondays and Fridays are less crowded than Tuesday to Thursday\"\n",
    "- discuss caveats of the data and methods used\n",
    "\n",
    "### Task B - lunch time\n",
    "- estimate the time of lunch/coffee for each day → when was the most popular time?\n",
    "    - try to consider proposed times (\"mensa at 12?\", \"11:15?\")\n",
    "    - direct calls (\"mensa?\", \"now\")\n",
    "    - relative times (\"lunch in 5min\", \"mensa in half an hour?\")\n",
    "- plot the lunch time over the years (also try to summarize by week/month/year) → is there a trend (gradual shift or break point(s)) in lunch time?\n",
    "- plot a boxplot for the lunch time per day of the week → is there a difference in lunch time per day of the week?\n",
    "- make the same plot as above, but separately for every month/year → is the pattern above consistent over the year(s)?\n",
    "- perform a statistical test for the hypothesis: \"Lunch time is later during semester break (April,May,August,September) than during lecture period since 2022\"\n",
    "- discuss caveats of the data and methods used\n",
    "\n",
    "### Task C - your own idea\n",
    "If you have other ideas, feel free to follow them, but create a plan similar to that for Task A and B above, before you start."
   ]
  },
  {
   "cell_type": "code",
   "execution_count": 3,
   "id": "b6e4ae",
   "metadata": {
    "collapsed": false
   },
   "outputs": [
   ],
   "source": [
    "import numpy as np"
   ]
  },
  {
   "cell_type": "code",
   "execution_count": 4,
   "id": "b0a2e8",
   "metadata": {
    "collapsed": false
   },
   "outputs": [
    {
     "data": {
      "text/plain": [
       "'Magdalena → Robin → Felix → Dominik → Joel'"
      ]
     },
     "execution_count": 4,
     "metadata": {
     },
     "output_type": "execute_result"
    }
   ],
   "source": [
    "np.random.seed(42)\n",
    "\" → \".join(np.random.permutation(\"Dominik Magdalena Felix Joel Robin\".split()))"
   ]
  },
  {
   "cell_type": "markdown",
   "id": "f5a739",
   "metadata": {
    "collapsed": false
   },
   "source": [
    "## 1. Data loading\n",
    "\n",
    "Load files:\n",
    "- `messages.csv`\n",
    "- `reactions.csv`\n",
    "- `files.csv`"
   ]
  },
  {
   "cell_type": "code",
   "execution_count": 5,
   "id": "7453ac",
   "metadata": {
    "collapsed": false
   },
   "outputs": [
   ],
   "source": [
    "import pandas as pd\n",
    "import matplotlib.pyplot as plt"
   ]
  },
  {
   "cell_type": "code",
   "execution_count": 6,
   "id": "8a6dac",
   "metadata": {
    "collapsed": false
   },
   "outputs": [
   ],
   "source": [
    "messages = pd.read_csv('messages.csv')\n",
    "reactions = pd.read_csv('reactions.csv')\n",
    "files = pd.read_csv('files.csv')"
   ]
  }
 ],
 "metadata": {
  "kernelspec": {
   "argv": [
    "/usr/bin/python3",
    "-m",
    "ipykernel",
    "--HistoryManager.enabled=False",
    "--matplotlib=inline",
    "-c",
    "%config InlineBackend.figure_formats = set(['retina'])\nimport matplotlib; matplotlib.rcParams['figure.figsize'] = (12, 7)",
    "-f",
    "{connection_file}"
   ],
   "display_name": "Python 3 (system-wide)",
   "env": {
   },
   "language": "python",
   "metadata": {
    "cocalc": {
     "description": "Python 3 programming language",
     "priority": 100,
     "url": "https://www.python.org/"
    }
   },
   "name": "python3",
   "resource_dir": "/ext/jupyter/kernels/python3"
  },
  "language_info": {
   "codemirror_mode": {
    "name": "ipython",
    "version": 3
   },
   "file_extension": ".py",
   "mimetype": "text/x-python",
   "name": "python",
   "nbconvert_exporter": "python",
   "pygments_lexer": "ipython3",
   "version": "3.10.12"
  }
 },
 "nbformat": 4,
 "nbformat_minor": 4
}