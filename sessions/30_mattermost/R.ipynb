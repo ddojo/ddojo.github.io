{
 "cells": [
  {
   "cell_type": "markdown",
   "id": "7ff600",
   "metadata": {
    "collapsed": false
   },
   "source": [
    "# Mattermost Lunch Channel History\n",
    "\n",
    "- Data Source: [Mattermost API](https://api.mattermost.com/), [CCTB instance](https://cctb-intern.biologie.uni-wuerzburg.de/)\n",
    "- Tasks:\n",
    "\t- Part I - June 2024: retrieving chat history data through the mattermost API\n",
    "\t- Part II - September 2024: analyzing messages in the lunch channel\n",
    "\t- Part III - September 2024: specific tasks\n",
    "- Language: [R](https://www.r-project.org/)\n",
    "\n",
    "## Select one of the following tasks\n",
    "\n",
    "> General comment: your estimate in step 1 does not need to be perfect, settle for a heuristic that is good enough\n",
    "\n",
    "### Task A - most crowded day of the week\n",
    "- estimate the total number of people having lunch (or coffee) at the CCTB/mensa for each day → when was the time that most people went to lunch?\n",
    "- plot the number of people per day over time (also try to summarize by week/month/year)\n",
    "- plot a boxplot for the number of people per day of the week → what is the most crowded day of the week?\n",
    "- make the same plot as above, but separately for every month/year → is there a shift in day of the week preference?\n",
    "- perform a statistical test for the hypothesis: \"Mondays and Fridays are less crowded than Tuesday to Thursday\"\n",
    "- discuss caveats of the data and methods used\n",
    "\n",
    "### Task B - lunch time\n",
    "- estimate the time of lunch/coffee for each day → when was the most popular time?\n",
    "    - try to consider proposed times (\"mensa at 12?\", \"11:15?\")\n",
    "    - direct calls (\"mensa?\", \"now\")\n",
    "    - relative times (\"lunch in 5min\", \"mensa in half an hour?\")\n",
    "- plot the lunch time over the years (also try to summarize by week/month/year) → is there a trend (gradual shift or break point(s)) in lunch time?\n",
    "- plot a boxplot for the lunch time per day of the week → is there a difference in lunch time per day of the week?\n",
    "- make the same plot as above, but separately for every month/year → is the pattern above consistent over the year(s)?\n",
    "- perform a statistical test for the hypothesis: \"Lunch time is later during semester break (April,May,August,September) than during lecture period since 2022\"\n",
    "- discuss caveats of the data and methods used\n",
    "\n",
    "### Task C - your own idea\n",
    "If you have other ideas, feel free to follow them, but create a plan similar to that for Task A and B above, before you start."
   ]
  },
  {
   "cell_type": "code",
   "execution_count": 1,
   "id": "d8a7c7",
   "metadata": {
    "collapsed": false,
    "vscode": {
     "languageId": "r"
    }
   },
   "outputs": [
    {
     "name": "stderr",
     "output_type": "stream",
     "text": [
      "── \u001b[1mAttaching core tidyverse packages\u001b[22m ──────────────────────── tidyverse 2.0.0 ──\n",
      "\u001b[32m✔\u001b[39m \u001b[34mdplyr    \u001b[39m 1.1.4     \u001b[32m✔\u001b[39m \u001b[34mreadr    \u001b[39m 2.1.5\n",
      "\u001b[32m✔\u001b[39m \u001b[34mforcats  \u001b[39m 1.0.0     \u001b[32m✔\u001b[39m \u001b[34mstringr  \u001b[39m 1.5.1\n",
      "\u001b[32m✔\u001b[39m \u001b[34mggplot2  \u001b[39m 3.5.0     \u001b[32m✔\u001b[39m \u001b[34mtibble   \u001b[39m 3.2.1\n",
      "\u001b[32m✔\u001b[39m \u001b[34mlubridate\u001b[39m 1.9.3     \u001b[32m✔\u001b[39m \u001b[34mtidyr    \u001b[39m 1.3.1\n",
      "\u001b[32m✔\u001b[39m \u001b[34mpurrr    \u001b[39m 1.0.2     \n"
     ]
    },
    {
     "name": "stderr",
     "output_type": "stream",
     "text": [
      "── \u001b[1mConflicts\u001b[22m ────────────────────────────────────────── tidyverse_conflicts() ──\n",
      "\u001b[31m✖\u001b[39m \u001b[34mpurrr\u001b[39m::\u001b[32m%||%()\u001b[39m   masks \u001b[34mbase\u001b[39m::%||%()\n",
      "\u001b[31m✖\u001b[39m \u001b[34mdplyr\u001b[39m::\u001b[32mfilter()\u001b[39m masks \u001b[34mstats\u001b[39m::filter()\n",
      "\u001b[31m✖\u001b[39m \u001b[34mdplyr\u001b[39m::\u001b[32mlag()\u001b[39m    masks \u001b[34mstats\u001b[39m::lag()\n",
      "\u001b[36mℹ\u001b[39m Use the conflicted package (\u001b[3m\u001b[34m<http://conflicted.r-lib.org/>\u001b[39m\u001b[23m) to force all conflicts to become errors\n"
     ]
    }
   ],
   "source": [
    "library(tidyverse)"
   ]
  },
  {
   "cell_type": "code",
   "execution_count": 2,
   "id": "db3b14",
   "metadata": {
    "collapsed": false,
    "vscode": {
     "languageId": "r"
    }
   },
   "outputs": [
   ],
   "source": [
    "theme_set(theme_light())"
   ]
  },
  {
   "cell_type": "code",
   "execution_count": 3,
   "id": "4f6a00",
   "metadata": {
    "collapsed": false,
    "vscode": {
     "languageId": "r"
    }
   },
   "outputs": [
    {
     "data": {
      "text/html": [
       "'Jana → Markus → Mike → Sascha'"
      ],
      "text/latex": [
       "'Jana → Markus → Mike → Sascha'"
      ],
      "text/markdown": [
       "'Jana → Markus → Mike → Sascha'"
      ],
      "text/plain": [
       "[1] \"Jana → Markus → Mike → Sascha\""
      ]
     },
     "execution_count": 3,
     "metadata": {
     },
     "output_type": "execute_result"
    }
   ],
   "source": [
    "set.seed(42)\n",
    "\"Jana Sascha Mike Markus\" %>%  str_split(\" \") %>% unlist %>% sample %>% str_c(collapse=\" → \")"
   ]
  },
  {
   "cell_type": "markdown",
   "id": "16b235",
   "metadata": {
    "collapsed": false
   },
   "source": [
    "## 1. Data loading\n",
    "\n",
    "Load files:\n",
    "- `messages.csv`\n",
    "- `reactions.csv`\n",
    "- `files.csv`"
   ]
  },
  {
   "cell_type": "code",
   "execution_count": 4,
   "id": "012f98",
   "metadata": {
    "collapsed": false
   },
   "outputs": [
    {
     "name": "stderr",
     "output_type": "stream",
     "text": [
      "\u001b[1mRows: \u001b[22m\u001b[34m6949\u001b[39m \u001b[1mColumns: \u001b[22m\u001b[34m6\u001b[39m\n"
     ]
    },
    {
     "name": "stderr",
     "output_type": "stream",
     "text": [
      "\u001b[36m──\u001b[39m \u001b[1mColumn specification\u001b[22m \u001b[36m────────────────────────────────────────────────────────\u001b[39m\n",
      "\u001b[1mDelimiter:\u001b[22m \",\"\n",
      "\u001b[31mchr\u001b[39m  (3): post_id, message, username\n",
      "\u001b[32mdbl\u001b[39m  (2): num_reactions, num_files\n",
      "\u001b[34mdttm\u001b[39m (1): create_at\n"
     ]
    },
    {
     "name": "stderr",
     "output_type": "stream",
     "text": [
      "\n",
      "\u001b[36mℹ\u001b[39m Use `spec()` to retrieve the full column specification for this data.\n",
      "\u001b[36mℹ\u001b[39m Specify the column types or set `show_col_types = FALSE` to quiet this message.\n"
     ]
    },
    {
     "name": "stderr",
     "output_type": "stream",
     "text": [
      "\u001b[1mRows: \u001b[22m\u001b[34m3630\u001b[39m \u001b[1mColumns: \u001b[22m\u001b[34m5\u001b[39m\n"
     ]
    },
    {
     "name": "stderr",
     "output_type": "stream",
     "text": [
      "\u001b[36m──\u001b[39m \u001b[1mColumn specification\u001b[22m \u001b[36m────────────────────────────────────────────────────────\u001b[39m\n",
      "\u001b[1mDelimiter:\u001b[22m \",\"\n",
      "\u001b[31mchr\u001b[39m  (4): post_id, emoji_name, username, emoji\n",
      "\u001b[34mdttm\u001b[39m (1): create_at\n"
     ]
    },
    {
     "name": "stderr",
     "output_type": "stream",
     "text": [
      "\n",
      "\u001b[36mℹ\u001b[39m Use `spec()` to retrieve the full column specification for this data.\n",
      "\u001b[36mℹ\u001b[39m Specify the column types or set `show_col_types = FALSE` to quiet this message.\n"
     ]
    },
    {
     "name": "stderr",
     "output_type": "stream",
     "text": [
      "\u001b[1mRows: \u001b[22m\u001b[34m221\u001b[39m \u001b[1mColumns: \u001b[22m\u001b[34m3\u001b[39m\n"
     ]
    },
    {
     "name": "stderr",
     "output_type": "stream",
     "text": [
      "\u001b[36m──\u001b[39m \u001b[1mColumn specification\u001b[22m \u001b[36m────────────────────────────────────────────────────────\u001b[39m\n",
      "\u001b[1mDelimiter:\u001b[22m \",\"\n",
      "\u001b[31mchr\u001b[39m (3): post_id, file_id, link\n"
     ]
    },
    {
     "name": "stderr",
     "output_type": "stream",
     "text": [
      "\n",
      "\u001b[36mℹ\u001b[39m Use `spec()` to retrieve the full column specification for this data.\n",
      "\u001b[36mℹ\u001b[39m Specify the column types or set `show_col_types = FALSE` to quiet this message.\n"
     ]
    }
   ],
   "source": [
    "messages <- read_csv(\"messages.csv\")\n",
    "reactions <- read_csv(\"reactions.csv\")\n",
    "files <- read_csv(\"files.csv\")"
   ]
  }
 ],
 "metadata": {
  "kernelspec": {
   "argv": [
    "/usr/bin/R",
    "-e",
    "IRkernel::main()",
    "--args",
    "{connection_file}"
   ],
   "display_name": "R (system-wide)",
   "env": {
   },
   "language": "r",
   "metadata": {
    "cocalc": {
     "description": "R statistical programming language",
     "priority": 10,
     "url": "https://www.r-project.org/"
    }
   },
   "name": "ir",
   "resource_dir": "/ext/jupyter/kernels/ir"
  },
  "language_info": {
   "codemirror_mode": "r",
   "file_extension": ".r",
   "mimetype": "text/x-r-source",
   "name": "R",
   "pygments_lexer": "r",
   "version": "4.4.1"
  }
 },
 "nbformat": 4,
 "nbformat_minor": 4
}