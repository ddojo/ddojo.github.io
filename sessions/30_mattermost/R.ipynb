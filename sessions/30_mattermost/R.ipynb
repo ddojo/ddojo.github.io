{
 "cells": [
  {
   "cell_type": "markdown",
   "id": "7ff600",
   "metadata": {
    "collapsed": false
   },
   "source": [
    "# Mattermost Lunch Channel History\n",
    "\n",
    "- Data Source: [Mattermost API](https://api.mattermost.com/), [CCTB instance](https://cctb-intern.biologie.uni-wuerzburg.de/)\n",
    "- Tasks:\n",
    "\t- Part I - June 2024: retrieving chat history data through the mattermost API\n",
    "\t- Part II - September 2024: analyzing messages in the lunch channel\n",
    "\t- Part III - September 2024: specific tasks\n",
    "- Language: [R](https://www.r-project.org/)\n",
    "\n",
    "## Select one of the following tasks\n",
    "\n",
    "> General comment: your estimate in step 1 does not need to be perfect, settle for a heuristic that is good enough\n",
    "\n",
    "### Task A - most crowded day of the week\n",
    "- estimate the total number of people having lunch (or coffee) at the CCTB/mensa for each day → when was the time that most people went to lunch?\n",
    "- plot the number of people per day over time (also try to summarize by week/month/year)\n",
    "- plot a boxplot for the number of people per day of the week → what is the most crowded day of the week?\n",
    "- make the same plot as above, but separately for every month/year → is there a shift in day of the week preference?\n",
    "- perform a statistical test for the hypothesis: \"Mondays and Fridays are less crowded than Tuesday and Thursday\"\n",
    "- discuss caveats of the data and methods used\n",
    "\n",
    "### Task B - lunch time\n",
    "- estimate the time of lunch/coffee for each day → when was the most popular time?\n",
    "    - try to consider proposed times (\"mensa at 12?\", \"11:15?\")\n",
    "    - direct calls (\"mensa?\", \"now\")\n",
    "    - relative times (\"lunch in 5min\", \"mensa in half an hour?\")\n",
    "- plot the lunch time over the years (also try to summarize by week/month/year) → is there a trend (gradual shift or break point(s)) in lunch time?\n",
    "- plot a boxplot for the lunch time per day of the week → is there a difference in lunch time per day of the week?\n",
    "- make the same plot as above, but separately for every month/year → is the pattern above consistent over the year(s)?\n",
    "- perform a statistical test for the hypothesis: \"Lunch time is later during semester break (April,May,August,September) than during lecture period since 2022\"\n",
    "- discuss caveats of the data and methods used\n",
    "\n",
    "### Task C - your own idea\n",
    "If you have other ideas, feel free to follow them, but create a plan similar to that for Task A and B above, before you start."
   ]
  },
  {
   "cell_type": "code",
   "execution_count": 3,
   "id": "d8a7c7",
   "metadata": {
    "collapsed": false,
    "vscode": {
     "languageId": "r"
    }
   },
   "outputs": [
    {
     "name": "stderr",
     "output_type": "stream",
     "text": [
      "── \u001b[1mAttaching core tidyverse packages\u001b[22m ──────────────────────── tidyverse 2.0.0 ──\n",
      "\u001b[32m✔\u001b[39m \u001b[34mdplyr    \u001b[39m 1.1.4     \u001b[32m✔\u001b[39m \u001b[34mreadr    \u001b[39m 2.1.5\n",
      "\u001b[32m✔\u001b[39m \u001b[34mforcats  \u001b[39m 1.0.0     \u001b[32m✔\u001b[39m \u001b[34mstringr  \u001b[39m 1.5.1\n",
      "\u001b[32m✔\u001b[39m \u001b[34mggplot2  \u001b[39m 3.5.0     \u001b[32m✔\u001b[39m \u001b[34mtibble   \u001b[39m 3.2.1\n",
      "\u001b[32m✔\u001b[39m \u001b[34mlubridate\u001b[39m 1.9.3     \u001b[32m✔\u001b[39m \u001b[34mtidyr    \u001b[39m 1.3.1\n",
      "\u001b[32m✔\u001b[39m \u001b[34mpurrr    \u001b[39m 1.0.2     \n"
     ]
    },
    {
     "name": "stderr",
     "output_type": "stream",
     "text": [
      "── \u001b[1mConflicts\u001b[22m ────────────────────────────────────────── tidyverse_conflicts() ──\n",
      "\u001b[31m✖\u001b[39m \u001b[34mpurrr\u001b[39m::\u001b[32m%||%()\u001b[39m   masks \u001b[34mbase\u001b[39m::%||%()\n",
      "\u001b[31m✖\u001b[39m \u001b[34mdplyr\u001b[39m::\u001b[32mfilter()\u001b[39m masks \u001b[34mstats\u001b[39m::filter()\n",
      "\u001b[31m✖\u001b[39m \u001b[34mdplyr\u001b[39m::\u001b[32mlag()\u001b[39m    masks \u001b[34mstats\u001b[39m::lag()\n",
      "\u001b[36mℹ\u001b[39m Use the conflicted package (\u001b[3m\u001b[34m<http://conflicted.r-lib.org/>\u001b[39m\u001b[23m) to force all conflicts to become errors\n"
     ]
    }
   ],
   "source": [
    "library(tidyverse)"
   ]
  },
  {
   "cell_type": "code",
   "execution_count": 4,
   "id": "db3b14",
   "metadata": {
    "collapsed": false,
    "vscode": {
     "languageId": "r"
    }
   },
   "outputs": [
   ],
   "source": [
    "theme_set(theme_light())"
   ]
  },
  {
   "cell_type": "code",
   "execution_count": 5,
   "id": "4f6a00",
   "metadata": {
    "collapsed": false,
    "vscode": {
     "languageId": "r"
    }
   },
   "outputs": [
    {
     "data": {
      "text/html": [
       "'Sabine → Markus → Mike → Sascha → Jana'"
      ],
      "text/latex": [
       "'Sabine → Markus → Mike → Sascha → Jana'"
      ],
      "text/markdown": [
       "'Sabine → Markus → Mike → Sascha → Jana'"
      ],
      "text/plain": [
       "[1] \"Sabine → Markus → Mike → Sascha → Jana\""
      ]
     },
     "execution_count": 5,
     "metadata": {
     },
     "output_type": "execute_result"
    }
   ],
   "source": [
    "set.seed(42)\n",
    "\"Sabine Jana Sascha Mike Markus\" %>%  str_split(\" \") %>% unlist %>% sample %>% str_c(collapse=\" → \")"
   ]
  },
  {
   "cell_type": "markdown",
   "id": "16b235",
   "metadata": {
    "collapsed": false
   },
   "source": [
    "## 1. Data loading\n",
    "\n",
    "Load files:\n",
    "- `messages.csv`\n",
    "- `reactions.csv`\n",
    "- `files.csv`"
   ]
  },
  {
   "cell_type": "code",
   "execution_count": 6,
   "id": "012f98",
   "metadata": {
    "collapsed": false
   },
   "outputs": [
    {
     "name": "stderr",
     "output_type": "stream",
     "text": [
      "\u001b[1mRows: \u001b[22m\u001b[34m6947\u001b[39m \u001b[1mColumns: \u001b[22m\u001b[34m6\u001b[39m\n"
     ]
    },
    {
     "name": "stderr",
     "output_type": "stream",
     "text": [
      "\u001b[36m──\u001b[39m \u001b[1mColumn specification\u001b[22m \u001b[36m────────────────────────────────────────────────────────\u001b[39m\n",
      "\u001b[1mDelimiter:\u001b[22m \",\"\n",
      "\u001b[31mchr\u001b[39m  (3): post_id, message, username\n",
      "\u001b[32mdbl\u001b[39m  (2): num_reactions, num_files\n",
      "\u001b[34mdttm\u001b[39m (1): create_at\n"
     ]
    },
    {
     "name": "stderr",
     "output_type": "stream",
     "text": [
      "\n",
      "\u001b[36mℹ\u001b[39m Use `spec()` to retrieve the full column specification for this data.\n",
      "\u001b[36mℹ\u001b[39m Specify the column types or set `show_col_types = FALSE` to quiet this message.\n"
     ]
    },
    {
     "name": "stderr",
     "output_type": "stream",
     "text": [
      "\u001b[1mRows: \u001b[22m\u001b[34m3634\u001b[39m \u001b[1mColumns: \u001b[22m\u001b[34m5\u001b[39m\n"
     ]
    },
    {
     "name": "stderr",
     "output_type": "stream",
     "text": [
      "\u001b[36m──\u001b[39m \u001b[1mColumn specification\u001b[22m \u001b[36m────────────────────────────────────────────────────────\u001b[39m\n",
      "\u001b[1mDelimiter:\u001b[22m \",\"\n",
      "\u001b[31mchr\u001b[39m  (4): post_id, emoji_name, username, emoji\n",
      "\u001b[34mdttm\u001b[39m (1): create_at\n"
     ]
    },
    {
     "name": "stderr",
     "output_type": "stream",
     "text": [
      "\n",
      "\u001b[36mℹ\u001b[39m Use `spec()` to retrieve the full column specification for this data.\n",
      "\u001b[36mℹ\u001b[39m Specify the column types or set `show_col_types = FALSE` to quiet this message.\n"
     ]
    },
    {
     "name": "stderr",
     "output_type": "stream",
     "text": [
      "\u001b[1mRows: \u001b[22m\u001b[34m221\u001b[39m \u001b[1mColumns: \u001b[22m\u001b[34m3\u001b[39m\n"
     ]
    },
    {
     "name": "stderr",
     "output_type": "stream",
     "text": [
      "\u001b[36m──\u001b[39m \u001b[1mColumn specification\u001b[22m \u001b[36m────────────────────────────────────────────────────────\u001b[39m\n",
      "\u001b[1mDelimiter:\u001b[22m \",\"\n",
      "\u001b[31mchr\u001b[39m (3): post_id, file_id, link\n"
     ]
    },
    {
     "name": "stderr",
     "output_type": "stream",
     "text": [
      "\n",
      "\u001b[36mℹ\u001b[39m Use `spec()` to retrieve the full column specification for this data.\n",
      "\u001b[36mℹ\u001b[39m Specify the column types or set `show_col_types = FALSE` to quiet this message.\n"
     ]
    }
   ],
   "source": [
    "messages <- read_csv(\"messages.csv\")\n",
    "reactions <- read_csv(\"reactions.csv\")\n",
    "files <- read_csv(\"files.csv\")"
   ]
  },
  {
   "cell_type": "markdown",
   "id": "654576",
   "metadata": {
    "collapsed": false
   },
   "source": [
    "## Task A"
   ]
  },
  {
   "cell_type": "markdown",
   "id": "01d18a",
   "metadata": {
    "collapsed": false
   },
   "source": [
    "As result, we want a table of the form\n",
    "| day of the week | number of people |\n",
    "|------------------------|--------------------------|\n",
    "| Monday | 10 |\n",
    "| Tuesday | 11 |"
   ]
  },
  {
   "cell_type": "code",
   "execution_count": 76,
   "id": "22bdbe",
   "metadata": {
    "collapsed": false,
    "scrolled": true
   },
   "outputs": [
    {
     "data": {
      "text/html": [
       "<table class=\"dataframe\">\n",
       "<caption>A tibble: 6 × 6</caption>\n",
       "<thead>\n",
       "\t<tr><th scope=col>post_id</th><th scope=col>create_at</th><th scope=col>message</th><th scope=col>username</th><th scope=col>num_reactions</th><th scope=col>num_files</th></tr>\n",
       "\t<tr><th scope=col>&lt;chr&gt;</th><th scope=col>&lt;dttm&gt;</th><th scope=col>&lt;chr&gt;</th><th scope=col>&lt;chr&gt;</th><th scope=col>&lt;dbl&gt;</th><th scope=col>&lt;dbl&gt;</th></tr>\n",
       "</thead>\n",
       "<tbody>\n",
       "\t<tr><td>h957oi1t63rf5b6p4pqfhiis5h</td><td>2016-05-02 12:02:13</td><td>Also ich habe etwas dabei   </td><td>greatfireball</td><td>0</td><td>0</td></tr>\n",
       "\t<tr><td>rpwuii8hci8ezmn3d41u9d58fc</td><td>2016-05-02 12:03:02</td><td>ich gehe mir jetzt was holen</td><td>nterhoeven   </td><td>0</td><td>0</td></tr>\n",
       "\t<tr><td>e8bnwq8c7fdf5k7zpqyeihougr</td><td>2016-05-02 12:03:24</td><td>Alles klar                  </td><td>greatfireball</td><td>0</td><td>0</td></tr>\n",
       "\t<tr><td>sku34dhpntdfdmc5d9ky9a9yso</td><td>2016-05-02 12:20:33</td><td>Hallo @joerg                </td><td>greatfireball</td><td>0</td><td>0</td></tr>\n",
       "\t<tr><td>hi38ssjpb3yqz88dk83tzjq5zr</td><td>2016-05-02 12:20:35</td><td>Essen?                      </td><td>greatfireball</td><td>0</td><td>0</td></tr>\n",
       "\t<tr><td>dux74xuq738u38z384wg8mri1e</td><td>2016-05-02 12:20:36</td><td>:smile:                     </td><td>greatfireball</td><td>0</td><td>0</td></tr>\n",
       "</tbody>\n",
       "</table>\n"
      ],
      "text/latex": [
       "A tibble: 6 × 6\n",
       "\\begin{tabular}{llllll}\n",
       " post\\_id & create\\_at & message & username & num\\_reactions & num\\_files\\\\\n",
       " <chr> & <dttm> & <chr> & <chr> & <dbl> & <dbl>\\\\\n",
       "\\hline\n",
       "\t h957oi1t63rf5b6p4pqfhiis5h & 2016-05-02 12:02:13 & Also ich habe etwas dabei    & greatfireball & 0 & 0\\\\\n",
       "\t rpwuii8hci8ezmn3d41u9d58fc & 2016-05-02 12:03:02 & ich gehe mir jetzt was holen & nterhoeven    & 0 & 0\\\\\n",
       "\t e8bnwq8c7fdf5k7zpqyeihougr & 2016-05-02 12:03:24 & Alles klar                   & greatfireball & 0 & 0\\\\\n",
       "\t sku34dhpntdfdmc5d9ky9a9yso & 2016-05-02 12:20:33 & Hallo @joerg                 & greatfireball & 0 & 0\\\\\n",
       "\t hi38ssjpb3yqz88dk83tzjq5zr & 2016-05-02 12:20:35 & Essen?                       & greatfireball & 0 & 0\\\\\n",
       "\t dux74xuq738u38z384wg8mri1e & 2016-05-02 12:20:36 & :smile:                      & greatfireball & 0 & 0\\\\\n",
       "\\end{tabular}\n"
      ],
      "text/markdown": [
       "\n",
       "A tibble: 6 × 6\n",
       "\n",
       "| post_id &lt;chr&gt; | create_at &lt;dttm&gt; | message &lt;chr&gt; | username &lt;chr&gt; | num_reactions &lt;dbl&gt; | num_files &lt;dbl&gt; |\n",
       "|---|---|---|---|---|---|\n",
       "| h957oi1t63rf5b6p4pqfhiis5h | 2016-05-02 12:02:13 | Also ich habe etwas dabei    | greatfireball | 0 | 0 |\n",
       "| rpwuii8hci8ezmn3d41u9d58fc | 2016-05-02 12:03:02 | ich gehe mir jetzt was holen | nterhoeven    | 0 | 0 |\n",
       "| e8bnwq8c7fdf5k7zpqyeihougr | 2016-05-02 12:03:24 | Alles klar                   | greatfireball | 0 | 0 |\n",
       "| sku34dhpntdfdmc5d9ky9a9yso | 2016-05-02 12:20:33 | Hallo @joerg                 | greatfireball | 0 | 0 |\n",
       "| hi38ssjpb3yqz88dk83tzjq5zr | 2016-05-02 12:20:35 | Essen?                       | greatfireball | 0 | 0 |\n",
       "| dux74xuq738u38z384wg8mri1e | 2016-05-02 12:20:36 | :smile:                      | greatfireball | 0 | 0 |\n",
       "\n"
      ],
      "text/plain": [
       "  post_id                    create_at           message                     \n",
       "1 h957oi1t63rf5b6p4pqfhiis5h 2016-05-02 12:02:13 Also ich habe etwas dabei   \n",
       "2 rpwuii8hci8ezmn3d41u9d58fc 2016-05-02 12:03:02 ich gehe mir jetzt was holen\n",
       "3 e8bnwq8c7fdf5k7zpqyeihougr 2016-05-02 12:03:24 Alles klar                  \n",
       "4 sku34dhpntdfdmc5d9ky9a9yso 2016-05-02 12:20:33 Hallo @joerg                \n",
       "5 hi38ssjpb3yqz88dk83tzjq5zr 2016-05-02 12:20:35 Essen?                      \n",
       "6 dux74xuq738u38z384wg8mri1e 2016-05-02 12:20:36 :smile:                     \n",
       "  username      num_reactions num_files\n",
       "1 greatfireball 0             0        \n",
       "2 nterhoeven    0             0        \n",
       "3 greatfireball 0             0        \n",
       "4 greatfireball 0             0        \n",
       "5 greatfireball 0             0        \n",
       "6 greatfireball 0             0        "
      ]
     },
     "execution_count": 76,
     "metadata": {
     },
     "output_type": "execute_result"
    }
   ],
   "source": [
    "messages %>% head"
   ]
  },
  {
   "cell_type": "code",
   "execution_count": 77,
   "id": "35fe23",
   "metadata": {
    "collapsed": false
   },
   "outputs": [
    {
     "data": {
      "text/html": [
       "<table class=\"dataframe\">\n",
       "<caption>A tibble: 6 × 5</caption>\n",
       "<thead>\n",
       "\t<tr><th scope=col>post_id</th><th scope=col>create_at</th><th scope=col>emoji_name</th><th scope=col>username</th><th scope=col>emoji</th></tr>\n",
       "\t<tr><th scope=col>&lt;chr&gt;</th><th scope=col>&lt;dttm&gt;</th><th scope=col>&lt;chr&gt;</th><th scope=col>&lt;chr&gt;</th><th scope=col>&lt;chr&gt;</th></tr>\n",
       "</thead>\n",
       "<tbody>\n",
       "\t<tr><td>ng3m9o5c5igw3gpgg1dqmgs4mw</td><td>2017-08-18 11:57:23</td><td>+1</td><td>lulei          </td><td>👍</td></tr>\n",
       "\t<tr><td>atnyf76f1tb1fmznhrk4s3wohr</td><td>2017-08-21 11:50:04</td><td>+1</td><td>sonja          </td><td>👍</td></tr>\n",
       "\t<tr><td>atnyf76f1tb1fmznhrk4s3wohr</td><td>2017-08-21 11:52:22</td><td>+1</td><td>iimog          </td><td>👍</td></tr>\n",
       "\t<tr><td>eh5ge6nnf7np5q61rqpfwhmqaw</td><td>2017-08-23 11:24:45</td><td>+1</td><td>sonja          </td><td>👍</td></tr>\n",
       "\t<tr><td>eh5ge6nnf7np5q61rqpfwhmqaw</td><td>2017-08-23 11:26:44</td><td>+1</td><td>alexanderkeller</td><td>👍</td></tr>\n",
       "\t<tr><td>eh5ge6nnf7np5q61rqpfwhmqaw</td><td>2017-08-23 11:49:19</td><td>+1</td><td>t.paul         </td><td>👍</td></tr>\n",
       "</tbody>\n",
       "</table>\n"
      ],
      "text/latex": [
       "A tibble: 6 × 5\n",
       "\\begin{tabular}{lllll}\n",
       " post\\_id & create\\_at & emoji\\_name & username & emoji\\\\\n",
       " <chr> & <dttm> & <chr> & <chr> & <chr>\\\\\n",
       "\\hline\n",
       "\t ng3m9o5c5igw3gpgg1dqmgs4mw & 2017-08-18 11:57:23 & +1 & lulei           & 👍\\\\\n",
       "\t atnyf76f1tb1fmznhrk4s3wohr & 2017-08-21 11:50:04 & +1 & sonja           & 👍\\\\\n",
       "\t atnyf76f1tb1fmznhrk4s3wohr & 2017-08-21 11:52:22 & +1 & iimog           & 👍\\\\\n",
       "\t eh5ge6nnf7np5q61rqpfwhmqaw & 2017-08-23 11:24:45 & +1 & sonja           & 👍\\\\\n",
       "\t eh5ge6nnf7np5q61rqpfwhmqaw & 2017-08-23 11:26:44 & +1 & alexanderkeller & 👍\\\\\n",
       "\t eh5ge6nnf7np5q61rqpfwhmqaw & 2017-08-23 11:49:19 & +1 & t.paul          & 👍\\\\\n",
       "\\end{tabular}\n"
      ],
      "text/markdown": [
       "\n",
       "A tibble: 6 × 5\n",
       "\n",
       "| post_id &lt;chr&gt; | create_at &lt;dttm&gt; | emoji_name &lt;chr&gt; | username &lt;chr&gt; | emoji &lt;chr&gt; |\n",
       "|---|---|---|---|---|\n",
       "| ng3m9o5c5igw3gpgg1dqmgs4mw | 2017-08-18 11:57:23 | +1 | lulei           | 👍 |\n",
       "| atnyf76f1tb1fmznhrk4s3wohr | 2017-08-21 11:50:04 | +1 | sonja           | 👍 |\n",
       "| atnyf76f1tb1fmznhrk4s3wohr | 2017-08-21 11:52:22 | +1 | iimog           | 👍 |\n",
       "| eh5ge6nnf7np5q61rqpfwhmqaw | 2017-08-23 11:24:45 | +1 | sonja           | 👍 |\n",
       "| eh5ge6nnf7np5q61rqpfwhmqaw | 2017-08-23 11:26:44 | +1 | alexanderkeller | 👍 |\n",
       "| eh5ge6nnf7np5q61rqpfwhmqaw | 2017-08-23 11:49:19 | +1 | t.paul          | 👍 |\n",
       "\n"
      ],
      "text/plain": [
       "  post_id                    create_at           emoji_name username       \n",
       "1 ng3m9o5c5igw3gpgg1dqmgs4mw 2017-08-18 11:57:23 +1         lulei          \n",
       "2 atnyf76f1tb1fmznhrk4s3wohr 2017-08-21 11:50:04 +1         sonja          \n",
       "3 atnyf76f1tb1fmznhrk4s3wohr 2017-08-21 11:52:22 +1         iimog          \n",
       "4 eh5ge6nnf7np5q61rqpfwhmqaw 2017-08-23 11:24:45 +1         sonja          \n",
       "5 eh5ge6nnf7np5q61rqpfwhmqaw 2017-08-23 11:26:44 +1         alexanderkeller\n",
       "6 eh5ge6nnf7np5q61rqpfwhmqaw 2017-08-23 11:49:19 +1         t.paul         \n",
       "  emoji\n",
       "1 👍   \n",
       "2 👍   \n",
       "3 👍   \n",
       "4 👍   \n",
       "5 👍   \n",
       "6 👍   "
      ]
     },
     "execution_count": 77,
     "metadata": {
     },
     "output_type": "execute_result"
    }
   ],
   "source": [
    "reactions %>% head"
   ]
  },
  {
   "cell_type": "code",
   "execution_count": 16,
   "id": "fc9443",
   "metadata": {
    "collapsed": false
   },
   "outputs": [
   ],
   "source": [
    "reaction_users_per_day <- reactions %>%\n",
    "    filter(year(create_at) >= 2022) %>%\n",
    "    mutate(day = floor_date(create_at, \"day\")) %>%\n",
    "    select(day, username) %>% \n",
    "    unique()"
   ]
  },
  {
   "cell_type": "code",
   "execution_count": 19,
   "id": "760db9",
   "metadata": {
    "collapsed": false
   },
   "outputs": [
   ],
   "source": [
    "message_users_per_day <- messages %>%\n",
    "    filter(year(create_at) >= 2022) %>%\n",
    "    mutate(day = floor_date(create_at, \"day\")) %>%\n",
    "    select(day, username) %>% \n",
    "    unique()"
   ]
  },
  {
   "cell_type": "code",
   "execution_count": 78,
   "id": "97828c",
   "metadata": {
    "collapsed": false
   },
   "outputs": [
    {
     "data": {
      "text/html": [
       "<table class=\"dataframe\">\n",
       "<caption>A tibble: 6 × 2</caption>\n",
       "<thead>\n",
       "\t<tr><th scope=col>day</th><th scope=col>username</th></tr>\n",
       "\t<tr><th scope=col>&lt;dttm&gt;</th><th scope=col>&lt;chr&gt;</th></tr>\n",
       "</thead>\n",
       "<tbody>\n",
       "\t<tr><td>2022-01-04</td><td>iimog        </td></tr>\n",
       "\t<tr><td>2022-01-04</td><td>art          </td></tr>\n",
       "\t<tr><td>2022-01-04</td><td>andreaskuhn  </td></tr>\n",
       "\t<tr><td>2022-01-05</td><td>andreaskuhn  </td></tr>\n",
       "\t<tr><td>2022-01-10</td><td>simon.schardt</td></tr>\n",
       "\t<tr><td>2022-01-11</td><td>jscabral     </td></tr>\n",
       "</tbody>\n",
       "</table>\n"
      ],
      "text/latex": [
       "A tibble: 6 × 2\n",
       "\\begin{tabular}{ll}\n",
       " day & username\\\\\n",
       " <dttm> & <chr>\\\\\n",
       "\\hline\n",
       "\t 2022-01-04 & iimog        \\\\\n",
       "\t 2022-01-04 & art          \\\\\n",
       "\t 2022-01-04 & andreaskuhn  \\\\\n",
       "\t 2022-01-05 & andreaskuhn  \\\\\n",
       "\t 2022-01-10 & simon.schardt\\\\\n",
       "\t 2022-01-11 & jscabral     \\\\\n",
       "\\end{tabular}\n"
      ],
      "text/markdown": [
       "\n",
       "A tibble: 6 × 2\n",
       "\n",
       "| day &lt;dttm&gt; | username &lt;chr&gt; |\n",
       "|---|---|\n",
       "| 2022-01-04 | iimog         |\n",
       "| 2022-01-04 | art           |\n",
       "| 2022-01-04 | andreaskuhn   |\n",
       "| 2022-01-05 | andreaskuhn   |\n",
       "| 2022-01-10 | simon.schardt |\n",
       "| 2022-01-11 | jscabral      |\n",
       "\n"
      ],
      "text/plain": [
       "  day        username     \n",
       "1 2022-01-04 iimog        \n",
       "2 2022-01-04 art          \n",
       "3 2022-01-04 andreaskuhn  \n",
       "4 2022-01-05 andreaskuhn  \n",
       "5 2022-01-10 simon.schardt\n",
       "6 2022-01-11 jscabral     "
      ]
     },
     "execution_count": 78,
     "metadata": {
     },
     "output_type": "execute_result"
    }
   ],
   "source": [
    "message_users_per_day %>% head"
   ]
  },
  {
   "cell_type": "code",
   "execution_count": 29,
   "id": "fa2b6c",
   "metadata": {
    "collapsed": false
   },
   "outputs": [
   ],
   "source": [
    "users_per_day <- full_join(reaction_users_per_day,message_users_per_day,by=c(\"day\",\"username\"))"
   ]
  },
  {
   "cell_type": "code",
   "execution_count": 30,
   "id": "5857d6",
   "metadata": {
    "collapsed": false
   },
   "outputs": [
   ],
   "source": [
    "library(lubridate)"
   ]
  },
  {
   "cell_type": "code",
   "execution_count": 39,
   "id": "e435b8",
   "metadata": {
    "collapsed": false
   },
   "outputs": [
    {
     "data": {
      "image/png": "[encoded data removed]",
      "text/plain": [
       "plot without title"
      ]
     },
     "execution_count": 39,
     "metadata": {
      "image/png": {
       "height": 420,
       "width": 420
      }
     },
     "output_type": "execute_result"
    }
   ],
   "source": [
    "users_per_day %>%\n",
    "    mutate(weekday = wday(day, label=TRUE)) %>%\n",
    "    count(weekday) %>%\n",
    "    ggplot(aes(x=weekday, y=n)) + geom_col()\n"
   ]
  },
  {
   "cell_type": "code",
   "execution_count": 44,
   "id": "d20392",
   "metadata": {
    "collapsed": false
   },
   "outputs": [
   ],
   "source": [
    "counts_per_wday <- users_per_day %>%\n",
    "    count(day) %>%\n",
    "    mutate(weekday = wday(day, label=TRUE))"
   ]
  },
  {
   "cell_type": "code",
   "execution_count": 45,
   "id": "ef2134",
   "metadata": {
    "collapsed": false
   },
   "outputs": [
    {
     "data": {
      "image/png": "[encoded data removed]",
      "text/plain": [
       "plot without title"
      ]
     },
     "execution_count": 45,
     "metadata": {
      "image/png": {
       "height": 420,
       "width": 420
      }
     },
     "output_type": "execute_result"
    }
   ],
   "source": [
    "counts_per_wday %>%\n",
    "    ggplot(aes(x=weekday, y=n)) + geom_boxplot()"
   ]
  },
  {
   "cell_type": "code",
   "execution_count": 52,
   "id": "4d80e2",
   "metadata": {
    "collapsed": false
   },
   "outputs": [
    {
     "name": "stderr",
     "output_type": "stream",
     "text": [
      "\u001b[1m\u001b[22m`stat_bin()` using `bins = 30`. Pick better value with `binwidth`.\n"
     ]
    },
    {
     "data": {
      "image/png": "[encoded data removed]",
      "text/plain": [
       "plot without title"
      ]
     },
     "execution_count": 52,
     "metadata": {
      "image/png": {
       "height": 420,
       "width": 420
      }
     },
     "output_type": "execute_result"
    }
   ],
   "source": [
    "counts_per_wday %>%\n",
    "    filter(weekday %in% c(\"Mon\", \"Tue\", \"Thu\", \"Fri\")) %>%\n",
    "    ggplot(aes(x=n)) + geom_histogram() + facet_wrap(~weekday)"
   ]
  },
  {
   "cell_type": "code",
   "execution_count": 74,
   "id": "0edbc8",
   "metadata": {
    "collapsed": false
   },
   "outputs": [
   ],
   "source": [
    "mean_var_per_wday <- counts_per_wday %>% \n",
    "    filter(weekday %in% c(\"Mon\", \"Tue\", \"Thu\", \"Fri\")) %>%\n",
    "    group_by(weekday) %>%\n",
    "    summarise(median= median(n),mean = mean(n), var = var(n), n = n()) "
   ]
  },
  {
   "cell_type": "code",
   "execution_count": 75,
   "id": "e5c54c",
   "metadata": {
    "collapsed": false
   },
   "outputs": [
    {
     "data": {
      "text/html": [
       "<table class=\"dataframe\">\n",
       "<caption>A tibble: 4 × 5</caption>\n",
       "<thead>\n",
       "\t<tr><th scope=col>weekday</th><th scope=col>median</th><th scope=col>mean</th><th scope=col>var</th><th scope=col>n</th></tr>\n",
       "\t<tr><th scope=col>&lt;ord&gt;</th><th scope=col>&lt;dbl&gt;</th><th scope=col>&lt;dbl&gt;</th><th scope=col>&lt;dbl&gt;</th><th scope=col>&lt;int&gt;</th></tr>\n",
       "</thead>\n",
       "<tbody>\n",
       "\t<tr><td>Mon</td><td>5</td><td>5.144000</td><td>4.059742</td><td>125</td></tr>\n",
       "\t<tr><td>Tue</td><td>5</td><td>4.907692</td><td>4.223971</td><td>130</td></tr>\n",
       "\t<tr><td>Thu</td><td>4</td><td>4.644068</td><td>3.479067</td><td>118</td></tr>\n",
       "\t<tr><td>Fri</td><td>4</td><td>4.371901</td><td>4.585537</td><td>121</td></tr>\n",
       "</tbody>\n",
       "</table>\n"
      ],
      "text/latex": [
       "A tibble: 4 × 5\n",
       "\\begin{tabular}{lllll}\n",
       " weekday & median & mean & var & n\\\\\n",
       " <ord> & <dbl> & <dbl> & <dbl> & <int>\\\\\n",
       "\\hline\n",
       "\t Mon & 5 & 5.144000 & 4.059742 & 125\\\\\n",
       "\t Tue & 5 & 4.907692 & 4.223971 & 130\\\\\n",
       "\t Thu & 4 & 4.644068 & 3.479067 & 118\\\\\n",
       "\t Fri & 4 & 4.371901 & 4.585537 & 121\\\\\n",
       "\\end{tabular}\n"
      ],
      "text/markdown": [
       "\n",
       "A tibble: 4 × 5\n",
       "\n",
       "| weekday &lt;ord&gt; | median &lt;dbl&gt; | mean &lt;dbl&gt; | var &lt;dbl&gt; | n &lt;int&gt; |\n",
       "|---|---|---|---|---|\n",
       "| Mon | 5 | 5.144000 | 4.059742 | 125 |\n",
       "| Tue | 5 | 4.907692 | 4.223971 | 130 |\n",
       "| Thu | 4 | 4.644068 | 3.479067 | 118 |\n",
       "| Fri | 4 | 4.371901 | 4.585537 | 121 |\n",
       "\n"
      ],
      "text/plain": [
       "  weekday median mean     var      n  \n",
       "1 Mon     5      5.144000 4.059742 125\n",
       "2 Tue     5      4.907692 4.223971 130\n",
       "3 Thu     4      4.644068 3.479067 118\n",
       "4 Fri     4      4.371901 4.585537 121"
      ]
     },
     "execution_count": 75,
     "metadata": {
     },
     "output_type": "execute_result"
    }
   ],
   "source": [
    "mean_var_per_wday"
   ]
  },
  {
   "cell_type": "code",
   "execution_count": 64,
   "id": "5fc0fe",
   "metadata": {
    "collapsed": false
   },
   "outputs": [
   ],
   "source": [
    "monday <- counts_per_wday %>%\n",
    "    filter(weekday == \"Mon\")\n",
    "tuesday <- counts_per_wday %>%\n",
    "    filter(weekday == \"Tue\")\n",
    "thursday <- counts_per_wday %>%\n",
    "    filter(weekday == \"Thu\")\n",
    "friday <- counts_per_wday %>%\n",
    "    filter(weekday == \"Fri\")"
   ]
  },
  {
   "cell_type": "markdown",
   "id": "b0bf13",
   "metadata": {
    "collapsed": false
   },
   "source": [
    "Our Bonferroni-corrected significance level:"
   ]
  },
  {
   "cell_type": "code",
   "execution_count": 72,
   "id": "38da9d",
   "metadata": {
    "collapsed": false
   },
   "outputs": [
    {
     "data": {
      "text/html": [
       "0.00833333333333333"
      ],
      "text/latex": [
       "0.00833333333333333"
      ],
      "text/markdown": [
       "0.00833333333333333"
      ],
      "text/plain": [
       "[1] 0.008333333"
      ]
     },
     "execution_count": 72,
     "metadata": {
     },
     "output_type": "execute_result"
    }
   ],
   "source": [
    "0.05/6"
   ]
  },
  {
   "cell_type": "code",
   "execution_count": 65,
   "id": "196054",
   "metadata": {
    "collapsed": false
   },
   "outputs": [
    {
     "data": {
      "text/plain": [
       "\n",
       "\tWilcoxon rank sum test with continuity correction\n",
       "\n",
       "data:  monday$n and tuesday$n\n",
       "W = 8667.5, p-value = 0.3514\n",
       "alternative hypothesis: true location shift is not equal to 0\n"
      ]
     },
     "execution_count": 65,
     "metadata": {
     },
     "output_type": "execute_result"
    }
   ],
   "source": [
    "library(stats)\n",
    "wilcox.test(monday$n, tuesday$n, alternative = \"two.sided\")"
   ]
  },
  {
   "cell_type": "code",
   "execution_count": 66,
   "id": "cdc77d",
   "metadata": {
    "collapsed": false
   },
   "outputs": [
    {
     "data": {
      "text/plain": [
       "\n",
       "\tWilcoxon rank sum test with continuity correction\n",
       "\n",
       "data:  thursday$n and friday$n\n",
       "W = 7797.5, p-value = 0.2124\n",
       "alternative hypothesis: true location shift is not equal to 0\n"
      ]
     },
     "execution_count": 66,
     "metadata": {
     },
     "output_type": "execute_result"
    }
   ],
   "source": [
    "wilcox.test(thursday$n, friday$n, alternative = \"two.sided\")"
   ]
  },
  {
   "cell_type": "code",
   "execution_count": 67,
   "id": "76a747",
   "metadata": {
    "collapsed": false
   },
   "outputs": [
    {
     "data": {
      "text/plain": [
       "\n",
       "\tWilcoxon rank sum test with continuity correction\n",
       "\n",
       "data:  monday$n and friday$n\n",
       "W = 9229, p-value = 0.002527\n",
       "alternative hypothesis: true location shift is not equal to 0\n"
      ]
     },
     "execution_count": 67,
     "metadata": {
     },
     "output_type": "execute_result"
    }
   ],
   "source": [
    "wilcox.test(monday$n, friday$n, alternative = \"two.sided\")"
   ]
  },
  {
   "cell_type": "code",
   "execution_count": 68,
   "id": "c6a1a1",
   "metadata": {
    "collapsed": false
   },
   "outputs": [
    {
     "data": {
      "text/plain": [
       "\n",
       "\tWilcoxon rank sum test with continuity correction\n",
       "\n",
       "data:  tuesday$n and friday$n\n",
       "W = 9069.5, p-value = 0.03412\n",
       "alternative hypothesis: true location shift is not equal to 0\n"
      ]
     },
     "execution_count": 68,
     "metadata": {
     },
     "output_type": "execute_result"
    }
   ],
   "source": [
    "wilcox.test(tuesday$n, friday$n, alternative = \"two.sided\")"
   ]
  },
  {
   "cell_type": "code",
   "execution_count": 69,
   "id": "2d02d2",
   "metadata": {
    "collapsed": false
   },
   "outputs": [
    {
     "data": {
      "text/plain": [
       "\n",
       "\tWilcoxon rank sum test with continuity correction\n",
       "\n",
       "data:  monday$n and thursday$n\n",
       "W = 8427.5, p-value = 0.05149\n",
       "alternative hypothesis: true location shift is not equal to 0\n"
      ]
     },
     "execution_count": 69,
     "metadata": {
     },
     "output_type": "execute_result"
    }
   ],
   "source": [
    "wilcox.test(monday$n, thursday$n, alternative = \"two.sided\")"
   ]
  },
  {
   "cell_type": "code",
   "execution_count": 71,
   "id": "9a1f9c",
   "metadata": {
    "collapsed": false
   },
   "outputs": [
    {
     "data": {
      "text/plain": [
       "\n",
       "\tWilcoxon rank sum test with continuity correction\n",
       "\n",
       "data:  tuesday$n and thursday$n\n",
       "W = 8237, p-value = 0.3089\n",
       "alternative hypothesis: true location shift is not equal to 0\n"
      ]
     },
     "execution_count": 71,
     "metadata": {
     },
     "output_type": "execute_result"
    }
   ],
   "source": [
    "wilcox.test(tuesday$n, thursday$n, alternative = \"two.sided\")"
   ]
  }
 ],
 "metadata": {
  "kernelspec": {
   "argv": [
    "/usr/bin/R",
    "-e",
    "IRkernel::main()",
    "--args",
    "{connection_file}"
   ],
   "display_name": "R (system-wide)",
   "env": {
   },
   "language": "r",
   "metadata": {
    "cocalc": {
     "description": "R statistical programming language",
     "priority": 10,
     "url": "https://www.r-project.org/"
    }
   },
   "name": "ir",
   "resource_dir": "/ext/jupyter/kernels/ir"
  },
  "language_info": {
   "codemirror_mode": "r",
   "file_extension": ".r",
   "mimetype": "text/x-r-source",
   "name": "R",
   "pygments_lexer": "r",
   "version": "4.4.1"
  }
 },
 "nbformat": 4,
 "nbformat_minor": 4
}