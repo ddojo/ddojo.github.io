{
 "cells": [
  {
   "cell_type": "code",
   "execution_count": 1,
   "id": "6997648c-7bac-4462-a49d-5071b43fcae8",
   "metadata": {},
   "outputs": [
    {
     "name": "stderr",
     "output_type": "stream",
     "text": [
      "── \u001b[1mAttaching packages\u001b[22m ───────────────────────────────────────────────────── tidyverse 1.3.1 ──\n",
      "\n",
      "\u001b[32m✔\u001b[39m \u001b[34mggplot2\u001b[39m 3.3.6     \u001b[32m✔\u001b[39m \u001b[34mpurrr  \u001b[39m 0.3.4\n",
      "\u001b[32m✔\u001b[39m \u001b[34mtibble \u001b[39m 3.1.7     \u001b[32m✔\u001b[39m \u001b[34mdplyr  \u001b[39m 1.0.9\n",
      "\u001b[32m✔\u001b[39m \u001b[34mtidyr  \u001b[39m 1.2.0     \u001b[32m✔\u001b[39m \u001b[34mstringr\u001b[39m 1.4.0\n",
      "\u001b[32m✔\u001b[39m \u001b[34mreadr  \u001b[39m 2.1.2     \u001b[32m✔\u001b[39m \u001b[34mforcats\u001b[39m 0.5.1\n",
      "\n",
      "── \u001b[1mConflicts\u001b[22m ──────────────────────────────────────────────────────── tidyverse_conflicts() ──\n",
      "\u001b[31m✖\u001b[39m \u001b[34mdplyr\u001b[39m::\u001b[32mfilter()\u001b[39m masks \u001b[34mstats\u001b[39m::filter()\n",
      "\u001b[31m✖\u001b[39m \u001b[34mdplyr\u001b[39m::\u001b[32mlag()\u001b[39m    masks \u001b[34mstats\u001b[39m::lag()\n",
      "\n"
     ]
    }
   ],
   "source": [
    "library(tidyverse)"
   ]
  },
  {
   "cell_type": "code",
   "execution_count": 2,
   "id": "8941e938-93b9-42a9-a0a7-ec17dc6dca7c",
   "metadata": {},
   "outputs": [
    {
     "name": "stderr",
     "output_type": "stream",
     "text": [
      "\u001b[1mRows: \u001b[22m\u001b[34m498838\u001b[39m \u001b[1mColumns: \u001b[22m\u001b[34m13\u001b[39m\n",
      "\u001b[36m──\u001b[39m \u001b[1mColumn specification\u001b[22m \u001b[36m──────────────────────────────────────────────────────────────────────\u001b[39m\n",
      "\u001b[1mDelimiter:\u001b[22m \",\"\n",
      "\u001b[31mchr\u001b[39m (7): tree_id, division, family, genus, species, height_outlier, crown_ra...\n",
      "\u001b[32mdbl\u001b[39m (6): latitude, longitude, stem_diameter_cm, height_m, crown_radius_m, re...\n",
      "\n",
      "\u001b[36mℹ\u001b[39m Use `spec()` to retrieve the full column specification for this data.\n",
      "\u001b[36mℹ\u001b[39m Specify the column types or set `show_col_types = FALSE` to quiet this message.\n"
     ]
    }
   ],
   "source": [
    "data <- read_csv(\"Tallo.csv\")"
   ]
  },
  {
   "cell_type": "code",
   "execution_count": 3,
   "id": "76efbc53-6747-4f74-bb4e-eff4791e6041",
   "metadata": {},
   "outputs": [],
   "source": [
    "filtered_species <- data %>% filter(species %in% c(\"Fagus sylvatica\", \"Quercus ilex\", \"Pinus pinaster\"))"
   ]
  },
  {
   "cell_type": "code",
   "execution_count": 4,
   "id": "3a13e115-2ab8-454b-b0f6-ee3226cfcb02",
   "metadata": {},
   "outputs": [
    {
     "data": {
      "text/html": [
       "<table class=\"dataframe\">\n",
       "<caption>A spec_tbl_df: 3 × 2</caption>\n",
       "<thead>\n",
       "\t<tr><th scope=col>species</th><th scope=col>n</th></tr>\n",
       "\t<tr><th scope=col>&lt;chr&gt;</th><th scope=col>&lt;int&gt;</th></tr>\n",
       "</thead>\n",
       "<tbody>\n",
       "\t<tr><td>Fagus sylvatica</td><td> 9470</td></tr>\n",
       "\t<tr><td>Pinus pinaster </td><td>11766</td></tr>\n",
       "\t<tr><td>Quercus ilex   </td><td>22760</td></tr>\n",
       "</tbody>\n",
       "</table>\n"
      ],
      "text/latex": [
       "A spec\\_tbl\\_df: 3 × 2\n",
       "\\begin{tabular}{ll}\n",
       " species & n\\\\\n",
       " <chr> & <int>\\\\\n",
       "\\hline\n",
       "\t Fagus sylvatica &  9470\\\\\n",
       "\t Pinus pinaster  & 11766\\\\\n",
       "\t Quercus ilex    & 22760\\\\\n",
       "\\end{tabular}\n"
      ],
      "text/markdown": [
       "\n",
       "A spec_tbl_df: 3 × 2\n",
       "\n",
       "| species &lt;chr&gt; | n &lt;int&gt; |\n",
       "|---|---|\n",
       "| Fagus sylvatica |  9470 |\n",
       "| Pinus pinaster  | 11766 |\n",
       "| Quercus ilex    | 22760 |\n",
       "\n"
      ],
      "text/plain": [
       "  species         n    \n",
       "1 Fagus sylvatica  9470\n",
       "2 Pinus pinaster  11766\n",
       "3 Quercus ilex    22760"
      ]
     },
     "metadata": {},
     "output_type": "display_data"
    }
   ],
   "source": [
    "count(filtered_species, species)"
   ]
  },
  {
   "cell_type": "code",
   "execution_count": 11,
   "id": "4e38b48d-6f8d-4b19-ba46-f48febd65186",
   "metadata": {},
   "outputs": [
    {
     "ename": "ERROR",
     "evalue": "Error in sample.int(length(x), size, replace, prob): cannot take a sample larger than the population when 'replace = FALSE'\n",
     "output_type": "error",
     "traceback": [
      "Error in sample.int(length(x), size, replace, prob): cannot take a sample larger than the population when 'replace = FALSE'\nTraceback:\n",
      "1. sample(c(\"train\", \"test\"), size = nrow(filtered_species), prob = c(0.8, \n .     0.2))",
      "2. sample.int(length(x), size, replace, prob)"
     ]
    }
   ],
   "source": [
    "sample(c(\"train\",\"test\"),size = nrow(filtered_species),prob=c(.8,.2))"
   ]
  },
  {
   "cell_type": "code",
   "execution_count": 33,
   "id": "18d43f27-9845-442f-9d4f-1110376cc637",
   "metadata": {},
   "outputs": [
    {
     "data": {
      "text/html": [
       "<table class=\"dataframe\">\n",
       "<caption>A tibble: 6 × 3</caption>\n",
       "<thead>\n",
       "\t<tr><th scope=col>set</th><th scope=col>species</th><th scope=col>n</th></tr>\n",
       "\t<tr><th scope=col>&lt;chr&gt;</th><th scope=col>&lt;chr&gt;</th><th scope=col>&lt;int&gt;</th></tr>\n",
       "</thead>\n",
       "<tbody>\n",
       "\t<tr><td>test </td><td>Fagus sylvatica</td><td> 1961</td></tr>\n",
       "\t<tr><td>test </td><td>Pinus pinaster </td><td> 2349</td></tr>\n",
       "\t<tr><td>test </td><td>Quercus ilex   </td><td> 4587</td></tr>\n",
       "\t<tr><td>train</td><td>Fagus sylvatica</td><td> 7509</td></tr>\n",
       "\t<tr><td>train</td><td>Pinus pinaster </td><td> 9417</td></tr>\n",
       "\t<tr><td>train</td><td>Quercus ilex   </td><td>18173</td></tr>\n",
       "</tbody>\n",
       "</table>\n"
      ],
      "text/latex": [
       "A tibble: 6 × 3\n",
       "\\begin{tabular}{lll}\n",
       " set & species & n\\\\\n",
       " <chr> & <chr> & <int>\\\\\n",
       "\\hline\n",
       "\t test  & Fagus sylvatica &  1961\\\\\n",
       "\t test  & Pinus pinaster  &  2349\\\\\n",
       "\t test  & Quercus ilex    &  4587\\\\\n",
       "\t train & Fagus sylvatica &  7509\\\\\n",
       "\t train & Pinus pinaster  &  9417\\\\\n",
       "\t train & Quercus ilex    & 18173\\\\\n",
       "\\end{tabular}\n"
      ],
      "text/markdown": [
       "\n",
       "A tibble: 6 × 3\n",
       "\n",
       "| set &lt;chr&gt; | species &lt;chr&gt; | n &lt;int&gt; |\n",
       "|---|---|---|\n",
       "| test  | Fagus sylvatica |  1961 |\n",
       "| test  | Pinus pinaster  |  2349 |\n",
       "| test  | Quercus ilex    |  4587 |\n",
       "| train | Fagus sylvatica |  7509 |\n",
       "| train | Pinus pinaster  |  9417 |\n",
       "| train | Quercus ilex    | 18173 |\n",
       "\n"
      ],
      "text/plain": [
       "  set   species         n    \n",
       "1 test  Fagus sylvatica  1961\n",
       "2 test  Pinus pinaster   2349\n",
       "3 test  Quercus ilex     4587\n",
       "4 train Fagus sylvatica  7509\n",
       "5 train Pinus pinaster   9417\n",
       "6 train Quercus ilex    18173"
      ]
     },
     "metadata": {},
     "output_type": "display_data"
    }
   ],
   "source": [
    "set.seed(42)\n",
    "train_test <- filtered_species %>%\n",
    "    mutate(set=sample(c(\"train\",\"test\"),size = n(),prob=c(.8,.2),replace=T))\n",
    "train_test %>%\n",
    "    count(set, species)"
   ]
  },
  {
   "cell_type": "code",
   "execution_count": 35,
   "id": "b9dc4250-fc8c-4619-8f05-9372820d51a3",
   "metadata": {},
   "outputs": [],
   "source": [
    "train_test %>%\n",
    "    filter(set==\"train\") %>%\n",
    "    select(species, latitude, longitude, stem_diameter_cm, height_m, crown_radius_m) %>%\n",
    "    write_tsv(\"train.tsv\")"
   ]
  },
  {
   "cell_type": "code",
   "execution_count": 36,
   "id": "2b1f4910-6021-45ee-b6d2-7ca2b13ae927",
   "metadata": {},
   "outputs": [],
   "source": [
    "train_test %>%\n",
    "    filter(set==\"test\") %>%\n",
    "    select(tree_id, latitude, longitude, stem_diameter_cm, height_m, crown_radius_m) %>%\n",
    "    write_tsv(\"test.tsv\")"
   ]
  },
  {
   "cell_type": "code",
   "execution_count": 37,
   "id": "733c3385-3298-43fa-a3e3-699ca06fa133",
   "metadata": {},
   "outputs": [],
   "source": [
    "train_test %>%\n",
    "    filter(set==\"test\") %>%\n",
    "    select(tree_id, species) %>%\n",
    "    write_tsv(\"truth.tsv\")"
   ]
  },
  {
   "cell_type": "code",
   "execution_count": 40,
   "id": "42b8e59c-1085-4ef0-b99f-a4e325ee4f77",
   "metadata": {},
   "outputs": [],
   "source": [
    "library(naniar)"
   ]
  },
  {
   "cell_type": "code",
   "execution_count": 45,
   "id": "3380b5fb-f9cc-4249-8839-f79ee9d60052",
   "metadata": {},
   "outputs": [
    {
     "data": {
      "text/html": [
       "<table class=\"dataframe\">\n",
       "<caption>A grouped_df: 7 × 5</caption>\n",
       "<thead>\n",
       "\t<tr><th scope=col>species</th><th scope=col>set</th><th scope=col>variable</th><th scope=col>n_miss</th><th scope=col>pct_miss</th></tr>\n",
       "\t<tr><th scope=col>&lt;chr&gt;</th><th scope=col>&lt;chr&gt;</th><th scope=col>&lt;chr&gt;</th><th scope=col>&lt;int&gt;</th><th scope=col>&lt;dbl&gt;</th></tr>\n",
       "</thead>\n",
       "<tbody>\n",
       "\t<tr><td>Fagus sylvatica</td><td>test </td><td>crown_radius_m</td><td> 503</td><td>25.650178480</td></tr>\n",
       "\t<tr><td>Fagus sylvatica</td><td>test </td><td>height_m      </td><td> 101</td><td> 5.150433452</td></tr>\n",
       "\t<tr><td>Fagus sylvatica</td><td>train</td><td>crown_radius_m</td><td>1883</td><td>25.076574777</td></tr>\n",
       "\t<tr><td>Fagus sylvatica</td><td>train</td><td>height_m      </td><td> 432</td><td> 5.753096284</td></tr>\n",
       "\t<tr><td>Quercus ilex   </td><td>train</td><td>crown_radius_m</td><td>1472</td><td> 8.099928465</td></tr>\n",
       "\t<tr><td>Quercus ilex   </td><td>train</td><td>height_m      </td><td>   1</td><td> 0.005502669</td></tr>\n",
       "\t<tr><td>Quercus ilex   </td><td>test </td><td>crown_radius_m</td><td> 330</td><td> 7.194244604</td></tr>\n",
       "</tbody>\n",
       "</table>\n"
      ],
      "text/latex": [
       "A grouped\\_df: 7 × 5\n",
       "\\begin{tabular}{lllll}\n",
       " species & set & variable & n\\_miss & pct\\_miss\\\\\n",
       " <chr> & <chr> & <chr> & <int> & <dbl>\\\\\n",
       "\\hline\n",
       "\t Fagus sylvatica & test  & crown\\_radius\\_m &  503 & 25.650178480\\\\\n",
       "\t Fagus sylvatica & test  & height\\_m       &  101 &  5.150433452\\\\\n",
       "\t Fagus sylvatica & train & crown\\_radius\\_m & 1883 & 25.076574777\\\\\n",
       "\t Fagus sylvatica & train & height\\_m       &  432 &  5.753096284\\\\\n",
       "\t Quercus ilex    & train & crown\\_radius\\_m & 1472 &  8.099928465\\\\\n",
       "\t Quercus ilex    & train & height\\_m       &    1 &  0.005502669\\\\\n",
       "\t Quercus ilex    & test  & crown\\_radius\\_m &  330 &  7.194244604\\\\\n",
       "\\end{tabular}\n"
      ],
      "text/markdown": [
       "\n",
       "A grouped_df: 7 × 5\n",
       "\n",
       "| species &lt;chr&gt; | set &lt;chr&gt; | variable &lt;chr&gt; | n_miss &lt;int&gt; | pct_miss &lt;dbl&gt; |\n",
       "|---|---|---|---|---|\n",
       "| Fagus sylvatica | test  | crown_radius_m |  503 | 25.650178480 |\n",
       "| Fagus sylvatica | test  | height_m       |  101 |  5.150433452 |\n",
       "| Fagus sylvatica | train | crown_radius_m | 1883 | 25.076574777 |\n",
       "| Fagus sylvatica | train | height_m       |  432 |  5.753096284 |\n",
       "| Quercus ilex    | train | crown_radius_m | 1472 |  8.099928465 |\n",
       "| Quercus ilex    | train | height_m       |    1 |  0.005502669 |\n",
       "| Quercus ilex    | test  | crown_radius_m |  330 |  7.194244604 |\n",
       "\n"
      ],
      "text/plain": [
       "  species         set   variable       n_miss pct_miss    \n",
       "1 Fagus sylvatica test  crown_radius_m  503   25.650178480\n",
       "2 Fagus sylvatica test  height_m        101    5.150433452\n",
       "3 Fagus sylvatica train crown_radius_m 1883   25.076574777\n",
       "4 Fagus sylvatica train height_m        432    5.753096284\n",
       "5 Quercus ilex    train crown_radius_m 1472    8.099928465\n",
       "6 Quercus ilex    train height_m          1    0.005502669\n",
       "7 Quercus ilex    test  crown_radius_m  330    7.194244604"
      ]
     },
     "metadata": {},
     "output_type": "display_data"
    }
   ],
   "source": [
    "train_test %>% group_by(set, species) %>% miss_var_summary %>% filter(n_miss>0)"
   ]
  }
 ],
 "metadata": {
  "kernelspec": {
   "display_name": "R",
   "language": "R",
   "name": "ir"
  },
  "language_info": {
   "codemirror_mode": "r",
   "file_extension": ".r",
   "mimetype": "text/x-r-source",
   "name": "R",
   "pygments_lexer": "r",
   "version": "4.1.2"
  }
 },
 "nbformat": 4,
 "nbformat_minor": 5
}
