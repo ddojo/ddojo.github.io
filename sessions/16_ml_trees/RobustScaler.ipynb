{
 "cells": [
  {
   "cell_type": "code",
   "execution_count": 1,
   "id": "baf7451f-78b2-45f9-b9b8-54e314fe127e",
   "metadata": {},
   "outputs": [],
   "source": [
    "import numpy as np\n",
    "import pandas as pd\n",
    "import sklearn"
   ]
  },
  {
   "cell_type": "code",
   "execution_count": 2,
   "id": "7fc3403e-e335-44d1-b609-f3d6a226ba16",
   "metadata": {},
   "outputs": [],
   "source": [
    "names = [\"Mike\",\"Max\",\"Robin\",\"Simon\",\"Markus\"]"
   ]
  },
  {
   "cell_type": "code",
   "execution_count": 3,
   "id": "1d042bac-4961-4cbd-a125-9c4798b1a589",
   "metadata": {},
   "outputs": [],
   "source": [
    "np.random.shuffle(names)"
   ]
  },
  {
   "cell_type": "code",
   "execution_count": 4,
   "id": "38271f7d-8275-460c-b0d8-dc748a152edc",
   "metadata": {},
   "outputs": [
    {
     "data": {
      "text/plain": [
       "['Markus', 'Mike', 'Robin', 'Simon', 'Max']"
      ]
     },
     "execution_count": 4,
     "metadata": {},
     "output_type": "execute_result"
    }
   ],
   "source": [
    "names"
   ]
  },
  {
   "cell_type": "code",
   "execution_count": 5,
   "id": "f4ecd860-72d3-4907-880d-25b451719778",
   "metadata": {},
   "outputs": [],
   "source": [
    "data = pd.read_csv(\"../14_trees/train.tsv\", sep = \"\\t\").dropna()"
   ]
  },
  {
   "cell_type": "code",
   "execution_count": 6,
   "id": "8b4e14fb-b23b-4443-87e8-f97b1203f165",
   "metadata": {},
   "outputs": [
    {
     "data": {
      "text/html": [
       "<div>\n",
       "<style scoped>\n",
       "    .dataframe tbody tr th:only-of-type {\n",
       "        vertical-align: middle;\n",
       "    }\n",
       "\n",
       "    .dataframe tbody tr th {\n",
       "        vertical-align: top;\n",
       "    }\n",
       "\n",
       "    .dataframe thead th {\n",
       "        text-align: right;\n",
       "    }\n",
       "</style>\n",
       "<table border=\"1\" class=\"dataframe\">\n",
       "  <thead>\n",
       "    <tr style=\"text-align: right;\">\n",
       "      <th></th>\n",
       "      <th>species</th>\n",
       "      <th>latitude</th>\n",
       "      <th>longitude</th>\n",
       "      <th>stem_diameter_cm</th>\n",
       "      <th>height_m</th>\n",
       "      <th>crown_radius_m</th>\n",
       "    </tr>\n",
       "  </thead>\n",
       "  <tbody>\n",
       "    <tr>\n",
       "      <th>0</th>\n",
       "      <td>Fagus sylvatica</td>\n",
       "      <td>46.01</td>\n",
       "      <td>11.44</td>\n",
       "      <td>5.0</td>\n",
       "      <td>6.7</td>\n",
       "      <td>2.05</td>\n",
       "    </tr>\n",
       "    <tr>\n",
       "      <th>1</th>\n",
       "      <td>Fagus sylvatica</td>\n",
       "      <td>46.03</td>\n",
       "      <td>11.44</td>\n",
       "      <td>5.0</td>\n",
       "      <td>11.1</td>\n",
       "      <td>2.90</td>\n",
       "    </tr>\n",
       "    <tr>\n",
       "      <th>2</th>\n",
       "      <td>Fagus sylvatica</td>\n",
       "      <td>46.03</td>\n",
       "      <td>11.44</td>\n",
       "      <td>5.0</td>\n",
       "      <td>14.2</td>\n",
       "      <td>4.00</td>\n",
       "    </tr>\n",
       "    <tr>\n",
       "      <th>3</th>\n",
       "      <td>Fagus sylvatica</td>\n",
       "      <td>46.03</td>\n",
       "      <td>11.44</td>\n",
       "      <td>5.0</td>\n",
       "      <td>5.7</td>\n",
       "      <td>2.10</td>\n",
       "    </tr>\n",
       "    <tr>\n",
       "      <th>4</th>\n",
       "      <td>Fagus sylvatica</td>\n",
       "      <td>46.03</td>\n",
       "      <td>11.44</td>\n",
       "      <td>5.0</td>\n",
       "      <td>8.0</td>\n",
       "      <td>4.15</td>\n",
       "    </tr>\n",
       "    <tr>\n",
       "      <th>...</th>\n",
       "      <td>...</td>\n",
       "      <td>...</td>\n",
       "      <td>...</td>\n",
       "      <td>...</td>\n",
       "      <td>...</td>\n",
       "      <td>...</td>\n",
       "    </tr>\n",
       "    <tr>\n",
       "      <th>35094</th>\n",
       "      <td>Fagus sylvatica</td>\n",
       "      <td>47.38</td>\n",
       "      <td>9.09</td>\n",
       "      <td>36.0</td>\n",
       "      <td>22.6</td>\n",
       "      <td>4.50</td>\n",
       "    </tr>\n",
       "    <tr>\n",
       "      <th>35095</th>\n",
       "      <td>Fagus sylvatica</td>\n",
       "      <td>46.74</td>\n",
       "      <td>6.85</td>\n",
       "      <td>37.0</td>\n",
       "      <td>34.3</td>\n",
       "      <td>4.50</td>\n",
       "    </tr>\n",
       "    <tr>\n",
       "      <th>35096</th>\n",
       "      <td>Fagus sylvatica</td>\n",
       "      <td>47.45</td>\n",
       "      <td>9.29</td>\n",
       "      <td>38.0</td>\n",
       "      <td>33.8</td>\n",
       "      <td>5.00</td>\n",
       "    </tr>\n",
       "    <tr>\n",
       "      <th>35097</th>\n",
       "      <td>Fagus sylvatica</td>\n",
       "      <td>46.52</td>\n",
       "      <td>6.35</td>\n",
       "      <td>40.0</td>\n",
       "      <td>29.3</td>\n",
       "      <td>6.00</td>\n",
       "    </tr>\n",
       "    <tr>\n",
       "      <th>35098</th>\n",
       "      <td>Fagus sylvatica</td>\n",
       "      <td>47.31</td>\n",
       "      <td>8.99</td>\n",
       "      <td>59.0</td>\n",
       "      <td>36.9</td>\n",
       "      <td>7.00</td>\n",
       "    </tr>\n",
       "  </tbody>\n",
       "</table>\n",
       "<p>31311 rows × 6 columns</p>\n",
       "</div>"
      ],
      "text/plain": [
       "               species  latitude  longitude  stem_diameter_cm  height_m  \\\n",
       "0      Fagus sylvatica     46.01      11.44               5.0       6.7   \n",
       "1      Fagus sylvatica     46.03      11.44               5.0      11.1   \n",
       "2      Fagus sylvatica     46.03      11.44               5.0      14.2   \n",
       "3      Fagus sylvatica     46.03      11.44               5.0       5.7   \n",
       "4      Fagus sylvatica     46.03      11.44               5.0       8.0   \n",
       "...                ...       ...        ...               ...       ...   \n",
       "35094  Fagus sylvatica     47.38       9.09              36.0      22.6   \n",
       "35095  Fagus sylvatica     46.74       6.85              37.0      34.3   \n",
       "35096  Fagus sylvatica     47.45       9.29              38.0      33.8   \n",
       "35097  Fagus sylvatica     46.52       6.35              40.0      29.3   \n",
       "35098  Fagus sylvatica     47.31       8.99              59.0      36.9   \n",
       "\n",
       "       crown_radius_m  \n",
       "0                2.05  \n",
       "1                2.90  \n",
       "2                4.00  \n",
       "3                2.10  \n",
       "4                4.15  \n",
       "...               ...  \n",
       "35094            4.50  \n",
       "35095            4.50  \n",
       "35096            5.00  \n",
       "35097            6.00  \n",
       "35098            7.00  \n",
       "\n",
       "[31311 rows x 6 columns]"
      ]
     },
     "execution_count": 6,
     "metadata": {},
     "output_type": "execute_result"
    }
   ],
   "source": [
    "data"
   ]
  },
  {
   "cell_type": "code",
   "execution_count": 7,
   "id": "c1b0c45d-3b39-4ac8-ad9c-fc06118a95d1",
   "metadata": {},
   "outputs": [
    {
     "data": {
      "text/plain": [
       "species             Fagus sylvatica\n",
       "latitude                     36.263\n",
       "longitude                    -9.148\n",
       "stem_diameter_cm                2.0\n",
       "height_m                        1.5\n",
       "crown_radius_m                 0.25\n",
       "dtype: object"
      ]
     },
     "execution_count": 7,
     "metadata": {},
     "output_type": "execute_result"
    }
   ],
   "source": [
    "data.min()"
   ]
  },
  {
   "cell_type": "code",
   "execution_count": 8,
   "id": "b8887519-8521-421e-9f3d-837b5ac07332",
   "metadata": {},
   "outputs": [
    {
     "data": {
      "text/plain": [
       "species             Quercus ilex\n",
       "latitude                  55.451\n",
       "longitude                   26.0\n",
       "stem_diameter_cm           162.0\n",
       "height_m                    43.9\n",
       "crown_radius_m              12.8\n",
       "dtype: object"
      ]
     },
     "execution_count": 8,
     "metadata": {},
     "output_type": "execute_result"
    }
   ],
   "source": [
    "data.max()"
   ]
  },
  {
   "cell_type": "code",
   "execution_count": 9,
   "id": "c399dcec-fbbb-4693-aa97-0d8aa863c9cf",
   "metadata": {},
   "outputs": [],
   "source": [
    "X = data[[\"latitude\", \"longitude\", \"stem_diameter_cm\", \"height_m\", \"crown_radius_m\"]]\n",
    "y = data[\"species\"]\n",
    "\n",
    "from sklearn.model_selection import train_test_split\n",
    "X_train, X_val, y_train, y_val = train_test_split(X, y)"
   ]
  },
  {
   "cell_type": "code",
   "execution_count": 10,
   "id": "f4d23044-4cd9-4e23-9859-783750342c0d",
   "metadata": {},
   "outputs": [],
   "source": [
    "from sklearn.preprocessing import RobustScaler\n",
    "\n",
    "scaler = RobustScaler()\n",
    "scaler.fit(X_train)\n",
    "X_train_scaled = scaler.transform(X_train)\n",
    "X_val_scaled = scaler.transform(X_val)"
   ]
  },
  {
   "cell_type": "code",
   "execution_count": 11,
   "id": "cfdae7fe-ed1b-4c2c-ae4d-1223395ee3a2",
   "metadata": {},
   "outputs": [],
   "source": [
    "from sklearn.neighbors import KNeighborsClassifier"
   ]
  },
  {
   "cell_type": "code",
   "execution_count": 23,
   "id": "a00488fb-d06d-412d-87f1-c3d0ed1fabb8",
   "metadata": {},
   "outputs": [
    {
     "data": {
      "text/plain": [
       "[<matplotlib.lines.Line2D at 0x7f9509294eb0>]"
      ]
     },
     "execution_count": 23,
     "metadata": {},
     "output_type": "execute_result"
    },
    {
     "data": {
      "image/png": "[encoded data removed]",
      "text/plain": [
       "<Figure size 432x288 with 1 Axes>"
      ]
     },
     "metadata": {
      "needs_background": "light"
     },
     "output_type": "display_data"
    }
   ],
   "source": [
    "scores = []\n",
    "for k in range(1, 20):\n",
    "    neigh = KNeighborsClassifier(n_neighbors=k)\n",
    "    neigh.fit(X_train_scaled, y_train)\n",
    "    scores.append(neigh.score(X_val_scaled, y_val))\n",
    "    \n",
    "import matplotlib.pyplot as plt\n",
    "plt.plot(list(range(1,len(scores)+1)), scores)"
   ]
  },
  {
   "cell_type": "code",
   "execution_count": 24,
   "id": "e5081ebd-2780-45f8-acef-543ebe3aea9c",
   "metadata": {},
   "outputs": [
    {
     "data": {
      "text/plain": [
       "7"
      ]
     },
     "execution_count": 24,
     "metadata": {},
     "output_type": "execute_result"
    }
   ],
   "source": [
    "np.argmax(scores)+1"
   ]
  },
  {
   "cell_type": "code",
   "execution_count": 13,
   "id": "bfddfe85-bc3d-4087-93e9-25bf85ec7db7",
   "metadata": {},
   "outputs": [
    {
     "data": {
      "text/plain": [
       "(-10.9054, 27.7574, -6.0, 170.0)"
      ]
     },
     "execution_count": 13,
     "metadata": {},
     "output_type": "execute_result"
    },
    {
     "data": {
      "image/png": "[encoded data removed]",
      "text/plain": [
       "<Figure size 432x288 with 1 Axes>"
      ]
     },
     "metadata": {
      "needs_background": "light"
     },
     "output_type": "display_data"
    }
   ],
   "source": [
    "plt.scatter(X_train.iloc[:,1], X_train.iloc[:,2],c = y_train.astype(\"category\").cat.codes )\n",
    "plt.axis(\"scaled\") "
   ]
  },
  {
   "cell_type": "code",
   "execution_count": 14,
   "id": "4fa7d2cf-c079-4c35-b823-12e48e87df33",
   "metadata": {},
   "outputs": [
    {
     "data": {
      "text/plain": [
       "(-1.7156205141589456,\n",
       " 8.375153334203315,\n",
       " -1.3766816143497755,\n",
       " 6.515695067264574)"
      ]
     },
     "execution_count": 14,
     "metadata": {},
     "output_type": "execute_result"
    },
    {
     "data": {
      "image/png": "[encoded data removed]",
      "text/plain": [
       "<Figure size 432x288 with 1 Axes>"
      ]
     },
     "metadata": {
      "needs_background": "light"
     },
     "output_type": "display_data"
    }
   ],
   "source": [
    "plt.scatter(X_train_scaled[:,1], X_train_scaled[:,2],c = y_train.astype(\"category\").cat.codes )\n",
    "plt.axis(\"scaled\")"
   ]
  },
  {
   "cell_type": "code",
   "execution_count": 15,
   "id": "025716c9-4881-4a5e-a504-2d33d4154302",
   "metadata": {},
   "outputs": [],
   "source": [
    "c = y_train.astype(\"category\").cat.codes "
   ]
  },
  {
   "cell_type": "code",
   "execution_count": 16,
   "id": "23eaef57-9dde-47d8-a4a9-899eb0684536",
   "metadata": {},
   "outputs": [],
   "source": [
    "test = pd.read_csv(\"../14_trees/test.tsv\", sep = \"\\t\").dropna()"
   ]
  },
  {
   "cell_type": "code",
   "execution_count": 17,
   "id": "cd0443d0-c81d-4d8e-99b5-1d724ce0cf28",
   "metadata": {},
   "outputs": [],
   "source": [
    "X_test = test[[\"latitude\", \"longitude\", \"stem_diameter_cm\", \"height_m\", \"crown_radius_m\"]]\n",
    "treeID = test[\"tree_id\"]"
   ]
  },
  {
   "cell_type": "code",
   "execution_count": 18,
   "id": "0c25f8f7-1de5-4de8-89cd-1f5de3892ec4",
   "metadata": {},
   "outputs": [],
   "source": [
    "X_test_scaled = scaler.transform(X_test)"
   ]
  },
  {
   "cell_type": "code",
   "execution_count": 25,
   "id": "fe77ae9e-d697-40c1-8b58-63ac2c64d018",
   "metadata": {},
   "outputs": [],
   "source": [
    "neigh = KNeighborsClassifier(n_neighbors=7)\n",
    "neigh.fit(X_train_scaled, y_train)\n",
    "prediction = neigh.predict(X_test_scaled)"
   ]
  },
  {
   "cell_type": "code",
   "execution_count": 26,
   "id": "267e9249-590a-4cef-b867-62f22d7e735a",
   "metadata": {},
   "outputs": [],
   "source": [
    "pred = pd.DataFrame()\n",
    "pred[\"tree_id\"] = treeID\n",
    "pred[\"species\"] = prediction"
   ]
  },
  {
   "cell_type": "code",
   "execution_count": 27,
   "id": "202101c2-072e-4b4f-aa1a-f9c807ae217b",
   "metadata": {},
   "outputs": [],
   "source": [
    "pred.to_csv(\"knn_7_scaled_robust.tsv\", sep=\"\\t\", index=False)"
   ]
  },
  {
   "cell_type": "code",
   "execution_count": null,
   "id": "df17c191-1be0-4f02-8294-eba00e20b2cc",
   "metadata": {},
   "outputs": [],
   "source": []
  }
 ],
 "metadata": {
  "kernelspec": {
   "display_name": "Python 3 (ipykernel)",
   "language": "python",
   "name": "python3"
  },
  "language_info": {
   "codemirror_mode": {
    "name": "ipython",
    "version": 3
   },
   "file_extension": ".py",
   "mimetype": "text/x-python",
   "name": "python",
   "nbconvert_exporter": "python",
   "pygments_lexer": "ipython3",
   "version": "3.9.9"
  }
 },
 "nbformat": 4,
 "nbformat_minor": 5
}
