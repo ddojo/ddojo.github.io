{
 "cells": [
  {
   "cell_type": "code",
   "execution_count": 1,
   "id": "8cfb86c0-2c6a-4e99-8a7c-1489bae4697c",
   "metadata": {},
   "outputs": [],
   "source": [
    "import numpy as np\n",
    "import sklearn"
   ]
  },
  {
   "cell_type": "code",
   "execution_count": 2,
   "id": "7457e4c2-51ef-4a9b-a5ff-022e25076ffd",
   "metadata": {},
   "outputs": [],
   "source": [
    "names = [\"Mike\",\"Max\",\"Jörg\",\"Simon\",\"Jana\",\"Felix\",\"Markus\"]"
   ]
  },
  {
   "cell_type": "code",
   "execution_count": 3,
   "id": "4c55ad77-6b09-4ed9-8915-7213b8d554a1",
   "metadata": {},
   "outputs": [
    {
     "name": "stdout",
     "output_type": "stream",
     "text": [
      "['Mike', 'Max', 'Simon', 'Jörg', 'Felix', 'Markus', 'Jana']\n"
     ]
    }
   ],
   "source": [
    "np.random.shuffle(names)\n",
    "print(names)"
   ]
  },
  {
   "cell_type": "code",
   "execution_count": 4,
   "id": "e10040e8-b5d2-4ca0-bf7b-61a861aba1de",
   "metadata": {},
   "outputs": [],
   "source": [
    "import pandas as pd"
   ]
  },
  {
   "cell_type": "code",
   "execution_count": 5,
   "id": "91e1723a-04c5-4c03-bad9-4fff8e3e831c",
   "metadata": {},
   "outputs": [],
   "source": [
    "data = pd.read_csv(\"../14_trees/train.tsv\", sep = \"\\t\").dropna()"
   ]
  },
  {
   "cell_type": "code",
   "execution_count": 6,
   "id": "9809ad65-1134-477e-9c9b-8b9de6d5f589",
   "metadata": {},
   "outputs": [
    {
     "data": {
      "text/html": [
       "<div>\n",
       "<style scoped>\n",
       "    .dataframe tbody tr th:only-of-type {\n",
       "        vertical-align: middle;\n",
       "    }\n",
       "\n",
       "    .dataframe tbody tr th {\n",
       "        vertical-align: top;\n",
       "    }\n",
       "\n",
       "    .dataframe thead th {\n",
       "        text-align: right;\n",
       "    }\n",
       "</style>\n",
       "<table border=\"1\" class=\"dataframe\">\n",
       "  <thead>\n",
       "    <tr style=\"text-align: right;\">\n",
       "      <th></th>\n",
       "      <th>species</th>\n",
       "      <th>latitude</th>\n",
       "      <th>longitude</th>\n",
       "      <th>stem_diameter_cm</th>\n",
       "      <th>height_m</th>\n",
       "      <th>crown_radius_m</th>\n",
       "    </tr>\n",
       "  </thead>\n",
       "  <tbody>\n",
       "    <tr>\n",
       "      <th>0</th>\n",
       "      <td>Fagus sylvatica</td>\n",
       "      <td>46.01</td>\n",
       "      <td>11.44</td>\n",
       "      <td>5.0</td>\n",
       "      <td>6.7</td>\n",
       "      <td>2.05</td>\n",
       "    </tr>\n",
       "    <tr>\n",
       "      <th>1</th>\n",
       "      <td>Fagus sylvatica</td>\n",
       "      <td>46.03</td>\n",
       "      <td>11.44</td>\n",
       "      <td>5.0</td>\n",
       "      <td>11.1</td>\n",
       "      <td>2.90</td>\n",
       "    </tr>\n",
       "    <tr>\n",
       "      <th>2</th>\n",
       "      <td>Fagus sylvatica</td>\n",
       "      <td>46.03</td>\n",
       "      <td>11.44</td>\n",
       "      <td>5.0</td>\n",
       "      <td>14.2</td>\n",
       "      <td>4.00</td>\n",
       "    </tr>\n",
       "    <tr>\n",
       "      <th>3</th>\n",
       "      <td>Fagus sylvatica</td>\n",
       "      <td>46.03</td>\n",
       "      <td>11.44</td>\n",
       "      <td>5.0</td>\n",
       "      <td>5.7</td>\n",
       "      <td>2.10</td>\n",
       "    </tr>\n",
       "    <tr>\n",
       "      <th>4</th>\n",
       "      <td>Fagus sylvatica</td>\n",
       "      <td>46.03</td>\n",
       "      <td>11.44</td>\n",
       "      <td>5.0</td>\n",
       "      <td>8.0</td>\n",
       "      <td>4.15</td>\n",
       "    </tr>\n",
       "    <tr>\n",
       "      <th>...</th>\n",
       "      <td>...</td>\n",
       "      <td>...</td>\n",
       "      <td>...</td>\n",
       "      <td>...</td>\n",
       "      <td>...</td>\n",
       "      <td>...</td>\n",
       "    </tr>\n",
       "    <tr>\n",
       "      <th>35094</th>\n",
       "      <td>Fagus sylvatica</td>\n",
       "      <td>47.38</td>\n",
       "      <td>9.09</td>\n",
       "      <td>36.0</td>\n",
       "      <td>22.6</td>\n",
       "      <td>4.50</td>\n",
       "    </tr>\n",
       "    <tr>\n",
       "      <th>35095</th>\n",
       "      <td>Fagus sylvatica</td>\n",
       "      <td>46.74</td>\n",
       "      <td>6.85</td>\n",
       "      <td>37.0</td>\n",
       "      <td>34.3</td>\n",
       "      <td>4.50</td>\n",
       "    </tr>\n",
       "    <tr>\n",
       "      <th>35096</th>\n",
       "      <td>Fagus sylvatica</td>\n",
       "      <td>47.45</td>\n",
       "      <td>9.29</td>\n",
       "      <td>38.0</td>\n",
       "      <td>33.8</td>\n",
       "      <td>5.00</td>\n",
       "    </tr>\n",
       "    <tr>\n",
       "      <th>35097</th>\n",
       "      <td>Fagus sylvatica</td>\n",
       "      <td>46.52</td>\n",
       "      <td>6.35</td>\n",
       "      <td>40.0</td>\n",
       "      <td>29.3</td>\n",
       "      <td>6.00</td>\n",
       "    </tr>\n",
       "    <tr>\n",
       "      <th>35098</th>\n",
       "      <td>Fagus sylvatica</td>\n",
       "      <td>47.31</td>\n",
       "      <td>8.99</td>\n",
       "      <td>59.0</td>\n",
       "      <td>36.9</td>\n",
       "      <td>7.00</td>\n",
       "    </tr>\n",
       "  </tbody>\n",
       "</table>\n",
       "<p>31311 rows × 6 columns</p>\n",
       "</div>"
      ],
      "text/plain": [
       "               species  latitude  longitude  stem_diameter_cm  height_m  \\\n",
       "0      Fagus sylvatica     46.01      11.44               5.0       6.7   \n",
       "1      Fagus sylvatica     46.03      11.44               5.0      11.1   \n",
       "2      Fagus sylvatica     46.03      11.44               5.0      14.2   \n",
       "3      Fagus sylvatica     46.03      11.44               5.0       5.7   \n",
       "4      Fagus sylvatica     46.03      11.44               5.0       8.0   \n",
       "...                ...       ...        ...               ...       ...   \n",
       "35094  Fagus sylvatica     47.38       9.09              36.0      22.6   \n",
       "35095  Fagus sylvatica     46.74       6.85              37.0      34.3   \n",
       "35096  Fagus sylvatica     47.45       9.29              38.0      33.8   \n",
       "35097  Fagus sylvatica     46.52       6.35              40.0      29.3   \n",
       "35098  Fagus sylvatica     47.31       8.99              59.0      36.9   \n",
       "\n",
       "       crown_radius_m  \n",
       "0                2.05  \n",
       "1                2.90  \n",
       "2                4.00  \n",
       "3                2.10  \n",
       "4                4.15  \n",
       "...               ...  \n",
       "35094            4.50  \n",
       "35095            4.50  \n",
       "35096            5.00  \n",
       "35097            6.00  \n",
       "35098            7.00  \n",
       "\n",
       "[31311 rows x 6 columns]"
      ]
     },
     "execution_count": 6,
     "metadata": {},
     "output_type": "execute_result"
    }
   ],
   "source": [
    "data\n"
   ]
  },
  {
   "cell_type": "code",
   "execution_count": 7,
   "id": "1fe98402-9133-4a0f-ba0a-804574471f80",
   "metadata": {},
   "outputs": [],
   "source": [
    "y = pd.read_csv(\"../14_trees/train.tsv\", sep = \"\\t\")\n"
   ]
  },
  {
   "cell_type": "code",
   "execution_count": 8,
   "id": "876a40ea-64b4-40ad-b96c-a14a837fc7bb",
   "metadata": {},
   "outputs": [],
   "source": [
    "y = data[\"species\"]"
   ]
  },
  {
   "cell_type": "code",
   "execution_count": 9,
   "id": "ee4b8f51-58d3-4101-b2f1-dac177e3946f",
   "metadata": {},
   "outputs": [
    {
     "name": "stdout",
     "output_type": "stream",
     "text": [
      "0        Fagus sylvatica\n",
      "1        Fagus sylvatica\n",
      "2        Fagus sylvatica\n",
      "3        Fagus sylvatica\n",
      "4        Fagus sylvatica\n",
      "              ...       \n",
      "35094    Fagus sylvatica\n",
      "35095    Fagus sylvatica\n",
      "35096    Fagus sylvatica\n",
      "35097    Fagus sylvatica\n",
      "35098    Fagus sylvatica\n",
      "Name: species, Length: 31311, dtype: object\n"
     ]
    }
   ],
   "source": [
    "print(y)"
   ]
  },
  {
   "cell_type": "code",
   "execution_count": 10,
   "id": "88b5ecd9-fa0c-4bae-8135-fe679e676bb6",
   "metadata": {},
   "outputs": [
    {
     "data": {
      "text/html": [
       "<div>\n",
       "<style scoped>\n",
       "    .dataframe tbody tr th:only-of-type {\n",
       "        vertical-align: middle;\n",
       "    }\n",
       "\n",
       "    .dataframe tbody tr th {\n",
       "        vertical-align: top;\n",
       "    }\n",
       "\n",
       "    .dataframe thead th {\n",
       "        text-align: right;\n",
       "    }\n",
       "</style>\n",
       "<table border=\"1\" class=\"dataframe\">\n",
       "  <thead>\n",
       "    <tr style=\"text-align: right;\">\n",
       "      <th></th>\n",
       "      <th>latitude</th>\n",
       "      <th>longitude</th>\n",
       "      <th>stem_diameter_cm</th>\n",
       "      <th>height_m</th>\n",
       "      <th>crown_radius_m</th>\n",
       "    </tr>\n",
       "  </thead>\n",
       "  <tbody>\n",
       "    <tr>\n",
       "      <th>0</th>\n",
       "      <td>46.01</td>\n",
       "      <td>11.44</td>\n",
       "      <td>5.0</td>\n",
       "      <td>6.7</td>\n",
       "      <td>2.05</td>\n",
       "    </tr>\n",
       "    <tr>\n",
       "      <th>1</th>\n",
       "      <td>46.03</td>\n",
       "      <td>11.44</td>\n",
       "      <td>5.0</td>\n",
       "      <td>11.1</td>\n",
       "      <td>2.90</td>\n",
       "    </tr>\n",
       "    <tr>\n",
       "      <th>2</th>\n",
       "      <td>46.03</td>\n",
       "      <td>11.44</td>\n",
       "      <td>5.0</td>\n",
       "      <td>14.2</td>\n",
       "      <td>4.00</td>\n",
       "    </tr>\n",
       "    <tr>\n",
       "      <th>3</th>\n",
       "      <td>46.03</td>\n",
       "      <td>11.44</td>\n",
       "      <td>5.0</td>\n",
       "      <td>5.7</td>\n",
       "      <td>2.10</td>\n",
       "    </tr>\n",
       "    <tr>\n",
       "      <th>4</th>\n",
       "      <td>46.03</td>\n",
       "      <td>11.44</td>\n",
       "      <td>5.0</td>\n",
       "      <td>8.0</td>\n",
       "      <td>4.15</td>\n",
       "    </tr>\n",
       "    <tr>\n",
       "      <th>...</th>\n",
       "      <td>...</td>\n",
       "      <td>...</td>\n",
       "      <td>...</td>\n",
       "      <td>...</td>\n",
       "      <td>...</td>\n",
       "    </tr>\n",
       "    <tr>\n",
       "      <th>35094</th>\n",
       "      <td>47.38</td>\n",
       "      <td>9.09</td>\n",
       "      <td>36.0</td>\n",
       "      <td>22.6</td>\n",
       "      <td>4.50</td>\n",
       "    </tr>\n",
       "    <tr>\n",
       "      <th>35095</th>\n",
       "      <td>46.74</td>\n",
       "      <td>6.85</td>\n",
       "      <td>37.0</td>\n",
       "      <td>34.3</td>\n",
       "      <td>4.50</td>\n",
       "    </tr>\n",
       "    <tr>\n",
       "      <th>35096</th>\n",
       "      <td>47.45</td>\n",
       "      <td>9.29</td>\n",
       "      <td>38.0</td>\n",
       "      <td>33.8</td>\n",
       "      <td>5.00</td>\n",
       "    </tr>\n",
       "    <tr>\n",
       "      <th>35097</th>\n",
       "      <td>46.52</td>\n",
       "      <td>6.35</td>\n",
       "      <td>40.0</td>\n",
       "      <td>29.3</td>\n",
       "      <td>6.00</td>\n",
       "    </tr>\n",
       "    <tr>\n",
       "      <th>35098</th>\n",
       "      <td>47.31</td>\n",
       "      <td>8.99</td>\n",
       "      <td>59.0</td>\n",
       "      <td>36.9</td>\n",
       "      <td>7.00</td>\n",
       "    </tr>\n",
       "  </tbody>\n",
       "</table>\n",
       "<p>31311 rows × 5 columns</p>\n",
       "</div>"
      ],
      "text/plain": [
       "       latitude  longitude  stem_diameter_cm  height_m  crown_radius_m\n",
       "0         46.01      11.44               5.0       6.7            2.05\n",
       "1         46.03      11.44               5.0      11.1            2.90\n",
       "2         46.03      11.44               5.0      14.2            4.00\n",
       "3         46.03      11.44               5.0       5.7            2.10\n",
       "4         46.03      11.44               5.0       8.0            4.15\n",
       "...         ...        ...               ...       ...             ...\n",
       "35094     47.38       9.09              36.0      22.6            4.50\n",
       "35095     46.74       6.85              37.0      34.3            4.50\n",
       "35096     47.45       9.29              38.0      33.8            5.00\n",
       "35097     46.52       6.35              40.0      29.3            6.00\n",
       "35098     47.31       8.99              59.0      36.9            7.00\n",
       "\n",
       "[31311 rows x 5 columns]"
      ]
     },
     "execution_count": 10,
     "metadata": {},
     "output_type": "execute_result"
    }
   ],
   "source": [
    "X = data[[\"latitude\", \"longitude\", \"stem_diameter_cm\", \"height_m\", \"crown_radius_m\"]]\n",
    "X"
   ]
  },
  {
   "cell_type": "code",
   "execution_count": 11,
   "id": "ea61dc94-e1f7-4c00-b1ff-143a74888c1a",
   "metadata": {},
   "outputs": [],
   "source": [
    "X = X.to_numpy()"
   ]
  },
  {
   "cell_type": "code",
   "execution_count": 12,
   "id": "45d634f0-e635-490a-bb65-1d7ab325383d",
   "metadata": {},
   "outputs": [],
   "source": [
    "y = y.to_numpy()"
   ]
  },
  {
   "cell_type": "code",
   "execution_count": 13,
   "id": "e519c200-7349-4b5a-a354-b6a06865fc97",
   "metadata": {},
   "outputs": [
    {
     "data": {
      "text/plain": [
       "(array(['Fagus sylvatica', 'Pinus pinaster', 'Quercus ilex'], dtype=object),\n",
       " array([ 5194,  9417, 16700]))"
      ]
     },
     "execution_count": 13,
     "metadata": {},
     "output_type": "execute_result"
    }
   ],
   "source": [
    "np.unique(y, return_counts = True)"
   ]
  },
  {
   "cell_type": "code",
   "execution_count": 14,
   "id": "480a9830-9f65-47c5-ad93-cdf85f23d876",
   "metadata": {},
   "outputs": [],
   "source": [
    "test = pd.read_csv(\"../14_trees/test.tsv\", sep = \"\\t\")"
   ]
  },
  {
   "cell_type": "markdown",
   "id": "296c44c5-aa20-4d9e-b50d-42a21ca46174",
   "metadata": {},
   "source": [
    "## Majority Voting"
   ]
  },
  {
   "cell_type": "code",
   "execution_count": 15,
   "id": "49d82dd2-cb4a-42db-ace8-79165d133662",
   "metadata": {},
   "outputs": [],
   "source": [
    "def majority_prediction(X, y, test):\n",
    "    u = np.unique(y, return_counts = True)\n",
    "    majority = u[0][u[1].argmax()]\n",
    "    prediction = pd.DataFrame()\n",
    "    prediction[\"tree_id\"] = test.tree_id\n",
    "    prediction[\"species\"] = majority\n",
    "    return prediction"
   ]
  },
  {
   "cell_type": "code",
   "execution_count": 16,
   "id": "8b59e208-4c6f-4944-b6a0-a302f6e221aa",
   "metadata": {},
   "outputs": [],
   "source": [
    "majority_prediction(X, y, test).to_csv(\"majority.tsv\", sep='\\t', index=False)"
   ]
  },
  {
   "cell_type": "markdown",
   "id": "e77024cc-dcc8-4b83-851a-23f53daa0266",
   "metadata": {},
   "source": [
    "## K-Nearest Neighbors"
   ]
  },
  {
   "cell_type": "code",
   "execution_count": 17,
   "id": "a9e63e6e-926e-47a5-9ca3-8c65e3e7d586",
   "metadata": {},
   "outputs": [
    {
     "data": {
      "text/html": [
       "<style>#sk-container-id-1 {color: black;background-color: white;}#sk-container-id-1 pre{padding: 0;}#sk-container-id-1 div.sk-toggleable {background-color: white;}#sk-container-id-1 label.sk-toggleable__label {cursor: pointer;display: block;width: 100%;margin-bottom: 0;padding: 0.3em;box-sizing: border-box;text-align: center;}#sk-container-id-1 label.sk-toggleable__label-arrow:before {content: \"▸\";float: left;margin-right: 0.25em;color: #696969;}#sk-container-id-1 label.sk-toggleable__label-arrow:hover:before {color: black;}#sk-container-id-1 div.sk-estimator:hover label.sk-toggleable__label-arrow:before {color: black;}#sk-container-id-1 div.sk-toggleable__content {max-height: 0;max-width: 0;overflow: hidden;text-align: left;background-color: #f0f8ff;}#sk-container-id-1 div.sk-toggleable__content pre {margin: 0.2em;color: black;border-radius: 0.25em;background-color: #f0f8ff;}#sk-container-id-1 input.sk-toggleable__control:checked~div.sk-toggleable__content {max-height: 200px;max-width: 100%;overflow: auto;}#sk-container-id-1 input.sk-toggleable__control:checked~label.sk-toggleable__label-arrow:before {content: \"▾\";}#sk-container-id-1 div.sk-estimator input.sk-toggleable__control:checked~label.sk-toggleable__label {background-color: #d4ebff;}#sk-container-id-1 div.sk-label input.sk-toggleable__control:checked~label.sk-toggleable__label {background-color: #d4ebff;}#sk-container-id-1 input.sk-hidden--visually {border: 0;clip: rect(1px 1px 1px 1px);clip: rect(1px, 1px, 1px, 1px);height: 1px;margin: -1px;overflow: hidden;padding: 0;position: absolute;width: 1px;}#sk-container-id-1 div.sk-estimator {font-family: monospace;background-color: #f0f8ff;border: 1px dotted black;border-radius: 0.25em;box-sizing: border-box;margin-bottom: 0.5em;}#sk-container-id-1 div.sk-estimator:hover {background-color: #d4ebff;}#sk-container-id-1 div.sk-parallel-item::after {content: \"\";width: 100%;border-bottom: 1px solid gray;flex-grow: 1;}#sk-container-id-1 div.sk-label:hover label.sk-toggleable__label {background-color: #d4ebff;}#sk-container-id-1 div.sk-serial::before {content: \"\";position: absolute;border-left: 1px solid gray;box-sizing: border-box;top: 0;bottom: 0;left: 50%;z-index: 0;}#sk-container-id-1 div.sk-serial {display: flex;flex-direction: column;align-items: center;background-color: white;padding-right: 0.2em;padding-left: 0.2em;position: relative;}#sk-container-id-1 div.sk-item {position: relative;z-index: 1;}#sk-container-id-1 div.sk-parallel {display: flex;align-items: stretch;justify-content: center;background-color: white;position: relative;}#sk-container-id-1 div.sk-item::before, #sk-container-id-1 div.sk-parallel-item::before {content: \"\";position: absolute;border-left: 1px solid gray;box-sizing: border-box;top: 0;bottom: 0;left: 50%;z-index: -1;}#sk-container-id-1 div.sk-parallel-item {display: flex;flex-direction: column;z-index: 1;position: relative;background-color: white;}#sk-container-id-1 div.sk-parallel-item:first-child::after {align-self: flex-end;width: 50%;}#sk-container-id-1 div.sk-parallel-item:last-child::after {align-self: flex-start;width: 50%;}#sk-container-id-1 div.sk-parallel-item:only-child::after {width: 0;}#sk-container-id-1 div.sk-dashed-wrapped {border: 1px dashed gray;margin: 0 0.4em 0.5em 0.4em;box-sizing: border-box;padding-bottom: 0.4em;background-color: white;}#sk-container-id-1 div.sk-label label {font-family: monospace;font-weight: bold;display: inline-block;line-height: 1.2em;}#sk-container-id-1 div.sk-label-container {text-align: center;}#sk-container-id-1 div.sk-container {/* jupyter's `normalize.less` sets `[hidden] { display: none; }` but bootstrap.min.css set `[hidden] { display: none !important; }` so we also need the `!important` here to be able to override the default hidden behavior on the sphinx rendered scikit-learn.org. See: https://github.com/scikit-learn/scikit-learn/issues/21755 */display: inline-block !important;position: relative;}#sk-container-id-1 div.sk-text-repr-fallback {display: none;}</style><div id=\"sk-container-id-1\" class=\"sk-top-container\"><div class=\"sk-text-repr-fallback\"><pre>KNeighborsClassifier(n_neighbors=3)</pre><b>In a Jupyter environment, please rerun this cell to show the HTML representation or trust the notebook. <br />On GitHub, the HTML representation is unable to render, please try loading this page with nbviewer.org.</b></div><div class=\"sk-container\" hidden><div class=\"sk-item\"><div class=\"sk-estimator sk-toggleable\"><input class=\"sk-toggleable__control sk-hidden--visually\" id=\"sk-estimator-id-1\" type=\"checkbox\" checked><label for=\"sk-estimator-id-1\" class=\"sk-toggleable__label sk-toggleable__label-arrow\">KNeighborsClassifier</label><div class=\"sk-toggleable__content\"><pre>KNeighborsClassifier(n_neighbors=3)</pre></div></div></div></div></div>"
      ],
      "text/plain": [
       "KNeighborsClassifier(n_neighbors=3)"
      ]
     },
     "execution_count": 17,
     "metadata": {},
     "output_type": "execute_result"
    }
   ],
   "source": [
    "from sklearn.neighbors import KNeighborsClassifier\n",
    "neigh = KNeighborsClassifier(n_neighbors=3)\n",
    "neigh.fit(X, y)"
   ]
  },
  {
   "cell_type": "code",
   "execution_count": 18,
   "id": "75b111bf-9dd1-48f1-81a5-d6b292d98545",
   "metadata": {},
   "outputs": [
    {
     "name": "stdout",
     "output_type": "stream",
     "text": [
      "['Fagus sylvatica' 'Fagus sylvatica' 'Fagus sylvatica' ...\n",
      " 'Fagus sylvatica' 'Fagus sylvatica' 'Fagus sylvatica']\n"
     ]
    }
   ],
   "source": [
    "print(neigh.predict(X))"
   ]
  },
  {
   "cell_type": "code",
   "execution_count": 19,
   "id": "c382ad0f-83cd-44d2-85c9-902d0b8994d8",
   "metadata": {},
   "outputs": [
    {
     "data": {
      "text/plain": [
       "0.9560857206732458"
      ]
     },
     "execution_count": 19,
     "metadata": {},
     "output_type": "execute_result"
    }
   ],
   "source": [
    "neigh.score(X, y)"
   ]
  },
  {
   "cell_type": "code",
   "execution_count": 20,
   "id": "cb632fd7-c323-4f43-9f0b-3fa8d98605c3",
   "metadata": {},
   "outputs": [
    {
     "data": {
      "text/html": [
       "<div>\n",
       "<style scoped>\n",
       "    .dataframe tbody tr th:only-of-type {\n",
       "        vertical-align: middle;\n",
       "    }\n",
       "\n",
       "    .dataframe tbody tr th {\n",
       "        vertical-align: top;\n",
       "    }\n",
       "\n",
       "    .dataframe thead th {\n",
       "        text-align: right;\n",
       "    }\n",
       "</style>\n",
       "<table border=\"1\" class=\"dataframe\">\n",
       "  <thead>\n",
       "    <tr style=\"text-align: right;\">\n",
       "      <th></th>\n",
       "      <th>tree_id</th>\n",
       "      <th>latitude</th>\n",
       "      <th>longitude</th>\n",
       "      <th>stem_diameter_cm</th>\n",
       "      <th>height_m</th>\n",
       "      <th>crown_radius_m</th>\n",
       "    </tr>\n",
       "  </thead>\n",
       "  <tbody>\n",
       "    <tr>\n",
       "      <th>0</th>\n",
       "      <td>T_75102</td>\n",
       "      <td>46.01</td>\n",
       "      <td>11.44</td>\n",
       "      <td>5.0</td>\n",
       "      <td>14.2</td>\n",
       "      <td>3.10</td>\n",
       "    </tr>\n",
       "    <tr>\n",
       "      <th>1</th>\n",
       "      <td>T_75103</td>\n",
       "      <td>46.01</td>\n",
       "      <td>11.44</td>\n",
       "      <td>5.0</td>\n",
       "      <td>5.4</td>\n",
       "      <td>1.80</td>\n",
       "    </tr>\n",
       "    <tr>\n",
       "      <th>2</th>\n",
       "      <td>T_75118</td>\n",
       "      <td>46.03</td>\n",
       "      <td>11.43</td>\n",
       "      <td>5.0</td>\n",
       "      <td>4.9</td>\n",
       "      <td>1.75</td>\n",
       "    </tr>\n",
       "    <tr>\n",
       "      <th>3</th>\n",
       "      <td>T_75152</td>\n",
       "      <td>46.05</td>\n",
       "      <td>10.99</td>\n",
       "      <td>5.0</td>\n",
       "      <td>6.5</td>\n",
       "      <td>1.55</td>\n",
       "    </tr>\n",
       "    <tr>\n",
       "      <th>4</th>\n",
       "      <td>T_75161</td>\n",
       "      <td>46.05</td>\n",
       "      <td>10.99</td>\n",
       "      <td>5.0</td>\n",
       "      <td>4.9</td>\n",
       "      <td>1.90</td>\n",
       "    </tr>\n",
       "    <tr>\n",
       "      <th>...</th>\n",
       "      <td>...</td>\n",
       "      <td>...</td>\n",
       "      <td>...</td>\n",
       "      <td>...</td>\n",
       "      <td>...</td>\n",
       "      <td>...</td>\n",
       "    </tr>\n",
       "    <tr>\n",
       "      <th>8892</th>\n",
       "      <td>T_497140</td>\n",
       "      <td>46.24</td>\n",
       "      <td>7.26</td>\n",
       "      <td>21.0</td>\n",
       "      <td>2.6</td>\n",
       "      <td>3.00</td>\n",
       "    </tr>\n",
       "    <tr>\n",
       "      <th>8893</th>\n",
       "      <td>T_497324</td>\n",
       "      <td>47.39</td>\n",
       "      <td>7.36</td>\n",
       "      <td>32.0</td>\n",
       "      <td>21.6</td>\n",
       "      <td>4.00</td>\n",
       "    </tr>\n",
       "    <tr>\n",
       "      <th>8894</th>\n",
       "      <td>T_497361</td>\n",
       "      <td>46.09</td>\n",
       "      <td>8.99</td>\n",
       "      <td>36.0</td>\n",
       "      <td>3.0</td>\n",
       "      <td>3.50</td>\n",
       "    </tr>\n",
       "    <tr>\n",
       "      <th>8895</th>\n",
       "      <td>T_497401</td>\n",
       "      <td>46.74</td>\n",
       "      <td>6.96</td>\n",
       "      <td>37.0</td>\n",
       "      <td>32.3</td>\n",
       "      <td>4.50</td>\n",
       "    </tr>\n",
       "    <tr>\n",
       "      <th>8896</th>\n",
       "      <td>T_497446</td>\n",
       "      <td>47.32</td>\n",
       "      <td>7.26</td>\n",
       "      <td>38.0</td>\n",
       "      <td>28.2</td>\n",
       "      <td>4.00</td>\n",
       "    </tr>\n",
       "  </tbody>\n",
       "</table>\n",
       "<p>8897 rows × 6 columns</p>\n",
       "</div>"
      ],
      "text/plain": [
       "       tree_id  latitude  longitude  stem_diameter_cm  height_m  \\\n",
       "0      T_75102     46.01      11.44               5.0      14.2   \n",
       "1      T_75103     46.01      11.44               5.0       5.4   \n",
       "2      T_75118     46.03      11.43               5.0       4.9   \n",
       "3      T_75152     46.05      10.99               5.0       6.5   \n",
       "4      T_75161     46.05      10.99               5.0       4.9   \n",
       "...        ...       ...        ...               ...       ...   \n",
       "8892  T_497140     46.24       7.26              21.0       2.6   \n",
       "8893  T_497324     47.39       7.36              32.0      21.6   \n",
       "8894  T_497361     46.09       8.99              36.0       3.0   \n",
       "8895  T_497401     46.74       6.96              37.0      32.3   \n",
       "8896  T_497446     47.32       7.26              38.0      28.2   \n",
       "\n",
       "      crown_radius_m  \n",
       "0               3.10  \n",
       "1               1.80  \n",
       "2               1.75  \n",
       "3               1.55  \n",
       "4               1.90  \n",
       "...              ...  \n",
       "8892            3.00  \n",
       "8893            4.00  \n",
       "8894            3.50  \n",
       "8895            4.50  \n",
       "8896            4.00  \n",
       "\n",
       "[8897 rows x 6 columns]"
      ]
     },
     "execution_count": 20,
     "metadata": {},
     "output_type": "execute_result"
    }
   ],
   "source": [
    "test"
   ]
  },
  {
   "cell_type": "code",
   "execution_count": 21,
   "id": "96294f93-9ea0-41a5-857d-33dcb4390ca6",
   "metadata": {},
   "outputs": [],
   "source": [
    "test_pd = test[[\"latitude\", \"longitude\", \"stem_diameter_cm\", \"height_m\", \"crown_radius_m\"]].dropna()"
   ]
  },
  {
   "cell_type": "code",
   "execution_count": 22,
   "id": "3cfb8d7f-e116-47c6-b093-cf537b27f4f7",
   "metadata": {},
   "outputs": [
    {
     "name": "stderr",
     "output_type": "stream",
     "text": [
      "/home/markus/miniconda3/envs/jupyter/lib/python3.9/site-packages/sklearn/base.py:443: UserWarning: X has feature names, but KNeighborsClassifier was fitted without feature names\n",
      "  warnings.warn(\n"
     ]
    }
   ],
   "source": [
    "prediction = pd.DataFrame()\n",
    "prediction[\"tree_id\"] = test.dropna().tree_id\n",
    "prediction[\"species\"] = neigh.predict(test_pd)"
   ]
  },
  {
   "cell_type": "code",
   "execution_count": 23,
   "id": "4a0e6843-e8cf-4201-a62e-db8acbc4bfef",
   "metadata": {},
   "outputs": [],
   "source": [
    "prediction.to_csv(\"knn3.tsv\",sep='\\t', index=False)"
   ]
  },
  {
   "cell_type": "code",
   "execution_count": 24,
   "id": "f1d27eaf-b6ee-4285-bc5e-58e70d4b69fb",
   "metadata": {},
   "outputs": [],
   "source": [
    "from sklearn.model_selection import train_test_split"
   ]
  },
  {
   "cell_type": "code",
   "execution_count": 25,
   "id": "f91f89f3-658b-49bc-b5d9-607b364143a9",
   "metadata": {},
   "outputs": [],
   "source": [
    "X_train, X_val, y_train, y_val = train_test_split(X, y)"
   ]
  },
  {
   "cell_type": "code",
   "execution_count": 26,
   "id": "07c624f7-246f-489d-b132-4288a994748a",
   "metadata": {},
   "outputs": [
    {
     "data": {
      "text/plain": [
       "((23483, 5), (7828, 5))"
      ]
     },
     "execution_count": 26,
     "metadata": {},
     "output_type": "execute_result"
    }
   ],
   "source": [
    "X_train.shape, X_val.shape"
   ]
  },
  {
   "cell_type": "code",
   "execution_count": 27,
   "id": "9d08189c-c5f3-4541-87e1-0e611c8bc49f",
   "metadata": {},
   "outputs": [
    {
     "data": {
      "text/plain": [
       "[<matplotlib.lines.Line2D at 0x7f830a8dacd0>]"
      ]
     },
     "execution_count": 27,
     "metadata": {},
     "output_type": "execute_result"
    },
    {
     "data": {
      "image/png": "[encoded data removed]",
      "text/plain": [
       "<Figure size 432x288 with 1 Axes>"
      ]
     },
     "metadata": {
      "needs_background": "light"
     },
     "output_type": "display_data"
    }
   ],
   "source": [
    "scores = []\n",
    "for k in range(1, 20):\n",
    "    neigh = KNeighborsClassifier(n_neighbors=k)\n",
    "    neigh.fit(X_train, y_train)\n",
    "    scores.append(neigh.score(X_val, y_val))\n",
    "    \n",
    "import matplotlib.pyplot as plt\n",
    "plt.plot(list(range(1,len(scores)+1)), scores)"
   ]
  },
  {
   "cell_type": "markdown",
   "id": "894ea898-ce6f-4246-9228-b96f3c9c2c44",
   "metadata": {},
   "source": [
    "### Prediction with 8 neighbors"
   ]
  },
  {
   "cell_type": "code",
   "execution_count": 28,
   "id": "a706ebf9-d812-4785-9433-1aab7172c56e",
   "metadata": {},
   "outputs": [
    {
     "name": "stderr",
     "output_type": "stream",
     "text": [
      "/home/markus/miniconda3/envs/jupyter/lib/python3.9/site-packages/sklearn/base.py:443: UserWarning: X has feature names, but KNeighborsClassifier was fitted without feature names\n",
      "  warnings.warn(\n"
     ]
    }
   ],
   "source": [
    "neigh = KNeighborsClassifier(n_neighbors=8)\n",
    "neigh.fit(X, y)\n",
    "prediction = pd.DataFrame()\n",
    "prediction[\"tree_id\"] = test.dropna().tree_id\n",
    "prediction[\"species\"] = neigh.predict(test_pd)\n",
    "prediction.to_csv(\"knn8.tsv\",sep='\\t', index=False)"
   ]
  }
 ],
 "metadata": {
  "kernelspec": {
   "display_name": "Python 3 (ipykernel)",
   "language": "python",
   "name": "python3"
  },
  "language_info": {
   "codemirror_mode": {
    "name": "ipython",
    "version": 3
   },
   "file_extension": ".py",
   "mimetype": "text/x-python",
   "name": "python",
   "nbconvert_exporter": "python",
   "pygments_lexer": "ipython3",
   "version": "3.9.9"
  }
 },
 "nbformat": 4,
 "nbformat_minor": 5
}
