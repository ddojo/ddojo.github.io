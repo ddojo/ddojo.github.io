{
 "cells": [
  {
   "cell_type": "markdown",
   "id": "c491bce1-7e68-42b5-81ce-3e7a426b3b73",
   "metadata": {},
   "source": [
    "# Results"
   ]
  },
  {
   "cell_type": "markdown",
   "id": "40d9ed4d-613d-40ba-b9e7-6a689f96af2f",
   "metadata": {},
   "source": [
    "We use this notebook to collect the results of our machine learning models on the test set.\n",
    "### Majority vote model: \n",
    "- accuracy 52%\n",
    "- Matthew correlation 0\n",
    "\n",
    "### KNN (k=3)\n",
    "- accuracy 92%\n",
    "- Matthew correlation 0.77\n",
    "- missing 934\n",
    "\n",
    "### KNN (k=8)\n",
    "- accuracy 92%\n",
    "- Matthew correlation 0.76\n",
    "- missing 934"
   ]
  },
  {
   "cell_type": "code",
   "execution_count": null,
   "id": "b717acc4-d798-4e59-9c5d-20ccfa88fabd",
   "metadata": {},
   "outputs": [],
   "source": []
  }
 ],
 "metadata": {
  "kernelspec": {
   "display_name": "Python 3 (ipykernel)",
   "language": "python",
   "name": "python3"
  },
  "language_info": {
   "codemirror_mode": {
    "name": "ipython",
    "version": 3
   },
   "file_extension": ".py",
   "mimetype": "text/x-python",
   "name": "python",
   "nbconvert_exporter": "python",
   "pygments_lexer": "ipython3",
   "version": "3.9.13"
  }
 },
 "nbformat": 4,
 "nbformat_minor": 5
}
