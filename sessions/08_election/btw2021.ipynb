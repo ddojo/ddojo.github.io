{
 "cells": [
  {
   "cell_type": "markdown",
   "metadata": {
    "collapsed": false
   },
   "source": [
    "# BTW 2021\n",
    "\n",
    "## Fragenpool:\n",
    "\n",
    "- In how many Wahlkreisen did the Greens lose votes compared to 2017?\n",
    "- In how many Wahlkreisen did the AfD lose votes compared to 2017?\n",
    "- What is the fraction of Wahlkreise for each party in which they did not reach 5%?\n",
    "- Which party had the strongest decline/increase in any federal state?\n",
    "- Which party had the most extreme results? &rarr; highest variance in votes by Wahlkreis\n",
    "- Are the Pirates still relevant in any Wahlkreis/State?\n",
    "- Which party below 5% had the best result in any Ort/Stadtteil around Würzburg?\n",
    "- Which was the strongest below-5%-party per Ort/Stadtteil?\n",
    "- Which Orte/Stadtteile voted most similar/dissimilar?\n",
    "- Visualize the results of the local votes in a suitable way "
   ]
  },
  {
   "cell_type": "markdown",
   "metadata": {
    "collapsed": false
   },
   "source": [
    "### Daten laden"
   ]
  },
  {
   "cell_type": "code",
   "execution_count": 1,
   "metadata": {
    "collapsed": false
   },
   "outputs": [
   ],
   "source": [
    "#load packages\n",
    "using CSV\n",
    "using DataFrames\n",
    "using StatsPlots"
   ]
  },
  {
   "cell_type": "code",
   "execution_count": 2,
   "metadata": {
    "collapsed": false
   },
   "outputs": [
    {
     "data": {
      "text/html": [
       "<table class=\"data-frame\"><thead><tr><th></th><th>datum</th><th>wahl</th><th>ags</th><th>gebiet-nr</th><th>gebiet-name</th></tr><tr><th></th><th>String</th><th>String</th><th>Int64</th><th>Missing</th><th>String</th></tr></thead><tbody><p>65 rows × 72 columns (omitted printing of 67 columns)</p><tr><th>1</th><td>26.09.2021</td><td>Wahl zum Deutschen Bundestag</td><td>9679114</td><td><em>missing</em></td><td>Stadt Aub</td></tr><tr><th>2</th><td>26.09.2021</td><td>Wahl zum Deutschen Bundestag</td><td>9679117</td><td><em>missing</em></td><td>Gemeinde Bergtheim</td></tr><tr><th>3</th><td>26.09.2021</td><td>Wahl zum Deutschen Bundestag</td><td>9679118</td><td><em>missing</em></td><td>Gemeinde Bieberehren</td></tr><tr><th>4</th><td>26.09.2021</td><td>Wahl zum Deutschen Bundestag</td><td>9679122</td><td><em>missing</em></td><td>Markt Bütthard</td></tr><tr><th>5</th><td>26.09.2021</td><td>Wahl zum Deutschen Bundestag</td><td>9679124</td><td><em>missing</em></td><td>Stadt Eibelstadt</td></tr><tr><th>6</th><td>26.09.2021</td><td>Wahl zum Deutschen Bundestag</td><td>9679126</td><td><em>missing</em></td><td>Gemeinde Eisingen</td></tr><tr><th>7</th><td>26.09.2021</td><td>Wahl zum Deutschen Bundestag</td><td>9679128</td><td><em>missing</em></td><td>Gemeinde Erlabrunn</td></tr><tr><th>8</th><td>26.09.2021</td><td>Wahl zum Deutschen Bundestag</td><td>9679130</td><td><em>missing</em></td><td>Gemeinde Estenfeld</td></tr><tr><th>9</th><td>26.09.2021</td><td>Wahl zum Deutschen Bundestag</td><td>9679131</td><td><em>missing</em></td><td>Markt Frickenhausen a.Main</td></tr><tr><th>10</th><td>26.09.2021</td><td>Wahl zum Deutschen Bundestag</td><td>9679134</td><td><em>missing</em></td><td>Gemeinde Gaukönigshofen</td></tr><tr><th>11</th><td>26.09.2021</td><td>Wahl zum Deutschen Bundestag</td><td>9679135</td><td><em>missing</em></td><td>Markt Gelchsheim</td></tr><tr><th>12</th><td>26.09.2021</td><td>Wahl zum Deutschen Bundestag</td><td>9679136</td><td><em>missing</em></td><td>Gemeinde Gerbrunn</td></tr><tr><th>13</th><td>26.09.2021</td><td>Wahl zum Deutschen Bundestag</td><td>9679137</td><td><em>missing</em></td><td>Gemeinde Geroldshausen</td></tr><tr><th>14</th><td>26.09.2021</td><td>Wahl zum Deutschen Bundestag</td><td>9679138</td><td><em>missing</em></td><td>Markt Giebelstadt</td></tr><tr><th>15</th><td>26.09.2021</td><td>Wahl zum Deutschen Bundestag</td><td>9679141</td><td><em>missing</em></td><td>Gemeinde Greußenheim</td></tr><tr><th>16</th><td>26.09.2021</td><td>Wahl zum Deutschen Bundestag</td><td>9679142</td><td><em>missing</em></td><td>Gemeinde Güntersleben</td></tr><tr><th>17</th><td>26.09.2021</td><td>Wahl zum Deutschen Bundestag</td><td>9679143</td><td><em>missing</em></td><td>Gemeinde Hausen b. Würzburg</td></tr><tr><th>18</th><td>26.09.2021</td><td>Wahl zum Deutschen Bundestag</td><td>9679144</td><td><em>missing</em></td><td>Markt Helmstadt</td></tr><tr><th>19</th><td>26.09.2021</td><td>Wahl zum Deutschen Bundestag</td><td>9679146</td><td><em>missing</em></td><td>Gemeinde Hettstadt</td></tr><tr><th>20</th><td>26.09.2021</td><td>Wahl zum Deutschen Bundestag</td><td>9679147</td><td><em>missing</em></td><td>Markt Höchberg</td></tr><tr><th>21</th><td>26.09.2021</td><td>Wahl zum Deutschen Bundestag</td><td>9679149</td><td><em>missing</em></td><td>Gemeinde Holzkirchen</td></tr><tr><th>22</th><td>26.09.2021</td><td>Wahl zum Deutschen Bundestag</td><td>9679153</td><td><em>missing</em></td><td>Gemeinde Kirchheim</td></tr><tr><th>23</th><td>26.09.2021</td><td>Wahl zum Deutschen Bundestag</td><td>9679154</td><td><em>missing</em></td><td>Gemeinde Kist</td></tr><tr><th>24</th><td>26.09.2021</td><td>Wahl zum Deutschen Bundestag</td><td>9679155</td><td><em>missing</em></td><td>Gemeinde Kleinrinderfeld</td></tr><tr><th>25</th><td>26.09.2021</td><td>Wahl zum Deutschen Bundestag</td><td>9679156</td><td><em>missing</em></td><td>Gemeinde Kürnach</td></tr><tr><th>26</th><td>26.09.2021</td><td>Wahl zum Deutschen Bundestag</td><td>9679161</td><td><em>missing</em></td><td>Gemeinde Margetshöchheim</td></tr><tr><th>27</th><td>26.09.2021</td><td>Wahl zum Deutschen Bundestag</td><td>9679164</td><td><em>missing</em></td><td>Markt Neubrunn</td></tr><tr><th>28</th><td>26.09.2021</td><td>Wahl zum Deutschen Bundestag</td><td>9679165</td><td><em>missing</em></td><td>Gemeinde Altertheim</td></tr><tr><th>29</th><td>26.09.2021</td><td>Wahl zum Deutschen Bundestag</td><td>9679167</td><td><em>missing</em></td><td>Markt Eisenheim</td></tr><tr><th>30</th><td>26.09.2021</td><td>Wahl zum Deutschen Bundestag</td><td>9679169</td><td><em>missing</em></td><td>Gemeinde Oberpleichfeld</td></tr><tr><th>&vellip;</th><td>&vellip;</td><td>&vellip;</td><td>&vellip;</td><td>&vellip;</td><td>&vellip;</td></tr></tbody></table>"
      ],
      "text/latex": [
       "\\begin{tabular}{r|cccccc}\n",
       "\t& datum & wahl & ags & gebiet-nr & gebiet-name & \\\\\n",
       "\t\\hline\n",
       "\t& String & String & Int64 & Missing & String & \\\\\n",
       "\t\\hline\n",
       "\t1 & 26.09.2021 & Wahl zum Deutschen Bundestag & 9679114 & \\emph{missing} & Stadt Aub & $\\dots$ \\\\\n",
       "\t2 & 26.09.2021 & Wahl zum Deutschen Bundestag & 9679117 & \\emph{missing} & Gemeinde Bergtheim & $\\dots$ \\\\\n",
       "\t3 & 26.09.2021 & Wahl zum Deutschen Bundestag & 9679118 & \\emph{missing} & Gemeinde Bieberehren & $\\dots$ \\\\\n",
       "\t4 & 26.09.2021 & Wahl zum Deutschen Bundestag & 9679122 & \\emph{missing} & Markt Bütthard & $\\dots$ \\\\\n",
       "\t5 & 26.09.2021 & Wahl zum Deutschen Bundestag & 9679124 & \\emph{missing} & Stadt Eibelstadt & $\\dots$ \\\\\n",
       "\t6 & 26.09.2021 & Wahl zum Deutschen Bundestag & 9679126 & \\emph{missing} & Gemeinde Eisingen & $\\dots$ \\\\\n",
       "\t7 & 26.09.2021 & Wahl zum Deutschen Bundestag & 9679128 & \\emph{missing} & Gemeinde Erlabrunn & $\\dots$ \\\\\n",
       "\t8 & 26.09.2021 & Wahl zum Deutschen Bundestag & 9679130 & \\emph{missing} & Gemeinde Estenfeld & $\\dots$ \\\\\n",
       "\t9 & 26.09.2021 & Wahl zum Deutschen Bundestag & 9679131 & \\emph{missing} & Markt Frickenhausen a.Main & $\\dots$ \\\\\n",
       "\t10 & 26.09.2021 & Wahl zum Deutschen Bundestag & 9679134 & \\emph{missing} & Gemeinde Gaukönigshofen & $\\dots$ \\\\\n",
       "\t11 & 26.09.2021 & Wahl zum Deutschen Bundestag & 9679135 & \\emph{missing} & Markt Gelchsheim & $\\dots$ \\\\\n",
       "\t12 & 26.09.2021 & Wahl zum Deutschen Bundestag & 9679136 & \\emph{missing} & Gemeinde Gerbrunn & $\\dots$ \\\\\n",
       "\t13 & 26.09.2021 & Wahl zum Deutschen Bundestag & 9679137 & \\emph{missing} & Gemeinde Geroldshausen & $\\dots$ \\\\\n",
       "\t14 & 26.09.2021 & Wahl zum Deutschen Bundestag & 9679138 & \\emph{missing} & Markt Giebelstadt & $\\dots$ \\\\\n",
       "\t15 & 26.09.2021 & Wahl zum Deutschen Bundestag & 9679141 & \\emph{missing} & Gemeinde Greußenheim & $\\dots$ \\\\\n",
       "\t16 & 26.09.2021 & Wahl zum Deutschen Bundestag & 9679142 & \\emph{missing} & Gemeinde Güntersleben & $\\dots$ \\\\\n",
       "\t17 & 26.09.2021 & Wahl zum Deutschen Bundestag & 9679143 & \\emph{missing} & Gemeinde Hausen b. Würzburg & $\\dots$ \\\\\n",
       "\t18 & 26.09.2021 & Wahl zum Deutschen Bundestag & 9679144 & \\emph{missing} & Markt Helmstadt & $\\dots$ \\\\\n",
       "\t19 & 26.09.2021 & Wahl zum Deutschen Bundestag & 9679146 & \\emph{missing} & Gemeinde Hettstadt & $\\dots$ \\\\\n",
       "\t20 & 26.09.2021 & Wahl zum Deutschen Bundestag & 9679147 & \\emph{missing} & Markt Höchberg & $\\dots$ \\\\\n",
       "\t21 & 26.09.2021 & Wahl zum Deutschen Bundestag & 9679149 & \\emph{missing} & Gemeinde Holzkirchen & $\\dots$ \\\\\n",
       "\t22 & 26.09.2021 & Wahl zum Deutschen Bundestag & 9679153 & \\emph{missing} & Gemeinde Kirchheim & $\\dots$ \\\\\n",
       "\t23 & 26.09.2021 & Wahl zum Deutschen Bundestag & 9679154 & \\emph{missing} & Gemeinde Kist & $\\dots$ \\\\\n",
       "\t24 & 26.09.2021 & Wahl zum Deutschen Bundestag & 9679155 & \\emph{missing} & Gemeinde Kleinrinderfeld & $\\dots$ \\\\\n",
       "\t25 & 26.09.2021 & Wahl zum Deutschen Bundestag & 9679156 & \\emph{missing} & Gemeinde Kürnach & $\\dots$ \\\\\n",
       "\t26 & 26.09.2021 & Wahl zum Deutschen Bundestag & 9679161 & \\emph{missing} & Gemeinde Margetshöchheim & $\\dots$ \\\\\n",
       "\t27 & 26.09.2021 & Wahl zum Deutschen Bundestag & 9679164 & \\emph{missing} & Markt Neubrunn & $\\dots$ \\\\\n",
       "\t28 & 26.09.2021 & Wahl zum Deutschen Bundestag & 9679165 & \\emph{missing} & Gemeinde Altertheim & $\\dots$ \\\\\n",
       "\t29 & 26.09.2021 & Wahl zum Deutschen Bundestag & 9679167 & \\emph{missing} & Markt Eisenheim & $\\dots$ \\\\\n",
       "\t30 & 26.09.2021 & Wahl zum Deutschen Bundestag & 9679169 & \\emph{missing} & Gemeinde Oberpleichfeld & $\\dots$ \\\\\n",
       "\t$\\dots$ & $\\dots$ & $\\dots$ & $\\dots$ & $\\dots$ & $\\dots$ &  \\\\\n",
       "\\end{tabular}\n"
      ],
      "text/plain": [
       "65×72 DataFrame. Omitted printing of 68 columns\n",
       "│ Row │ datum      │ wahl                         │ ags     │ gebiet-nr │\n",
       "│     │ \u001b[90mString\u001b[39m     │ \u001b[90mString\u001b[39m                       │ \u001b[90mInt64\u001b[39m   │ \u001b[90mMissing\u001b[39m   │\n",
       "├─────┼────────────┼──────────────────────────────┼─────────┼───────────┤\n",
       "│ 1   │ 26.09.2021 │ Wahl zum Deutschen Bundestag │ 9679114 │ \u001b[90mmissing\u001b[39m   │\n",
       "│ 2   │ 26.09.2021 │ Wahl zum Deutschen Bundestag │ 9679117 │ \u001b[90mmissing\u001b[39m   │\n",
       "│ 3   │ 26.09.2021 │ Wahl zum Deutschen Bundestag │ 9679118 │ \u001b[90mmissing\u001b[39m   │\n",
       "│ 4   │ 26.09.2021 │ Wahl zum Deutschen Bundestag │ 9679122 │ \u001b[90mmissing\u001b[39m   │\n",
       "│ 5   │ 26.09.2021 │ Wahl zum Deutschen Bundestag │ 9679124 │ \u001b[90mmissing\u001b[39m   │\n",
       "│ 6   │ 26.09.2021 │ Wahl zum Deutschen Bundestag │ 9679126 │ \u001b[90mmissing\u001b[39m   │\n",
       "│ 7   │ 26.09.2021 │ Wahl zum Deutschen Bundestag │ 9679128 │ \u001b[90mmissing\u001b[39m   │\n",
       "│ 8   │ 26.09.2021 │ Wahl zum Deutschen Bundestag │ 9679130 │ \u001b[90mmissing\u001b[39m   │\n",
       "│ 9   │ 26.09.2021 │ Wahl zum Deutschen Bundestag │ 9679131 │ \u001b[90mmissing\u001b[39m   │\n",
       "│ 10  │ 26.09.2021 │ Wahl zum Deutschen Bundestag │ 9679134 │ \u001b[90mmissing\u001b[39m   │\n",
       "⋮\n",
       "│ 55  │ 26.09.2021 │ Wahl zum Deutschen Bundestag │ 9663000 │ \u001b[90mmissing\u001b[39m   │\n",
       "│ 56  │ 26.09.2021 │ Wahl zum Deutschen Bundestag │ 9663000 │ \u001b[90mmissing\u001b[39m   │\n",
       "│ 57  │ 26.09.2021 │ Wahl zum Deutschen Bundestag │ 9663000 │ \u001b[90mmissing\u001b[39m   │\n",
       "│ 58  │ 26.09.2021 │ Wahl zum Deutschen Bundestag │ 9663000 │ \u001b[90mmissing\u001b[39m   │\n",
       "│ 59  │ 26.09.2021 │ Wahl zum Deutschen Bundestag │ 9663000 │ \u001b[90mmissing\u001b[39m   │\n",
       "│ 60  │ 26.09.2021 │ Wahl zum Deutschen Bundestag │ 9663000 │ \u001b[90mmissing\u001b[39m   │\n",
       "│ 61  │ 26.09.2021 │ Wahl zum Deutschen Bundestag │ 9663000 │ \u001b[90mmissing\u001b[39m   │\n",
       "│ 62  │ 26.09.2021 │ Wahl zum Deutschen Bundestag │ 9663000 │ \u001b[90mmissing\u001b[39m   │\n",
       "│ 63  │ 26.09.2021 │ Wahl zum Deutschen Bundestag │ 9663000 │ \u001b[90mmissing\u001b[39m   │\n",
       "│ 64  │ 26.09.2021 │ Wahl zum Deutschen Bundestag │ 9663000 │ \u001b[90mmissing\u001b[39m   │\n",
       "│ 65  │ 26.09.2021 │ Wahl zum Deutschen Bundestag │ 9663000 │ \u001b[90mmissing\u001b[39m   │"
      ]
     },
     "execution_count": 2,
     "metadata": {
     },
     "output_type": "execute_result"
    }
   ],
   "source": [
    "#loading data\n",
    "land = CSV.read(\"Open-Data-Bundestagswahl1343_wue_land.csv\", DataFrame)\n",
    "land[:,:stadt] .= false\n",
    "stadt = CSV.read(\"Open-Data-Bundestagswahl1343_wue_stadt.csv\", DataFrame)\n",
    "stadt[:,:stadt] .= true\n",
    "stimmen = DataFrame()\n",
    "append!(stimmen, land)\n",
    "append!(stimmen, stadt)"
   ]
  },
  {
   "cell_type": "code",
   "execution_count": 3,
   "metadata": {
    "collapsed": false
   },
   "outputs": [
    {
     "data": {
      "text/plain": [
       "((13, 72), (52, 72), (65, 72))"
      ]
     },
     "execution_count": 3,
     "metadata": {
     },
     "output_type": "execute_result"
    }
   ],
   "source": [
    "size(stadt), size(land), size(stimmen)"
   ]
  },
  {
   "cell_type": "markdown",
   "metadata": {
    "collapsed": false
   },
   "source": [
    "### In welcher Gemeinde (um Wü) hat \"Die Partei\" die meisten Stimmen bekommen?"
   ]
  },
  {
   "cell_type": "markdown",
   "metadata": {
    "collapsed": false
   },
   "source": [
    "Wir betrachten zunächst absolute Stimmen"
   ]
  },
  {
   "cell_type": "code",
   "execution_count": 4,
   "metadata": {
    "collapsed": false
   },
   "outputs": [
    {
     "data": {
      "text/html": [
       "<table class=\"data-frame\"><thead><tr><th></th><th>gebiet-name</th><th>F9</th></tr><tr><th></th><th>String</th><th>Int64</th></tr></thead><tbody><p>65 rows × 2 columns</p><tr><th>1</th><td>FRAUENLAND</td><td>131</td></tr><tr><th>2</th><td>ALTSTADT</td><td>115</td></tr><tr><th>3</th><td>Gemeinde Veitshöchheim</td><td>97</td></tr><tr><th>4</th><td>Stadt Ochsenfurt</td><td>88</td></tr><tr><th>5</th><td>SANDERAU</td><td>84</td></tr><tr><th>6</th><td>HEIDINGSFELD</td><td>70</td></tr><tr><th>7</th><td>ZELLERAU</td><td>69</td></tr><tr><th>8</th><td>GROMBÜHL</td><td>64</td></tr><tr><th>9</th><td>Markt Rimpar</td><td>63</td></tr><tr><th>10</th><td>LENGFELD</td><td>62</td></tr><tr><th>11</th><td>Gemeinde Gerbrunn</td><td>60</td></tr><tr><th>12</th><td>Markt Höchberg</td><td>60</td></tr><tr><th>13</th><td>DÜRRBACHTAL</td><td>59</td></tr><tr><th>14</th><td>Markt Giebelstadt</td><td>50</td></tr><tr><th>15</th><td>HEUCHELHOF</td><td>48</td></tr><tr><th>16</th><td>VERSBACH</td><td>43</td></tr><tr><th>17</th><td>Gemeinde Waldbüttelbrunn</td><td>42</td></tr><tr><th>18</th><td>Gemeinde Rottendorf</td><td>37</td></tr><tr><th>19</th><td>Markt Zell a.Main</td><td>37</td></tr><tr><th>20</th><td>Gemeinde Kürnach</td><td>36</td></tr><tr><th>21</th><td>Gemeinde Estenfeld</td><td>35</td></tr><tr><th>22</th><td>Gemeinde Güntersleben</td><td>34</td></tr><tr><th>23</th><td>Markt Reichenberg</td><td>34</td></tr><tr><th>24</th><td>STEINBACHTAL</td><td>32</td></tr><tr><th>25</th><td>Gemeinde Leinach</td><td>27</td></tr><tr><th>26</th><td>Markt Helmstadt</td><td>26</td></tr><tr><th>27</th><td>Gemeinde Thüngersheim</td><td>25</td></tr><tr><th>28</th><td>Gemeinde Bergtheim</td><td>24</td></tr><tr><th>29</th><td>Gemeinde Greußenheim</td><td>24</td></tr><tr><th>30</th><td>Gemeinde Hettstadt</td><td>24</td></tr><tr><th>&vellip;</th><td>&vellip;</td><td>&vellip;</td></tr></tbody></table>"
      ],
      "text/latex": [
       "\\begin{tabular}{r|cc}\n",
       "\t& gebiet-name & F9\\\\\n",
       "\t\\hline\n",
       "\t& String & Int64\\\\\n",
       "\t\\hline\n",
       "\t1 & FRAUENLAND & 131 \\\\\n",
       "\t2 & ALTSTADT & 115 \\\\\n",
       "\t3 & Gemeinde Veitshöchheim & 97 \\\\\n",
       "\t4 & Stadt Ochsenfurt & 88 \\\\\n",
       "\t5 & SANDERAU & 84 \\\\\n",
       "\t6 & HEIDINGSFELD & 70 \\\\\n",
       "\t7 & ZELLERAU & 69 \\\\\n",
       "\t8 & GROMBÜHL & 64 \\\\\n",
       "\t9 & Markt Rimpar & 63 \\\\\n",
       "\t10 & LENGFELD & 62 \\\\\n",
       "\t11 & Gemeinde Gerbrunn & 60 \\\\\n",
       "\t12 & Markt Höchberg & 60 \\\\\n",
       "\t13 & DÜRRBACHTAL & 59 \\\\\n",
       "\t14 & Markt Giebelstadt & 50 \\\\\n",
       "\t15 & HEUCHELHOF & 48 \\\\\n",
       "\t16 & VERSBACH & 43 \\\\\n",
       "\t17 & Gemeinde Waldbüttelbrunn & 42 \\\\\n",
       "\t18 & Gemeinde Rottendorf & 37 \\\\\n",
       "\t19 & Markt Zell a.Main & 37 \\\\\n",
       "\t20 & Gemeinde Kürnach & 36 \\\\\n",
       "\t21 & Gemeinde Estenfeld & 35 \\\\\n",
       "\t22 & Gemeinde Güntersleben & 34 \\\\\n",
       "\t23 & Markt Reichenberg & 34 \\\\\n",
       "\t24 & STEINBACHTAL & 32 \\\\\n",
       "\t25 & Gemeinde Leinach & 27 \\\\\n",
       "\t26 & Markt Helmstadt & 26 \\\\\n",
       "\t27 & Gemeinde Thüngersheim & 25 \\\\\n",
       "\t28 & Gemeinde Bergtheim & 24 \\\\\n",
       "\t29 & Gemeinde Greußenheim & 24 \\\\\n",
       "\t30 & Gemeinde Hettstadt & 24 \\\\\n",
       "\t$\\dots$ & $\\dots$ & $\\dots$ \\\\\n",
       "\\end{tabular}\n"
      ],
      "text/plain": [
       "65×2 DataFrame\n",
       "│ Row │ gebiet-name                │ F9    │\n",
       "│     │ \u001b[90mString\u001b[39m                     │ \u001b[90mInt64\u001b[39m │\n",
       "├─────┼────────────────────────────┼───────┤\n",
       "│ 1   │ FRAUENLAND                 │ 131   │\n",
       "│ 2   │ ALTSTADT                   │ 115   │\n",
       "│ 3   │ Gemeinde Veitshöchheim     │ 97    │\n",
       "│ 4   │ Stadt Ochsenfurt           │ 88    │\n",
       "│ 5   │ SANDERAU                   │ 84    │\n",
       "│ 6   │ HEIDINGSFELD               │ 70    │\n",
       "│ 7   │ ZELLERAU                   │ 69    │\n",
       "│ 8   │ GROMBÜHL                   │ 64    │\n",
       "│ 9   │ Markt Rimpar               │ 63    │\n",
       "│ 10  │ LENGFELD                   │ 62    │\n",
       "⋮\n",
       "│ 55  │ Gemeinde Bieberehren       │ 9     │\n",
       "│ 56  │ Gemeinde Erlabrunn         │ 9     │\n",
       "│ 57  │ Gemeinde Oberpleichfeld    │ 8     │\n",
       "│ 58  │ Stadt Aub                  │ 7     │\n",
       "│ 59  │ Gemeinde Sonderhofen       │ 6     │\n",
       "│ 60  │ Markt Gelchsheim           │ 5     │\n",
       "│ 61  │ Gemeinde Holzkirchen       │ 5     │\n",
       "│ 62  │ Markt Eisenheim            │ 5     │\n",
       "│ 63  │ Markt Frickenhausen a.Main │ 4     │\n",
       "│ 64  │ Gemeinde Riedenheim        │ 4     │\n",
       "│ 65  │ Gemeinde Tauberrettersheim │ 3     │"
      ]
     },
     "execution_count": 4,
     "metadata": {
     },
     "output_type": "execute_result"
    }
   ],
   "source": [
    "sort(stimmen[:,[\"gebiet-name\",\"F9\"]], :F9, rev=true)"
   ]
  },
  {
   "cell_type": "markdown",
   "metadata": {
    "collapsed": false
   },
   "source": [
    "Auf Grund der deutlich unterschiedlich großen Gemeinden/Stadtteilen ist ein Blick auf die  relativen Zweitstimmen sinnvoller."
   ]
  },
  {
   "cell_type": "code",
   "execution_count": 5,
   "metadata": {
    "collapsed": false,
    "scrolled": true
   },
   "outputs": [
    {
     "data": {
      "text/html": [
       "<table class=\"data-frame\"><thead><tr><th></th><th>gebiet-name</th><th>B</th><th>F9</th><th>Partei</th></tr><tr><th></th><th>String</th><th>Int64</th><th>Int64</th><th>Float64</th></tr></thead><tbody><p>65 rows × 4 columns</p><tr><th>1</th><td>Gemeinde Prosselsheim</td><td>811</td><td>17</td><td>0.0209618</td></tr><tr><th>2</th><td>Gemeinde Greußenheim</td><td>1158</td><td>24</td><td>0.0207254</td></tr><tr><th>3</th><td>Markt Winterhausen</td><td>988</td><td>19</td><td>0.0192308</td></tr><tr><th>4</th><td>Gemeinde Uettingen</td><td>1208</td><td>22</td><td>0.0182119</td></tr><tr><th>5</th><td>Gemeinde Kleinrinderfeld</td><td>1344</td><td>24</td><td>0.0178571</td></tr><tr><th>6</th><td>DÜRRBACHTAL</td><td>3690</td><td>59</td><td>0.0159892</td></tr><tr><th>7</th><td>Gemeinde Veitshöchheim</td><td>6107</td><td>97</td><td>0.0158834</td></tr><tr><th>8</th><td>Markt Giebelstadt</td><td>3198</td><td>50</td><td>0.0156348</td></tr><tr><th>9</th><td>Gemeinde Altertheim</td><td>1360</td><td>21</td><td>0.0154412</td></tr><tr><th>10</th><td>Gemeinde Bieberehren</td><td>610</td><td>9</td><td>0.0147541</td></tr><tr><th>11</th><td>Gemeinde Gerbrunn</td><td>4140</td><td>60</td><td>0.0144928</td></tr><tr><th>12</th><td>GROMBÜHL</td><td>4558</td><td>64</td><td>0.0140412</td></tr><tr><th>13</th><td>Markt Helmstadt</td><td>1876</td><td>26</td><td>0.0138593</td></tr><tr><th>14</th><td>Markt Zell a.Main</td><td>2680</td><td>37</td><td>0.013806</td></tr><tr><th>15</th><td>Gemeinde Theilheim</td><td>1641</td><td>22</td><td>0.0134065</td></tr><tr><th>16</th><td>Markt Bütthard</td><td>897</td><td>12</td><td>0.0133779</td></tr><tr><th>17</th><td>Gemeinde Thüngersheim</td><td>1918</td><td>25</td><td>0.0130344</td></tr><tr><th>18</th><td>Markt Neubrunn</td><td>1468</td><td>19</td><td>0.0129428</td></tr><tr><th>19</th><td>Stadt Ochsenfurt</td><td>6838</td><td>88</td><td>0.0128693</td></tr><tr><th>20</th><td>Gemeinde Waldbüttelbrunn</td><td>3283</td><td>42</td><td>0.0127932</td></tr><tr><th>21</th><td>Gemeinde Kist</td><td>1723</td><td>22</td><td>0.0127684</td></tr><tr><th>22</th><td>Gemeinde Leinach</td><td>2145</td><td>27</td><td>0.0125874</td></tr><tr><th>23</th><td>Markt Rimpar</td><td>5068</td><td>63</td><td>0.0124309</td></tr><tr><th>24</th><td>Gemeinde Geroldshausen</td><td>890</td><td>11</td><td>0.0123596</td></tr><tr><th>25</th><td>Gemeinde Waldbrunn</td><td>1934</td><td>23</td><td>0.0118925</td></tr><tr><th>26</th><td>Markt Reichenberg</td><td>2866</td><td>34</td><td>0.0118632</td></tr><tr><th>27</th><td>HEIDINGSFELD</td><td>5934</td><td>70</td><td>0.0117964</td></tr><tr><th>28</th><td>Markt Remlingen</td><td>1025</td><td>12</td><td>0.0117073</td></tr><tr><th>29</th><td>Gemeinde Güntersleben</td><td>2999</td><td>34</td><td>0.0113371</td></tr><tr><th>30</th><td>Gemeinde Kirchheim</td><td>1503</td><td>17</td><td>0.0113107</td></tr><tr><th>&vellip;</th><td>&vellip;</td><td>&vellip;</td><td>&vellip;</td><td>&vellip;</td></tr></tbody></table>"
      ],
      "text/latex": [
       "\\begin{tabular}{r|cccc}\n",
       "\t& gebiet-name & B & F9 & Partei\\\\\n",
       "\t\\hline\n",
       "\t& String & Int64 & Int64 & Float64\\\\\n",
       "\t\\hline\n",
       "\t1 & Gemeinde Prosselsheim & 811 & 17 & 0.0209618 \\\\\n",
       "\t2 & Gemeinde Greußenheim & 1158 & 24 & 0.0207254 \\\\\n",
       "\t3 & Markt Winterhausen & 988 & 19 & 0.0192308 \\\\\n",
       "\t4 & Gemeinde Uettingen & 1208 & 22 & 0.0182119 \\\\\n",
       "\t5 & Gemeinde Kleinrinderfeld & 1344 & 24 & 0.0178571 \\\\\n",
       "\t6 & DÜRRBACHTAL & 3690 & 59 & 0.0159892 \\\\\n",
       "\t7 & Gemeinde Veitshöchheim & 6107 & 97 & 0.0158834 \\\\\n",
       "\t8 & Markt Giebelstadt & 3198 & 50 & 0.0156348 \\\\\n",
       "\t9 & Gemeinde Altertheim & 1360 & 21 & 0.0154412 \\\\\n",
       "\t10 & Gemeinde Bieberehren & 610 & 9 & 0.0147541 \\\\\n",
       "\t11 & Gemeinde Gerbrunn & 4140 & 60 & 0.0144928 \\\\\n",
       "\t12 & GROMBÜHL & 4558 & 64 & 0.0140412 \\\\\n",
       "\t13 & Markt Helmstadt & 1876 & 26 & 0.0138593 \\\\\n",
       "\t14 & Markt Zell a.Main & 2680 & 37 & 0.013806 \\\\\n",
       "\t15 & Gemeinde Theilheim & 1641 & 22 & 0.0134065 \\\\\n",
       "\t16 & Markt Bütthard & 897 & 12 & 0.0133779 \\\\\n",
       "\t17 & Gemeinde Thüngersheim & 1918 & 25 & 0.0130344 \\\\\n",
       "\t18 & Markt Neubrunn & 1468 & 19 & 0.0129428 \\\\\n",
       "\t19 & Stadt Ochsenfurt & 6838 & 88 & 0.0128693 \\\\\n",
       "\t20 & Gemeinde Waldbüttelbrunn & 3283 & 42 & 0.0127932 \\\\\n",
       "\t21 & Gemeinde Kist & 1723 & 22 & 0.0127684 \\\\\n",
       "\t22 & Gemeinde Leinach & 2145 & 27 & 0.0125874 \\\\\n",
       "\t23 & Markt Rimpar & 5068 & 63 & 0.0124309 \\\\\n",
       "\t24 & Gemeinde Geroldshausen & 890 & 11 & 0.0123596 \\\\\n",
       "\t25 & Gemeinde Waldbrunn & 1934 & 23 & 0.0118925 \\\\\n",
       "\t26 & Markt Reichenberg & 2866 & 34 & 0.0118632 \\\\\n",
       "\t27 & HEIDINGSFELD & 5934 & 70 & 0.0117964 \\\\\n",
       "\t28 & Markt Remlingen & 1025 & 12 & 0.0117073 \\\\\n",
       "\t29 & Gemeinde Güntersleben & 2999 & 34 & 0.0113371 \\\\\n",
       "\t30 & Gemeinde Kirchheim & 1503 & 17 & 0.0113107 \\\\\n",
       "\t$\\dots$ & $\\dots$ & $\\dots$ & $\\dots$ & $\\dots$ \\\\\n",
       "\\end{tabular}\n"
      ],
      "text/plain": [
       "65×4 DataFrame\n",
       "│ Row │ gebiet-name                │ B     │ F9    │ Partei     │\n",
       "│     │ \u001b[90mString\u001b[39m                     │ \u001b[90mInt64\u001b[39m │ \u001b[90mInt64\u001b[39m │ \u001b[90mFloat64\u001b[39m    │\n",
       "├─────┼────────────────────────────┼───────┼───────┼────────────┤\n",
       "│ 1   │ Gemeinde Prosselsheim      │ 811   │ 17    │ 0.0209618  │\n",
       "│ 2   │ Gemeinde Greußenheim       │ 1158  │ 24    │ 0.0207254  │\n",
       "│ 3   │ Markt Winterhausen         │ 988   │ 19    │ 0.0192308  │\n",
       "│ 4   │ Gemeinde Uettingen         │ 1208  │ 22    │ 0.0182119  │\n",
       "│ 5   │ Gemeinde Kleinrinderfeld   │ 1344  │ 24    │ 0.0178571  │\n",
       "│ 6   │ DÜRRBACHTAL                │ 3690  │ 59    │ 0.0159892  │\n",
       "│ 7   │ Gemeinde Veitshöchheim     │ 6107  │ 97    │ 0.0158834  │\n",
       "│ 8   │ Markt Giebelstadt          │ 3198  │ 50    │ 0.0156348  │\n",
       "│ 9   │ Gemeinde Altertheim        │ 1360  │ 21    │ 0.0154412  │\n",
       "│ 10  │ Gemeinde Bieberehren       │ 610   │ 9     │ 0.0147541  │\n",
       "⋮\n",
       "│ 55  │ Markt Gelchsheim           │ 584   │ 5     │ 0.00856164 │\n",
       "│ 56  │ LINDLEINSMÜHLE             │ 2128  │ 16    │ 0.0075188  │\n",
       "│ 57  │ Stadt Aub                  │ 965   │ 7     │ 0.00725389 │\n",
       "│ 58  │ Markt Sommerhausen         │ 1388  │ 10    │ 0.00720461 │\n",
       "│ 59  │ Gemeinde Riedenheim        │ 556   │ 4     │ 0.00719424 │\n",
       "│ 60  │ Gemeinde Holzkirchen       │ 697   │ 5     │ 0.0071736  │\n",
       "│ 61  │ Gemeinde Erlabrunn         │ 1262  │ 9     │ 0.00713154 │\n",
       "│ 62  │ ROTTENBAUER                │ 2608  │ 16    │ 0.00613497 │\n",
       "│ 63  │ Markt Eisenheim            │ 917   │ 5     │ 0.00545256 │\n",
       "│ 64  │ Gemeinde Tauberrettersheim │ 589   │ 3     │ 0.00509338 │\n",
       "│ 65  │ Markt Frickenhausen a.Main │ 816   │ 4     │ 0.00490196 │"
      ]
     },
     "execution_count": 5,
     "metadata": {
     },
     "output_type": "execute_result"
    }
   ],
   "source": [
    "transform(stimmen, [:F9, :B] => ((a,b) -> a./b) => :Partei) |>\n",
    "    x -> select(x, [\"gebiet-name\",\"B\",\"F9\",\"Partei\"]) |>\n",
    "    x -> sort(x, :Partei, rev=true)"
   ]
  },
  {
   "cell_type": "markdown",
   "metadata": {
    "collapsed": false
   },
   "source": [
    "Nur Stadt Würzburg"
   ]
  },
  {
   "cell_type": "code",
   "execution_count": 6,
   "metadata": {
    "collapsed": false
   },
   "outputs": [
    {
     "data": {
      "text/html": [
       "<table class=\"data-frame\"><thead><tr><th></th><th>gebiet-name</th><th>A</th><th>B</th><th>F9</th><th>Partei</th></tr><tr><th></th><th>String</th><th>Int64</th><th>Int64</th><th>Int64</th><th>Float64</th></tr></thead><tbody><p>13 rows × 5 columns</p><tr><th>1</th><td>DÜRRBACHTAL</td><td>4453</td><td>3690</td><td>59</td><td>0.0159892</td></tr><tr><th>2</th><td>GROMBÜHL</td><td>6088</td><td>4558</td><td>64</td><td>0.0140412</td></tr><tr><th>3</th><td>HEIDINGSFELD</td><td>7787</td><td>5934</td><td>70</td><td>0.0117964</td></tr><tr><th>4</th><td>HEUCHELHOF</td><td>6516</td><td>4291</td><td>48</td><td>0.0111862</td></tr><tr><th>5</th><td>ZELLERAU</td><td>8410</td><td>6226</td><td>69</td><td>0.0110826</td></tr><tr><th>6</th><td>FRAUENLAND</td><td>14458</td><td>12074</td><td>131</td><td>0.0108498</td></tr><tr><th>7</th><td>STEINBACHTAL</td><td>3686</td><td>3227</td><td>32</td><td>0.00991633</td></tr><tr><th>8</th><td>VERSBACH</td><td>5337</td><td>4368</td><td>43</td><td>0.00984432</td></tr><tr><th>9</th><td>LENGFELD</td><td>8149</td><td>6418</td><td>62</td><td>0.00966033</td></tr><tr><th>10</th><td>ALTSTADT</td><td>15076</td><td>12529</td><td>115</td><td>0.00917871</td></tr><tr><th>11</th><td>SANDERAU</td><td>11148</td><td>9191</td><td>84</td><td>0.00913938</td></tr><tr><th>12</th><td>LINDLEINSMÜHLE</td><td>3302</td><td>2128</td><td>16</td><td>0.0075188</td></tr><tr><th>13</th><td>ROTTENBAUER</td><td>3177</td><td>2608</td><td>16</td><td>0.00613497</td></tr></tbody></table>"
      ],
      "text/latex": [
       "\\begin{tabular}{r|ccccc}\n",
       "\t& gebiet-name & A & B & F9 & Partei\\\\\n",
       "\t\\hline\n",
       "\t& String & Int64 & Int64 & Int64 & Float64\\\\\n",
       "\t\\hline\n",
       "\t1 & DÜRRBACHTAL & 4453 & 3690 & 59 & 0.0159892 \\\\\n",
       "\t2 & GROMBÜHL & 6088 & 4558 & 64 & 0.0140412 \\\\\n",
       "\t3 & HEIDINGSFELD & 7787 & 5934 & 70 & 0.0117964 \\\\\n",
       "\t4 & HEUCHELHOF & 6516 & 4291 & 48 & 0.0111862 \\\\\n",
       "\t5 & ZELLERAU & 8410 & 6226 & 69 & 0.0110826 \\\\\n",
       "\t6 & FRAUENLAND & 14458 & 12074 & 131 & 0.0108498 \\\\\n",
       "\t7 & STEINBACHTAL & 3686 & 3227 & 32 & 0.00991633 \\\\\n",
       "\t8 & VERSBACH & 5337 & 4368 & 43 & 0.00984432 \\\\\n",
       "\t9 & LENGFELD & 8149 & 6418 & 62 & 0.00966033 \\\\\n",
       "\t10 & ALTSTADT & 15076 & 12529 & 115 & 0.00917871 \\\\\n",
       "\t11 & SANDERAU & 11148 & 9191 & 84 & 0.00913938 \\\\\n",
       "\t12 & LINDLEINSMÜHLE & 3302 & 2128 & 16 & 0.0075188 \\\\\n",
       "\t13 & ROTTENBAUER & 3177 & 2608 & 16 & 0.00613497 \\\\\n",
       "\\end{tabular}\n"
      ],
      "text/plain": [
       "13×5 DataFrame\n",
       "│ Row │ gebiet-name    │ A     │ B     │ F9    │ Partei     │\n",
       "│     │ \u001b[90mString\u001b[39m         │ \u001b[90mInt64\u001b[39m │ \u001b[90mInt64\u001b[39m │ \u001b[90mInt64\u001b[39m │ \u001b[90mFloat64\u001b[39m    │\n",
       "├─────┼────────────────┼───────┼───────┼───────┼────────────┤\n",
       "│ 1   │ DÜRRBACHTAL    │ 4453  │ 3690  │ 59    │ 0.0159892  │\n",
       "│ 2   │ GROMBÜHL       │ 6088  │ 4558  │ 64    │ 0.0140412  │\n",
       "│ 3   │ HEIDINGSFELD   │ 7787  │ 5934  │ 70    │ 0.0117964  │\n",
       "│ 4   │ HEUCHELHOF     │ 6516  │ 4291  │ 48    │ 0.0111862  │\n",
       "│ 5   │ ZELLERAU       │ 8410  │ 6226  │ 69    │ 0.0110826  │\n",
       "│ 6   │ FRAUENLAND     │ 14458 │ 12074 │ 131   │ 0.0108498  │\n",
       "│ 7   │ STEINBACHTAL   │ 3686  │ 3227  │ 32    │ 0.00991633 │\n",
       "│ 8   │ VERSBACH       │ 5337  │ 4368  │ 43    │ 0.00984432 │\n",
       "│ 9   │ LENGFELD       │ 8149  │ 6418  │ 62    │ 0.00966033 │\n",
       "│ 10  │ ALTSTADT       │ 15076 │ 12529 │ 115   │ 0.00917871 │\n",
       "│ 11  │ SANDERAU       │ 11148 │ 9191  │ 84    │ 0.00913938 │\n",
       "│ 12  │ LINDLEINSMÜHLE │ 3302  │ 2128  │ 16    │ 0.0075188  │\n",
       "│ 13  │ ROTTENBAUER    │ 3177  │ 2608  │ 16    │ 0.00613497 │"
      ]
     },
     "execution_count": 6,
     "metadata": {
     },
     "output_type": "execute_result"
    }
   ],
   "source": [
    "transform(stimmen, [:F9, :B] => ((a,b) -> a./b) => :Partei) |>\n",
    "    x -> filter(y -> y.stadt, x) |>\n",
    "    x -> select(x, [\"gebiet-name\",\"A\", \"B\",\"F9\",\"Partei\"]) |>\n",
    "    x -> sort(x, :Partei, rev=true)"
   ]
  },
  {
   "cell_type": "markdown",
   "metadata": {
    "collapsed": false
   },
   "source": [
    "### Wie hoch war die Wahlbeteiligung in den einzelnen Orten/Stadtteilen?\n",
    "\n",
    "Wahlbeteiligung in Stadt und Land"
   ]
  },
  {
   "cell_type": "code",
   "execution_count": 7,
   "metadata": {
    "collapsed": false
   },
   "outputs": [
    {
     "data": {
      "text/html": [
       "<table class=\"data-frame\"><thead><tr><th></th><th>gebiet-name</th><th>Wahlberechtigte</th><th>Wähler*innen</th><th>Wb</th></tr><tr><th></th><th>String</th><th>Int64</th><th>Int64</th><th>Float64</th></tr></thead><tbody><p>65 rows × 4 columns</p><tr><th>1</th><td>LINDLEINSMÜHLE</td><td>3302</td><td>2128</td><td>0.644458</td></tr><tr><th>2</th><td>HEUCHELHOF</td><td>6516</td><td>4291</td><td>0.658533</td></tr><tr><th>3</th><td>ZELLERAU</td><td>8410</td><td>6226</td><td>0.740309</td></tr><tr><th>4</th><td>GROMBÜHL</td><td>6088</td><td>4558</td><td>0.748686</td></tr><tr><th>5</th><td>HEIDINGSFELD</td><td>7787</td><td>5934</td><td>0.762039</td></tr><tr><th>6</th><td>LENGFELD</td><td>8149</td><td>6418</td><td>0.787581</td></tr><tr><th>7</th><td>Markt Giebelstadt</td><td>3986</td><td>3198</td><td>0.802308</td></tr><tr><th>8</th><td>Stadt Ochsenfurt</td><td>8476</td><td>6838</td><td>0.806748</td></tr><tr><th>9</th><td>Gemeinde Eisingen</td><td>2649</td><td>2153</td><td>0.81276</td></tr><tr><th>10</th><td>Markt Zell a.Main</td><td>3286</td><td>2680</td><td>0.815581</td></tr><tr><th>11</th><td>Gemeinde Kist</td><td>2109</td><td>1723</td><td>0.816975</td></tr><tr><th>12</th><td>VERSBACH</td><td>5337</td><td>4368</td><td>0.818437</td></tr><tr><th>13</th><td>ROTTENBAUER</td><td>3177</td><td>2608</td><td>0.8209</td></tr><tr><th>14</th><td>Gemeinde Veitshöchheim</td><td>7417</td><td>6107</td><td>0.823379</td></tr><tr><th>15</th><td>SANDERAU</td><td>11148</td><td>9191</td><td>0.824453</td></tr><tr><th>16</th><td>DÜRRBACHTAL</td><td>4453</td><td>3690</td><td>0.828655</td></tr><tr><th>17</th><td>ALTSTADT</td><td>15076</td><td>12529</td><td>0.831056</td></tr><tr><th>18</th><td>Markt Neubrunn</td><td>1766</td><td>1468</td><td>0.831257</td></tr><tr><th>19</th><td>Markt Frickenhausen a.Main</td><td>978</td><td>816</td><td>0.834356</td></tr><tr><th>20</th><td>FRAUENLAND</td><td>14458</td><td>12074</td><td>0.835109</td></tr><tr><th>21</th><td>Gemeinde Kleinrinderfeld</td><td>1605</td><td>1344</td><td>0.837383</td></tr><tr><th>22</th><td>Gemeinde Altertheim</td><td>1621</td><td>1360</td><td>0.838988</td></tr><tr><th>23</th><td>Markt Remlingen</td><td>1221</td><td>1025</td><td>0.839476</td></tr><tr><th>24</th><td>Gemeinde Gerbrunn</td><td>4924</td><td>4140</td><td>0.84078</td></tr><tr><th>25</th><td>Markt Rimpar</td><td>6001</td><td>5068</td><td>0.844526</td></tr><tr><th>26</th><td>Gemeinde Waldbüttelbrunn</td><td>3881</td><td>3283</td><td>0.845916</td></tr><tr><th>27</th><td>Markt Randersacker</td><td>2798</td><td>2368</td><td>0.846319</td></tr><tr><th>28</th><td>Gemeinde Uettingen</td><td>1425</td><td>1208</td><td>0.847719</td></tr><tr><th>29</th><td>Stadt Röttingen</td><td>1296</td><td>1099</td><td>0.847994</td></tr><tr><th>30</th><td>Markt Bütthard</td><td>1050</td><td>897</td><td>0.854286</td></tr><tr><th>&vellip;</th><td>&vellip;</td><td>&vellip;</td><td>&vellip;</td><td>&vellip;</td></tr></tbody></table>"
      ],
      "text/latex": [
       "\\begin{tabular}{r|cccc}\n",
       "\t& gebiet-name & Wahlberechtigte & Wähler*innen & Wb\\\\\n",
       "\t\\hline\n",
       "\t& String & Int64 & Int64 & Float64\\\\\n",
       "\t\\hline\n",
       "\t1 & LINDLEINSMÜHLE & 3302 & 2128 & 0.644458 \\\\\n",
       "\t2 & HEUCHELHOF & 6516 & 4291 & 0.658533 \\\\\n",
       "\t3 & ZELLERAU & 8410 & 6226 & 0.740309 \\\\\n",
       "\t4 & GROMBÜHL & 6088 & 4558 & 0.748686 \\\\\n",
       "\t5 & HEIDINGSFELD & 7787 & 5934 & 0.762039 \\\\\n",
       "\t6 & LENGFELD & 8149 & 6418 & 0.787581 \\\\\n",
       "\t7 & Markt Giebelstadt & 3986 & 3198 & 0.802308 \\\\\n",
       "\t8 & Stadt Ochsenfurt & 8476 & 6838 & 0.806748 \\\\\n",
       "\t9 & Gemeinde Eisingen & 2649 & 2153 & 0.81276 \\\\\n",
       "\t10 & Markt Zell a.Main & 3286 & 2680 & 0.815581 \\\\\n",
       "\t11 & Gemeinde Kist & 2109 & 1723 & 0.816975 \\\\\n",
       "\t12 & VERSBACH & 5337 & 4368 & 0.818437 \\\\\n",
       "\t13 & ROTTENBAUER & 3177 & 2608 & 0.8209 \\\\\n",
       "\t14 & Gemeinde Veitshöchheim & 7417 & 6107 & 0.823379 \\\\\n",
       "\t15 & SANDERAU & 11148 & 9191 & 0.824453 \\\\\n",
       "\t16 & DÜRRBACHTAL & 4453 & 3690 & 0.828655 \\\\\n",
       "\t17 & ALTSTADT & 15076 & 12529 & 0.831056 \\\\\n",
       "\t18 & Markt Neubrunn & 1766 & 1468 & 0.831257 \\\\\n",
       "\t19 & Markt Frickenhausen a.Main & 978 & 816 & 0.834356 \\\\\n",
       "\t20 & FRAUENLAND & 14458 & 12074 & 0.835109 \\\\\n",
       "\t21 & Gemeinde Kleinrinderfeld & 1605 & 1344 & 0.837383 \\\\\n",
       "\t22 & Gemeinde Altertheim & 1621 & 1360 & 0.838988 \\\\\n",
       "\t23 & Markt Remlingen & 1221 & 1025 & 0.839476 \\\\\n",
       "\t24 & Gemeinde Gerbrunn & 4924 & 4140 & 0.84078 \\\\\n",
       "\t25 & Markt Rimpar & 6001 & 5068 & 0.844526 \\\\\n",
       "\t26 & Gemeinde Waldbüttelbrunn & 3881 & 3283 & 0.845916 \\\\\n",
       "\t27 & Markt Randersacker & 2798 & 2368 & 0.846319 \\\\\n",
       "\t28 & Gemeinde Uettingen & 1425 & 1208 & 0.847719 \\\\\n",
       "\t29 & Stadt Röttingen & 1296 & 1099 & 0.847994 \\\\\n",
       "\t30 & Markt Bütthard & 1050 & 897 & 0.854286 \\\\\n",
       "\t$\\dots$ & $\\dots$ & $\\dots$ & $\\dots$ & $\\dots$ \\\\\n",
       "\\end{tabular}\n"
      ],
      "text/plain": [
       "65×4 DataFrame\n",
       "│ Row │ gebiet-name              │ Wahlberechtigte │ Wähler*innen │ Wb       │\n",
       "│     │ \u001b[90mString\u001b[39m                   │ \u001b[90mInt64\u001b[39m           │ \u001b[90mInt64\u001b[39m        │ \u001b[90mFloat64\u001b[39m  │\n",
       "├─────┼──────────────────────────┼─────────────────┼──────────────┼──────────┤\n",
       "│ 1   │ LINDLEINSMÜHLE           │ 3302            │ 2128         │ 0.644458 │\n",
       "│ 2   │ HEUCHELHOF               │ 6516            │ 4291         │ 0.658533 │\n",
       "│ 3   │ ZELLERAU                 │ 8410            │ 6226         │ 0.740309 │\n",
       "│ 4   │ GROMBÜHL                 │ 6088            │ 4558         │ 0.748686 │\n",
       "│ 5   │ HEIDINGSFELD             │ 7787            │ 5934         │ 0.762039 │\n",
       "│ 6   │ LENGFELD                 │ 8149            │ 6418         │ 0.787581 │\n",
       "│ 7   │ Markt Giebelstadt        │ 3986            │ 3198         │ 0.802308 │\n",
       "│ 8   │ Stadt Ochsenfurt         │ 8476            │ 6838         │ 0.806748 │\n",
       "│ 9   │ Gemeinde Eisingen        │ 2649            │ 2153         │ 0.81276  │\n",
       "│ 10  │ Markt Zell a.Main        │ 3286            │ 2680         │ 0.815581 │\n",
       "⋮\n",
       "│ 55  │ Gemeinde Theilheim       │ 1864            │ 1641         │ 0.880365 │\n",
       "│ 56  │ Markt Helmstadt          │ 2130            │ 1876         │ 0.880751 │\n",
       "│ 57  │ Gemeinde Erlabrunn       │ 1429            │ 1262         │ 0.883135 │\n",
       "│ 58  │ Gemeinde Margetshöchheim │ 2560            │ 2261         │ 0.883203 │\n",
       "│ 59  │ Gemeinde Gaukönigshofen  │ 1976            │ 1746         │ 0.883603 │\n",
       "│ 60  │ Markt Gelchsheim         │ 660             │ 584          │ 0.884848 │\n",
       "│ 61  │ Gemeinde Prosselsheim    │ 913             │ 811          │ 0.88828  │\n",
       "│ 62  │ Gemeinde Kürnach         │ 3730            │ 3332         │ 0.893298 │\n",
       "│ 63  │ Markt Sommerhausen       │ 1553            │ 1388         │ 0.893754 │\n",
       "│ 64  │ Gemeinde Sonderhofen     │ 676             │ 617          │ 0.912722 │\n",
       "│ 65  │ Gemeinde Riedenheim      │ 605             │ 556          │ 0.919008 │"
      ]
     },
     "execution_count": 7,
     "metadata": {
     },
     "output_type": "execute_result"
    }
   ],
   "source": [
    "transform(stimmen, [:A, :B] => ((a,b) -> b./a) => :Wb) |>\n",
    "    x -> select(x, [\"gebiet-name\",\"A\", \"B\",\"Wb\"]) |>\n",
    "    x -> rename(x, :A=>\"Wahlberechtigte\", :B=>\"Wähler*innen\") |>\n",
    "    x -> sort(x, :Wb)#, rev=true)"
   ]
  },
  {
   "cell_type": "markdown",
   "metadata": {
    "collapsed": false
   },
   "source": [
    "Wahlbeteiligung in der Stadt"
   ]
  },
  {
   "cell_type": "code",
   "execution_count": 8,
   "metadata": {
    "collapsed": false
   },
   "outputs": [
    {
     "data": {
      "text/html": [
       "<table class=\"data-frame\"><thead><tr><th></th><th>gebiet-name</th><th>Wahlberechtigte</th><th>Wähler*innen</th><th>Wb</th></tr><tr><th></th><th>String</th><th>Int64</th><th>Int64</th><th>Float64</th></tr></thead><tbody><p>13 rows × 4 columns</p><tr><th>1</th><td>LINDLEINSMÜHLE</td><td>3302</td><td>2128</td><td>0.644458</td></tr><tr><th>2</th><td>HEUCHELHOF</td><td>6516</td><td>4291</td><td>0.658533</td></tr><tr><th>3</th><td>ZELLERAU</td><td>8410</td><td>6226</td><td>0.740309</td></tr><tr><th>4</th><td>GROMBÜHL</td><td>6088</td><td>4558</td><td>0.748686</td></tr><tr><th>5</th><td>HEIDINGSFELD</td><td>7787</td><td>5934</td><td>0.762039</td></tr><tr><th>6</th><td>LENGFELD</td><td>8149</td><td>6418</td><td>0.787581</td></tr><tr><th>7</th><td>VERSBACH</td><td>5337</td><td>4368</td><td>0.818437</td></tr><tr><th>8</th><td>ROTTENBAUER</td><td>3177</td><td>2608</td><td>0.8209</td></tr><tr><th>9</th><td>SANDERAU</td><td>11148</td><td>9191</td><td>0.824453</td></tr><tr><th>10</th><td>DÜRRBACHTAL</td><td>4453</td><td>3690</td><td>0.828655</td></tr><tr><th>11</th><td>ALTSTADT</td><td>15076</td><td>12529</td><td>0.831056</td></tr><tr><th>12</th><td>FRAUENLAND</td><td>14458</td><td>12074</td><td>0.835109</td></tr><tr><th>13</th><td>STEINBACHTAL</td><td>3686</td><td>3227</td><td>0.875475</td></tr></tbody></table>"
      ],
      "text/latex": [
       "\\begin{tabular}{r|cccc}\n",
       "\t& gebiet-name & Wahlberechtigte & Wähler*innen & Wb\\\\\n",
       "\t\\hline\n",
       "\t& String & Int64 & Int64 & Float64\\\\\n",
       "\t\\hline\n",
       "\t1 & LINDLEINSMÜHLE & 3302 & 2128 & 0.644458 \\\\\n",
       "\t2 & HEUCHELHOF & 6516 & 4291 & 0.658533 \\\\\n",
       "\t3 & ZELLERAU & 8410 & 6226 & 0.740309 \\\\\n",
       "\t4 & GROMBÜHL & 6088 & 4558 & 0.748686 \\\\\n",
       "\t5 & HEIDINGSFELD & 7787 & 5934 & 0.762039 \\\\\n",
       "\t6 & LENGFELD & 8149 & 6418 & 0.787581 \\\\\n",
       "\t7 & VERSBACH & 5337 & 4368 & 0.818437 \\\\\n",
       "\t8 & ROTTENBAUER & 3177 & 2608 & 0.8209 \\\\\n",
       "\t9 & SANDERAU & 11148 & 9191 & 0.824453 \\\\\n",
       "\t10 & DÜRRBACHTAL & 4453 & 3690 & 0.828655 \\\\\n",
       "\t11 & ALTSTADT & 15076 & 12529 & 0.831056 \\\\\n",
       "\t12 & FRAUENLAND & 14458 & 12074 & 0.835109 \\\\\n",
       "\t13 & STEINBACHTAL & 3686 & 3227 & 0.875475 \\\\\n",
       "\\end{tabular}\n"
      ],
      "text/plain": [
       "13×4 DataFrame\n",
       "│ Row │ gebiet-name    │ Wahlberechtigte │ Wähler*innen │ Wb       │\n",
       "│     │ \u001b[90mString\u001b[39m         │ \u001b[90mInt64\u001b[39m           │ \u001b[90mInt64\u001b[39m        │ \u001b[90mFloat64\u001b[39m  │\n",
       "├─────┼────────────────┼─────────────────┼──────────────┼──────────┤\n",
       "│ 1   │ LINDLEINSMÜHLE │ 3302            │ 2128         │ 0.644458 │\n",
       "│ 2   │ HEUCHELHOF     │ 6516            │ 4291         │ 0.658533 │\n",
       "│ 3   │ ZELLERAU       │ 8410            │ 6226         │ 0.740309 │\n",
       "│ 4   │ GROMBÜHL       │ 6088            │ 4558         │ 0.748686 │\n",
       "│ 5   │ HEIDINGSFELD   │ 7787            │ 5934         │ 0.762039 │\n",
       "│ 6   │ LENGFELD       │ 8149            │ 6418         │ 0.787581 │\n",
       "│ 7   │ VERSBACH       │ 5337            │ 4368         │ 0.818437 │\n",
       "│ 8   │ ROTTENBAUER    │ 3177            │ 2608         │ 0.8209   │\n",
       "│ 9   │ SANDERAU       │ 11148           │ 9191         │ 0.824453 │\n",
       "│ 10  │ DÜRRBACHTAL    │ 4453            │ 3690         │ 0.828655 │\n",
       "│ 11  │ ALTSTADT       │ 15076           │ 12529        │ 0.831056 │\n",
       "│ 12  │ FRAUENLAND     │ 14458           │ 12074        │ 0.835109 │\n",
       "│ 13  │ STEINBACHTAL   │ 3686            │ 3227         │ 0.875475 │"
      ]
     },
     "execution_count": 8,
     "metadata": {
     },
     "output_type": "execute_result"
    }
   ],
   "source": [
    "transform(stimmen, [:A, :B] => ((a,b) -> b./a) => :Wb) |>\n",
    "    x -> filter(y -> y.stadt, x) |>\n",
    "    x -> select(x, [\"gebiet-name\",\"A\", \"B\",\"Wb\"]) |>\n",
    "    x -> rename(x, :A=>\"Wahlberechtigte\", :B=>\"Wähler*innen\") |>\n",
    "    x -> sort(x, :Wb)#, rev=true)"
   ]
  },
  {
   "cell_type": "markdown",
   "metadata": {
    "collapsed": false
   },
   "source": [
    "### Wie war die Stimmenverteilung für die größten Parteien\n",
    "\n",
    "Verhältnis Zweitstimmen"
   ]
  },
  {
   "cell_type": "code",
   "execution_count": 9,
   "metadata": {
    "collapsed": false
   },
   "outputs": [
    {
     "data": {
      "image/svg+xml": "<?xml version=\"1.0\" encoding=\"utf-8\"?>\n<svg xmlns=\"http://www.w3.org/2000/svg\" xmlns:xlink=\"http://www.w3.org/1999/xlink\" width=\"600\" height=\"400\" viewBox=\"0 0 2400 1600\">\n<defs>\n  <clipPath id=\"clip270\">\n    <rect x=\"0\" y=\"0\" width=\"2400\" height=\"1600\"/>\n  </clipPath>\n</defs>\n<path clip-path=\"url(#clip270)\" d=\"\nM0 1600 L2400 1600 L2400 0 L0 0  Z\n  \" fill=\"#ffffff\" fill-rule=\"evenodd\" fill-opacity=\"1\"/>\n<defs>\n  <clipPath id=\"clip271\">\n    <rect x=\"480\" y=\"0\" width=\"1681\" height=\"1600\"/>\n  </clipPath>\n</defs>\n<path clip-path=\"url(#clip270)\" d=\"\nM249.542 1423.18 L2352.76 1423.18 L2352.76 47.2441 L249.542 47.2441  Z\n  \" fill=\"#ffffff\" fill-rule=\"evenodd\" fill-opacity=\"1\"/>\n<defs>\n  <clipPath id=\"clip272\">\n    <rect x=\"249\" y=\"47\" width=\"2104\" height=\"1377\"/>\n  </clipPath>\n</defs>\n<polyline clip-path=\"url(#clip272)\" style=\"stroke:#000000; stroke-linecap:butt; stroke-linejoin:round; stroke-width:2; stroke-opacity:0.1; fill:none\" points=\"\n  541.057,1423.18 541.057,47.2441 \n  \"/>\n<polyline clip-path=\"url(#clip272)\" style=\"stroke:#000000; stroke-linecap:butt; stroke-linejoin:round; stroke-width:2; stroke-opacity:0.1; fill:none\" points=\"\n  1133.11,1423.18 1133.11,47.2441 \n  \"/>\n<polyline clip-path=\"url(#clip272)\" style=\"stroke:#000000; stroke-linecap:butt; stroke-linejoin:round; stroke-width:2; stroke-opacity:0.1; fill:none\" points=\"\n  1725.17,1423.18 1725.17,47.2441 \n  \"/>\n<polyline clip-path=\"url(#clip272)\" style=\"stroke:#000000; stroke-linecap:butt; stroke-linejoin:round; stroke-width:2; stroke-opacity:0.1; fill:none\" points=\"\n  2317.22,1423.18 2317.22,47.2441 \n  \"/>\n<polyline clip-path=\"url(#clip270)\" style=\"stroke:#000000; stroke-linecap:butt; stroke-linejoin:round; stroke-width:4; stroke-opacity:1; fill:none\" points=\"\n  249.542,1423.18 2352.76,1423.18 \n  \"/>\n<polyline clip-path=\"url(#clip270)\" style=\"stroke:#000000; stroke-linecap:butt; stroke-linejoin:round; stroke-width:4; stroke-opacity:1; fill:none\" points=\"\n  541.057,1423.18 541.057,1404.28 \n  \"/>\n<polyline clip-path=\"url(#clip270)\" style=\"stroke:#000000; stroke-linecap:butt; stroke-linejoin:round; stroke-width:4; stroke-opacity:1; fill:none\" points=\"\n  1133.11,1423.18 1133.11,1404.28 \n  \"/>\n<polyline clip-path=\"url(#clip270)\" style=\"stroke:#000000; stroke-linecap:butt; stroke-linejoin:round; stroke-width:4; stroke-opacity:1; fill:none\" points=\"\n  1725.17,1423.18 1725.17,1404.28 \n  \"/>\n<polyline clip-path=\"url(#clip270)\" style=\"stroke:#000000; stroke-linecap:butt; stroke-linejoin:round; stroke-width:4; stroke-opacity:1; fill:none\" points=\"\n  2317.22,1423.18 2317.22,1404.28 \n  \"/>\n<path clip-path=\"url(#clip270)\" d=\"M519.24 1452.37 Q515.629 1452.37 513.8 1455.94 Q511.994 1459.48 511.994 1466.61 Q511.994 1473.71 513.8 1477.28 Q515.629 1480.82 519.24 1480.82 Q522.874 1480.82 524.679 1477.28 Q526.508 1473.71 526.508 1466.61 Q526.508 1459.48 524.679 1455.94 Q522.874 1452.37 519.24 1452.37 M519.24 1448.67 Q525.05 1448.67 528.105 1453.27 Q531.184 1457.86 531.184 1466.61 Q531.184 1475.33 528.105 1479.94 Q525.05 1484.52 519.24 1484.52 Q513.43 1484.52 510.351 1479.94 Q507.295 1475.33 507.295 1466.61 Q507.295 1457.86 510.351 1453.27 Q513.43 1448.67 519.24 1448.67 Z\" fill=\"#000000\" fill-rule=\"evenodd\" fill-opacity=\"1\" /><path clip-path=\"url(#clip270)\" d=\"M539.402 1477.97 L544.286 1477.97 L544.286 1483.85 L539.402 1483.85 L539.402 1477.97 Z\" fill=\"#000000\" fill-rule=\"evenodd\" fill-opacity=\"1\" /><path clip-path=\"url(#clip270)\" d=\"M558.499 1479.92 L574.818 1479.92 L574.818 1483.85 L552.874 1483.85 L552.874 1479.92 Q555.536 1477.16 560.119 1472.53 Q564.726 1467.88 565.906 1466.54 Q568.151 1464.01 569.031 1462.28 Q569.934 1460.52 569.934 1458.83 Q569.934 1456.07 567.989 1454.34 Q566.068 1452.6 562.966 1452.6 Q560.767 1452.6 558.314 1453.37 Q555.883 1454.13 553.105 1455.68 L553.105 1450.96 Q555.929 1449.82 558.383 1449.25 Q560.837 1448.67 562.874 1448.67 Q568.244 1448.67 571.438 1451.35 Q574.633 1454.04 574.633 1458.53 Q574.633 1460.66 573.823 1462.58 Q573.036 1464.48 570.929 1467.07 Q570.351 1467.74 567.249 1470.96 Q564.147 1474.15 558.499 1479.92 Z\" fill=\"#000000\" fill-rule=\"evenodd\" fill-opacity=\"1\" /><path clip-path=\"url(#clip270)\" d=\"M1110.82 1452.37 Q1107.21 1452.37 1105.38 1455.94 Q1103.57 1459.48 1103.57 1466.61 Q1103.57 1473.71 1105.38 1477.28 Q1107.21 1480.82 1110.82 1480.82 Q1114.45 1480.82 1116.26 1477.28 Q1118.09 1473.71 1118.09 1466.61 Q1118.09 1459.48 1116.26 1455.94 Q1114.45 1452.37 1110.82 1452.37 M1110.82 1448.67 Q1116.63 1448.67 1119.69 1453.27 Q1122.76 1457.86 1122.76 1466.61 Q1122.76 1475.33 1119.69 1479.94 Q1116.63 1484.52 1110.82 1484.52 Q1105.01 1484.52 1101.93 1479.94 Q1098.88 1475.33 1098.88 1466.61 Q1098.88 1457.86 1101.93 1453.27 Q1105.01 1448.67 1110.82 1448.67 Z\" fill=\"#000000\" fill-rule=\"evenodd\" fill-opacity=\"1\" /><path clip-path=\"url(#clip270)\" d=\"M1130.98 1477.97 L1135.87 1477.97 L1135.87 1483.85 L1130.98 1483.85 L1130.98 1477.97 Z\" fill=\"#000000\" fill-rule=\"evenodd\" fill-opacity=\"1\" /><path clip-path=\"url(#clip270)\" d=\"M1160.22 1465.22 Q1163.57 1465.94 1165.45 1468.2 Q1167.35 1470.47 1167.35 1473.81 Q1167.35 1478.92 1163.83 1481.72 Q1160.31 1484.52 1153.83 1484.52 Q1151.65 1484.52 1149.34 1484.08 Q1147.05 1483.67 1144.59 1482.81 L1144.59 1478.3 Q1146.54 1479.43 1148.85 1480.01 Q1151.17 1480.59 1153.69 1480.59 Q1158.09 1480.59 1160.38 1478.85 Q1162.69 1477.12 1162.69 1473.81 Q1162.69 1470.75 1160.54 1469.04 Q1158.41 1467.3 1154.59 1467.3 L1150.56 1467.3 L1150.56 1463.46 L1154.78 1463.46 Q1158.23 1463.46 1160.06 1462.09 Q1161.88 1460.7 1161.88 1458.11 Q1161.88 1455.45 1159.99 1454.04 Q1158.11 1452.6 1154.59 1452.6 Q1152.67 1452.6 1150.47 1453.02 Q1148.27 1453.44 1145.63 1454.31 L1145.63 1450.15 Q1148.3 1449.41 1150.61 1449.04 Q1152.95 1448.67 1155.01 1448.67 Q1160.33 1448.67 1163.44 1451.1 Q1166.54 1453.5 1166.54 1457.63 Q1166.54 1460.5 1164.89 1462.49 Q1163.25 1464.45 1160.22 1465.22 Z\" fill=\"#000000\" fill-rule=\"evenodd\" fill-opacity=\"1\" /><path clip-path=\"url(#clip270)\" d=\"M1702.31 1452.37 Q1698.7 1452.37 1696.87 1455.94 Q1695.06 1459.48 1695.06 1466.61 Q1695.06 1473.71 1696.87 1477.28 Q1698.7 1480.82 1702.31 1480.82 Q1705.94 1480.82 1707.75 1477.28 Q1709.58 1473.71 1709.58 1466.61 Q1709.58 1459.48 1707.75 1455.94 Q1705.94 1452.37 1702.31 1452.37 M1702.31 1448.67 Q1708.12 1448.67 1711.17 1453.27 Q1714.25 1457.86 1714.25 1466.61 Q1714.25 1475.33 1711.17 1479.94 Q1708.12 1484.52 1702.31 1484.52 Q1696.5 1484.52 1693.42 1479.94 Q1690.36 1475.33 1690.36 1466.61 Q1690.36 1457.86 1693.42 1453.27 Q1696.5 1448.67 1702.31 1448.67 Z\" fill=\"#000000\" fill-rule=\"evenodd\" fill-opacity=\"1\" /><path clip-path=\"url(#clip270)\" d=\"M1722.47 1477.97 L1727.35 1477.97 L1727.35 1483.85 L1722.47 1483.85 L1722.47 1477.97 Z\" fill=\"#000000\" fill-rule=\"evenodd\" fill-opacity=\"1\" /><path clip-path=\"url(#clip270)\" d=\"M1750.39 1453.37 L1738.58 1471.81 L1750.39 1471.81 L1750.39 1453.37 M1749.16 1449.29 L1755.04 1449.29 L1755.04 1471.81 L1759.97 1471.81 L1759.97 1475.7 L1755.04 1475.7 L1755.04 1483.85 L1750.39 1483.85 L1750.39 1475.7 L1734.78 1475.7 L1734.78 1471.19 L1749.16 1449.29 Z\" fill=\"#000000\" fill-rule=\"evenodd\" fill-opacity=\"1\" /><path clip-path=\"url(#clip270)\" d=\"M2295.1 1452.37 Q2291.49 1452.37 2289.66 1455.94 Q2287.86 1459.48 2287.86 1466.61 Q2287.86 1473.71 2289.66 1477.28 Q2291.49 1480.82 2295.1 1480.82 Q2298.74 1480.82 2300.54 1477.28 Q2302.37 1473.71 2302.37 1466.61 Q2302.37 1459.48 2300.54 1455.94 Q2298.74 1452.37 2295.1 1452.37 M2295.1 1448.67 Q2300.91 1448.67 2303.97 1453.27 Q2307.05 1457.86 2307.05 1466.61 Q2307.05 1475.33 2303.97 1479.94 Q2300.91 1484.52 2295.1 1484.52 Q2289.29 1484.52 2286.21 1479.94 Q2283.16 1475.33 2283.16 1466.61 Q2283.16 1457.86 2286.21 1453.27 Q2289.29 1448.67 2295.1 1448.67 Z\" fill=\"#000000\" fill-rule=\"evenodd\" fill-opacity=\"1\" /><path clip-path=\"url(#clip270)\" d=\"M2315.26 1477.97 L2320.15 1477.97 L2320.15 1483.85 L2315.26 1483.85 L2315.26 1477.97 Z\" fill=\"#000000\" fill-rule=\"evenodd\" fill-opacity=\"1\" /><path clip-path=\"url(#clip270)\" d=\"M2330.38 1449.29 L2348.74 1449.29 L2348.74 1453.23 L2334.66 1453.23 L2334.66 1461.7 Q2335.68 1461.35 2336.7 1461.19 Q2337.72 1461 2338.74 1461 Q2344.52 1461 2347.9 1464.18 Q2351.28 1467.35 2351.28 1472.76 Q2351.28 1478.34 2347.81 1481.44 Q2344.34 1484.52 2338.02 1484.52 Q2335.84 1484.52 2333.57 1484.15 Q2331.33 1483.78 2328.92 1483.04 L2328.92 1478.34 Q2331 1479.48 2333.23 1480.03 Q2335.45 1480.59 2337.93 1480.59 Q2341.93 1480.59 2344.27 1478.48 Q2346.61 1476.38 2346.61 1472.76 Q2346.61 1469.15 2344.27 1467.05 Q2341.93 1464.94 2337.93 1464.94 Q2336.05 1464.94 2334.18 1465.36 Q2332.32 1465.77 2330.38 1466.65 L2330.38 1449.29 Z\" fill=\"#000000\" fill-rule=\"evenodd\" fill-opacity=\"1\" /><path clip-path=\"url(#clip270)\" d=\"M1276.83 1524.18 L1276.83 1530.96 Q1273.59 1527.94 1269.89 1526.44 Q1266.23 1524.95 1262.1 1524.95 Q1253.95 1524.95 1249.62 1529.95 Q1245.29 1534.91 1245.29 1544.33 Q1245.29 1553.72 1249.62 1558.72 Q1253.95 1563.68 1262.1 1563.68 Q1266.23 1563.68 1269.89 1562.19 Q1273.59 1560.69 1276.83 1557.67 L1276.83 1564.38 Q1273.46 1566.68 1269.67 1567.82 Q1265.91 1568.97 1261.71 1568.97 Q1250.92 1568.97 1244.72 1562.38 Q1238.51 1555.76 1238.51 1544.33 Q1238.51 1532.87 1244.72 1526.28 Q1250.92 1519.66 1261.71 1519.66 Q1265.98 1519.66 1269.73 1520.81 Q1273.52 1521.92 1276.83 1524.18 Z\" fill=\"#000000\" fill-rule=\"evenodd\" fill-opacity=\"1\" /><path clip-path=\"url(#clip270)\" d=\"M1315.25 1522.08 L1315.25 1528.35 Q1311.59 1526.6 1308.34 1525.74 Q1305.1 1524.88 1302.07 1524.88 Q1296.82 1524.88 1293.96 1526.92 Q1291.12 1528.96 1291.12 1532.71 Q1291.12 1535.87 1293 1537.49 Q1294.91 1539.08 1300.19 1540.07 L1304.08 1540.86 Q1311.27 1542.23 1314.68 1545.7 Q1318.11 1549.14 1318.11 1554.93 Q1318.11 1561.84 1313.47 1565.4 Q1308.85 1568.97 1299.91 1568.97 Q1296.53 1568.97 1292.71 1568.2 Q1288.93 1567.44 1284.85 1565.94 L1284.85 1559.32 Q1288.77 1561.52 1292.52 1562.63 Q1296.28 1563.75 1299.91 1563.75 Q1305.41 1563.75 1308.41 1561.58 Q1311.4 1559.42 1311.4 1555.41 Q1311.4 1551.91 1309.23 1549.93 Q1307.1 1547.96 1302.2 1546.97 L1298.28 1546.21 Q1291.09 1544.78 1287.88 1541.72 Q1284.66 1538.67 1284.66 1533.22 Q1284.66 1526.92 1289.09 1523.29 Q1293.54 1519.66 1301.34 1519.66 Q1304.68 1519.66 1308.15 1520.27 Q1311.62 1520.87 1315.25 1522.08 Z\" fill=\"#000000\" fill-rule=\"evenodd\" fill-opacity=\"1\" /><path clip-path=\"url(#clip270)\" d=\"M1327.41 1520.52 L1333.87 1520.52 L1333.87 1549.39 Q1333.87 1557.03 1336.64 1560.4 Q1339.41 1563.75 1345.61 1563.75 Q1351.79 1563.75 1354.56 1560.4 Q1357.33 1557.03 1357.33 1549.39 L1357.33 1520.52 L1363.79 1520.52 L1363.79 1550.19 Q1363.79 1559.48 1359.17 1564.22 Q1354.59 1568.97 1345.61 1568.97 Q1336.61 1568.97 1331.99 1564.22 Q1327.41 1559.48 1327.41 1550.19 L1327.41 1520.52 Z\" fill=\"#000000\" fill-rule=\"evenodd\" fill-opacity=\"1\" /><polyline clip-path=\"url(#clip272)\" style=\"stroke:#000000; stroke-linecap:butt; stroke-linejoin:round; stroke-width:2; stroke-opacity:0.1; fill:none\" points=\"\n  249.542,1362.12 2352.76,1362.12 \n  \"/>\n<polyline clip-path=\"url(#clip272)\" style=\"stroke:#000000; stroke-linecap:butt; stroke-linejoin:round; stroke-width:2; stroke-opacity:0.1; fill:none\" points=\"\n  249.542,1142.57 2352.76,1142.57 \n  \"/>\n<polyline clip-path=\"url(#clip272)\" style=\"stroke:#000000; stroke-linecap:butt; stroke-linejoin:round; stroke-width:2; stroke-opacity:0.1; fill:none\" points=\"\n  249.542,923.009 2352.76,923.009 \n  \"/>\n<polyline clip-path=\"url(#clip272)\" style=\"stroke:#000000; stroke-linecap:butt; stroke-linejoin:round; stroke-width:2; stroke-opacity:0.1; fill:none\" points=\"\n  249.542,703.451 2352.76,703.451 \n  \"/>\n<polyline clip-path=\"url(#clip272)\" style=\"stroke:#000000; stroke-linecap:butt; stroke-linejoin:round; stroke-width:2; stroke-opacity:0.1; fill:none\" points=\"\n  249.542,483.893 2352.76,483.893 \n  \"/>\n<polyline clip-path=\"url(#clip272)\" style=\"stroke:#000000; stroke-linecap:butt; stroke-linejoin:round; stroke-width:2; stroke-opacity:0.1; fill:none\" points=\"\n  249.542,264.334 2352.76,264.334 \n  \"/>\n<polyline clip-path=\"url(#clip270)\" style=\"stroke:#000000; stroke-linecap:butt; stroke-linejoin:round; stroke-width:4; stroke-opacity:1; fill:none\" points=\"\n  249.542,1423.18 249.542,47.2441 \n  \"/>\n<polyline clip-path=\"url(#clip270)\" style=\"stroke:#000000; stroke-linecap:butt; stroke-linejoin:round; stroke-width:4; stroke-opacity:1; fill:none\" points=\"\n  249.542,1362.12 268.44,1362.12 \n  \"/>\n<polyline clip-path=\"url(#clip270)\" style=\"stroke:#000000; stroke-linecap:butt; stroke-linejoin:round; stroke-width:4; stroke-opacity:1; fill:none\" points=\"\n  249.542,1142.57 268.44,1142.57 \n  \"/>\n<polyline clip-path=\"url(#clip270)\" style=\"stroke:#000000; stroke-linecap:butt; stroke-linejoin:round; stroke-width:4; stroke-opacity:1; fill:none\" points=\"\n  249.542,923.009 268.44,923.009 \n  \"/>\n<polyline clip-path=\"url(#clip270)\" style=\"stroke:#000000; stroke-linecap:butt; stroke-linejoin:round; stroke-width:4; stroke-opacity:1; fill:none\" points=\"\n  249.542,703.451 268.44,703.451 \n  \"/>\n<polyline clip-path=\"url(#clip270)\" style=\"stroke:#000000; stroke-linecap:butt; stroke-linejoin:round; stroke-width:4; stroke-opacity:1; fill:none\" points=\"\n  249.542,483.893 268.44,483.893 \n  \"/>\n<polyline clip-path=\"url(#clip270)\" style=\"stroke:#000000; stroke-linecap:butt; stroke-linejoin:round; stroke-width:4; stroke-opacity:1; fill:none\" points=\"\n  249.542,264.334 268.44,264.334 \n  \"/>\n<path clip-path=\"url(#clip270)\" d=\"M127.2 1347.92 Q123.589 1347.92 121.76 1351.49 Q119.955 1355.03 119.955 1362.16 Q119.955 1369.27 121.76 1372.83 Q123.589 1376.37 127.2 1376.37 Q130.834 1376.37 132.64 1372.83 Q134.468 1369.27 134.468 1362.16 Q134.468 1355.03 132.64 1351.49 Q130.834 1347.92 127.2 1347.92 M127.2 1344.22 Q133.01 1344.22 136.066 1348.83 Q139.144 1353.41 139.144 1362.16 Q139.144 1370.89 136.066 1375.49 Q133.01 1380.08 127.2 1380.08 Q121.39 1380.08 118.311 1375.49 Q115.256 1370.89 115.256 1362.16 Q115.256 1353.41 118.311 1348.83 Q121.39 1344.22 127.2 1344.22 Z\" fill=\"#000000\" fill-rule=\"evenodd\" fill-opacity=\"1\" /><path clip-path=\"url(#clip270)\" d=\"M147.362 1373.52 L152.246 1373.52 L152.246 1379.4 L147.362 1379.4 L147.362 1373.52 Z\" fill=\"#000000\" fill-rule=\"evenodd\" fill-opacity=\"1\" /><path clip-path=\"url(#clip270)\" d=\"M172.431 1347.92 Q168.82 1347.92 166.991 1351.49 Q165.186 1355.03 165.186 1362.16 Q165.186 1369.27 166.991 1372.83 Q168.82 1376.37 172.431 1376.37 Q176.065 1376.37 177.871 1372.83 Q179.7 1369.27 179.7 1362.16 Q179.7 1355.03 177.871 1351.49 Q176.065 1347.92 172.431 1347.92 M172.431 1344.22 Q178.241 1344.22 181.297 1348.83 Q184.376 1353.41 184.376 1362.16 Q184.376 1370.89 181.297 1375.49 Q178.241 1380.08 172.431 1380.08 Q166.621 1380.08 163.542 1375.49 Q160.487 1370.89 160.487 1362.16 Q160.487 1353.41 163.542 1348.83 Q166.621 1344.22 172.431 1344.22 Z\" fill=\"#000000\" fill-rule=\"evenodd\" fill-opacity=\"1\" /><path clip-path=\"url(#clip270)\" d=\"M192.639 1344.84 L210.996 1344.84 L210.996 1348.78 L196.922 1348.78 L196.922 1357.25 Q197.94 1356.9 198.959 1356.74 Q199.977 1356.56 200.996 1356.56 Q206.783 1356.56 210.162 1359.73 Q213.542 1362.9 213.542 1368.32 Q213.542 1373.9 210.07 1377 Q206.598 1380.08 200.278 1380.08 Q198.102 1380.08 195.834 1379.71 Q193.588 1379.34 191.181 1378.59 L191.181 1373.9 Q193.264 1375.03 195.487 1375.59 Q197.709 1376.14 200.186 1376.14 Q204.19 1376.14 206.528 1374.03 Q208.866 1371.93 208.866 1368.32 Q208.866 1364.71 206.528 1362.6 Q204.19 1360.49 200.186 1360.49 Q198.311 1360.49 196.436 1360.91 Q194.584 1361.33 192.639 1362.21 L192.639 1344.84 Z\" fill=\"#000000\" fill-rule=\"evenodd\" fill-opacity=\"1\" /><path clip-path=\"url(#clip270)\" d=\"M126.205 1128.37 Q122.593 1128.37 120.765 1131.93 Q118.959 1135.47 118.959 1142.6 Q118.959 1149.71 120.765 1153.27 Q122.593 1156.81 126.205 1156.81 Q129.839 1156.81 131.644 1153.27 Q133.473 1149.71 133.473 1142.6 Q133.473 1135.47 131.644 1131.93 Q129.839 1128.37 126.205 1128.37 M126.205 1124.66 Q132.015 1124.66 135.07 1129.27 Q138.149 1133.85 138.149 1142.6 Q138.149 1151.33 135.07 1155.93 Q132.015 1160.52 126.205 1160.52 Q120.394 1160.52 117.316 1155.93 Q114.26 1151.33 114.26 1142.6 Q114.26 1133.85 117.316 1129.27 Q120.394 1124.66 126.205 1124.66 Z\" fill=\"#000000\" fill-rule=\"evenodd\" fill-opacity=\"1\" /><path clip-path=\"url(#clip270)\" d=\"M146.366 1153.97 L151.251 1153.97 L151.251 1159.85 L146.366 1159.85 L146.366 1153.97 Z\" fill=\"#000000\" fill-rule=\"evenodd\" fill-opacity=\"1\" /><path clip-path=\"url(#clip270)\" d=\"M162.246 1155.91 L169.885 1155.91 L169.885 1129.55 L161.575 1131.21 L161.575 1126.95 L169.839 1125.29 L174.514 1125.29 L174.514 1155.91 L182.153 1155.91 L182.153 1159.85 L162.246 1159.85 L162.246 1155.91 Z\" fill=\"#000000\" fill-rule=\"evenodd\" fill-opacity=\"1\" /><path clip-path=\"url(#clip270)\" d=\"M201.598 1128.37 Q197.987 1128.37 196.158 1131.93 Q194.352 1135.47 194.352 1142.6 Q194.352 1149.71 196.158 1153.27 Q197.987 1156.81 201.598 1156.81 Q205.232 1156.81 207.037 1153.27 Q208.866 1149.71 208.866 1142.6 Q208.866 1135.47 207.037 1131.93 Q205.232 1128.37 201.598 1128.37 M201.598 1124.66 Q207.408 1124.66 210.463 1129.27 Q213.542 1133.85 213.542 1142.6 Q213.542 1151.33 210.463 1155.93 Q207.408 1160.52 201.598 1160.52 Q195.787 1160.52 192.709 1155.93 Q189.653 1151.33 189.653 1142.6 Q189.653 1133.85 192.709 1129.27 Q195.787 1124.66 201.598 1124.66 Z\" fill=\"#000000\" fill-rule=\"evenodd\" fill-opacity=\"1\" /><path clip-path=\"url(#clip270)\" d=\"M127.2 908.807 Q123.589 908.807 121.76 912.372 Q119.955 915.914 119.955 923.043 Q119.955 930.15 121.76 933.714 Q123.589 937.256 127.2 937.256 Q130.834 937.256 132.64 933.714 Q134.468 930.15 134.468 923.043 Q134.468 915.914 132.64 912.372 Q130.834 908.807 127.2 908.807 M127.2 905.104 Q133.01 905.104 136.066 909.71 Q139.144 914.293 139.144 923.043 Q139.144 931.77 136.066 936.376 Q133.01 940.96 127.2 940.96 Q121.39 940.96 118.311 936.376 Q115.256 931.77 115.256 923.043 Q115.256 914.293 118.311 909.71 Q121.39 905.104 127.2 905.104 Z\" fill=\"#000000\" fill-rule=\"evenodd\" fill-opacity=\"1\" /><path clip-path=\"url(#clip270)\" d=\"M147.362 934.409 L152.246 934.409 L152.246 940.289 L147.362 940.289 L147.362 934.409 Z\" fill=\"#000000\" fill-rule=\"evenodd\" fill-opacity=\"1\" /><path clip-path=\"url(#clip270)\" d=\"M163.241 936.353 L170.88 936.353 L170.88 909.988 L162.57 911.654 L162.57 907.395 L170.834 905.729 L175.51 905.729 L175.51 936.353 L183.149 936.353 L183.149 940.289 L163.241 940.289 L163.241 936.353 Z\" fill=\"#000000\" fill-rule=\"evenodd\" fill-opacity=\"1\" /><path clip-path=\"url(#clip270)\" d=\"M192.639 905.729 L210.996 905.729 L210.996 909.664 L196.922 909.664 L196.922 918.136 Q197.94 917.789 198.959 917.627 Q199.977 917.441 200.996 917.441 Q206.783 917.441 210.162 920.613 Q213.542 923.784 213.542 929.201 Q213.542 934.779 210.07 937.881 Q206.598 940.96 200.278 940.96 Q198.102 940.96 195.834 940.589 Q193.588 940.219 191.181 939.478 L191.181 934.779 Q193.264 935.914 195.487 936.469 Q197.709 937.025 200.186 937.025 Q204.19 937.025 206.528 934.918 Q208.866 932.812 208.866 929.201 Q208.866 925.59 206.528 923.483 Q204.19 921.377 200.186 921.377 Q198.311 921.377 196.436 921.793 Q194.584 922.21 192.639 923.09 L192.639 905.729 Z\" fill=\"#000000\" fill-rule=\"evenodd\" fill-opacity=\"1\" /><path clip-path=\"url(#clip270)\" d=\"M126.205 689.249 Q122.593 689.249 120.765 692.814 Q118.959 696.356 118.959 703.485 Q118.959 710.592 120.765 714.156 Q122.593 717.698 126.205 717.698 Q129.839 717.698 131.644 714.156 Q133.473 710.592 133.473 703.485 Q133.473 696.356 131.644 692.814 Q129.839 689.249 126.205 689.249 M126.205 685.546 Q132.015 685.546 135.07 690.152 Q138.149 694.735 138.149 703.485 Q138.149 712.212 135.07 716.818 Q132.015 721.402 126.205 721.402 Q120.394 721.402 117.316 716.818 Q114.26 712.212 114.26 703.485 Q114.26 694.735 117.316 690.152 Q120.394 685.546 126.205 685.546 Z\" fill=\"#000000\" fill-rule=\"evenodd\" fill-opacity=\"1\" /><path clip-path=\"url(#clip270)\" d=\"M146.366 714.851 L151.251 714.851 L151.251 720.731 L146.366 720.731 L146.366 714.851 Z\" fill=\"#000000\" fill-rule=\"evenodd\" fill-opacity=\"1\" /><path clip-path=\"url(#clip270)\" d=\"M165.464 716.795 L181.783 716.795 L181.783 720.731 L159.839 720.731 L159.839 716.795 Q162.501 714.041 167.084 709.411 Q171.69 704.758 172.871 703.416 Q175.116 700.893 175.996 699.157 Q176.899 697.397 176.899 695.707 Q176.899 692.953 174.954 691.217 Q173.033 689.481 169.931 689.481 Q167.732 689.481 165.278 690.245 Q162.848 691.008 160.07 692.559 L160.07 687.837 Q162.894 686.703 165.348 686.124 Q167.802 685.546 169.839 685.546 Q175.209 685.546 178.403 688.231 Q181.598 690.916 181.598 695.407 Q181.598 697.536 180.788 699.457 Q180.001 701.356 177.894 703.948 Q177.315 704.619 174.214 707.837 Q171.112 711.031 165.464 716.795 Z\" fill=\"#000000\" fill-rule=\"evenodd\" fill-opacity=\"1\" /><path clip-path=\"url(#clip270)\" d=\"M201.598 689.249 Q197.987 689.249 196.158 692.814 Q194.352 696.356 194.352 703.485 Q194.352 710.592 196.158 714.156 Q197.987 717.698 201.598 717.698 Q205.232 717.698 207.037 714.156 Q208.866 710.592 208.866 703.485 Q208.866 696.356 207.037 692.814 Q205.232 689.249 201.598 689.249 M201.598 685.546 Q207.408 685.546 210.463 690.152 Q213.542 694.735 213.542 703.485 Q213.542 712.212 210.463 716.818 Q207.408 721.402 201.598 721.402 Q195.787 721.402 192.709 716.818 Q189.653 712.212 189.653 703.485 Q189.653 694.735 192.709 690.152 Q195.787 685.546 201.598 685.546 Z\" fill=\"#000000\" fill-rule=\"evenodd\" fill-opacity=\"1\" /><path clip-path=\"url(#clip270)\" d=\"M127.2 469.691 Q123.589 469.691 121.76 473.256 Q119.955 476.798 119.955 483.927 Q119.955 491.034 121.76 494.598 Q123.589 498.14 127.2 498.14 Q130.834 498.14 132.64 494.598 Q134.468 491.034 134.468 483.927 Q134.468 476.798 132.64 473.256 Q130.834 469.691 127.2 469.691 M127.2 465.988 Q133.01 465.988 136.066 470.594 Q139.144 475.177 139.144 483.927 Q139.144 492.654 136.066 497.26 Q133.01 501.844 127.2 501.844 Q121.39 501.844 118.311 497.26 Q115.256 492.654 115.256 483.927 Q115.256 475.177 118.311 470.594 Q121.39 465.988 127.2 465.988 Z\" fill=\"#000000\" fill-rule=\"evenodd\" fill-opacity=\"1\" /><path clip-path=\"url(#clip270)\" d=\"M147.362 495.293 L152.246 495.293 L152.246 501.173 L147.362 501.173 L147.362 495.293 Z\" fill=\"#000000\" fill-rule=\"evenodd\" fill-opacity=\"1\" /><path clip-path=\"url(#clip270)\" d=\"M166.459 497.237 L182.778 497.237 L182.778 501.173 L160.834 501.173 L160.834 497.237 Q163.496 494.483 168.079 489.853 Q172.686 485.2 173.866 483.858 Q176.112 481.335 176.991 479.599 Q177.894 477.839 177.894 476.149 Q177.894 473.395 175.95 471.659 Q174.028 469.923 170.927 469.923 Q168.727 469.923 166.274 470.687 Q163.843 471.45 161.065 473.001 L161.065 468.279 Q163.89 467.145 166.343 466.566 Q168.797 465.988 170.834 465.988 Q176.204 465.988 179.399 468.673 Q182.593 471.358 182.593 475.849 Q182.593 477.978 181.783 479.899 Q180.996 481.798 178.889 484.39 Q178.311 485.061 175.209 488.279 Q172.107 491.473 166.459 497.237 Z\" fill=\"#000000\" fill-rule=\"evenodd\" fill-opacity=\"1\" /><path clip-path=\"url(#clip270)\" d=\"M192.639 466.613 L210.996 466.613 L210.996 470.548 L196.922 470.548 L196.922 479.02 Q197.94 478.673 198.959 478.511 Q199.977 478.325 200.996 478.325 Q206.783 478.325 210.162 481.497 Q213.542 484.668 213.542 490.085 Q213.542 495.663 210.07 498.765 Q206.598 501.844 200.278 501.844 Q198.102 501.844 195.834 501.473 Q193.588 501.103 191.181 500.362 L191.181 495.663 Q193.264 496.798 195.487 497.353 Q197.709 497.909 200.186 497.909 Q204.19 497.909 206.528 495.802 Q208.866 493.696 208.866 490.085 Q208.866 486.474 206.528 484.367 Q204.19 482.261 200.186 482.261 Q198.311 482.261 196.436 482.677 Q194.584 483.094 192.639 483.974 L192.639 466.613 Z\" fill=\"#000000\" fill-rule=\"evenodd\" fill-opacity=\"1\" /><path clip-path=\"url(#clip270)\" d=\"M126.205 250.133 Q122.593 250.133 120.765 253.698 Q118.959 257.24 118.959 264.369 Q118.959 271.476 120.765 275.04 Q122.593 278.582 126.205 278.582 Q129.839 278.582 131.644 275.04 Q133.473 271.476 133.473 264.369 Q133.473 257.24 131.644 253.698 Q129.839 250.133 126.205 250.133 M126.205 246.43 Q132.015 246.43 135.07 251.036 Q138.149 255.619 138.149 264.369 Q138.149 273.096 135.07 277.702 Q132.015 282.286 126.205 282.286 Q120.394 282.286 117.316 277.702 Q114.26 273.096 114.26 264.369 Q114.26 255.619 117.316 251.036 Q120.394 246.43 126.205 246.43 Z\" fill=\"#000000\" fill-rule=\"evenodd\" fill-opacity=\"1\" /><path clip-path=\"url(#clip270)\" d=\"M146.366 275.735 L151.251 275.735 L151.251 281.614 L146.366 281.614 L146.366 275.735 Z\" fill=\"#000000\" fill-rule=\"evenodd\" fill-opacity=\"1\" /><path clip-path=\"url(#clip270)\" d=\"M175.602 262.98 Q178.959 263.698 180.834 265.966 Q182.732 268.235 182.732 271.568 Q182.732 276.684 179.214 279.485 Q175.695 282.286 169.214 282.286 Q167.038 282.286 164.723 281.846 Q162.431 281.429 159.978 280.573 L159.978 276.059 Q161.922 277.193 164.237 277.772 Q166.552 278.351 169.075 278.351 Q173.473 278.351 175.764 276.615 Q178.079 274.878 178.079 271.568 Q178.079 268.513 175.926 266.8 Q173.797 265.064 169.977 265.064 L165.95 265.064 L165.95 261.221 L170.163 261.221 Q173.612 261.221 175.44 259.855 Q177.269 258.466 177.269 255.874 Q177.269 253.212 175.371 251.8 Q173.496 250.365 169.977 250.365 Q168.056 250.365 165.857 250.781 Q163.658 251.198 161.019 252.078 L161.019 247.911 Q163.681 247.17 165.996 246.8 Q168.334 246.43 170.394 246.43 Q175.718 246.43 178.82 248.86 Q181.922 251.267 181.922 255.388 Q181.922 258.258 180.278 260.249 Q178.635 262.216 175.602 262.98 Z\" fill=\"#000000\" fill-rule=\"evenodd\" fill-opacity=\"1\" /><path clip-path=\"url(#clip270)\" d=\"M201.598 250.133 Q197.987 250.133 196.158 253.698 Q194.352 257.24 194.352 264.369 Q194.352 271.476 196.158 275.04 Q197.987 278.582 201.598 278.582 Q205.232 278.582 207.037 275.04 Q208.866 271.476 208.866 264.369 Q208.866 257.24 207.037 253.698 Q205.232 250.133 201.598 250.133 M201.598 246.43 Q207.408 246.43 210.463 251.036 Q213.542 255.619 213.542 264.369 Q213.542 273.096 210.463 277.702 Q207.408 282.286 201.598 282.286 Q195.787 282.286 192.709 277.702 Q189.653 273.096 189.653 264.369 Q189.653 255.619 192.709 251.036 Q195.787 246.43 201.598 246.43 Z\" fill=\"#000000\" fill-rule=\"evenodd\" fill-opacity=\"1\" /><path clip-path=\"url(#clip270)\" d=\"M57.2247 796.53 L44.4614 796.53 L44.4614 807.033 L39.1779 807.033 L39.1779 790.164 L59.58 790.164 Q62.2218 793.888 63.5904 798.376 Q64.9272 802.864 64.9272 807.956 Q64.9272 819.096 58.4342 825.398 Q51.9093 831.668 40.2919 831.668 Q28.6427 831.668 22.1496 825.398 Q15.6248 819.096 15.6248 807.956 Q15.6248 803.309 16.7706 799.14 Q17.9164 794.938 20.1444 791.405 L26.9876 791.405 Q23.9639 794.97 22.4361 798.98 Q20.9083 802.991 20.9083 807.415 Q20.9083 816.136 25.7781 820.528 Q30.6479 824.889 40.2919 824.889 Q49.9041 824.889 54.7739 820.528 Q59.6436 816.136 59.6436 807.415 Q59.6436 804.009 59.0707 801.336 Q58.466 798.662 57.2247 796.53 Z\" fill=\"#000000\" fill-rule=\"evenodd\" fill-opacity=\"1\" /><path clip-path=\"url(#clip270)\" d=\"M33.8307 758.017 Q33.2578 759.004 33.0032 760.181 Q32.7167 761.327 32.7167 762.728 Q32.7167 767.693 35.9632 770.367 Q39.1779 773.008 45.2253 773.008 L64.0042 773.008 L64.0042 778.897 L28.3562 778.897 L28.3562 773.008 L33.8944 773.008 Q30.6479 771.162 29.0883 768.202 Q27.4968 765.242 27.4968 761.009 Q27.4968 760.404 27.5923 759.672 Q27.656 758.94 27.8151 758.049 L33.8307 758.017 Z\" fill=\"#000000\" fill-rule=\"evenodd\" fill-opacity=\"1\" /><path clip-path=\"url(#clip270)\" d=\"M49.9359 752.479 L28.3562 752.479 L28.3562 746.622 L49.7131 746.622 Q54.7739 746.622 57.3202 744.649 Q59.8346 742.676 59.8346 738.729 Q59.8346 733.987 56.8109 731.249 Q53.7872 728.48 48.5673 728.48 L28.3562 728.48 L28.3562 722.624 L64.0042 722.624 L64.0042 728.48 L58.5296 728.48 Q61.7762 730.613 63.3676 733.445 Q64.9272 736.246 64.9272 739.97 Q64.9272 746.113 61.1078 749.296 Q57.2883 752.479 49.9359 752.479 M27.4968 737.742 L27.4968 737.742 M14.6063 734.814 L14.6063 728.353 L21.0356 728.353 L21.0356 734.814 L14.6063 734.814 M14.6063 747.259 L14.6063 740.798 L21.0356 740.798 L21.0356 747.259 L14.6063 747.259 Z\" fill=\"#000000\" fill-rule=\"evenodd\" fill-opacity=\"1\" /><path clip-path=\"url(#clip270)\" d=\"M42.4881 680.928 L64.0042 680.928 L64.0042 686.785 L42.679 686.785 Q37.6183 686.785 35.1038 688.758 Q32.5894 690.732 32.5894 694.678 Q32.5894 699.421 35.6131 702.158 Q38.6368 704.895 43.8567 704.895 L64.0042 704.895 L64.0042 710.784 L28.3562 710.784 L28.3562 704.895 L33.8944 704.895 Q30.6797 702.795 29.0883 699.962 Q27.4968 697.097 27.4968 693.373 Q27.4968 687.23 31.3163 684.079 Q35.1038 680.928 42.4881 680.928 Z\" fill=\"#000000\" fill-rule=\"evenodd\" fill-opacity=\"1\" /><path clip-path=\"url(#clip270)\" d=\"M44.7161 638.756 L47.5806 638.756 L47.5806 665.683 Q53.6281 665.301 56.8109 662.054 Q59.9619 658.776 59.9619 652.951 Q59.9619 649.577 59.1344 646.426 Q58.3069 643.243 56.6518 640.124 L62.1899 640.124 Q63.5267 643.275 64.227 646.585 Q64.9272 649.896 64.9272 653.301 Q64.9272 661.831 59.9619 666.828 Q54.9967 671.794 46.5303 671.794 Q37.7774 671.794 32.6531 667.083 Q27.4968 662.341 27.4968 654.32 Q27.4968 647.127 32.1438 642.957 Q36.7589 638.756 44.7161 638.756 M42.9973 644.612 Q38.1912 644.676 35.3266 647.317 Q32.4621 649.927 32.4621 654.256 Q32.4621 659.158 35.2312 662.118 Q38.0002 665.046 43.0292 665.492 L42.9973 644.612 Z\" fill=\"#000000\" fill-rule=\"evenodd\" fill-opacity=\"1\" /><circle clip-path=\"url(#clip272)\" cx=\"1829.47\" cy=\"1081.14\" r=\"14\" fill=\"#009af9\" fill-rule=\"evenodd\" fill-opacity=\"1\" stroke=\"#000000\" stroke-opacity=\"1\" stroke-width=\"3.2\"/>\n<circle clip-path=\"url(#clip272)\" cx=\"1535.26\" cy=\"981.005\" r=\"14\" fill=\"#009af9\" fill-rule=\"evenodd\" fill-opacity=\"1\" stroke=\"#000000\" stroke-opacity=\"1\" stroke-width=\"3.2\"/>\n<circle clip-path=\"url(#clip272)\" cx=\"1870.75\" cy=\"1149.77\" r=\"14\" fill=\"#009af9\" fill-rule=\"evenodd\" fill-opacity=\"1\" stroke=\"#000000\" stroke-opacity=\"1\" stroke-width=\"3.2\"/>\n<circle clip-path=\"url(#clip272)\" cx=\"1970.7\" cy=\"1126.41\" r=\"14\" fill=\"#009af9\" fill-rule=\"evenodd\" fill-opacity=\"1\" stroke=\"#000000\" stroke-opacity=\"1\" stroke-width=\"3.2\"/>\n<circle clip-path=\"url(#clip272)\" cx=\"1351.04\" cy=\"811.338\" r=\"14\" fill=\"#009af9\" fill-rule=\"evenodd\" fill-opacity=\"1\" stroke=\"#000000\" stroke-opacity=\"1\" stroke-width=\"3.2\"/>\n<circle clip-path=\"url(#clip272)\" cx=\"1199.38\" cy=\"908.63\" r=\"14\" fill=\"#009af9\" fill-rule=\"evenodd\" fill-opacity=\"1\" stroke=\"#000000\" stroke-opacity=\"1\" stroke-width=\"3.2\"/>\n<circle clip-path=\"url(#clip272)\" cx=\"1533.76\" cy=\"746.597\" r=\"14\" fill=\"#009af9\" fill-rule=\"evenodd\" fill-opacity=\"1\" stroke=\"#000000\" stroke-opacity=\"1\" stroke-width=\"3.2\"/>\n<circle clip-path=\"url(#clip272)\" cx=\"1519.79\" cy=\"910.513\" r=\"14\" fill=\"#009af9\" fill-rule=\"evenodd\" fill-opacity=\"1\" stroke=\"#000000\" stroke-opacity=\"1\" stroke-width=\"3.2\"/>\n<circle clip-path=\"url(#clip272)\" cx=\"1656.96\" cy=\"1145.8\" r=\"14\" fill=\"#009af9\" fill-rule=\"evenodd\" fill-opacity=\"1\" stroke=\"#000000\" stroke-opacity=\"1\" stroke-width=\"3.2\"/>\n<circle clip-path=\"url(#clip272)\" cx=\"2134.11\" cy=\"1116.41\" r=\"14\" fill=\"#009af9\" fill-rule=\"evenodd\" fill-opacity=\"1\" stroke=\"#000000\" stroke-opacity=\"1\" stroke-width=\"3.2\"/>\n<circle clip-path=\"url(#clip272)\" cx=\"1810.32\" cy=\"1265.88\" r=\"14\" fill=\"#009af9\" fill-rule=\"evenodd\" fill-opacity=\"1\" stroke=\"#000000\" stroke-opacity=\"1\" stroke-width=\"3.2\"/>\n<circle clip-path=\"url(#clip272)\" cx=\"930.039\" cy=\"593.141\" r=\"14\" fill=\"#009af9\" fill-rule=\"evenodd\" fill-opacity=\"1\" stroke=\"#000000\" stroke-opacity=\"1\" stroke-width=\"3.2\"/>\n<circle clip-path=\"url(#clip272)\" cx=\"1146.42\" cy=\"940.277\" r=\"14\" fill=\"#009af9\" fill-rule=\"evenodd\" fill-opacity=\"1\" stroke=\"#000000\" stroke-opacity=\"1\" stroke-width=\"3.2\"/>\n<circle clip-path=\"url(#clip272)\" cx=\"1434.14\" cy=\"1132.68\" r=\"14\" fill=\"#009af9\" fill-rule=\"evenodd\" fill-opacity=\"1\" stroke=\"#000000\" stroke-opacity=\"1\" stroke-width=\"3.2\"/>\n<circle clip-path=\"url(#clip272)\" cx=\"1540.08\" cy=\"1141.81\" r=\"14\" fill=\"#009af9\" fill-rule=\"evenodd\" fill-opacity=\"1\" stroke=\"#000000\" stroke-opacity=\"1\" stroke-width=\"3.2\"/>\n<circle clip-path=\"url(#clip272)\" cx=\"1167.26\" cy=\"1029.68\" r=\"14\" fill=\"#009af9\" fill-rule=\"evenodd\" fill-opacity=\"1\" stroke=\"#000000\" stroke-opacity=\"1\" stroke-width=\"3.2\"/>\n<circle clip-path=\"url(#clip272)\" cx=\"1763.14\" cy=\"1064.47\" r=\"14\" fill=\"#009af9\" fill-rule=\"evenodd\" fill-opacity=\"1\" stroke=\"#000000\" stroke-opacity=\"1\" stroke-width=\"3.2\"/>\n<circle clip-path=\"url(#clip272)\" cx=\"1828.05\" cy=\"1132.27\" r=\"14\" fill=\"#009af9\" fill-rule=\"evenodd\" fill-opacity=\"1\" stroke=\"#000000\" stroke-opacity=\"1\" stroke-width=\"3.2\"/>\n<circle clip-path=\"url(#clip272)\" cx=\"1375.21\" cy=\"958.117\" r=\"14\" fill=\"#009af9\" fill-rule=\"evenodd\" fill-opacity=\"1\" stroke=\"#000000\" stroke-opacity=\"1\" stroke-width=\"3.2\"/>\n<circle clip-path=\"url(#clip272)\" cx=\"1129.77\" cy=\"636.88\" r=\"14\" fill=\"#009af9\" fill-rule=\"evenodd\" fill-opacity=\"1\" stroke=\"#000000\" stroke-opacity=\"1\" stroke-width=\"3.2\"/>\n<circle clip-path=\"url(#clip272)\" cx=\"1794.82\" cy=\"1153.28\" r=\"14\" fill=\"#009af9\" fill-rule=\"evenodd\" fill-opacity=\"1\" stroke=\"#000000\" stroke-opacity=\"1\" stroke-width=\"3.2\"/>\n<circle clip-path=\"url(#clip272)\" cx=\"1531.36\" cy=\"1038.27\" r=\"14\" fill=\"#009af9\" fill-rule=\"evenodd\" fill-opacity=\"1\" stroke=\"#000000\" stroke-opacity=\"1\" stroke-width=\"3.2\"/>\n<circle clip-path=\"url(#clip272)\" cx=\"1246.85\" cy=\"1171.37\" r=\"14\" fill=\"#009af9\" fill-rule=\"evenodd\" fill-opacity=\"1\" stroke=\"#000000\" stroke-opacity=\"1\" stroke-width=\"3.2\"/>\n<circle clip-path=\"url(#clip272)\" cx=\"1123.42\" cy=\"1160.21\" r=\"14\" fill=\"#009af9\" fill-rule=\"evenodd\" fill-opacity=\"1\" stroke=\"#000000\" stroke-opacity=\"1\" stroke-width=\"3.2\"/>\n<circle clip-path=\"url(#clip272)\" cx=\"1519.4\" cy=\"852.898\" r=\"14\" fill=\"#009af9\" fill-rule=\"evenodd\" fill-opacity=\"1\" stroke=\"#000000\" stroke-opacity=\"1\" stroke-width=\"3.2\"/>\n<circle clip-path=\"url(#clip272)\" cx=\"1127.09\" cy=\"725.202\" r=\"14\" fill=\"#009af9\" fill-rule=\"evenodd\" fill-opacity=\"1\" stroke=\"#000000\" stroke-opacity=\"1\" stroke-width=\"3.2\"/>\n<circle clip-path=\"url(#clip272)\" cx=\"1639.66\" cy=\"1073.17\" r=\"14\" fill=\"#009af9\" fill-rule=\"evenodd\" fill-opacity=\"1\" stroke=\"#000000\" stroke-opacity=\"1\" stroke-width=\"3.2\"/>\n<circle clip-path=\"url(#clip272)\" cx=\"1285.48\" cy=\"994.042\" r=\"14\" fill=\"#009af9\" fill-rule=\"evenodd\" fill-opacity=\"1\" stroke=\"#000000\" stroke-opacity=\"1\" stroke-width=\"3.2\"/>\n<circle clip-path=\"url(#clip272)\" cx=\"1500.48\" cy=\"968.74\" r=\"14\" fill=\"#009af9\" fill-rule=\"evenodd\" fill-opacity=\"1\" stroke=\"#000000\" stroke-opacity=\"1\" stroke-width=\"3.2\"/>\n<circle clip-path=\"url(#clip272)\" cx=\"1793.45\" cy=\"1230.62\" r=\"14\" fill=\"#009af9\" fill-rule=\"evenodd\" fill-opacity=\"1\" stroke=\"#000000\" stroke-opacity=\"1\" stroke-width=\"3.2\"/>\n<circle clip-path=\"url(#clip272)\" cx=\"1395.98\" cy=\"1043.54\" r=\"14\" fill=\"#009af9\" fill-rule=\"evenodd\" fill-opacity=\"1\" stroke=\"#000000\" stroke-opacity=\"1\" stroke-width=\"3.2\"/>\n<circle clip-path=\"url(#clip272)\" cx=\"1685.74\" cy=\"1213.5\" r=\"14\" fill=\"#009af9\" fill-rule=\"evenodd\" fill-opacity=\"1\" stroke=\"#000000\" stroke-opacity=\"1\" stroke-width=\"3.2\"/>\n<circle clip-path=\"url(#clip272)\" cx=\"1177.12\" cy=\"800.991\" r=\"14\" fill=\"#009af9\" fill-rule=\"evenodd\" fill-opacity=\"1\" stroke=\"#000000\" stroke-opacity=\"1\" stroke-width=\"3.2\"/>\n<circle clip-path=\"url(#clip272)\" cx=\"1086.01\" cy=\"827.862\" r=\"14\" fill=\"#009af9\" fill-rule=\"evenodd\" fill-opacity=\"1\" stroke=\"#000000\" stroke-opacity=\"1\" stroke-width=\"3.2\"/>\n<circle clip-path=\"url(#clip272)\" cx=\"1182.21\" cy=\"973.346\" r=\"14\" fill=\"#009af9\" fill-rule=\"evenodd\" fill-opacity=\"1\" stroke=\"#000000\" stroke-opacity=\"1\" stroke-width=\"3.2\"/>\n<circle clip-path=\"url(#clip272)\" cx=\"1859.34\" cy=\"1384.24\" r=\"14\" fill=\"#009af9\" fill-rule=\"evenodd\" fill-opacity=\"1\" stroke=\"#000000\" stroke-opacity=\"1\" stroke-width=\"3.2\"/>\n<circle clip-path=\"url(#clip272)\" cx=\"1318.39\" cy=\"982.1\" r=\"14\" fill=\"#009af9\" fill-rule=\"evenodd\" fill-opacity=\"1\" stroke=\"#000000\" stroke-opacity=\"1\" stroke-width=\"3.2\"/>\n<circle clip-path=\"url(#clip272)\" cx=\"1926.65\" cy=\"1130.18\" r=\"14\" fill=\"#009af9\" fill-rule=\"evenodd\" fill-opacity=\"1\" stroke=\"#000000\" stroke-opacity=\"1\" stroke-width=\"3.2\"/>\n<circle clip-path=\"url(#clip272)\" cx=\"1286.56\" cy=\"922.276\" r=\"14\" fill=\"#009af9\" fill-rule=\"evenodd\" fill-opacity=\"1\" stroke=\"#000000\" stroke-opacity=\"1\" stroke-width=\"3.2\"/>\n<circle clip-path=\"url(#clip272)\" cx=\"1587.82\" cy=\"816.077\" r=\"14\" fill=\"#009af9\" fill-rule=\"evenodd\" fill-opacity=\"1\" stroke=\"#000000\" stroke-opacity=\"1\" stroke-width=\"3.2\"/>\n<circle clip-path=\"url(#clip272)\" cx=\"2293.23\" cy=\"1275.65\" r=\"14\" fill=\"#009af9\" fill-rule=\"evenodd\" fill-opacity=\"1\" stroke=\"#000000\" stroke-opacity=\"1\" stroke-width=\"3.2\"/>\n<circle clip-path=\"url(#clip272)\" cx=\"2000.59\" cy=\"1194.01\" r=\"14\" fill=\"#009af9\" fill-rule=\"evenodd\" fill-opacity=\"1\" stroke=\"#000000\" stroke-opacity=\"1\" stroke-width=\"3.2\"/>\n<circle clip-path=\"url(#clip272)\" cx=\"1546.94\" cy=\"1030.45\" r=\"14\" fill=\"#009af9\" fill-rule=\"evenodd\" fill-opacity=\"1\" stroke=\"#000000\" stroke-opacity=\"1\" stroke-width=\"3.2\"/>\n<circle clip-path=\"url(#clip272)\" cx=\"1184.35\" cy=\"887.98\" r=\"14\" fill=\"#009af9\" fill-rule=\"evenodd\" fill-opacity=\"1\" stroke=\"#000000\" stroke-opacity=\"1\" stroke-width=\"3.2\"/>\n<circle clip-path=\"url(#clip272)\" cx=\"1214.47\" cy=\"1087.31\" r=\"14\" fill=\"#009af9\" fill-rule=\"evenodd\" fill-opacity=\"1\" stroke=\"#000000\" stroke-opacity=\"1\" stroke-width=\"3.2\"/>\n<circle clip-path=\"url(#clip272)\" cx=\"1617.52\" cy=\"1043.28\" r=\"14\" fill=\"#009af9\" fill-rule=\"evenodd\" fill-opacity=\"1\" stroke=\"#000000\" stroke-opacity=\"1\" stroke-width=\"3.2\"/>\n<circle clip-path=\"url(#clip272)\" cx=\"1629.99\" cy=\"983.187\" r=\"14\" fill=\"#009af9\" fill-rule=\"evenodd\" fill-opacity=\"1\" stroke=\"#000000\" stroke-opacity=\"1\" stroke-width=\"3.2\"/>\n<circle clip-path=\"url(#clip272)\" cx=\"1198.94\" cy=\"798.651\" r=\"14\" fill=\"#009af9\" fill-rule=\"evenodd\" fill-opacity=\"1\" stroke=\"#000000\" stroke-opacity=\"1\" stroke-width=\"3.2\"/>\n<circle clip-path=\"url(#clip272)\" cx=\"1619.24\" cy=\"945.941\" r=\"14\" fill=\"#009af9\" fill-rule=\"evenodd\" fill-opacity=\"1\" stroke=\"#000000\" stroke-opacity=\"1\" stroke-width=\"3.2\"/>\n<circle clip-path=\"url(#clip272)\" cx=\"1172.97\" cy=\"860.746\" r=\"14\" fill=\"#009af9\" fill-rule=\"evenodd\" fill-opacity=\"1\" stroke=\"#000000\" stroke-opacity=\"1\" stroke-width=\"3.2\"/>\n<circle clip-path=\"url(#clip272)\" cx=\"1322.47\" cy=\"897.23\" r=\"14\" fill=\"#009af9\" fill-rule=\"evenodd\" fill-opacity=\"1\" stroke=\"#000000\" stroke-opacity=\"1\" stroke-width=\"3.2\"/>\n<circle clip-path=\"url(#clip272)\" cx=\"1004.98\" cy=\"701.812\" r=\"14\" fill=\"#009af9\" fill-rule=\"evenodd\" fill-opacity=\"1\" stroke=\"#000000\" stroke-opacity=\"1\" stroke-width=\"3.2\"/>\n<circle clip-path=\"url(#clip272)\" cx=\"459.401\" cy=\"86.1857\" r=\"14\" fill=\"#e26f46\" fill-rule=\"evenodd\" fill-opacity=\"1\" stroke=\"#000000\" stroke-opacity=\"1\" stroke-width=\"3.2\"/>\n<circle clip-path=\"url(#clip272)\" cx=\"472.399\" cy=\"360.819\" r=\"14\" fill=\"#e26f46\" fill-rule=\"evenodd\" fill-opacity=\"1\" stroke=\"#000000\" stroke-opacity=\"1\" stroke-width=\"3.2\"/>\n<circle clip-path=\"url(#clip272)\" cx=\"1240.61\" cy=\"779.612\" r=\"14\" fill=\"#e26f46\" fill-rule=\"evenodd\" fill-opacity=\"1\" stroke=\"#000000\" stroke-opacity=\"1\" stroke-width=\"3.2\"/>\n<circle clip-path=\"url(#clip272)\" cx=\"309.067\" cy=\"188.612\" r=\"14\" fill=\"#e26f46\" fill-rule=\"evenodd\" fill-opacity=\"1\" stroke=\"#000000\" stroke-opacity=\"1\" stroke-width=\"3.2\"/>\n<circle clip-path=\"url(#clip272)\" cx=\"1154.26\" cy=\"1055.49\" r=\"14\" fill=\"#e26f46\" fill-rule=\"evenodd\" fill-opacity=\"1\" stroke=\"#000000\" stroke-opacity=\"1\" stroke-width=\"3.2\"/>\n<circle clip-path=\"url(#clip272)\" cx=\"781.429\" cy=\"338.963\" r=\"14\" fill=\"#e26f46\" fill-rule=\"evenodd\" fill-opacity=\"1\" stroke=\"#000000\" stroke-opacity=\"1\" stroke-width=\"3.2\"/>\n<circle clip-path=\"url(#clip272)\" cx=\"613.719\" cy=\"201.89\" r=\"14\" fill=\"#e26f46\" fill-rule=\"evenodd\" fill-opacity=\"1\" stroke=\"#000000\" stroke-opacity=\"1\" stroke-width=\"3.2\"/>\n<circle clip-path=\"url(#clip272)\" cx=\"1140.89\" cy=\"786.923\" r=\"14\" fill=\"#e26f46\" fill-rule=\"evenodd\" fill-opacity=\"1\" stroke=\"#000000\" stroke-opacity=\"1\" stroke-width=\"3.2\"/>\n<circle clip-path=\"url(#clip272)\" cx=\"1114.76\" cy=\"1003.49\" r=\"14\" fill=\"#e26f46\" fill-rule=\"evenodd\" fill-opacity=\"1\" stroke=\"#000000\" stroke-opacity=\"1\" stroke-width=\"3.2\"/>\n<circle clip-path=\"url(#clip272)\" cx=\"1116.42\" cy=\"469.945\" r=\"14\" fill=\"#e26f46\" fill-rule=\"evenodd\" fill-opacity=\"1\" stroke=\"#000000\" stroke-opacity=\"1\" stroke-width=\"3.2\"/>\n<circle clip-path=\"url(#clip272)\" cx=\"1052.6\" cy=\"713.101\" r=\"14\" fill=\"#e26f46\" fill-rule=\"evenodd\" fill-opacity=\"1\" stroke=\"#000000\" stroke-opacity=\"1\" stroke-width=\"3.2\"/>\n<circle clip-path=\"url(#clip272)\" cx=\"1099.53\" cy=\"782.543\" r=\"14\" fill=\"#e26f46\" fill-rule=\"evenodd\" fill-opacity=\"1\" stroke=\"#000000\" stroke-opacity=\"1\" stroke-width=\"3.2\"/>\n<circle clip-path=\"url(#clip272)\" cx=\"1102.69\" cy=\"743.186\" r=\"14\" fill=\"#e26f46\" fill-rule=\"evenodd\" fill-opacity=\"1\" stroke=\"#000000\" stroke-opacity=\"1\" stroke-width=\"3.2\"/>\n<path clip-path=\"url(#clip270)\" d=\"\nM1939.79 248.629 L2282.65 248.629 L2282.65 93.1086 L1939.79 93.1086  Z\n  \" fill=\"#ffffff\" fill-rule=\"evenodd\" fill-opacity=\"1\"/>\n<polyline clip-path=\"url(#clip270)\" style=\"stroke:#000000; stroke-linecap:butt; stroke-linejoin:round; stroke-width:4; stroke-opacity:1; fill:none\" points=\"\n  1939.79,248.629 2282.65,248.629 2282.65,93.1086 1939.79,93.1086 1939.79,248.629 \n  \"/>\n<circle clip-path=\"url(#clip270)\" cx=\"2033.27\" cy=\"144.949\" r=\"23\" fill=\"#009af9\" fill-rule=\"evenodd\" fill-opacity=\"1\" stroke=\"#000000\" stroke-opacity=\"1\" stroke-width=\"5.12\"/>\n<path clip-path=\"url(#clip270)\" d=\"M2143.25 126.21 L2143.25 129.752 L2139.18 129.752 Q2136.88 129.752 2135.98 130.678 Q2135.1 131.604 2135.1 134.011 L2135.1 136.303 L2142.11 136.303 L2142.11 139.613 L2135.1 139.613 L2135.1 162.229 L2130.82 162.229 L2130.82 139.613 L2126.74 139.613 L2126.74 136.303 L2130.82 136.303 L2130.82 134.497 Q2130.82 130.169 2132.83 128.201 Q2134.85 126.21 2139.22 126.21 L2143.25 126.21 Z\" fill=\"#000000\" fill-rule=\"evenodd\" fill-opacity=\"1\" /><path clip-path=\"url(#clip270)\" d=\"M2158.6 149.196 Q2153.43 149.196 2151.44 150.377 Q2149.45 151.557 2149.45 154.405 Q2149.45 156.673 2150.93 158.016 Q2152.44 159.335 2155.01 159.335 Q2158.55 159.335 2160.68 156.835 Q2162.83 154.312 2162.83 150.145 L2162.83 149.196 L2158.6 149.196 M2167.09 147.437 L2167.09 162.229 L2162.83 162.229 L2162.83 158.293 Q2161.37 160.655 2159.2 161.789 Q2157.02 162.9 2153.87 162.9 Q2149.89 162.9 2147.53 160.678 Q2145.19 158.432 2145.19 154.682 Q2145.19 150.307 2148.11 148.085 Q2151.05 145.863 2156.86 145.863 L2162.83 145.863 L2162.83 145.446 Q2162.83 142.507 2160.89 140.909 Q2158.97 139.289 2155.47 139.289 Q2153.25 139.289 2151.14 139.821 Q2149.04 140.354 2147.09 141.419 L2147.09 137.483 Q2149.43 136.581 2151.63 136.141 Q2153.83 135.678 2155.91 135.678 Q2161.54 135.678 2164.31 138.594 Q2167.09 141.511 2167.09 147.437 Z\" fill=\"#000000\" fill-rule=\"evenodd\" fill-opacity=\"1\" /><path clip-path=\"url(#clip270)\" d=\"M2175.86 126.21 L2180.12 126.21 L2180.12 162.229 L2175.86 162.229 L2175.86 126.21 Z\" fill=\"#000000\" fill-rule=\"evenodd\" fill-opacity=\"1\" /><path clip-path=\"url(#clip270)\" d=\"M2205.56 137.067 L2205.56 141.094 Q2203.76 140.169 2201.81 139.706 Q2199.87 139.243 2197.79 139.243 Q2194.61 139.243 2193.02 140.215 Q2191.44 141.187 2191.44 143.131 Q2191.44 144.613 2192.58 145.469 Q2193.71 146.303 2197.14 147.067 L2198.6 147.391 Q2203.13 148.363 2205.03 150.145 Q2206.95 151.905 2206.95 155.076 Q2206.95 158.687 2204.08 160.793 Q2201.23 162.9 2196.23 162.9 Q2194.15 162.9 2191.88 162.483 Q2189.64 162.09 2187.14 161.28 L2187.14 156.881 Q2189.5 158.108 2191.79 158.733 Q2194.08 159.335 2196.33 159.335 Q2199.34 159.335 2200.96 158.317 Q2202.58 157.275 2202.58 155.4 Q2202.58 153.664 2201.4 152.738 Q2200.24 151.812 2196.28 150.956 L2194.8 150.608 Q2190.84 149.775 2189.08 148.062 Q2187.32 146.326 2187.32 143.317 Q2187.32 139.659 2189.92 137.669 Q2192.51 135.678 2197.28 135.678 Q2199.64 135.678 2201.72 136.025 Q2203.8 136.372 2205.56 137.067 Z\" fill=\"#000000\" fill-rule=\"evenodd\" fill-opacity=\"1\" /><path clip-path=\"url(#clip270)\" d=\"M2235.91 148.201 L2235.91 150.284 L2216.33 150.284 Q2216.61 154.682 2218.97 156.997 Q2221.35 159.289 2225.59 159.289 Q2228.04 159.289 2230.33 158.687 Q2232.65 158.085 2234.92 156.881 L2234.92 160.909 Q2232.62 161.881 2230.22 162.391 Q2227.81 162.9 2225.33 162.9 Q2219.13 162.9 2215.49 159.289 Q2211.88 155.678 2211.88 149.52 Q2211.88 143.155 2215.31 139.428 Q2218.76 135.678 2224.59 135.678 Q2229.82 135.678 2232.86 139.057 Q2235.91 142.414 2235.91 148.201 M2231.65 146.951 Q2231.61 143.456 2229.68 141.372 Q2227.79 139.289 2224.64 139.289 Q2221.07 139.289 2218.92 141.303 Q2216.79 143.317 2216.47 146.974 L2231.65 146.951 Z\" fill=\"#000000\" fill-rule=\"evenodd\" fill-opacity=\"1\" /><circle clip-path=\"url(#clip270)\" cx=\"2033.27\" cy=\"196.789\" r=\"23\" fill=\"#e26f46\" fill-rule=\"evenodd\" fill-opacity=\"1\" stroke=\"#000000\" stroke-opacity=\"1\" stroke-width=\"5.12\"/>\n<path clip-path=\"url(#clip270)\" d=\"M2134.15 180.782 L2134.15 188.143 L2142.93 188.143 L2142.93 191.453 L2134.15 191.453 L2134.15 205.527 Q2134.15 208.698 2135.01 209.601 Q2135.89 210.504 2138.55 210.504 L2142.93 210.504 L2142.93 214.069 L2138.55 214.069 Q2133.62 214.069 2131.74 212.24 Q2129.87 210.388 2129.87 205.527 L2129.87 191.453 L2126.74 191.453 L2126.74 188.143 L2129.87 188.143 L2129.87 180.782 L2134.15 180.782 Z\" fill=\"#000000\" fill-rule=\"evenodd\" fill-opacity=\"1\" /><path clip-path=\"url(#clip270)\" d=\"M2163.55 192.124 Q2162.83 191.708 2161.98 191.522 Q2161.14 191.314 2160.12 191.314 Q2156.51 191.314 2154.57 193.675 Q2152.65 196.013 2152.65 200.411 L2152.65 214.069 L2148.36 214.069 L2148.36 188.143 L2152.65 188.143 L2152.65 192.171 Q2153.99 189.809 2156.14 188.675 Q2158.3 187.518 2161.37 187.518 Q2161.81 187.518 2162.35 187.587 Q2162.88 187.634 2163.53 187.749 L2163.55 192.124 Z\" fill=\"#000000\" fill-rule=\"evenodd\" fill-opacity=\"1\" /><path clip-path=\"url(#clip270)\" d=\"M2167.58 203.837 L2167.58 188.143 L2171.84 188.143 L2171.84 203.675 Q2171.84 207.356 2173.27 209.208 Q2174.71 211.036 2177.58 211.036 Q2181.03 211.036 2183.02 208.837 Q2185.03 206.638 2185.03 202.842 L2185.03 188.143 L2189.29 188.143 L2189.29 214.069 L2185.03 214.069 L2185.03 210.087 Q2183.48 212.448 2181.42 213.606 Q2179.38 214.74 2176.67 214.74 Q2172.21 214.74 2169.89 211.962 Q2167.58 209.184 2167.58 203.837 M2178.3 187.518 L2178.3 187.518 Z\" fill=\"#000000\" fill-rule=\"evenodd\" fill-opacity=\"1\" /><path clip-path=\"url(#clip270)\" d=\"M2220.24 200.041 L2220.24 202.124 L2200.66 202.124 Q2200.93 206.522 2203.3 208.837 Q2205.68 211.129 2209.92 211.129 Q2212.37 211.129 2214.66 210.527 Q2216.98 209.925 2219.24 208.721 L2219.24 212.749 Q2216.95 213.721 2214.55 214.231 Q2212.14 214.74 2209.66 214.74 Q2203.46 214.74 2199.82 211.129 Q2196.21 207.518 2196.21 201.36 Q2196.21 194.995 2199.64 191.268 Q2203.09 187.518 2208.92 187.518 Q2214.15 187.518 2217.18 190.897 Q2220.24 194.254 2220.24 200.041 M2215.98 198.791 Q2215.93 195.296 2214.01 193.212 Q2212.11 191.129 2208.97 191.129 Q2205.4 191.129 2203.25 193.143 Q2201.12 195.157 2200.8 198.814 L2215.98 198.791 Z\" fill=\"#000000\" fill-rule=\"evenodd\" fill-opacity=\"1\" /></svg>\n"
     },
     "execution_count": 9,
     "metadata": {
     },
     "output_type": "execute_result"
    }
   ],
   "source": [
    "relative_stimmen = transform(stimmen,\n",
    "    [:B, :F1] => ((a,b) -> b./a) => :CSU,\n",
    "    [:B, :F2] => ((a,b) -> b./a) => :SPD,\n",
    "    [:B, :F3] => ((a,b) -> b./a) => :AfD,\n",
    "    [:B, :F4] => ((a,b) -> b./a) => :FDP,\n",
    "    [:B, :F5] => ((a,b) -> b./a) => :Grüne,\n",
    "    [:B, :F6] => ((a,b) -> b./a) => :Linke,)\n",
    "    #x -> filter(y -> y.stadt, x) |>\n",
    "    #x -> select(x, [\"gebiet-name\",\"A\", \"B\",\"Wb\"]) |>\n",
    "    #x -> rename(x, :A=>\"Wahlberechtigte\", :B=>\"Wähler*innen\") |>\n",
    "    #x -> sort(x, :Wb)#, rev=true)gr()\n",
    "@df relative_stimmen scatter(\n",
    "    :CSU, \n",
    "    :Grüne, \n",
    "    group = :stadt)\n",
    "plot!(xlabel = \"CSU\", ylabel=\"Grüne\")"
   ]
  },
  {
   "cell_type": "markdown",
   "metadata": {
    "collapsed": false
   },
   "source": [
    "#### Ein Violinenplot für jede Partei"
   ]
  },
  {
   "cell_type": "code",
   "execution_count": 10,
   "metadata": {
    "collapsed": false
   },
   "outputs": [
    {
     "data": {
      "text/html": [
       "<table class=\"data-frame\"><thead><tr><th></th><th>gebiet-name</th><th>variable</th><th>value</th></tr><tr><th></th><th>String</th><th>String</th><th>Float64</th></tr></thead><tbody><p>390 rows × 3 columns</p><tr><th>1</th><td>Stadt Aub</td><td>CSU</td><td>0.417617</td></tr><tr><th>2</th><td>Gemeinde Bergtheim</td><td>CSU</td><td>0.367925</td></tr><tr><th>3</th><td>Gemeinde Bieberehren</td><td>CSU</td><td>0.42459</td></tr><tr><th>4</th><td>Markt Bütthard</td><td>CSU</td><td>0.441472</td></tr><tr><th>5</th><td>Stadt Eibelstadt</td><td>CSU</td><td>0.336809</td></tr><tr><th>6</th><td>Gemeinde Eisingen</td><td>CSU</td><td>0.311194</td></tr><tr><th>7</th><td>Gemeinde Erlabrunn</td><td>CSU</td><td>0.36767</td></tr><tr><th>8</th><td>Gemeinde Estenfeld</td><td>CSU</td><td>0.365312</td></tr><tr><th>9</th><td>Markt Frickenhausen a.Main</td><td>CSU</td><td>0.38848</td></tr><tr><th>10</th><td>Gemeinde Gaukönigshofen</td><td>CSU</td><td>0.469072</td></tr><tr><th>11</th><td>Markt Gelchsheim</td><td>CSU</td><td>0.414384</td></tr><tr><th>12</th><td>Gemeinde Gerbrunn</td><td>CSU</td><td>0.2657</td></tr><tr><th>13</th><td>Gemeinde Geroldshausen</td><td>CSU</td><td>0.302247</td></tr><tr><th>14</th><td>Markt Giebelstadt</td><td>CSU</td><td>0.350844</td></tr><tr><th>15</th><td>Gemeinde Greußenheim</td><td>CSU</td><td>0.368739</td></tr><tr><th>16</th><td>Gemeinde Güntersleben</td><td>CSU</td><td>0.305769</td></tr><tr><th>17</th><td>Gemeinde Hausen b. Würzburg</td><td>CSU</td><td>0.406414</td></tr><tr><th>18</th><td>Markt Helmstadt</td><td>CSU</td><td>0.417377</td></tr><tr><th>19</th><td>Gemeinde Hettstadt</td><td>CSU</td><td>0.340891</td></tr><tr><th>20</th><td>Markt Höchberg</td><td>CSU</td><td>0.299435</td></tr><tr><th>21</th><td>Gemeinde Holzkirchen</td><td>CSU</td><td>0.411765</td></tr><tr><th>22</th><td>Gemeinde Kirchheim</td><td>CSU</td><td>0.367265</td></tr><tr><th>23</th><td>Gemeinde Kist</td><td>CSU</td><td>0.319211</td></tr><tr><th>24</th><td>Gemeinde Kleinrinderfeld</td><td>CSU</td><td>0.298363</td></tr><tr><th>25</th><td>Gemeinde Kürnach</td><td>CSU</td><td>0.365246</td></tr><tr><th>26</th><td>Gemeinde Margetshöchheim</td><td>CSU</td><td>0.298983</td></tr><tr><th>27</th><td>Markt Neubrunn</td><td>CSU</td><td>0.385559</td></tr><tr><th>28</th><td>Gemeinde Altertheim</td><td>CSU</td><td>0.325735</td></tr><tr><th>29</th><td>Markt Eisenheim</td><td>CSU</td><td>0.36205</td></tr><tr><th>30</th><td>Gemeinde Oberpleichfeld</td><td>CSU</td><td>0.411533</td></tr><tr><th>&vellip;</th><td>&vellip;</td><td>&vellip;</td><td>&vellip;</td></tr></tbody></table>"
      ],
      "text/latex": [
       "\\begin{tabular}{r|ccc}\n",
       "\t& gebiet-name & variable & value\\\\\n",
       "\t\\hline\n",
       "\t& String & String & Float64\\\\\n",
       "\t\\hline\n",
       "\t1 & Stadt Aub & CSU & 0.417617 \\\\\n",
       "\t2 & Gemeinde Bergtheim & CSU & 0.367925 \\\\\n",
       "\t3 & Gemeinde Bieberehren & CSU & 0.42459 \\\\\n",
       "\t4 & Markt Bütthard & CSU & 0.441472 \\\\\n",
       "\t5 & Stadt Eibelstadt & CSU & 0.336809 \\\\\n",
       "\t6 & Gemeinde Eisingen & CSU & 0.311194 \\\\\n",
       "\t7 & Gemeinde Erlabrunn & CSU & 0.36767 \\\\\n",
       "\t8 & Gemeinde Estenfeld & CSU & 0.365312 \\\\\n",
       "\t9 & Markt Frickenhausen a.Main & CSU & 0.38848 \\\\\n",
       "\t10 & Gemeinde Gaukönigshofen & CSU & 0.469072 \\\\\n",
       "\t11 & Markt Gelchsheim & CSU & 0.414384 \\\\\n",
       "\t12 & Gemeinde Gerbrunn & CSU & 0.2657 \\\\\n",
       "\t13 & Gemeinde Geroldshausen & CSU & 0.302247 \\\\\n",
       "\t14 & Markt Giebelstadt & CSU & 0.350844 \\\\\n",
       "\t15 & Gemeinde Greußenheim & CSU & 0.368739 \\\\\n",
       "\t16 & Gemeinde Güntersleben & CSU & 0.305769 \\\\\n",
       "\t17 & Gemeinde Hausen b. Würzburg & CSU & 0.406414 \\\\\n",
       "\t18 & Markt Helmstadt & CSU & 0.417377 \\\\\n",
       "\t19 & Gemeinde Hettstadt & CSU & 0.340891 \\\\\n",
       "\t20 & Markt Höchberg & CSU & 0.299435 \\\\\n",
       "\t21 & Gemeinde Holzkirchen & CSU & 0.411765 \\\\\n",
       "\t22 & Gemeinde Kirchheim & CSU & 0.367265 \\\\\n",
       "\t23 & Gemeinde Kist & CSU & 0.319211 \\\\\n",
       "\t24 & Gemeinde Kleinrinderfeld & CSU & 0.298363 \\\\\n",
       "\t25 & Gemeinde Kürnach & CSU & 0.365246 \\\\\n",
       "\t26 & Gemeinde Margetshöchheim & CSU & 0.298983 \\\\\n",
       "\t27 & Markt Neubrunn & CSU & 0.385559 \\\\\n",
       "\t28 & Gemeinde Altertheim & CSU & 0.325735 \\\\\n",
       "\t29 & Markt Eisenheim & CSU & 0.36205 \\\\\n",
       "\t30 & Gemeinde Oberpleichfeld & CSU & 0.411533 \\\\\n",
       "\t$\\dots$ & $\\dots$ & $\\dots$ & $\\dots$ \\\\\n",
       "\\end{tabular}\n"
      ],
      "text/plain": [
       "390×3 DataFrame\n",
       "│ Row │ gebiet-name                │ variable │ value     │\n",
       "│     │ \u001b[90mString\u001b[39m                     │ \u001b[90mString\u001b[39m   │ \u001b[90mFloat64\u001b[39m   │\n",
       "├─────┼────────────────────────────┼──────────┼───────────┤\n",
       "│ 1   │ Stadt Aub                  │ CSU      │ 0.417617  │\n",
       "│ 2   │ Gemeinde Bergtheim         │ CSU      │ 0.367925  │\n",
       "│ 3   │ Gemeinde Bieberehren       │ CSU      │ 0.42459   │\n",
       "│ 4   │ Markt Bütthard             │ CSU      │ 0.441472  │\n",
       "│ 5   │ Stadt Eibelstadt           │ CSU      │ 0.336809  │\n",
       "│ 6   │ Gemeinde Eisingen          │ CSU      │ 0.311194  │\n",
       "│ 7   │ Gemeinde Erlabrunn         │ CSU      │ 0.36767   │\n",
       "│ 8   │ Gemeinde Estenfeld         │ CSU      │ 0.365312  │\n",
       "│ 9   │ Markt Frickenhausen a.Main │ CSU      │ 0.38848   │\n",
       "│ 10  │ Gemeinde Gaukönigshofen    │ CSU      │ 0.469072  │\n",
       "⋮\n",
       "│ 380 │ DÜRRBACHTAL                │ Linke    │ 0.0352304 │\n",
       "│ 381 │ GROMBÜHL                   │ Linke    │ 0.0824923 │\n",
       "│ 382 │ LINDLEINSMÜHLE             │ Linke    │ 0.0451128 │\n",
       "│ 383 │ FRAUENLAND                 │ Linke    │ 0.0496936 │\n",
       "│ 384 │ SANDERAU                   │ Linke    │ 0.0602764 │\n",
       "│ 385 │ HEIDINGSFELD               │ Linke    │ 0.0433097 │\n",
       "│ 386 │ HEUCHELHOF                 │ Linke    │ 0.0375204 │\n",
       "│ 387 │ STEINBACHTAL               │ Linke    │ 0.040595  │\n",
       "│ 388 │ VERSBACH                   │ Linke    │ 0.0373168 │\n",
       "│ 389 │ LENGFELD                   │ Linke    │ 0.0375506 │\n",
       "│ 390 │ ROTTENBAUER                │ Linke    │ 0.0310583 │"
      ]
     },
     "execution_count": 10,
     "metadata": {
     },
     "output_type": "execute_result"
    }
   ],
   "source": [
    "stimmenstack = stack(relative_stimmen, [:CSU,:SPD,:AfD,:FDP, :Grüne, :Linke])[:,[\"gebiet-name\",\"variable\",\"value\"]] |>\n",
    "    x->transform(x, :variable => (y->string.(y)) => :variable)"
   ]
  },
  {
   "cell_type": "code",
   "execution_count": 17,
   "metadata": {
    "collapsed": false
   },
   "outputs": [
    {
     "data": {
      "image/svg+xml": "<?xml version=\"1.0\" encoding=\"utf-8\"?>\n<svg xmlns=\"http://www.w3.org/2000/svg\" xmlns:xlink=\"http://www.w3.org/1999/xlink\" width=\"600\" height=\"400\" viewBox=\"0 0 2400 1600\">\n<defs>\n  <clipPath id=\"clip350\">\n    <rect x=\"0\" y=\"0\" width=\"2400\" height=\"1600\"/>\n  </clipPath>\n</defs>\n<path clip-path=\"url(#clip350)\" d=\"\nM0 1600 L2400 1600 L2400 0 L0 0  Z\n  \" fill=\"#ffffff\" fill-rule=\"evenodd\" fill-opacity=\"1\"/>\n<defs>\n  <clipPath id=\"clip351\">\n    <rect x=\"480\" y=\"0\" width=\"1681\" height=\"1600\"/>\n  </clipPath>\n</defs>\n<path clip-path=\"url(#clip350)\" d=\"\nM156.598 1486.45 L2352.76 1486.45 L2352.76 47.2441 L156.598 47.2441  Z\n  \" fill=\"#ffffff\" fill-rule=\"evenodd\" fill-opacity=\"1\"/>\n<defs>\n  <clipPath id=\"clip352\">\n    <rect x=\"156\" y=\"47\" width=\"2197\" height=\"1440\"/>\n  </clipPath>\n</defs>\n<polyline clip-path=\"url(#clip352)\" style=\"stroke:#000000; stroke-linecap:butt; stroke-linejoin:round; stroke-width:2; stroke-opacity:0.1; fill:none\" points=\"\n  361.64,1486.45 361.64,47.2441 \n  \"/>\n<polyline clip-path=\"url(#clip352)\" style=\"stroke:#000000; stroke-linecap:butt; stroke-linejoin:round; stroke-width:2; stroke-opacity:0.1; fill:none\" points=\"\n  718.855,1486.45 718.855,47.2441 \n  \"/>\n<polyline clip-path=\"url(#clip352)\" style=\"stroke:#000000; stroke-linecap:butt; stroke-linejoin:round; stroke-width:2; stroke-opacity:0.1; fill:none\" points=\"\n  1076.07,1486.45 1076.07,47.2441 \n  \"/>\n<polyline clip-path=\"url(#clip352)\" style=\"stroke:#000000; stroke-linecap:butt; stroke-linejoin:round; stroke-width:2; stroke-opacity:0.1; fill:none\" points=\"\n  1433.28,1486.45 1433.28,47.2441 \n  \"/>\n<polyline clip-path=\"url(#clip352)\" style=\"stroke:#000000; stroke-linecap:butt; stroke-linejoin:round; stroke-width:2; stroke-opacity:0.1; fill:none\" points=\"\n  1790.5,1486.45 1790.5,47.2441 \n  \"/>\n<polyline clip-path=\"url(#clip352)\" style=\"stroke:#000000; stroke-linecap:butt; stroke-linejoin:round; stroke-width:2; stroke-opacity:0.1; fill:none\" points=\"\n  2147.71,1486.45 2147.71,47.2441 \n  \"/>\n<polyline clip-path=\"url(#clip350)\" style=\"stroke:#000000; stroke-linecap:butt; stroke-linejoin:round; stroke-width:4; stroke-opacity:1; fill:none\" points=\"\n  156.598,1486.45 2352.76,1486.45 \n  \"/>\n<polyline clip-path=\"url(#clip350)\" style=\"stroke:#000000; stroke-linecap:butt; stroke-linejoin:round; stroke-width:4; stroke-opacity:1; fill:none\" points=\"\n  361.64,1486.45 361.64,1467.55 \n  \"/>\n<polyline clip-path=\"url(#clip350)\" style=\"stroke:#000000; stroke-linecap:butt; stroke-linejoin:round; stroke-width:4; stroke-opacity:1; fill:none\" points=\"\n  718.855,1486.45 718.855,1467.55 \n  \"/>\n<polyline clip-path=\"url(#clip350)\" style=\"stroke:#000000; stroke-linecap:butt; stroke-linejoin:round; stroke-width:4; stroke-opacity:1; fill:none\" points=\"\n  1076.07,1486.45 1076.07,1467.55 \n  \"/>\n<polyline clip-path=\"url(#clip350)\" style=\"stroke:#000000; stroke-linecap:butt; stroke-linejoin:round; stroke-width:4; stroke-opacity:1; fill:none\" points=\"\n  1433.28,1486.45 1433.28,1467.55 \n  \"/>\n<polyline clip-path=\"url(#clip350)\" style=\"stroke:#000000; stroke-linecap:butt; stroke-linejoin:round; stroke-width:4; stroke-opacity:1; fill:none\" points=\"\n  1790.5,1486.45 1790.5,1467.55 \n  \"/>\n<polyline clip-path=\"url(#clip350)\" style=\"stroke:#000000; stroke-linecap:butt; stroke-linejoin:round; stroke-width:4; stroke-opacity:1; fill:none\" points=\"\n  2147.71,1486.45 2147.71,1467.55 \n  \"/>\n<path clip-path=\"url(#clip350)\" d=\"M337.091 1517.17 L330.749 1534.37 L343.457 1534.37 L337.091 1517.17 M334.452 1512.56 L339.753 1512.56 L352.924 1547.12 L348.063 1547.12 L344.915 1538.25 L329.337 1538.25 L326.188 1547.12 L321.258 1547.12 L334.452 1512.56 Z\" fill=\"#000000\" fill-rule=\"evenodd\" fill-opacity=\"1\" /><path clip-path=\"url(#clip350)\" d=\"M369.221 1511.1 L369.221 1514.64 L365.147 1514.64 Q362.855 1514.64 361.952 1515.57 Q361.073 1516.5 361.073 1518.9 L361.073 1521.19 L368.086 1521.19 L368.086 1524.5 L361.073 1524.5 L361.073 1547.12 L356.79 1547.12 L356.79 1524.5 L352.716 1524.5 L352.716 1521.19 L356.79 1521.19 L356.79 1519.39 Q356.79 1515.06 358.804 1513.09 Q360.818 1511.1 365.193 1511.1 L369.221 1511.1 Z\" fill=\"#000000\" fill-rule=\"evenodd\" fill-opacity=\"1\" /><path clip-path=\"url(#clip350)\" d=\"M377.646 1516.4 L377.646 1543.28 L383.295 1543.28 Q390.447 1543.28 393.758 1540.04 Q397.091 1536.8 397.091 1529.81 Q397.091 1522.86 393.758 1519.64 Q390.447 1516.4 383.295 1516.4 L377.646 1516.4 M372.971 1512.56 L382.577 1512.56 Q392.623 1512.56 397.322 1516.75 Q402.021 1520.92 402.021 1529.81 Q402.021 1538.74 397.299 1542.93 Q392.577 1547.12 382.577 1547.12 L372.971 1547.12 L372.971 1512.56 Z\" fill=\"#000000\" fill-rule=\"evenodd\" fill-opacity=\"1\" /><path clip-path=\"url(#clip350)\" d=\"M701.17 1515.22 L701.17 1520.15 Q698.808 1517.95 696.123 1516.87 Q693.461 1515.78 690.452 1515.78 Q684.526 1515.78 681.378 1519.41 Q678.23 1523.02 678.23 1529.87 Q678.23 1536.7 681.378 1540.34 Q684.526 1543.95 690.452 1543.95 Q693.461 1543.95 696.123 1542.86 Q698.808 1541.77 701.17 1539.57 L701.17 1544.46 Q698.716 1546.12 695.961 1546.96 Q693.23 1547.79 690.174 1547.79 Q682.327 1547.79 677.813 1543 Q673.299 1538.18 673.299 1529.87 Q673.299 1521.54 677.813 1516.75 Q682.327 1511.93 690.174 1511.93 Q693.276 1511.93 696.008 1512.77 Q698.762 1513.58 701.17 1515.22 Z\" fill=\"#000000\" fill-rule=\"evenodd\" fill-opacity=\"1\" /><path clip-path=\"url(#clip350)\" d=\"M729.109 1513.69 L729.109 1518.25 Q726.447 1516.98 724.086 1516.36 Q721.725 1515.73 719.526 1515.73 Q715.706 1515.73 713.623 1517.21 Q711.563 1518.69 711.563 1521.43 Q711.563 1523.72 712.929 1524.9 Q714.318 1526.06 718.16 1526.77 L720.984 1527.35 Q726.216 1528.35 728.693 1530.87 Q731.193 1533.37 731.193 1537.58 Q731.193 1542.61 727.813 1545.2 Q724.456 1547.79 717.952 1547.79 Q715.498 1547.79 712.72 1547.24 Q709.966 1546.68 707.003 1545.59 L707.003 1540.78 Q709.85 1542.37 712.581 1543.18 Q715.313 1543.99 717.952 1543.99 Q721.956 1543.99 724.132 1542.42 Q726.308 1540.85 726.308 1537.93 Q726.308 1535.38 724.734 1533.95 Q723.183 1532.51 719.618 1531.8 L716.771 1531.24 Q711.54 1530.2 709.202 1527.98 Q706.864 1525.75 706.864 1521.8 Q706.864 1517.21 710.082 1514.57 Q713.322 1511.93 718.993 1511.93 Q721.424 1511.93 723.947 1512.37 Q726.47 1512.81 729.109 1513.69 Z\" fill=\"#000000\" fill-rule=\"evenodd\" fill-opacity=\"1\" /><path clip-path=\"url(#clip350)\" d=\"M737.952 1512.56 L742.651 1512.56 L742.651 1533.56 Q742.651 1539.11 744.665 1541.56 Q746.679 1543.99 751.192 1543.99 Q755.683 1543.99 757.697 1541.56 Q759.711 1539.11 759.711 1533.56 L759.711 1512.56 L764.41 1512.56 L764.41 1534.13 Q764.41 1540.89 761.053 1544.34 Q757.72 1547.79 751.192 1547.79 Q744.642 1547.79 741.285 1544.34 Q737.952 1540.89 737.952 1534.13 L737.952 1512.56 Z\" fill=\"#000000\" fill-rule=\"evenodd\" fill-opacity=\"1\" /><path clip-path=\"url(#clip350)\" d=\"M1033.03 1512.56 L1052.89 1512.56 L1052.89 1516.5 L1037.7 1516.5 L1037.7 1526.68 L1051.41 1526.68 L1051.41 1530.62 L1037.7 1530.62 L1037.7 1547.12 L1033.03 1547.12 L1033.03 1512.56 Z\" fill=\"#000000\" fill-rule=\"evenodd\" fill-opacity=\"1\" /><path clip-path=\"url(#clip350)\" d=\"M1064.97 1516.4 L1064.97 1543.28 L1070.62 1543.28 Q1077.77 1543.28 1081.08 1540.04 Q1084.41 1536.8 1084.41 1529.81 Q1084.41 1522.86 1081.08 1519.64 Q1077.77 1516.4 1070.62 1516.4 L1064.97 1516.4 M1060.29 1512.56 L1069.9 1512.56 Q1079.95 1512.56 1084.65 1516.75 Q1089.34 1520.92 1089.34 1529.81 Q1089.34 1538.74 1084.62 1542.93 Q1079.9 1547.12 1069.9 1547.12 L1060.29 1547.12 L1060.29 1512.56 Z\" fill=\"#000000\" fill-rule=\"evenodd\" fill-opacity=\"1\" /><path clip-path=\"url(#clip350)\" d=\"M1101.47 1516.4 L1101.47 1529.39 L1107.35 1529.39 Q1110.62 1529.39 1112.4 1527.7 Q1114.18 1526.01 1114.18 1522.88 Q1114.18 1519.78 1112.4 1518.09 Q1110.62 1516.4 1107.35 1516.4 L1101.47 1516.4 M1096.8 1512.56 L1107.35 1512.56 Q1113.16 1512.56 1116.13 1515.2 Q1119.11 1517.81 1119.11 1522.88 Q1119.11 1528 1116.13 1530.62 Q1113.16 1533.23 1107.35 1533.23 L1101.47 1533.23 L1101.47 1547.12 L1096.8 1547.12 L1096.8 1512.56 Z\" fill=\"#000000\" fill-rule=\"evenodd\" fill-opacity=\"1\" /><path clip-path=\"url(#clip350)\" d=\"M1388.69 1542.19 L1388.69 1532.91 L1381.05 1532.91 L1381.05 1529.06 L1393.32 1529.06 L1393.32 1543.9 Q1390.61 1545.82 1387.35 1546.82 Q1384.08 1547.79 1380.38 1547.79 Q1372.28 1547.79 1367.69 1543.07 Q1363.13 1538.32 1363.13 1529.87 Q1363.13 1521.4 1367.69 1516.68 Q1372.28 1511.93 1380.38 1511.93 Q1383.76 1511.93 1386.79 1512.77 Q1389.85 1513.6 1392.42 1515.22 L1392.42 1520.2 Q1389.82 1518 1386.91 1516.89 Q1383.99 1515.78 1380.77 1515.78 Q1374.43 1515.78 1371.24 1519.32 Q1368.06 1522.86 1368.06 1529.87 Q1368.06 1536.87 1371.24 1540.41 Q1374.43 1543.95 1380.77 1543.95 Q1383.25 1543.95 1385.19 1543.53 Q1387.14 1543.09 1388.69 1542.19 Z\" fill=\"#000000\" fill-rule=\"evenodd\" fill-opacity=\"1\" /><path clip-path=\"url(#clip350)\" d=\"M1416.7 1525.18 Q1415.98 1524.76 1415.12 1524.57 Q1414.29 1524.37 1413.27 1524.37 Q1409.66 1524.37 1407.72 1526.73 Q1405.8 1529.06 1405.8 1533.46 L1405.8 1547.12 L1401.51 1547.12 L1401.51 1521.19 L1405.8 1521.19 L1405.8 1525.22 Q1407.14 1522.86 1409.29 1521.73 Q1411.44 1520.57 1414.52 1520.57 Q1414.96 1520.57 1415.5 1520.64 Q1416.03 1520.68 1416.68 1520.8 L1416.7 1525.18 Z\" fill=\"#000000\" fill-rule=\"evenodd\" fill-opacity=\"1\" /><path clip-path=\"url(#clip350)\" d=\"M1420.73 1536.89 L1420.73 1521.19 L1424.99 1521.19 L1424.99 1536.73 Q1424.99 1540.41 1426.42 1542.26 Q1427.86 1544.09 1430.73 1544.09 Q1434.18 1544.09 1436.17 1541.89 Q1438.18 1539.69 1438.18 1535.89 L1438.18 1521.19 L1442.44 1521.19 L1442.44 1547.12 L1438.18 1547.12 L1438.18 1543.14 Q1436.63 1545.5 1434.57 1546.66 Q1432.53 1547.79 1429.82 1547.79 Q1425.36 1547.79 1423.04 1545.01 Q1420.73 1542.24 1420.73 1536.89 M1431.44 1520.57 L1431.44 1520.57 M1433.57 1511.19 L1438.27 1511.19 L1438.27 1515.87 L1433.57 1515.87 L1433.57 1511.19 M1424.52 1511.19 L1429.22 1511.19 L1429.22 1515.87 L1424.52 1515.87 L1424.52 1511.19 Z\" fill=\"#000000\" fill-rule=\"evenodd\" fill-opacity=\"1\" /><path clip-path=\"url(#clip350)\" d=\"M1472.76 1531.47 L1472.76 1547.12 L1468.5 1547.12 L1468.5 1531.61 Q1468.5 1527.93 1467.07 1526.1 Q1465.63 1524.27 1462.76 1524.27 Q1459.31 1524.27 1457.32 1526.47 Q1455.33 1528.67 1455.33 1532.47 L1455.33 1547.12 L1451.05 1547.12 L1451.05 1521.19 L1455.33 1521.19 L1455.33 1525.22 Q1456.86 1522.88 1458.92 1521.73 Q1461 1520.57 1463.71 1520.57 Q1468.18 1520.57 1470.47 1523.35 Q1472.76 1526.1 1472.76 1531.47 Z\" fill=\"#000000\" fill-rule=\"evenodd\" fill-opacity=\"1\" /><path clip-path=\"url(#clip350)\" d=\"M1503.43 1533.09 L1503.43 1535.18 L1483.85 1535.18 Q1484.13 1539.57 1486.49 1541.89 Q1488.87 1544.18 1493.11 1544.18 Q1495.56 1544.18 1497.86 1543.58 Q1500.17 1542.98 1502.44 1541.77 L1502.44 1545.8 Q1500.15 1546.77 1497.74 1547.28 Q1495.33 1547.79 1492.86 1547.79 Q1486.65 1547.79 1483.02 1544.18 Q1479.41 1540.57 1479.41 1534.41 Q1479.41 1528.05 1482.83 1524.32 Q1486.28 1520.57 1492.12 1520.57 Q1497.35 1520.57 1500.38 1523.95 Q1503.43 1527.31 1503.43 1533.09 M1499.18 1531.84 Q1499.13 1528.35 1497.21 1526.26 Q1495.31 1524.18 1492.16 1524.18 Q1488.6 1524.18 1486.44 1526.19 Q1484.31 1528.21 1483.99 1531.87 L1499.18 1531.84 Z\" fill=\"#000000\" fill-rule=\"evenodd\" fill-opacity=\"1\" /><path clip-path=\"url(#clip350)\" d=\"M1731.81 1512.56 L1736.48 1512.56 L1736.48 1543.18 L1753.31 1543.18 L1753.31 1547.12 L1731.81 1547.12 L1731.81 1512.56 Z\" fill=\"#000000\" fill-rule=\"evenodd\" fill-opacity=\"1\" /><path clip-path=\"url(#clip350)\" d=\"M1758.03 1521.19 L1762.29 1521.19 L1762.29 1547.12 L1758.03 1547.12 L1758.03 1521.19 M1758.03 1511.1 L1762.29 1511.1 L1762.29 1516.5 L1758.03 1516.5 L1758.03 1511.1 Z\" fill=\"#000000\" fill-rule=\"evenodd\" fill-opacity=\"1\" /><path clip-path=\"url(#clip350)\" d=\"M1792.76 1531.47 L1792.76 1547.12 L1788.5 1547.12 L1788.5 1531.61 Q1788.5 1527.93 1787.06 1526.1 Q1785.63 1524.27 1782.76 1524.27 Q1779.31 1524.27 1777.32 1526.47 Q1775.33 1528.67 1775.33 1532.47 L1775.33 1547.12 L1771.04 1547.12 L1771.04 1521.19 L1775.33 1521.19 L1775.33 1525.22 Q1776.85 1522.88 1778.91 1521.73 Q1781 1520.57 1783.71 1520.57 Q1788.17 1520.57 1790.46 1523.35 Q1792.76 1526.1 1792.76 1531.47 Z\" fill=\"#000000\" fill-rule=\"evenodd\" fill-opacity=\"1\" /><path clip-path=\"url(#clip350)\" d=\"M1801.09 1511.1 L1805.37 1511.1 L1805.37 1532.37 L1818.08 1521.19 L1823.52 1521.19 L1809.77 1533.32 L1824.1 1547.12 L1818.54 1547.12 L1805.37 1534.46 L1805.37 1547.12 L1801.09 1547.12 L1801.09 1511.1 Z\" fill=\"#000000\" fill-rule=\"evenodd\" fill-opacity=\"1\" /><path clip-path=\"url(#clip350)\" d=\"M1849.19 1533.09 L1849.19 1535.18 L1829.61 1535.18 Q1829.89 1539.57 1832.25 1541.89 Q1834.63 1544.18 1838.87 1544.18 Q1841.32 1544.18 1843.61 1543.58 Q1845.93 1542.98 1848.2 1541.77 L1848.2 1545.8 Q1845.9 1546.77 1843.5 1547.28 Q1841.09 1547.79 1838.61 1547.79 Q1832.41 1547.79 1828.77 1544.18 Q1825.16 1540.57 1825.16 1534.41 Q1825.16 1528.05 1828.59 1524.32 Q1832.04 1520.57 1837.87 1520.57 Q1843.1 1520.57 1846.14 1523.95 Q1849.19 1527.31 1849.19 1533.09 M1844.93 1531.84 Q1844.89 1528.35 1842.96 1526.26 Q1841.07 1524.18 1837.92 1524.18 Q1834.35 1524.18 1832.2 1526.19 Q1830.07 1528.21 1829.75 1531.87 L1844.93 1531.84 Z\" fill=\"#000000\" fill-rule=\"evenodd\" fill-opacity=\"1\" /><path clip-path=\"url(#clip350)\" d=\"M2125.33 1513.69 L2125.33 1518.25 Q2122.67 1516.98 2120.31 1516.36 Q2117.95 1515.73 2115.75 1515.73 Q2111.93 1515.73 2109.84 1517.21 Q2107.78 1518.69 2107.78 1521.43 Q2107.78 1523.72 2109.15 1524.9 Q2110.54 1526.06 2114.38 1526.77 L2117.21 1527.35 Q2122.44 1528.35 2124.91 1530.87 Q2127.41 1533.37 2127.41 1537.58 Q2127.41 1542.61 2124.03 1545.2 Q2120.68 1547.79 2114.17 1547.79 Q2111.72 1547.79 2108.94 1547.24 Q2106.19 1546.68 2103.22 1545.59 L2103.22 1540.78 Q2106.07 1542.37 2108.8 1543.18 Q2111.53 1543.99 2114.17 1543.99 Q2118.18 1543.99 2120.35 1542.42 Q2122.53 1540.85 2122.53 1537.93 Q2122.53 1535.38 2120.96 1533.95 Q2119.4 1532.51 2115.84 1531.8 L2112.99 1531.24 Q2107.76 1530.2 2105.42 1527.98 Q2103.09 1525.75 2103.09 1521.8 Q2103.09 1517.21 2106.3 1514.57 Q2109.54 1511.93 2115.21 1511.93 Q2117.65 1511.93 2120.17 1512.37 Q2122.69 1512.81 2125.33 1513.69 Z\" fill=\"#000000\" fill-rule=\"evenodd\" fill-opacity=\"1\" /><path clip-path=\"url(#clip350)\" d=\"M2139.38 1516.4 L2139.38 1529.39 L2145.26 1529.39 Q2148.52 1529.39 2150.31 1527.7 Q2152.09 1526.01 2152.09 1522.88 Q2152.09 1519.78 2150.31 1518.09 Q2148.52 1516.4 2145.26 1516.4 L2139.38 1516.4 M2134.71 1512.56 L2145.26 1512.56 Q2151.07 1512.56 2154.03 1515.2 Q2157.02 1517.81 2157.02 1522.88 Q2157.02 1528 2154.03 1530.62 Q2151.07 1533.23 2145.26 1533.23 L2139.38 1533.23 L2139.38 1547.12 L2134.71 1547.12 L2134.71 1512.56 Z\" fill=\"#000000\" fill-rule=\"evenodd\" fill-opacity=\"1\" /><path clip-path=\"url(#clip350)\" d=\"M2167.97 1516.4 L2167.97 1543.28 L2173.62 1543.28 Q2180.77 1543.28 2184.08 1540.04 Q2187.41 1536.8 2187.41 1529.81 Q2187.41 1522.86 2184.08 1519.64 Q2180.77 1516.4 2173.62 1516.4 L2167.97 1516.4 M2163.29 1512.56 L2172.9 1512.56 Q2182.95 1512.56 2187.64 1516.75 Q2192.34 1520.92 2192.34 1529.81 Q2192.34 1538.74 2187.62 1542.93 Q2182.9 1547.12 2172.9 1547.12 L2163.29 1547.12 L2163.29 1512.56 Z\" fill=\"#000000\" fill-rule=\"evenodd\" fill-opacity=\"1\" /><polyline clip-path=\"url(#clip352)\" style=\"stroke:#000000; stroke-linecap:butt; stroke-linejoin:round; stroke-width:2; stroke-opacity:0.1; fill:none\" points=\"\n  156.598,1474.44 2352.76,1474.44 \n  \"/>\n<polyline clip-path=\"url(#clip352)\" style=\"stroke:#000000; stroke-linecap:butt; stroke-linejoin:round; stroke-width:2; stroke-opacity:0.1; fill:none\" points=\"\n  156.598,1194.88 2352.76,1194.88 \n  \"/>\n<polyline clip-path=\"url(#clip352)\" style=\"stroke:#000000; stroke-linecap:butt; stroke-linejoin:round; stroke-width:2; stroke-opacity:0.1; fill:none\" points=\"\n  156.598,915.322 2352.76,915.322 \n  \"/>\n<polyline clip-path=\"url(#clip352)\" style=\"stroke:#000000; stroke-linecap:butt; stroke-linejoin:round; stroke-width:2; stroke-opacity:0.1; fill:none\" points=\"\n  156.598,635.764 2352.76,635.764 \n  \"/>\n<polyline clip-path=\"url(#clip352)\" style=\"stroke:#000000; stroke-linecap:butt; stroke-linejoin:round; stroke-width:2; stroke-opacity:0.1; fill:none\" points=\"\n  156.598,356.207 2352.76,356.207 \n  \"/>\n<polyline clip-path=\"url(#clip352)\" style=\"stroke:#000000; stroke-linecap:butt; stroke-linejoin:round; stroke-width:2; stroke-opacity:0.1; fill:none\" points=\"\n  156.598,76.649 2352.76,76.649 \n  \"/>\n<polyline clip-path=\"url(#clip350)\" style=\"stroke:#000000; stroke-linecap:butt; stroke-linejoin:round; stroke-width:4; stroke-opacity:1; fill:none\" points=\"\n  156.598,1486.45 156.598,47.2441 \n  \"/>\n<polyline clip-path=\"url(#clip350)\" style=\"stroke:#000000; stroke-linecap:butt; stroke-linejoin:round; stroke-width:4; stroke-opacity:1; fill:none\" points=\"\n  156.598,1474.44 175.496,1474.44 \n  \"/>\n<polyline clip-path=\"url(#clip350)\" style=\"stroke:#000000; stroke-linecap:butt; stroke-linejoin:round; stroke-width:4; stroke-opacity:1; fill:none\" points=\"\n  156.598,1194.88 175.496,1194.88 \n  \"/>\n<polyline clip-path=\"url(#clip350)\" style=\"stroke:#000000; stroke-linecap:butt; stroke-linejoin:round; stroke-width:4; stroke-opacity:1; fill:none\" points=\"\n  156.598,915.322 175.496,915.322 \n  \"/>\n<polyline clip-path=\"url(#clip350)\" style=\"stroke:#000000; stroke-linecap:butt; stroke-linejoin:round; stroke-width:4; stroke-opacity:1; fill:none\" points=\"\n  156.598,635.764 175.496,635.764 \n  \"/>\n<polyline clip-path=\"url(#clip350)\" style=\"stroke:#000000; stroke-linecap:butt; stroke-linejoin:round; stroke-width:4; stroke-opacity:1; fill:none\" points=\"\n  156.598,356.207 175.496,356.207 \n  \"/>\n<polyline clip-path=\"url(#clip350)\" style=\"stroke:#000000; stroke-linecap:butt; stroke-linejoin:round; stroke-width:4; stroke-opacity:1; fill:none\" points=\"\n  156.598,76.649 175.496,76.649 \n  \"/>\n<path clip-path=\"url(#clip350)\" d=\"M63.4226 1460.24 Q59.8115 1460.24 57.9828 1463.8 Q56.1773 1467.34 56.1773 1474.47 Q56.1773 1481.58 57.9828 1485.14 Q59.8115 1488.68 63.4226 1488.68 Q67.0569 1488.68 68.8624 1485.14 Q70.6911 1481.58 70.6911 1474.47 Q70.6911 1467.34 68.8624 1463.8 Q67.0569 1460.24 63.4226 1460.24 M63.4226 1456.53 Q69.2328 1456.53 72.2883 1461.14 Q75.367 1465.72 75.367 1474.47 Q75.367 1483.2 72.2883 1487.81 Q69.2328 1492.39 63.4226 1492.39 Q57.6125 1492.39 54.5338 1487.81 Q51.4782 1483.2 51.4782 1474.47 Q51.4782 1465.72 54.5338 1461.14 Q57.6125 1456.53 63.4226 1456.53 Z\" fill=\"#000000\" fill-rule=\"evenodd\" fill-opacity=\"1\" /><path clip-path=\"url(#clip350)\" d=\"M83.5845 1485.84 L88.4688 1485.84 L88.4688 1491.72 L83.5845 1491.72 L83.5845 1485.84 Z\" fill=\"#000000\" fill-rule=\"evenodd\" fill-opacity=\"1\" /><path clip-path=\"url(#clip350)\" d=\"M108.654 1460.24 Q105.043 1460.24 103.214 1463.8 Q101.409 1467.34 101.409 1474.47 Q101.409 1481.58 103.214 1485.14 Q105.043 1488.68 108.654 1488.68 Q112.288 1488.68 114.094 1485.14 Q115.922 1481.58 115.922 1474.47 Q115.922 1467.34 114.094 1463.8 Q112.288 1460.24 108.654 1460.24 M108.654 1456.53 Q114.464 1456.53 117.52 1461.14 Q120.598 1465.72 120.598 1474.47 Q120.598 1483.2 117.52 1487.81 Q114.464 1492.39 108.654 1492.39 Q102.844 1492.39 99.765 1487.81 Q96.7095 1483.2 96.7095 1474.47 Q96.7095 1465.72 99.765 1461.14 Q102.844 1456.53 108.654 1456.53 Z\" fill=\"#000000\" fill-rule=\"evenodd\" fill-opacity=\"1\" /><path clip-path=\"url(#clip350)\" d=\"M64.6495 1180.68 Q61.0384 1180.68 59.2097 1184.24 Q57.4041 1187.78 57.4041 1194.91 Q57.4041 1202.02 59.2097 1205.59 Q61.0384 1209.13 64.6495 1209.13 Q68.2837 1209.13 70.0892 1205.59 Q71.9179 1202.02 71.9179 1194.91 Q71.9179 1187.78 70.0892 1184.24 Q68.2837 1180.68 64.6495 1180.68 M64.6495 1176.97 Q70.4596 1176.97 73.5152 1181.58 Q76.5938 1186.16 76.5938 1194.91 Q76.5938 1203.64 73.5152 1208.25 Q70.4596 1212.83 64.6495 1212.83 Q58.8393 1212.83 55.7606 1208.25 Q52.7051 1203.64 52.7051 1194.91 Q52.7051 1186.16 55.7606 1181.58 Q58.8393 1176.97 64.6495 1176.97 Z\" fill=\"#000000\" fill-rule=\"evenodd\" fill-opacity=\"1\" /><path clip-path=\"url(#clip350)\" d=\"M84.8114 1206.28 L89.6956 1206.28 L89.6956 1212.16 L84.8114 1212.16 L84.8114 1206.28 Z\" fill=\"#000000\" fill-rule=\"evenodd\" fill-opacity=\"1\" /><path clip-path=\"url(#clip350)\" d=\"M100.691 1208.22 L108.33 1208.22 L108.33 1181.86 L100.02 1183.53 L100.02 1179.27 L108.283 1177.6 L112.959 1177.6 L112.959 1208.22 L120.598 1208.22 L120.598 1212.16 L100.691 1212.16 L100.691 1208.22 Z\" fill=\"#000000\" fill-rule=\"evenodd\" fill-opacity=\"1\" /><path clip-path=\"url(#clip350)\" d=\"M65.0198 901.121 Q61.4087 901.121 59.58 904.685 Q57.7745 908.227 57.7745 915.357 Q57.7745 922.463 59.58 926.028 Q61.4087 929.57 65.0198 929.57 Q68.6541 929.57 70.4596 926.028 Q72.2883 922.463 72.2883 915.357 Q72.2883 908.227 70.4596 904.685 Q68.6541 901.121 65.0198 901.121 M65.0198 897.417 Q70.83 897.417 73.8855 902.023 Q76.9642 906.607 76.9642 915.357 Q76.9642 924.084 73.8855 928.69 Q70.83 933.273 65.0198 933.273 Q59.2097 933.273 56.131 928.69 Q53.0754 924.084 53.0754 915.357 Q53.0754 906.607 56.131 902.023 Q59.2097 897.417 65.0198 897.417 Z\" fill=\"#000000\" fill-rule=\"evenodd\" fill-opacity=\"1\" /><path clip-path=\"url(#clip350)\" d=\"M85.1818 926.722 L90.066 926.722 L90.066 932.602 L85.1818 932.602 L85.1818 926.722 Z\" fill=\"#000000\" fill-rule=\"evenodd\" fill-opacity=\"1\" /><path clip-path=\"url(#clip350)\" d=\"M104.279 928.667 L120.598 928.667 L120.598 932.602 L98.6539 932.602 L98.6539 928.667 Q101.316 925.912 105.899 921.283 Q110.506 916.63 111.686 915.287 Q113.932 912.764 114.811 911.028 Q115.714 909.269 115.714 907.579 Q115.714 904.824 113.77 903.088 Q111.848 901.352 108.746 901.352 Q106.547 901.352 104.094 902.116 Q101.663 902.88 98.8854 904.431 L98.8854 899.709 Q101.709 898.574 104.163 897.996 Q106.617 897.417 108.654 897.417 Q114.024 897.417 117.219 900.102 Q120.413 902.787 120.413 907.278 Q120.413 909.408 119.603 911.329 Q118.816 913.227 116.709 915.82 Q116.131 916.491 113.029 919.709 Q109.927 922.903 104.279 928.667 Z\" fill=\"#000000\" fill-rule=\"evenodd\" fill-opacity=\"1\" /><path clip-path=\"url(#clip350)\" d=\"M64.0708 621.563 Q60.4597 621.563 58.631 625.128 Q56.8254 628.669 56.8254 635.799 Q56.8254 642.906 58.631 646.47 Q60.4597 650.012 64.0708 650.012 Q67.705 650.012 69.5105 646.47 Q71.3392 642.906 71.3392 635.799 Q71.3392 628.669 69.5105 625.128 Q67.705 621.563 64.0708 621.563 M64.0708 617.859 Q69.8809 617.859 72.9365 622.466 Q76.0151 627.049 76.0151 635.799 Q76.0151 644.526 72.9365 649.132 Q69.8809 653.716 64.0708 653.716 Q58.2606 653.716 55.1819 649.132 Q52.1264 644.526 52.1264 635.799 Q52.1264 627.049 55.1819 622.466 Q58.2606 617.859 64.0708 617.859 Z\" fill=\"#000000\" fill-rule=\"evenodd\" fill-opacity=\"1\" /><path clip-path=\"url(#clip350)\" d=\"M84.2327 647.165 L89.1169 647.165 L89.1169 653.044 L84.2327 653.044 L84.2327 647.165 Z\" fill=\"#000000\" fill-rule=\"evenodd\" fill-opacity=\"1\" /><path clip-path=\"url(#clip350)\" d=\"M113.469 634.41 Q116.825 635.128 118.7 637.396 Q120.598 639.665 120.598 642.998 Q120.598 648.114 117.08 650.915 Q113.561 653.716 107.08 653.716 Q104.904 653.716 102.589 653.276 Q100.297 652.859 97.8437 652.003 L97.8437 647.489 Q99.7882 648.623 102.103 649.202 Q104.418 649.78 106.941 649.78 Q111.339 649.78 113.631 648.044 Q115.945 646.308 115.945 642.998 Q115.945 639.943 113.793 638.23 Q111.663 636.493 107.844 636.493 L103.816 636.493 L103.816 632.651 L108.029 632.651 Q111.478 632.651 113.307 631.285 Q115.135 629.896 115.135 627.304 Q115.135 624.642 113.237 623.23 Q111.362 621.795 107.844 621.795 Q105.922 621.795 103.723 622.211 Q101.524 622.628 98.8854 623.507 L98.8854 619.341 Q101.547 618.6 103.862 618.23 Q106.2 617.859 108.26 617.859 Q113.584 617.859 116.686 620.29 Q119.788 622.697 119.788 626.818 Q119.788 629.688 118.145 631.679 Q116.501 633.646 113.469 634.41 Z\" fill=\"#000000\" fill-rule=\"evenodd\" fill-opacity=\"1\" /><path clip-path=\"url(#clip350)\" d=\"M62.9365 342.005 Q59.3254 342.005 57.4967 345.57 Q55.6912 349.112 55.6912 356.241 Q55.6912 363.348 57.4967 366.913 Q59.3254 370.454 62.9365 370.454 Q66.5707 370.454 68.3763 366.913 Q70.205 363.348 70.205 356.241 Q70.205 349.112 68.3763 345.57 Q66.5707 342.005 62.9365 342.005 M62.9365 338.302 Q68.7467 338.302 71.8022 342.908 Q74.8809 347.491 74.8809 356.241 Q74.8809 364.968 71.8022 369.575 Q68.7467 374.158 62.9365 374.158 Q57.1264 374.158 54.0477 369.575 Q50.9921 364.968 50.9921 356.241 Q50.9921 347.491 54.0477 342.908 Q57.1264 338.302 62.9365 338.302 Z\" fill=\"#000000\" fill-rule=\"evenodd\" fill-opacity=\"1\" /><path clip-path=\"url(#clip350)\" d=\"M83.0984 367.607 L87.9827 367.607 L87.9827 373.487 L83.0984 373.487 L83.0984 367.607 Z\" fill=\"#000000\" fill-rule=\"evenodd\" fill-opacity=\"1\" /><path clip-path=\"url(#clip350)\" d=\"M111.015 343.001 L99.2095 361.45 L111.015 361.45 L111.015 343.001 M109.788 338.927 L115.668 338.927 L115.668 361.45 L120.598 361.45 L120.598 365.339 L115.668 365.339 L115.668 373.487 L111.015 373.487 L111.015 365.339 L95.4132 365.339 L95.4132 360.825 L109.788 338.927 Z\" fill=\"#000000\" fill-rule=\"evenodd\" fill-opacity=\"1\" /><path clip-path=\"url(#clip350)\" d=\"M64.418 62.4477 Q60.8069 62.4477 58.9782 66.0125 Q57.1726 69.5541 57.1726 76.6837 Q57.1726 83.7901 58.9782 87.3549 Q60.8069 90.8966 64.418 90.8966 Q68.0522 90.8966 69.8578 87.3549 Q71.6865 83.7901 71.6865 76.6837 Q71.6865 69.5541 69.8578 66.0125 Q68.0522 62.4477 64.418 62.4477 M64.418 58.744 Q70.2281 58.744 73.2837 63.3504 Q76.3624 67.9337 76.3624 76.6837 Q76.3624 85.4105 73.2837 90.017 Q70.2281 94.6003 64.418 94.6003 Q58.6078 94.6003 55.5291 90.017 Q52.4736 85.4105 52.4736 76.6837 Q52.4736 67.9337 55.5291 63.3504 Q58.6078 58.744 64.418 58.744 Z\" fill=\"#000000\" fill-rule=\"evenodd\" fill-opacity=\"1\" /><path clip-path=\"url(#clip350)\" d=\"M84.5799 88.0494 L89.4641 88.0494 L89.4641 93.929 L84.5799 93.929 L84.5799 88.0494 Z\" fill=\"#000000\" fill-rule=\"evenodd\" fill-opacity=\"1\" /><path clip-path=\"url(#clip350)\" d=\"M99.6956 59.369 L118.052 59.369 L118.052 63.3041 L103.978 63.3041 L103.978 71.7763 Q104.996 71.4291 106.015 71.2671 Q107.033 71.0819 108.052 71.0819 Q113.839 71.0819 117.219 74.2532 Q120.598 77.4244 120.598 82.8411 Q120.598 88.4198 117.126 91.5216 Q113.654 94.6003 107.334 94.6003 Q105.159 94.6003 102.89 94.2299 Q100.645 93.8595 98.2372 93.1188 L98.2372 88.4198 Q100.321 89.554 102.543 90.1096 Q104.765 90.6651 107.242 90.6651 Q111.246 90.6651 113.584 88.5586 Q115.922 86.4522 115.922 82.8411 Q115.922 79.23 113.584 77.1235 Q111.246 75.017 107.242 75.017 Q105.367 75.017 103.492 75.4337 Q101.64 75.8504 99.6956 76.73 L99.6956 59.369 Z\" fill=\"#000000\" fill-rule=\"evenodd\" fill-opacity=\"1\" /><path clip-path=\"url(#clip352)\" d=\"\nM450.053 1369.69 L454.428 1364.9 L458.77 1360.11 L463.055 1355.32 L467.259 1350.53 L471.356 1345.73 L475.32 1340.94 L479.127 1336.15 L482.751 1331.36 L486.168 1326.57 \n  L489.354 1321.78 L492.287 1316.99 L494.945 1312.2 L497.31 1307.41 L499.364 1302.62 L501.092 1297.83 L502.481 1293.04 L503.521 1288.25 L504.204 1283.46 L504.526 1278.66 \n  L504.484 1273.87 L504.08 1269.08 L503.319 1264.29 L502.207 1259.5 L500.753 1254.71 L498.972 1249.92 L496.876 1245.13 L494.485 1240.34 L491.817 1235.55 L488.893 1230.76 \n  L485.737 1225.97 L482.373 1221.18 L478.824 1216.39 L475.118 1211.59 L471.279 1206.8 L467.335 1202.01 L463.309 1197.22 L459.228 1192.43 L455.116 1187.64 L450.996 1182.85 \n  L446.889 1178.06 L442.816 1173.27 L438.796 1168.48 L434.846 1163.69 L430.981 1158.9 L427.215 1154.11 L423.558 1149.32 L420.022 1144.52 L416.613 1139.73 L413.337 1134.94 \n  L410.2 1130.15 L407.204 1125.36 L404.349 1120.57 L401.637 1115.78 L399.067 1110.99 L396.634 1106.2 L394.338 1101.41 L392.173 1096.62 L390.136 1091.83 L388.221 1087.04 \n  L386.423 1082.25 L384.736 1077.46 L383.154 1072.66 L381.672 1067.87 L380.283 1063.08 L378.983 1058.29 L344.296 1058.29 L342.996 1063.08 L341.608 1067.87 L340.125 1072.66 \n  L338.544 1077.46 L336.857 1082.25 L335.058 1087.04 L333.143 1091.83 L331.106 1096.62 L328.941 1101.41 L326.645 1106.2 L324.213 1110.99 L321.642 1115.78 L318.93 1120.57 \n  L316.076 1125.36 L313.079 1130.15 L309.942 1134.94 L306.666 1139.73 L303.257 1144.52 L299.721 1149.32 L296.065 1154.11 L292.298 1158.9 L288.433 1163.69 L284.483 1168.48 \n  L280.463 1173.27 L276.39 1178.06 L272.284 1182.85 L268.163 1187.64 L264.051 1192.43 L259.97 1197.22 L255.945 1202.01 L252 1206.8 L248.161 1211.59 L244.455 1216.39 \n  L240.907 1221.18 L237.542 1225.97 L234.386 1230.76 L231.462 1235.55 L228.794 1240.34 L226.403 1245.13 L224.308 1249.92 L222.526 1254.71 L221.073 1259.5 L219.96 1264.29 \n  L219.199 1269.08 L218.795 1273.87 L218.754 1278.66 L219.075 1283.46 L219.758 1288.25 L220.798 1293.04 L222.187 1297.83 L223.915 1302.62 L225.969 1307.41 L228.334 1312.2 \n  L230.993 1316.99 L233.925 1321.78 L237.112 1326.57 L240.528 1331.36 L244.153 1336.15 L247.959 1340.94 L251.924 1345.73 L256.02 1350.53 L260.224 1355.32 L264.509 1360.11 \n  L268.851 1364.9 L273.226 1369.69 L450.053 1369.69  Z\n  \" fill=\"#009af9\" fill-rule=\"evenodd\" fill-opacity=\"1\"/>\n<polyline clip-path=\"url(#clip352)\" style=\"stroke:#000000; stroke-linecap:butt; stroke-linejoin:round; stroke-width:4; stroke-opacity:1; fill:none\" points=\"\n  450.053,1369.69 454.428,1364.9 458.77,1360.11 463.055,1355.32 467.259,1350.53 471.356,1345.73 475.32,1340.94 479.127,1336.15 482.751,1331.36 486.168,1326.57 \n  489.354,1321.78 492.287,1316.99 494.945,1312.2 497.31,1307.41 499.364,1302.62 501.092,1297.83 502.481,1293.04 503.521,1288.25 504.204,1283.46 504.526,1278.66 \n  504.484,1273.87 504.08,1269.08 503.319,1264.29 502.207,1259.5 500.753,1254.71 498.972,1249.92 496.876,1245.13 494.485,1240.34 491.817,1235.55 488.893,1230.76 \n  485.737,1225.97 482.373,1221.18 478.824,1216.39 475.118,1211.59 471.279,1206.8 467.335,1202.01 463.309,1197.22 459.228,1192.43 455.116,1187.64 450.996,1182.85 \n  446.889,1178.06 442.816,1173.27 438.796,1168.48 434.846,1163.69 430.981,1158.9 427.215,1154.11 423.558,1149.32 420.022,1144.52 416.613,1139.73 413.337,1134.94 \n  410.2,1130.15 407.204,1125.36 404.349,1120.57 401.637,1115.78 399.067,1110.99 396.634,1106.2 394.338,1101.41 392.173,1096.62 390.136,1091.83 388.221,1087.04 \n  386.423,1082.25 384.736,1077.46 383.154,1072.66 381.672,1067.87 380.283,1063.08 378.983,1058.29 344.296,1058.29 342.996,1063.08 341.608,1067.87 340.125,1072.66 \n  338.544,1077.46 336.857,1082.25 335.058,1087.04 333.143,1091.83 331.106,1096.62 328.941,1101.41 326.645,1106.2 324.213,1110.99 321.642,1115.78 318.93,1120.57 \n  316.076,1125.36 313.079,1130.15 309.942,1134.94 306.666,1139.73 303.257,1144.52 299.721,1149.32 296.065,1154.11 292.298,1158.9 288.433,1163.69 284.483,1168.48 \n  280.463,1173.27 276.39,1178.06 272.284,1182.85 268.163,1187.64 264.051,1192.43 259.97,1197.22 255.945,1202.01 252,1206.8 248.161,1211.59 244.455,1216.39 \n  240.907,1221.18 237.542,1225.97 234.386,1230.76 231.462,1235.55 228.794,1240.34 226.403,1245.13 224.308,1249.92 222.526,1254.71 221.073,1259.5 219.96,1264.29 \n  219.199,1269.08 218.795,1273.87 218.754,1278.66 219.075,1283.46 219.758,1288.25 220.798,1293.04 222.187,1297.83 223.915,1302.62 225.969,1307.41 228.334,1312.2 \n  230.993,1316.99 233.925,1321.78 237.112,1326.57 240.528,1331.36 244.153,1336.15 247.959,1340.94 251.924,1345.73 256.02,1350.53 260.224,1355.32 264.509,1360.11 \n  268.851,1364.9 273.226,1369.69 450.053,1369.69 \n  \"/>\n<path clip-path=\"url(#clip352)\" d=\"\nM732.261 1018.16 L733.028 1010.27 L733.748 1002.37 L734.412 994.479 L735.01 986.586 L735.538 978.693 L735.99 970.8 L736.363 962.908 L736.659 955.015 L736.878 947.122 \n  L737.025 939.229 L737.108 931.336 L737.137 923.443 L737.123 915.55 L737.082 907.657 L737.031 899.764 L736.99 891.871 L736.981 883.978 L737.027 876.085 L737.155 868.192 \n  L737.394 860.299 L737.772 852.406 L738.322 844.513 L739.077 836.62 L740.071 828.727 L741.34 820.834 L742.917 812.941 L744.837 805.048 L747.131 797.155 L749.83 789.262 \n  L752.955 781.369 L756.527 773.476 L760.554 765.583 L765.038 757.69 L769.968 749.797 L775.323 741.905 L781.066 734.012 L787.15 726.119 L793.51 718.226 L800.073 710.333 \n  L806.752 702.44 L813.449 694.547 L820.063 686.654 L826.488 678.761 L832.616 670.868 L838.347 662.975 L843.586 655.082 L848.25 647.189 L852.273 639.296 L855.605 631.403 \n  L858.216 623.51 L860.097 615.617 L861.261 607.724 L861.741 599.831 L861.586 591.938 L860.865 584.045 L859.656 576.152 L858.047 568.259 L856.13 560.366 L853.997 552.473 \n  L851.738 544.58 L849.433 536.687 L847.153 528.795 L844.958 520.902 L842.89 513.009 L840.981 505.116 L839.245 497.223 L837.683 489.33 L836.284 481.437 L835.029 473.544 \n  L833.888 465.651 L832.829 457.758 L831.815 449.865 L830.811 441.972 L829.782 434.079 L828.698 426.186 L827.532 418.293 L826.264 410.4 L824.877 402.507 L823.361 394.614 \n  L821.71 386.721 L819.922 378.828 L817.997 370.935 L815.938 363.042 L813.748 355.149 L811.433 347.256 L808.996 339.363 L806.443 331.47 L803.778 323.577 L801.007 315.684 \n  L798.135 307.792 L795.169 299.899 L792.118 292.006 L788.993 284.113 L785.805 276.22 L782.571 268.327 L779.308 260.434 L776.034 252.541 L772.77 244.648 L769.537 236.755 \n  L766.358 228.862 L763.252 220.969 L760.239 213.076 L757.337 205.183 L754.562 197.29 L751.925 189.397 L749.434 181.504 L747.096 173.611 L744.913 165.718 L742.883 157.825 \n  L741.002 149.932 L739.264 142.039 L737.66 134.146 L736.182 126.253 L734.817 118.36 L733.554 110.467 L732.384 102.574 L731.296 94.6815 L706.413 94.6815 L705.325 102.574 \n  L704.155 110.467 L702.893 118.36 L701.528 126.253 L700.049 134.146 L698.445 142.039 L696.707 149.932 L694.826 157.825 L692.796 165.718 L690.613 173.611 L688.275 181.504 \n  L685.785 189.397 L683.147 197.29 L680.372 205.183 L677.47 213.076 L674.458 220.969 L671.352 228.862 L668.172 236.755 L664.939 244.648 L661.675 252.541 L658.401 260.434 \n  L655.138 268.327 L651.904 276.22 L648.717 284.113 L645.591 292.006 L642.54 299.899 L639.574 307.792 L636.702 315.684 L633.931 323.577 L631.266 331.47 L628.713 339.363 \n  L626.276 347.256 L623.961 355.149 L621.772 363.042 L619.713 370.935 L617.788 378.828 L615.999 386.721 L614.348 394.614 L612.832 402.507 L611.446 410.4 L610.177 418.293 \n  L609.011 426.186 L607.927 434.079 L606.898 441.972 L605.894 449.865 L604.88 457.758 L603.821 465.651 L602.68 473.544 L601.425 481.437 L600.027 489.33 L598.465 497.223 \n  L596.728 505.116 L594.819 513.009 L592.752 520.902 L590.556 528.795 L588.277 536.687 L585.971 544.58 L583.712 552.473 L581.579 560.366 L579.662 568.259 L578.053 576.152 \n  L576.844 584.045 L576.123 591.938 L575.969 599.831 L576.448 607.724 L577.612 615.617 L579.494 623.51 L582.104 631.403 L585.436 639.296 L589.459 647.189 L594.123 655.082 \n  L599.362 662.975 L605.093 670.868 L611.221 678.761 L617.646 686.654 L624.26 694.547 L630.958 702.44 L637.636 710.333 L644.199 718.226 L650.56 726.119 L656.643 734.012 \n  L662.386 741.905 L667.741 749.797 L672.671 757.69 L677.155 765.583 L681.183 773.476 L684.754 781.369 L687.88 789.262 L690.578 797.155 L692.872 805.048 L694.792 812.941 \n  L696.369 820.834 L697.638 828.727 L698.632 836.62 L699.387 844.513 L699.937 852.406 L700.316 860.299 L700.554 868.192 L700.682 876.085 L700.728 883.978 L700.719 891.871 \n  L700.678 899.764 L700.627 907.657 L700.586 915.55 L700.572 923.443 L700.601 931.336 L700.684 939.229 L700.831 947.122 L701.05 955.015 L701.346 962.908 L701.72 970.8 \n  L702.172 978.693 L702.699 986.586 L703.298 994.479 L703.961 1002.37 L704.681 1010.27 L705.449 1018.16 L732.261 1018.16  Z\n  \" fill=\"#009af9\" fill-rule=\"evenodd\" fill-opacity=\"1\"/>\n<polyline clip-path=\"url(#clip352)\" style=\"stroke:#000000; stroke-linecap:butt; stroke-linejoin:round; stroke-width:4; stroke-opacity:1; fill:none\" points=\"\n  732.261,1018.16 733.028,1010.27 733.748,1002.37 734.412,994.479 735.01,986.586 735.538,978.693 735.99,970.8 736.363,962.908 736.659,955.015 736.878,947.122 \n  737.025,939.229 737.108,931.336 737.137,923.443 737.123,915.55 737.082,907.657 737.031,899.764 736.99,891.871 736.981,883.978 737.027,876.085 737.155,868.192 \n  737.394,860.299 737.772,852.406 738.322,844.513 739.077,836.62 740.071,828.727 741.34,820.834 742.917,812.941 744.837,805.048 747.131,797.155 749.83,789.262 \n  752.955,781.369 756.527,773.476 760.554,765.583 765.038,757.69 769.968,749.797 775.323,741.905 781.066,734.012 787.15,726.119 793.51,718.226 800.073,710.333 \n  806.752,702.44 813.449,694.547 820.063,686.654 826.488,678.761 832.616,670.868 838.347,662.975 843.586,655.082 848.25,647.189 852.273,639.296 855.605,631.403 \n  858.216,623.51 860.097,615.617 861.261,607.724 861.741,599.831 861.586,591.938 860.865,584.045 859.656,576.152 858.047,568.259 856.13,560.366 853.997,552.473 \n  851.738,544.58 849.433,536.687 847.153,528.795 844.958,520.902 842.89,513.009 840.981,505.116 839.245,497.223 837.683,489.33 836.284,481.437 835.029,473.544 \n  833.888,465.651 832.829,457.758 831.815,449.865 830.811,441.972 829.782,434.079 828.698,426.186 827.532,418.293 826.264,410.4 824.877,402.507 823.361,394.614 \n  821.71,386.721 819.922,378.828 817.997,370.935 815.938,363.042 813.748,355.149 811.433,347.256 808.996,339.363 806.443,331.47 803.778,323.577 801.007,315.684 \n  798.135,307.792 795.169,299.899 792.118,292.006 788.993,284.113 785.805,276.22 782.571,268.327 779.308,260.434 776.034,252.541 772.77,244.648 769.537,236.755 \n  766.358,228.862 763.252,220.969 760.239,213.076 757.337,205.183 754.562,197.29 751.925,189.397 749.434,181.504 747.096,173.611 744.913,165.718 742.883,157.825 \n  741.002,149.932 739.264,142.039 737.66,134.146 736.182,126.253 734.817,118.36 733.554,110.467 732.384,102.574 731.296,94.6815 706.413,94.6815 705.325,102.574 \n  704.155,110.467 702.893,118.36 701.528,126.253 700.049,134.146 698.445,142.039 696.707,149.932 694.826,157.825 692.796,165.718 690.613,173.611 688.275,181.504 \n  685.785,189.397 683.147,197.29 680.372,205.183 677.47,213.076 674.458,220.969 671.352,228.862 668.172,236.755 664.939,244.648 661.675,252.541 658.401,260.434 \n  655.138,268.327 651.904,276.22 648.717,284.113 645.591,292.006 642.54,299.899 639.574,307.792 636.702,315.684 633.931,323.577 631.266,331.47 628.713,339.363 \n  626.276,347.256 623.961,355.149 621.772,363.042 619.713,370.935 617.788,378.828 615.999,386.721 614.348,394.614 612.832,402.507 611.446,410.4 610.177,418.293 \n  609.011,426.186 607.927,434.079 606.898,441.972 605.894,449.865 604.88,457.758 603.821,465.651 602.68,473.544 601.425,481.437 600.027,489.33 598.465,497.223 \n  596.728,505.116 594.819,513.009 592.752,520.902 590.556,528.795 588.277,536.687 585.971,544.58 583.712,552.473 581.579,560.366 579.662,568.259 578.053,576.152 \n  576.844,584.045 576.123,591.938 575.969,599.831 576.448,607.724 577.612,615.617 579.494,623.51 582.104,631.403 585.436,639.296 589.459,647.189 594.123,655.082 \n  599.362,662.975 605.093,670.868 611.221,678.761 617.646,686.654 624.26,694.547 630.958,702.44 637.636,710.333 644.199,718.226 650.56,726.119 656.643,734.012 \n  662.386,741.905 667.741,749.797 672.671,757.69 677.155,765.583 681.183,773.476 684.754,781.369 687.88,789.262 690.578,797.155 692.872,805.048 694.792,812.941 \n  696.369,820.834 697.638,828.727 698.632,836.62 699.387,844.513 699.937,852.406 700.316,860.299 700.554,868.192 700.682,876.085 700.728,883.978 700.719,891.871 \n  700.678,899.764 700.627,907.657 700.586,915.55 700.572,923.443 700.601,931.336 700.684,939.229 700.831,947.122 701.05,955.015 701.346,962.908 701.72,970.8 \n  702.172,978.693 702.699,986.586 703.298,994.479 703.961,1002.37 704.681,1010.27 705.449,1018.16 732.261,1018.16 \n  \"/>\n<path clip-path=\"url(#clip352)\" d=\"\nM1150.75 1298.88 L1155.24 1294.17 L1159.77 1289.47 L1164.32 1284.77 L1168.87 1280.07 L1173.39 1275.36 L1177.85 1270.66 L1182.23 1265.96 L1186.49 1261.25 L1190.61 1256.55 \n  L1194.55 1251.85 L1198.29 1247.14 L1201.8 1242.44 L1205.05 1237.74 L1208.01 1233.04 L1210.66 1228.33 L1212.98 1223.63 L1214.94 1218.93 L1216.54 1214.22 L1217.74 1209.52 \n  L1218.55 1204.82 L1218.96 1200.12 L1218.95 1195.41 L1218.53 1190.71 L1217.7 1186.01 L1216.47 1181.3 L1214.85 1176.6 L1212.85 1171.9 L1210.48 1167.2 L1207.77 1162.49 \n  L1204.74 1157.79 L1201.41 1153.09 L1197.8 1148.38 L1193.96 1143.68 L1189.9 1138.98 L1185.66 1134.27 L1181.28 1129.57 L1176.77 1124.87 L1172.18 1120.17 L1167.53 1115.46 \n  L1162.85 1110.76 L1158.18 1106.06 L1153.54 1101.35 L1148.95 1096.65 L1144.45 1091.95 L1140.04 1087.25 L1135.76 1082.54 L1131.61 1077.84 L1127.62 1073.14 L1123.79 1068.43 \n  L1120.13 1063.73 L1116.66 1059.03 L1113.37 1054.33 L1110.27 1049.62 L1107.36 1044.92 L1104.63 1040.22 L1102.1 1035.51 L1099.74 1030.81 L1097.56 1026.11 L1095.55 1021.4 \n  L1093.71 1016.7 L1092.02 1012 L1090.48 1007.3 L1089.07 1002.59 L1063.07 1002.59 L1061.66 1007.3 L1060.12 1012 L1058.43 1016.7 L1056.59 1021.4 L1054.58 1026.11 \n  L1052.4 1030.81 L1050.04 1035.51 L1047.51 1040.22 L1044.78 1044.92 L1041.87 1049.62 L1038.77 1054.33 L1035.48 1059.03 L1032 1063.73 L1028.35 1068.43 L1024.52 1073.14 \n  L1020.52 1077.84 L1016.38 1082.54 L1012.1 1087.25 L1007.69 1091.95 L1003.19 1096.65 L998.602 1101.35 L993.96 1106.06 L989.288 1110.76 L984.613 1115.46 L979.964 1120.17 \n  L975.37 1124.87 L970.863 1129.57 L966.474 1134.27 L962.236 1138.98 L958.179 1143.68 L954.335 1148.38 L950.733 1153.09 L947.402 1157.79 L944.368 1162.49 L941.657 1167.2 \n  L939.29 1171.9 L937.288 1176.6 L935.665 1181.3 L934.435 1186.01 L933.608 1190.71 L933.19 1195.41 L933.184 1200.12 L933.587 1204.82 L934.397 1209.52 L935.604 1214.22 \n  L937.196 1218.93 L939.16 1223.63 L941.478 1228.33 L944.129 1233.04 L947.091 1237.74 L950.339 1242.44 L953.846 1247.14 L957.586 1251.85 L961.529 1256.55 L965.646 1261.25 \n  L969.908 1265.96 L974.284 1270.66 L978.747 1275.36 L983.267 1280.07 L987.817 1284.77 L992.37 1289.47 L996.903 1294.17 L1001.39 1298.88 L1150.75 1298.88  Z\n  \" fill=\"#009af9\" fill-rule=\"evenodd\" fill-opacity=\"1\"/>\n<polyline clip-path=\"url(#clip352)\" style=\"stroke:#000000; stroke-linecap:butt; stroke-linejoin:round; stroke-width:4; stroke-opacity:1; fill:none\" points=\"\n  1150.75,1298.88 1155.24,1294.17 1159.77,1289.47 1164.32,1284.77 1168.87,1280.07 1173.39,1275.36 1177.85,1270.66 1182.23,1265.96 1186.49,1261.25 1190.61,1256.55 \n  1194.55,1251.85 1198.29,1247.14 1201.8,1242.44 1205.05,1237.74 1208.01,1233.04 1210.66,1228.33 1212.98,1223.63 1214.94,1218.93 1216.54,1214.22 1217.74,1209.52 \n  1218.55,1204.82 1218.96,1200.12 1218.95,1195.41 1218.53,1190.71 1217.7,1186.01 1216.47,1181.3 1214.85,1176.6 1212.85,1171.9 1210.48,1167.2 1207.77,1162.49 \n  1204.74,1157.79 1201.41,1153.09 1197.8,1148.38 1193.96,1143.68 1189.9,1138.98 1185.66,1134.27 1181.28,1129.57 1176.77,1124.87 1172.18,1120.17 1167.53,1115.46 \n  1162.85,1110.76 1158.18,1106.06 1153.54,1101.35 1148.95,1096.65 1144.45,1091.95 1140.04,1087.25 1135.76,1082.54 1131.61,1077.84 1127.62,1073.14 1123.79,1068.43 \n  1120.13,1063.73 1116.66,1059.03 1113.37,1054.33 1110.27,1049.62 1107.36,1044.92 1104.63,1040.22 1102.1,1035.51 1099.74,1030.81 1097.56,1026.11 1095.55,1021.4 \n  1093.71,1016.7 1092.02,1012 1090.48,1007.3 1089.07,1002.59 1063.07,1002.59 1061.66,1007.3 1060.12,1012 1058.43,1016.7 1056.59,1021.4 1054.58,1026.11 \n  1052.4,1030.81 1050.04,1035.51 1047.51,1040.22 1044.78,1044.92 1041.87,1049.62 1038.77,1054.33 1035.48,1059.03 1032,1063.73 1028.35,1068.43 1024.52,1073.14 \n  1020.52,1077.84 1016.38,1082.54 1012.1,1087.25 1007.69,1091.95 1003.19,1096.65 998.602,1101.35 993.96,1106.06 989.288,1110.76 984.613,1115.46 979.964,1120.17 \n  975.37,1124.87 970.863,1129.57 966.474,1134.27 962.236,1138.98 958.179,1143.68 954.335,1148.38 950.733,1153.09 947.402,1157.79 944.368,1162.49 941.657,1167.2 \n  939.29,1171.9 937.288,1176.6 935.665,1181.3 934.435,1186.01 933.608,1190.71 933.19,1195.41 933.184,1200.12 933.587,1204.82 934.397,1209.52 935.604,1214.22 \n  937.196,1218.93 939.16,1223.63 941.478,1228.33 944.129,1233.04 947.091,1237.74 950.339,1242.44 953.846,1247.14 957.586,1251.85 961.529,1256.55 965.646,1261.25 \n  969.908,1265.96 974.284,1270.66 978.747,1275.36 983.267,1280.07 987.817,1284.77 992.37,1289.47 996.903,1294.17 1001.39,1298.88 1150.75,1298.88 \n  \"/>\n<path clip-path=\"url(#clip352)\" d=\"\nM1459.78 1342.78 L1462.94 1335.45 L1466.35 1328.11 L1470.03 1320.77 L1473.96 1313.43 L1478.14 1306.1 L1482.57 1298.76 L1487.21 1291.42 L1492.06 1284.08 L1497.09 1276.75 \n  L1502.26 1269.41 L1507.54 1262.07 L1512.89 1254.73 L1518.27 1247.39 L1523.63 1240.06 L1528.94 1232.72 L1534.13 1225.38 L1539.17 1218.04 L1544.02 1210.71 L1548.63 1203.37 \n  L1552.96 1196.03 L1556.97 1188.69 L1560.65 1181.36 L1563.96 1174.02 L1566.89 1166.68 L1569.42 1159.34 L1571.54 1152 L1573.25 1144.67 L1574.56 1137.33 L1575.48 1129.99 \n  L1576.01 1122.65 L1576.17 1115.32 L1575.98 1107.98 L1575.47 1100.64 L1574.65 1093.3 L1573.54 1085.97 L1572.18 1078.63 L1570.57 1071.29 L1568.76 1063.95 L1566.74 1056.61 \n  L1564.55 1049.28 L1562.19 1041.94 L1559.68 1034.6 L1557.03 1027.26 L1554.24 1019.93 L1551.33 1012.59 L1548.28 1005.25 L1545.12 997.913 L1541.84 990.575 L1538.44 983.238 \n  L1534.93 975.9 L1531.31 968.562 L1527.59 961.224 L1523.79 953.887 L1519.9 946.549 L1515.95 939.211 L1511.95 931.874 L1507.94 924.536 L1503.91 917.198 L1499.91 909.861 \n  L1495.96 902.523 L1492.07 895.185 L1488.28 887.848 L1484.61 880.51 L1481.09 873.172 L1477.72 865.834 L1474.54 858.497 L1471.55 851.159 L1468.77 843.821 L1466.2 836.484 \n  L1463.85 829.146 L1461.73 821.808 L1459.82 814.471 L1458.13 807.133 L1456.64 799.795 L1455.36 792.457 L1454.26 785.12 L1453.33 777.782 L1452.56 770.444 L1451.94 763.107 \n  L1451.45 755.769 L1451.07 748.431 L1450.78 741.094 L1450.58 733.756 L1450.45 726.418 L1450.37 719.081 L1450.34 711.743 L1450.34 704.405 L1450.36 697.067 L1450.4 689.73 \n  L1450.44 682.392 L1450.48 675.054 L1450.51 667.717 L1450.53 660.379 L1450.54 653.041 L1450.52 645.704 L1450.47 638.366 L1450.4 631.028 L1450.29 623.69 L1450.14 616.353 \n  L1449.96 609.015 L1449.73 601.677 L1449.46 594.34 L1449.15 587.002 L1448.78 579.664 L1448.37 572.327 L1447.92 564.989 L1447.42 557.651 L1446.88 550.314 L1446.3 542.976 \n  L1445.69 535.638 L1445.05 528.3 L1421.52 528.3 L1420.88 535.638 L1420.26 542.976 L1419.69 550.314 L1419.15 557.651 L1418.65 564.989 L1418.19 572.327 L1417.79 579.664 \n  L1417.42 587.002 L1417.11 594.34 L1416.84 601.677 L1416.61 609.015 L1416.43 616.353 L1416.28 623.69 L1416.17 631.028 L1416.1 638.366 L1416.05 645.704 L1416.03 653.041 \n  L1416.03 660.379 L1416.05 667.717 L1416.09 675.054 L1416.13 682.392 L1416.17 689.73 L1416.21 697.067 L1416.23 704.405 L1416.23 711.743 L1416.2 719.081 L1416.12 726.418 \n  L1415.99 733.756 L1415.79 741.094 L1415.5 748.431 L1415.12 755.769 L1414.63 763.107 L1414 770.444 L1413.24 777.782 L1412.31 785.12 L1411.21 792.457 L1409.93 799.795 \n  L1408.44 807.133 L1406.75 814.471 L1404.84 821.808 L1402.72 829.146 L1400.37 836.484 L1397.8 843.821 L1395.02 851.159 L1392.03 858.497 L1388.85 865.834 L1385.48 873.172 \n  L1381.96 880.51 L1378.29 887.848 L1374.5 895.185 L1370.61 902.523 L1366.66 909.861 L1362.66 917.198 L1358.63 924.536 L1354.61 931.874 L1350.62 939.211 L1346.67 946.549 \n  L1342.78 953.887 L1338.98 961.224 L1335.26 968.562 L1331.64 975.9 L1328.13 983.238 L1324.73 990.575 L1321.45 997.913 L1318.28 1005.25 L1315.24 1012.59 L1312.33 1019.93 \n  L1309.54 1027.26 L1306.89 1034.6 L1304.38 1041.94 L1302.02 1049.28 L1299.83 1056.61 L1297.81 1063.95 L1295.99 1071.29 L1294.39 1078.63 L1293.03 1085.97 L1291.92 1093.3 \n  L1291.1 1100.64 L1290.59 1107.98 L1290.4 1115.32 L1290.56 1122.65 L1291.09 1129.99 L1292.01 1137.33 L1293.32 1144.67 L1295.03 1152 L1297.15 1159.34 L1299.68 1166.68 \n  L1302.61 1174.02 L1305.92 1181.36 L1309.59 1188.69 L1313.61 1196.03 L1317.94 1203.37 L1322.55 1210.71 L1327.39 1218.04 L1332.44 1225.38 L1337.63 1232.72 L1342.94 1240.06 \n  L1348.3 1247.39 L1353.68 1254.73 L1359.03 1262.07 L1364.31 1269.41 L1369.48 1276.75 L1374.51 1284.08 L1379.36 1291.42 L1384 1298.76 L1388.43 1306.1 L1392.61 1313.43 \n  L1396.54 1320.77 L1400.22 1328.11 L1403.63 1335.45 L1406.79 1342.78 L1459.78 1342.78  Z\n  \" fill=\"#009af9\" fill-rule=\"evenodd\" fill-opacity=\"1\"/>\n<polyline clip-path=\"url(#clip352)\" style=\"stroke:#000000; stroke-linecap:butt; stroke-linejoin:round; stroke-width:4; stroke-opacity:1; fill:none\" points=\"\n  1459.78,1342.78 1462.94,1335.45 1466.35,1328.11 1470.03,1320.77 1473.96,1313.43 1478.14,1306.1 1482.57,1298.76 1487.21,1291.42 1492.06,1284.08 1497.09,1276.75 \n  1502.26,1269.41 1507.54,1262.07 1512.89,1254.73 1518.27,1247.39 1523.63,1240.06 1528.94,1232.72 1534.13,1225.38 1539.17,1218.04 1544.02,1210.71 1548.63,1203.37 \n  1552.96,1196.03 1556.97,1188.69 1560.65,1181.36 1563.96,1174.02 1566.89,1166.68 1569.42,1159.34 1571.54,1152 1573.25,1144.67 1574.56,1137.33 1575.48,1129.99 \n  1576.01,1122.65 1576.17,1115.32 1575.98,1107.98 1575.47,1100.64 1574.65,1093.3 1573.54,1085.97 1572.18,1078.63 1570.57,1071.29 1568.76,1063.95 1566.74,1056.61 \n  1564.55,1049.28 1562.19,1041.94 1559.68,1034.6 1557.03,1027.26 1554.24,1019.93 1551.33,1012.59 1548.28,1005.25 1545.12,997.913 1541.84,990.575 1538.44,983.238 \n  1534.93,975.9 1531.31,968.562 1527.59,961.224 1523.79,953.887 1519.9,946.549 1515.95,939.211 1511.95,931.874 1507.94,924.536 1503.91,917.198 1499.91,909.861 \n  1495.96,902.523 1492.07,895.185 1488.28,887.848 1484.61,880.51 1481.09,873.172 1477.72,865.834 1474.54,858.497 1471.55,851.159 1468.77,843.821 1466.2,836.484 \n  1463.85,829.146 1461.73,821.808 1459.82,814.471 1458.13,807.133 1456.64,799.795 1455.36,792.457 1454.26,785.12 1453.33,777.782 1452.56,770.444 1451.94,763.107 \n  1451.45,755.769 1451.07,748.431 1450.78,741.094 1450.58,733.756 1450.45,726.418 1450.37,719.081 1450.34,711.743 1450.34,704.405 1450.36,697.067 1450.4,689.73 \n  1450.44,682.392 1450.48,675.054 1450.51,667.717 1450.53,660.379 1450.54,653.041 1450.52,645.704 1450.47,638.366 1450.4,631.028 1450.29,623.69 1450.14,616.353 \n  1449.96,609.015 1449.73,601.677 1449.46,594.34 1449.15,587.002 1448.78,579.664 1448.37,572.327 1447.92,564.989 1447.42,557.651 1446.88,550.314 1446.3,542.976 \n  1445.69,535.638 1445.05,528.3 1421.52,528.3 1420.88,535.638 1420.26,542.976 1419.69,550.314 1419.15,557.651 1418.65,564.989 1418.19,572.327 1417.79,579.664 \n  1417.42,587.002 1417.11,594.34 1416.84,601.677 1416.61,609.015 1416.43,616.353 1416.28,623.69 1416.17,631.028 1416.1,638.366 1416.05,645.704 1416.03,653.041 \n  1416.03,660.379 1416.05,667.717 1416.09,675.054 1416.13,682.392 1416.17,689.73 1416.21,697.067 1416.23,704.405 1416.23,711.743 1416.2,719.081 1416.12,726.418 \n  1415.99,733.756 1415.79,741.094 1415.5,748.431 1415.12,755.769 1414.63,763.107 1414,770.444 1413.24,777.782 1412.31,785.12 1411.21,792.457 1409.93,799.795 \n  1408.44,807.133 1406.75,814.471 1404.84,821.808 1402.72,829.146 1400.37,836.484 1397.8,843.821 1395.02,851.159 1392.03,858.497 1388.85,865.834 1385.48,873.172 \n  1381.96,880.51 1378.29,887.848 1374.5,895.185 1370.61,902.523 1366.66,909.861 1362.66,917.198 1358.63,924.536 1354.61,931.874 1350.62,939.211 1346.67,946.549 \n  1342.78,953.887 1338.98,961.224 1335.26,968.562 1331.64,975.9 1328.13,983.238 1324.73,990.575 1321.45,997.913 1318.28,1005.25 1315.24,1012.59 1312.33,1019.93 \n  1309.54,1027.26 1306.89,1034.6 1304.38,1041.94 1302.02,1049.28 1299.83,1056.61 1297.81,1063.95 1295.99,1071.29 1294.39,1078.63 1293.03,1085.97 1291.92,1093.3 \n  1291.1,1100.64 1290.59,1107.98 1290.4,1115.32 1290.56,1122.65 1291.09,1129.99 1292.01,1137.33 1293.32,1144.67 1295.03,1152 1297.15,1159.34 1299.68,1166.68 \n  1302.61,1174.02 1305.92,1181.36 1309.59,1188.69 1313.61,1196.03 1317.94,1203.37 1322.55,1210.71 1327.39,1218.04 1332.44,1225.38 1337.63,1232.72 1342.94,1240.06 \n  1348.3,1247.39 1353.68,1254.73 1359.03,1262.07 1364.31,1269.41 1369.48,1276.75 1374.51,1284.08 1379.36,1291.42 1384,1298.76 1388.43,1306.1 1392.61,1313.43 \n  1396.54,1320.77 1400.22,1328.11 1403.63,1335.45 1406.79,1342.78 1459.78,1342.78 \n  \"/>\n<path clip-path=\"url(#clip352)\" d=\"\nM1912.79 1443.02 L1916.17 1438.76 L1919.3 1434.5 L1922.16 1430.24 L1924.73 1425.98 L1927 1421.71 L1928.94 1417.45 L1930.54 1413.19 L1931.79 1408.93 L1932.69 1404.67 \n  L1933.22 1400.41 L1933.39 1396.15 L1933.19 1391.88 L1932.63 1387.62 L1931.71 1383.36 L1930.45 1379.1 L1928.85 1374.84 L1926.93 1370.58 L1924.7 1366.32 L1922.19 1362.05 \n  L1919.4 1357.79 L1916.38 1353.53 L1913.12 1349.27 L1909.67 1345.01 L1906.05 1340.75 L1902.27 1336.49 L1898.37 1332.23 L1894.37 1327.96 L1890.3 1323.7 L1886.17 1319.44 \n  L1882.02 1315.18 L1877.86 1310.92 L1873.71 1306.66 L1869.6 1302.4 L1865.54 1298.13 L1861.54 1293.87 L1857.63 1289.61 L1853.82 1285.35 L1850.12 1281.09 L1846.53 1276.83 \n  L1843.07 1272.57 L1839.74 1268.31 L1836.55 1264.04 L1833.49 1259.78 L1830.59 1255.52 L1827.82 1251.26 L1825.2 1247 L1822.72 1242.74 L1820.38 1238.48 L1818.17 1234.21 \n  L1762.82 1234.21 L1760.62 1238.48 L1758.28 1242.74 L1755.8 1247 L1753.18 1251.26 L1750.41 1255.52 L1747.5 1259.78 L1744.45 1264.04 L1741.26 1268.31 L1737.93 1272.57 \n  L1734.47 1276.83 L1730.88 1281.09 L1727.18 1285.35 L1723.36 1289.61 L1719.46 1293.87 L1715.46 1298.13 L1711.4 1302.4 L1707.29 1306.66 L1703.14 1310.92 L1698.98 1315.18 \n  L1694.83 1319.44 L1690.7 1323.7 L1686.63 1327.96 L1682.63 1332.23 L1678.73 1336.49 L1674.95 1340.75 L1671.33 1345.01 L1667.87 1349.27 L1664.62 1353.53 L1661.6 1357.79 \n  L1658.81 1362.05 L1656.3 1366.32 L1654.07 1370.58 L1652.15 1374.84 L1650.55 1379.1 L1649.29 1383.36 L1648.37 1387.62 L1647.81 1391.88 L1647.61 1396.15 L1647.78 1400.41 \n  L1648.31 1404.67 L1649.21 1408.93 L1650.46 1413.19 L1652.06 1417.45 L1654 1421.71 L1656.27 1425.98 L1658.84 1430.24 L1661.7 1434.5 L1664.83 1438.76 L1668.21 1443.02 \n  L1912.79 1443.02  Z\n  \" fill=\"#009af9\" fill-rule=\"evenodd\" fill-opacity=\"1\"/>\n<polyline clip-path=\"url(#clip352)\" style=\"stroke:#000000; stroke-linecap:butt; stroke-linejoin:round; stroke-width:4; stroke-opacity:1; fill:none\" points=\"\n  1912.79,1443.02 1916.17,1438.76 1919.3,1434.5 1922.16,1430.24 1924.73,1425.98 1927,1421.71 1928.94,1417.45 1930.54,1413.19 1931.79,1408.93 1932.69,1404.67 \n  1933.22,1400.41 1933.39,1396.15 1933.19,1391.88 1932.63,1387.62 1931.71,1383.36 1930.45,1379.1 1928.85,1374.84 1926.93,1370.58 1924.7,1366.32 1922.19,1362.05 \n  1919.4,1357.79 1916.38,1353.53 1913.12,1349.27 1909.67,1345.01 1906.05,1340.75 1902.27,1336.49 1898.37,1332.23 1894.37,1327.96 1890.3,1323.7 1886.17,1319.44 \n  1882.02,1315.18 1877.86,1310.92 1873.71,1306.66 1869.6,1302.4 1865.54,1298.13 1861.54,1293.87 1857.63,1289.61 1853.82,1285.35 1850.12,1281.09 1846.53,1276.83 \n  1843.07,1272.57 1839.74,1268.31 1836.55,1264.04 1833.49,1259.78 1830.59,1255.52 1827.82,1251.26 1825.2,1247 1822.72,1242.74 1820.38,1238.48 1818.17,1234.21 \n  1762.82,1234.21 1760.62,1238.48 1758.28,1242.74 1755.8,1247 1753.18,1251.26 1750.41,1255.52 1747.5,1259.78 1744.45,1264.04 1741.26,1268.31 1737.93,1272.57 \n  1734.47,1276.83 1730.88,1281.09 1727.18,1285.35 1723.36,1289.61 1719.46,1293.87 1715.46,1298.13 1711.4,1302.4 1707.29,1306.66 1703.14,1310.92 1698.98,1315.18 \n  1694.83,1319.44 1690.7,1323.7 1686.63,1327.96 1682.63,1332.23 1678.73,1336.49 1674.95,1340.75 1671.33,1345.01 1667.87,1349.27 1664.62,1353.53 1661.6,1357.79 \n  1658.81,1362.05 1656.3,1366.32 1654.07,1370.58 1652.15,1374.84 1650.55,1379.1 1649.29,1383.36 1648.37,1387.62 1647.81,1391.88 1647.61,1396.15 1647.78,1400.41 \n  1648.31,1404.67 1649.21,1408.93 1650.46,1413.19 1652.06,1417.45 1654,1421.71 1656.27,1425.98 1658.84,1430.24 1661.7,1434.5 1664.83,1438.76 1668.21,1443.02 \n  1912.79,1443.02 \n  \"/>\n<path clip-path=\"url(#clip352)\" d=\"\nM2199.32 1131.56 L2202.06 1126.08 L2204.8 1120.6 L2207.54 1115.12 L2210.25 1109.64 L2212.95 1104.16 L2215.62 1098.68 L2218.27 1093.2 L2220.88 1087.72 L2223.46 1082.24 \n  L2226 1076.76 L2228.51 1071.28 L2230.99 1065.8 L2233.43 1060.31 L2235.85 1054.83 L2238.25 1049.35 L2240.63 1043.87 L2242.99 1038.39 L2245.33 1032.91 L2247.67 1027.43 \n  L2250 1021.95 L2252.32 1016.47 L2254.64 1010.99 L2256.96 1005.51 L2259.28 1000.03 L2261.58 994.547 L2263.88 989.066 L2266.16 983.586 L2268.42 978.105 L2270.64 972.624 \n  L2272.83 967.144 L2274.96 961.663 L2277.02 956.183 L2279 950.702 L2280.89 945.221 L2282.66 939.741 L2284.3 934.26 L2285.79 928.78 L2287.12 923.299 L2288.25 917.818 \n  L2289.19 912.338 L2289.9 906.857 L2290.38 901.376 L2290.6 895.896 L2290.56 890.415 L2290.24 884.935 L2289.63 879.454 L2288.73 873.973 L2287.54 868.493 L2286.04 863.012 \n  L2284.25 857.531 L2282.17 852.051 L2279.8 846.57 L2277.15 841.09 L2274.25 835.609 L2271.1 830.128 L2267.72 824.648 L2264.14 819.167 L2260.37 813.686 L2256.45 808.206 \n  L2252.38 802.725 L2248.21 797.245 L2243.96 791.764 L2239.65 786.283 L2235.31 780.803 L2230.96 775.322 L2226.63 769.841 L2222.34 764.361 L2218.12 758.88 L2213.97 753.4 \n  L2209.93 747.919 L2206 742.438 L2202.2 736.958 L2198.53 731.477 L2195.02 725.997 L2191.66 720.516 L2188.46 715.035 L2185.42 709.555 L2182.55 704.074 L2179.84 698.593 \n  L2177.29 693.113 L2174.9 687.632 L2172.66 682.152 L2170.58 676.671 L2124.85 676.671 L2122.77 682.152 L2120.53 687.632 L2118.14 693.113 L2115.59 698.593 L2112.88 704.074 \n  L2110.01 709.555 L2106.97 715.035 L2103.77 720.516 L2100.41 725.997 L2096.89 731.477 L2093.23 736.958 L2089.43 742.438 L2085.5 747.919 L2081.46 753.4 L2077.31 758.88 \n  L2073.09 764.361 L2068.8 769.841 L2064.47 775.322 L2060.12 780.803 L2055.78 786.283 L2051.47 791.764 L2047.22 797.245 L2043.04 802.725 L2038.98 808.206 L2035.06 813.686 \n  L2031.29 819.167 L2027.71 824.648 L2024.33 830.128 L2021.18 835.609 L2018.28 841.09 L2015.63 846.57 L2013.26 852.051 L2011.18 857.531 L2009.39 863.012 L2007.89 868.493 \n  L2006.7 873.973 L2005.8 879.454 L2005.19 884.935 L2004.87 890.415 L2004.83 895.896 L2005.05 901.376 L2005.53 906.857 L2006.24 912.338 L2007.17 917.818 L2008.31 923.299 \n  L2009.64 928.78 L2011.13 934.26 L2012.77 939.741 L2014.54 945.221 L2016.43 950.702 L2018.41 956.183 L2020.47 961.663 L2022.6 967.144 L2024.79 972.624 L2027.01 978.105 \n  L2029.27 983.586 L2031.55 989.066 L2033.85 994.547 L2036.15 1000.03 L2038.47 1005.51 L2040.78 1010.99 L2043.11 1016.47 L2045.43 1021.95 L2047.76 1027.43 L2050.1 1032.91 \n  L2052.44 1038.39 L2054.8 1043.87 L2057.18 1049.35 L2059.58 1054.83 L2062 1060.31 L2064.44 1065.8 L2066.92 1071.28 L2069.43 1076.76 L2071.97 1082.24 L2074.55 1087.72 \n  L2077.16 1093.2 L2079.81 1098.68 L2082.48 1104.16 L2085.17 1109.64 L2087.89 1115.12 L2090.63 1120.6 L2093.37 1126.08 L2096.11 1131.56 L2199.32 1131.56  Z\n  \" fill=\"#009af9\" fill-rule=\"evenodd\" fill-opacity=\"1\"/>\n<polyline clip-path=\"url(#clip352)\" style=\"stroke:#000000; stroke-linecap:butt; stroke-linejoin:round; stroke-width:4; stroke-opacity:1; fill:none\" points=\"\n  2199.32,1131.56 2202.06,1126.08 2204.8,1120.6 2207.54,1115.12 2210.25,1109.64 2212.95,1104.16 2215.62,1098.68 2218.27,1093.2 2220.88,1087.72 2223.46,1082.24 \n  2226,1076.76 2228.51,1071.28 2230.99,1065.8 2233.43,1060.31 2235.85,1054.83 2238.25,1049.35 2240.63,1043.87 2242.99,1038.39 2245.33,1032.91 2247.67,1027.43 \n  2250,1021.95 2252.32,1016.47 2254.64,1010.99 2256.96,1005.51 2259.28,1000.03 2261.58,994.547 2263.88,989.066 2266.16,983.586 2268.42,978.105 2270.64,972.624 \n  2272.83,967.144 2274.96,961.663 2277.02,956.183 2279,950.702 2280.89,945.221 2282.66,939.741 2284.3,934.26 2285.79,928.78 2287.12,923.299 2288.25,917.818 \n  2289.19,912.338 2289.9,906.857 2290.38,901.376 2290.6,895.896 2290.56,890.415 2290.24,884.935 2289.63,879.454 2288.73,873.973 2287.54,868.493 2286.04,863.012 \n  2284.25,857.531 2282.17,852.051 2279.8,846.57 2277.15,841.09 2274.25,835.609 2271.1,830.128 2267.72,824.648 2264.14,819.167 2260.37,813.686 2256.45,808.206 \n  2252.38,802.725 2248.21,797.245 2243.96,791.764 2239.65,786.283 2235.31,780.803 2230.96,775.322 2226.63,769.841 2222.34,764.361 2218.12,758.88 2213.97,753.4 \n  2209.93,747.919 2206,742.438 2202.2,736.958 2198.53,731.477 2195.02,725.997 2191.66,720.516 2188.46,715.035 2185.42,709.555 2182.55,704.074 2179.84,698.593 \n  2177.29,693.113 2174.9,687.632 2172.66,682.152 2170.58,676.671 2124.85,676.671 2122.77,682.152 2120.53,687.632 2118.14,693.113 2115.59,698.593 2112.88,704.074 \n  2110.01,709.555 2106.97,715.035 2103.77,720.516 2100.41,725.997 2096.89,731.477 2093.23,736.958 2089.43,742.438 2085.5,747.919 2081.46,753.4 2077.31,758.88 \n  2073.09,764.361 2068.8,769.841 2064.47,775.322 2060.12,780.803 2055.78,786.283 2051.47,791.764 2047.22,797.245 2043.04,802.725 2038.98,808.206 2035.06,813.686 \n  2031.29,819.167 2027.71,824.648 2024.33,830.128 2021.18,835.609 2018.28,841.09 2015.63,846.57 2013.26,852.051 2011.18,857.531 2009.39,863.012 2007.89,868.493 \n  2006.7,873.973 2005.8,879.454 2005.19,884.935 2004.87,890.415 2004.83,895.896 2005.05,901.376 2005.53,906.857 2006.24,912.338 2007.17,917.818 2008.31,923.299 \n  2009.64,928.78 2011.13,934.26 2012.77,939.741 2014.54,945.221 2016.43,950.702 2018.41,956.183 2020.47,961.663 2022.6,967.144 2024.79,972.624 2027.01,978.105 \n  2029.27,983.586 2031.55,989.066 2033.85,994.547 2036.15,1000.03 2038.47,1005.51 2040.78,1010.99 2043.11,1016.47 2045.43,1021.95 2047.76,1027.43 2050.1,1032.91 \n  2052.44,1038.39 2054.8,1043.87 2057.18,1049.35 2059.58,1054.83 2062,1060.31 2064.44,1065.8 2066.92,1071.28 2069.43,1076.76 2071.97,1082.24 2074.55,1087.72 \n  2077.16,1093.2 2079.81,1098.68 2082.48,1104.16 2085.17,1109.64 2087.89,1115.12 2090.63,1120.6 2093.37,1126.08 2096.11,1131.56 2199.32,1131.56 \n  \"/>\n<path clip-path=\"url(#clip352)\" d=\"\nM361.64 1373.76 L290.197 1373.76 L433.083 1373.76 L361.64 1373.76 L361.64 1297.97 L361.64 1373.76  Z\n  \" fill=\"#ffa500\" fill-rule=\"evenodd\" fill-opacity=\"0.3\"/>\n<polyline clip-path=\"url(#clip352)\" style=\"stroke:#000000; stroke-linecap:butt; stroke-linejoin:round; stroke-width:8; stroke-opacity:1; fill:none\" points=\"\n  361.64,1373.76 290.197,1373.76 433.083,1373.76 361.64,1373.76 361.64,1297.97 361.64,1373.76 \n  \"/>\n<path clip-path=\"url(#clip352)\" d=\"\nM504.526 1297.97 L504.526 1271.12 L218.754 1271.12 L218.754 1297.97 L504.526 1297.97 L504.526 1271.12 L504.526 1297.97  Z\n  \" fill=\"#ffa500\" fill-rule=\"evenodd\" fill-opacity=\"0.3\"/>\n<polyline clip-path=\"url(#clip352)\" style=\"stroke:#000000; stroke-linecap:butt; stroke-linejoin:round; stroke-width:8; stroke-opacity:1; fill:none\" points=\"\n  504.526,1297.97 504.526,1271.12 218.754,1271.12 218.754,1297.97 504.526,1297.97 504.526,1271.12 504.526,1297.97 \n  \"/>\n<path clip-path=\"url(#clip352)\" d=\"\nM504.526 1242.97 L218.754 1242.97 L218.754 1271.12 L504.526 1271.12 L504.526 1242.97 L361.64 1242.97 L504.526 1242.97  Z\n  \" fill=\"#ffa500\" fill-rule=\"evenodd\" fill-opacity=\"0.3\"/>\n<polyline clip-path=\"url(#clip352)\" style=\"stroke:#000000; stroke-linecap:butt; stroke-linejoin:round; stroke-width:8; stroke-opacity:1; fill:none\" points=\"\n  504.526,1242.97 218.754,1242.97 218.754,1271.12 504.526,1271.12 504.526,1242.97 361.64,1242.97 504.526,1242.97 \n  \"/>\n<path clip-path=\"url(#clip352)\" d=\"\nM361.64 1166.67 L290.197 1166.67 L433.083 1166.67 L361.64 1166.67 L361.64 1242.97 L361.64 1166.67  Z\n  \" fill=\"#ffa500\" fill-rule=\"evenodd\" fill-opacity=\"0.3\"/>\n<polyline clip-path=\"url(#clip352)\" style=\"stroke:#000000; stroke-linecap:butt; stroke-linejoin:round; stroke-width:8; stroke-opacity:1; fill:none\" points=\"\n  361.64,1166.67 290.197,1166.67 433.083,1166.67 361.64,1166.67 361.64,1242.97 361.64,1166.67 \n  \"/>\n<path clip-path=\"url(#clip352)\" d=\"\nM718.855 953.879 L647.412 953.879 L790.298 953.879 L718.855 953.879 L718.855 632.09 L718.855 953.879  Z\n  \" fill=\"#ffa500\" fill-rule=\"evenodd\" fill-opacity=\"0.3\"/>\n<polyline clip-path=\"url(#clip352)\" style=\"stroke:#000000; stroke-linecap:butt; stroke-linejoin:round; stroke-width:8; stroke-opacity:1; fill:none\" points=\"\n  718.855,953.879 647.412,953.879 790.298,953.879 718.855,953.879 718.855,632.09 718.855,953.879 \n  \"/>\n<path clip-path=\"url(#clip352)\" d=\"\nM861.741 632.09 L861.741 546.351 L575.969 546.351 L575.969 632.09 L861.741 632.09 L861.741 546.351 L861.741 632.09  Z\n  \" fill=\"#ffa500\" fill-rule=\"evenodd\" fill-opacity=\"0.3\"/>\n<polyline clip-path=\"url(#clip352)\" style=\"stroke:#000000; stroke-linecap:butt; stroke-linejoin:round; stroke-width:8; stroke-opacity:1; fill:none\" points=\"\n  861.741,632.09 861.741,546.351 575.969,546.351 575.969,632.09 861.741,632.09 861.741,546.351 861.741,632.09 \n  \"/>\n<path clip-path=\"url(#clip352)\" d=\"\nM861.741 401.148 L575.969 401.148 L575.969 546.351 L861.741 546.351 L861.741 401.148 L718.855 401.148 L861.741 401.148  Z\n  \" fill=\"#ffa500\" fill-rule=\"evenodd\" fill-opacity=\"0.3\"/>\n<polyline clip-path=\"url(#clip352)\" style=\"stroke:#000000; stroke-linecap:butt; stroke-linejoin:round; stroke-width:8; stroke-opacity:1; fill:none\" points=\"\n  861.741,401.148 575.969,401.148 575.969,546.351 861.741,546.351 861.741,401.148 718.855,401.148 861.741,401.148 \n  \"/>\n<path clip-path=\"url(#clip352)\" d=\"\nM718.855 87.9763 L647.412 87.9763 L790.298 87.9763 L718.855 87.9763 L718.855 401.148 L718.855 87.9763  Z\n  \" fill=\"#ffa500\" fill-rule=\"evenodd\" fill-opacity=\"0.3\"/>\n<polyline clip-path=\"url(#clip352)\" style=\"stroke:#000000; stroke-linecap:butt; stroke-linejoin:round; stroke-width:8; stroke-opacity:1; fill:none\" points=\"\n  718.855,87.9763 647.412,87.9763 790.298,87.9763 718.855,87.9763 718.855,401.148 718.855,87.9763 \n  \"/>\n<path clip-path=\"url(#clip352)\" d=\"\nM1076.07 1301.77 L1004.63 1301.77 L1147.51 1301.77 L1076.07 1301.77 L1076.07 1227.07 L1076.07 1301.77  Z\n  \" fill=\"#ffa500\" fill-rule=\"evenodd\" fill-opacity=\"0.3\"/>\n<polyline clip-path=\"url(#clip352)\" style=\"stroke:#000000; stroke-linecap:butt; stroke-linejoin:round; stroke-width:8; stroke-opacity:1; fill:none\" points=\"\n  1076.07,1301.77 1004.63,1301.77 1147.51,1301.77 1076.07,1301.77 1076.07,1227.07 1076.07,1301.77 \n  \"/>\n<path clip-path=\"url(#clip352)\" d=\"\nM1218.96 1227.07 L1218.96 1191.54 L933.184 1191.54 L933.184 1227.07 L1218.96 1227.07 L1218.96 1191.54 L1218.96 1227.07  Z\n  \" fill=\"#ffa500\" fill-rule=\"evenodd\" fill-opacity=\"0.3\"/>\n<polyline clip-path=\"url(#clip352)\" style=\"stroke:#000000; stroke-linecap:butt; stroke-linejoin:round; stroke-width:8; stroke-opacity:1; fill:none\" points=\"\n  1218.96,1227.07 1218.96,1191.54 933.184,1191.54 933.184,1227.07 1218.96,1227.07 1218.96,1191.54 1218.96,1227.07 \n  \"/>\n<path clip-path=\"url(#clip352)\" d=\"\nM1218.96 1174.61 L933.184 1174.61 L933.184 1191.54 L1218.96 1191.54 L1218.96 1174.61 L1076.07 1174.61 L1218.96 1174.61  Z\n  \" fill=\"#ffa500\" fill-rule=\"evenodd\" fill-opacity=\"0.3\"/>\n<polyline clip-path=\"url(#clip352)\" style=\"stroke:#000000; stroke-linecap:butt; stroke-linejoin:round; stroke-width:8; stroke-opacity:1; fill:none\" points=\"\n  1218.96,1174.61 933.184,1174.61 933.184,1191.54 1218.96,1191.54 1218.96,1174.61 1076.07,1174.61 1218.96,1174.61 \n  \"/>\n<path clip-path=\"url(#clip352)\" d=\"\nM1076.07 1131.27 L1004.63 1131.27 L1147.51 1131.27 L1076.07 1131.27 L1076.07 1174.61 L1076.07 1131.27  Z\n  \" fill=\"#ffa500\" fill-rule=\"evenodd\" fill-opacity=\"0.3\"/>\n<polyline clip-path=\"url(#clip352)\" style=\"stroke:#000000; stroke-linecap:butt; stroke-linejoin:round; stroke-width:8; stroke-opacity:1; fill:none\" points=\"\n  1076.07,1131.27 1004.63,1131.27 1147.51,1131.27 1076.07,1131.27 1076.07,1174.61 1076.07,1131.27 \n  \"/>\n<path clip-path=\"url(#clip352)\" d=\"\nM1433.28 1348.74 L1361.84 1348.74 L1504.73 1348.74 L1433.28 1348.74 L1433.28 1178.23 L1433.28 1348.74  Z\n  \" fill=\"#ffa500\" fill-rule=\"evenodd\" fill-opacity=\"0.3\"/>\n<polyline clip-path=\"url(#clip352)\" style=\"stroke:#000000; stroke-linecap:butt; stroke-linejoin:round; stroke-width:8; stroke-opacity:1; fill:none\" points=\"\n  1433.28,1348.74 1361.84,1348.74 1504.73,1348.74 1433.28,1348.74 1433.28,1178.23 1433.28,1348.74 \n  \"/>\n<path clip-path=\"url(#clip352)\" d=\"\nM1576.17 1178.23 L1576.17 1087.15 L1290.4 1087.15 L1290.4 1178.23 L1576.17 1178.23 L1576.17 1087.15 L1576.17 1178.23  Z\n  \" fill=\"#ffa500\" fill-rule=\"evenodd\" fill-opacity=\"0.3\"/>\n<polyline clip-path=\"url(#clip352)\" style=\"stroke:#000000; stroke-linecap:butt; stroke-linejoin:round; stroke-width:8; stroke-opacity:1; fill:none\" points=\"\n  1576.17,1178.23 1576.17,1087.15 1290.4,1087.15 1290.4,1178.23 1576.17,1178.23 1576.17,1087.15 1576.17,1178.23 \n  \"/>\n<path clip-path=\"url(#clip352)\" d=\"\nM1576.17 975.93 L1290.4 975.93 L1290.4 1087.15 L1576.17 1087.15 L1576.17 975.93 L1433.28 975.93 L1576.17 975.93  Z\n  \" fill=\"#ffa500\" fill-rule=\"evenodd\" fill-opacity=\"0.3\"/>\n<polyline clip-path=\"url(#clip352)\" style=\"stroke:#000000; stroke-linecap:butt; stroke-linejoin:round; stroke-width:8; stroke-opacity:1; fill:none\" points=\"\n  1576.17,975.93 1290.4,975.93 1290.4,1087.15 1576.17,1087.15 1576.17,975.93 1433.28,975.93 1576.17,975.93 \n  \"/>\n<path clip-path=\"url(#clip352)\" d=\"\nM1433.28 683.276 L1361.84 683.276 L1504.73 683.276 L1433.28 683.276 L1433.28 975.93 L1433.28 683.276  Z\n  \" fill=\"#ffa500\" fill-rule=\"evenodd\" fill-opacity=\"0.3\"/>\n<polyline clip-path=\"url(#clip352)\" style=\"stroke:#000000; stroke-linecap:butt; stroke-linejoin:round; stroke-width:8; stroke-opacity:1; fill:none\" points=\"\n  1433.28,683.276 1361.84,683.276 1504.73,683.276 1433.28,683.276 1433.28,975.93 1433.28,683.276 \n  \"/>\n<path clip-path=\"url(#clip352)\" d=\"\nM1790.5 1445.72 L1719.06 1445.72 L1861.94 1445.72 L1790.5 1445.72 L1790.5 1411.85 L1790.5 1445.72  Z\n  \" fill=\"#ffa500\" fill-rule=\"evenodd\" fill-opacity=\"0.3\"/>\n<polyline clip-path=\"url(#clip352)\" style=\"stroke:#000000; stroke-linecap:butt; stroke-linejoin:round; stroke-width:8; stroke-opacity:1; fill:none\" points=\"\n  1790.5,1445.72 1719.06,1445.72 1861.94,1445.72 1790.5,1445.72 1790.5,1411.85 1790.5,1445.72 \n  \"/>\n<path clip-path=\"url(#clip352)\" d=\"\nM1933.39 1411.85 L1933.39 1401.05 L1647.61 1401.05 L1647.61 1411.85 L1933.39 1411.85 L1933.39 1401.05 L1933.39 1411.85  Z\n  \" fill=\"#ffa500\" fill-rule=\"evenodd\" fill-opacity=\"0.3\"/>\n<polyline clip-path=\"url(#clip352)\" style=\"stroke:#000000; stroke-linecap:butt; stroke-linejoin:round; stroke-width:8; stroke-opacity:1; fill:none\" points=\"\n  1933.39,1411.85 1933.39,1401.05 1647.61,1401.05 1647.61,1411.85 1933.39,1411.85 1933.39,1401.05 1933.39,1411.85 \n  \"/>\n<path clip-path=\"url(#clip352)\" d=\"\nM1933.39 1382.25 L1647.61 1382.25 L1647.61 1401.05 L1933.39 1401.05 L1933.39 1382.25 L1790.5 1382.25 L1933.39 1382.25  Z\n  \" fill=\"#ffa500\" fill-rule=\"evenodd\" fill-opacity=\"0.3\"/>\n<polyline clip-path=\"url(#clip352)\" style=\"stroke:#000000; stroke-linecap:butt; stroke-linejoin:round; stroke-width:8; stroke-opacity:1; fill:none\" points=\"\n  1933.39,1382.25 1647.61,1382.25 1647.61,1401.05 1933.39,1401.05 1933.39,1382.25 1790.5,1382.25 1933.39,1382.25 \n  \"/>\n<path clip-path=\"url(#clip352)\" d=\"\nM1790.5 1345.46 L1719.06 1345.46 L1861.94 1345.46 L1790.5 1345.46 L1790.5 1382.25 L1790.5 1345.46  Z\n  \" fill=\"#ffa500\" fill-rule=\"evenodd\" fill-opacity=\"0.3\"/>\n<polyline clip-path=\"url(#clip352)\" style=\"stroke:#000000; stroke-linecap:butt; stroke-linejoin:round; stroke-width:8; stroke-opacity:1; fill:none\" points=\"\n  1790.5,1345.46 1719.06,1345.46 1861.94,1345.46 1790.5,1345.46 1790.5,1382.25 1790.5,1345.46 \n  \"/>\n<path clip-path=\"url(#clip352)\" d=\"\nM2147.71 1132.53 L2076.27 1132.53 L2219.16 1132.53 L2147.71 1132.53 L2147.71 1007.87 L2147.71 1132.53  Z\n  \" fill=\"#ffa500\" fill-rule=\"evenodd\" fill-opacity=\"0.3\"/>\n<polyline clip-path=\"url(#clip352)\" style=\"stroke:#000000; stroke-linecap:butt; stroke-linejoin:round; stroke-width:8; stroke-opacity:1; fill:none\" points=\"\n  2147.71,1132.53 2076.27,1132.53 2219.16,1132.53 2147.71,1132.53 2147.71,1007.87 2147.71,1132.53 \n  \"/>\n<path clip-path=\"url(#clip352)\" d=\"\nM2290.6 1007.87 L2290.6 910.776 L2004.83 910.776 L2004.83 1007.87 L2290.6 1007.87 L2290.6 910.776 L2290.6 1007.87  Z\n  \" fill=\"#ffa500\" fill-rule=\"evenodd\" fill-opacity=\"0.3\"/>\n<polyline clip-path=\"url(#clip352)\" style=\"stroke:#000000; stroke-linecap:butt; stroke-linejoin:round; stroke-width:8; stroke-opacity:1; fill:none\" points=\"\n  2290.6,1007.87 2290.6,910.776 2004.83,910.776 2004.83,1007.87 2290.6,1007.87 2290.6,910.776 2290.6,1007.87 \n  \"/>\n<path clip-path=\"url(#clip352)\" d=\"\nM2290.6 849.111 L2004.83 849.111 L2004.83 910.776 L2290.6 910.776 L2290.6 849.111 L2147.71 849.111 L2290.6 849.111  Z\n  \" fill=\"#ffa500\" fill-rule=\"evenodd\" fill-opacity=\"0.3\"/>\n<polyline clip-path=\"url(#clip352)\" style=\"stroke:#000000; stroke-linecap:butt; stroke-linejoin:round; stroke-width:8; stroke-opacity:1; fill:none\" points=\"\n  2290.6,849.111 2004.83,849.111 2004.83,910.776 2290.6,910.776 2290.6,849.111 2147.71,849.111 2290.6,849.111 \n  \"/>\n<path clip-path=\"url(#clip352)\" d=\"\nM2147.71 675.701 L2076.27 675.701 L2219.16 675.701 L2147.71 675.701 L2147.71 849.111 L2147.71 675.701  Z\n  \" fill=\"#ffa500\" fill-rule=\"evenodd\" fill-opacity=\"0.3\"/>\n<polyline clip-path=\"url(#clip352)\" style=\"stroke:#000000; stroke-linecap:butt; stroke-linejoin:round; stroke-width:8; stroke-opacity:1; fill:none\" points=\"\n  2147.71,675.701 2076.27,675.701 2219.16,675.701 2147.71,675.701 2147.71,849.111 2147.71,675.701 \n  \"/>\n<circle clip-path=\"url(#clip352)\" cx=\"361.64\" cy=\"1146.63\" r=\"14\" fill=\"#e26f46\" fill-rule=\"evenodd\" fill-opacity=\"1\" stroke=\"#000000\" stroke-opacity=\"1\" stroke-width=\"3.2\"/>\n<circle clip-path=\"url(#clip352)\" cx=\"361.64\" cy=\"1082.25\" r=\"14\" fill=\"#e26f46\" fill-rule=\"evenodd\" fill-opacity=\"1\" stroke=\"#000000\" stroke-opacity=\"1\" stroke-width=\"3.2\"/>\n<circle clip-path=\"url(#clip352)\" cx=\"361.64\" cy=\"1113.17\" r=\"14\" fill=\"#e26f46\" fill-rule=\"evenodd\" fill-opacity=\"1\" stroke=\"#000000\" stroke-opacity=\"1\" stroke-width=\"3.2\"/>\n<circle clip-path=\"url(#clip352)\" cx=\"361.64\" cy=\"1054.22\" r=\"14\" fill=\"#e26f46\" fill-rule=\"evenodd\" fill-opacity=\"1\" stroke=\"#000000\" stroke-opacity=\"1\" stroke-width=\"3.2\"/>\n<circle clip-path=\"url(#clip352)\" cx=\"718.855\" cy=\"1024.86\" r=\"14\" fill=\"#e26f46\" fill-rule=\"evenodd\" fill-opacity=\"1\" stroke=\"#000000\" stroke-opacity=\"1\" stroke-width=\"3.2\"/>\n<circle clip-path=\"url(#clip352)\" cx=\"1076.07\" cy=\"999.7\" r=\"14\" fill=\"#e26f46\" fill-rule=\"evenodd\" fill-opacity=\"1\" stroke=\"#000000\" stroke-opacity=\"1\" stroke-width=\"3.2\"/>\n<circle clip-path=\"url(#clip352)\" cx=\"1433.28\" cy=\"522.348\" r=\"14\" fill=\"#e26f46\" fill-rule=\"evenodd\" fill-opacity=\"1\" stroke=\"#000000\" stroke-opacity=\"1\" stroke-width=\"3.2\"/>\n<circle clip-path=\"url(#clip352)\" cx=\"1433.28\" cy=\"587.556\" r=\"14\" fill=\"#e26f46\" fill-rule=\"evenodd\" fill-opacity=\"1\" stroke=\"#000000\" stroke-opacity=\"1\" stroke-width=\"3.2\"/>\n<circle clip-path=\"url(#clip352)\" cx=\"1433.28\" cy=\"596.01\" r=\"14\" fill=\"#e26f46\" fill-rule=\"evenodd\" fill-opacity=\"1\" stroke=\"#000000\" stroke-opacity=\"1\" stroke-width=\"3.2\"/>\n<circle clip-path=\"url(#clip352)\" cx=\"1790.5\" cy=\"1288.13\" r=\"14\" fill=\"#e26f46\" fill-rule=\"evenodd\" fill-opacity=\"1\" stroke=\"#000000\" stroke-opacity=\"1\" stroke-width=\"3.2\"/>\n<circle clip-path=\"url(#clip352)\" cx=\"1790.5\" cy=\"1231.52\" r=\"14\" fill=\"#e26f46\" fill-rule=\"evenodd\" fill-opacity=\"1\" stroke=\"#000000\" stroke-opacity=\"1\" stroke-width=\"3.2\"/>\n<circle clip-path=\"url(#clip352)\" cx=\"1790.5\" cy=\"1243.82\" r=\"14\" fill=\"#e26f46\" fill-rule=\"evenodd\" fill-opacity=\"1\" stroke=\"#000000\" stroke-opacity=\"1\" stroke-width=\"3.2\"/>\n<circle clip-path=\"url(#clip352)\" cx=\"1790.5\" cy=\"1335.52\" r=\"14\" fill=\"#e26f46\" fill-rule=\"evenodd\" fill-opacity=\"1\" stroke=\"#000000\" stroke-opacity=\"1\" stroke-width=\"3.2\"/>\n<circle clip-path=\"url(#clip352)\" cx=\"1790.5\" cy=\"1305.93\" r=\"14\" fill=\"#e26f46\" fill-rule=\"evenodd\" fill-opacity=\"1\" stroke=\"#000000\" stroke-opacity=\"1\" stroke-width=\"3.2\"/>\n<polyline clip-path=\"url(#clip352)\" style=\"stroke:#000000; stroke-linecap:butt; stroke-linejoin:round; stroke-width:0; stroke-opacity:1; fill:none\" points=\"\n  361.64,1373.76 290.197,1373.76 433.083,1373.76 361.64,1373.76 361.64,1297.97 \n  \"/>\n<polyline clip-path=\"url(#clip352)\" style=\"stroke:#000000; stroke-linecap:butt; stroke-linejoin:round; stroke-width:0; stroke-opacity:1; fill:none\" points=\"\n  504.526,1297.97 504.526,1271.12 218.754,1271.12 218.754,1297.97 504.526,1297.97 504.526,1271.12 \n  \"/>\n<polyline clip-path=\"url(#clip352)\" style=\"stroke:#000000; stroke-linecap:butt; stroke-linejoin:round; stroke-width:0; stroke-opacity:1; fill:none\" points=\"\n  504.526,1242.97 218.754,1242.97 218.754,1271.12 504.526,1271.12 504.526,1242.97 361.64,1242.97 \n  \"/>\n<polyline clip-path=\"url(#clip352)\" style=\"stroke:#000000; stroke-linecap:butt; stroke-linejoin:round; stroke-width:0; stroke-opacity:1; fill:none\" points=\"\n  361.64,1166.67 290.197,1166.67 433.083,1166.67 361.64,1166.67 361.64,1242.97 \n  \"/>\n<polyline clip-path=\"url(#clip352)\" style=\"stroke:#000000; stroke-linecap:butt; stroke-linejoin:round; stroke-width:0; stroke-opacity:1; fill:none\" points=\"\n  718.855,953.879 647.412,953.879 790.298,953.879 718.855,953.879 718.855,632.09 \n  \"/>\n<polyline clip-path=\"url(#clip352)\" style=\"stroke:#000000; stroke-linecap:butt; stroke-linejoin:round; stroke-width:0; stroke-opacity:1; fill:none\" points=\"\n  861.741,632.09 861.741,546.351 575.969,546.351 575.969,632.09 861.741,632.09 861.741,546.351 \n  \"/>\n<polyline clip-path=\"url(#clip352)\" style=\"stroke:#000000; stroke-linecap:butt; stroke-linejoin:round; stroke-width:0; stroke-opacity:1; fill:none\" points=\"\n  861.741,401.148 575.969,401.148 575.969,546.351 861.741,546.351 861.741,401.148 718.855,401.148 \n  \"/>\n<polyline clip-path=\"url(#clip352)\" style=\"stroke:#000000; stroke-linecap:butt; stroke-linejoin:round; stroke-width:0; stroke-opacity:1; fill:none\" points=\"\n  718.855,87.9763 647.412,87.9763 790.298,87.9763 718.855,87.9763 718.855,401.148 \n  \"/>\n<polyline clip-path=\"url(#clip352)\" style=\"stroke:#000000; stroke-linecap:butt; stroke-linejoin:round; stroke-width:0; stroke-opacity:1; fill:none\" points=\"\n  1076.07,1301.77 1004.63,1301.77 1147.51,1301.77 1076.07,1301.77 1076.07,1227.07 \n  \"/>\n<polyline clip-path=\"url(#clip352)\" style=\"stroke:#000000; stroke-linecap:butt; stroke-linejoin:round; stroke-width:0; stroke-opacity:1; fill:none\" points=\"\n  1218.96,1227.07 1218.96,1191.54 933.184,1191.54 933.184,1227.07 1218.96,1227.07 1218.96,1191.54 \n  \"/>\n<polyline clip-path=\"url(#clip352)\" style=\"stroke:#000000; stroke-linecap:butt; stroke-linejoin:round; stroke-width:0; stroke-opacity:1; fill:none\" points=\"\n  1218.96,1174.61 933.184,1174.61 933.184,1191.54 1218.96,1191.54 1218.96,1174.61 1076.07,1174.61 \n  \"/>\n<polyline clip-path=\"url(#clip352)\" style=\"stroke:#000000; stroke-linecap:butt; stroke-linejoin:round; stroke-width:0; stroke-opacity:1; fill:none\" points=\"\n  1076.07,1131.27 1004.63,1131.27 1147.51,1131.27 1076.07,1131.27 1076.07,1174.61 \n  \"/>\n<polyline clip-path=\"url(#clip352)\" style=\"stroke:#000000; stroke-linecap:butt; stroke-linejoin:round; stroke-width:0; stroke-opacity:1; fill:none\" points=\"\n  1433.28,1348.74 1361.84,1348.74 1504.73,1348.74 1433.28,1348.74 1433.28,1178.23 \n  \"/>\n<polyline clip-path=\"url(#clip352)\" style=\"stroke:#000000; stroke-linecap:butt; stroke-linejoin:round; stroke-width:0; stroke-opacity:1; fill:none\" points=\"\n  1576.17,1178.23 1576.17,1087.15 1290.4,1087.15 1290.4,1178.23 1576.17,1178.23 1576.17,1087.15 \n  \"/>\n<polyline clip-path=\"url(#clip352)\" style=\"stroke:#000000; stroke-linecap:butt; stroke-linejoin:round; stroke-width:0; stroke-opacity:1; fill:none\" points=\"\n  1576.17,975.93 1290.4,975.93 1290.4,1087.15 1576.17,1087.15 1576.17,975.93 1433.28,975.93 \n  \"/>\n<polyline clip-path=\"url(#clip352)\" style=\"stroke:#000000; stroke-linecap:butt; stroke-linejoin:round; stroke-width:0; stroke-opacity:1; fill:none\" points=\"\n  1433.28,683.276 1361.84,683.276 1504.73,683.276 1433.28,683.276 1433.28,975.93 \n  \"/>\n<polyline clip-path=\"url(#clip352)\" style=\"stroke:#000000; stroke-linecap:butt; stroke-linejoin:round; stroke-width:0; stroke-opacity:1; fill:none\" points=\"\n  1790.5,1445.72 1719.06,1445.72 1861.94,1445.72 1790.5,1445.72 1790.5,1411.85 \n  \"/>\n<polyline clip-path=\"url(#clip352)\" style=\"stroke:#000000; stroke-linecap:butt; stroke-linejoin:round; stroke-width:0; stroke-opacity:1; fill:none\" points=\"\n  1933.39,1411.85 1933.39,1401.05 1647.61,1401.05 1647.61,1411.85 1933.39,1411.85 1933.39,1401.05 \n  \"/>\n<polyline clip-path=\"url(#clip352)\" style=\"stroke:#000000; stroke-linecap:butt; stroke-linejoin:round; stroke-width:0; stroke-opacity:1; fill:none\" points=\"\n  1933.39,1382.25 1647.61,1382.25 1647.61,1401.05 1933.39,1401.05 1933.39,1382.25 1790.5,1382.25 \n  \"/>\n<polyline clip-path=\"url(#clip352)\" style=\"stroke:#000000; stroke-linecap:butt; stroke-linejoin:round; stroke-width:0; stroke-opacity:1; fill:none\" points=\"\n  1790.5,1345.46 1719.06,1345.46 1861.94,1345.46 1790.5,1345.46 1790.5,1382.25 \n  \"/>\n<polyline clip-path=\"url(#clip352)\" style=\"stroke:#000000; stroke-linecap:butt; stroke-linejoin:round; stroke-width:0; stroke-opacity:1; fill:none\" points=\"\n  2147.71,1132.53 2076.27,1132.53 2219.16,1132.53 2147.71,1132.53 2147.71,1007.87 \n  \"/>\n<polyline clip-path=\"url(#clip352)\" style=\"stroke:#000000; stroke-linecap:butt; stroke-linejoin:round; stroke-width:0; stroke-opacity:1; fill:none\" points=\"\n  2290.6,1007.87 2290.6,910.776 2004.83,910.776 2004.83,1007.87 2290.6,1007.87 2290.6,910.776 \n  \"/>\n<polyline clip-path=\"url(#clip352)\" style=\"stroke:#000000; stroke-linecap:butt; stroke-linejoin:round; stroke-width:0; stroke-opacity:1; fill:none\" points=\"\n  2290.6,849.111 2004.83,849.111 2004.83,910.776 2290.6,910.776 2290.6,849.111 2147.71,849.111 \n  \"/>\n<polyline clip-path=\"url(#clip352)\" style=\"stroke:#000000; stroke-linecap:butt; stroke-linejoin:round; stroke-width:0; stroke-opacity:1; fill:none\" points=\"\n  2147.71,675.701 2076.27,675.701 2219.16,675.701 2147.71,675.701 2147.71,849.111 \n  \"/>\n<path clip-path=\"url(#clip350)\" d=\"\nM1983.1 250.738 L2279.55 250.738 L2279.55 95.2176 L1983.1 95.2176  Z\n  \" fill=\"#ffffff\" fill-rule=\"evenodd\" fill-opacity=\"1\"/>\n<polyline clip-path=\"url(#clip350)\" style=\"stroke:#000000; stroke-linecap:butt; stroke-linejoin:round; stroke-width:4; stroke-opacity:1; fill:none\" points=\"\n  1983.1,250.738 2279.55,250.738 2279.55,95.2176 1983.1,95.2176 1983.1,250.738 \n  \"/>\n<path clip-path=\"url(#clip350)\" d=\"\nM2007.5 167.794 L2153.92 167.794 L2153.92 126.322 L2007.5 126.322 L2007.5 167.794  Z\n  \" fill=\"#009af9\" fill-rule=\"evenodd\" fill-opacity=\"1\"/>\n<polyline clip-path=\"url(#clip350)\" style=\"stroke:#000000; stroke-linecap:butt; stroke-linejoin:round; stroke-width:4; stroke-opacity:1; fill:none\" points=\"\n  2007.5,167.794 2153.92,167.794 2153.92,126.322 2007.5,126.322 2007.5,167.794 \n  \"/>\n<path clip-path=\"url(#clip350)\" d=\"M2192.16 166.745 Q2190.35 171.375 2188.64 172.787 Q2186.93 174.199 2184.06 174.199 L2180.65 174.199 L2180.65 170.634 L2183.15 170.634 Q2184.91 170.634 2185.89 169.8 Q2186.86 168.967 2188.04 165.865 L2188.8 163.921 L2178.32 138.412 L2182.83 138.412 L2190.93 158.689 L2199.03 138.412 L2203.55 138.412 L2192.16 166.745 Z\" fill=\"#000000\" fill-rule=\"evenodd\" fill-opacity=\"1\" /><path clip-path=\"url(#clip350)\" d=\"M2210.84 160.402 L2218.48 160.402 L2218.48 134.037 L2210.17 135.703 L2210.17 131.444 L2218.43 129.778 L2223.11 129.778 L2223.11 160.402 L2230.75 160.402 L2230.75 164.338 L2210.84 164.338 L2210.84 160.402 Z\" fill=\"#000000\" fill-rule=\"evenodd\" fill-opacity=\"1\" /><path clip-path=\"url(#clip350)\" d=\"\nM2007.5 219.634 L2153.92 219.634 L2153.92 178.162 L2007.5 178.162 L2007.5 219.634  Z\n  \" fill=\"#ffa500\" fill-rule=\"evenodd\" fill-opacity=\"0.3\"/>\n<polyline clip-path=\"url(#clip350)\" style=\"stroke:#000000; stroke-linecap:butt; stroke-linejoin:round; stroke-width:8; stroke-opacity:1; fill:none\" points=\"\n  2007.5,219.634 2153.92,219.634 2153.92,178.162 2007.5,178.162 2007.5,219.634 \n  \"/>\n<path clip-path=\"url(#clip350)\" d=\"M2192.16 218.585 Q2190.35 223.215 2188.64 224.627 Q2186.93 226.039 2184.06 226.039 L2180.65 226.039 L2180.65 222.474 L2183.15 222.474 Q2184.91 222.474 2185.89 221.64 Q2186.86 220.807 2188.04 217.705 L2188.8 215.761 L2178.32 190.252 L2182.83 190.252 L2190.93 210.529 L2199.03 190.252 L2203.55 190.252 L2192.16 218.585 Z\" fill=\"#000000\" fill-rule=\"evenodd\" fill-opacity=\"1\" /><path clip-path=\"url(#clip350)\" d=\"M2214.06 212.242 L2230.38 212.242 L2230.38 216.178 L2208.43 216.178 L2208.43 212.242 Q2211.09 209.488 2215.68 204.858 Q2220.28 200.205 2221.46 198.863 Q2223.71 196.34 2224.59 194.604 Q2225.49 192.844 2225.49 191.155 Q2225.49 188.4 2223.55 186.664 Q2221.63 184.928 2218.52 184.928 Q2216.33 184.928 2213.87 185.692 Q2211.44 186.455 2208.66 188.006 L2208.66 183.284 Q2211.49 182.15 2213.94 181.571 Q2216.4 180.993 2218.43 180.993 Q2223.8 180.993 2227 183.678 Q2230.19 186.363 2230.19 190.854 Q2230.19 192.983 2229.38 194.905 Q2228.59 196.803 2226.49 199.395 Q2225.91 200.067 2222.81 203.284 Q2219.71 206.479 2214.06 212.242 Z\" fill=\"#000000\" fill-rule=\"evenodd\" fill-opacity=\"1\" /></svg>\n"
     },
     "execution_count": 17,
     "metadata": {
     },
     "output_type": "execute_result"
    }
   ],
   "source": [
    "@df stimmenstack violin(:variable, :value)\n",
    "@df stimmenstack boxplot!(:variable, :value, line = (2, :black), fill = (0.3, :orange))"
   ]
  },
  {
   "cell_type": "markdown",
   "metadata": {
    "collapsed": false
   },
   "source": [
    "### Orte/Stadtteile sortiert nach Stimmanteilen für bestimmte Parteien"
   ]
  },
  {
   "cell_type": "code",
   "execution_count": 12,
   "metadata": {
    "collapsed": false
   },
   "outputs": [
    {
     "data": {
      "text/html": [
       "<table class=\"data-frame\"><thead><tr><th></th><th>gebiet-name</th><th>FDP</th></tr><tr><th></th><th>String</th><th>Float64</th></tr></thead><tbody><p>65 rows × 2 columns</p><tr><th>1</th><td>STEINBACHTAL</td><td>0.169817</td></tr><tr><th>2</th><td>ALTSTADT</td><td>0.122755</td></tr><tr><th>3</th><td>FRAUENLAND</td><td>0.118353</td></tr><tr><th>4</th><td>Markt Gelchsheim</td><td>0.118151</td></tr><tr><th>5</th><td>Stadt Eibelstadt</td><td>0.1165</td></tr><tr><th>6</th><td>Gemeinde Waldbrunn</td><td>0.114271</td></tr><tr><th>7</th><td>ROTTENBAUER</td><td>0.113497</td></tr><tr><th>8</th><td>Markt Eisenheim</td><td>0.113413</td></tr><tr><th>9</th><td>LENGFELD</td><td>0.11125</td></tr><tr><th>10</th><td>Gemeinde Eisingen</td><td>0.111008</td></tr><tr><th>11</th><td>Markt Sommerhausen</td><td>0.110951</td></tr><tr><th>12</th><td>Gemeinde Geroldshausen</td><td>0.110112</td></tr><tr><th>13</th><td>Gemeinde Prosselsheim</td><td>0.109741</td></tr><tr><th>14</th><td>Gemeinde Rottendorf</td><td>0.108732</td></tr><tr><th>15</th><td>GROMBÜHL</td><td>0.1086</td></tr><tr><th>16</th><td>Gemeinde Kist</td><td>0.107371</td></tr><tr><th>17</th><td>Gemeinde Theilheim</td><td>0.107252</td></tr><tr><th>18</th><td>Markt Höchberg</td><td>0.107031</td></tr><tr><th>19</th><td>Markt Reichenberg</td><td>0.106769</td></tr><tr><th>20</th><td>SANDERAU</td><td>0.106517</td></tr><tr><th>21</th><td>Markt Giebelstadt</td><td>0.106316</td></tr><tr><th>22</th><td>Gemeinde Leinach</td><td>0.106294</td></tr><tr><th>23</th><td>Gemeinde Riedenheim</td><td>0.106115</td></tr><tr><th>24</th><td>Gemeinde Güntersleben</td><td>0.104702</td></tr><tr><th>25</th><td>Gemeinde Unterpleichfeld</td><td>0.103844</td></tr><tr><th>26</th><td>Stadt Aub</td><td>0.103627</td></tr><tr><th>27</th><td>Markt Rimpar</td><td>0.103591</td></tr><tr><th>28</th><td>Gemeinde Hettstadt</td><td>0.103421</td></tr><tr><th>29</th><td>DÜRRBACHTAL</td><td>0.102981</td></tr><tr><th>30</th><td>Gemeinde Oberpleichfeld</td><td>0.102228</td></tr><tr><th>&vellip;</th><td>&vellip;</td><td>&vellip;</td></tr></tbody></table>"
      ],
      "text/latex": [
       "\\begin{tabular}{r|cc}\n",
       "\t& gebiet-name & FDP\\\\\n",
       "\t\\hline\n",
       "\t& String & Float64\\\\\n",
       "\t\\hline\n",
       "\t1 & STEINBACHTAL & 0.169817 \\\\\n",
       "\t2 & ALTSTADT & 0.122755 \\\\\n",
       "\t3 & FRAUENLAND & 0.118353 \\\\\n",
       "\t4 & Markt Gelchsheim & 0.118151 \\\\\n",
       "\t5 & Stadt Eibelstadt & 0.1165 \\\\\n",
       "\t6 & Gemeinde Waldbrunn & 0.114271 \\\\\n",
       "\t7 & ROTTENBAUER & 0.113497 \\\\\n",
       "\t8 & Markt Eisenheim & 0.113413 \\\\\n",
       "\t9 & LENGFELD & 0.11125 \\\\\n",
       "\t10 & Gemeinde Eisingen & 0.111008 \\\\\n",
       "\t11 & Markt Sommerhausen & 0.110951 \\\\\n",
       "\t12 & Gemeinde Geroldshausen & 0.110112 \\\\\n",
       "\t13 & Gemeinde Prosselsheim & 0.109741 \\\\\n",
       "\t14 & Gemeinde Rottendorf & 0.108732 \\\\\n",
       "\t15 & GROMBÜHL & 0.1086 \\\\\n",
       "\t16 & Gemeinde Kist & 0.107371 \\\\\n",
       "\t17 & Gemeinde Theilheim & 0.107252 \\\\\n",
       "\t18 & Markt Höchberg & 0.107031 \\\\\n",
       "\t19 & Markt Reichenberg & 0.106769 \\\\\n",
       "\t20 & SANDERAU & 0.106517 \\\\\n",
       "\t21 & Markt Giebelstadt & 0.106316 \\\\\n",
       "\t22 & Gemeinde Leinach & 0.106294 \\\\\n",
       "\t23 & Gemeinde Riedenheim & 0.106115 \\\\\n",
       "\t24 & Gemeinde Güntersleben & 0.104702 \\\\\n",
       "\t25 & Gemeinde Unterpleichfeld & 0.103844 \\\\\n",
       "\t26 & Stadt Aub & 0.103627 \\\\\n",
       "\t27 & Markt Rimpar & 0.103591 \\\\\n",
       "\t28 & Gemeinde Hettstadt & 0.103421 \\\\\n",
       "\t29 & DÜRRBACHTAL & 0.102981 \\\\\n",
       "\t30 & Gemeinde Oberpleichfeld & 0.102228 \\\\\n",
       "\t$\\dots$ & $\\dots$ & $\\dots$ \\\\\n",
       "\\end{tabular}\n"
      ],
      "text/plain": [
       "65×2 DataFrame\n",
       "│ Row │ gebiet-name                │ FDP       │\n",
       "│     │ \u001b[90mString\u001b[39m                     │ \u001b[90mFloat64\u001b[39m   │\n",
       "├─────┼────────────────────────────┼───────────┤\n",
       "│ 1   │ STEINBACHTAL               │ 0.169817  │\n",
       "│ 2   │ ALTSTADT                   │ 0.122755  │\n",
       "│ 3   │ FRAUENLAND                 │ 0.118353  │\n",
       "│ 4   │ Markt Gelchsheim           │ 0.118151  │\n",
       "│ 5   │ Stadt Eibelstadt           │ 0.1165    │\n",
       "│ 6   │ Gemeinde Waldbrunn         │ 0.114271  │\n",
       "│ 7   │ ROTTENBAUER                │ 0.113497  │\n",
       "│ 8   │ Markt Eisenheim            │ 0.113413  │\n",
       "│ 9   │ LENGFELD                   │ 0.11125   │\n",
       "│ 10  │ Gemeinde Eisingen          │ 0.111008  │\n",
       "⋮\n",
       "│ 55  │ Gemeinde Thüngersheim      │ 0.0855057 │\n",
       "│ 56  │ ZELLERAU                   │ 0.0849663 │\n",
       "│ 57  │ Gemeinde Tauberrettersheim │ 0.0848896 │\n",
       "│ 58  │ Markt Frickenhausen a.Main │ 0.0833333 │\n",
       "│ 59  │ Gemeinde Sonderhofen       │ 0.0777958 │\n",
       "│ 60  │ Gemeinde Kirchheim         │ 0.0758483 │\n",
       "│ 61  │ Markt Winterhausen         │ 0.0738866 │\n",
       "│ 62  │ Gemeinde Bieberehren       │ 0.0721311 │\n",
       "│ 63  │ Gemeinde Erlabrunn         │ 0.0721078 │\n",
       "│ 64  │ Gemeinde Holzkirchen       │ 0.0645624 │\n",
       "│ 65  │ Gemeinde Altertheim        │ 0.0617647 │"
      ]
     },
     "execution_count": 12,
     "metadata": {
     },
     "output_type": "execute_result"
    }
   ],
   "source": [
    "sort(relative_stimmen, :FDP, rev=true)[:,[\"gebiet-name\",\"FDP\"]]"
   ]
  },
  {
   "cell_type": "code",
   "execution_count": 13,
   "metadata": {
    "collapsed": false
   },
   "outputs": [
    {
     "data": {
      "text/html": [
       "<table class=\"data-frame\"><thead><tr><th></th><th>gebiet-name</th><th>Grüne</th><th>FDP</th><th>CSU</th><th>AfD</th><th>SPD</th></tr><tr><th></th><th>String</th><th>Float64</th><th>Float64</th><th>Float64</th><th>Float64</th><th>Float64</th></tr></thead><tbody><p>65 rows × 6 columns</p><tr><th>1</th><td>ALTSTADT</td><td>0.34057</td><td>0.122755</td><td>0.186208</td><td>0.0380717</td><td>0.162024</td></tr><tr><th>2</th><td>GROMBÜHL</td><td>0.317244</td><td>0.1086</td><td>0.160816</td><td>0.0443177</td><td>0.185388</td></tr><tr><th>3</th><td>SANDERAU</td><td>0.31422</td><td>0.106517</td><td>0.212273</td><td>0.0360135</td><td>0.182896</td></tr><tr><th>4</th><td>FRAUENLAND</td><td>0.283005</td><td>0.118353</td><td>0.2406</td><td>0.0430677</td><td>0.179477</td></tr><tr><th>5</th><td>ZELLERAU</td><td>0.278028</td><td>0.0849663</td><td>0.188403</td><td>0.0631224</td><td>0.199165</td></tr><tr><th>6</th><td>STEINBACHTAL</td><td>0.253176</td><td>0.169817</td><td>0.29718</td><td>0.0393554</td><td>0.137279</td></tr><tr><th>7</th><td>Gemeinde Gerbrunn</td><td>0.225121</td><td>0.0987923</td><td>0.2657</td><td>0.0538647</td><td>0.211836</td></tr><tr><th>8</th><td>Markt Höchberg</td><td>0.21516</td><td>0.107031</td><td>0.299435</td><td>0.0477087</td><td>0.218927</td></tr><tr><th>9</th><td>Markt Zell a.Main</td><td>0.200373</td><td>0.1</td><td>0.278358</td><td>0.0697761</td><td>0.224254</td></tr><tr><th>10</th><td>VERSBACH</td><td>0.197802</td><td>0.101419</td><td>0.286401</td><td>0.0638736</td><td>0.215888</td></tr><tr><th>11</th><td>Gemeinde Margetshöchheim</td><td>0.195046</td><td>0.0937638</td><td>0.298983</td><td>0.0468819</td><td>0.242371</td></tr><tr><th>12</th><td>ROTTENBAUER</td><td>0.190951</td><td>0.113497</td><td>0.294862</td><td>0.0889571</td><td>0.189417</td></tr><tr><th>13</th><td>Gemeinde Erlabrunn</td><td>0.190174</td><td>0.0721078</td><td>0.36767</td><td>0.0388273</td><td>0.223455</td></tr><tr><th>14</th><td>DÜRRBACHTAL</td><td>0.182656</td><td>0.102981</td><td>0.318157</td><td>0.0655827</td><td>0.201626</td></tr><tr><th>15</th><td>LENGFELD</td><td>0.181988</td><td>0.11125</td><td>0.294328</td><td>0.068713</td><td>0.214709</td></tr><tr><th>16</th><td>HEIDINGSFELD</td><td>0.180991</td><td>0.0925177</td><td>0.301314</td><td>0.0682508</td><td>0.213684</td></tr><tr><th>17</th><td>Gemeinde Veitshöchheim</td><td>0.17832</td><td>0.101195</td><td>0.311118</td><td>0.0654986</td><td>0.221222</td></tr><tr><th>18</th><td>Markt Randersacker</td><td>0.177787</td><td>0.0996622</td><td>0.307432</td><td>0.0646115</td><td>0.208615</td></tr><tr><th>19</th><td>Stadt Eibelstadt</td><td>0.175431</td><td>0.1165</td><td>0.336809</td><td>0.0534905</td><td>0.207616</td></tr><tr><th>20</th><td>Markt Sommerhausen</td><td>0.174352</td><td>0.110951</td><td>0.376801</td><td>0.037464</td><td>0.20317</td></tr><tr><th>21</th><td>Markt Reichenberg</td><td>0.171668</td><td>0.106769</td><td>0.292045</td><td>0.0680391</td><td>0.216329</td></tr><tr><th>22</th><td>Gemeinde Kürnach</td><td>0.165966</td><td>0.0981393</td><td>0.365246</td><td>0.0486194</td><td>0.195978</td></tr><tr><th>23</th><td>Gemeinde Waldbüttelbrunn</td><td>0.164179</td><td>0.0947304</td><td>0.306732</td><td>0.0727993</td><td>0.240938</td></tr><tr><th>24</th><td>Gemeinde Thüngersheim</td><td>0.157977</td><td>0.0855057</td><td>0.308655</td><td>0.0474453</td><td>0.243483</td></tr><tr><th>25</th><td>Markt Winterhausen</td><td>0.15587</td><td>0.0738866</td><td>0.331984</td><td>0.0728745</td><td>0.223684</td></tr><tr><th>26</th><td>Gemeinde Eisingen</td><td>0.153275</td><td>0.111008</td><td>0.311194</td><td>0.0640966</td><td>0.228054</td></tr><tr><th>27</th><td>Gemeinde Estenfeld</td><td>0.152846</td><td>0.101355</td><td>0.365312</td><td>0.0533875</td><td>0.211924</td></tr><tr><th>28</th><td>Gemeinde Rottendorf</td><td>0.150167</td><td>0.108732</td><td>0.325918</td><td>0.0603448</td><td>0.227475</td></tr><tr><th>29</th><td>Gemeinde Geroldshausen</td><td>0.146067</td><td>0.110112</td><td>0.302247</td><td>0.0674157</td><td>0.231461</td></tr><tr><th>30</th><td>Gemeinde Waldbrunn</td><td>0.144778</td><td>0.114271</td><td>0.38211</td><td>0.0718718</td><td>0.163909</td></tr><tr><th>&vellip;</th><td>&vellip;</td><td>&vellip;</td><td>&vellip;</td><td>&vellip;</td><td>&vellip;</td><td>&vellip;</td></tr></tbody></table>"
      ],
      "text/latex": [
       "\\begin{tabular}{r|cccccc}\n",
       "\t& gebiet-name & Grüne & FDP & CSU & AfD & SPD\\\\\n",
       "\t\\hline\n",
       "\t& String & Float64 & Float64 & Float64 & Float64 & Float64\\\\\n",
       "\t\\hline\n",
       "\t1 & ALTSTADT & 0.34057 & 0.122755 & 0.186208 & 0.0380717 & 0.162024 \\\\\n",
       "\t2 & GROMBÜHL & 0.317244 & 0.1086 & 0.160816 & 0.0443177 & 0.185388 \\\\\n",
       "\t3 & SANDERAU & 0.31422 & 0.106517 & 0.212273 & 0.0360135 & 0.182896 \\\\\n",
       "\t4 & FRAUENLAND & 0.283005 & 0.118353 & 0.2406 & 0.0430677 & 0.179477 \\\\\n",
       "\t5 & ZELLERAU & 0.278028 & 0.0849663 & 0.188403 & 0.0631224 & 0.199165 \\\\\n",
       "\t6 & STEINBACHTAL & 0.253176 & 0.169817 & 0.29718 & 0.0393554 & 0.137279 \\\\\n",
       "\t7 & Gemeinde Gerbrunn & 0.225121 & 0.0987923 & 0.2657 & 0.0538647 & 0.211836 \\\\\n",
       "\t8 & Markt Höchberg & 0.21516 & 0.107031 & 0.299435 & 0.0477087 & 0.218927 \\\\\n",
       "\t9 & Markt Zell a.Main & 0.200373 & 0.1 & 0.278358 & 0.0697761 & 0.224254 \\\\\n",
       "\t10 & VERSBACH & 0.197802 & 0.101419 & 0.286401 & 0.0638736 & 0.215888 \\\\\n",
       "\t11 & Gemeinde Margetshöchheim & 0.195046 & 0.0937638 & 0.298983 & 0.0468819 & 0.242371 \\\\\n",
       "\t12 & ROTTENBAUER & 0.190951 & 0.113497 & 0.294862 & 0.0889571 & 0.189417 \\\\\n",
       "\t13 & Gemeinde Erlabrunn & 0.190174 & 0.0721078 & 0.36767 & 0.0388273 & 0.223455 \\\\\n",
       "\t14 & DÜRRBACHTAL & 0.182656 & 0.102981 & 0.318157 & 0.0655827 & 0.201626 \\\\\n",
       "\t15 & LENGFELD & 0.181988 & 0.11125 & 0.294328 & 0.068713 & 0.214709 \\\\\n",
       "\t16 & HEIDINGSFELD & 0.180991 & 0.0925177 & 0.301314 & 0.0682508 & 0.213684 \\\\\n",
       "\t17 & Gemeinde Veitshöchheim & 0.17832 & 0.101195 & 0.311118 & 0.0654986 & 0.221222 \\\\\n",
       "\t18 & Markt Randersacker & 0.177787 & 0.0996622 & 0.307432 & 0.0646115 & 0.208615 \\\\\n",
       "\t19 & Stadt Eibelstadt & 0.175431 & 0.1165 & 0.336809 & 0.0534905 & 0.207616 \\\\\n",
       "\t20 & Markt Sommerhausen & 0.174352 & 0.110951 & 0.376801 & 0.037464 & 0.20317 \\\\\n",
       "\t21 & Markt Reichenberg & 0.171668 & 0.106769 & 0.292045 & 0.0680391 & 0.216329 \\\\\n",
       "\t22 & Gemeinde Kürnach & 0.165966 & 0.0981393 & 0.365246 & 0.0486194 & 0.195978 \\\\\n",
       "\t23 & Gemeinde Waldbüttelbrunn & 0.164179 & 0.0947304 & 0.306732 & 0.0727993 & 0.240938 \\\\\n",
       "\t24 & Gemeinde Thüngersheim & 0.157977 & 0.0855057 & 0.308655 & 0.0474453 & 0.243483 \\\\\n",
       "\t25 & Markt Winterhausen & 0.15587 & 0.0738866 & 0.331984 & 0.0728745 & 0.223684 \\\\\n",
       "\t26 & Gemeinde Eisingen & 0.153275 & 0.111008 & 0.311194 & 0.0640966 & 0.228054 \\\\\n",
       "\t27 & Gemeinde Estenfeld & 0.152846 & 0.101355 & 0.365312 & 0.0533875 & 0.211924 \\\\\n",
       "\t28 & Gemeinde Rottendorf & 0.150167 & 0.108732 & 0.325918 & 0.0603448 & 0.227475 \\\\\n",
       "\t29 & Gemeinde Geroldshausen & 0.146067 & 0.110112 & 0.302247 & 0.0674157 & 0.231461 \\\\\n",
       "\t30 & Gemeinde Waldbrunn & 0.144778 & 0.114271 & 0.38211 & 0.0718718 & 0.163909 \\\\\n",
       "\t$\\dots$ & $\\dots$ & $\\dots$ & $\\dots$ & $\\dots$ & $\\dots$ & $\\dots$ \\\\\n",
       "\\end{tabular}\n"
      ],
      "text/plain": [
       "65×6 DataFrame. Omitted printing of 2 columns\n",
       "│ Row │ gebiet-name                │ Grüne     │ FDP       │ CSU      │\n",
       "│     │ \u001b[90mString\u001b[39m                     │ \u001b[90mFloat64\u001b[39m   │ \u001b[90mFloat64\u001b[39m   │ \u001b[90mFloat64\u001b[39m  │\n",
       "├─────┼────────────────────────────┼───────────┼───────────┼──────────┤\n",
       "│ 1   │ ALTSTADT                   │ 0.34057   │ 0.122755  │ 0.186208 │\n",
       "│ 2   │ GROMBÜHL                   │ 0.317244  │ 0.1086    │ 0.160816 │\n",
       "│ 3   │ SANDERAU                   │ 0.31422   │ 0.106517  │ 0.212273 │\n",
       "│ 4   │ FRAUENLAND                 │ 0.283005  │ 0.118353  │ 0.2406   │\n",
       "│ 5   │ ZELLERAU                   │ 0.278028  │ 0.0849663 │ 0.188403 │\n",
       "│ 6   │ STEINBACHTAL               │ 0.253176  │ 0.169817  │ 0.29718  │\n",
       "│ 7   │ Gemeinde Gerbrunn          │ 0.225121  │ 0.0987923 │ 0.2657   │\n",
       "│ 8   │ Markt Höchberg             │ 0.21516   │ 0.107031  │ 0.299435 │\n",
       "│ 9   │ Markt Zell a.Main          │ 0.200373  │ 0.1       │ 0.278358 │\n",
       "│ 10  │ VERSBACH                   │ 0.197802  │ 0.101419  │ 0.286401 │\n",
       "⋮\n",
       "│ 55  │ Markt Frickenhausen a.Main │ 0.0992647 │ 0.0833333 │ 0.38848  │\n",
       "│ 56  │ Gemeinde Bieberehren       │ 0.0983607 │ 0.0721311 │ 0.42459  │\n",
       "│ 57  │ Gemeinde Holzkirchen       │ 0.097561  │ 0.0645624 │ 0.411765 │\n",
       "│ 58  │ Gemeinde Kleinrinderfeld   │ 0.0959821 │ 0.0922619 │ 0.298363 │\n",
       "│ 59  │ Gemeinde Kist              │ 0.0934417 │ 0.107371  │ 0.319211 │\n",
       "│ 60  │ Gemeinde Tauberrettersheim │ 0.0882852 │ 0.0848896 │ 0.44652  │\n",
       "│ 61  │ Gemeinde Prosselsheim      │ 0.0838471 │ 0.109741  │ 0.393342 │\n",
       "│ 62  │ Gemeinde Oberpleichfeld    │ 0.0799476 │ 0.102228  │ 0.411533 │\n",
       "│ 63  │ Markt Gelchsheim           │ 0.0719178 │ 0.118151  │ 0.414384 │\n",
       "│ 64  │ Gemeinde Sonderhofen       │ 0.0696921 │ 0.0777958 │ 0.495948 │\n",
       "│ 65  │ Gemeinde Riedenheim        │ 0.044964  │ 0.106115  │ 0.422662 │"
      ]
     },
     "execution_count": 13,
     "metadata": {
     },
     "output_type": "execute_result"
    }
   ],
   "source": [
    "sort(relative_stimmen, :Grüne, rev=true)[:,[\"gebiet-name\",\"Grüne\",\"FDP\",\"CSU\",\"AfD\",\"SPD\"]]"
   ]
  },
  {
   "cell_type": "code",
   "execution_count": 14,
   "metadata": {
    "collapsed": false
   },
   "outputs": [
    {
     "data": {
      "text/html": [
       "<table class=\"data-frame\"><thead><tr><th></th><th>gebiet-name</th><th>AfD</th><th>Grüne</th><th>FDP</th><th>CSU</th><th>SPD</th></tr><tr><th></th><th>String</th><th>Float64</th><th>Float64</th><th>Float64</th><th>Float64</th><th>Float64</th></tr></thead><tbody><p>65 rows × 6 columns</p><tr><th>1</th><td>HEUCHELHOF</td><td>0.150315</td><td>0.131671</td><td>0.0990445</td><td>0.2969</td><td>0.199487</td></tr><tr><th>2</th><td>Gemeinde Riedenheim</td><td>0.140288</td><td>0.044964</td><td>0.106115</td><td>0.422662</td><td>0.122302</td></tr><tr><th>3</th><td>LINDLEINSMÜHLE</td><td>0.129229</td><td>0.119831</td><td>0.0864662</td><td>0.303571</td><td>0.232143</td></tr><tr><th>4</th><td>Markt Giebelstadt</td><td>0.117261</td><td>0.102251</td><td>0.106316</td><td>0.350844</td><td>0.175109</td></tr><tr><th>5</th><td>Gemeinde Oberpleichfeld</td><td>0.110092</td><td>0.0799476</td><td>0.102228</td><td>0.411533</td><td>0.145478</td></tr><tr><th>6</th><td>Markt Neubrunn</td><td>0.109673</td><td>0.115804</td><td>0.0865123</td><td>0.385559</td><td>0.166894</td></tr><tr><th>7</th><td>Gemeinde Tauberrettersheim</td><td>0.103565</td><td>0.0882852</td><td>0.0848896</td><td>0.44652</td><td>0.140917</td></tr><tr><th>8</th><td>Gemeinde Kist</td><td>0.0946024</td><td>0.0934417</td><td>0.107371</td><td>0.319211</td><td>0.253627</td></tr><tr><th>9</th><td>Gemeinde Theilheim</td><td>0.0920171</td><td>0.125533</td><td>0.107252</td><td>0.369896</td><td>0.190737</td></tr><tr><th>10</th><td>Markt Remlingen</td><td>0.0917073</td><td>0.138537</td><td>0.0868293</td><td>0.308293</td><td>0.195122</td></tr><tr><th>11</th><td>Gemeinde Sonderhofen</td><td>0.0907618</td><td>0.0696921</td><td>0.0777958</td><td>0.495948</td><td>0.128039</td></tr><tr><th>12</th><td>Stadt Röttingen</td><td>0.0900819</td><td>0.102821</td><td>0.0855323</td><td>0.434031</td><td>0.140127</td></tr><tr><th>13</th><td>ROTTENBAUER</td><td>0.0889571</td><td>0.190951</td><td>0.113497</td><td>0.294862</td><td>0.189417</td></tr><tr><th>14</th><td>Markt Frickenhausen a.Main</td><td>0.0882353</td><td>0.0992647</td><td>0.0833333</td><td>0.38848</td><td>0.231618</td></tr><tr><th>15</th><td>Gemeinde Uettingen</td><td>0.0860927</td><td>0.112583</td><td>0.0918874</td><td>0.313742</td><td>0.221854</td></tr><tr><th>16</th><td>Stadt Ochsenfurt</td><td>0.0833577</td><td>0.12255</td><td>0.0911085</td><td>0.344399</td><td>0.228868</td></tr><tr><th>17</th><td>Gemeinde Hausen b. Würzburg</td><td>0.0827988</td><td>0.117784</td><td>0.0857143</td><td>0.406414</td><td>0.159767</td></tr><tr><th>18</th><td>Gemeinde Kleinrinderfeld</td><td>0.0825893</td><td>0.0959821</td><td>0.0922619</td><td>0.298363</td><td>0.285714</td></tr><tr><th>19</th><td>Markt Helmstadt</td><td>0.0820896</td><td>0.102345</td><td>0.0884861</td><td>0.417377</td><td>0.134328</td></tr><tr><th>20</th><td>Markt Bütthard</td><td>0.0813824</td><td>0.103679</td><td>0.0981048</td><td>0.441472</td><td>0.125975</td></tr><tr><th>21</th><td>Gemeinde Greußenheim</td><td>0.0794473</td><td>0.100173</td><td>0.0949914</td><td>0.368739</td><td>0.175302</td></tr><tr><th>22</th><td>Gemeinde Altertheim</td><td>0.0772059</td><td>0.133824</td><td>0.0617647</td><td>0.325735</td><td>0.250735</td></tr><tr><th>23</th><td>Gemeinde Bieberehren</td><td>0.0770492</td><td>0.0983607</td><td>0.0721311</td><td>0.42459</td><td>0.172131</td></tr><tr><th>24</th><td>Gemeinde Güntersleben</td><td>0.0756919</td><td>0.125709</td><td>0.104702</td><td>0.305769</td><td>0.272091</td></tr><tr><th>25</th><td>Gemeinde Prosselsheim</td><td>0.0752158</td><td>0.0838471</td><td>0.109741</td><td>0.393342</td><td>0.162762</td></tr><tr><th>26</th><td>Gemeinde Gaukönigshofen</td><td>0.0738832</td><td>0.105956</td><td>0.100229</td><td>0.469072</td><td>0.124284</td></tr><tr><th>27</th><td>Gemeinde Kirchheim</td><td>0.0738523</td><td>0.123752</td><td>0.0758483</td><td>0.367265</td><td>0.23819</td></tr><tr><th>28</th><td>Markt Gelchsheim</td><td>0.0736301</td><td>0.0719178</td><td>0.118151</td><td>0.414384</td><td>0.143836</td></tr><tr><th>29</th><td>Gemeinde Holzkirchen</td><td>0.0731707</td><td>0.097561</td><td>0.0645624</td><td>0.411765</td><td>0.2066</td></tr><tr><th>30</th><td>Markt Winterhausen</td><td>0.0728745</td><td>0.15587</td><td>0.0738866</td><td>0.331984</td><td>0.223684</td></tr><tr><th>&vellip;</th><td>&vellip;</td><td>&vellip;</td><td>&vellip;</td><td>&vellip;</td><td>&vellip;</td><td>&vellip;</td></tr></tbody></table>"
      ],
      "text/latex": [
       "\\begin{tabular}{r|cccccc}\n",
       "\t& gebiet-name & AfD & Grüne & FDP & CSU & SPD\\\\\n",
       "\t\\hline\n",
       "\t& String & Float64 & Float64 & Float64 & Float64 & Float64\\\\\n",
       "\t\\hline\n",
       "\t1 & HEUCHELHOF & 0.150315 & 0.131671 & 0.0990445 & 0.2969 & 0.199487 \\\\\n",
       "\t2 & Gemeinde Riedenheim & 0.140288 & 0.044964 & 0.106115 & 0.422662 & 0.122302 \\\\\n",
       "\t3 & LINDLEINSMÜHLE & 0.129229 & 0.119831 & 0.0864662 & 0.303571 & 0.232143 \\\\\n",
       "\t4 & Markt Giebelstadt & 0.117261 & 0.102251 & 0.106316 & 0.350844 & 0.175109 \\\\\n",
       "\t5 & Gemeinde Oberpleichfeld & 0.110092 & 0.0799476 & 0.102228 & 0.411533 & 0.145478 \\\\\n",
       "\t6 & Markt Neubrunn & 0.109673 & 0.115804 & 0.0865123 & 0.385559 & 0.166894 \\\\\n",
       "\t7 & Gemeinde Tauberrettersheim & 0.103565 & 0.0882852 & 0.0848896 & 0.44652 & 0.140917 \\\\\n",
       "\t8 & Gemeinde Kist & 0.0946024 & 0.0934417 & 0.107371 & 0.319211 & 0.253627 \\\\\n",
       "\t9 & Gemeinde Theilheim & 0.0920171 & 0.125533 & 0.107252 & 0.369896 & 0.190737 \\\\\n",
       "\t10 & Markt Remlingen & 0.0917073 & 0.138537 & 0.0868293 & 0.308293 & 0.195122 \\\\\n",
       "\t11 & Gemeinde Sonderhofen & 0.0907618 & 0.0696921 & 0.0777958 & 0.495948 & 0.128039 \\\\\n",
       "\t12 & Stadt Röttingen & 0.0900819 & 0.102821 & 0.0855323 & 0.434031 & 0.140127 \\\\\n",
       "\t13 & ROTTENBAUER & 0.0889571 & 0.190951 & 0.113497 & 0.294862 & 0.189417 \\\\\n",
       "\t14 & Markt Frickenhausen a.Main & 0.0882353 & 0.0992647 & 0.0833333 & 0.38848 & 0.231618 \\\\\n",
       "\t15 & Gemeinde Uettingen & 0.0860927 & 0.112583 & 0.0918874 & 0.313742 & 0.221854 \\\\\n",
       "\t16 & Stadt Ochsenfurt & 0.0833577 & 0.12255 & 0.0911085 & 0.344399 & 0.228868 \\\\\n",
       "\t17 & Gemeinde Hausen b. Würzburg & 0.0827988 & 0.117784 & 0.0857143 & 0.406414 & 0.159767 \\\\\n",
       "\t18 & Gemeinde Kleinrinderfeld & 0.0825893 & 0.0959821 & 0.0922619 & 0.298363 & 0.285714 \\\\\n",
       "\t19 & Markt Helmstadt & 0.0820896 & 0.102345 & 0.0884861 & 0.417377 & 0.134328 \\\\\n",
       "\t20 & Markt Bütthard & 0.0813824 & 0.103679 & 0.0981048 & 0.441472 & 0.125975 \\\\\n",
       "\t21 & Gemeinde Greußenheim & 0.0794473 & 0.100173 & 0.0949914 & 0.368739 & 0.175302 \\\\\n",
       "\t22 & Gemeinde Altertheim & 0.0772059 & 0.133824 & 0.0617647 & 0.325735 & 0.250735 \\\\\n",
       "\t23 & Gemeinde Bieberehren & 0.0770492 & 0.0983607 & 0.0721311 & 0.42459 & 0.172131 \\\\\n",
       "\t24 & Gemeinde Güntersleben & 0.0756919 & 0.125709 & 0.104702 & 0.305769 & 0.272091 \\\\\n",
       "\t25 & Gemeinde Prosselsheim & 0.0752158 & 0.0838471 & 0.109741 & 0.393342 & 0.162762 \\\\\n",
       "\t26 & Gemeinde Gaukönigshofen & 0.0738832 & 0.105956 & 0.100229 & 0.469072 & 0.124284 \\\\\n",
       "\t27 & Gemeinde Kirchheim & 0.0738523 & 0.123752 & 0.0758483 & 0.367265 & 0.23819 \\\\\n",
       "\t28 & Markt Gelchsheim & 0.0736301 & 0.0719178 & 0.118151 & 0.414384 & 0.143836 \\\\\n",
       "\t29 & Gemeinde Holzkirchen & 0.0731707 & 0.097561 & 0.0645624 & 0.411765 & 0.2066 \\\\\n",
       "\t30 & Markt Winterhausen & 0.0728745 & 0.15587 & 0.0738866 & 0.331984 & 0.223684 \\\\\n",
       "\t$\\dots$ & $\\dots$ & $\\dots$ & $\\dots$ & $\\dots$ & $\\dots$ & $\\dots$ \\\\\n",
       "\\end{tabular}\n"
      ],
      "text/plain": [
       "65×6 DataFrame. Omitted printing of 2 columns\n",
       "│ Row │ gebiet-name                │ AfD       │ Grüne     │ FDP       │\n",
       "│     │ \u001b[90mString\u001b[39m                     │ \u001b[90mFloat64\u001b[39m   │ \u001b[90mFloat64\u001b[39m   │ \u001b[90mFloat64\u001b[39m   │\n",
       "├─────┼────────────────────────────┼───────────┼───────────┼───────────┤\n",
       "│ 1   │ HEUCHELHOF                 │ 0.150315  │ 0.131671  │ 0.0990445 │\n",
       "│ 2   │ Gemeinde Riedenheim        │ 0.140288  │ 0.044964  │ 0.106115  │\n",
       "│ 3   │ LINDLEINSMÜHLE             │ 0.129229  │ 0.119831  │ 0.0864662 │\n",
       "│ 4   │ Markt Giebelstadt          │ 0.117261  │ 0.102251  │ 0.106316  │\n",
       "│ 5   │ Gemeinde Oberpleichfeld    │ 0.110092  │ 0.0799476 │ 0.102228  │\n",
       "│ 6   │ Markt Neubrunn             │ 0.109673  │ 0.115804  │ 0.0865123 │\n",
       "│ 7   │ Gemeinde Tauberrettersheim │ 0.103565  │ 0.0882852 │ 0.0848896 │\n",
       "│ 8   │ Gemeinde Kist              │ 0.0946024 │ 0.0934417 │ 0.107371  │\n",
       "│ 9   │ Gemeinde Theilheim         │ 0.0920171 │ 0.125533  │ 0.107252  │\n",
       "│ 10  │ Markt Remlingen            │ 0.0917073 │ 0.138537  │ 0.0868293 │\n",
       "⋮\n",
       "│ 55  │ Gemeinde Kürnach           │ 0.0486194 │ 0.165966  │ 0.0981393 │\n",
       "│ 56  │ Markt Höchberg             │ 0.0477087 │ 0.21516   │ 0.107031  │\n",
       "│ 57  │ Gemeinde Thüngersheim      │ 0.0474453 │ 0.157977  │ 0.0855057 │\n",
       "│ 58  │ Gemeinde Margetshöchheim   │ 0.0468819 │ 0.195046  │ 0.0937638 │\n",
       "│ 59  │ GROMBÜHL                   │ 0.0443177 │ 0.317244  │ 0.1086    │\n",
       "│ 60  │ FRAUENLAND                 │ 0.0430677 │ 0.283005  │ 0.118353  │\n",
       "│ 61  │ STEINBACHTAL               │ 0.0393554 │ 0.253176  │ 0.169817  │\n",
       "│ 62  │ Gemeinde Erlabrunn         │ 0.0388273 │ 0.190174  │ 0.0721078 │\n",
       "│ 63  │ ALTSTADT                   │ 0.0380717 │ 0.34057   │ 0.122755  │\n",
       "│ 64  │ Markt Sommerhausen         │ 0.037464  │ 0.174352  │ 0.110951  │\n",
       "│ 65  │ SANDERAU                   │ 0.0360135 │ 0.31422   │ 0.106517  │"
      ]
     },
     "execution_count": 14,
     "metadata": {
     },
     "output_type": "execute_result"
    }
   ],
   "source": [
    "sort(relative_stimmen, :AfD, rev=true)[:,[\"gebiet-name\",\"AfD\",\"Grüne\",\"FDP\",\"CSU\",\"SPD\"]]"
   ]
  },
  {
   "cell_type": "code",
   "execution_count": 15,
   "metadata": {
    "collapsed": false
   },
   "outputs": [
    {
     "data": {
      "text/html": [
       "<table class=\"data-frame\"><thead><tr><th></th><th>gebiet-name</th><th>CSU</th><th>Grüne</th><th>FDP</th><th>AfD</th><th>SPD</th></tr><tr><th></th><th>String</th><th>Float64</th><th>Float64</th><th>Float64</th><th>Float64</th><th>Float64</th></tr></thead><tbody><p>65 rows × 6 columns</p><tr><th>1</th><td>GROMBÜHL</td><td>0.160816</td><td>0.317244</td><td>0.1086</td><td>0.0443177</td><td>0.185388</td></tr><tr><th>2</th><td>ALTSTADT</td><td>0.186208</td><td>0.34057</td><td>0.122755</td><td>0.0380717</td><td>0.162024</td></tr><tr><th>3</th><td>ZELLERAU</td><td>0.188403</td><td>0.278028</td><td>0.0849663</td><td>0.0631224</td><td>0.199165</td></tr><tr><th>4</th><td>SANDERAU</td><td>0.212273</td><td>0.31422</td><td>0.106517</td><td>0.0360135</td><td>0.182896</td></tr><tr><th>5</th><td>FRAUENLAND</td><td>0.2406</td><td>0.283005</td><td>0.118353</td><td>0.0430677</td><td>0.179477</td></tr><tr><th>6</th><td>Gemeinde Gerbrunn</td><td>0.2657</td><td>0.225121</td><td>0.0987923</td><td>0.0538647</td><td>0.211836</td></tr><tr><th>7</th><td>Markt Zell a.Main</td><td>0.278358</td><td>0.200373</td><td>0.1</td><td>0.0697761</td><td>0.224254</td></tr><tr><th>8</th><td>VERSBACH</td><td>0.286401</td><td>0.197802</td><td>0.101419</td><td>0.0638736</td><td>0.215888</td></tr><tr><th>9</th><td>Markt Reichenberg</td><td>0.292045</td><td>0.171668</td><td>0.106769</td><td>0.0680391</td><td>0.216329</td></tr><tr><th>10</th><td>LENGFELD</td><td>0.294328</td><td>0.181988</td><td>0.11125</td><td>0.068713</td><td>0.214709</td></tr><tr><th>11</th><td>ROTTENBAUER</td><td>0.294862</td><td>0.190951</td><td>0.113497</td><td>0.0889571</td><td>0.189417</td></tr><tr><th>12</th><td>HEUCHELHOF</td><td>0.2969</td><td>0.131671</td><td>0.0990445</td><td>0.150315</td><td>0.199487</td></tr><tr><th>13</th><td>STEINBACHTAL</td><td>0.29718</td><td>0.253176</td><td>0.169817</td><td>0.0393554</td><td>0.137279</td></tr><tr><th>14</th><td>Gemeinde Kleinrinderfeld</td><td>0.298363</td><td>0.0959821</td><td>0.0922619</td><td>0.0825893</td><td>0.285714</td></tr><tr><th>15</th><td>Gemeinde Margetshöchheim</td><td>0.298983</td><td>0.195046</td><td>0.0937638</td><td>0.0468819</td><td>0.242371</td></tr><tr><th>16</th><td>Markt Höchberg</td><td>0.299435</td><td>0.21516</td><td>0.107031</td><td>0.0477087</td><td>0.218927</td></tr><tr><th>17</th><td>HEIDINGSFELD</td><td>0.301314</td><td>0.180991</td><td>0.0925177</td><td>0.0682508</td><td>0.213684</td></tr><tr><th>18</th><td>Gemeinde Geroldshausen</td><td>0.302247</td><td>0.146067</td><td>0.110112</td><td>0.0674157</td><td>0.231461</td></tr><tr><th>19</th><td>LINDLEINSMÜHLE</td><td>0.303571</td><td>0.119831</td><td>0.0864662</td><td>0.129229</td><td>0.232143</td></tr><tr><th>20</th><td>Gemeinde Güntersleben</td><td>0.305769</td><td>0.125709</td><td>0.104702</td><td>0.0756919</td><td>0.272091</td></tr><tr><th>21</th><td>Gemeinde Waldbüttelbrunn</td><td>0.306732</td><td>0.164179</td><td>0.0947304</td><td>0.0727993</td><td>0.240938</td></tr><tr><th>22</th><td>Markt Randersacker</td><td>0.307432</td><td>0.177787</td><td>0.0996622</td><td>0.0646115</td><td>0.208615</td></tr><tr><th>23</th><td>Markt Remlingen</td><td>0.308293</td><td>0.138537</td><td>0.0868293</td><td>0.0917073</td><td>0.195122</td></tr><tr><th>24</th><td>Gemeinde Thüngersheim</td><td>0.308655</td><td>0.157977</td><td>0.0855057</td><td>0.0474453</td><td>0.243483</td></tr><tr><th>25</th><td>Gemeinde Veitshöchheim</td><td>0.311118</td><td>0.17832</td><td>0.101195</td><td>0.0654986</td><td>0.221222</td></tr><tr><th>26</th><td>Gemeinde Eisingen</td><td>0.311194</td><td>0.153275</td><td>0.111008</td><td>0.0640966</td><td>0.228054</td></tr><tr><th>27</th><td>Gemeinde Uettingen</td><td>0.313742</td><td>0.112583</td><td>0.0918874</td><td>0.0860927</td><td>0.221854</td></tr><tr><th>28</th><td>DÜRRBACHTAL</td><td>0.318157</td><td>0.182656</td><td>0.102981</td><td>0.0655827</td><td>0.201626</td></tr><tr><th>29</th><td>Gemeinde Kist</td><td>0.319211</td><td>0.0934417</td><td>0.107371</td><td>0.0946024</td><td>0.253627</td></tr><tr><th>30</th><td>Gemeinde Altertheim</td><td>0.325735</td><td>0.133824</td><td>0.0617647</td><td>0.0772059</td><td>0.250735</td></tr><tr><th>&vellip;</th><td>&vellip;</td><td>&vellip;</td><td>&vellip;</td><td>&vellip;</td><td>&vellip;</td><td>&vellip;</td></tr></tbody></table>"
      ],
      "text/latex": [
       "\\begin{tabular}{r|cccccc}\n",
       "\t& gebiet-name & CSU & Grüne & FDP & AfD & SPD\\\\\n",
       "\t\\hline\n",
       "\t& String & Float64 & Float64 & Float64 & Float64 & Float64\\\\\n",
       "\t\\hline\n",
       "\t1 & GROMBÜHL & 0.160816 & 0.317244 & 0.1086 & 0.0443177 & 0.185388 \\\\\n",
       "\t2 & ALTSTADT & 0.186208 & 0.34057 & 0.122755 & 0.0380717 & 0.162024 \\\\\n",
       "\t3 & ZELLERAU & 0.188403 & 0.278028 & 0.0849663 & 0.0631224 & 0.199165 \\\\\n",
       "\t4 & SANDERAU & 0.212273 & 0.31422 & 0.106517 & 0.0360135 & 0.182896 \\\\\n",
       "\t5 & FRAUENLAND & 0.2406 & 0.283005 & 0.118353 & 0.0430677 & 0.179477 \\\\\n",
       "\t6 & Gemeinde Gerbrunn & 0.2657 & 0.225121 & 0.0987923 & 0.0538647 & 0.211836 \\\\\n",
       "\t7 & Markt Zell a.Main & 0.278358 & 0.200373 & 0.1 & 0.0697761 & 0.224254 \\\\\n",
       "\t8 & VERSBACH & 0.286401 & 0.197802 & 0.101419 & 0.0638736 & 0.215888 \\\\\n",
       "\t9 & Markt Reichenberg & 0.292045 & 0.171668 & 0.106769 & 0.0680391 & 0.216329 \\\\\n",
       "\t10 & LENGFELD & 0.294328 & 0.181988 & 0.11125 & 0.068713 & 0.214709 \\\\\n",
       "\t11 & ROTTENBAUER & 0.294862 & 0.190951 & 0.113497 & 0.0889571 & 0.189417 \\\\\n",
       "\t12 & HEUCHELHOF & 0.2969 & 0.131671 & 0.0990445 & 0.150315 & 0.199487 \\\\\n",
       "\t13 & STEINBACHTAL & 0.29718 & 0.253176 & 0.169817 & 0.0393554 & 0.137279 \\\\\n",
       "\t14 & Gemeinde Kleinrinderfeld & 0.298363 & 0.0959821 & 0.0922619 & 0.0825893 & 0.285714 \\\\\n",
       "\t15 & Gemeinde Margetshöchheim & 0.298983 & 0.195046 & 0.0937638 & 0.0468819 & 0.242371 \\\\\n",
       "\t16 & Markt Höchberg & 0.299435 & 0.21516 & 0.107031 & 0.0477087 & 0.218927 \\\\\n",
       "\t17 & HEIDINGSFELD & 0.301314 & 0.180991 & 0.0925177 & 0.0682508 & 0.213684 \\\\\n",
       "\t18 & Gemeinde Geroldshausen & 0.302247 & 0.146067 & 0.110112 & 0.0674157 & 0.231461 \\\\\n",
       "\t19 & LINDLEINSMÜHLE & 0.303571 & 0.119831 & 0.0864662 & 0.129229 & 0.232143 \\\\\n",
       "\t20 & Gemeinde Güntersleben & 0.305769 & 0.125709 & 0.104702 & 0.0756919 & 0.272091 \\\\\n",
       "\t21 & Gemeinde Waldbüttelbrunn & 0.306732 & 0.164179 & 0.0947304 & 0.0727993 & 0.240938 \\\\\n",
       "\t22 & Markt Randersacker & 0.307432 & 0.177787 & 0.0996622 & 0.0646115 & 0.208615 \\\\\n",
       "\t23 & Markt Remlingen & 0.308293 & 0.138537 & 0.0868293 & 0.0917073 & 0.195122 \\\\\n",
       "\t24 & Gemeinde Thüngersheim & 0.308655 & 0.157977 & 0.0855057 & 0.0474453 & 0.243483 \\\\\n",
       "\t25 & Gemeinde Veitshöchheim & 0.311118 & 0.17832 & 0.101195 & 0.0654986 & 0.221222 \\\\\n",
       "\t26 & Gemeinde Eisingen & 0.311194 & 0.153275 & 0.111008 & 0.0640966 & 0.228054 \\\\\n",
       "\t27 & Gemeinde Uettingen & 0.313742 & 0.112583 & 0.0918874 & 0.0860927 & 0.221854 \\\\\n",
       "\t28 & DÜRRBACHTAL & 0.318157 & 0.182656 & 0.102981 & 0.0655827 & 0.201626 \\\\\n",
       "\t29 & Gemeinde Kist & 0.319211 & 0.0934417 & 0.107371 & 0.0946024 & 0.253627 \\\\\n",
       "\t30 & Gemeinde Altertheim & 0.325735 & 0.133824 & 0.0617647 & 0.0772059 & 0.250735 \\\\\n",
       "\t$\\dots$ & $\\dots$ & $\\dots$ & $\\dots$ & $\\dots$ & $\\dots$ & $\\dots$ \\\\\n",
       "\\end{tabular}\n"
      ],
      "text/plain": [
       "65×6 DataFrame. Omitted printing of 2 columns\n",
       "│ Row │ gebiet-name                │ CSU      │ Grüne     │ FDP       │\n",
       "│     │ \u001b[90mString\u001b[39m                     │ \u001b[90mFloat64\u001b[39m  │ \u001b[90mFloat64\u001b[39m   │ \u001b[90mFloat64\u001b[39m   │\n",
       "├─────┼────────────────────────────┼──────────┼───────────┼───────────┤\n",
       "│ 1   │ GROMBÜHL                   │ 0.160816 │ 0.317244  │ 0.1086    │\n",
       "│ 2   │ ALTSTADT                   │ 0.186208 │ 0.34057   │ 0.122755  │\n",
       "│ 3   │ ZELLERAU                   │ 0.188403 │ 0.278028  │ 0.0849663 │\n",
       "│ 4   │ SANDERAU                   │ 0.212273 │ 0.31422   │ 0.106517  │\n",
       "│ 5   │ FRAUENLAND                 │ 0.2406   │ 0.283005  │ 0.118353  │\n",
       "│ 6   │ Gemeinde Gerbrunn          │ 0.2657   │ 0.225121  │ 0.0987923 │\n",
       "│ 7   │ Markt Zell a.Main          │ 0.278358 │ 0.200373  │ 0.1       │\n",
       "│ 8   │ VERSBACH                   │ 0.286401 │ 0.197802  │ 0.101419  │\n",
       "│ 9   │ Markt Reichenberg          │ 0.292045 │ 0.171668  │ 0.106769  │\n",
       "│ 10  │ LENGFELD                   │ 0.294328 │ 0.181988  │ 0.11125   │\n",
       "⋮\n",
       "│ 55  │ Gemeinde Holzkirchen       │ 0.411765 │ 0.097561  │ 0.0645624 │\n",
       "│ 56  │ Markt Gelchsheim           │ 0.414384 │ 0.0719178 │ 0.118151  │\n",
       "│ 57  │ Markt Helmstadt            │ 0.417377 │ 0.102345  │ 0.0884861 │\n",
       "│ 58  │ Stadt Aub                  │ 0.417617 │ 0.11399   │ 0.103627  │\n",
       "│ 59  │ Gemeinde Riedenheim        │ 0.422662 │ 0.044964  │ 0.106115  │\n",
       "│ 60  │ Gemeinde Bieberehren       │ 0.42459  │ 0.0983607 │ 0.0721311 │\n",
       "│ 61  │ Stadt Röttingen            │ 0.434031 │ 0.102821  │ 0.0855323 │\n",
       "│ 62  │ Markt Bütthard             │ 0.441472 │ 0.103679  │ 0.0981048 │\n",
       "│ 63  │ Gemeinde Tauberrettersheim │ 0.44652  │ 0.0882852 │ 0.0848896 │\n",
       "│ 64  │ Gemeinde Gaukönigshofen    │ 0.469072 │ 0.105956  │ 0.100229  │\n",
       "│ 65  │ Gemeinde Sonderhofen       │ 0.495948 │ 0.0696921 │ 0.0777958 │"
      ]
     },
     "execution_count": 15,
     "metadata": {
     },
     "output_type": "execute_result"
    }
   ],
   "source": [
    "sort(relative_stimmen, :CSU)[:,[\"gebiet-name\",\"CSU\",\"Grüne\",\"FDP\",\"AfD\",\"SPD\"]]"
   ]
  },
  {
   "cell_type": "code",
   "execution_count": 16,
   "metadata": {
    "collapsed": false
   },
   "outputs": [
    {
     "data": {
      "text/html": [
       "<table class=\"data-frame\"><thead><tr><th></th><th>gebiet-name</th><th>Linke</th><th>CSU</th><th>Grüne</th><th>FDP</th><th>AfD</th></tr><tr><th></th><th>String</th><th>Float64</th><th>Float64</th><th>Float64</th><th>Float64</th><th>Float64</th></tr></thead><tbody><p>65 rows × 7 columns (omitted printing of 1 columns)</p><tr><th>1</th><td>ZELLERAU</td><td>0.0868937</td><td>0.188403</td><td>0.278028</td><td>0.0849663</td><td>0.0631224</td></tr><tr><th>2</th><td>GROMBÜHL</td><td>0.0824923</td><td>0.160816</td><td>0.317244</td><td>0.1086</td><td>0.0443177</td></tr><tr><th>3</th><td>ALTSTADT</td><td>0.0666454</td><td>0.186208</td><td>0.34057</td><td>0.122755</td><td>0.0380717</td></tr><tr><th>4</th><td>SANDERAU</td><td>0.0602764</td><td>0.212273</td><td>0.31422</td><td>0.106517</td><td>0.0360135</td></tr><tr><th>5</th><td>FRAUENLAND</td><td>0.0496936</td><td>0.2406</td><td>0.283005</td><td>0.118353</td><td>0.0430677</td></tr><tr><th>6</th><td>Gemeinde Gerbrunn</td><td>0.0461353</td><td>0.2657</td><td>0.225121</td><td>0.0987923</td><td>0.0538647</td></tr><tr><th>7</th><td>LINDLEINSMÜHLE</td><td>0.0451128</td><td>0.303571</td><td>0.119831</td><td>0.0864662</td><td>0.129229</td></tr><tr><th>8</th><td>HEIDINGSFELD</td><td>0.0433097</td><td>0.301314</td><td>0.180991</td><td>0.0925177</td><td>0.0682508</td></tr><tr><th>9</th><td>STEINBACHTAL</td><td>0.040595</td><td>0.29718</td><td>0.253176</td><td>0.169817</td><td>0.0393554</td></tr><tr><th>10</th><td>Markt Remlingen</td><td>0.04</td><td>0.308293</td><td>0.138537</td><td>0.0868293</td><td>0.0917073</td></tr><tr><th>11</th><td>LENGFELD</td><td>0.0375506</td><td>0.294328</td><td>0.181988</td><td>0.11125</td><td>0.068713</td></tr><tr><th>12</th><td>HEUCHELHOF</td><td>0.0375204</td><td>0.2969</td><td>0.131671</td><td>0.0990445</td><td>0.150315</td></tr><tr><th>13</th><td>VERSBACH</td><td>0.0373168</td><td>0.286401</td><td>0.197802</td><td>0.101419</td><td>0.0638736</td></tr><tr><th>14</th><td>Markt Randersacker</td><td>0.0371622</td><td>0.307432</td><td>0.177787</td><td>0.0996622</td><td>0.0646115</td></tr><tr><th>15</th><td>DÜRRBACHTAL</td><td>0.0352304</td><td>0.318157</td><td>0.182656</td><td>0.102981</td><td>0.0655827</td></tr><tr><th>16</th><td>Gemeinde Margetshöchheim</td><td>0.0340557</td><td>0.298983</td><td>0.195046</td><td>0.0937638</td><td>0.0468819</td></tr><tr><th>17</th><td>Gemeinde Eisingen</td><td>0.0329772</td><td>0.311194</td><td>0.153275</td><td>0.111008</td><td>0.0640966</td></tr><tr><th>18</th><td>Gemeinde Hausen b. Würzburg</td><td>0.0326531</td><td>0.406414</td><td>0.117784</td><td>0.0857143</td><td>0.0827988</td></tr><tr><th>19</th><td>Gemeinde Kleinrinderfeld</td><td>0.031994</td><td>0.298363</td><td>0.0959821</td><td>0.0922619</td><td>0.0825893</td></tr><tr><th>20</th><td>Markt Eisenheim</td><td>0.0316249</td><td>0.36205</td><td>0.139586</td><td>0.113413</td><td>0.0610687</td></tr><tr><th>21</th><td>ROTTENBAUER</td><td>0.0310583</td><td>0.294862</td><td>0.190951</td><td>0.113497</td><td>0.0889571</td></tr><tr><th>22</th><td>Gemeinde Veitshöchheim</td><td>0.0306206</td><td>0.311118</td><td>0.17832</td><td>0.101195</td><td>0.0654986</td></tr><tr><th>23</th><td>Gemeinde Altertheim</td><td>0.0301471</td><td>0.325735</td><td>0.133824</td><td>0.0617647</td><td>0.0772059</td></tr><tr><th>24</th><td>Stadt Ochsenfurt</td><td>0.0299795</td><td>0.344399</td><td>0.12255</td><td>0.0911085</td><td>0.0833577</td></tr><tr><th>25</th><td>Markt Bütthard</td><td>0.0289855</td><td>0.441472</td><td>0.103679</td><td>0.0981048</td><td>0.0813824</td></tr><tr><th>26</th><td>Gemeinde Waldbüttelbrunn</td><td>0.0289369</td><td>0.306732</td><td>0.164179</td><td>0.0947304</td><td>0.0727993</td></tr><tr><th>27</th><td>Markt Höchberg</td><td>0.0276208</td><td>0.299435</td><td>0.21516</td><td>0.107031</td><td>0.0477087</td></tr><tr><th>28</th><td>Markt Reichenberg</td><td>0.0275645</td><td>0.292045</td><td>0.171668</td><td>0.106769</td><td>0.0680391</td></tr><tr><th>29</th><td>Markt Zell a.Main</td><td>0.0272388</td><td>0.278358</td><td>0.200373</td><td>0.1</td><td>0.0697761</td></tr><tr><th>30</th><td>Gemeinde Kirchheim</td><td>0.0266134</td><td>0.367265</td><td>0.123752</td><td>0.0758483</td><td>0.0738523</td></tr><tr><th>&vellip;</th><td>&vellip;</td><td>&vellip;</td><td>&vellip;</td><td>&vellip;</td><td>&vellip;</td><td>&vellip;</td></tr></tbody></table>"
      ],
      "text/latex": [
       "\\begin{tabular}{r|ccccccc}\n",
       "\t& gebiet-name & Linke & CSU & Grüne & FDP & AfD & \\\\\n",
       "\t\\hline\n",
       "\t& String & Float64 & Float64 & Float64 & Float64 & Float64 & \\\\\n",
       "\t\\hline\n",
       "\t1 & ZELLERAU & 0.0868937 & 0.188403 & 0.278028 & 0.0849663 & 0.0631224 & $\\dots$ \\\\\n",
       "\t2 & GROMBÜHL & 0.0824923 & 0.160816 & 0.317244 & 0.1086 & 0.0443177 & $\\dots$ \\\\\n",
       "\t3 & ALTSTADT & 0.0666454 & 0.186208 & 0.34057 & 0.122755 & 0.0380717 & $\\dots$ \\\\\n",
       "\t4 & SANDERAU & 0.0602764 & 0.212273 & 0.31422 & 0.106517 & 0.0360135 & $\\dots$ \\\\\n",
       "\t5 & FRAUENLAND & 0.0496936 & 0.2406 & 0.283005 & 0.118353 & 0.0430677 & $\\dots$ \\\\\n",
       "\t6 & Gemeinde Gerbrunn & 0.0461353 & 0.2657 & 0.225121 & 0.0987923 & 0.0538647 & $\\dots$ \\\\\n",
       "\t7 & LINDLEINSMÜHLE & 0.0451128 & 0.303571 & 0.119831 & 0.0864662 & 0.129229 & $\\dots$ \\\\\n",
       "\t8 & HEIDINGSFELD & 0.0433097 & 0.301314 & 0.180991 & 0.0925177 & 0.0682508 & $\\dots$ \\\\\n",
       "\t9 & STEINBACHTAL & 0.040595 & 0.29718 & 0.253176 & 0.169817 & 0.0393554 & $\\dots$ \\\\\n",
       "\t10 & Markt Remlingen & 0.04 & 0.308293 & 0.138537 & 0.0868293 & 0.0917073 & $\\dots$ \\\\\n",
       "\t11 & LENGFELD & 0.0375506 & 0.294328 & 0.181988 & 0.11125 & 0.068713 & $\\dots$ \\\\\n",
       "\t12 & HEUCHELHOF & 0.0375204 & 0.2969 & 0.131671 & 0.0990445 & 0.150315 & $\\dots$ \\\\\n",
       "\t13 & VERSBACH & 0.0373168 & 0.286401 & 0.197802 & 0.101419 & 0.0638736 & $\\dots$ \\\\\n",
       "\t14 & Markt Randersacker & 0.0371622 & 0.307432 & 0.177787 & 0.0996622 & 0.0646115 & $\\dots$ \\\\\n",
       "\t15 & DÜRRBACHTAL & 0.0352304 & 0.318157 & 0.182656 & 0.102981 & 0.0655827 & $\\dots$ \\\\\n",
       "\t16 & Gemeinde Margetshöchheim & 0.0340557 & 0.298983 & 0.195046 & 0.0937638 & 0.0468819 & $\\dots$ \\\\\n",
       "\t17 & Gemeinde Eisingen & 0.0329772 & 0.311194 & 0.153275 & 0.111008 & 0.0640966 & $\\dots$ \\\\\n",
       "\t18 & Gemeinde Hausen b. Würzburg & 0.0326531 & 0.406414 & 0.117784 & 0.0857143 & 0.0827988 & $\\dots$ \\\\\n",
       "\t19 & Gemeinde Kleinrinderfeld & 0.031994 & 0.298363 & 0.0959821 & 0.0922619 & 0.0825893 & $\\dots$ \\\\\n",
       "\t20 & Markt Eisenheim & 0.0316249 & 0.36205 & 0.139586 & 0.113413 & 0.0610687 & $\\dots$ \\\\\n",
       "\t21 & ROTTENBAUER & 0.0310583 & 0.294862 & 0.190951 & 0.113497 & 0.0889571 & $\\dots$ \\\\\n",
       "\t22 & Gemeinde Veitshöchheim & 0.0306206 & 0.311118 & 0.17832 & 0.101195 & 0.0654986 & $\\dots$ \\\\\n",
       "\t23 & Gemeinde Altertheim & 0.0301471 & 0.325735 & 0.133824 & 0.0617647 & 0.0772059 & $\\dots$ \\\\\n",
       "\t24 & Stadt Ochsenfurt & 0.0299795 & 0.344399 & 0.12255 & 0.0911085 & 0.0833577 & $\\dots$ \\\\\n",
       "\t25 & Markt Bütthard & 0.0289855 & 0.441472 & 0.103679 & 0.0981048 & 0.0813824 & $\\dots$ \\\\\n",
       "\t26 & Gemeinde Waldbüttelbrunn & 0.0289369 & 0.306732 & 0.164179 & 0.0947304 & 0.0727993 & $\\dots$ \\\\\n",
       "\t27 & Markt Höchberg & 0.0276208 & 0.299435 & 0.21516 & 0.107031 & 0.0477087 & $\\dots$ \\\\\n",
       "\t28 & Markt Reichenberg & 0.0275645 & 0.292045 & 0.171668 & 0.106769 & 0.0680391 & $\\dots$ \\\\\n",
       "\t29 & Markt Zell a.Main & 0.0272388 & 0.278358 & 0.200373 & 0.1 & 0.0697761 & $\\dots$ \\\\\n",
       "\t30 & Gemeinde Kirchheim & 0.0266134 & 0.367265 & 0.123752 & 0.0758483 & 0.0738523 & $\\dots$ \\\\\n",
       "\t$\\dots$ & $\\dots$ & $\\dots$ & $\\dots$ & $\\dots$ & $\\dots$ & $\\dots$ &  \\\\\n",
       "\\end{tabular}\n"
      ],
      "text/plain": [
       "65×7 DataFrame. Omitted printing of 3 columns\n",
       "│ Row │ gebiet-name                │ Linke     │ CSU      │ Grüne     │\n",
       "│     │ \u001b[90mString\u001b[39m                     │ \u001b[90mFloat64\u001b[39m   │ \u001b[90mFloat64\u001b[39m  │ \u001b[90mFloat64\u001b[39m   │\n",
       "├─────┼────────────────────────────┼───────────┼──────────┼───────────┤\n",
       "│ 1   │ ZELLERAU                   │ 0.0868937 │ 0.188403 │ 0.278028  │\n",
       "│ 2   │ GROMBÜHL                   │ 0.0824923 │ 0.160816 │ 0.317244  │\n",
       "│ 3   │ ALTSTADT                   │ 0.0666454 │ 0.186208 │ 0.34057   │\n",
       "│ 4   │ SANDERAU                   │ 0.0602764 │ 0.212273 │ 0.31422   │\n",
       "│ 5   │ FRAUENLAND                 │ 0.0496936 │ 0.2406   │ 0.283005  │\n",
       "│ 6   │ Gemeinde Gerbrunn          │ 0.0461353 │ 0.2657   │ 0.225121  │\n",
       "│ 7   │ LINDLEINSMÜHLE             │ 0.0451128 │ 0.303571 │ 0.119831  │\n",
       "│ 8   │ HEIDINGSFELD               │ 0.0433097 │ 0.301314 │ 0.180991  │\n",
       "│ 9   │ STEINBACHTAL               │ 0.040595  │ 0.29718  │ 0.253176  │\n",
       "│ 10  │ Markt Remlingen            │ 0.04      │ 0.308293 │ 0.138537  │\n",
       "⋮\n",
       "│ 55  │ Markt Sommerhausen         │ 0.0201729 │ 0.376801 │ 0.174352  │\n",
       "│ 56  │ Gemeinde Thüngersheim      │ 0.0198123 │ 0.308655 │ 0.157977  │\n",
       "│ 57  │ Gemeinde Güntersleben      │ 0.0196732 │ 0.305769 │ 0.125709  │\n",
       "│ 58  │ Gemeinde Waldbrunn         │ 0.0186143 │ 0.38211  │ 0.144778  │\n",
       "│ 59  │ Gemeinde Kist              │ 0.0185723 │ 0.319211 │ 0.0934417 │\n",
       "│ 60  │ Gemeinde Prosselsheim      │ 0.0184957 │ 0.393342 │ 0.0838471 │\n",
       "│ 61  │ Markt Neubrunn             │ 0.0177112 │ 0.385559 │ 0.115804  │\n",
       "│ 62  │ Gemeinde Gaukönigshofen    │ 0.0171821 │ 0.469072 │ 0.105956  │\n",
       "│ 63  │ Stadt Aub                  │ 0.015544  │ 0.417617 │ 0.11399   │\n",
       "│ 64  │ Markt Frickenhausen a.Main │ 0.0147059 │ 0.38848  │ 0.0992647 │\n",
       "│ 65  │ Markt Gelchsheim           │ 0.010274  │ 0.414384 │ 0.0719178 │"
      ]
     },
     "execution_count": 16,
     "metadata": {
     },
     "output_type": "execute_result"
    }
   ],
   "source": [
    "sort(relative_stimmen, :Linke, rev=true)[:,[\"gebiet-name\",\"Linke\", \"CSU\",\"Grüne\",\"FDP\",\"AfD\",\"SPD\"]]"
   ]
  }
 ],
 "metadata": {
  "kernelspec": {
   "display_name": "Julia 1.6",
   "env": {
    "JULIA_DEPOT_PATH": "/home/user/.julia/:/ext/julia/depot/",
    "JULIA_PROJECT": "/home/user/.julia/environment/v1.6"
   },
   "language": "julia",
   "metadata": {
    "cocalc": {
     "description": "The Julia Programming Language",
     "priority": 10,
     "url": "https://julialang.org/"
    }
   },
   "name": "julia-1.6",
   "resource_dir": "/ext/jupyter/kernels/julia-1.6"
  },
  "language_info": {
   "file_extension": ".jl",
   "mimetype": "application/julia",
   "name": "julia",
   "version": "1.6.3"
  }
 },
 "nbformat": 4,
 "nbformat_minor": 4
}