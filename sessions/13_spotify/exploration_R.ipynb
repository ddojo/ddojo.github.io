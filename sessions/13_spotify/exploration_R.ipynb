{
 "cells": [
  {
   "cell_type": "markdown",
   "metadata": {},
   "source": [
    "# Spotify listening history"
   ]
  },
  {
   "cell_type": "code",
   "execution_count": null,
   "metadata": {
    "collapsed": false,
    "jupyter": {
     "outputs_hidden": false
    }
   },
   "outputs": [],
   "source": [
    "sample(c(\"Oliver\", \"Robin\", \"Mike\", \"Jörg\", \"Markus\"))"
   ]
  },
  {
   "cell_type": "code",
   "execution_count": null,
   "metadata": {
    "collapsed": false,
    "jupyter": {
     "outputs_hidden": false
    },
    "scrolled": true
   },
   "outputs": [],
   "source": [
    "library(tidyverse)\n",
    "library(lubridate)"
   ]
  },
  {
   "cell_type": "markdown",
   "metadata": {},
   "source": [
    "## Data loading"
   ]
  },
  {
   "cell_type": "code",
   "execution_count": null,
   "metadata": {
    "collapsed": false,
    "jupyter": {
     "outputs_hidden": false
    },
    "scrolled": true
   },
   "outputs": [],
   "source": [
    "data <- tibble(js=jsonlite::read_json(\"spotify.json\")) %>% unnest_wider(js)"
   ]
  },
  {
   "cell_type": "code",
   "execution_count": null,
   "metadata": {
    "collapsed": false,
    "jupyter": {
     "outputs_hidden": false
    },
    "scrolled": true
   },
   "outputs": [],
   "source": [
    "glimpse(data)"
   ]
  },
  {
   "cell_type": "code",
   "execution_count": null,
   "metadata": {
    "collapsed": false,
    "jupyter": {
     "outputs_hidden": false
    }
   },
   "outputs": [],
   "source": [
    "head(data)"
   ]
  },
  {
   "cell_type": "markdown",
   "metadata": {},
   "source": [
    "## Day vs Night"
   ]
  },
  {
   "cell_type": "code",
   "execution_count": null,
   "metadata": {},
   "outputs": [],
   "source": [
    "data %>% \n",
    "    mutate(time = ymd_hms(ts, locale = \"de_DE.utf8\"), hour = hour(time), clock=hms::as_hms(time)) %>% \n",
    "    select(ts, time, hour, clock) %>% \n",
    "    ggplot(aes(x = clock)) + geom_density()\n",
    "    #identity"
   ]
  },
  {
   "cell_type": "code",
   "execution_count": null,
   "metadata": {},
   "outputs": [],
   "source": [
    "data %>% \n",
    "    mutate(time = ymd_hms(ts, locale = \"de_DE.utf8\"), hour = hour(time), clock=hms::as_hms(time)) %>% \n",
    "    select(ts, time, hour, clock) %>% \n",
    "    ggplot(aes(x = clock)) + geom_density() + facet_wrap(~year(time))\n",
    "    #identity"
   ]
  },
  {
   "cell_type": "code",
   "execution_count": null,
   "metadata": {},
   "outputs": [],
   "source": [
    "data %>% \n",
    "    mutate(time = ymd_hms(ts),\n",
    "           hour = hour(time), clock=hms::as_hms(time),\n",
    "           timeInGermany = with_tz(time, tzone = \"Europe/Berlin\")) %>% \n",
    "ggplot(aes(x = hms::as_hms(timeInGermany))) + geom_density() + \n",
    "    geom_vline(xintercept = hms(\"14:00:00\")) +\n",
    "    geom_vline(xintercept = hms(\"17:00:00\")) +\n",
    "    geom_vline(xintercept = hms(\"21:00:00\")) +\n",
    "    geom_vline(xintercept = hms(\"3:00:00\"))\n"
   ]
  },
  {
   "cell_type": "code",
   "execution_count": null,
   "metadata": {},
   "outputs": [],
   "source": [
    "prepared_data <- data %>% filter(reason_end==\"endplay\" | reason_end==\"trackdone\") %>%\n",
    "    mutate(time = ymd_hms(ts),\n",
    "           timeInGermany = with_tz(time, tzone = \"Europe/Berlin\"),  \n",
    "            clock=hms::as_hms(timeInGermany), \n",
    "          hour = hour(timeInGermany), \n",
    "          daymusic = hour>=14 & hour<=17,\n",
    "          nightmusic = hour>=21 | hour<=3,\n",
    "    )"
   ]
  },
  {
   "cell_type": "code",
   "execution_count": null,
   "metadata": {},
   "outputs": [],
   "source": [
    "prepared_data %>% count(master_metadata_track_name, daymusic, nightmusic) %>%\n",
    "filter(daymusic|nightmusic) %>% group_by(master_metadata_track_name) %>%\n",
    "filter(n()<2) %>% ungroup %>% count(nightmusic)"
   ]
  },
  {
   "cell_type": "code",
   "execution_count": null,
   "metadata": {},
   "outputs": [],
   "source": [
    "prepared_data %>% count(master_metadata_track_name, daymusic, nightmusic) %>%\n",
    "filter(daymusic|nightmusic) %>% group_by(master_metadata_track_name) %>%\n",
    "filter(n()>1) %>% dim()"
   ]
  },
  {
   "cell_type": "code",
   "execution_count": null,
   "metadata": {},
   "outputs": [],
   "source": [
    "prepared_data %>% count(daymusic, nightmusic)"
   ]
  },
  {
   "cell_type": "code",
   "execution_count": null,
   "metadata": {},
   "outputs": [],
   "source": [
    "intersection_songs = prepared_data %>% count(master_metadata_track_name, daymusic, nightmusic) %>%\n",
    "filter(daymusic|nightmusic) %>% group_by(master_metadata_track_name) %>%\n",
    "filter(n()>1) %>% pull(master_metadata_track_name) %>% unique"
   ]
  },
  {
   "cell_type": "code",
   "execution_count": null,
   "metadata": {},
   "outputs": [],
   "source": [
    "prepared_data %>% filter(master_metadata_track_name %in% intersection_songs) %>%\n",
    "    count(daymusic, nightmusic)"
   ]
  }
 ],
 "metadata": {
  "kernelspec": {
   "display_name": "R",
   "language": "R",
   "name": "ir"
  },
  "language_info": {
   "codemirror_mode": "r",
   "file_extension": ".r",
   "mimetype": "text/x-r-source",
   "name": "R",
   "pygments_lexer": "r",
   "version": "4.1.2"
  }
 },
 "nbformat": 4,
 "nbformat_minor": 4
}
